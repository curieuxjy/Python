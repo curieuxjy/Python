{
 "cells": [
  {
   "cell_type": "markdown",
   "id": "comprehensive-while",
   "metadata": {},
   "source": [
    "# [프로그래머스 문자열 다루기 기본](https://programmers.co.kr/learn/courses/30/lessons/12918)\n",
    "\n",
    "문자열 s의 길이가 4 혹은 6이고, 숫자로만 구성돼있는지 확인해주는 함수, solution을 완성하세요. 예를 들어 s가 \"a234\"이면 False를 리턴하고 \"1234\"라면 True를 리턴하면 됩니다.\n",
    "\n",
    "제한 사항\n",
    "s는 길이 1 이상, 길이 8 이하인 문자열입니다.\n"
   ]
  },
  {
   "cell_type": "code",
   "execution_count": 15,
   "id": "attended-object",
   "metadata": {},
   "outputs": [],
   "source": [
    "def solution(s:str)->bool:\n",
    "    if s.isdigit():\n",
    "        if (len(s)==4) or (len(s)==6):\n",
    "            return True\n",
    "        else: \n",
    "            return False\n",
    "    else: \n",
    "        return False"
   ]
  },
  {
   "cell_type": "code",
   "execution_count": 16,
   "id": "objective-taiwan",
   "metadata": {},
   "outputs": [],
   "source": [
    "s1 = \"a23456\"\n",
    "s2 = \"1234\"\n",
    "s3 = \"12345\"\n",
    "s4 = \"1 34\""
   ]
  },
  {
   "cell_type": "code",
   "execution_count": 17,
   "id": "subsequent-poland",
   "metadata": {},
   "outputs": [
    {
     "data": {
      "text/plain": [
       "False"
      ]
     },
     "execution_count": 17,
     "metadata": {},
     "output_type": "execute_result"
    }
   ],
   "source": [
    "solution(s4)"
   ]
  },
  {
   "cell_type": "markdown",
   "id": "egyptian-sense",
   "metadata": {},
   "source": [
    "- `len(s) in (4,6)`이라는 표현이 참신"
   ]
  },
  {
   "cell_type": "code",
   "execution_count": 18,
   "id": "cardiovascular-president",
   "metadata": {},
   "outputs": [],
   "source": [
    "def alpha_string46(s):\n",
    "    return s.isdigit() and len(s) in (4, 6)"
   ]
  },
  {
   "cell_type": "markdown",
   "id": "german-manitoba",
   "metadata": {},
   "source": [
    "- 정규식 표현 d:digit"
   ]
  },
  {
   "cell_type": "code",
   "execution_count": 19,
   "id": "proud-manner",
   "metadata": {},
   "outputs": [],
   "source": [
    "def alpha_string46(s):\n",
    "    import re\n",
    "    return bool(re.match(\"^(\\d{4}|\\d{6})$\", s))"
   ]
  },
  {
   "cell_type": "markdown",
   "id": "significant-colombia",
   "metadata": {},
   "source": [
    "- `isdigit()`를 안쓰고 풀이 - 숫자 스트링과 비교"
   ]
  },
  {
   "cell_type": "code",
   "execution_count": 20,
   "id": "brave-photography",
   "metadata": {},
   "outputs": [],
   "source": [
    "def alpha_string46(s):\n",
    "    #함수를 완성하세요\n",
    "    if (len(s) == 4) or (len(s) == 6):\n",
    "        for i in s:\n",
    "            if i not in '1234567890':\n",
    "                return False\n",
    "        return True\n",
    "    else:\n",
    "        return False"
   ]
  },
  {
   "cell_type": "markdown",
   "id": "undefined-sunset",
   "metadata": {},
   "source": [
    "- `isdigit()`를 안쓰고 풀이 - `int()`이용"
   ]
  },
  {
   "cell_type": "code",
   "execution_count": 21,
   "id": "existing-guyana",
   "metadata": {},
   "outputs": [],
   "source": [
    "def alpha_string46(s):\n",
    "    if len(s) == 4 or len(s) == 6:\n",
    "        try:\n",
    "            int(s)\n",
    "            return True\n",
    "        except ValueError:\n",
    "            return False\n",
    "    else : \n",
    "        return False"
   ]
  }
 ],
 "metadata": {
  "kernelspec": {
   "display_name": "Python 3",
   "language": "python",
   "name": "python3"
  },
  "language_info": {
   "codemirror_mode": {
    "name": "ipython",
    "version": 3
   },
   "file_extension": ".py",
   "mimetype": "text/x-python",
   "name": "python",
   "nbconvert_exporter": "python",
   "pygments_lexer": "ipython3",
   "version": "3.8.8"
  }
 },
 "nbformat": 4,
 "nbformat_minor": 5
}
