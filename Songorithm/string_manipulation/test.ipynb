{
 "cells": [
  {
   "cell_type": "markdown",
   "id": "governing-cement",
   "metadata": {},
   "source": [
    "test"
   ]
  },
  {
   "cell_type": "markdown",
   "id": "established-iraqi",
   "metadata": {},
   "source": [
    "[![Colab Badge](http://img.shields.io/badge/Colaboratory-black?style=for-the-badge&logo=googlecolab&link=https://colab.research.google.com/github/curieuxjy/Python/Lecture_code/control.ipynb)](https://colab.research.google.com/github/curieuxjy/Python/Lecture_code/control.ipynb)"
   ]
  },
  {
   "cell_type": "code",
   "execution_count": null,
   "id": "individual-amazon",
   "metadata": {},
   "outputs": [],
   "source": []
  }
 ],
 "metadata": {
  "kernelspec": {
   "display_name": "Python 3",
   "language": "python",
   "name": "python3"
  },
  "language_info": {
   "codemirror_mode": {
    "name": "ipython",
    "version": 3
   },
   "file_extension": ".py",
   "mimetype": "text/x-python",
   "name": "python",
   "nbconvert_exporter": "python",
   "pygments_lexer": "ipython3",
   "version": "3.8.8"
  }
 },
 "nbformat": 4,
 "nbformat_minor": 5
}
