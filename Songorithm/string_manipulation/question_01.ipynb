{
 "cells": [
  {
   "cell_type": "markdown",
   "id": "creative-gravity",
   "metadata": {},
   "source": [
    "[![Colab Badge](http://img.shields.io/badge/Colaboratory-black?style=for-the-badge&logo=google-colab)](https://colab.research.google.com/github/curieuxjy/Python/blob/master/Songorithm/string_manipulation/question_01.ipynb)"
   ]
  },
  {
   "cell_type": "markdown",
   "id": "corporate-copyright",
   "metadata": {},
   "source": [
    "주어진 문자열이 팰린드롬인지 확인하라. 대소문자를 구분하지 않으며, 영문자와 숫자만을 대상으로 한다.\n",
    "- input\n",
    "```\n",
    "sentence = \"A man, a plan, a canal: Panama\"\n",
    "```\n",
    "- output\n",
    "```\n",
    "true\n",
    "```"
   ]
  },
  {
   "cell_type": "code",
   "execution_count": 5,
   "id": "understanding-guest",
   "metadata": {},
   "outputs": [],
   "source": [
    "sentence = \"A man, a plan, a canal: Panama\""
   ]
  },
  {
   "cell_type": "code",
   "execution_count": 3,
   "id": "finite-banana",
   "metadata": {},
   "outputs": [
    {
     "name": "stdout",
     "output_type": "stream",
     "text": [
      "['A', 'm', 'a', 'n', 'a', 'p', 'l', 'a', 'n', 'a', 'c', 'a', 'n', 'a', 'l', 'P', 'a', 'n', 'a', 'm', 'a']\n"
     ]
    }
   ],
   "source": [
    "# step 1\n",
    "strs = []\n",
    "for letter in sentence:\n",
    "    if letter.isalnum():\n",
    "        # isalnum : 영문자, 숫자, 한글 판별하는 함수\n",
    "        strs.append(letter)\n",
    "print(strs)"
   ]
  },
  {
   "cell_type": "code",
   "execution_count": 4,
   "id": "mental-definition",
   "metadata": {},
   "outputs": [
    {
     "name": "stdout",
     "output_type": "stream",
     "text": [
      "False\n",
      "False\n"
     ]
    }
   ],
   "source": [
    "while len(strs) > 1:\n",
    "    if strs.pop(0) != strs.pop():\n",
    "        print(\"False\")"
   ]
  },
  {
   "cell_type": "code",
   "execution_count": 5,
   "id": "shaped-journal",
   "metadata": {},
   "outputs": [],
   "source": [
    "def isPalindrome(s:str) -> bool:\n",
    "    # preprocessing\n",
    "    strs = []\n",
    "    for char in s:\n",
    "        if char.isalnum():\n",
    "            strs.append(char.lower())\n",
    "\n",
    "    # tell the result\n",
    "    print(strs)\n",
    "    while len(strs) > 1: # using pop()'s property\n",
    "        if strs.pop(0) != strs.pop():\n",
    "            return False\n",
    "\n",
    "    return True"
   ]
  },
  {
   "cell_type": "code",
   "execution_count": 6,
   "id": "physical-hartford",
   "metadata": {},
   "outputs": [
    {
     "name": "stdout",
     "output_type": "stream",
     "text": [
      "['a', 'm', 'a', 'n', 'a', 'p', 'l', 'a', 'n', 'a', 'c', 'a', 'n', 'a', 'l', 'p', 'a', 'n', 'a', 'm', 'a']\n"
     ]
    },
    {
     "data": {
      "text/plain": [
       "True"
      ]
     },
     "execution_count": 6,
     "metadata": {},
     "output_type": "execute_result"
    }
   ],
   "source": [
    "isPalindrome(sentence)"
   ]
  },
  {
   "cell_type": "code",
   "execution_count": 7,
   "id": "developed-lover",
   "metadata": {},
   "outputs": [],
   "source": [
    "import collections\n",
    "\n",
    "def isPalindrome2(s:str) -> bool:\n",
    "    # deque\n",
    "    strs: Deque = collections.deque()\n",
    "\n",
    "    for char in s:\n",
    "        \n",
    "        if char.isalnum():\n",
    "            strs.append(char.lower())\n",
    "    while len(strs) > 1:\n",
    "        if strs.popleft() != strs.pop():\n",
    "            return False\n",
    "    return True"
   ]
  },
  {
   "cell_type": "code",
   "execution_count": 8,
   "id": "changed-brook",
   "metadata": {},
   "outputs": [
    {
     "data": {
      "text/plain": [
       "True"
      ]
     },
     "execution_count": 8,
     "metadata": {},
     "output_type": "execute_result"
    }
   ],
   "source": [
    "isPalindrome2(sentence)"
   ]
  },
  {
   "cell_type": "code",
   "execution_count": 9,
   "id": "intense-alfred",
   "metadata": {},
   "outputs": [],
   "source": [
    "import re\n",
    "\n",
    "def isPalindrome3(s:str)->bool:\n",
    "  # 소문자로 먼저 바꿔주고\n",
    "  s = s.lower()\n",
    "  # 정규식으로 소문자와 숫자만 남김\n",
    "  s = re.sub('[^a-z0-9]', '', s)\n",
    "  # re.findall('['a-z0-9]', s)\n",
    "\n",
    "  return s == s[::-1] # slicing"
   ]
  },
  {
   "cell_type": "code",
   "execution_count": 10,
   "id": "running-novelty",
   "metadata": {},
   "outputs": [
    {
     "data": {
      "text/plain": [
       "True"
      ]
     },
     "execution_count": 10,
     "metadata": {},
     "output_type": "execute_result"
    }
   ],
   "source": [
    "isPalindrome3(sentence)"
   ]
  },
  {
   "cell_type": "markdown",
   "id": "unnecessary-calendar",
   "metadata": {},
   "source": [
    "## 2"
   ]
  },
  {
   "cell_type": "code",
   "execution_count": 14,
   "id": "innocent-sandwich",
   "metadata": {},
   "outputs": [],
   "source": [
    "user_input = [\"h\", \"e\", \"l\", \"l\", \"o\"]"
   ]
  }
 ],
 "metadata": {
  "kernelspec": {
   "display_name": "Python 3",
   "language": "python",
   "name": "python3"
  },
  "language_info": {
   "codemirror_mode": {
    "name": "ipython",
    "version": 3
   },
   "file_extension": ".py",
   "mimetype": "text/x-python",
   "name": "python",
   "nbconvert_exporter": "python",
   "pygments_lexer": "ipython3",
   "version": "3.8.8"
  }
 },
 "nbformat": 4,
 "nbformat_minor": 5
}
