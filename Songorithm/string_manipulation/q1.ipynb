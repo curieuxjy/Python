{
 "cells": [
  {
   "cell_type": "markdown",
   "id": "manual-moscow",
   "metadata": {},
   "source": [
    "[![Colab Badge](http://img.shields.io/badge/Colaboratory-black?style=for-the-badge&logo=google-colab&link=https://colab.research.google.com/github/curieuxjy/Python/blob/master/Songorithm/string_manipulation/q1.ipynb)](https://colab.research.google.com/github/curieuxjy/Python/blob/master/Songorithm/string_manipulation/q1.ipynb)"
   ]
  },
  {
   "cell_type": "markdown",
   "id": "unable-lewis",
   "metadata": {},
   "source": [
    "[![Open In Colab](https://colab.research.google.com/assets/colab-badge.svg)](https://colab.research.google.com/github/curieuxjy/Python/blob/master/Songorithm/string_manipulation/q1.ipynb)"
   ]
  },
  {
   "cell_type": "code",
   "execution_count": 1,
   "id": "married-norman",
   "metadata": {},
   "outputs": [],
   "source": [
    "sentence = \"A man, a plan, a canal: Panama\""
   ]
  },
  {
   "cell_type": "code",
   "execution_count": 2,
   "id": "found-pepper",
   "metadata": {},
   "outputs": [
    {
     "name": "stdout",
     "output_type": "stream",
     "text": [
      "['A', 'm', 'a', 'n', 'a', 'p', 'l', 'a', 'n', 'a', 'c', 'a', 'n', 'a', 'l', 'P', 'a', 'n', 'a', 'm', 'a']\n"
     ]
    }
   ],
   "source": [
    "# user_input = input()\n",
    "\n",
    "# step 1\n",
    "strs = []\n",
    "for letter in sentence:\n",
    "  if letter.isalnum():\n",
    "    # isalnum : 영문자, 숫자, 한글 판별하는 함수\n",
    "    strs.append(letter)\n",
    "  \n",
    "print(strs)"
   ]
  },
  {
   "cell_type": "code",
   "execution_count": 3,
   "id": "sudden-april",
   "metadata": {},
   "outputs": [
    {
     "name": "stdout",
     "output_type": "stream",
     "text": [
      "False\n",
      "False\n"
     ]
    }
   ],
   "source": [
    "while len(strs) > 1:\n",
    "    if strs.pop(0) != strs.pop():\n",
    "        print(\"False\")"
   ]
  },
  {
   "cell_type": "code",
   "execution_count": 6,
   "id": "extreme-newsletter",
   "metadata": {},
   "outputs": [],
   "source": [
    "def isPalindrome(s:str) -> bool:\n",
    "    # preprocessing\n",
    "    strs = []\n",
    "    for char in s:\n",
    "        if char.isalnum():\n",
    "            strs.append(char.lower())\n",
    "\n",
    "    # tell the result\n",
    "    print(strs)\n",
    "    while len(strs) > 1: # using pop()'s property\n",
    "        if strs.pop(0) != strs.pop():\n",
    "            return False\n",
    "\n",
    "    return True"
   ]
  },
  {
   "cell_type": "code",
   "execution_count": 7,
   "id": "governing-illinois",
   "metadata": {},
   "outputs": [
    {
     "name": "stdout",
     "output_type": "stream",
     "text": [
      "['a', 'm', 'a', 'n', 'a', 'p', 'l', 'a', 'n', 'a', 'c', 'a', 'n', 'a', 'l', 'p', 'a', 'n', 'a', 'm', 'a']\n"
     ]
    },
    {
     "data": {
      "text/plain": [
       "True"
      ]
     },
     "execution_count": 7,
     "metadata": {},
     "output_type": "execute_result"
    }
   ],
   "source": [
    "isPalindrome(sentence)"
   ]
  },
  {
   "cell_type": "code",
   "execution_count": 10,
   "id": "liquid-miller",
   "metadata": {},
   "outputs": [],
   "source": [
    "import collections\n",
    "\n",
    "def isPalindrome2(s:str) -> bool:\n",
    "    # deque\n",
    "    strs: Deque = collections.deque()\n",
    "\n",
    "    for char in s:\n",
    "        \n",
    "        if char.isalnum():\n",
    "            strs.append(char.lower())\n",
    "    while len(strs) > 1:\n",
    "        if strs.popleft() != strs.pop():\n",
    "            return False\n",
    "    return True"
   ]
  },
  {
   "cell_type": "code",
   "execution_count": 11,
   "id": "important-economy",
   "metadata": {},
   "outputs": [
    {
     "data": {
      "text/plain": [
       "True"
      ]
     },
     "execution_count": 11,
     "metadata": {},
     "output_type": "execute_result"
    }
   ],
   "source": [
    "isPalindrome2(sentence)"
   ]
  },
  {
   "cell_type": "code",
   "execution_count": 12,
   "id": "dynamic-transcript",
   "metadata": {},
   "outputs": [],
   "source": [
    "import re\n",
    "\n",
    "def isPalindrome3(s:str)->bool:\n",
    "  # 소문자로 먼저 바꿔주고\n",
    "  s = s.lower()\n",
    "  # 정규식으로 소문자와 숫자만 남김\n",
    "  s = re.sub('[^a-z0-9]', '', s)\n",
    "  # re.findall('['a-z0-9]', s)\n",
    "\n",
    "  return s == s[::-1] # slicing"
   ]
  },
  {
   "cell_type": "code",
   "execution_count": 13,
   "id": "speaking-tutorial",
   "metadata": {},
   "outputs": [
    {
     "data": {
      "text/plain": [
       "True"
      ]
     },
     "execution_count": 13,
     "metadata": {},
     "output_type": "execute_result"
    }
   ],
   "source": [
    "isPalindrome3(sentence)"
   ]
  },
  {
   "cell_type": "markdown",
   "id": "driving-petersburg",
   "metadata": {},
   "source": [
    "## 2"
   ]
  },
  {
   "cell_type": "code",
   "execution_count": 14,
   "id": "warming-massachusetts",
   "metadata": {},
   "outputs": [],
   "source": [
    "user_input = [\"h\", \"e\", \"l\", \"l\", \"o\"]"
   ]
  },
  {
   "cell_type": "markdown",
   "id": "fewer-inspiration",
   "metadata": {},
   "source": [
    "# [프로그래머스 문자열 다루기 기본](https://programmers.co.kr/learn/courses/30/lessons/12918)\n",
    "\n",
    "문자열 s의 길이가 4 혹은 6이고, 숫자로만 구성돼있는지 확인해주는 함수, solution을 완성하세요. 예를 들어 s가 \"a234\"이면 False를 리턴하고 \"1234\"라면 True를 리턴하면 됩니다.\n",
    "\n",
    "제한 사항\n",
    "s는 길이 1 이상, 길이 8 이하인 문자열입니다.\n"
   ]
  },
  {
   "cell_type": "code",
   "execution_count": 15,
   "id": "prerequisite-fifteen",
   "metadata": {},
   "outputs": [],
   "source": [
    "def solution(s:str)->bool:\n",
    "    if s.isdigit():\n",
    "        if (len(s)==4) or (len(s)==6):\n",
    "            return True\n",
    "        else: \n",
    "            return False\n",
    "    else: \n",
    "        return False"
   ]
  },
  {
   "cell_type": "code",
   "execution_count": 16,
   "id": "hungry-harassment",
   "metadata": {},
   "outputs": [],
   "source": [
    "s1 = \"a23456\"\n",
    "s2 = \"1234\"\n",
    "s3 = \"12345\"\n",
    "s4 = \"1 34\""
   ]
  },
  {
   "cell_type": "code",
   "execution_count": 17,
   "id": "inner-journal",
   "metadata": {},
   "outputs": [
    {
     "data": {
      "text/plain": [
       "False"
      ]
     },
     "execution_count": 17,
     "metadata": {},
     "output_type": "execute_result"
    }
   ],
   "source": [
    "solution(s4)"
   ]
  },
  {
   "cell_type": "markdown",
   "id": "underlying-inclusion",
   "metadata": {},
   "source": [
    "- `len(s) in (4,6)`이라는 표현이 참신"
   ]
  },
  {
   "cell_type": "code",
   "execution_count": 18,
   "id": "mighty-sociology",
   "metadata": {},
   "outputs": [],
   "source": [
    "def alpha_string46(s):\n",
    "    return s.isdigit() and len(s) in (4, 6)"
   ]
  },
  {
   "cell_type": "markdown",
   "id": "three-ideal",
   "metadata": {},
   "source": [
    "- 정규식 표현 d:digit"
   ]
  },
  {
   "cell_type": "code",
   "execution_count": 19,
   "id": "false-mongolia",
   "metadata": {},
   "outputs": [],
   "source": [
    "def alpha_string46(s):\n",
    "    import re\n",
    "    return bool(re.match(\"^(\\d{4}|\\d{6})$\", s))"
   ]
  },
  {
   "cell_type": "markdown",
   "id": "suitable-teach",
   "metadata": {},
   "source": [
    "- `isdigit()`를 안쓰고 풀이 - 숫자 스트링과 비교"
   ]
  },
  {
   "cell_type": "code",
   "execution_count": 20,
   "id": "nervous-tanzania",
   "metadata": {},
   "outputs": [],
   "source": [
    "def alpha_string46(s):\n",
    "    #함수를 완성하세요\n",
    "    if (len(s) == 4) or (len(s) == 6):\n",
    "        for i in s:\n",
    "            if i not in '1234567890':\n",
    "                return False\n",
    "        return True\n",
    "    else:\n",
    "        return False"
   ]
  },
  {
   "cell_type": "markdown",
   "id": "extended-excellence",
   "metadata": {},
   "source": [
    "- `isdigit()`를 안쓰고 풀이 - `int()`이용"
   ]
  },
  {
   "cell_type": "code",
   "execution_count": 21,
   "id": "strategic-advice",
   "metadata": {},
   "outputs": [],
   "source": [
    "def alpha_string46(s):\n",
    "    if len(s) == 4 or len(s) == 6:\n",
    "        try:\n",
    "            int(s)\n",
    "            return True\n",
    "        except ValueError:\n",
    "            return False\n",
    "    else : \n",
    "        return False"
   ]
  },
  {
   "cell_type": "markdown",
   "id": "correct-formula",
   "metadata": {},
   "source": [
    "# [Alternating Characters](https://www.hackerrank.com/challenges/alternating-characters/problem?h_l=interview&playlist_slugs%5B%5D=interview-preparation-kit&playlist_slugs%5B%5D=strings)\n",
    "\n",
    "![](https://s3.amazonaws.com/hr-assets/0/1502450721-a0a2e9b5bd-alternatingCharacter2.png)"
   ]
  },
  {
   "cell_type": "code",
   "execution_count": 22,
   "id": "printable-engagement",
   "metadata": {},
   "outputs": [],
   "source": [
    "s = \"\"\"5\n",
    "AAAA\n",
    "BBBBB\n",
    "ABABABAB\n",
    "BABABA\n",
    "AAABBB\"\"\""
   ]
  },
  {
   "cell_type": "code",
   "execution_count": 23,
   "id": "fossil-turner",
   "metadata": {},
   "outputs": [
    {
     "data": {
      "text/plain": [
       "'5\\nAAAA\\nBBBBB\\nABABABAB\\nBABABA\\nAAABBB'"
      ]
     },
     "execution_count": 23,
     "metadata": {},
     "output_type": "execute_result"
    }
   ],
   "source": [
    "s"
   ]
  },
  {
   "cell_type": "code",
   "execution_count": 27,
   "id": "military-butter",
   "metadata": {},
   "outputs": [
    {
     "data": {
      "text/plain": [
       "'A'"
      ]
     },
     "execution_count": 27,
     "metadata": {},
     "output_type": "execute_result"
    }
   ],
   "source": [
    "tmp = [i for i in  s.split(\"\\n\")]\n",
    "tmp[1][1]"
   ]
  },
  {
   "cell_type": "code",
   "execution_count": 25,
   "id": "promising-relevance",
   "metadata": {},
   "outputs": [
    {
     "ename": "IndentationError",
     "evalue": "expected an indented block (<ipython-input-25-31222bd38150>, line 8)",
     "output_type": "error",
     "traceback": [
      "\u001b[1;36m  File \u001b[1;32m\"<ipython-input-25-31222bd38150>\"\u001b[1;36m, line \u001b[1;32m8\u001b[0m\n\u001b[1;33m    if case[i] == case[i+1]\u001b[0m\n\u001b[1;37m    ^\u001b[0m\n\u001b[1;31mIndentationError\u001b[0m\u001b[1;31m:\u001b[0m expected an indented block\n"
     ]
    }
   ],
   "source": [
    "tmp = [i for i in  s.split(\"\\n\")]\n",
    "q = tmp.pop(0)\n",
    "for case in tmp:\n",
    "    # get 1 case : string\n",
    "    cnt = 0\n",
    "    for i in range(len(case)):\n",
    "        if i== len(case)-1:\n",
    "        if case[i] == case[i+1]\n",
    "    tmp_char = case.pop(0)\n",
    "    if tmp_char==case.pop(0):\n",
    "        cnt\n",
    "    \n",
    "        "
   ]
  },
  {
   "cell_type": "code",
   "execution_count": null,
   "id": "twelve-saturday",
   "metadata": {},
   "outputs": [],
   "source": []
  }
 ],
 "metadata": {
  "kernelspec": {
   "display_name": "Python 3",
   "language": "python",
   "name": "python3"
  },
  "language_info": {
   "codemirror_mode": {
    "name": "ipython",
    "version": 3
   },
   "file_extension": ".py",
   "mimetype": "text/x-python",
   "name": "python",
   "nbconvert_exporter": "python",
   "pygments_lexer": "ipython3",
   "version": "3.8.8"
  }
 },
 "nbformat": 4,
 "nbformat_minor": 5
}
