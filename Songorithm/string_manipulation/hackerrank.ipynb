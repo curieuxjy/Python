{
 "cells": [
  {
   "cell_type": "markdown",
   "id": "centered-loading",
   "metadata": {},
   "source": [
    "# [Alternating Characters](https://www.hackerrank.com/challenges/alternating-characters/problem?h_l=interview&playlist_slugs%5B%5D=interview-preparation-kit&playlist_slugs%5B%5D=strings)\n",
    "\n",
    "![](https://s3.amazonaws.com/hr-assets/0/1502450721-a0a2e9b5bd-alternatingCharacter2.png)"
   ]
  },
  {
   "cell_type": "code",
   "execution_count": 22,
   "id": "american-bride",
   "metadata": {},
   "outputs": [],
   "source": [
    "s = \"\"\"5\n",
    "AAAA\n",
    "BBBBB\n",
    "ABABABAB\n",
    "BABABA\n",
    "AAABBB\"\"\""
   ]
  },
  {
   "cell_type": "code",
   "execution_count": 23,
   "id": "boolean-essence",
   "metadata": {},
   "outputs": [
    {
     "data": {
      "text/plain": [
       "'5\\nAAAA\\nBBBBB\\nABABABAB\\nBABABA\\nAAABBB'"
      ]
     },
     "execution_count": 23,
     "metadata": {},
     "output_type": "execute_result"
    }
   ],
   "source": [
    "s"
   ]
  },
  {
   "cell_type": "code",
   "execution_count": 27,
   "id": "local-termination",
   "metadata": {},
   "outputs": [
    {
     "data": {
      "text/plain": [
       "'A'"
      ]
     },
     "execution_count": 27,
     "metadata": {},
     "output_type": "execute_result"
    }
   ],
   "source": [
    "tmp = [i for i in  s.split(\"\\n\")]\n",
    "tmp[1][1]"
   ]
  },
  {
   "cell_type": "code",
   "execution_count": 25,
   "id": "verified-coral",
   "metadata": {
    "collapsed": true,
    "jupyter": {
     "outputs_hidden": true
    }
   },
   "outputs": [
    {
     "ename": "IndentationError",
     "evalue": "expected an indented block (<ipython-input-25-31222bd38150>, line 8)",
     "output_type": "error",
     "traceback": [
      "\u001b[1;36m  File \u001b[1;32m\"<ipython-input-25-31222bd38150>\"\u001b[1;36m, line \u001b[1;32m8\u001b[0m\n\u001b[1;33m    if case[i] == case[i+1]\u001b[0m\n\u001b[1;37m    ^\u001b[0m\n\u001b[1;31mIndentationError\u001b[0m\u001b[1;31m:\u001b[0m expected an indented block\n"
     ]
    }
   ],
   "source": [
    "tmp = [i for i in  s.split(\"\\n\")]\n",
    "q = tmp.pop(0)\n",
    "for case in tmp:\n",
    "    # get 1 case : string\n",
    "    cnt = 0\n",
    "    for i in range(len(case)):\n",
    "        if i== len(case)-1:\n",
    "        if case[i] == case[i+1]\n",
    "    tmp_char = case.pop(0)\n",
    "    if tmp_char==case.pop(0):\n",
    "        cnt\n",
    "    \n",
    "        "
   ]
  }
 ],
 "metadata": {
  "kernelspec": {
   "display_name": "Python 3",
   "language": "python",
   "name": "python3"
  },
  "language_info": {
   "codemirror_mode": {
    "name": "ipython",
    "version": 3
   },
   "file_extension": ".py",
   "mimetype": "text/x-python",
   "name": "python",
   "nbconvert_exporter": "python",
   "pygments_lexer": "ipython3",
   "version": "3.8.8"
  }
 },
 "nbformat": 4,
 "nbformat_minor": 5
}
