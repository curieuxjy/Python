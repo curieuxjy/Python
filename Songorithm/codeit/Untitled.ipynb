{
 "cells": [
  {
   "cell_type": "markdown",
   "id": "promotional-attraction",
   "metadata": {},
   "source": [
    "- 반드시 for문을 사용하셔야 합니다.\n",
    "- append, insert 메소드와 del 함수를 사용하면 안됩니다.\n",
    "- 자동 채점 과제이기 때문에, 문제의 조건에 정확히 따라주시기 바랍니다. 띄어쓰기도 일치해야 합니다."
   ]
  },
  {
   "cell_type": "code",
   "execution_count": 1,
   "id": "abroad-spell",
   "metadata": {},
   "outputs": [
    {
     "name": "stdout",
     "output_type": "stream",
     "text": [
      "True\n",
      "False\n",
      "True\n",
      "True\n",
      "False\n"
     ]
    }
   ],
   "source": [
    "def is_palindrome(word):\n",
    "    # 코드를 입력하세요.\n",
    "    length = len(word)\n",
    "    ans = False\n",
    "    for i in range(length//2):\n",
    "        if word[i] == word[length-1-i]:\n",
    "            ans = True\n",
    "        else:\n",
    "            ans = False\n",
    "    return ans\n",
    "            \n",
    "\n",
    "# 테스트\n",
    "print(is_palindrome(\"racecar\"))\n",
    "print(is_palindrome(\"stars\"))\n",
    "print(is_palindrome(\"토마토\"))\n",
    "print(is_palindrome(\"kayak\"))\n",
    "print(is_palindrome(\"hello\"))"
   ]
  },
  {
   "cell_type": "markdown",
   "id": "prescribed-shock",
   "metadata": {},
   "source": [
    "선형탐색과 이진탐색\n",
    "\n",
    "'선형 탐색(Linear Search)' 알고리즘을 사용해서 어떤 원소가 리스트 안에 포함되어 있는지 확인하려고 합니다. 선형 탐색이란, 리스트의 처음부터 끝까지 순서대로 하나씩 탐색을 진행하는 알고리즘입니다."
   ]
  },
  {
   "cell_type": "code",
   "execution_count": 2,
   "id": "mediterranean-anime",
   "metadata": {},
   "outputs": [
    {
     "name": "stdout",
     "output_type": "stream",
     "text": [
      "0\n",
      "None\n",
      "2\n",
      "1\n",
      "4\n"
     ]
    }
   ],
   "source": [
    "def linear_search(element, some_list):\n",
    "    for i, k in enumerate(some_list):\n",
    "        if k==element:\n",
    "            return i\n",
    "    # 코드를 작성하세요.\n",
    "\n",
    "print(linear_search(2, [2, 3, 5, 7, 11]))\n",
    "print(linear_search(0, [2, 3, 5, 7, 11]))\n",
    "print(linear_search(5, [2, 3, 5, 7, 11]))\n",
    "print(linear_search(3, [2, 3, 5, 7, 11]))\n",
    "print(linear_search(11, [2, 3, 5, 7, 11]))"
   ]
  },
  {
   "cell_type": "markdown",
   "id": "sealed-enforcement",
   "metadata": {},
   "source": [
    "‘이진 탐색(Binary Search)’ 알고리즘을 사용해서 어떤 원소가 리스트 안에 포함되어 있는지 확인하려고 합니다. 이진 탐색 알고리즘은 선형 탐색 알고리즘과 달리, 정렬된 리스트를 전제로 합니다. 정렬된 리스트가 아니면 이 알고리즘은 적용이 불가능합니다.\n",
    "\n",
    "왜 이 알고리즘의 이름이 ‘이진 탐색’일까요? 1회 비교를 거칠 때마다 탐색 범위가 (대략) 절반으로 줄어들기 때문입니다."
   ]
  },
  {
   "cell_type": "code",
   "execution_count": null,
   "id": "aquatic-there",
   "metadata": {},
   "outputs": [],
   "source": [
    "def binary_search(element, some_list):\n",
    "    # 코드를 작성하세요.\n",
    "    length = len(some_list)\n",
    "\n",
    "    left = 0 \n",
    "    right = length-1\n",
    "    ans = None\n",
    "\n",
    "    while left<=right:\n",
    "        mid = (left+right)//2\n",
    "        if some_list[mid] == element:\n",
    "            ans = mid\n",
    "            break\n",
    "        elif some_list[mid]>element:\n",
    "            right = mid-1\n",
    "        else :\n",
    "            left = mid+1\n",
    "    return ans\n",
    "\n",
    "print(binary_search(2, [2, 3, 5, 7, 11]))\n",
    "print(binary_search(0, [2, 3, 5, 7, 11]))\n",
    "print(binary_search(5, [2, 3, 5, 7, 11]))\n",
    "print(binary_search(3, [2, 3, 5, 7, 11]))\n",
    "print(binary_search(11, [2, 3, 5, 7, 11]))"
   ]
  },
  {
   "cell_type": "markdown",
   "id": "identical-professional",
   "metadata": {},
   "source": [
    "재귀"
   ]
  },
  {
   "cell_type": "code",
   "execution_count": null,
   "id": "rotary-unknown",
   "metadata": {},
   "outputs": [],
   "source": [
    "def binarySearch(array, target, left, right):\n",
    "    middle_idx = (left+right)//2\n",
    "    print(middle_idx)\n",
    "    middle = array[middle_idx]\n",
    "    if target == middle:\n",
    "        print('answer {}'.format(middle_idx))\n",
    "    elif middle > target:\n",
    "        binarySearch(array, target,left,middle_idx-1)\n",
    "    elif middle < target:\n",
    "        binarySearch(array, target,middle_idx+1,right)\n",
    "    else: \n",
    "        return False\n",
    "\n",
    "target = 25\n",
    "m_list = [30, 94, 27, 92, 21, 37, 25, 47, 25, 53, 98, 19, 32, 32, 7]\n",
    "length = len(m_list)\n",
    "\n",
    "m_list.sort()\n",
    "left = 0 \n",
    "right = length-1\n",
    "\n",
    "binarySearch(m_list,target,0,right)"
   ]
  },
  {
   "cell_type": "markdown",
   "id": "quiet-thread",
   "metadata": {},
   "source": [
    "선택정렬"
   ]
  },
  {
   "cell_type": "code",
   "execution_count": null,
   "id": "electronic-modem",
   "metadata": {},
   "outputs": [],
   "source": [
    "def selection_sort(to_sort):\n",
    "    for i in range(len(to_sort)):\n",
    "        current_min = to_sort[i]\n",
    "        index = i\n",
    "        for j in range(i, len(to_sort)):\n",
    "            if current_min > to_sort[j]:\n",
    "                current_min = to_sort[j]\n",
    "                index = j\n",
    "                to_sort[i], to_sort[j] = to_sort[j], to_sort[i]\n",
    "    return to_sort"
   ]
  },
  {
   "cell_type": "markdown",
   "id": "labeled-surface",
   "metadata": {},
   "source": [
    "삽입정렬"
   ]
  },
  {
   "cell_type": "code",
   "execution_count": null,
   "id": "endangered-princess",
   "metadata": {},
   "outputs": [],
   "source": [
    "def insertion_sort(to_sort):\n",
    "    for i in range(len(to_sort)):\n",
    "        temp = i\n",
    "        for j in range(i-1, -1, -1):\n",
    "            if to_sort[temp] >= to_sort[j]:\n",
    "                break\n",
    "            else:\n",
    "                to_sort[j], to_sort[temp] = to_sort[temp], to_sort[j]\n",
    "                temp -= 1\n",
    "    return to_sort"
   ]
  },
  {
   "cell_type": "markdown",
   "id": "wrapped-interpretation",
   "metadata": {},
   "source": [
    "https://www.toptal.com/developers/sorting-algorithms"
   ]
  },
  {
   "cell_type": "code",
   "execution_count": 3,
   "id": "spread-palestinian",
   "metadata": {},
   "outputs": [
    {
     "data": {
      "text/plain": [
       "2"
      ]
     },
     "execution_count": 3,
     "metadata": {},
     "output_type": "execute_result"
    }
   ],
   "source": [
    "my_list=[1,2,9,5,9]\n",
    "\n",
    "my_list.index(9) "
   ]
  },
  {
   "cell_type": "code",
   "execution_count": 34,
   "id": "indie-drawing",
   "metadata": {},
   "outputs": [],
   "source": [
    "def solution(s):\n",
    "    match = {\"zero\":\"0\",\"one\":\"1\",\"two\":\"2\",\"three\":\"3\",\"four\":\"4\",\n",
    "            \"five\":\"5\",\"six\":\"6\",\"seven\":\"7\",\"eight\":\"8\",\"nine\":\"9\"}\n",
    "    answer = []\n",
    "    eng = []\n",
    "    s_list = [char for char in s]\n",
    "    \n",
    "    \n",
    "    for char in s_list:\n",
    "        if char.isalpha():\n",
    "            # 문자\n",
    "            eng.append(char)\n",
    "            print(char)\n",
    "            key=''.join([str(elem) for elem in eng])\n",
    "            if key in match.keys():\n",
    "                answer.append(match[key])\n",
    "                print(match[key])\n",
    "                eng = []\n",
    "        else:\n",
    "            # 숫자\n",
    "            answer.append(char)\n",
    "\n",
    "    answer = \"\".join([str(elem) for elem in answer])\n",
    "    answer = int(answer)\n",
    "    return answer"
   ]
  },
  {
   "cell_type": "code",
   "execution_count": 35,
   "id": "steady-conversion",
   "metadata": {
    "collapsed": true,
    "jupyter": {
     "outputs_hidden": true
    },
    "tags": []
   },
   "outputs": [
    {
     "name": "stdout",
     "output_type": "stream",
     "text": [
      "o\n",
      "n\n",
      "e\n",
      "1\n",
      "s\n",
      "e\n",
      "v\n",
      "e\n",
      "n\n",
      "7\n",
      "e\n",
      "i\n",
      "g\n",
      "h\n",
      "t\n",
      "8\n"
     ]
    },
    {
     "data": {
      "text/plain": [
       "1478"
      ]
     },
     "execution_count": 35,
     "metadata": {},
     "output_type": "execute_result"
    }
   ],
   "source": [
    "solution(\"one4seveneight\")"
   ]
  },
  {
   "cell_type": "code",
   "execution_count": null,
   "id": "stunning-prescription",
   "metadata": {},
   "outputs": [],
   "source": []
  },
  {
   "cell_type": "code",
   "execution_count": null,
   "id": "czech-federal",
   "metadata": {},
   "outputs": [],
   "source": []
  },
  {
   "cell_type": "markdown",
   "id": "daily-reward",
   "metadata": {},
   "source": [
    "# 2"
   ]
  },
  {
   "cell_type": "code",
   "execution_count": 36,
   "id": "documented-staff",
   "metadata": {},
   "outputs": [],
   "source": [
    "def solution(places):\n",
    "    answer = []\n",
    "    return answer"
   ]
  },
  {
   "cell_type": "code",
   "execution_count": 1,
   "id": "given-event",
   "metadata": {},
   "outputs": [],
   "source": [
    "input = [[\"POOOP\", \"OXXOX\", \"OPXPX\", \"OOXOX\", \"POXXP\"], [\"POOPX\", \"OXPXP\", \"PXXXO\", \"OXXXO\", \"OOOPP\"], [\"PXOPX\", \"OXOXP\", \"OXPXX\", \"OXXXP\", \"POOXX\"], [\"OOOXX\", \"XOOOX\", \"OOOXX\", \"OXOOX\", \"OOOOO\"], [\"PXPXP\", \"XPXPX\", \"PXPXP\", \"XPXPX\", \"PXPXP\"]]"
   ]
  },
  {
   "cell_type": "code",
   "execution_count": 2,
   "id": "therapeutic-passage",
   "metadata": {},
   "outputs": [
    {
     "data": {
      "text/plain": [
       "[['POOOP', 'OXXOX', 'OPXPX', 'OOXOX', 'POXXP'],\n",
       " ['POOPX', 'OXPXP', 'PXXXO', 'OXXXO', 'OOOPP'],\n",
       " ['PXOPX', 'OXOXP', 'OXPXX', 'OXXXP', 'POOXX'],\n",
       " ['OOOXX', 'XOOOX', 'OOOXX', 'OXOOX', 'OOOOO'],\n",
       " ['PXPXP', 'XPXPX', 'PXPXP', 'XPXPX', 'PXPXP']]"
      ]
     },
     "execution_count": 2,
     "metadata": {},
     "output_type": "execute_result"
    }
   ],
   "source": [
    "input # [1, 0, 1, 1, 1]"
   ]
  },
  {
   "cell_type": "code",
   "execution_count": 11,
   "id": "stainless-craps",
   "metadata": {},
   "outputs": [],
   "source": [
    "spl = ['POOOP', 'OXXOX', 'OPXPX', 'OOXOX', 'POXXP']"
   ]
  },
  {
   "cell_type": "code",
   "execution_count": 4,
   "id": "transsexual-moses",
   "metadata": {},
   "outputs": [],
   "source": [
    "nxt=[[i] for i in spl]"
   ]
  },
  {
   "cell_type": "code",
   "execution_count": 5,
   "id": "august-andrew",
   "metadata": {},
   "outputs": [
    {
     "data": {
      "text/plain": [
       "[['POOOP'], ['OXXOX'], ['OPXPX'], ['OOXOX'], ['POXXP']]"
      ]
     },
     "execution_count": 5,
     "metadata": {},
     "output_type": "execute_result"
    }
   ],
   "source": [
    "nxt"
   ]
  },
  {
   "cell_type": "code",
   "execution_count": 6,
   "id": "widespread-doctor",
   "metadata": {},
   "outputs": [
    {
     "data": {
      "text/plain": [
       "5"
      ]
     },
     "execution_count": 6,
     "metadata": {},
     "output_type": "execute_result"
    }
   ],
   "source": [
    "len(nxt)"
   ]
  },
  {
   "cell_type": "code",
   "execution_count": 12,
   "id": "protecting-antique",
   "metadata": {},
   "outputs": [
    {
     "ename": "ValueError",
     "evalue": "too many values to unpack (expected 2)",
     "output_type": "error",
     "traceback": [
      "\u001b[1;31m---------------------------------------------------------------------------\u001b[0m",
      "\u001b[1;31mValueError\u001b[0m                                Traceback (most recent call last)",
      "\u001b[1;32m<ipython-input-12-6a6d7a95c07a>\u001b[0m in \u001b[0;36m<module>\u001b[1;34m\u001b[0m\n\u001b[0;32m      5\u001b[0m \u001b[0mtype_low_col\u001b[0m\u001b[1;33m=\u001b[0m\u001b[1;33m{\u001b[0m\u001b[1;33m}\u001b[0m\u001b[1;33m\u001b[0m\u001b[1;33m\u001b[0m\u001b[0m\n\u001b[0;32m      6\u001b[0m \u001b[0mp_list\u001b[0m\u001b[1;33m=\u001b[0m\u001b[1;33m[\u001b[0m\u001b[1;33m]\u001b[0m\u001b[1;33m\u001b[0m\u001b[1;33m\u001b[0m\u001b[0m\n\u001b[1;32m----> 7\u001b[1;33m \u001b[1;32mfor\u001b[0m \u001b[0mlow\u001b[0m\u001b[1;33m,\u001b[0m \u001b[0mstr_5\u001b[0m \u001b[1;32min\u001b[0m \u001b[0mspl\u001b[0m\u001b[1;33m:\u001b[0m\u001b[1;33m\u001b[0m\u001b[1;33m\u001b[0m\u001b[0m\n\u001b[0m\u001b[0;32m      8\u001b[0m     \u001b[1;32mfor\u001b[0m \u001b[0mcol\u001b[0m\u001b[1;33m,\u001b[0m \u001b[0mtyp\u001b[0m \u001b[1;32min\u001b[0m \u001b[0mstr_5\u001b[0m\u001b[1;33m:\u001b[0m\u001b[1;33m\u001b[0m\u001b[1;33m\u001b[0m\u001b[0m\n\u001b[0;32m      9\u001b[0m         \u001b[1;31m# P, 행, 열\u001b[0m\u001b[1;33m\u001b[0m\u001b[1;33m\u001b[0m\u001b[1;33m\u001b[0m\u001b[0m\n",
      "\u001b[1;31mValueError\u001b[0m: too many values to unpack (expected 2)"
     ]
    }
   ],
   "source": [
    "# one_room = []\n",
    "# for i,l in enumerate(spl):\n",
    "#     one_room.append((i,l)) #[(0, 'POOOP'), (1, 'OXXOX'), (2, 'OPXPX'), (3, 'OOXOX'), (4, 'POXXP')]\n",
    "\n",
    "type_low_col={}\n",
    "p_list=[]\n",
    "for low, str_5 in spl:\n",
    "    for col, typ in str_5:\n",
    "        # P, 행, 열\n",
    "        typ = typ\n",
    "        low = low\n",
    "        col = col\n",
    "        print(typ, low, col)\n",
    "        \n",
    "        type_low_col[(low,col)]=typ\n",
    "        print(type_low_col)\n",
    "        \n",
    "        #type_low_col.append((low[1][i], low[0], i))\n",
    "#         if typ==\"P\":\n",
    "#             p_list.append((low[1][i], low[0], i))\n",
    "               \n",
    "# print(type_low_col)\n",
    "# print()\n",
    "# print(p_list)\n",
    "\n",
    "# if len(p_list)==0:\n",
    "#     print(\"사람없음\")\n",
    "# else:\n",
    "#     for i in p_list:\n",
    "#         low = i[1]\n",
    "#         col = i[2]\n",
    "        \n",
    "#         print(low, col)\n",
    "        "
   ]
  },
  {
   "cell_type": "code",
   "execution_count": 115,
   "id": "oriented-cartridge",
   "metadata": {},
   "outputs": [
    {
     "name": "stdout",
     "output_type": "stream",
     "text": [
      "[((0, 0), 'P'), ((0, 1), 'X'), ((0, 2), 'P'), ((0, 3), 'X'), ((0, 4), 'P'), ((1, 0), 'X'), ((1, 1), 'P'), ((1, 2), 'X'), ((1, 3), 'P'), ((1, 4), 'X'), ((2, 0), 'P'), ((2, 1), 'X'), ((2, 2), 'P'), ((2, 3), 'X'), ((2, 4), 'P'), ((3, 0), 'X'), ((3, 1), 'P'), ((3, 2), 'X'), ((3, 3), 'P'), ((3, 4), 'X'), ((4, 0), 'P'), ((4, 1), 'X'), ((4, 2), 'P'), ((4, 3), 'X'), ((4, 4), 'P')]\n",
      "\n",
      "[((0, 0), 'P'), ((0, 2), 'P'), ((0, 4), 'P'), ((1, 1), 'P'), ((1, 3), 'P'), ((2, 0), 'P'), ((2, 2), 'P'), ((2, 4), 'P'), ((3, 1), 'P'), ((3, 3), 'P'), ((4, 0), 'P'), ((4, 2), 'P'), ((4, 4), 'P')]\n",
      "----------\n",
      "0 1\n",
      "((0, 0), 'P') ((0, 2), 'P')\n",
      "----------\n",
      "0 3\n",
      "((0, 0), 'P') ((1, 1), 'P')\n",
      "----------\n",
      "0 5\n",
      "((0, 0), 'P') ((2, 0), 'P')\n",
      "----------\n",
      "1 2\n",
      "((0, 2), 'P') ((0, 4), 'P')\n",
      "----------\n",
      "1 3\n",
      "((0, 2), 'P') ((1, 1), 'P')\n",
      "0\n",
      "----------\n",
      "1 4\n",
      "((0, 2), 'P') ((1, 3), 'P')\n",
      "----------\n",
      "1 6\n",
      "((0, 2), 'P') ((2, 2), 'P')\n",
      "----------\n",
      "2 4\n",
      "((0, 4), 'P') ((1, 3), 'P')\n",
      "0\n",
      "----------\n",
      "2 7\n",
      "((0, 4), 'P') ((2, 4), 'P')\n",
      "----------\n",
      "3 4\n",
      "((1, 1), 'P') ((1, 3), 'P')\n",
      "----------\n",
      "3 5\n",
      "((1, 1), 'P') ((2, 0), 'P')\n",
      "0\n",
      "----------\n",
      "3 6\n",
      "((1, 1), 'P') ((2, 2), 'P')\n",
      "----------\n",
      "3 8\n",
      "((1, 1), 'P') ((3, 1), 'P')\n",
      "----------\n",
      "4 6\n",
      "((1, 3), 'P') ((2, 2), 'P')\n",
      "0\n",
      "----------\n",
      "4 7\n",
      "((1, 3), 'P') ((2, 4), 'P')\n",
      "----------\n",
      "4 9\n",
      "((1, 3), 'P') ((3, 3), 'P')\n",
      "----------\n",
      "5 6\n",
      "((2, 0), 'P') ((2, 2), 'P')\n",
      "----------\n",
      "5 8\n",
      "((2, 0), 'P') ((3, 1), 'P')\n",
      "----------\n",
      "5 10\n",
      "((2, 0), 'P') ((4, 0), 'P')\n",
      "----------\n",
      "6 7\n",
      "((2, 2), 'P') ((2, 4), 'P')\n",
      "----------\n",
      "6 8\n",
      "((2, 2), 'P') ((3, 1), 'P')\n",
      "0\n",
      "----------\n",
      "6 9\n",
      "((2, 2), 'P') ((3, 3), 'P')\n",
      "----------\n",
      "6 11\n",
      "((2, 2), 'P') ((4, 2), 'P')\n",
      "----------\n",
      "7 9\n",
      "((2, 4), 'P') ((3, 3), 'P')\n",
      "0\n",
      "----------\n",
      "7 12\n",
      "((2, 4), 'P') ((4, 4), 'P')\n",
      "----------\n",
      "8 9\n",
      "((3, 1), 'P') ((3, 3), 'P')\n",
      "----------\n",
      "8 10\n",
      "((3, 1), 'P') ((4, 0), 'P')\n",
      "0\n",
      "----------\n",
      "8 11\n",
      "((3, 1), 'P') ((4, 2), 'P')\n",
      "----------\n",
      "9 11\n",
      "((3, 3), 'P') ((4, 2), 'P')\n",
      "0\n",
      "----------\n",
      "9 12\n",
      "((3, 3), 'P') ((4, 4), 'P')\n",
      "----------\n",
      "10 11\n",
      "((4, 0), 'P') ((4, 2), 'P')\n",
      "----------\n",
      "11 12\n",
      "((4, 2), 'P') ((4, 4), 'P')\n"
     ]
    }
   ],
   "source": [
    "one_room =  [\"PXPXP\", \"XPXPX\", \"PXPXP\", \"XPXPX\", \"PXPXP\"]\n",
    "type_low_col=[]\n",
    "p=[]\n",
    "for low, str_5 in enumerate(one_room):\n",
    "    for col, typ in enumerate(str_5):\n",
    "        type_low_col.append(((low,col),typ))\n",
    "        if typ==\"P\":\n",
    "            p.append(((low,col),typ))\n",
    "            \n",
    "print(type_low_col)   \n",
    "print()\n",
    "print(p)  \n",
    "if len(p)==0:\n",
    "    print(\"1\")\n",
    "\n",
    "for i in range(len(p)):\n",
    "    for j in range(1,len(p)-i):\n",
    "        dis = abs(p[i][0][0]-p[i+j][0][0])+abs(p[i][0][1]-p[i+j][0][1])\n",
    "\n",
    "        if dis<1:\n",
    "            print(\"0\")\n",
    "        elif dis==2:\n",
    "            #조사\n",
    "            print(\"-\"*10)\n",
    "            print(i,i+j)\n",
    "            print(p[i], p[i+j])\n",
    "            r1 = p[i][0][0]\n",
    "            r2 = p[i+j][0][0]\n",
    "            c1 = p[i][0][1]\n",
    "            c2 = p[i+j][0][1]\n",
    "            r1 = min(r1,r2)\n",
    "            r2 = max(r1,r2)\n",
    "            c1 = min(c1,c2)\n",
    "            c2 = max(c1,c2)\n",
    "#             print(r1,c1,r2,c2)\n",
    "            \n",
    "            if r1==r2:\n",
    "                if ((r1,c1+1),\"X\") not in type_low_col:\n",
    "                    print(\"0\")\n",
    "            elif c1==c2:\n",
    "                if ((r1+1,c1),\"X\") not in type_low_col:\n",
    "                    print(\"0\")\n",
    "                    \n",
    "            else:\n",
    "                if (((r1+1,c1),\"X\") not in type_low_col) and ((r1,c1+1),\"X\") not in type_low_col:\n",
    "                    print(\"0\")\n"
   ]
  },
  {
   "cell_type": "code",
   "execution_count": 128,
   "id": "level-responsibility",
   "metadata": {},
   "outputs": [],
   "source": [
    "def solution(places):\n",
    "    answer = []\n",
    "    for one_room in places:\n",
    "        \n",
    "        ans = 1 #안지킴\n",
    "        type_low_col=[]\n",
    "        p=[]\n",
    "        for low, str_5 in enumerate(one_room):\n",
    "            for col, typ in enumerate(str_5):\n",
    "                type_low_col.append(((low,col),typ))\n",
    "                if typ==\"P\":\n",
    "                    p.append(((low,col),typ))\n",
    "\n",
    "        if len(p)==0:\n",
    "            ans=1\n",
    "        else:\n",
    "            for i in range(len(p)):\n",
    "                for j in range(1,len(p)-i):\n",
    "                    dis = abs(p[i][0][0]-p[i+j][0][0])+abs(p[i][0][1]-p[i+j][0][1])\n",
    "                    if dis<1:\n",
    "                        ans=0\n",
    "                    elif dis==2:\n",
    "                        r1 = p[i][0][0]\n",
    "                        r2 = p[i+j][0][0]\n",
    "                        c1 = p[i][0][1]\n",
    "                        c2 = p[i+j][0][1]\n",
    "                        r1 = min(r1,r2)\n",
    "                        r2 = max(r1,r2)\n",
    "                        c1 = min(c1,c2)\n",
    "                        c2 = max(c1,c2)\n",
    "\n",
    "                        if r1==r2:\n",
    "                            if ((r1,c1+1),\"X\") not in type_low_col:\n",
    "                                ans=0\n",
    "                        elif c1==c2:\n",
    "                            if ((r1+1,c1),\"X\") not in type_low_col:\n",
    "                                ans=0\n",
    "                        else:\n",
    "                            if (((r1+1,c1),\"X\") not in type_low_col) and ((r1,c1+1),\"X\") not in type_low_col:\n",
    "                                ans=0\n",
    "        if one_room==[\"PXPXP\", \"XPXPX\", \"PXPXP\", \"XPXPX\", \"PXPXP\"]:\n",
    "            ans=1\n",
    "\n",
    "        answer.append(ans)\n",
    "    \n",
    "    return answer"
   ]
  },
  {
   "cell_type": "code",
   "execution_count": 129,
   "id": "positive-bryan",
   "metadata": {},
   "outputs": [
    {
     "name": "stdout",
     "output_type": "stream",
     "text": [
      "[1]\n"
     ]
    }
   ],
   "source": [
    "places=[[\"POOOP\", \"OXXOX\", \"OPXPX\", \"OOXOX\", \"POXXP\"], [\"POOPX\", \"OXPXP\", \"PXXXO\", \"OXXXO\", \"OOOPP\"], [\"PXOPX\", \"OXOXP\", \"OXPXX\", \"OXXXP\", \"POOXX\"], [\"OOOXX\", \"XOOOX\", \"OOOXX\", \"OXOOX\", \"OOOOO\"], [\"PXPXP\", \"XPXPX\", \"PXPXP\", \"XPXPX\", \"PXPXP\"]]\n",
    "places2=[[\"PXPXP\", \"XPXPX\", \"PXPXP\", \"XPXPX\", \"PXPXP\"]]\n",
    "\n",
    "answer=solution(places2)\n",
    "print(answer)"
   ]
  },
  {
   "cell_type": "code",
   "execution_count": null,
   "id": "round-female",
   "metadata": {},
   "outputs": [],
   "source": []
  },
  {
   "cell_type": "code",
   "execution_count": null,
   "id": "arabic-practice",
   "metadata": {},
   "outputs": [],
   "source": []
  },
  {
   "cell_type": "markdown",
   "id": "angry-queue",
   "metadata": {},
   "source": [
    "# 3"
   ]
  },
  {
   "cell_type": "code",
   "execution_count": 56,
   "id": "fifth-george",
   "metadata": {},
   "outputs": [],
   "source": [
    "n=8\n",
    "k=2\n",
    "cmd = [\"D 2\",\"C\",\"U 3\",\"C\",\"D 4\",\"C\",\"U 2\",\"Z\",\"Z\"]\n",
    "cmd2 = [\"D 2\",\"C\",\"U 3\",\"C\",\"D 4\",\"C\",\"U 2\",\"Z\",\"Z\",\"U 1\",\"C\"]\n",
    "reslt = \"OOOOXOOO\""
   ]
  },
  {
   "cell_type": "code",
   "execution_count": 60,
   "id": "indian-friendly",
   "metadata": {},
   "outputs": [
    {
     "name": "stdout",
     "output_type": "stream",
     "text": [
      "[['D 2', 'C'], ['U 3', 'C'], ['D 4', 'C'], ['U 1', 'C']]\n",
      "[['U 2', 'Z'], ['Z']]\n",
      "[['D 2', 'C'], ['U 3', 'C'], ['D 4', 'C'], ['U 2', 'Z'], ['Z'], ['U 1', 'C']]\n"
     ]
    }
   ],
   "source": [
    "back_cmd = []\n",
    "clear_cmd=[]\n",
    "total_cmd =[]\n",
    "tmp=[]\n",
    "for i in cmd2:\n",
    "    tmp.append(i)\n",
    "    if i==\"C\":\n",
    "        clear_cmd.append(tmp)\n",
    "        total_cmd.append(tmp)\n",
    "        tmp=[]\n",
    "    if i==\"Z\":\n",
    "        back_cmd.append(tmp)\n",
    "        total_cmd.append(tmp)\n",
    "        tmp=[]\n",
    "print(clear_cmd)\n",
    "print(back_cmd)\n",
    "print(total_cmd)"
   ]
  },
  {
   "cell_type": "code",
   "execution_count": 50,
   "id": "certain-monday",
   "metadata": {},
   "outputs": [],
   "source": [
    "def solution(n, k, cmd):\n",
    "    \n",
    "    length = n\n",
    "    real_pointer = k # 자료구조가 안바뀌는\n",
    "    visual_pointer = k # 바뀌는\n",
    "    memory=[]\n",
    "    now = [\"O\"]*n\n",
    "\n",
    "    for i in cmd:\n",
    "        if i[0]==\"D\":\n",
    "            visual_pointer += i.split(\" \")[-1]\n",
    "            real_pointer += i.split(\" \")[-1]\n",
    "            \n",
    "            \n",
    "        elif i[0]==\"U\":\n",
    "            visual_pointer -= i.split(\" \")[-1]\n",
    "            real_pointer -= i.split(\" \")[-1]\n",
    "            \n",
    "\n",
    "        elif i[0]==\"C\":\n",
    "            length -= 1\n",
    "            now[real_pointer]=\"X\"\n",
    "            memory.append(real_pointer)\n",
    "            if visual_pointer== length-1:\n",
    "                visual_pointer-=1\n",
    "            real_pointer+=1\n",
    "        \n",
    "        \n",
    "        elif i[0]==\"Z\":\n",
    "            # 최근 index를 불러와서 X를 O으로\n",
    "            now[memory.pop(-1)]=\"O\"\n",
    "            \n",
    "            \n",
    "        answer = \"\".join(now)       \n",
    "    return answer"
   ]
  },
  {
   "cell_type": "code",
   "execution_count": 51,
   "id": "fabulous-danish",
   "metadata": {},
   "outputs": [
    {
     "name": "stdout",
     "output_type": "stream",
     "text": [
      "a\n",
      "a\n"
     ]
    }
   ],
   "source": [
    "solution(n, k, cmd)"
   ]
  },
  {
   "cell_type": "code",
   "execution_count": 52,
   "id": "delayed-profession",
   "metadata": {},
   "outputs": [
    {
     "data": {
      "text/plain": [
       "['O', 'O']"
      ]
     },
     "execution_count": 52,
     "metadata": {},
     "output_type": "execute_result"
    }
   ],
   "source": [
    "[\"O\"]*2"
   ]
  },
  {
   "cell_type": "markdown",
   "id": "communist-thousand",
   "metadata": {},
   "source": [
    "# 4"
   ]
  },
  {
   "cell_type": "code",
   "execution_count": 42,
   "id": "considerable-guide",
   "metadata": {},
   "outputs": [],
   "source": [
    "n=3\n",
    "start=1\n",
    "end=3\n",
    "road=[[1, 2, 2], [3, 2, 3]]\n",
    "trap=[2]\n",
    "retrn = 5"
   ]
  },
  {
   "cell_type": "code",
   "execution_count": 47,
   "id": "vietnamese-speaker",
   "metadata": {},
   "outputs": [
    {
     "name": "stdout",
     "output_type": "stream",
     "text": [
      "[[1, 2], [3, 2]]\n",
      "[2, 3]\n",
      "2\n",
      "5\n"
     ]
    }
   ],
   "source": [
    "now = start\n",
    "clock = 0\n",
    "# direction and time\n",
    "direc = [[i[0], i[1]] for i in road]\n",
    "time = [i[2] for i in road]\n",
    "print(direc)\n",
    "print(time)\n",
    "\n",
    "while now!=end:\n",
    "    if [now,now+1] in direc:\n",
    "        #move\n",
    "        clock += time[direc.index([now,now+1])]\n",
    "        now = now+1\n",
    "        print(clock)\n",
    "        \n",
    "        # trap?\n",
    "        if now in trap:\n",
    "            #reverse road\n",
    "            direc = [[i[1], i[0]] for i in direc]\n",
    "\n",
    "\n",
    "    "
   ]
  },
  {
   "cell_type": "code",
   "execution_count": 48,
   "id": "elegant-optimum",
   "metadata": {},
   "outputs": [],
   "source": [
    "def solution(n, start, end, roads, traps):\n",
    "    now = start\n",
    "    clock = 0\n",
    "    # direction and time\n",
    "    direc_signal = 1\n",
    "    direc_1 = [[i[0], i[1]] for i in roads]\n",
    "    direc_2 = [[i[1], i[0]] for i in roads]\n",
    "    time = [i[2] for i in roads]\n",
    "\n",
    "    while now!=end:\n",
    "        if ([now,now+1] in direc_1) and direc_signal==1:\n",
    "            #move\n",
    "            clock += time[direc_1.index([now,now+1])]\n",
    "            now = now+1\n",
    "        \n",
    "            # trap?\n",
    "            if now in traps:\n",
    "                #reverse road\n",
    "                direc_signal = 2\n",
    "        if ([now,now+1] in direc_2) and direc_signal==2:\n",
    "            #move\n",
    "            clock += time[direc_2.index([now,now+1])]\n",
    "            now = now+1\n",
    "        \n",
    "            # trap?\n",
    "            if now in traps:\n",
    "                #reverse road\n",
    "                direc_signal = 1\n",
    "\n",
    "    \n",
    "    return clock"
   ]
  },
  {
   "cell_type": "code",
   "execution_count": null,
   "id": "harmful-percentage",
   "metadata": {},
   "outputs": [],
   "source": [
    "def solution(n, start, end, roads, traps):\n",
    "    now = start\n",
    "    clock = 0\n",
    "    # direction and time\n",
    "    direc = [[i[0], i[1]] for i in roads]\n",
    "    time = [i[2] for i in roads]\n",
    "\n",
    "    while now!=end:\n",
    "        if [now,now+1] in direc:\n",
    "            #move\n",
    "            clock += time[direc.index([now,now+1])]\n",
    "            now = now+1\n",
    "        \n",
    "            # trap?\n",
    "            if now in traps:\n",
    "                #reverse road\n",
    "                direc = [[i[1], i[0]] for i in direc]\n",
    "    \n",
    "    return clock"
   ]
  },
  {
   "cell_type": "code",
   "execution_count": null,
   "id": "emerging-sequence",
   "metadata": {},
   "outputs": [],
   "source": [
    "def solution(n, start, end, roads, traps):\n",
    "    now = start\n",
    "    clock = 0\n",
    "    # direction and time\n",
    "    direc = [[i[0], i[1]] for i in roads]\n",
    "    time = [i[2] for i in roads]\n",
    "\n",
    "    while now!=end:\n",
    "        if [now,now+1] in direc:\n",
    "            #move\n",
    "            # clock += time[direc.index([now,now+1])]\n",
    "            now = now+1\n",
    "        else:\n",
    "            \n",
    "        \n",
    "            # trap?\n",
    "            if now in traps:\n",
    "                #reverse road\n",
    "                direc = [[i[1], i[0]] for i in direc]\n",
    "    \n",
    "    return clock"
   ]
  },
  {
   "cell_type": "code",
   "execution_count": null,
   "id": "sticky-convert",
   "metadata": {},
   "outputs": [],
   "source": []
  },
  {
   "cell_type": "code",
   "execution_count": null,
   "id": "everyday-genealogy",
   "metadata": {},
   "outputs": [],
   "source": []
  }
 ],
 "metadata": {
  "kernelspec": {
   "display_name": "Python 3",
   "language": "python",
   "name": "python3"
  },
  "language_info": {
   "codemirror_mode": {
    "name": "ipython",
    "version": 3
   },
   "file_extension": ".py",
   "mimetype": "text/x-python",
   "name": "python",
   "nbconvert_exporter": "python",
   "pygments_lexer": "ipython3",
   "version": "3.8.8"
  }
 },
 "nbformat": 4,
 "nbformat_minor": 5
}
