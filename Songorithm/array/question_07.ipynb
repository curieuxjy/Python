{
 "cells": [
  {
   "cell_type": "markdown",
   "id": "according-defense",
   "metadata": {},
   "source": [
    "[![Colab Badge](http://img.shields.io/badge/Colaboratory-black?style=for-the-badge&logo=google-colab)](https://colab.research.google.com/github/curieuxjy/Python/blob/master/Songorithm/array/question_07.ipynb)"
   ]
  },
  {
   "cell_type": "markdown",
   "id": "assured-optics",
   "metadata": {},
   "source": [
    "덧셈하여 타겟을 만들 수 있는 배열의 두 숫자 인덱스를 리턴하라\n",
    "- input\n",
    "```\n",
    "nums = [2, 7, 11, 15], target = 9\n",
    "```\n",
    "- output\n",
    "```\n",
    "0, 1\n",
    "```"
   ]
  },
  {
   "cell_type": "code",
   "execution_count": 23,
   "id": "acute-clark",
   "metadata": {},
   "outputs": [],
   "source": [
    "nums = [2, 7, 11, 15];target = 9"
   ]
  },
  {
   "cell_type": "markdown",
   "id": "solar-adams",
   "metadata": {},
   "source": [
    "my solution:"
   ]
  },
  {
   "cell_type": "code",
   "execution_count": 24,
   "id": "superb-virginia",
   "metadata": {},
   "outputs": [],
   "source": [
    "from typing import List"
   ]
  },
  {
   "cell_type": "code",
   "execution_count": 26,
   "id": "administrative-bristol",
   "metadata": {},
   "outputs": [],
   "source": [
    "def mySol(nums: List[int], target: int)->List[int]:\n",
    "    index1 = 0\n",
    "    index2 = 0\n",
    "    for i in range(len(nums)):\n",
    "        num1 = nums[i]\n",
    "        for j in range(1,len(nums)-i):\n",
    "            num2 = nums[j]\n",
    "            if target == num1+num2:\n",
    "                index1 = i\n",
    "                index2 = j+i\n",
    "    return index1, index2"
   ]
  },
  {
   "cell_type": "code",
   "execution_count": 27,
   "id": "subjective-space",
   "metadata": {},
   "outputs": [
    {
     "name": "stdout",
     "output_type": "stream",
     "text": [
      "1.68 µs ± 31.4 ns per loop (mean ± std. dev. of 7 runs, 1000000 loops each)\n"
     ]
    }
   ],
   "source": [
    "%%timeit\n",
    "mySol(nums, target)"
   ]
  },
  {
   "cell_type": "markdown",
   "id": "hawaiian-serum",
   "metadata": {},
   "source": [
    "book solution 1: 브루트포스"
   ]
  },
  {
   "cell_type": "code",
   "execution_count": 28,
   "id": "amazing-banana",
   "metadata": {},
   "outputs": [],
   "source": [
    "def twoSum(nums: List[int], target: int)->List[int]:\n",
    "    for i in range(len(nums)):\n",
    "        for j in range(i+1, len(nums)):\n",
    "            if nums[i] + nums[j] == target:\n",
    "                return [i, j] # 처음에 찾은 최초의 pair만 리턴"
   ]
  },
  {
   "cell_type": "code",
   "execution_count": 29,
   "id": "optimum-clause",
   "metadata": {},
   "outputs": [
    {
     "name": "stdout",
     "output_type": "stream",
     "text": [
      "600 ns ± 13.4 ns per loop (mean ± std. dev. of 7 runs, 1000000 loops each)\n"
     ]
    }
   ],
   "source": [
    "%%timeit\n",
    "twoSum(nums, target)"
   ]
  },
  {
   "cell_type": "markdown",
   "id": "organizational-gross",
   "metadata": {},
   "source": [
    "book solution 2: in을 통한 탐색"
   ]
  },
  {
   "cell_type": "code",
   "execution_count": 32,
   "id": "incorrect-hierarchy",
   "metadata": {},
   "outputs": [],
   "source": [
    "def twoSum(nums: List[int], target: int)->List[int]:\n",
    "    for i, n in enumerate(nums):\n",
    "        complement = target -n\n",
    "        # print(complement)\n",
    "        if complement in nums[i+1:]:\n",
    "            return nums.index(n), nums[i+1:].index(complement) + (i+1)"
   ]
  },
  {
   "cell_type": "code",
   "execution_count": 33,
   "id": "modern-witch",
   "metadata": {},
   "outputs": [
    {
     "name": "stdout",
     "output_type": "stream",
     "text": [
      "607 ns ± 13 ns per loop (mean ± std. dev. of 7 runs, 1000000 loops each)\n"
     ]
    }
   ],
   "source": [
    "%%timeit \n",
    "twoSum(nums, target)"
   ]
  },
  {
   "cell_type": "markdown",
   "id": "classical-tours",
   "metadata": {},
   "source": [
    "book solution 3: 첫 번째 수를 뺀 결과 키 조회"
   ]
  },
  {
   "cell_type": "code",
   "execution_count": 34,
   "id": "crucial-frank",
   "metadata": {},
   "outputs": [],
   "source": [
    "def twoSum(nums: List[int], target: int)->List[int]:\n",
    "    nums_map = {}\n",
    "    for i, num in enumerate(nums):\n",
    "        nums_map[num] = i\n",
    "        \n",
    "    for i, num in enumerate(nums):\n",
    "        if target-num in nums_map and i != nums_map[target-num]:\n",
    "            return nums.index(num), nums_map[target-num]"
   ]
  },
  {
   "cell_type": "code",
   "execution_count": 35,
   "id": "closed-encoding",
   "metadata": {},
   "outputs": [
    {
     "name": "stdout",
     "output_type": "stream",
     "text": [
      "798 ns ± 19.9 ns per loop (mean ± std. dev. of 7 runs, 1000000 loops each)\n"
     ]
    }
   ],
   "source": [
    "%%timeit \n",
    "twoSum(nums, target)"
   ]
  },
  {
   "cell_type": "code",
   "execution_count": null,
   "id": "noticed-topic",
   "metadata": {},
   "outputs": [],
   "source": []
  }
 ],
 "metadata": {
  "kernelspec": {
   "display_name": "Python 3",
   "language": "python",
   "name": "python3"
  },
  "language_info": {
   "codemirror_mode": {
    "name": "ipython",
    "version": 3
   },
   "file_extension": ".py",
   "mimetype": "text/x-python",
   "name": "python",
   "nbconvert_exporter": "python",
   "pygments_lexer": "ipython3",
   "version": "3.8.8"
  }
 },
 "nbformat": 4,
 "nbformat_minor": 5
}
