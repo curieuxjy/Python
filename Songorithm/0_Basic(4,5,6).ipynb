{
  "nbformat": 4,
  "nbformat_minor": 0,
  "metadata": {
    "colab": {
      "name": "0-Basic(4,5,6).ipynb",
      "provenance": [],
      "collapsed_sections": [],
      "toc_visible": true
    },
    "kernelspec": {
      "name": "python3",
      "display_name": "Python 3"
    },
    "language_info": {
      "name": "python"
    }
  },
  "cells": [
    {
      "cell_type": "markdown",
      "source": [
        "# Ch4"
      ],
      "metadata": {
        "id": "gx7Ku1GyHGTI"
      }
    },
    {
      "cell_type": "markdown",
      "source": [
        "## 불변/가변 객체"
      ],
      "metadata": {
        "id": "lTVetxSAJfzw"
      }
    },
    {
      "cell_type": "code",
      "execution_count": 235,
      "metadata": {
        "id": "QHcUp93q7qhW",
        "colab": {
          "base_uri": "https://localhost:8080/"
        },
        "outputId": "f9acbadc-32fa-458d-ac34-ea278cf799eb"
      },
      "outputs": [
        {
          "output_type": "execute_result",
          "data": {
            "text/plain": [
              "10"
            ]
          },
          "metadata": {},
          "execution_count": 235
        }
      ],
      "source": [
        "10"
      ]
    },
    {
      "cell_type": "code",
      "source": [
        "a = 10"
      ],
      "metadata": {
        "id": "Xqo2SZn0HIYu"
      },
      "execution_count": 236,
      "outputs": []
    },
    {
      "cell_type": "code",
      "source": [
        "b = a"
      ],
      "metadata": {
        "id": "6rhAmTr7HQiV"
      },
      "execution_count": 237,
      "outputs": []
    },
    {
      "cell_type": "code",
      "source": [
        "print(id(10), id(a), id(b))"
      ],
      "metadata": {
        "colab": {
          "base_uri": "https://localhost:8080/"
        },
        "id": "N-fcapofHRIr",
        "outputId": "afd97adf-8e1b-4f1b-fa27-0d1b89087de8"
      },
      "execution_count": 238,
      "outputs": [
        {
          "output_type": "stream",
          "name": "stdout",
          "text": [
            "94708996008736 94708996008736 94708996008736\n"
          ]
        }
      ]
    },
    {
      "cell_type": "markdown",
      "source": [
        "불변 객체: 숫자, 문자, tuple"
      ],
      "metadata": {
        "id": "Vlh95bHAH4aq"
      }
    },
    {
      "cell_type": "code",
      "source": [
        "a = [1, 2, 3, 4, 5]"
      ],
      "metadata": {
        "id": "cYHYWz5cHVZz"
      },
      "execution_count": 239,
      "outputs": []
    },
    {
      "cell_type": "code",
      "source": [
        "b = a"
      ],
      "metadata": {
        "id": "y_SV66r_IC0k"
      },
      "execution_count": 240,
      "outputs": []
    },
    {
      "cell_type": "code",
      "source": [
        "b"
      ],
      "metadata": {
        "colab": {
          "base_uri": "https://localhost:8080/"
        },
        "id": "uPfhyTi6ID8z",
        "outputId": "94489801-844f-475c-d0c5-68d0c89cf4f2"
      },
      "execution_count": 241,
      "outputs": [
        {
          "output_type": "execute_result",
          "data": {
            "text/plain": [
              "[1, 2, 3, 4, 5]"
            ]
          },
          "metadata": {},
          "execution_count": 241
        }
      ]
    },
    {
      "cell_type": "code",
      "source": [
        "a[2]=4"
      ],
      "metadata": {
        "id": "EhfQAA3zIEzc"
      },
      "execution_count": 242,
      "outputs": []
    },
    {
      "cell_type": "code",
      "source": [
        "a"
      ],
      "metadata": {
        "colab": {
          "base_uri": "https://localhost:8080/"
        },
        "id": "iZbOFrdcIFy7",
        "outputId": "75e5e52b-e118-4042-de86-7c0d9b4e4676"
      },
      "execution_count": 243,
      "outputs": [
        {
          "output_type": "execute_result",
          "data": {
            "text/plain": [
              "[1, 2, 4, 4, 5]"
            ]
          },
          "metadata": {},
          "execution_count": 243
        }
      ]
    },
    {
      "cell_type": "code",
      "source": [
        "b"
      ],
      "metadata": {
        "colab": {
          "base_uri": "https://localhost:8080/"
        },
        "id": "EuSegIivIGxc",
        "outputId": "2ce54190-70a3-4a83-f7a9-3474242163bd"
      },
      "execution_count": 244,
      "outputs": [
        {
          "output_type": "execute_result",
          "data": {
            "text/plain": [
              "[1, 2, 4, 4, 5]"
            ]
          },
          "metadata": {},
          "execution_count": 244
        }
      ]
    },
    {
      "cell_type": "markdown",
      "source": [
        "b는 a를 할당하여 참조. a가 변경될 시 b도 변경됨 -> 리스트가 가변 객체"
      ],
      "metadata": {
        "id": "MVHdi39bIJHh"
      }
    },
    {
      "cell_type": "code",
      "source": [
        "a = 10"
      ],
      "metadata": {
        "id": "-8LaspCrIHCE"
      },
      "execution_count": 245,
      "outputs": []
    },
    {
      "cell_type": "code",
      "source": [
        "b = a"
      ],
      "metadata": {
        "id": "tZ_24a6GIuZb"
      },
      "execution_count": 246,
      "outputs": []
    },
    {
      "cell_type": "code",
      "source": [
        "print(id(a), id(b))"
      ],
      "metadata": {
        "colab": {
          "base_uri": "https://localhost:8080/"
        },
        "id": "APF7inoyIu36",
        "outputId": "6c8adfaa-4eaa-44e4-c773-2cf982f9d2e9"
      },
      "execution_count": 247,
      "outputs": [
        {
          "output_type": "stream",
          "name": "stdout",
          "text": [
            "94708996008736 94708996008736\n"
          ]
        }
      ]
    },
    {
      "cell_type": "code",
      "source": [
        "b = 7"
      ],
      "metadata": {
        "id": "IIRxIjKHI3mx"
      },
      "execution_count": 248,
      "outputs": []
    },
    {
      "cell_type": "code",
      "source": [
        "print(a, id(a), id(b))"
      ],
      "metadata": {
        "colab": {
          "base_uri": "https://localhost:8080/"
        },
        "id": "vL02JI2cI5bE",
        "outputId": "dbc6e742-6a26-4227-f74c-13c81222ece3"
      },
      "execution_count": 249,
      "outputs": [
        {
          "output_type": "stream",
          "name": "stdout",
          "text": [
            "10 94708996008736 94708996008640\n"
          ]
        }
      ]
    },
    {
      "cell_type": "markdown",
      "source": [
        "C++과 달리 파이썬은 참조한 변수가 새로운 값을 가지게 되면 참조 관계가 끊어진다.\n",
        "\n",
        "b의 id는 a와 달라지고, a는 b의 변화와 상관없이 동일값을 가지고 있다."
      ],
      "metadata": {
        "id": "1t_ihue5JEOh"
      }
    },
    {
      "cell_type": "markdown",
      "source": [
        "## is 와 =="
      ],
      "metadata": {
        "id": "DqsQ1AjwJjHa"
      }
    },
    {
      "cell_type": "code",
      "source": [
        "if a is None:\n",
        "  pass"
      ],
      "metadata": {
        "id": "c-h5gfzYI8ib"
      },
      "execution_count": 250,
      "outputs": []
    },
    {
      "cell_type": "markdown",
      "source": [
        "- is: id()값을 비교\n",
        "- None은 null로 값 자체가 정의되어 있지 않아 ==로 비교 불가, is로만 비교"
      ],
      "metadata": {
        "id": "-ateChrnJrL5"
      }
    },
    {
      "cell_type": "code",
      "source": [
        "a = [1, 2, 3]"
      ],
      "metadata": {
        "id": "S1pbEgIZJqHg"
      },
      "execution_count": 251,
      "outputs": []
    },
    {
      "cell_type": "code",
      "source": [
        "list(a)"
      ],
      "metadata": {
        "colab": {
          "base_uri": "https://localhost:8080/"
        },
        "id": "D43HPRBSKy15",
        "outputId": "4ef78f64-6b44-42fa-900a-42f8ad31bef9"
      },
      "execution_count": 252,
      "outputs": [
        {
          "output_type": "execute_result",
          "data": {
            "text/plain": [
              "[1, 2, 3]"
            ]
          },
          "metadata": {},
          "execution_count": 252
        }
      ]
    },
    {
      "cell_type": "code",
      "source": [
        "a == a"
      ],
      "metadata": {
        "colab": {
          "base_uri": "https://localhost:8080/"
        },
        "id": "kugxZ4cxJ78E",
        "outputId": "6582b2da-adba-42ec-ca76-68f11633f8c1"
      },
      "execution_count": 253,
      "outputs": [
        {
          "output_type": "execute_result",
          "data": {
            "text/plain": [
              "True"
            ]
          },
          "metadata": {},
          "execution_count": 253
        }
      ]
    },
    {
      "cell_type": "code",
      "source": [
        "a == list(a)"
      ],
      "metadata": {
        "colab": {
          "base_uri": "https://localhost:8080/"
        },
        "id": "yz8f4wrnJ8sO",
        "outputId": "0f364757-6f4c-456a-92c5-23b8626713ad"
      },
      "execution_count": 254,
      "outputs": [
        {
          "output_type": "execute_result",
          "data": {
            "text/plain": [
              "True"
            ]
          },
          "metadata": {},
          "execution_count": 254
        }
      ]
    },
    {
      "cell_type": "code",
      "source": [
        "a is a"
      ],
      "metadata": {
        "colab": {
          "base_uri": "https://localhost:8080/"
        },
        "id": "UgWC_-2sJ-dz",
        "outputId": "a2a358a8-9eec-4397-e9dc-3d13732c8330"
      },
      "execution_count": 255,
      "outputs": [
        {
          "output_type": "execute_result",
          "data": {
            "text/plain": [
              "True"
            ]
          },
          "metadata": {},
          "execution_count": 255
        }
      ]
    },
    {
      "cell_type": "code",
      "source": [
        "a is list(a)"
      ],
      "metadata": {
        "colab": {
          "base_uri": "https://localhost:8080/"
        },
        "id": "MSVjq2sFJ_7I",
        "outputId": "c7f1edb2-1b01-4f55-85d2-7e06eb5c23b3"
      },
      "execution_count": 256,
      "outputs": [
        {
          "output_type": "execute_result",
          "data": {
            "text/plain": [
              "False"
            ]
          },
          "metadata": {},
          "execution_count": 256
        }
      ]
    },
    {
      "cell_type": "code",
      "source": [
        "print(id(a), id(list(a)))"
      ],
      "metadata": {
        "colab": {
          "base_uri": "https://localhost:8080/"
        },
        "id": "EWALoiQeKTrk",
        "outputId": "f0819b85-dd06-4557-b3c2-b260ef755b91"
      },
      "execution_count": 257,
      "outputs": [
        {
          "output_type": "stream",
          "name": "stdout",
          "text": [
            "140010443382688 140010443321424\n"
          ]
        }
      ]
    },
    {
      "cell_type": "code",
      "source": [
        "a is [a] # list()와 []작동 방식이 같음"
      ],
      "metadata": {
        "colab": {
          "base_uri": "https://localhost:8080/"
        },
        "id": "pQix1S6tKjk6",
        "outputId": "c5b12bd4-ef8c-45a7-844a-134b6c0ac060"
      },
      "execution_count": 258,
      "outputs": [
        {
          "output_type": "execute_result",
          "data": {
            "text/plain": [
              "False"
            ]
          },
          "metadata": {},
          "execution_count": 258
        }
      ]
    },
    {
      "cell_type": "markdown",
      "source": [
        "값은 동일하다.\n",
        "\n",
        "그러나 list()로 한번 더 묶어주면, 새로운 객체로 복사가 되고 다른 id를 가지게 된다. -> list()는 `새로운 객체`를 만든다.\n",
        "\n",
        "=> 따라서 is로 확인하면 False가 된다."
      ],
      "metadata": {
        "id": "TOG8GN9CKDU6"
      }
    },
    {
      "cell_type": "code",
      "source": [
        "a = [1,2,3]"
      ],
      "metadata": {
        "id": "PCLyxiOoKBLT"
      },
      "execution_count": 259,
      "outputs": []
    },
    {
      "cell_type": "code",
      "source": [
        "import copy\n",
        "a == copy.deepcopy(a)"
      ],
      "metadata": {
        "colab": {
          "base_uri": "https://localhost:8080/"
        },
        "id": "Q6pYGXBOLKz0",
        "outputId": "d705c435-8f14-41e9-fda4-3be7267ba292"
      },
      "execution_count": 260,
      "outputs": [
        {
          "output_type": "execute_result",
          "data": {
            "text/plain": [
              "True"
            ]
          },
          "metadata": {},
          "execution_count": 260
        }
      ]
    },
    {
      "cell_type": "code",
      "source": [
        "a is copy.deepcopy(a)"
      ],
      "metadata": {
        "colab": {
          "base_uri": "https://localhost:8080/"
        },
        "id": "6scgEXfaLNwY",
        "outputId": "bd5765e2-1c40-426c-aa69-9d736341b26e"
      },
      "execution_count": 261,
      "outputs": [
        {
          "output_type": "execute_result",
          "data": {
            "text/plain": [
              "False"
            ]
          },
          "metadata": {},
          "execution_count": 261
        }
      ]
    },
    {
      "cell_type": "markdown",
      "source": [
        "값은 같지만 id가 다르다는 것을 알 수 있다.\n",
        "- ==으로 값 비교\n",
        "- is로 id(메모리상의 위치) 비교"
      ],
      "metadata": {
        "id": "Dc9IRtbILc-O"
      }
    },
    {
      "cell_type": "markdown",
      "source": [
        "# Ch5"
      ],
      "metadata": {
        "id": "Yt_D1Ws8MvyH"
      }
    },
    {
      "cell_type": "markdown",
      "source": [
        "## 리스트"
      ],
      "metadata": {
        "id": "ezYZZuIuM0PS"
      }
    },
    {
      "cell_type": "markdown",
      "source": [
        "- 마지막 요소를 추가/추출: O(1)\n",
        "- 원하는 인덱스의 요소 조회: O(1)\n",
        "- 첫번째 요소 추출 `pop(0)`: O(n)\n",
        "- 리스트에서 큐의 연산을 사용할 시 -> Deque 자료형으로 성능을 높일 수 있음\n",
        "- 마치 원시 타입인 `배열`과 `연결 리스트`를 합친 듯한 기능을 함\n",
        "- 그러나 이 기능을 위해 리스트에 각 요소(객체)에 대한 `참조`를 넣기 때문에 속도가 느림"
      ],
      "metadata": {
        "id": "F56XIVbBM3Hp"
      }
    },
    {
      "cell_type": "code",
      "source": [
        "a = [1,2,3,4,5]\n",
        "try:\n",
        "  print(a[6])\n",
        "except IndexError:\n",
        "  print(\"존재하지 않는 인덱스\")"
      ],
      "metadata": {
        "colab": {
          "base_uri": "https://localhost:8080/"
        },
        "id": "iJ6roJEFMz3Y",
        "outputId": "dd410231-10c5-4384-da97-3bdfcc77198c"
      },
      "execution_count": 262,
      "outputs": [
        {
          "output_type": "stream",
          "name": "stdout",
          "text": [
            "존재하지 않는 인덱스\n"
          ]
        }
      ]
    },
    {
      "cell_type": "code",
      "source": [
        "a.remove(3)"
      ],
      "metadata": {
        "id": "KxZiXPOnLaOD"
      },
      "execution_count": 263,
      "outputs": []
    },
    {
      "cell_type": "code",
      "source": [
        "a"
      ],
      "metadata": {
        "colab": {
          "base_uri": "https://localhost:8080/"
        },
        "id": "29yaPT3PN7Ws",
        "outputId": "fa29eb45-2787-40fc-b447-af44c5c42876"
      },
      "execution_count": 264,
      "outputs": [
        {
          "output_type": "execute_result",
          "data": {
            "text/plain": [
              "[1, 2, 4, 5]"
            ]
          },
          "metadata": {},
          "execution_count": 264
        }
      ]
    },
    {
      "cell_type": "markdown",
      "source": [
        "## 딕셔너리\n",
        "- 내부적으로 Hash Table로 구현\n",
        "- 불변 객체를 모두 key로 사용 가능\n",
        "- 입력과 조회 모두 O(1)\n",
        "- 최악의 경우 O(n)이지만 대부분 빨리 실행 됨\n",
        "- 분할 상환 분석시 시간 복잡도는 O(1)\n",
        "- version 3.7 이후로 입력 순서 유지\n",
        "- version 3.6+ 이후로 메모리 사용량 20% 감소\n",
        "- 유용 모듈\n",
        "  - `collections.OrderDict()`: 입력 순서가 항상 유지\n",
        "  - `collections.defaultdict()`: 조회시 항상 디폴트 값을 생성해 키 오류 방지\n",
        "  - `collections.Counter()`: 요소의 값을 키로 하고 개수를 값 형태로 만들어 카운팅\n",
        "  "
      ],
      "metadata": {
        "id": "aeu0-_FvOtuH"
      }
    },
    {
      "cell_type": "code",
      "source": [
        "a = {'key1':'value1',\n",
        "     'key2':'value2',\n",
        "     'key3':'value3'}\n",
        "try:\n",
        "  print(a['key4'])\n",
        "except KeyError:\n",
        "  print(\"존재하지 않는 키\")"
      ],
      "metadata": {
        "colab": {
          "base_uri": "https://localhost:8080/"
        },
        "id": "8grtA5SNN7jE",
        "outputId": "cbd75cc8-e145-4f40-8a1d-4486000ca29c"
      },
      "execution_count": 265,
      "outputs": [
        {
          "output_type": "stream",
          "name": "stdout",
          "text": [
            "존재하지 않는 키\n"
          ]
        }
      ]
    },
    {
      "cell_type": "markdown",
      "source": [
        "## defaultdict\n",
        "- 존재하지 않는 키를 디폴트 값으로 해당 키에 대한 딕셔너리 아이템을 생성"
      ],
      "metadata": {
        "id": "kuOVTXLXRhBl"
      }
    },
    {
      "cell_type": "code",
      "source": [
        "import collections\n",
        "a = collections.defaultdict(int)"
      ],
      "metadata": {
        "id": "LJDzQKNqRXca"
      },
      "execution_count": 266,
      "outputs": []
    },
    {
      "cell_type": "code",
      "source": [
        "a['A'] = 5"
      ],
      "metadata": {
        "id": "CiZm5NH3RurV"
      },
      "execution_count": 267,
      "outputs": []
    },
    {
      "cell_type": "code",
      "source": [
        "a['B'] = 4"
      ],
      "metadata": {
        "id": "9EjQO0V7RxLN"
      },
      "execution_count": 268,
      "outputs": []
    },
    {
      "cell_type": "code",
      "source": [
        "a"
      ],
      "metadata": {
        "colab": {
          "base_uri": "https://localhost:8080/"
        },
        "id": "NBbv9T01Rykf",
        "outputId": "98b2ebe2-b06a-415e-8bca-b69a32d7aceb"
      },
      "execution_count": 269,
      "outputs": [
        {
          "output_type": "execute_result",
          "data": {
            "text/plain": [
              "defaultdict(int, {'A': 5, 'B': 4})"
            ]
          },
          "metadata": {},
          "execution_count": 269
        }
      ]
    },
    {
      "cell_type": "code",
      "source": [
        "a['C'] += 1"
      ],
      "metadata": {
        "id": "nq1QZMhFRzy1"
      },
      "execution_count": 270,
      "outputs": []
    },
    {
      "cell_type": "code",
      "source": [
        "a"
      ],
      "metadata": {
        "colab": {
          "base_uri": "https://localhost:8080/"
        },
        "id": "Hgq1lPP9R7qu",
        "outputId": "e23a9910-ef2d-4129-b660-4d5cf9f9471c"
      },
      "execution_count": 271,
      "outputs": [
        {
          "output_type": "execute_result",
          "data": {
            "text/plain": [
              "defaultdict(int, {'A': 5, 'B': 4, 'C': 1})"
            ]
          },
          "metadata": {},
          "execution_count": 271
        }
      ]
    },
    {
      "cell_type": "markdown",
      "source": [
        "## Counter\n",
        "- key<- 아이템의 값\n",
        "- value<- 해당 아이템의 개수\n",
        "- 딕셔너리를 한 번 더 Wrapping한 collections.Counter 클래스를 가짐"
      ],
      "metadata": {
        "id": "WVkFuMkuSGbI"
      }
    },
    {
      "cell_type": "code",
      "source": [
        "a = [1,2,3,4,5,5,5,6,6]"
      ],
      "metadata": {
        "id": "62rUnaI3R8v9"
      },
      "execution_count": 272,
      "outputs": []
    },
    {
      "cell_type": "code",
      "source": [
        "b = collections.Counter(a)"
      ],
      "metadata": {
        "id": "o8qCaynvSO6g"
      },
      "execution_count": 273,
      "outputs": []
    },
    {
      "cell_type": "code",
      "source": [
        "b"
      ],
      "metadata": {
        "colab": {
          "base_uri": "https://localhost:8080/"
        },
        "id": "OMP4IfzQSTMw",
        "outputId": "cbcf6df8-fab4-4408-dcc0-a600fd626aac"
      },
      "execution_count": 274,
      "outputs": [
        {
          "output_type": "execute_result",
          "data": {
            "text/plain": [
              "Counter({1: 1, 2: 1, 3: 1, 4: 1, 5: 3, 6: 2})"
            ]
          },
          "metadata": {},
          "execution_count": 274
        }
      ]
    },
    {
      "cell_type": "code",
      "source": [
        "type(b)"
      ],
      "metadata": {
        "colab": {
          "base_uri": "https://localhost:8080/"
        },
        "id": "QUzBbgZcSzrm",
        "outputId": "8af94da6-23ae-4870-bc65-db8adc14cf52"
      },
      "execution_count": 275,
      "outputs": [
        {
          "output_type": "execute_result",
          "data": {
            "text/plain": [
              "collections.Counter"
            ]
          },
          "metadata": {},
          "execution_count": 275
        }
      ]
    },
    {
      "cell_type": "code",
      "source": [
        "b.most_common(2) # 빈도수 높은 요소 추출"
      ],
      "metadata": {
        "colab": {
          "base_uri": "https://localhost:8080/"
        },
        "id": "pgVBK5iMS4hX",
        "outputId": "db65ccda-e8b8-4a3b-ed94-9bf2addc7550"
      },
      "execution_count": 276,
      "outputs": [
        {
          "output_type": "execute_result",
          "data": {
            "text/plain": [
              "[(5, 3), (6, 2)]"
            ]
          },
          "metadata": {},
          "execution_count": 276
        }
      ]
    },
    {
      "cell_type": "markdown",
      "source": [
        "## OrderedDict\n",
        "- 대부분 해시 테이블을 이용한 자료형은 입력 순서 유지 안됨\n",
        "- OrderedDict를 이용해서 입력 순서 유지 가능\n",
        "- version 3.7 이후로는 내부적으로 입력 순서 유지되도록 개선"
      ],
      "metadata": {
        "id": "Mega_52mSJG4"
      }
    },
    {
      "cell_type": "code",
      "source": [
        "!python --version"
      ],
      "metadata": {
        "colab": {
          "base_uri": "https://localhost:8080/"
        },
        "id": "3xYtXjpCSKU1",
        "outputId": "a2f7c5ed-2cc5-46f3-a006-75a2f3103e43"
      },
      "execution_count": 277,
      "outputs": [
        {
          "output_type": "stream",
          "name": "stdout",
          "text": [
            "Python 3.7.12\n"
          ]
        }
      ]
    },
    {
      "cell_type": "markdown",
      "source": [
        "## 타입 선언"
      ],
      "metadata": {
        "id": "LQzSAxUcTdju"
      }
    },
    {
      "cell_type": "code",
      "source": [
        "type([])"
      ],
      "metadata": {
        "colab": {
          "base_uri": "https://localhost:8080/"
        },
        "id": "PdCln222TXnW",
        "outputId": "514268a7-2474-4caf-fc4b-8fb6505bd02b"
      },
      "execution_count": 278,
      "outputs": [
        {
          "output_type": "execute_result",
          "data": {
            "text/plain": [
              "list"
            ]
          },
          "metadata": {},
          "execution_count": 278
        }
      ]
    },
    {
      "cell_type": "code",
      "source": [
        "type(())"
      ],
      "metadata": {
        "colab": {
          "base_uri": "https://localhost:8080/"
        },
        "id": "cP6ciZkaTiLK",
        "outputId": "3dc3f3bf-5833-46aa-a783-28c96f86151c"
      },
      "execution_count": 279,
      "outputs": [
        {
          "output_type": "execute_result",
          "data": {
            "text/plain": [
              "tuple"
            ]
          },
          "metadata": {},
          "execution_count": 279
        }
      ]
    },
    {
      "cell_type": "code",
      "source": [
        "type({})"
      ],
      "metadata": {
        "colab": {
          "base_uri": "https://localhost:8080/"
        },
        "id": "2Saafsq1TjSu",
        "outputId": "31475a6c-6e1a-4ba8-e7af-fd992c379dd6"
      },
      "execution_count": 280,
      "outputs": [
        {
          "output_type": "execute_result",
          "data": {
            "text/plain": [
              "dict"
            ]
          },
          "metadata": {},
          "execution_count": 280
        }
      ]
    },
    {
      "cell_type": "code",
      "source": [
        "type({1})"
      ],
      "metadata": {
        "colab": {
          "base_uri": "https://localhost:8080/"
        },
        "id": "fzXQTGgaTkWy",
        "outputId": "77f95486-d751-4886-b08d-3a41cc2030bb"
      },
      "execution_count": 281,
      "outputs": [
        {
          "output_type": "execute_result",
          "data": {
            "text/plain": [
              "set"
            ]
          },
          "metadata": {},
          "execution_count": 281
        }
      ]
    },
    {
      "cell_type": "markdown",
      "source": [
        "# Ch6"
      ],
      "metadata": {
        "id": "YO4TxwXHTovM"
      }
    },
    {
      "cell_type": "markdown",
      "source": [
        "## 1. 유효한 팰린드롬\n",
        "https://leetcode.com/problems/valid-palindrome/\n"
      ],
      "metadata": {
        "id": "xRWlTYLWT4vn"
      }
    },
    {
      "cell_type": "code",
      "source": [
        "input1 = \"A man, a plan, a canal: Panama\"\n",
        "input2 = \"race a car\""
      ],
      "metadata": {
        "id": "O003L7EpXmXP"
      },
      "execution_count": 282,
      "outputs": []
    },
    {
      "cell_type": "markdown",
      "source": [
        "### 1-1. 리스트로 변환"
      ],
      "metadata": {
        "id": "W1M5byHZUKC-"
      }
    },
    {
      "cell_type": "code",
      "source": [
        "class Solution:\n",
        "    def isPalindrome(self, s:str) -> bool:\n",
        "        strs = []\n",
        "        for char in s:\n",
        "            if char.isalnum():\n",
        "                strs.append(char.lower())\n",
        "        while len(strs) > 1:\n",
        "            if strs.pop(0) != strs.pop():\n",
        "                return False\n",
        "\n",
        "        return True"
      ],
      "metadata": {
        "id": "FQHHZ0qzTlTo"
      },
      "execution_count": 283,
      "outputs": []
    },
    {
      "cell_type": "code",
      "source": [
        "solution = Solution()\n",
        "output = solution.isPalindrome(input1)\n",
        "output"
      ],
      "metadata": {
        "id": "IOh4l2OgW1Cw",
        "colab": {
          "base_uri": "https://localhost:8080/"
        },
        "outputId": "55ccd284-3ff2-4d88-f577-df26908b755b"
      },
      "execution_count": 284,
      "outputs": [
        {
          "output_type": "execute_result",
          "data": {
            "text/plain": [
              "True"
            ]
          },
          "metadata": {},
          "execution_count": 284
        }
      ]
    },
    {
      "cell_type": "code",
      "source": [
        "output = solution.isPalindrome(input2)\n",
        "output"
      ],
      "metadata": {
        "colab": {
          "base_uri": "https://localhost:8080/"
        },
        "id": "hM3wCiuoXxfu",
        "outputId": "1f61ebea-4f17-4e18-eb0b-db259740462f"
      },
      "execution_count": 285,
      "outputs": [
        {
          "output_type": "execute_result",
          "data": {
            "text/plain": [
              "False"
            ]
          },
          "metadata": {},
          "execution_count": 285
        }
      ]
    },
    {
      "cell_type": "markdown",
      "source": [
        "### 1-2. 데크 자료형을 이용한 최적화\n",
        "- list의 `pop(0)` : O(n)\n",
        "- deque의 `popleft()` : O(1)"
      ],
      "metadata": {
        "id": "JQUeEJbJYsBD"
      }
    },
    {
      "cell_type": "code",
      "source": [
        "class Solution:\n",
        "    def isPalindrome(self, s:str) -> bool:\n",
        "        strs: Deque = collections.deque()\n",
        "\n",
        "        for char in s:\n",
        "            if char.isalnum():\n",
        "                strs.append(char.lower())\n",
        "\n",
        "        while len(strs) > 1:\n",
        "            if strs.popleft() != strs.pop():\n",
        "                return False\n",
        "        return True"
      ],
      "metadata": {
        "id": "3M4of4HDYjae"
      },
      "execution_count": 286,
      "outputs": []
    },
    {
      "cell_type": "code",
      "source": [
        "solution = Solution()\n",
        "output = solution.isPalindrome(input1)\n",
        "output"
      ],
      "metadata": {
        "colab": {
          "base_uri": "https://localhost:8080/"
        },
        "id": "GNjtBvoOZno7",
        "outputId": "b0d22819-5dd0-450e-aef0-2d3f80a094b4"
      },
      "execution_count": 287,
      "outputs": [
        {
          "output_type": "execute_result",
          "data": {
            "text/plain": [
              "True"
            ]
          },
          "metadata": {},
          "execution_count": 287
        }
      ]
    },
    {
      "cell_type": "code",
      "source": [
        "output = solution.isPalindrome(input2)\n",
        "output"
      ],
      "metadata": {
        "colab": {
          "base_uri": "https://localhost:8080/"
        },
        "id": "5OBdKG7ShJGs",
        "outputId": "05e25748-7de0-4d9d-9c6c-dc29752fa924"
      },
      "execution_count": 288,
      "outputs": [
        {
          "output_type": "execute_result",
          "data": {
            "text/plain": [
              "False"
            ]
          },
          "metadata": {},
          "execution_count": 288
        }
      ]
    },
    {
      "cell_type": "markdown",
      "source": [
        "### 1-3. 슬라이싱 사용\n",
        "- 한번에 영숫자 Alphanumeric 만 걸러내도록 정규식 처리\n",
        "- 문자열 조작 시, 슬라이싱을 우선으로 사용하는 것이 속도 개선에 유리"
      ],
      "metadata": {
        "id": "KELtv6BlhMmP"
      }
    },
    {
      "cell_type": "code",
      "source": [
        "import re\n",
        "\n",
        "class Solution:\n",
        "    def isPalindrome(self, s:str) -> bool:\n",
        "        s = s.lower()\n",
        "        s = re.sub('[^a-z0-9]', '', s)\n",
        "        return s ==s[::-1]"
      ],
      "metadata": {
        "id": "lShlTY_ahLeL"
      },
      "execution_count": 289,
      "outputs": []
    },
    {
      "cell_type": "code",
      "source": [
        "solution = Solution()\n",
        "output = solution.isPalindrome(input1)\n",
        "output"
      ],
      "metadata": {
        "colab": {
          "base_uri": "https://localhost:8080/"
        },
        "outputId": "f18bfa18-3f94-446d-b8f2-979968a99fb4",
        "id": "xH4YwH_Ch4ej"
      },
      "execution_count": 290,
      "outputs": [
        {
          "output_type": "execute_result",
          "data": {
            "text/plain": [
              "True"
            ]
          },
          "metadata": {},
          "execution_count": 290
        }
      ]
    },
    {
      "cell_type": "code",
      "source": [
        "output = solution.isPalindrome(input2)\n",
        "output"
      ],
      "metadata": {
        "colab": {
          "base_uri": "https://localhost:8080/"
        },
        "outputId": "92ea7fec-ce3b-45b6-cc0c-2e913995e8db",
        "id": "mZOvuCzWh4el"
      },
      "execution_count": 291,
      "outputs": [
        {
          "output_type": "execute_result",
          "data": {
            "text/plain": [
              "False"
            ]
          },
          "metadata": {},
          "execution_count": 291
        }
      ]
    },
    {
      "cell_type": "markdown",
      "source": [
        "## 2. 문자열 뒤집기\n",
        "\n",
        "https://leetcode.com/problems/reverse-string/\n",
        "- return 없이 리스트 내부를 직접 조작"
      ],
      "metadata": {
        "id": "e4cCPtTHiLL6"
      }
    },
    {
      "cell_type": "code",
      "source": [
        "input1 = [\"h\",\"e\",\"l\",\"l\",\"o\"]\n",
        "input2 = [\"H\",\"a\",\"n\",\"n\",\"a\",\"h\"]"
      ],
      "metadata": {
        "id": "L-Es97v0h2ya"
      },
      "execution_count": 292,
      "outputs": []
    },
    {
      "cell_type": "markdown",
      "source": [
        "### 2-1. 투 포인터를 이용한 스왑\n",
        "- input s의 내부를 스왑하는 형태"
      ],
      "metadata": {
        "id": "xGa9ZRyhieFK"
      }
    },
    {
      "cell_type": "code",
      "source": [
        "from typing import List # typing 모듈로 타입 명시\n",
        "\n",
        "class Solution:\n",
        "    def reverseString(self, s: List[str]) -> None:\n",
        "        left, right = 0, len(s)-1\n",
        "        while left < right:\n",
        "            # print(left, right)\n",
        "            # print(s[left])\n",
        "            s[left], s[right] = s[right], s[left]\n",
        "            left += 1\n",
        "            right -= 1"
      ],
      "metadata": {
        "id": "vKc1CpAsicES"
      },
      "execution_count": 293,
      "outputs": []
    },
    {
      "cell_type": "code",
      "source": [
        "solution = Solution()\n",
        "solution.reverseString(input1)\n",
        "input1"
      ],
      "metadata": {
        "colab": {
          "base_uri": "https://localhost:8080/"
        },
        "outputId": "91c94db5-5354-44d4-c55d-5c2c2c00e396",
        "id": "fJG_Eh0mjsYZ"
      },
      "execution_count": 294,
      "outputs": [
        {
          "output_type": "execute_result",
          "data": {
            "text/plain": [
              "['o', 'l', 'l', 'e', 'h']"
            ]
          },
          "metadata": {},
          "execution_count": 294
        }
      ]
    },
    {
      "cell_type": "code",
      "source": [
        "solution.reverseString(input2)\n",
        "input2"
      ],
      "metadata": {
        "colab": {
          "base_uri": "https://localhost:8080/"
        },
        "outputId": "b0aed129-db4a-4696-f0bb-e3cb29d0d6ff",
        "id": "KPr6nJgWjsYn"
      },
      "execution_count": 295,
      "outputs": [
        {
          "output_type": "execute_result",
          "data": {
            "text/plain": [
              "['h', 'a', 'n', 'n', 'a', 'H']"
            ]
          },
          "metadata": {},
          "execution_count": 295
        }
      ]
    },
    {
      "cell_type": "markdown",
      "source": [
        "### 2.2 파이썬다운 방식"
      ],
      "metadata": {
        "id": "HZUMR-aZmHMI"
      }
    },
    {
      "cell_type": "code",
      "source": [
        "class Solution:\n",
        "    def reverseString(self, s: List[str]) -> None:\n",
        "        s.reverse()"
      ],
      "metadata": {
        "id": "OlU7VXECjP6V"
      },
      "execution_count": 296,
      "outputs": []
    },
    {
      "cell_type": "code",
      "source": [
        "solution = Solution()\n",
        "solution.reverseString(input1)\n",
        "input1"
      ],
      "metadata": {
        "colab": {
          "base_uri": "https://localhost:8080/"
        },
        "outputId": "6fb56dda-3d18-4b77-a367-47ec3c082915",
        "id": "uz5asIy2me18"
      },
      "execution_count": 297,
      "outputs": [
        {
          "output_type": "execute_result",
          "data": {
            "text/plain": [
              "['h', 'e', 'l', 'l', 'o']"
            ]
          },
          "metadata": {},
          "execution_count": 297
        }
      ]
    },
    {
      "cell_type": "code",
      "source": [
        "solution.reverseString(input2)\n",
        "input2"
      ],
      "metadata": {
        "colab": {
          "base_uri": "https://localhost:8080/"
        },
        "outputId": "203c4699-3763-4f77-a373-5de1c06bb2d2",
        "id": "QlSXxBqCme1-"
      },
      "execution_count": 298,
      "outputs": [
        {
          "output_type": "execute_result",
          "data": {
            "text/plain": [
              "['H', 'a', 'n', 'n', 'a', 'h']"
            ]
          },
          "metadata": {},
          "execution_count": 298
        }
      ]
    },
    {
      "cell_type": "markdown",
      "source": [
        "### 2.3 [::-1] 트릭\n",
        "- 리트코드에서 공간 복잡도를 O(1)로 제한하여 변수 할당을 처리하는데 제약이 있음"
      ],
      "metadata": {
        "id": "nAePoS3MnKHP"
      }
    },
    {
      "cell_type": "code",
      "source": [
        "input3 = \"Python\"\n",
        "input3 = [i for i in input3]\n",
        "input3[:] = input3[::-1]"
      ],
      "metadata": {
        "id": "drGfeAD_mdUI"
      },
      "execution_count": 299,
      "outputs": []
    },
    {
      "cell_type": "code",
      "source": [
        "input3"
      ],
      "metadata": {
        "colab": {
          "base_uri": "https://localhost:8080/"
        },
        "id": "yUXm5V1omtwv",
        "outputId": "523705da-8a63-4cb5-b44f-74826465acb9"
      },
      "execution_count": 300,
      "outputs": [
        {
          "output_type": "execute_result",
          "data": {
            "text/plain": [
              "['n', 'o', 'h', 't', 'y', 'P']"
            ]
          },
          "metadata": {},
          "execution_count": 300
        }
      ]
    },
    {
      "cell_type": "code",
      "source": [
        "class Solution:\n",
        "    def reverseString(self, s: List[str]) -> None:\n",
        "        s[:]=s[::-1]"
      ],
      "metadata": {
        "id": "tXzybZVXnEWS"
      },
      "execution_count": 301,
      "outputs": []
    },
    {
      "cell_type": "code",
      "source": [
        "solution = Solution()\n",
        "solution.reverseString(input1)\n",
        "input1"
      ],
      "metadata": {
        "colab": {
          "base_uri": "https://localhost:8080/"
        },
        "outputId": "15b31374-d6ef-4504-a684-934d9e8e36af",
        "id": "SUbwPZM2nlyC"
      },
      "execution_count": 302,
      "outputs": [
        {
          "output_type": "execute_result",
          "data": {
            "text/plain": [
              "['o', 'l', 'l', 'e', 'h']"
            ]
          },
          "metadata": {},
          "execution_count": 302
        }
      ]
    },
    {
      "cell_type": "code",
      "source": [
        "solution.reverseString(input2)\n",
        "input2"
      ],
      "metadata": {
        "colab": {
          "base_uri": "https://localhost:8080/"
        },
        "outputId": "0f8bdde8-fcab-454f-81c6-60d838084953",
        "id": "MgX8MMMCnlyE"
      },
      "execution_count": 303,
      "outputs": [
        {
          "output_type": "execute_result",
          "data": {
            "text/plain": [
              "['h', 'a', 'n', 'n', 'a', 'H']"
            ]
          },
          "metadata": {},
          "execution_count": 303
        }
      ]
    },
    {
      "cell_type": "code",
      "source": [
        "input4 = ['n', 'o', 'h', 't', 'y', 'P']\n",
        "solution.reverseString(input4)\n",
        "input4"
      ],
      "metadata": {
        "colab": {
          "base_uri": "https://localhost:8080/"
        },
        "id": "uPv6DmtVni4H",
        "outputId": "6db7fe0d-2818-49da-c21b-ee566a4424fe"
      },
      "execution_count": 304,
      "outputs": [
        {
          "output_type": "execute_result",
          "data": {
            "text/plain": [
              "['P', 'y', 't', 'h', 'o', 'n']"
            ]
          },
          "metadata": {},
          "execution_count": 304
        }
      ]
    },
    {
      "cell_type": "markdown",
      "source": [
        "## 3. 로그파일 재정렬\n",
        "\n",
        "https://leetcode.com/problems/reorder-data-in-log-files/\n",
        "\n",
        "- 맨 앞: 식별자\n",
        "- 문자 로그가 숫자로그보다 앞\n",
        "- 문자 로그가 동일하면(art) 식별자 순으로\n",
        "- 숫자 로그는 입력 순서대로 \n"
      ],
      "metadata": {
        "id": "ZYuaA75En1h3"
      }
    },
    {
      "cell_type": "code",
      "source": [
        "input1 = [\"dig1 8 1 5 1\",\"let1 art can\",\"dig2 3 6\",\"let2 own kit dig\",\"let3 art zero\"]\n",
        "input2 = [\"a1 9 2 3 1\",\"g1 act car\",\"zo4 4 7\",\"ab1 off key dog\",\"a8 act zoo\"]"
      ],
      "metadata": {
        "id": "OVOKnTNRnptZ"
      },
      "execution_count": 305,
      "outputs": []
    },
    {
      "cell_type": "markdown",
      "source": [
        "### 3-1. 람다와 + 연산자를 이용"
      ],
      "metadata": {
        "id": "EjnvnyDxoKbr"
      }
    },
    {
      "cell_type": "code",
      "source": [
        "class Solution:\n",
        "    def reorderLogFiles(self, logs: List[str]) -> List[str]:\n",
        "        letters, digits = [], []\n",
        "        for log in logs:\n",
        "            print(log.split()[1])\n",
        "            if log.split()[1].isdigit():\n",
        "                digits.append(log)\n",
        "            else:\n",
        "                letters.append(log)\n",
        "\n",
        "        letters.sort(key=lambda x: (x.split()[1:], x.split()[0]))\n",
        "        return letters + digits"
      ],
      "metadata": {
        "id": "Ov8XGfSioHY6"
      },
      "execution_count": 306,
      "outputs": []
    },
    {
      "cell_type": "code",
      "source": [
        "solution = Solution()\n",
        "output = solution.reorderLogFiles(input1)\n",
        "output"
      ],
      "metadata": {
        "colab": {
          "base_uri": "https://localhost:8080/"
        },
        "id": "vqJLCMyls8VE",
        "outputId": "3b524987-3e95-42ab-9cc3-27b989672dee"
      },
      "execution_count": 307,
      "outputs": [
        {
          "output_type": "stream",
          "name": "stdout",
          "text": [
            "8\n",
            "art\n",
            "3\n",
            "own\n",
            "art\n"
          ]
        },
        {
          "output_type": "execute_result",
          "data": {
            "text/plain": [
              "['let1 art can',\n",
              " 'let3 art zero',\n",
              " 'let2 own kit dig',\n",
              " 'dig1 8 1 5 1',\n",
              " 'dig2 3 6']"
            ]
          },
          "metadata": {},
          "execution_count": 307
        }
      ]
    },
    {
      "cell_type": "code",
      "source": [
        "output = solution.reorderLogFiles(input2)\n",
        "output"
      ],
      "metadata": {
        "colab": {
          "base_uri": "https://localhost:8080/"
        },
        "id": "5iKXPpKPtFvX",
        "outputId": "ef533fb2-7a00-41a7-8f3d-d22268f733f3"
      },
      "execution_count": 308,
      "outputs": [
        {
          "output_type": "stream",
          "name": "stdout",
          "text": [
            "9\n",
            "act\n",
            "4\n",
            "off\n",
            "act\n"
          ]
        },
        {
          "output_type": "execute_result",
          "data": {
            "text/plain": [
              "['g1 act car', 'a8 act zoo', 'ab1 off key dog', 'a1 9 2 3 1', 'zo4 4 7']"
            ]
          },
          "metadata": {},
          "execution_count": 308
        }
      ]
    },
    {
      "cell_type": "markdown",
      "source": [
        "### 람다 표현식\n",
        "- 식별자 없이 실행 가능한 함수"
      ],
      "metadata": {
        "id": "tkSVwuIZtZvj"
      }
    },
    {
      "cell_type": "code",
      "source": [
        "s = [\"2 A\", \"1 B\", \"4 C\", \"1 A\"]"
      ],
      "metadata": {
        "id": "DxL4rO1StLTz"
      },
      "execution_count": 309,
      "outputs": []
    },
    {
      "cell_type": "code",
      "source": [
        "sorted(s)"
      ],
      "metadata": {
        "colab": {
          "base_uri": "https://localhost:8080/"
        },
        "id": "7194MF9J_gkq",
        "outputId": "68a1aaf8-ecc7-45b4-c2b0-e0a043d0d57f"
      },
      "execution_count": 310,
      "outputs": [
        {
          "output_type": "execute_result",
          "data": {
            "text/plain": [
              "['1 A', '1 B', '2 A', '4 C']"
            ]
          },
          "metadata": {},
          "execution_count": 310
        }
      ]
    },
    {
      "cell_type": "code",
      "source": [
        "def func(x):\n",
        "    return x.split()[1], x.split()[0]"
      ],
      "metadata": {
        "id": "eKVjl4Sy_jag"
      },
      "execution_count": 311,
      "outputs": []
    },
    {
      "cell_type": "code",
      "source": [
        "s.sort(key=func)"
      ],
      "metadata": {
        "id": "Ed7W_qDC_wJH"
      },
      "execution_count": 312,
      "outputs": []
    },
    {
      "cell_type": "code",
      "source": [
        "s"
      ],
      "metadata": {
        "colab": {
          "base_uri": "https://localhost:8080/"
        },
        "id": "HlvUFjnJ_ynh",
        "outputId": "8bd6bd9e-4b8f-4ae2-c3b4-3a6cca3ec1d0"
      },
      "execution_count": 313,
      "outputs": [
        {
          "output_type": "execute_result",
          "data": {
            "text/plain": [
              "['1 A', '2 A', '1 B', '4 C']"
            ]
          },
          "metadata": {},
          "execution_count": 313
        }
      ]
    },
    {
      "cell_type": "code",
      "source": [
        "s.sort(key=lambda x: (x.split()[1], x.split()[0]))"
      ],
      "metadata": {
        "id": "brb72tJ3_zKP"
      },
      "execution_count": 314,
      "outputs": []
    },
    {
      "cell_type": "code",
      "source": [
        "s"
      ],
      "metadata": {
        "colab": {
          "base_uri": "https://localhost:8080/"
        },
        "id": "BJYeByBhANEw",
        "outputId": "024e0685-561a-405f-e465-e79347ebd9ed"
      },
      "execution_count": 315,
      "outputs": [
        {
          "output_type": "execute_result",
          "data": {
            "text/plain": [
              "['1 A', '2 A', '1 B', '4 C']"
            ]
          },
          "metadata": {},
          "execution_count": 315
        }
      ]
    },
    {
      "cell_type": "markdown",
      "source": [
        "## 4. 가장 흔한 단어\n",
        "\n",
        "https://leetcode.com/problems/most-common-word/"
      ],
      "metadata": {
        "id": "rVP0EDJ3AQaa"
      }
    },
    {
      "cell_type": "code",
      "source": [
        "paragraph = \"Bob hit a ball, the hit BALL flew far after it was hit.\"\n",
        "banned = [\"hit\"]"
      ],
      "metadata": {
        "id": "0aMpDe78AODl"
      },
      "execution_count": 316,
      "outputs": []
    },
    {
      "cell_type": "markdown",
      "source": [
        "### 4.1 리스트 컴프리헨션, Counter 객제 사용"
      ],
      "metadata": {
        "id": "GI3umia5Arox"
      }
    },
    {
      "cell_type": "code",
      "source": [
        "result = re.sub(r'[^\\w]', ' ', paragraph)\n",
        "result"
      ],
      "metadata": {
        "colab": {
          "base_uri": "https://localhost:8080/",
          "height": 35
        },
        "id": "7kRTr-6ND_Ey",
        "outputId": "c7041e26-3ece-422a-eb77-517a2822403d"
      },
      "execution_count": 317,
      "outputs": [
        {
          "output_type": "execute_result",
          "data": {
            "application/vnd.google.colaboratory.intrinsic+json": {
              "type": "string"
            },
            "text/plain": [
              "'Bob hit a ball  the hit BALL flew far after it was hit '"
            ]
          },
          "metadata": {},
          "execution_count": 317
        }
      ]
    },
    {
      "cell_type": "code",
      "source": [
        "class Solution:\n",
        "    def mostCommonWord(self, paragraph: str, banned: List[str]) -> str:\n",
        "        words = [word for word in re.sub(r'[^\\w]', ' ', paragraph).lower().split() if word not in banned]\n",
        "        counts = collections.Counter(words)\n",
        "        return counts.most_common(1)[0][0]"
      ],
      "metadata": {
        "id": "Raaf2JE4AocJ"
      },
      "execution_count": 318,
      "outputs": []
    },
    {
      "cell_type": "code",
      "source": [
        "solution = Solution()\n",
        "output = solution.mostCommonWord(paragraph, banned)\n",
        "output"
      ],
      "metadata": {
        "colab": {
          "base_uri": "https://localhost:8080/",
          "height": 35
        },
        "id": "kM__1JLbCoIM",
        "outputId": "bdd7914c-0f72-4539-d415-3cbd31259b2c"
      },
      "execution_count": 319,
      "outputs": [
        {
          "output_type": "execute_result",
          "data": {
            "application/vnd.google.colaboratory.intrinsic+json": {
              "type": "string"
            },
            "text/plain": [
              "'ball'"
            ]
          },
          "metadata": {},
          "execution_count": 319
        }
      ]
    },
    {
      "cell_type": "markdown",
      "source": [
        "## 5. 그룹 애너그램\n",
        "\n",
        "https://leetcode.com/problems/group-anagrams/"
      ],
      "metadata": {
        "id": "9dmYpNV8EMQZ"
      }
    },
    {
      "cell_type": "code",
      "source": [
        "input = [\"eat\",\"tea\",\"tan\",\"ate\",\"nat\",\"bat\"]"
      ],
      "metadata": {
        "id": "fqnSiO3nCzpK"
      },
      "execution_count": 320,
      "outputs": []
    },
    {
      "cell_type": "markdown",
      "source": [
        "### 5-1. 정렬하여 딕셔너리에 추가"
      ],
      "metadata": {
        "id": "x3z3UmGtEgQv"
      }
    },
    {
      "cell_type": "code",
      "source": [
        "class Solution:\n",
        "    def groupAnagram(self, strs: List[str]) -> List[List[str]]:\n",
        "        anagrams = collections.defaultdict(list)\n",
        "\n",
        "        for word in strs:\n",
        "            anagrams[''.join(sorted(word))].append(word)\n",
        "        return anagrams.values()"
      ],
      "metadata": {
        "id": "1Lq4sgdhEcet"
      },
      "execution_count": 321,
      "outputs": []
    },
    {
      "cell_type": "code",
      "source": [
        "solution = Solution()\n",
        "output = solution.groupAnagram(input)\n",
        "output"
      ],
      "metadata": {
        "colab": {
          "base_uri": "https://localhost:8080/"
        },
        "id": "rICJZq40F_f1",
        "outputId": "28a0352c-ebe5-48c6-f5cd-4d9991bedbb9"
      },
      "execution_count": 322,
      "outputs": [
        {
          "output_type": "execute_result",
          "data": {
            "text/plain": [
              "dict_values([['eat', 'tea', 'ate'], ['tan', 'nat'], ['bat']])"
            ]
          },
          "metadata": {},
          "execution_count": 322
        }
      ]
    },
    {
      "cell_type": "markdown",
      "source": [
        "### 여러가지 정렬"
      ],
      "metadata": {
        "id": "4PsZnM0eGQDa"
      }
    },
    {
      "cell_type": "markdown",
      "source": [
        "sorted()"
      ],
      "metadata": {
        "id": "gt2Cq9RmG7jH"
      }
    },
    {
      "cell_type": "code",
      "source": [
        "b = 'sbifx'\n",
        "\"\".join(sorted(b))"
      ],
      "metadata": {
        "colab": {
          "base_uri": "https://localhost:8080/",
          "height": 35
        },
        "id": "fgVdUmF-GF9B",
        "outputId": "3a08ee94-7171-4e58-b6ab-923cb0e37fae"
      },
      "execution_count": 323,
      "outputs": [
        {
          "output_type": "execute_result",
          "data": {
            "application/vnd.google.colaboratory.intrinsic+json": {
              "type": "string"
            },
            "text/plain": [
              "'bfisx'"
            ]
          },
          "metadata": {},
          "execution_count": 323
        }
      ]
    },
    {
      "cell_type": "code",
      "source": [
        "c = [\"ccc\", \"qwje\", \"aaaaaa\", \"jz\"]\n",
        "sorted(c, key=len)"
      ],
      "metadata": {
        "colab": {
          "base_uri": "https://localhost:8080/"
        },
        "id": "77hA0BZsG9I2",
        "outputId": "e1e1e8b5-ecc8-4caa-c77d-7bf0f3363046"
      },
      "execution_count": 324,
      "outputs": [
        {
          "output_type": "execute_result",
          "data": {
            "text/plain": [
              "['jz', 'ccc', 'qwje', 'aaaaaa']"
            ]
          },
          "metadata": {},
          "execution_count": 324
        }
      ]
    },
    {
      "cell_type": "code",
      "source": [
        "a = [\"cde\", \"cfc\", \"abc\"]\n",
        "def fn(s):\n",
        "    return s[0], s[-1]\n",
        "\n",
        "print(sorted(a, key=fn))"
      ],
      "metadata": {
        "colab": {
          "base_uri": "https://localhost:8080/"
        },
        "id": "dG11bIHoHQlP",
        "outputId": "64110142-2f99-428d-d8c6-21eaaf833ac5"
      },
      "execution_count": 325,
      "outputs": [
        {
          "output_type": "stream",
          "name": "stdout",
          "text": [
            "['abc', 'cfc', 'cde']\n"
          ]
        }
      ]
    },
    {
      "cell_type": "code",
      "source": [
        "sorted(a, key=lambda s: (s[0], s[-1])) # lambda input: return "
      ],
      "metadata": {
        "colab": {
          "base_uri": "https://localhost:8080/"
        },
        "id": "HBTIrJbOHlO4",
        "outputId": "d9a7a414-190c-439a-bf50-aea7c6b117e3"
      },
      "execution_count": 326,
      "outputs": [
        {
          "output_type": "execute_result",
          "data": {
            "text/plain": [
              "['abc', 'cfc', 'cde']"
            ]
          },
          "metadata": {},
          "execution_count": 326
        }
      ]
    },
    {
      "cell_type": "markdown",
      "source": [
        "list 내장 메소드 sort()는 In-place Sort로 별도의 추가 공간 필요 없음, 리턴 값 없음"
      ],
      "metadata": {
        "id": "aWN471dHGfPP"
      }
    },
    {
      "cell_type": "code",
      "source": [
        "a = [\"3\", \"a\", \"b\", \"ㄱ\", \"_\"]\n",
        "a.sort()\n",
        "a"
      ],
      "metadata": {
        "colab": {
          "base_uri": "https://localhost:8080/"
        },
        "id": "TMA4G_uTGZGZ",
        "outputId": "35e5cd8c-a757-4ae8-d8f4-c1f8fb06fb15"
      },
      "execution_count": 327,
      "outputs": [
        {
          "output_type": "execute_result",
          "data": {
            "text/plain": [
              "['3', '_', 'a', 'b', 'ㄱ']"
            ]
          },
          "metadata": {},
          "execution_count": 327
        }
      ]
    },
    {
      "cell_type": "markdown",
      "source": [
        "### [Timsort](https://d2.naver.com/helloworld/0315536)"
      ],
      "metadata": {
        "id": "Sqf490yJI8QO"
      }
    },
    {
      "cell_type": "markdown",
      "source": [
        "## 6. 가장 긴 팰린드롬 부분 문자열\n",
        "\n",
        "https://leetcode.com/problems/longest-palindromic-substring/"
      ],
      "metadata": {
        "id": "kwII4w8LJIL_"
      }
    },
    {
      "cell_type": "code",
      "source": [
        "input1 = \"babad\"\n",
        "input2 = \"cbbd\""
      ],
      "metadata": {
        "id": "fIjfwIYkGygE"
      },
      "execution_count": 328,
      "outputs": []
    },
    {
      "cell_type": "markdown",
      "source": [
        "### 6.1 중앙을 중심으로 확장하는 풀이\n",
        "- 최장 공통 부분 문자열 문제\n",
        "    - 다이나믹 프로그래밍으로 풀수 있음 \n",
        "- 좀 더 직관적인 풀이인 투 포인터가 중앙을 중심으로 확장하는 형태\n",
        "- 짝수, 홀수 투 포인터 이동"
      ],
      "metadata": {
        "id": "9Qu_frbYJcqB"
      }
    },
    {
      "cell_type": "code",
      "source": [
        "class Solution:\n",
        "    def longestPalindrome(self, s: str) -> str:\n",
        "\n",
        "        def expand(left: int, right: int) -> str:\n",
        "            while left >= 0 and right <= len(s) and s[left] == s[right -1]:\n",
        "                left -= 1\n",
        "                right += 1\n",
        "            return s[left + 1:right - 1]\n",
        "\n",
        "        if len(s) < 2 or s == s[::-1]:\n",
        "            # filtering\n",
        "            return s\n",
        "        \n",
        "        result = \"\"\n",
        "\n",
        "        for i in range(len(s) - 1):\n",
        "            # move to right\n",
        "            print(i)\n",
        "            result = max(result,\n",
        "                         expand(i, i+1),\n",
        "                         expand(i, i+2),\n",
        "                         key=len)\n",
        "            print(expand(i, i+1),\"|\", expand(i, i+2), \"|\", result)\n",
        "            print(\"-\"*30)\n",
        "        return result"
      ],
      "metadata": {
        "id": "kop8IMjUJbGR"
      },
      "execution_count": 341,
      "outputs": []
    },
    {
      "cell_type": "code",
      "source": [
        "solution = Solution()\n",
        "output = solution.longestPalindrome(input1)\n",
        "output"
      ],
      "metadata": {
        "colab": {
          "base_uri": "https://localhost:8080/",
          "height": 256
        },
        "id": "85EfCo_RZlpz",
        "outputId": "9589cd2e-6715-4b21-f2ec-985cd8ac3576"
      },
      "execution_count": 342,
      "outputs": [
        {
          "output_type": "stream",
          "name": "stdout",
          "text": [
            "0\n",
            "b |  | b\n",
            "------------------------------\n",
            "1\n",
            "bab |  | bab\n",
            "------------------------------\n",
            "2\n",
            "aba |  | bab\n",
            "------------------------------\n",
            "3\n",
            "a |  | bab\n",
            "------------------------------\n"
          ]
        },
        {
          "output_type": "execute_result",
          "data": {
            "application/vnd.google.colaboratory.intrinsic+json": {
              "type": "string"
            },
            "text/plain": [
              "'bab'"
            ]
          },
          "metadata": {},
          "execution_count": 342
        }
      ]
    },
    {
      "cell_type": "code",
      "source": [
        "output = solution.longestPalindrome(input2)\n",
        "output"
      ],
      "metadata": {
        "colab": {
          "base_uri": "https://localhost:8080/",
          "height": 201
        },
        "id": "lnIwQkvFZvg9",
        "outputId": "b8bea020-53ea-4782-b2cd-7e2ba9e4494d"
      },
      "execution_count": 343,
      "outputs": [
        {
          "output_type": "stream",
          "name": "stdout",
          "text": [
            "0\n",
            "c |  | c\n",
            "------------------------------\n",
            "1\n",
            "b | bb | bb\n",
            "------------------------------\n",
            "2\n",
            "b |  | bb\n",
            "------------------------------\n"
          ]
        },
        {
          "output_type": "execute_result",
          "data": {
            "application/vnd.google.colaboratory.intrinsic+json": {
              "type": "string"
            },
            "text/plain": [
              "'bb'"
            ]
          },
          "metadata": {},
          "execution_count": 343
        }
      ]
    }
  ]
}