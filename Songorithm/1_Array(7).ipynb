{
  "nbformat": 4,
  "nbformat_minor": 0,
  "metadata": {
    "colab": {
      "name": "1-Array(7).ipynb",
      "provenance": [],
      "collapsed_sections": [],
      "toc_visible": true
    },
    "kernelspec": {
      "name": "python3",
      "display_name": "Python 3"
    },
    "language_info": {
      "name": "python"
    }
  },
  "cells": [
    {
      "cell_type": "markdown",
      "source": [
        "# ch7\n",
        "- 배열: 메모리 공간 기반의 연속 방식의 가장 기본이 되는 자료형\n",
        "- 추상 자료형(Abstract Data Type, ADT) 구현들의 기초가 됨\n",
        "    - 큐는 배열로 구현\n",
        "- 어느 위치나 O(1)로 조회 가능\n",
        "- 동적 배열: 크기를 지정하지 않고 자동으로 resizing하는 배열\n",
        "    - 파이썬에서는 list가 동적 배열 자료형\n",
        "    - 파이썬에 정적배열은 없음\n",
        "    - Growth Factor: 초반에는 2배, 전체적으로는 1.125배\n",
        "    - 용량이 차고 새로운 메모리 공간에 데이터를 복사하는 작업이 있어서 O(n) 비용 발생 but 자주 일어나는 일은 아님 \n",
        "    - 분할 상환 분석에 따른 입력 시간(Amortized Insertion Time)은 여전히 O(1)"
      ],
      "metadata": {
        "id": "CuzdULPiIFlH"
      }
    },
    {
      "cell_type": "code",
      "source": [
        "from typing import List "
      ],
      "metadata": {
        "id": "DGA52mKbRZsh"
      },
      "execution_count": 48,
      "outputs": []
    },
    {
      "cell_type": "markdown",
      "source": [
        "## 7. 두 수의 합\n",
        "\n",
        "https://leetcode.com/problems/two-sum/\n",
        "\n",
        "- 최적화 할 수 있는 방법이 많이 있음"
      ],
      "metadata": {
        "id": "8qdAH5rGM-kf"
      }
    },
    {
      "cell_type": "code",
      "execution_count": 49,
      "metadata": {
        "id": "rSIhCjCNdPqc"
      },
      "outputs": [],
      "source": [
        "nums = [2,7,11,15]\n",
        "target = 9"
      ]
    },
    {
      "cell_type": "markdown",
      "source": [
        "### 7-1. 브루트 포스로 계산\n",
        "- 배열을 2번 반복하면서 모든 조합을 더해서 일일이 확인해보는 무차별 대입 방식\n",
        "- 시간 복잡도 O(n²)\n",
        "- 느림"
      ],
      "metadata": {
        "id": "3g9NHXiNP06L"
      }
    },
    {
      "cell_type": "code",
      "source": [
        "class Solution:\n",
        "    def twoSum(self, nums: List[int], target: int) -> List[int]:\n",
        "        for i in range(len(nums)):\n",
        "            for j in range(i+1, len(nums)):\n",
        "                if nums[i] + nums[j] == target:\n",
        "                    return [i, j]"
      ],
      "metadata": {
        "id": "JCPQWNkRNLUY"
      },
      "execution_count": 50,
      "outputs": []
    },
    {
      "cell_type": "code",
      "source": [
        "solution = Solution()\n",
        "output = solution.twoSum(nums, target)\n",
        "output"
      ],
      "metadata": {
        "colab": {
          "base_uri": "https://localhost:8080/"
        },
        "id": "LYs3cYV4RXfE",
        "outputId": "65549067-6b38-4c83-be31-b984ca4b6ed5"
      },
      "execution_count": 51,
      "outputs": [
        {
          "output_type": "execute_result",
          "data": {
            "text/plain": [
              "[0, 1]"
            ]
          },
          "metadata": {},
          "execution_count": 51
        }
      ]
    },
    {
      "cell_type": "markdown",
      "source": [
        "### 7-2. in을 이용한 탐색\n",
        "- in의 시간 복잡도 O(n)\n",
        "- 전체 시간 복잡도는 7-1과 동일한 O(n²)이지만 in연산이 더 빠름"
      ],
      "metadata": {
        "id": "aWWuKqoWR40L"
      }
    },
    {
      "cell_type": "code",
      "source": [
        "class Solution:\n",
        "    def twoSum(self, nums: List[int], target: int) -> List[int]:\n",
        "        for i, n in enumerate(nums):\n",
        "            complement = target - n\n",
        "            if complement in nums[i + 1:]:\n",
        "                return nums.index(n), nums[i+1:].index(complement) + (i+1)"
      ],
      "metadata": {
        "id": "_4A4UYLjRoyZ"
      },
      "execution_count": 52,
      "outputs": []
    },
    {
      "cell_type": "code",
      "source": [
        "solution = Solution()\n",
        "output = solution.twoSum(nums, target)\n",
        "output"
      ],
      "metadata": {
        "colab": {
          "base_uri": "https://localhost:8080/"
        },
        "id": "NLT-JWa8SnDY",
        "outputId": "c39794e7-906a-46bf-989b-b6dcfede7b21"
      },
      "execution_count": 53,
      "outputs": [
        {
          "output_type": "execute_result",
          "data": {
            "text/plain": [
              "(0, 1)"
            ]
          },
          "metadata": {},
          "execution_count": 53
        }
      ]
    },
    {
      "cell_type": "markdown",
      "source": [
        "### 7-3. 첫 번째 수를 뺀 결과 키 조회\n",
        "- 딕셔너리는 해시 테이블로 구현되어 있어 평균적으로 O(1)"
      ],
      "metadata": {
        "id": "487fvJPJTESC"
      }
    },
    {
      "cell_type": "code",
      "source": [
        "class Solution:\n",
        "    def twoSum(self, nums: List[int], target: int) -> List[int]:\n",
        "        nums_map = {}\n",
        "        for i, num in enumerate(nums):\n",
        "            nums_map[num] = i\n",
        "\n",
        "        for i, num in enumerate(nums):\n",
        "            if target - num in  nums_map and i != nums_map[target - num]:\n",
        "                return nums.index(num), nums_map[target - num]"
      ],
      "metadata": {
        "id": "-VSl9ZarS0ZH"
      },
      "execution_count": 54,
      "outputs": []
    },
    {
      "cell_type": "code",
      "source": [
        "solution = Solution()\n",
        "output = solution.twoSum(nums, target)\n",
        "output"
      ],
      "metadata": {
        "colab": {
          "base_uri": "https://localhost:8080/"
        },
        "id": "RGK6YX16Wi-5",
        "outputId": "825ee920-9069-4f03-86cc-69a42b90da65"
      },
      "execution_count": 55,
      "outputs": [
        {
          "output_type": "execute_result",
          "data": {
            "text/plain": [
              "(0, 1)"
            ]
          },
          "metadata": {},
          "execution_count": 55
        }
      ]
    },
    {
      "cell_type": "markdown",
      "source": [
        "### 7-4. 조회 구조 개선\n",
        "- (7-3에서 advanced)for 1개\n",
        "- 정답을 찾으면 함수를 바로 빠져 나올 수 있도록\n",
        "- 구조는 더 개선됐으나 개인적으로 바로 눈에 들어오는 흐름은 아님"
      ],
      "metadata": {
        "id": "pokJ1mLPWoo2"
      }
    },
    {
      "cell_type": "code",
      "source": [
        "class Solution:\n",
        "    def twoSum(self, nums: List[int], target: int) -> List[int]:\n",
        "        nums_map = {}\n",
        "        for i, num in enumerate(nums):\n",
        "            if target - num in nums_map:\n",
        "                return [nums_map[target - num], i]\n",
        "            nums_map[num] = i"
      ],
      "metadata": {
        "id": "n29ulXonWkKF"
      },
      "execution_count": 56,
      "outputs": []
    },
    {
      "cell_type": "markdown",
      "source": [
        "### 7-5. 투 포인터 이용(FAIL)\n",
        "- 투 포인터: 왼쪽 포인터와 오른쪽 포인터의 합이 타겟보다\n",
        "    - 크다면 -> 오른쪽 포인터를 왼쪽으로\n",
        "    - 작다면 -> 왼쪽 포인터를 오른쪽으로\n",
        "- 투 포인터의 시간 복잡도 O(n)\n",
        "- BUT `정렬된 리스트`라는 전제조건 필요 -> nums.sort()\n",
        "    - 그러나 이 방법도 인덱스가 꼬이기 때문에 해결 안됨"
      ],
      "metadata": {
        "id": "MlgMswVbX1PN"
      }
    },
    {
      "cell_type": "code",
      "source": [
        "class Solution:\n",
        "    def twoSum(self, nums: List[int], target: int) -> List[int]:\n",
        "        nums.sort() # index 꼬임\n",
        "        left, right = 0, len(nums) -1\n",
        "        while not left == right:\n",
        "            if nums[left] + nums[right] <target:\n",
        "                left += 1\n",
        "            elif nums[left] + nums[right] > target:\n",
        "                right -= 1\n",
        "            else:\n",
        "                return left, right"
      ],
      "metadata": {
        "id": "a6BCb5zcYRGO"
      },
      "execution_count": 57,
      "outputs": []
    },
    {
      "cell_type": "markdown",
      "source": [
        "## 8. 빗물 트래핑\n",
        "\n",
        "https://leetcode.com/problems/trapping-rain-water/"
      ],
      "metadata": {
        "id": "ut00n-gSZIuA"
      }
    },
    {
      "cell_type": "code",
      "source": [
        "input1 = [0,1,0,2,1,0,1,3,2,1,2,1]\n",
        "input2 = [0,1,0,2,1,0,1,3,2,3,2,1]"
      ],
      "metadata": {
        "id": "VIyfL0dwZTfC"
      },
      "execution_count": 58,
      "outputs": []
    },
    {
      "cell_type": "markdown",
      "source": [
        "### 8-1. 투 포인터를 최대로 이동\n",
        "- 높이와 너비 모든 공간을 차례로 보면 O(n²)\n",
        "- 투 포인터나 스택으로 O(n) 풀이 가능\n",
        "- 최대 높이 박대까지 각각 좌우 기둥 최대 높이 left_max, right_max가 현재 높이와의 차이만큼 volume을 더해 감"
      ],
      "metadata": {
        "id": "dpguRJzpZpY9"
      }
    },
    {
      "cell_type": "code",
      "source": [
        "class Solution:\n",
        "    def trap(self, height: List[int]):\n",
        "        if not height:\n",
        "            return 0\n",
        "\n",
        "        volume = 0\n",
        "        left, right = 0, len(height) - 1\n",
        "        left_max, right_max = height[left], height[right]\n",
        "\n",
        "        while left < right:\n",
        "            left_max, right_max = max(height[left], left_max), max(height[right], right_max)\n",
        "\n",
        "            if left_max <= right_max:\n",
        "                volume += left_max - height[left]\n",
        "                left += 1\n",
        "            else:\n",
        "                volume += right_max - height[right]\n",
        "                right -= 1\n",
        "            print(\"MAX: \", left_max, right_max)\n",
        "            print(\"INDEX: \", left, right)\n",
        "            print(\"VOLUME: \", volume)\n",
        "            print(\"-\"*20)\n",
        "\n",
        "        return volume"
      ],
      "metadata": {
        "id": "M794VIDgZX27"
      },
      "execution_count": 59,
      "outputs": []
    },
    {
      "cell_type": "code",
      "source": [
        "solution = Solution()\n",
        "output = solution.trap(input1)\n",
        "output"
      ],
      "metadata": {
        "colab": {
          "base_uri": "https://localhost:8080/"
        },
        "id": "WeI25zHgbvW-",
        "outputId": "18e247e9-7787-4680-e744-c56d601d1cd3"
      },
      "execution_count": 60,
      "outputs": [
        {
          "output_type": "stream",
          "name": "stdout",
          "text": [
            "MAX:  0 1\n",
            "INDEX:  1 11\n",
            "VOLUME:  0\n",
            "--------------------\n",
            "MAX:  1 1\n",
            "INDEX:  2 11\n",
            "VOLUME:  0\n",
            "--------------------\n",
            "MAX:  1 1\n",
            "INDEX:  3 11\n",
            "VOLUME:  1\n",
            "--------------------\n",
            "MAX:  2 1\n",
            "INDEX:  3 10\n",
            "VOLUME:  1\n",
            "--------------------\n",
            "MAX:  2 2\n",
            "INDEX:  4 10\n",
            "VOLUME:  1\n",
            "--------------------\n",
            "MAX:  2 2\n",
            "INDEX:  5 10\n",
            "VOLUME:  2\n",
            "--------------------\n",
            "MAX:  2 2\n",
            "INDEX:  6 10\n",
            "VOLUME:  4\n",
            "--------------------\n",
            "MAX:  2 2\n",
            "INDEX:  7 10\n",
            "VOLUME:  5\n",
            "--------------------\n",
            "MAX:  3 2\n",
            "INDEX:  7 9\n",
            "VOLUME:  5\n",
            "--------------------\n",
            "MAX:  3 2\n",
            "INDEX:  7 8\n",
            "VOLUME:  6\n",
            "--------------------\n",
            "MAX:  3 2\n",
            "INDEX:  7 7\n",
            "VOLUME:  6\n",
            "--------------------\n"
          ]
        },
        {
          "output_type": "execute_result",
          "data": {
            "text/plain": [
              "6"
            ]
          },
          "metadata": {},
          "execution_count": 60
        }
      ]
    },
    {
      "cell_type": "code",
      "source": [
        "output = solution.trap(input2)\n",
        "output"
      ],
      "metadata": {
        "colab": {
          "base_uri": "https://localhost:8080/"
        },
        "id": "zdIbZouPb-hR",
        "outputId": "89f2e3c1-4d6e-4eb5-b365-5863f47a6850"
      },
      "execution_count": 61,
      "outputs": [
        {
          "output_type": "stream",
          "name": "stdout",
          "text": [
            "MAX:  0 1\n",
            "INDEX:  1 11\n",
            "VOLUME:  0\n",
            "--------------------\n",
            "MAX:  1 1\n",
            "INDEX:  2 11\n",
            "VOLUME:  0\n",
            "--------------------\n",
            "MAX:  1 1\n",
            "INDEX:  3 11\n",
            "VOLUME:  1\n",
            "--------------------\n",
            "MAX:  2 1\n",
            "INDEX:  3 10\n",
            "VOLUME:  1\n",
            "--------------------\n",
            "MAX:  2 2\n",
            "INDEX:  4 10\n",
            "VOLUME:  1\n",
            "--------------------\n",
            "MAX:  2 2\n",
            "INDEX:  5 10\n",
            "VOLUME:  2\n",
            "--------------------\n",
            "MAX:  2 2\n",
            "INDEX:  6 10\n",
            "VOLUME:  4\n",
            "--------------------\n",
            "MAX:  2 2\n",
            "INDEX:  7 10\n",
            "VOLUME:  5\n",
            "--------------------\n",
            "MAX:  3 2\n",
            "INDEX:  7 9\n",
            "VOLUME:  5\n",
            "--------------------\n",
            "MAX:  3 3\n",
            "INDEX:  8 9\n",
            "VOLUME:  5\n",
            "--------------------\n",
            "MAX:  3 3\n",
            "INDEX:  9 9\n",
            "VOLUME:  6\n",
            "--------------------\n"
          ]
        },
        {
          "output_type": "execute_result",
          "data": {
            "text/plain": [
              "6"
            ]
          },
          "metadata": {},
          "execution_count": 61
        }
      ]
    },
    {
      "cell_type": "markdown",
      "source": [
        "### 8-2. 스택 쌓기 🟦\n",
        "- 현재 높이가 이전 높이보다 높을 때, 변곡점 Inflection Point를 기준으로 격차만큼 volume 채움\n",
        "- 변곡점을 만날 때마다 스택에서 하나씩 꺼내면서 이전과의 차이만큼 채움\n",
        "- 한번만 돌아보기 때문에 O(n)"
      ],
      "metadata": {
        "id": "dagtCoJnehjL"
      }
    },
    {
      "cell_type": "code",
      "source": [
        "class Solution:\n",
        "    def trap(self, height: List[int]):\n",
        "        stack = []\n",
        "        volume = 0\n",
        "\n",
        "        for i in range(len(height)):\n",
        "            # Inflfection Point\n",
        "            while stack and height[i] > height[stack[-1]]:\n",
        "                top = stack.pop()\n",
        "\n",
        "                if not len(stack):\n",
        "                    break\n",
        "\n",
        "                distance = i - stack[-1] -1 # 가로\n",
        "                waters = min(height[i], height[stack[-1]]) - height[top]\n",
        "\n",
        "                volume += distance * waters\n",
        "\n",
        "            stack.append(i)\n",
        "        return volume"
      ],
      "metadata": {
        "id": "iUwTd5vAcIaS"
      },
      "execution_count": 62,
      "outputs": []
    },
    {
      "cell_type": "code",
      "source": [
        "solution = Solution()\n",
        "output = solution.trap(input1)\n",
        "output"
      ],
      "metadata": {
        "colab": {
          "base_uri": "https://localhost:8080/"
        },
        "id": "YRYBB9cHqRgO",
        "outputId": "375f685b-50db-4aa2-cf08-8541dab75ed7"
      },
      "execution_count": 63,
      "outputs": [
        {
          "output_type": "execute_result",
          "data": {
            "text/plain": [
              "6"
            ]
          },
          "metadata": {},
          "execution_count": 63
        }
      ]
    },
    {
      "cell_type": "code",
      "source": [
        "output = solution.trap(input2)\n",
        "output"
      ],
      "metadata": {
        "colab": {
          "base_uri": "https://localhost:8080/"
        },
        "id": "jFtT6cF4qZ8Q",
        "outputId": "4011fde1-7e2a-4a6e-c9f5-2cca6ae979ff"
      },
      "execution_count": 64,
      "outputs": [
        {
          "output_type": "execute_result",
          "data": {
            "text/plain": [
              "6"
            ]
          },
          "metadata": {},
          "execution_count": 64
        }
      ]
    },
    {
      "cell_type": "markdown",
      "source": [
        "## 9. 세 수의 합\n",
        "https://leetcode.com/problems/3sum/\n",
        "\n",
        "- 합으로 0을 만들 수 있는 3개 요소 출력"
      ],
      "metadata": {
        "id": "I9giVxTphUs2"
      }
    },
    {
      "cell_type": "code",
      "source": [
        "input = [-1,0,1,2,-1,-4]"
      ],
      "metadata": {
        "id": "Us8OO0j6hcg1"
      },
      "execution_count": 65,
      "outputs": []
    },
    {
      "cell_type": "markdown",
      "source": [
        "### 9-1. 부르트 포스로 계산\n",
        "- 우선 sort로 정렬: O(n logn)\n",
        "- 쓰리 포인터\n",
        "- 중복되는 값은 continue로 처리"
      ],
      "metadata": {
        "id": "in-M8JUjhigO"
      }
    },
    {
      "cell_type": "code",
      "source": [
        "class Solution:\n",
        "    def threeSum(self, nums: List[int]) -> List[List[int]]:\n",
        "        results = []\n",
        "        nums.sort() # 정렬하고 시작\n",
        "\n",
        "        for i in range(len(nums) - 2):\n",
        "            if i > 0 and nums[i] == nums[i-1]:\n",
        "                continue\n",
        "            for j in range(i+1, len(nums)-1):\n",
        "                if j > i+1 and nums[j] == nums[j-1]:\n",
        "                    continue\n",
        "                for k in range(j+1, len(nums)):\n",
        "                    if k > j+1 and nums[k] == nums[k-1]:\n",
        "                        continue\n",
        "                    print(\"***\", i, j, k)\n",
        "\n",
        "                    if nums[i] + nums[j] + nums[k] == 0:\n",
        "                        results.append((nums[i], nums[j], nums[k]))\n",
        "\n",
        "                        print(i, j, k)\n",
        "                        print(nums[i], nums[j], nums[k])\n",
        "                        print(\"-\"*20)\n",
        "        return results"
      ],
      "metadata": {
        "id": "cm3bvqfEhhBX"
      },
      "execution_count": 66,
      "outputs": []
    },
    {
      "cell_type": "code",
      "source": [
        "solution = Solution()\n",
        "output = solution.threeSum(input)\n",
        "output"
      ],
      "metadata": {
        "colab": {
          "base_uri": "https://localhost:8080/"
        },
        "id": "8zctRLKqqOdt",
        "outputId": "f36a5db8-7137-4e88-cfab-6d3673b4bf4a"
      },
      "execution_count": 67,
      "outputs": [
        {
          "output_type": "stream",
          "name": "stdout",
          "text": [
            "*** 0 1 2\n",
            "*** 0 1 3\n",
            "*** 0 1 4\n",
            "*** 0 1 5\n",
            "*** 0 3 4\n",
            "*** 0 3 5\n",
            "*** 0 4 5\n",
            "*** 1 2 3\n",
            "*** 1 2 4\n",
            "*** 1 2 5\n",
            "1 2 5\n",
            "-1 -1 2\n",
            "--------------------\n",
            "*** 1 3 4\n",
            "1 3 4\n",
            "-1 0 1\n",
            "--------------------\n",
            "*** 1 3 5\n",
            "*** 1 4 5\n",
            "*** 3 4 5\n"
          ]
        },
        {
          "output_type": "execute_result",
          "data": {
            "text/plain": [
              "[(-1, -1, 2), (-1, 0, 1)]"
            ]
          },
          "metadata": {},
          "execution_count": 67
        }
      ]
    },
    {
      "cell_type": "markdown",
      "source": [
        "### 9-2. 투 포인터로 합 계산\n",
        "- 9-1에서 i는 유지하고 j와 k는 투 포인터로 대체"
      ],
      "metadata": {
        "id": "jLRJHuA_z_YU"
      }
    },
    {
      "cell_type": "code",
      "source": [
        "class Solution:\n",
        "    def threeSum(self, nums: List[int]) -> List[List[int]]:\n",
        "        results = []\n",
        "        nums.sort() # 정렬하고 시작\n",
        "\n",
        "        for i in range(len(nums) - 2):\n",
        "            if i>0 and nums[i] == nums[i-1]:\n",
        "                continue\n",
        "            left, right = i+1, len(nums)-1 #pointers\n",
        "            while left < right:\n",
        "                sum = nums[i] + nums[left] + nums[right]\n",
        "                if sum < 0:\n",
        "                    left += 1\n",
        "                elif sum > 0:\n",
        "                    right -= 1\n",
        "                else:\n",
        "                    results.append((nums[i], nums[left], nums[right]))\n",
        "\n",
        "                    while left < right and nums[left] == nums[left+1]:\n",
        "                        left += 1 # skip\n",
        "                    while left < right and nums[right] == nums[right-1]:\n",
        "                        right -= 1 # skip\n",
        "                        \n",
        "                    left += 1\n",
        "                    right -= 1\n",
        "\n",
        "        return results"
      ],
      "metadata": {
        "id": "swMoLYx1xKFX"
      },
      "execution_count": 68,
      "outputs": []
    },
    {
      "cell_type": "code",
      "source": [
        "solution = Solution()\n",
        "output = solution.threeSum(input)\n",
        "output"
      ],
      "metadata": {
        "colab": {
          "base_uri": "https://localhost:8080/"
        },
        "id": "TLdwy5Cr2m2i",
        "outputId": "1a301902-cb11-4e0c-930c-58c1d4b13d6b"
      },
      "execution_count": 69,
      "outputs": [
        {
          "output_type": "execute_result",
          "data": {
            "text/plain": [
              "[(-1, -1, 2), (-1, 0, 1)]"
            ]
          },
          "metadata": {},
          "execution_count": 69
        }
      ]
    },
    {
      "cell_type": "markdown",
      "source": [
        "## Two Pointers\n",
        "- 배열이 정렬되어 있을 때 더 유용\n",
        "- 2개의 포인터가 좌우로 자유롭게 움직이며 풀이\n",
        "- 슬라이딩 윈도우와 비슷"
      ],
      "metadata": {
        "id": "09j5OZfd2mnz"
      }
    },
    {
      "cell_type": "markdown",
      "source": [
        "## 10. 배열 파티션 1\n",
        "https://leetcode.com/problems/array-partition-i/\n",
        "\n",
        "- n개의 페어를 이용한 min(a,b)의 합으로 만들 수 있는 가장 큰 수\n",
        "\n"
      ],
      "metadata": {
        "id": "p23aSdRv3a3p"
      }
    },
    {
      "cell_type": "code",
      "source": [
        "input = [1,4,3,2]"
      ],
      "metadata": {
        "id": "Vt_0J-ZI3Zyr"
      },
      "execution_count": 70,
      "outputs": []
    },
    {
      "cell_type": "markdown",
      "source": [
        "### 10-1. 오름차순 풀이\n",
        "- 오름차순으로 페어를 만들면 됨\n",
        "- 뒤에서 내림차순으로 만들어도 동일"
      ],
      "metadata": {
        "id": "L_5gpALw4CXe"
      }
    },
    {
      "cell_type": "code",
      "source": [
        "class Solution:\n",
        "    def arrayPairSum(self, nums: List[int]) -> int:\n",
        "        sum = 0\n",
        "        pair = []\n",
        "        nums.sort()\n",
        "        print(nums)\n",
        "\n",
        "        for n in nums:\n",
        "            pair.append(n)\n",
        "            if len(pair) == 2:\n",
        "                sum += min(pair)\n",
        "                pair = []\n",
        "\n",
        "        return sum"
      ],
      "metadata": {
        "id": "D6AV8U0v3u9A"
      },
      "execution_count": 71,
      "outputs": []
    },
    {
      "cell_type": "code",
      "source": [
        "solution = Solution()\n",
        "output = solution.arrayPairSum(input)\n",
        "output"
      ],
      "metadata": {
        "colab": {
          "base_uri": "https://localhost:8080/"
        },
        "id": "qOWgvZo7TzUR",
        "outputId": "ae8262b8-b5fe-407d-9d72-329f0c2f0752"
      },
      "execution_count": 72,
      "outputs": [
        {
          "output_type": "stream",
          "name": "stdout",
          "text": [
            "[1, 2, 3, 4]\n"
          ]
        },
        {
          "output_type": "execute_result",
          "data": {
            "text/plain": [
              "4"
            ]
          },
          "metadata": {},
          "execution_count": 72
        }
      ]
    },
    {
      "cell_type": "markdown",
      "source": [
        "### 10-2. 짝수 번째 값 계산\n",
        "- 페어를 구하지 않고 작은 수가 있는 짝수번째 값만 계산"
      ],
      "metadata": {
        "id": "1PzAw3c9UK4D"
      }
    },
    {
      "cell_type": "code",
      "source": [
        "class Solution:\n",
        "    def arrayPairSum(self, nums: List[int]) -> int:\n",
        "        sum=0\n",
        "        nums.sort()\n",
        "\n",
        "        for i, n in enumerate(nums):\n",
        "            if i%2 == 0:\n",
        "                sum += n\n",
        "\n",
        "        return sum"
      ],
      "metadata": {
        "id": "rgN4wo0YUC6v"
      },
      "execution_count": 73,
      "outputs": []
    },
    {
      "cell_type": "code",
      "source": [
        "solution = Solution()\n",
        "output = solution.arrayPairSum(input)\n",
        "output"
      ],
      "metadata": {
        "colab": {
          "base_uri": "https://localhost:8080/"
        },
        "id": "-hkZsP5WUpHK",
        "outputId": "f7dbcb07-db9c-47dd-dcd3-87402af36ce3"
      },
      "execution_count": 74,
      "outputs": [
        {
          "output_type": "execute_result",
          "data": {
            "text/plain": [
              "4"
            ]
          },
          "metadata": {},
          "execution_count": 74
        }
      ]
    },
    {
      "cell_type": "markdown",
      "source": [
        "### 10-3. python다운 방식\n",
        "- `[::2]`이용"
      ],
      "metadata": {
        "id": "CftnvkpxU0U2"
      }
    },
    {
      "cell_type": "code",
      "source": [
        "class Solution:\n",
        "    def arrayPairSum(self, nums: List[int]) -> int:\n",
        "        return sum(sorted(nums)[::2])"
      ],
      "metadata": {
        "id": "uvCfvUtZUrPJ"
      },
      "execution_count": 75,
      "outputs": []
    },
    {
      "cell_type": "markdown",
      "source": [
        "## 11. 자신을 제외한 배열의 곲\n",
        "- 배열을 입력받아 `output[i]`가 자신을 제외한 나머지 모든 요소의 곱셈결과가 출력되도록\n",
        "- 나눗셈을 하지않고 O(n)에 풀이해야 함\n",
        "\n",
        "https://leetcode.com/problems/product-of-array-except-self/"
      ],
      "metadata": {
        "id": "9vKAOqhKVEeZ"
      }
    },
    {
      "cell_type": "code",
      "source": [
        "input = [1,2,3,4]"
      ],
      "metadata": {
        "id": "WuMTb9ZaVBlk"
      },
      "execution_count": 76,
      "outputs": []
    },
    {
      "cell_type": "markdown",
      "source": [
        "### 11-1. 왼쪽 곱셈 결과에 오른쪽 값을 차례대로 곱셈 🟦\n",
        "- out 변수를 재활용하여 공간 복잡도 O(1)로 풀이"
      ],
      "metadata": {
        "id": "fhR48mGeVike"
      }
    },
    {
      "cell_type": "code",
      "source": [
        "class Solution:\n",
        "    def productExceptionSelf(self, nums: List[int]) -> List[int]:\n",
        "        out = []\n",
        "        \n",
        "        p_l =1\n",
        "        # leftside\n",
        "        for i in range(0, len(nums)):\n",
        "            out.append(p_l)\n",
        "            p_l = p_l * nums[i]\n",
        "\n",
        "        print(out)\n",
        "        # + rightside\n",
        "        p_r = 1\n",
        "        for i in range(len(nums)-1, 0-1, -1):\n",
        "            # print(i)\n",
        "            out[i] = out[i] * p_r\n",
        "            p_r = p_r * nums[i]\n",
        "            \n",
        "        return out"
      ],
      "metadata": {
        "id": "aNYp-9zFWD9x"
      },
      "execution_count": 77,
      "outputs": []
    },
    {
      "cell_type": "code",
      "source": [
        "solution = Solution()\n",
        "output = solution.productExceptionSelf(input)\n",
        "output"
      ],
      "metadata": {
        "colab": {
          "base_uri": "https://localhost:8080/"
        },
        "id": "bXDgTO3NW7i7",
        "outputId": "a7570b7d-609b-47f1-b37b-5937277a6549"
      },
      "execution_count": 78,
      "outputs": [
        {
          "output_type": "stream",
          "name": "stdout",
          "text": [
            "[1, 1, 2, 6]\n"
          ]
        },
        {
          "output_type": "execute_result",
          "data": {
            "text/plain": [
              "[24, 12, 8, 6]"
            ]
          },
          "metadata": {},
          "execution_count": 78
        }
      ]
    },
    {
      "cell_type": "markdown",
      "source": [
        "## 12. 주식을 사고팔기 가장 좋은 시점\n",
        "- 한번의 거래로 낼 수 있는 최대 이익\n",
        "\n",
        "https://leetcode.com/problems/best-time-to-buy-and-sell-stock/"
      ],
      "metadata": {
        "id": "opXjrSqbZF1W"
      }
    },
    {
      "cell_type": "code",
      "source": [
        "input = [7,1,5,3,6,4] # buy: 1 sell: 6 -> profit = 5"
      ],
      "metadata": {
        "id": "O0-LsPmlW_Z2"
      },
      "execution_count": 79,
      "outputs": []
    },
    {
      "cell_type": "markdown",
      "source": [
        "### 12-1. 브루트 포스로 계산\n",
        "- O(n²)으로 사고 팔고 반복\n",
        "- timeout"
      ],
      "metadata": {
        "id": "nS46waq4ZUn3"
      }
    },
    {
      "cell_type": "code",
      "source": [
        "class Solution:\n",
        "    def maxProfit(self, prices:List[int]) -> int:\n",
        "        max_price = 0\n",
        "\n",
        "        for i, price in enumerate(prices):\n",
        "            for j in range(i, len(prices)): # after i (including i)\n",
        "                max_price = max(prices[j] - price, max_price)\n",
        "        return max_price"
      ],
      "metadata": {
        "id": "o3_sRPUoZUFt"
      },
      "execution_count": 80,
      "outputs": []
    },
    {
      "cell_type": "code",
      "source": [
        "solution = Solution()\n",
        "output = solution.maxProfit(input)\n",
        "output"
      ],
      "metadata": {
        "colab": {
          "base_uri": "https://localhost:8080/"
        },
        "id": "mJY8wL4RaCvm",
        "outputId": "431e36cc-6b8b-4dcc-8f58-3b9476564b68"
      },
      "execution_count": 81,
      "outputs": [
        {
          "output_type": "execute_result",
          "data": {
            "text/plain": [
              "5"
            ]
          },
          "metadata": {},
          "execution_count": 81
        }
      ]
    },
    {
      "cell_type": "markdown",
      "source": [
        "### 12-2. 저점과 현재 값과의 차이 계산\n",
        "- 포인터가 우측으로 이동하면서 이전 상태의 저점을 기주능로 가격 차이를 계산\n",
        "- 만약 차이가 클 경우 최댓값을 계속 교체해나가는 형태\n",
        "- O(n)에 풀이 가능\n",
        "- 시스템의 가장 작은 값, 큰 값 이용(TypeError 방지)\n",
        "- 카데인 알고리즘"
      ],
      "metadata": {
        "id": "dkI4V268an-Q"
      }
    },
    {
      "cell_type": "code",
      "source": [
        "import sys\n",
        "class Solution:\n",
        "    def maxProfit(self, prices:List[int]) -> int:\n",
        "        profit = 0\n",
        "        min_price = sys.maxsize\n",
        "\n",
        "        for price in prices:\n",
        "            min_price = min(min_price, price)\n",
        "            profit = max(profit, price - min_price)\n",
        "\n",
        "        return profit"
      ],
      "metadata": {
        "id": "SLttUuwVaFlq"
      },
      "execution_count": 82,
      "outputs": []
    },
    {
      "cell_type": "code",
      "source": [
        "solution = Solution()\n",
        "output = solution.maxProfit(input)\n",
        "output"
      ],
      "metadata": {
        "colab": {
          "base_uri": "https://localhost:8080/"
        },
        "id": "qPjbRdFJb1ef",
        "outputId": "e2fcf7a1-7e9c-4ff7-cc58-906f6299bc20"
      },
      "execution_count": 83,
      "outputs": [
        {
          "output_type": "execute_result",
          "data": {
            "text/plain": [
              "5"
            ]
          },
          "metadata": {},
          "execution_count": 83
        }
      ]
    },
    {
      "cell_type": "markdown",
      "source": [
        "### 최댓값과 최솟값 설정법\n",
        "- `sys.maxsize`, `-sys.maxsize`\n",
        "- `float('int')`, `float('-int')`"
      ],
      "metadata": {
        "id": "tCEHiJ8hb_-b"
      }
    }
  ]
}