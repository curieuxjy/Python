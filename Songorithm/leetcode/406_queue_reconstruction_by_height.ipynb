{
 "cells": [
  {
   "cell_type": "markdown",
   "id": "knowing-absolute",
   "metadata": {},
   "source": [
    "[![Colab Badge](http://img.shields.io/badge/Colaboratory-black?style=for-the-badge&logo=google-colab)](https://colab.research.google.com/github/curieuxjy/Python/blob/master/Songorithm/leetcode/406_queue_reconstruction_by_height.ipynb)"
   ]
  },
  {
   "cell_type": "markdown",
   "id": "furnished-catalyst",
   "metadata": {},
   "source": [
    "[queue-reconstruction-by-height](https://leetcode.com/problems/queue-reconstruction-by-height/)"
   ]
  },
  {
   "cell_type": "code",
   "execution_count": null,
   "id": "cardiac-profession",
   "metadata": {},
   "outputs": [],
   "source": []
  },
  {
   "cell_type": "code",
   "execution_count": null,
   "id": "adjacent-france",
   "metadata": {},
   "outputs": [],
   "source": []
  },
  {
   "cell_type": "code",
   "execution_count": null,
   "id": "experienced-wayne",
   "metadata": {},
   "outputs": [],
   "source": []
  },
  {
   "cell_type": "code",
   "execution_count": null,
   "id": "burning-judge",
   "metadata": {},
   "outputs": [],
   "source": []
  }
 ],
 "metadata": {
  "kernelspec": {
   "display_name": "Python 3",
   "language": "python",
   "name": "python3"
  },
  "language_info": {
   "codemirror_mode": {
    "name": "ipython",
    "version": 3
   },
   "file_extension": ".py",
   "mimetype": "text/x-python",
   "name": "python",
   "nbconvert_exporter": "python",
   "pygments_lexer": "ipython3",
   "version": "3.8.8"
  }
 },
 "nbformat": 4,
 "nbformat_minor": 5
}
