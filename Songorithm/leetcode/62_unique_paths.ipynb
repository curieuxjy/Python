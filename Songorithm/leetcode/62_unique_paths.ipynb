{
 "cells": [
  {
   "cell_type": "markdown",
   "id": "continuous-bradley",
   "metadata": {},
   "source": [
    "[Unique Paths](https://leetcode.com/problems/unique-paths/)\n",
    "\n",
    "![robot_maze](https://assets.leetcode.com/uploads/2018/10/22/robot_maze.png)"
   ]
  },
  {
   "cell_type": "markdown",
   "id": "incorporate-calvin",
   "metadata": {},
   "source": [
    "my solution:"
   ]
  },
  {
   "cell_type": "code",
   "execution_count": 19,
   "id": "another-visibility",
   "metadata": {},
   "outputs": [],
   "source": [
    "class Solution:\n",
    "    def uniquePaths(self, m: int, n: int) -> int:\n",
    "        right_move = n-1\n",
    "        down_move = m-1\n",
    "        if right_move == 0 or down_move == 0:\n",
    "            return 1\n",
    "        move_total = right_move + down_move\n",
    "#         print(right_move, down_move, move_total)\n",
    "#         print(self.factorial(move_total)/self.factorial(down_move))\n",
    "#         print(self.factorial(right_move))\n",
    "        return (self.factorial(move_total)//self.factorial(right_move))//self.factorial(down_move)\n",
    "    \n",
    "    def factorial(self, x:int)-> int:\n",
    "        if x == 1:\n",
    "            return x\n",
    "        else:\n",
    "            return x*self.factorial(x-1)"
   ]
  },
  {
   "cell_type": "code",
   "execution_count": 20,
   "id": "going-disney",
   "metadata": {},
   "outputs": [],
   "source": [
    "sol = Solution()"
   ]
  },
  {
   "cell_type": "code",
   "execution_count": 21,
   "id": "informational-comedy",
   "metadata": {},
   "outputs": [
    {
     "name": "stdout",
     "output_type": "stream",
     "text": [
      "1 56 57\n",
      "57.0\n",
      "1\n"
     ]
    },
    {
     "data": {
      "text/plain": [
       "57"
      ]
     },
     "execution_count": 21,
     "metadata": {},
     "output_type": "execute_result"
    }
   ],
   "source": [
    "sol.uniquePaths(57, 2)"
   ]
  },
  {
   "cell_type": "markdown",
   "id": "permanent-grenada",
   "metadata": {},
   "source": [
    "another solution:"
   ]
  },
  {
   "cell_type": "code",
   "execution_count": 50,
   "id": "spatial-graphics",
   "metadata": {},
   "outputs": [],
   "source": [
    "class Solution:\n",
    "    def uniquePaths(self, m: int, n: int) -> int:\n",
    "        #initialize all to 1\n",
    "        dp = [[1] * n] * m\n",
    "#         print(dp[0])\n",
    "#         print(dp[1])\n",
    "#         print(dp[2])\n",
    "        for i in range(1, m):\n",
    "            for j in range(1,n):\n",
    "                dp[i][j] = dp[i-1][j] + dp[i][j-1]\n",
    "#                 print()\n",
    "#                 print(dp[0])\n",
    "#                 print(dp[1])\n",
    "#                 print(dp[2])\n",
    "                \n",
    "        return dp[-1][-1]"
   ]
  },
  {
   "cell_type": "code",
   "execution_count": 51,
   "id": "purple-anthropology",
   "metadata": {},
   "outputs": [],
   "source": [
    "sol = Solution()"
   ]
  },
  {
   "cell_type": "code",
   "execution_count": 52,
   "id": "undefined-childhood",
   "metadata": {},
   "outputs": [
    {
     "name": "stdout",
     "output_type": "stream",
     "text": [
      "[1, 1, 1, 1]\n",
      "[1, 1, 1, 1]\n",
      "[1, 1, 1, 1]\n",
      "\n",
      "[1, 2, 1, 1]\n",
      "[1, 2, 1, 1]\n",
      "[1, 2, 1, 1]\n",
      "\n",
      "[1, 2, 3, 1]\n",
      "[1, 2, 3, 1]\n",
      "[1, 2, 3, 1]\n",
      "\n",
      "[1, 2, 3, 4]\n",
      "[1, 2, 3, 4]\n",
      "[1, 2, 3, 4]\n",
      "\n",
      "[1, 3, 3, 4]\n",
      "[1, 3, 3, 4]\n",
      "[1, 3, 3, 4]\n",
      "\n",
      "[1, 3, 6, 4]\n",
      "[1, 3, 6, 4]\n",
      "[1, 3, 6, 4]\n",
      "\n",
      "[1, 3, 6, 10]\n",
      "[1, 3, 6, 10]\n",
      "[1, 3, 6, 10]\n"
     ]
    },
    {
     "data": {
      "text/plain": [
       "10"
      ]
     },
     "execution_count": 52,
     "metadata": {},
     "output_type": "execute_result"
    }
   ],
   "source": [
    "sol.uniquePaths(3, 4)"
   ]
  },
  {
   "cell_type": "markdown",
   "id": "coupled-ghost",
   "metadata": {},
   "source": [
    "another solution:"
   ]
  },
  {
   "cell_type": "code",
   "execution_count": null,
   "id": "exempt-identifier",
   "metadata": {},
   "outputs": [],
   "source": [
    "def rec(posx,posy,m,n,dic):\n",
    "      if(posx==m-1 or posy==n-1):        \n",
    "        return 1\n",
    "    else:\n",
    "        if((posx,posy) in dic):\n",
    "            return dic[(posx,posy)]\n",
    "        else:\n",
    "            dic[(posx,posy)] = rec(posx+1,posy,m,n,dic)+rec(posx,posy+1,m,n,dic)\n",
    "            return dic[(posx,posy)]\n",
    "class Solution:\n",
    "    def uniquePaths(self, m: int, n: int) -> int:\n",
    "        dic={}\n",
    "        total = rec(0,0,m,n,dic)\n",
    "        print(total)\n",
    "        return total"
   ]
  },
  {
   "cell_type": "code",
   "execution_count": null,
   "id": "violent-recovery",
   "metadata": {},
   "outputs": [],
   "source": []
  },
  {
   "cell_type": "code",
   "execution_count": null,
   "id": "paperback-quebec",
   "metadata": {},
   "outputs": [],
   "source": []
  },
  {
   "cell_type": "code",
   "execution_count": null,
   "id": "plastic-designation",
   "metadata": {},
   "outputs": [],
   "source": []
  },
  {
   "cell_type": "code",
   "execution_count": null,
   "id": "regulated-milwaukee",
   "metadata": {},
   "outputs": [],
   "source": []
  },
  {
   "cell_type": "code",
   "execution_count": null,
   "id": "primary-mattress",
   "metadata": {},
   "outputs": [],
   "source": []
  },
  {
   "cell_type": "code",
   "execution_count": null,
   "id": "domestic-patch",
   "metadata": {},
   "outputs": [],
   "source": []
  },
  {
   "cell_type": "code",
   "execution_count": null,
   "id": "arctic-helena",
   "metadata": {},
   "outputs": [],
   "source": []
  },
  {
   "cell_type": "markdown",
   "id": "advisory-technology",
   "metadata": {},
   "source": [
    "[]()"
   ]
  }
 ],
 "metadata": {
  "kernelspec": {
   "display_name": "Python 3",
   "language": "python",
   "name": "python3"
  },
  "language_info": {
   "codemirror_mode": {
    "name": "ipython",
    "version": 3
   },
   "file_extension": ".py",
   "mimetype": "text/x-python",
   "name": "python",
   "nbconvert_exporter": "python",
   "pygments_lexer": "ipython3",
   "version": "3.8.8"
  }
 },
 "nbformat": 4,
 "nbformat_minor": 5
}
