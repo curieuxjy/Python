{
 "cells": [
  {
   "cell_type": "markdown",
   "id": "negative-science",
   "metadata": {},
   "source": [
    "[![Colab Badge](http://img.shields.io/badge/Colaboratory-black?style=for-the-badge&logo=google-colab)](https://colab.research.google.com/github/curieuxjy/Python/blob/master/Songorithm/leetcode/week1.ipynb)"
   ]
  },
  {
   "cell_type": "markdown",
   "id": "continent-breakfast",
   "metadata": {},
   "source": [
    "[partition-labels](https://leetcode.com/problems/partition-labels/)"
   ]
  },
  {
   "cell_type": "code",
   "execution_count": null,
   "id": "australian-conducting",
   "metadata": {},
   "outputs": [],
   "source": []
  },
  {
   "cell_type": "code",
   "execution_count": null,
   "id": "determined-pacific",
   "metadata": {},
   "outputs": [],
   "source": []
  },
  {
   "cell_type": "code",
   "execution_count": null,
   "id": "threaded-productivity",
   "metadata": {},
   "outputs": [],
   "source": []
  },
  {
   "cell_type": "markdown",
   "id": "compact-justice",
   "metadata": {},
   "source": [
    "[counting-bits](https://leetcode.com/problems/counting-bits/)"
   ]
  },
  {
   "cell_type": "code",
   "execution_count": null,
   "id": "quality-handbook",
   "metadata": {},
   "outputs": [],
   "source": []
  },
  {
   "cell_type": "code",
   "execution_count": null,
   "id": "everyday-charger",
   "metadata": {},
   "outputs": [],
   "source": []
  },
  {
   "cell_type": "markdown",
   "id": "collected-vinyl",
   "metadata": {},
   "source": [
    "[queue-reconstruction-by-height](https://leetcode.com/problems/queue-reconstruction-by-height/)"
   ]
  },
  {
   "cell_type": "code",
   "execution_count": null,
   "id": "virgin-usage",
   "metadata": {},
   "outputs": [],
   "source": []
  },
  {
   "cell_type": "code",
   "execution_count": null,
   "id": "positive-consideration",
   "metadata": {},
   "outputs": [],
   "source": []
  },
  {
   "cell_type": "markdown",
   "id": "described-necessity",
   "metadata": {},
   "source": [
    "[permutations](https://leetcode.com/problems/permutations/)"
   ]
  },
  {
   "cell_type": "code",
   "execution_count": null,
   "id": "monthly-shape",
   "metadata": {},
   "outputs": [],
   "source": []
  },
  {
   "cell_type": "code",
   "execution_count": null,
   "id": "latin-guess",
   "metadata": {},
   "outputs": [],
   "source": []
  }
 ],
 "metadata": {
  "kernelspec": {
   "display_name": "Python 3",
   "language": "python",
   "name": "python3"
  },
  "language_info": {
   "codemirror_mode": {
    "name": "ipython",
    "version": 3
   },
   "file_extension": ".py",
   "mimetype": "text/x-python",
   "name": "python",
   "nbconvert_exporter": "python",
   "pygments_lexer": "ipython3",
   "version": "3.8.8"
  }
 },
 "nbformat": 4,
 "nbformat_minor": 5
}
