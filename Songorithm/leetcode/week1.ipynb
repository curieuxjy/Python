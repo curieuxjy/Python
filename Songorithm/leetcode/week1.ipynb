{
 "cells": [
  {
   "cell_type": "markdown",
   "id": "fixed-cradle",
   "metadata": {},
   "source": [
    "[![Colab Badge](http://img.shields.io/badge/Colaboratory-black?style=for-the-badge&logo=google-colab&link=https://colab.research.google.com/github/curieuxjy/Python/blob/master/Songorithm/leetcode/week1.ipynb)](https://colab.research.google.com/github/curieuxjy/Python/blob/master/Songorithm/leetcode/week1.ipynb)"
   ]
  },
  {
   "cell_type": "markdown",
   "id": "cognitive-supervision",
   "metadata": {},
   "source": [
    "[partition-labels](https://leetcode.com/problems/partition-labels/)"
   ]
  },
  {
   "cell_type": "code",
   "execution_count": null,
   "id": "environmental-celtic",
   "metadata": {},
   "outputs": [],
   "source": []
  },
  {
   "cell_type": "code",
   "execution_count": null,
   "id": "magnetic-output",
   "metadata": {},
   "outputs": [],
   "source": []
  },
  {
   "cell_type": "code",
   "execution_count": null,
   "id": "exterior-berlin",
   "metadata": {},
   "outputs": [],
   "source": []
  },
  {
   "cell_type": "markdown",
   "id": "missing-airline",
   "metadata": {},
   "source": [
    "[counting-bits](https://leetcode.com/problems/counting-bits/)"
   ]
  },
  {
   "cell_type": "code",
   "execution_count": null,
   "id": "split-public",
   "metadata": {},
   "outputs": [],
   "source": []
  },
  {
   "cell_type": "code",
   "execution_count": null,
   "id": "governmental-check",
   "metadata": {},
   "outputs": [],
   "source": []
  },
  {
   "cell_type": "markdown",
   "id": "static-congress",
   "metadata": {},
   "source": [
    "[queue-reconstruction-by-height](https://leetcode.com/problems/queue-reconstruction-by-height/)"
   ]
  },
  {
   "cell_type": "code",
   "execution_count": null,
   "id": "optimum-incidence",
   "metadata": {},
   "outputs": [],
   "source": []
  },
  {
   "cell_type": "code",
   "execution_count": null,
   "id": "limiting-accident",
   "metadata": {},
   "outputs": [],
   "source": []
  },
  {
   "cell_type": "markdown",
   "id": "blessed-bachelor",
   "metadata": {},
   "source": [
    "[permutations](https://leetcode.com/problems/permutations/)"
   ]
  },
  {
   "cell_type": "code",
   "execution_count": null,
   "id": "reverse-composite",
   "metadata": {},
   "outputs": [],
   "source": []
  },
  {
   "cell_type": "code",
   "execution_count": null,
   "id": "convenient-mobile",
   "metadata": {},
   "outputs": [],
   "source": []
  }
 ],
 "metadata": {
  "kernelspec": {
   "display_name": "Python 3",
   "language": "python",
   "name": "python3"
  },
  "language_info": {
   "codemirror_mode": {
    "name": "ipython",
    "version": 3
   },
   "file_extension": ".py",
   "mimetype": "text/x-python",
   "name": "python",
   "nbconvert_exporter": "python",
   "pygments_lexer": "ipython3",
   "version": "3.8.8"
  }
 },
 "nbformat": 4,
 "nbformat_minor": 5
}
