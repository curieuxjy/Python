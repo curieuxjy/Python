{
 "cells": [
  {
   "cell_type": "markdown",
   "id": "honey-browser",
   "metadata": {},
   "source": [
    "[Unique Binary Search Trees](https://leetcode.com/problems/unique-binary-search-trees/)\n",
    "\n",
    "[ref](https://leetcode.com/problems/unique-binary-search-trees/discuss/703644/PythonEasy-DP-Solution-Explained-By-Someone-Who-Used-To-Struggle-To-Understand-DP?fbclid=IwAR26NCF-M9i_121grI0skzrBv1Q23Uh5n2htSD2aokflXZiIxATpTuKpmbY)\n",
    "\n",
    "[Catalan number](https://en.wikipedia.org/wiki/Catalan_number)"
   ]
  },
  {
   "cell_type": "code",
   "execution_count": null,
   "id": "nuclear-curve",
   "metadata": {},
   "outputs": [],
   "source": [
    "class Solution:\n",
    "    def numTrees(self, n: int) -> int:\n",
    "        "
   ]
  },
  {
   "cell_type": "code",
   "execution_count": null,
   "id": "forward-footage",
   "metadata": {},
   "outputs": [],
   "source": [
    "sol = Solution()"
   ]
  },
  {
   "cell_type": "code",
   "execution_count": null,
   "id": "czech-patrol",
   "metadata": {},
   "outputs": [],
   "source": [
    "sol.numTrees()"
   ]
  },
  {
   "cell_type": "code",
   "execution_count": 41,
   "id": "saved-sweet",
   "metadata": {},
   "outputs": [],
   "source": [
    "class Solution:\n",
    "    def numTrees(self, n: int) -> int:\n",
    "        dp = [0] * (n+1)\n",
    "        dp[0] = 1\n",
    "        print(dp)\n",
    "        for i in range(1, n+1):\n",
    "            for j in range(i):\n",
    "                dp[i] += dp[j] * dp[i- 1 - j]\n",
    "                print()\n",
    "                print(j, i-1-j)\n",
    "                print(dp[j], dp[i- 1 - j])\n",
    "                # print(dp)\n",
    "\n",
    "        return dp[n]"
   ]
  },
  {
   "cell_type": "code",
   "execution_count": 42,
   "id": "nutritional-bloom",
   "metadata": {},
   "outputs": [],
   "source": [
    "sol = Solution()"
   ]
  },
  {
   "cell_type": "code",
   "execution_count": 43,
   "id": "satisfactory-times",
   "metadata": {},
   "outputs": [
    {
     "name": "stdout",
     "output_type": "stream",
     "text": [
      "[1, 0, 0, 0]\n",
      "\n",
      "0 0\n",
      "1 1\n",
      "\n",
      "0 1\n",
      "1 1\n",
      "\n",
      "1 0\n",
      "1 1\n",
      "\n",
      "0 2\n",
      "1 2\n",
      "\n",
      "1 1\n",
      "1 1\n",
      "\n",
      "2 0\n",
      "2 1\n"
     ]
    },
    {
     "data": {
      "text/plain": [
       "5"
      ]
     },
     "execution_count": 43,
     "metadata": {},
     "output_type": "execute_result"
    }
   ],
   "source": [
    "sol.numTrees(3)"
   ]
  },
  {
   "cell_type": "code",
   "execution_count": null,
   "id": "animated-lying",
   "metadata": {},
   "outputs": [],
   "source": []
  },
  {
   "cell_type": "code",
   "execution_count": null,
   "id": "mechanical-hours",
   "metadata": {},
   "outputs": [],
   "source": []
  },
  {
   "cell_type": "markdown",
   "id": "stopped-timothy",
   "metadata": {},
   "source": [
    "[]()"
   ]
  }
 ],
 "metadata": {
  "kernelspec": {
   "display_name": "Python 3",
   "language": "python",
   "name": "python3"
  },
  "language_info": {
   "codemirror_mode": {
    "name": "ipython",
    "version": 3
   },
   "file_extension": ".py",
   "mimetype": "text/x-python",
   "name": "python",
   "nbconvert_exporter": "python",
   "pygments_lexer": "ipython3",
   "version": "3.8.8"
  }
 },
 "nbformat": 4,
 "nbformat_minor": 5
}
