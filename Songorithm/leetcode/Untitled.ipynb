{
 "cells": [
  {
   "cell_type": "markdown",
   "id": "anonymous-attention",
   "metadata": {},
   "source": [
    "[Unique Paths](https://leetcode.com/problems/unique-paths/)\n",
    "\n",
    "![robot_maze](https://assets.leetcode.com/uploads/2018/10/22/robot_maze.png)"
   ]
  },
  {
   "cell_type": "markdown",
   "id": "massive-skill",
   "metadata": {},
   "source": [
    "my solution:"
   ]
  },
  {
   "cell_type": "code",
   "execution_count": 19,
   "id": "vital-feelings",
   "metadata": {},
   "outputs": [],
   "source": [
    "class Solution:\n",
    "    def uniquePaths(self, m: int, n: int) -> int:\n",
    "        right_move = n-1\n",
    "        down_move = m-1\n",
    "        if right_move == 0 or down_move == 0:\n",
    "            return 1\n",
    "        move_total = right_move + down_move\n",
    "#         print(right_move, down_move, move_total)\n",
    "#         print(self.factorial(move_total)/self.factorial(down_move))\n",
    "#         print(self.factorial(right_move))\n",
    "        return (self.factorial(move_total)//self.factorial(right_move))//self.factorial(down_move)\n",
    "    \n",
    "    def factorial(self, x:int)-> int:\n",
    "        if x == 1:\n",
    "            return x\n",
    "        else:\n",
    "            return x*self.factorial(x-1)"
   ]
  },
  {
   "cell_type": "code",
   "execution_count": 20,
   "id": "twelve-massage",
   "metadata": {},
   "outputs": [],
   "source": [
    "sol = Solution()"
   ]
  },
  {
   "cell_type": "code",
   "execution_count": 21,
   "id": "endangered-bread",
   "metadata": {},
   "outputs": [
    {
     "name": "stdout",
     "output_type": "stream",
     "text": [
      "1 56 57\n",
      "57.0\n",
      "1\n"
     ]
    },
    {
     "data": {
      "text/plain": [
       "57"
      ]
     },
     "execution_count": 21,
     "metadata": {},
     "output_type": "execute_result"
    }
   ],
   "source": [
    "sol.uniquePaths(57, 2)"
   ]
  },
  {
   "cell_type": "markdown",
   "id": "emerging-diameter",
   "metadata": {},
   "source": [
    "another solution:"
   ]
  },
  {
   "cell_type": "code",
   "execution_count": 50,
   "id": "alternative-optimization",
   "metadata": {},
   "outputs": [],
   "source": [
    "class Solution:\n",
    "    def uniquePaths(self, m: int, n: int) -> int:\n",
    "        #initialize all to 1\n",
    "        dp = [[1] * n] * m\n",
    "        print(dp[0])\n",
    "        print(dp[1])\n",
    "        print(dp[2])\n",
    "        for i in range(1, m):\n",
    "            for j in range(1,n):\n",
    "                dp[i][j] = dp[i-1][j] + dp[i][j-1]\n",
    "                print()\n",
    "                print(dp[0])\n",
    "                print(dp[1])\n",
    "                print(dp[2])\n",
    "                \n",
    "        return dp[-1][-1]"
   ]
  },
  {
   "cell_type": "code",
   "execution_count": 51,
   "id": "analyzed-wales",
   "metadata": {},
   "outputs": [],
   "source": [
    "sol = Solution()"
   ]
  },
  {
   "cell_type": "code",
   "execution_count": 52,
   "id": "terminal-probability",
   "metadata": {},
   "outputs": [
    {
     "name": "stdout",
     "output_type": "stream",
     "text": [
      "[1, 1, 1, 1]\n",
      "[1, 1, 1, 1]\n",
      "[1, 1, 1, 1]\n",
      "\n",
      "[1, 2, 1, 1]\n",
      "[1, 2, 1, 1]\n",
      "[1, 2, 1, 1]\n",
      "\n",
      "[1, 2, 3, 1]\n",
      "[1, 2, 3, 1]\n",
      "[1, 2, 3, 1]\n",
      "\n",
      "[1, 2, 3, 4]\n",
      "[1, 2, 3, 4]\n",
      "[1, 2, 3, 4]\n",
      "\n",
      "[1, 3, 3, 4]\n",
      "[1, 3, 3, 4]\n",
      "[1, 3, 3, 4]\n",
      "\n",
      "[1, 3, 6, 4]\n",
      "[1, 3, 6, 4]\n",
      "[1, 3, 6, 4]\n",
      "\n",
      "[1, 3, 6, 10]\n",
      "[1, 3, 6, 10]\n",
      "[1, 3, 6, 10]\n"
     ]
    },
    {
     "data": {
      "text/plain": [
       "10"
      ]
     },
     "execution_count": 52,
     "metadata": {},
     "output_type": "execute_result"
    }
   ],
   "source": [
    "sol.uniquePaths(3, 4)"
   ]
  },
  {
   "cell_type": "markdown",
   "id": "productive-concentration",
   "metadata": {},
   "source": [
    "another solution:"
   ]
  },
  {
   "cell_type": "code",
   "execution_count": null,
   "id": "south-singles",
   "metadata": {},
   "outputs": [],
   "source": [
    "def rec(posx,posy,m,n,dic):\n",
    "      if(posx==m-1 or posy==n-1):        \n",
    "        return 1\n",
    "    else:\n",
    "        if((posx,posy) in dic):\n",
    "            return dic[(posx,posy)]\n",
    "        else:\n",
    "            dic[(posx,posy)] = rec(posx+1,posy,m,n,dic)+rec(posx,posy+1,m,n,dic)\n",
    "            return dic[(posx,posy)]\n",
    "class Solution:\n",
    "    def uniquePaths(self, m: int, n: int) -> int:\n",
    "        dic={}\n",
    "        total = rec(0,0,m,n,dic)\n",
    "        print(total)\n",
    "        return total"
   ]
  },
  {
   "cell_type": "code",
   "execution_count": null,
   "id": "present-prediction",
   "metadata": {},
   "outputs": [],
   "source": []
  },
  {
   "cell_type": "code",
   "execution_count": null,
   "id": "radical-medline",
   "metadata": {},
   "outputs": [],
   "source": []
  },
  {
   "cell_type": "code",
   "execution_count": null,
   "id": "documented-microwave",
   "metadata": {},
   "outputs": [],
   "source": []
  },
  {
   "cell_type": "code",
   "execution_count": null,
   "id": "protective-advocate",
   "metadata": {},
   "outputs": [],
   "source": []
  },
  {
   "cell_type": "code",
   "execution_count": null,
   "id": "packed-habitat",
   "metadata": {},
   "outputs": [],
   "source": []
  },
  {
   "cell_type": "markdown",
   "id": "round-trigger",
   "metadata": {},
   "source": [
    "[Unique Binary Search Trees](https://leetcode.com/problems/unique-binary-search-trees/)\n",
    "\n",
    "[ref](https://leetcode.com/problems/unique-binary-search-trees/discuss/703644/PythonEasy-DP-Solution-Explained-By-Someone-Who-Used-To-Struggle-To-Understand-DP?fbclid=IwAR26NCF-M9i_121grI0skzrBv1Q23Uh5n2htSD2aokflXZiIxATpTuKpmbY)"
   ]
  },
  {
   "cell_type": "code",
   "execution_count": null,
   "id": "knowing-binding",
   "metadata": {},
   "outputs": [],
   "source": [
    "class Solution:\n",
    "    def numTrees(self, n: int) -> int:\n",
    "        "
   ]
  },
  {
   "cell_type": "code",
   "execution_count": null,
   "id": "alternative-florida",
   "metadata": {},
   "outputs": [],
   "source": [
    "sol = Solution()"
   ]
  },
  {
   "cell_type": "code",
   "execution_count": null,
   "id": "alone-marina",
   "metadata": {},
   "outputs": [],
   "source": [
    "sol.numTrees()"
   ]
  },
  {
   "cell_type": "code",
   "execution_count": 41,
   "id": "naval-insulin",
   "metadata": {},
   "outputs": [],
   "source": [
    "class Solution:\n",
    "    def numTrees(self, n: int) -> int:\n",
    "        dp = [0] * (n+1)\n",
    "        dp[0] = 1\n",
    "        print(dp)\n",
    "        for i in range(1, n+1):\n",
    "            for j in range(i):\n",
    "                dp[i] += dp[j] * dp[i- 1 - j]\n",
    "                print()\n",
    "                print(j, i-1-j)\n",
    "                print(dp[j], dp[i- 1 - j])\n",
    "                # print(dp)\n",
    "\n",
    "        return dp[n]"
   ]
  },
  {
   "cell_type": "code",
   "execution_count": 42,
   "id": "super-garlic",
   "metadata": {},
   "outputs": [],
   "source": [
    "sol = Solution()"
   ]
  },
  {
   "cell_type": "code",
   "execution_count": 43,
   "id": "humanitarian-richards",
   "metadata": {},
   "outputs": [
    {
     "name": "stdout",
     "output_type": "stream",
     "text": [
      "[1, 0, 0, 0]\n",
      "\n",
      "0 0\n",
      "1 1\n",
      "\n",
      "0 1\n",
      "1 1\n",
      "\n",
      "1 0\n",
      "1 1\n",
      "\n",
      "0 2\n",
      "1 2\n",
      "\n",
      "1 1\n",
      "1 1\n",
      "\n",
      "2 0\n",
      "2 1\n"
     ]
    },
    {
     "data": {
      "text/plain": [
       "5"
      ]
     },
     "execution_count": 43,
     "metadata": {},
     "output_type": "execute_result"
    }
   ],
   "source": [
    "sol.numTrees(3)"
   ]
  },
  {
   "cell_type": "code",
   "execution_count": null,
   "id": "together-headset",
   "metadata": {},
   "outputs": [],
   "source": []
  },
  {
   "cell_type": "code",
   "execution_count": null,
   "id": "middle-accident",
   "metadata": {},
   "outputs": [],
   "source": []
  },
  {
   "cell_type": "markdown",
   "id": "quantitative-december",
   "metadata": {},
   "source": [
    "[]()"
   ]
  }
 ],
 "metadata": {
  "kernelspec": {
   "display_name": "Python 3",
   "language": "python",
   "name": "python3"
  },
  "language_info": {
   "codemirror_mode": {
    "name": "ipython",
    "version": 3
   },
   "file_extension": ".py",
   "mimetype": "text/x-python",
   "name": "python",
   "nbconvert_exporter": "python",
   "pygments_lexer": "ipython3",
   "version": "3.8.8"
  }
 },
 "nbformat": 4,
 "nbformat_minor": 5
}
