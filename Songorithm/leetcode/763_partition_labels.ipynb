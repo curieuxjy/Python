{
 "cells": [
  {
   "cell_type": "markdown",
   "id": "steady-illness",
   "metadata": {},
   "source": [
    "[![Colab Badge](http://img.shields.io/badge/Colaboratory-black?style=for-the-badge&logo=google-colab)](https://colab.research.google.com/github/curieuxjy/Python/blob/master/Songorithm/leetcode/763_partition_labels.ipynb)"
   ]
  },
  {
   "cell_type": "markdown",
   "id": "numeric-exhibition",
   "metadata": {},
   "source": [
    "[partition-labels](https://leetcode.com/problems/partition-labels/)\n",
    "문제가 이해 안됨 skip\n",
    "\n",
    "```\n",
    "Input: S = \"ababcbacadefegdehijhklij\"\n",
    "Output: [9,7,8]\n",
    "```"
   ]
  },
  {
   "cell_type": "code",
   "execution_count": 19,
   "id": "narrative-trauma",
   "metadata": {},
   "outputs": [],
   "source": [
    "from typing import List\n",
    "\n",
    "class Solution:\n",
    "    def partitionLabels(self, S: str) -> List[int]:\n",
    "        # 각 문자의 마지막 인덱스를 딕셔너리로 저장\n",
    "        dic = {char:indx for indx, char in enumerate(S)}\n",
    "        print(dic)\n",
    "        sol = []\n",
    "        l = 0 # left\n",
    "        r = 0 # right\n",
    "        \n",
    "        for index, char in enumerate(S):\n",
    "            print(\"-\"*10)\n",
    "            r = max(r, dic[char])\n",
    "            print(char)\n",
    "            print(\"r:\", r,\", l:\", l)\n",
    "            \n",
    "            if index == r:\n",
    "                print(char)\n",
    "                print(\"r:\", r,\", l:\", l, \", append= \", r - l + 1)\n",
    "                sol.append(r - l + 1)\n",
    "                l = index + 1\n",
    "                \n",
    "        return sol"
   ]
  },
  {
   "cell_type": "code",
   "execution_count": 20,
   "id": "engaged-debut",
   "metadata": {},
   "outputs": [],
   "source": [
    "mysol = Solution()"
   ]
  },
  {
   "cell_type": "code",
   "execution_count": 22,
   "id": "protective-clearing",
   "metadata": {},
   "outputs": [
    {
     "name": "stdout",
     "output_type": "stream",
     "text": [
      "{'b': 4, 'a': 7, 'c': 6, 'd': 13, 'e': 14, 'f': 10, 'g': 12, 'h': 18, 'i': 21, 'j': 22, 'k': 19, 'l': 20}\n",
      "----------\n",
      "b\n",
      "r: 4 , l: 0\n",
      "----------\n",
      "a\n",
      "r: 7 , l: 0\n",
      "----------\n",
      "b\n",
      "r: 7 , l: 0\n",
      "----------\n",
      "c\n",
      "r: 7 , l: 0\n",
      "----------\n",
      "b\n",
      "r: 7 , l: 0\n",
      "----------\n",
      "a\n",
      "r: 7 , l: 0\n",
      "----------\n",
      "c\n",
      "r: 7 , l: 0\n",
      "----------\n",
      "a\n",
      "r: 7 , l: 0\n",
      "a\n",
      "r: 7 , l: 0 , append=  8\n",
      "----------\n",
      "d\n",
      "r: 13 , l: 8\n",
      "----------\n",
      "e\n",
      "r: 14 , l: 8\n",
      "----------\n",
      "f\n",
      "r: 14 , l: 8\n",
      "----------\n",
      "e\n",
      "r: 14 , l: 8\n",
      "----------\n",
      "g\n",
      "r: 14 , l: 8\n",
      "----------\n",
      "d\n",
      "r: 14 , l: 8\n",
      "----------\n",
      "e\n",
      "r: 14 , l: 8\n",
      "e\n",
      "r: 14 , l: 8 , append=  7\n",
      "----------\n",
      "h\n",
      "r: 18 , l: 15\n",
      "----------\n",
      "i\n",
      "r: 21 , l: 15\n",
      "----------\n",
      "j\n",
      "r: 22 , l: 15\n",
      "----------\n",
      "h\n",
      "r: 22 , l: 15\n",
      "----------\n",
      "k\n",
      "r: 22 , l: 15\n",
      "----------\n",
      "l\n",
      "r: 22 , l: 15\n",
      "----------\n",
      "i\n",
      "r: 22 , l: 15\n",
      "----------\n",
      "j\n",
      "r: 22 , l: 15\n",
      "j\n",
      "r: 22 , l: 15 , append=  8\n"
     ]
    },
    {
     "data": {
      "text/plain": [
       "[8, 7, 8]"
      ]
     },
     "execution_count": 22,
     "metadata": {},
     "output_type": "execute_result"
    }
   ],
   "source": [
    "S = \"babcbacadefegdehijhklij\"\n",
    "mysol.partitionLabels(S)"
   ]
  },
  {
   "cell_type": "code",
   "execution_count": null,
   "id": "shared-polymer",
   "metadata": {},
   "outputs": [],
   "source": []
  },
  {
   "cell_type": "code",
   "execution_count": null,
   "id": "forbidden-highland",
   "metadata": {},
   "outputs": [],
   "source": []
  }
 ],
 "metadata": {
  "kernelspec": {
   "display_name": "Python 3",
   "language": "python",
   "name": "python3"
  },
  "language_info": {
   "codemirror_mode": {
    "name": "ipython",
    "version": 3
   },
   "file_extension": ".py",
   "mimetype": "text/x-python",
   "name": "python",
   "nbconvert_exporter": "python",
   "pygments_lexer": "ipython3",
   "version": "3.8.8"
  }
 },
 "nbformat": 4,
 "nbformat_minor": 5
}
