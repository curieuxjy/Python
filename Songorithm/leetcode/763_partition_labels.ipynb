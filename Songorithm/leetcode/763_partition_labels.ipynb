{
 "cells": [
  {
   "cell_type": "markdown",
   "id": "foreign-mention",
   "metadata": {},
   "source": [
    "[![Colab Badge](http://img.shields.io/badge/Colaboratory-black?style=for-the-badge&logo=google-colab)](https://colab.research.google.com/github/curieuxjy/Python/blob/master/Songorithm/leetcode/763_partition_labels.ipynb)"
   ]
  },
  {
   "cell_type": "markdown",
   "id": "brief-negative",
   "metadata": {},
   "source": [
    "[partition-labels](https://leetcode.com/problems/partition-labels/)"
   ]
  },
  {
   "cell_type": "code",
   "execution_count": null,
   "id": "missing-update",
   "metadata": {},
   "outputs": [],
   "source": []
  },
  {
   "cell_type": "code",
   "execution_count": null,
   "id": "collectible-rider",
   "metadata": {},
   "outputs": [],
   "source": []
  },
  {
   "cell_type": "code",
   "execution_count": null,
   "id": "liked-folder",
   "metadata": {},
   "outputs": [],
   "source": []
  },
  {
   "cell_type": "code",
   "execution_count": null,
   "id": "spatial-nebraska",
   "metadata": {},
   "outputs": [],
   "source": []
  },
  {
   "cell_type": "code",
   "execution_count": null,
   "id": "thousand-service",
   "metadata": {},
   "outputs": [],
   "source": []
  }
 ],
 "metadata": {
  "kernelspec": {
   "display_name": "Python 3",
   "language": "python",
   "name": "python3"
  },
  "language_info": {
   "codemirror_mode": {
    "name": "ipython",
    "version": 3
   },
   "file_extension": ".py",
   "mimetype": "text/x-python",
   "name": "python",
   "nbconvert_exporter": "python",
   "pygments_lexer": "ipython3",
   "version": "3.8.8"
  }
 },
 "nbformat": 4,
 "nbformat_minor": 5
}
