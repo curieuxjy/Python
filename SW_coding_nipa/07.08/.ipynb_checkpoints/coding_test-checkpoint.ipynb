{
 "cells": [
  {
   "cell_type": "code",
   "execution_count": 2,
   "metadata": {},
   "outputs": [
    {
     "name": "stdin",
     "output_type": "stream",
     "text": [
      " ()[]{}\n"
     ]
    },
    {
     "name": "stdout",
     "output_type": "stream",
     "text": [
      "False\n"
     ]
    }
   ],
   "source": [
    "user_input = input()\n",
    "input_list = list(user_input)\n",
    "answer = True\n",
    "reversed_list = input_list[::-1]\n",
    "\n",
    "while (len(input_list)%2==0):\n",
    "\tif input_list[0]==\"(\":\n",
    "\t\ta = reversed_list.index(\")\")\n",
    "\t\tb = len(input_list)-1-a #real index )\n",
    "\t\tif b%2 != 0:\n",
    "\t\t\tanswer = False\n",
    "\t\t\tbreak\n",
    "\t\tinput_list.pop(0)\n",
    "\t\tinput_list.pop(b)\n",
    "\n",
    "\telif input_list[0]==\"{\":\n",
    "\t\ta = reversed_list.index(\"}\")\n",
    "\t\tb = len(input_list)-1-a #real index )\n",
    "\t\tif b%2!=0:\n",
    "\t\t\tanswer = False\n",
    "\t\t\tbreak\n",
    "\t\tinput_list.pop(0)\n",
    "\t\tinput_list.pop(b)\n",
    "\n",
    "\telif input_list[0]==\"[\":\n",
    "\t\ta = reversed_list.index(\"]\")\n",
    "\t\tb = len(input_list)-1-a #real index )\n",
    "\t\tif b%2!=0:\n",
    "\t\t\tanswer = False\n",
    "\t\t\tbreak\n",
    "\t\tinput_list.pop(0)\n",
    "\t\tinput_list.pop(b)\n",
    "\t\t\n",
    "\telse:\n",
    "\t\tanswer = False\n",
    "\t\tbreak\n",
    "\t\t\n",
    "\n",
    "print (answer)"
   ]
  },
  {
   "cell_type": "code",
   "execution_count": 3,
   "metadata": {},
   "outputs": [
    {
     "data": {
      "text/plain": [
       "1"
      ]
     },
     "execution_count": 3,
     "metadata": {},
     "output_type": "execute_result"
    }
   ],
   "source": [
    "alist = [1,2,3,4,50]\n",
    "alist.pop(0)"
   ]
  },
  {
   "cell_type": "code",
   "execution_count": null,
   "metadata": {},
   "outputs": [],
   "source": [
    "user_input = input()\n",
    "input_list = list(user_input)\n",
    "answer = True\n",
    "reversed_list = input_list[::-1]\n",
    "\n",
    "while (len(input_list)%2==0):\n",
    "\tif input_list[0]==\"(\":\n",
    "\t\ta = reversed_list.index(\")\")\n",
    "\t\tb = len(input_list)-1-a #real index )\n",
    "\t\tif b%2 != 0:\n",
    "\t\t\tanswer = False\n",
    "\t\t\tbreak\n",
    "\t\tinput_list.pop(0)\n",
    "\t\tinput_list.pop(b)\n",
    "\n",
    "\telif input_list[0]==\"{\":\n",
    "\t\ta = reversed_list.index(\"}\")\n",
    "\t\tb = len(input_list)-1-a #real index )\n",
    "\t\tif b%2!=0:\n",
    "\t\t\tanswer = False\n",
    "\t\t\tbreak\n",
    "\t\tinput_list.pop(0)\n",
    "\t\tinput_list.pop(b)\n",
    "\n",
    "\telif input_list[0]==\"[\":\n",
    "\t\ta = reversed_list.index(\"]\")\n",
    "\t\tb = len(input_list)-1-a #real index )\n",
    "\t\tif b%2!=0:\n",
    "\t\t\tanswer = False\n",
    "\t\t\tbreak\n",
    "\t\tinput_list.pop(0)\n",
    "\t\tinput_list.pop(b)\n",
    "\t\t\n",
    "\telse:\n",
    "\t\tanswer = False\n",
    "\t\tbreak\n",
    "\t\t\n",
    "\n",
    "print (answer)"
   ]
  },
  {
   "cell_type": "code",
   "execution_count": 4,
   "metadata": {},
   "outputs": [
    {
     "name": "stdin",
     "output_type": "stream",
     "text": [
      " l\n"
     ]
    },
    {
     "name": "stdout",
     "output_type": "stream",
     "text": [
      "l\n"
     ]
    },
    {
     "name": "stdin",
     "output_type": "stream",
     "text": [
      " l\n"
     ]
    },
    {
     "name": "stdout",
     "output_type": "stream",
     "text": [
      "l\n"
     ]
    }
   ],
   "source": [
    "#1\n",
    "user_input = input()\n",
    "answer = user_input[::-1]\n",
    "print (answer)\n",
    "#\n",
    "s = input()\n",
    "s_reverse = ''\n",
    "for c in s:\n",
    "    s_reverse = c+ s_reverse\n",
    "print(s_reverse)\n"
   ]
  },
  {
   "cell_type": "code",
   "execution_count": null,
   "metadata": {},
   "outputs": [],
   "source": [
    "#2 \n",
    "user_input = int(input())\n",
    "answer = True\n",
    "for i in range(2,user_input):\n",
    "\tif (user_input % i) == 0:\n",
    "\t\tanswer = False\n",
    "\t\n",
    "print (answer)\n",
    "\n",
    "# root N\n",
    "user_input = int(input())\n",
    "answer = True\n",
    "for i in range(2,user_input**(-2)+1):\n",
    "\tif (user_input % i) == 0:\n",
    "\t\tanswer = False\n",
    "\t\n",
    "print (answer)\n",
    "\n",
    "# 소수 제외\n",
    "user_input = int(input())\n",
    "answer = True\n",
    "# 짝수인지 판별 먼저\n",
    "for i in range(3,user_input**(-2)+1, 2):\n",
    "\tif (user_input % i) == 0:\n",
    "\t\tanswer = False\n",
    "\t\n",
    "print (answer)"
   ]
  }
 ],
 "metadata": {
  "kernelspec": {
   "display_name": "Python 3",
   "language": "python",
   "name": "python3"
  },
  "language_info": {
   "codemirror_mode": {
    "name": "ipython",
    "version": 3
   },
   "file_extension": ".py",
   "mimetype": "text/x-python",
   "name": "python",
   "nbconvert_exporter": "python",
   "pygments_lexer": "ipython3",
   "version": "3.7.4"
  }
 },
 "nbformat": 4,
 "nbformat_minor": 4
}
