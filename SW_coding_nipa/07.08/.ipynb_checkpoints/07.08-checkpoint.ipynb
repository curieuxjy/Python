{
 "cells": [
  {
   "cell_type": "code",
   "execution_count": 1,
   "metadata": {},
   "outputs": [],
   "source": [
    "# C++ map(logN보장)        /set\n",
    "# Python dict(O(1)~O(N))   /set\n",
    "# 시간복잡도 계산은 기본\n",
    "#1/log2(n)/n/n*log2(n)/n^2/n^3/2^n/n!"
   ]
  },
  {
   "cell_type": "code",
   "execution_count": 2,
   "metadata": {},
   "outputs": [],
   "source": [
    "# logN\n",
    "# 1. 정렬 sort\n",
    "# e.g.)quick sort-> nlog(n)\n",
    "# 2. 우선순위 큐(priority queue)\n",
    "# 자료구조가 트리(비선형)으로 되어 있음\n",
    "# 3. 해쉬(python에서 dict/set은 O(1)) -> C++에서\n",
    "# 4. 이진탐색\n",
    "# 5. 분할 정복(일반적인 코테에선 안나옴)"
   ]
  },
  {
   "cell_type": "code",
   "execution_count": 3,
   "metadata": {},
   "outputs": [],
   "source": [
    "# 다항시간 vs 비다항시간\n",
    "# O(n), O(n^2logn) // O(2^n), O(n!)\n",
    "# 백트레킹?"
   ]
  },
  {
   "cell_type": "code",
   "execution_count": 4,
   "metadata": {},
   "outputs": [],
   "source": [
    "# 그래프 구조\n",
    "# 프로그래머스 네트워크 문제\n",
    "# 큰수 만들기\n",
    "# 어떤 숫자에서 k개의 수를 제거했을 때 얻을 수 있는 가장 큰 숫자를 구하려 합니다.\n",
    "\n",
    "# 예를 들어, 숫자 1924에서 수 두 개를 제거하면 [19, 12, 14, 92, 94, 24] 를 만들 수 있습니다. 이 중 가장 큰 숫자는 94 입니다.\n",
    "\n",
    "# 문자열 형식으로 숫자 number와 제거할 수의 개수 k가 solution 함수의 매개변수로 주어집니다. \n",
    "# number에서 k 개의 수를 제거했을 때 만들 수 있는 수 중 가장 큰 숫자를 문자열 형태로 return 하도록 solution 함수를 완성하세요.\n",
    "\n",
    "#그리디 해법\n",
    "#O(N)\n",
    "#hanollo@gmail.com\n"
   ]
  },
  {
   "cell_type": "code",
   "execution_count": 5,
   "metadata": {},
   "outputs": [],
   "source": [
    "a = \"1235846\""
   ]
  },
  {
   "cell_type": "code",
   "execution_count": 6,
   "metadata": {},
   "outputs": [],
   "source": [
    "b = list(a)"
   ]
  },
  {
   "cell_type": "code",
   "execution_count": 7,
   "metadata": {},
   "outputs": [
    {
     "data": {
      "text/plain": [
       "['1', '2', '3', '5', '8', '4', '6']"
      ]
     },
     "execution_count": 7,
     "metadata": {},
     "output_type": "execute_result"
    }
   ],
   "source": [
    "b"
   ]
  },
  {
   "cell_type": "code",
   "execution_count": 8,
   "metadata": {},
   "outputs": [
    {
     "data": {
      "text/plain": [
       "True"
      ]
     },
     "execution_count": 8,
     "metadata": {},
     "output_type": "execute_result"
    }
   ],
   "source": [
    "b[4]>b[5]"
   ]
  },
  {
   "cell_type": "code",
   "execution_count": 9,
   "metadata": {},
   "outputs": [
    {
     "data": {
      "text/plain": [
       "'8'"
      ]
     },
     "execution_count": 9,
     "metadata": {},
     "output_type": "execute_result"
    }
   ],
   "source": [
    "b[4]"
   ]
  },
  {
   "cell_type": "code",
   "execution_count": null,
   "metadata": {},
   "outputs": [],
   "source": [
    "# 내 풀이..ㅠ\n",
    "list_a = list(number)\n",
    "del_num = 0\n",
    "rtn_num = len(list_a)-k\n",
    "\n",
    "while del_num != k:\n",
    "    for i in range(len(list_a)):\n",
    "        print(list_a)\n",
    "        for n in range():\n",
    "            if list_a[i] < list_a[i+n]:\n",
    "                print(\"here\")\n",
    "                del list_a[i]\n",
    "                del_num += 1\n",
    "                break\n",
    "\n",
    "\n",
    "print(list_a)\n",
    "#기준 숫자\n",
    "#비교하는 숫자"
   ]
  },
  {
   "cell_type": "code",
   "execution_count": 51,
   "metadata": {},
   "outputs": [
    {
     "data": {
      "text/plain": [
       "['h', '}']"
      ]
     },
     "execution_count": 51,
     "metadata": {},
     "output_type": "execute_result"
    }
   ],
   "source": [
    "alist = [\"}\", \"h\"]\n",
    "blist = alist[::-1]\n",
    "blist"
   ]
  },
  {
   "cell_type": "code",
   "execution_count": null,
   "metadata": {},
   "outputs": [],
   "source": [
    "def solution(number, k):\n",
    "    i=0 #기준 숫자 인덱스\n",
    "    while i<len(number)-1 and k>0:  #마지막 문자는 비교할 대상이 없음\n",
    "        if number[i]<number[i+1]: #숫자가 제거되야 할 때\n",
    "            number = number[:i]+number[i+1:] #string에서 슬라이싱\n",
    "            # list라면 del number[i]\n",
    "            if i!=0: #숫자가 제거 되었다면 비교 위치를 앞으로 당김\n",
    "                i-=1\n",
    "            k-=1 #제거해야하는 숫자수 감소\n",
    "        else: # 숫자가 제거되지 않았으면\n",
    "            i+=1\n",
    "    if k>0:\n",
    "        return number[:-k] #제거해야 할 숫자가 남았으면 뒷부분 숫자를 제거\n",
    "\n",
    "    return number"
   ]
  },
  {
   "cell_type": "code",
   "execution_count": null,
   "metadata": {},
   "outputs": [],
   "source": [
    "def solution(number, k):\n",
    "    stack = [number[0]]\n",
    "    for num in number[1:]:\n",
    "        while len(stack) > 0 and stack[-1] < num and k > 0:\n",
    "            k -= 1\n",
    "            stack.pop()\n",
    "        stack.append(num)\n",
    "    if k != 0:\n",
    "        stack = stack[:-k]\n",
    "    return ''.join(stack)"
   ]
  },
  {
   "cell_type": "code",
   "execution_count": null,
   "metadata": {},
   "outputs": [],
   "source": [
    "def solution(number, k):\n",
    "    st = []\n",
    "    for i in range(len(number)):\n",
    "        while st and k > 0 and st[-1] < number[i]:\n",
    "            st.pop()\n",
    "            k -= 1\n",
    "        st.append(number[i])\n",
    "    return ''.join(st[:len(st) - k])"
   ]
  },
  {
   "cell_type": "code",
   "execution_count": null,
   "metadata": {},
   "outputs": [],
   "source": [
    "user_input = input()\n",
    "input_list = list(user_input)\n",
    "answer = True\n",
    "stop = True\n",
    "while stop:\n",
    "\tif input_list.count(\"(\")!= input_list.count(\")\"):\n",
    "\t\tanswer = False\n",
    "\t\tstop = False\n",
    "\tif input_list.count(\"{\")!= input_list.count(\"}\"):\n",
    "\t\tanswer = False\n",
    "\t\tstop = False\n",
    "\tif input_list.count(\"[\")!= input_list.count(\"]\"):\n",
    "\t\tanswer = False\n",
    "\t\tstop = False\n",
    "\n",
    "\t#-----------------\n",
    "\treversed_list = input_list[::-1]\n",
    "\tif input_list[0]==\"(\":\n",
    "\t\ta = reversed_list.index(\")\")\n",
    "\t\tb = len(input_list)-a #real index )\n",
    "\t\tif b%2!=0:\n",
    "\t\t\tanswer = False\n",
    "\t\t\tstop = False\n",
    "\t\tinput_list.pop(0)\n",
    "\t\tinput_list.pop(b)\n",
    "\n",
    "\tif input_list[0]==\"{\":\n",
    "\t\ta = reversed_list.index(\"}\")\n",
    "\t\tb = len(input_list)-a #real index )\n",
    "\t\tif b%2!=0:\n",
    "\t\t\tanswer = False\n",
    "\t\t\tstop = False\n",
    "\t\tinput_list.pop(0)\n",
    "\t\tinput_list.pop(b)\n",
    "\n",
    "\tif input_list[0]==\"[\":\n",
    "\t\ta = reversed_list.index(\"]\")\n",
    "\t\tb = len(input_list)-a #real index )\n",
    "\t\tif b%2!=0:\n",
    "\t\t\tanswer = False\n",
    "\t\t\tstop = False\n",
    "\t\tinput_list.pop(0)\n",
    "\t\tinput_list.pop(b)\n",
    "\n",
    "print (answer)"
   ]
  },
  {
   "cell_type": "code",
   "execution_count": null,
   "metadata": {},
   "outputs": [],
   "source": [
    "user_input = input()\n",
    "input_list = list(user_input)\n",
    "answer = True\n",
    "stop = True\n",
    "while stop:\n",
    "\tif input_list.count(\"(\")!= input_list.count(\")\"):\n",
    "\t\tanswer = False\n",
    "\t\tstop = False\n",
    "\tif input_list.count(\"{\")!= input_list.count(\"}\"):\n",
    "\t\tanswer = False\n",
    "\t\tstop = False\n",
    "\tif input_list.count(\"[\")!= input_list.count(\"]\"):\n",
    "\t\tanswer = False\n",
    "\t\tstop = False\n",
    "\n",
    "\t#-----------------\n",
    "\treversed_list = input_list[::-1]\n",
    "\tif input_list[0]==\"(\":\n",
    "\t\ta = reversed_list.index(\")\")\n",
    "\t\tb = len(input_list)-a #real index )\n",
    "\t\tif b%2!=0:\n",
    "\t\t\tanswer = False\n",
    "\t\t\tstop = False\n",
    "\t\tinput_list.pop(0)\n",
    "\t\tinput_list.pop(b)\n",
    "\n",
    "\tif input_list[0]==\"{\":\n",
    "\t\ta = reversed_list.index(\"}\")\n",
    "\t\tb = len(input_list)-a #real index )\n",
    "\t\tif b%2!=0:\n",
    "\t\t\tanswer = False\n",
    "\t\t\tstop = False\n",
    "\t\tinput_list.pop(0)\n",
    "\t\tinput_list.pop(b)\n",
    "\n",
    "\tif input_list[0]==\"[\":\n",
    "\t\ta = reversed_list.index(\"]\")\n",
    "\t\tb = len(input_list)-a #real index )\n",
    "\t\tif b%2!=0:\n",
    "\t\t\tanswer = False\n",
    "\t\t\tstop = False\n",
    "\t\tinput_list.pop(0)\n",
    "\t\tinput_list.pop(b)\n",
    "\n",
    "print (answer)"
   ]
  }
 ],
 "metadata": {
  "kernelspec": {
   "display_name": "Python 3",
   "language": "python",
   "name": "python3"
  },
  "language_info": {
   "codemirror_mode": {
    "name": "ipython",
    "version": 3
   },
   "file_extension": ".py",
   "mimetype": "text/x-python",
   "name": "python",
   "nbconvert_exporter": "python",
   "pygments_lexer": "ipython3",
   "version": "3.7.4"
  }
 },
 "nbformat": 4,
 "nbformat_minor": 4
}
