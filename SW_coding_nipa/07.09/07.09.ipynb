{
 "cells": [
  {
   "cell_type": "code",
   "execution_count": 2,
   "metadata": {},
   "outputs": [
    {
     "name": "stdin",
     "output_type": "stream",
     "text": [
      " ([)]\n"
     ]
    },
    {
     "name": "stdout",
     "output_type": "stream",
     "text": [
      "False\n"
     ]
    }
   ],
   "source": [
    "#3번 문제\n",
    "s = input()\n",
    "stack = []\n",
    "for i in s:\n",
    "    if len(stack) == 0:\n",
    "        stack.append(i)\n",
    "        continue\n",
    "    top = stack[-1]\n",
    "    sum = ord(top)+ord(i)\n",
    "    if sum == 81 or sum == 184 or sum ==248:\n",
    "        stack.pop()\n",
    "    else:\n",
    "        stack.append(i)\n",
    "if len(stack) >0:\n",
    "    print(False)\n",
    "else:\n",
    "    print(True)\n",
    "# 종류에 대해 각각 a, b, c로 할당\n",
    "# 자료구조가 있는 이유- 순서고려"
   ]
  },
  {
   "cell_type": "code",
   "execution_count": null,
   "metadata": {},
   "outputs": [],
   "source": [
    "# 4번 문제 - 다이아몬드의 합\n",
    "# greedy 해법의 허점이 있음\n",
    "\n"
   ]
  },
  {
   "cell_type": "code",
   "execution_count": null,
   "metadata": {},
   "outputs": [],
   "source": [
    "# 음수 추가\n",
    "# 곱의 최대\n",
    "# +값이 한개라도 -> 0값이 한개라도 -> -값이 한개라도\n",
    "# 특정 노드 이후로 만나는 음수의 갯수를 기준으로\n",
    "# 만나는 음수의 갯수가 짝수개 -> 부호 유지 -> (2,'7')/(-7,'-3')/('4',-5)각각의 경우에 대해서 최대값이 유리하다\n",
    "# 만나는 음수의 갯수가 홀수개 -> 부호 변화 -> ('2',7)/('-7',-3)/(4,'-5')각각의 경우에 대해서 최소값이 유리하다\n",
    "# 결국 저장을 [최대/최소]만 하면 된다는 얘기\n",
    "\n",
    "\n"
   ]
  },
  {
   "cell_type": "code",
   "execution_count": 6,
   "metadata": {},
   "outputs": [
    {
     "name": "stdin",
     "output_type": "stream",
     "text": [
      " 10 6\n"
     ]
    },
    {
     "name": "stdout",
     "output_type": "stream",
     "text": [
      "5\n"
     ]
    }
   ],
   "source": [
    "# 5번 문제\n",
    "import math\n",
    "width, divisor = list(map(lambda x:int(x), input().split(\" \")))\n",
    "f = math.factorial #팩토리얼 사용\n",
    "\n",
    "answer = 0\n",
    "c2 = width//2\n",
    "\n",
    "while c2>=0:\n",
    "    c1 = width-(c2*2)\n",
    "    answer += (f(c1+c2)//(f(c1)*f(c2))) * (2**c2) \n",
    "    # 가로1과 가로2의 combination X 가로2의 경우의 수\n",
    "    c2 -= 1\n",
    "print(answer%divisor)"
   ]
  },
  {
   "cell_type": "code",
   "execution_count": 5,
   "metadata": {},
   "outputs": [
    {
     "name": "stdin",
     "output_type": "stream",
     "text": [
      " 10 6\n"
     ]
    },
    {
     "name": "stdout",
     "output_type": "stream",
     "text": [
      "5\n"
     ]
    }
   ],
   "source": [
    "#수열 규칙\n",
    "n,m = input().split()\n",
    "\n",
    "n = int(n)\n",
    "m = int(m)\n",
    "\n",
    "# tile[i] = 2Xi타일을 채우는 경우의 수\n",
    "tile = [0 for i in range(n+1)]\n",
    "tile[1] = 1\n",
    "tile[2] = 3\n",
    "for i in range(3, n+1):\n",
    "    tile[i] = (tile[i-1] + tile[i-2]*2) %m\n",
    "print(tile[n])"
   ]
  },
  {
   "cell_type": "code",
   "execution_count": 11,
   "metadata": {},
   "outputs": [
    {
     "name": "stdin",
     "output_type": "stream",
     "text": [
      " 10 6\n"
     ]
    },
    {
     "name": "stdout",
     "output_type": "stream",
     "text": [
      "[0, 0, 0, 0, 0, 0, 0, 0, 0, 0, 0]\n",
      "[0, 1, 1, 3, 5, 1, 1, 5, 1, 3, 1]\n",
      "1\n"
     ]
    }
   ],
   "source": [
    "# 변형 - 3XN타일을 1X3, 3X1, 3X3으로\n",
    "n,m = input().split()\n",
    "\n",
    "n = int(n)\n",
    "m = int(m)\n",
    "\n",
    "tile = [0 for i in range(n+1)]\n",
    "print(tile)\n",
    "tile[1] = 1\n",
    "tile[2] = 1\n",
    "tile[3] = 3\n",
    "for i in range(4, n+1):\n",
    "    # tile[i] = (tile[i-1] + tile[i-2] + tile[i-3]*3) #%m\n",
    "    tile[i] = (tile[i-1] + tile[i-3]*2) %m #마지막 타일에 집중!!\n",
    "print(tile)\n",
    "print(tile[n])"
   ]
  },
  {
   "cell_type": "code",
   "execution_count": 12,
   "metadata": {},
   "outputs": [],
   "source": [
    "# common\n",
    "# https://programmers.co.kr/learn/courses/30/lessons/42577\n",
    "# easy\n",
    "# https://programmers.co.kr/learn/courses/30/lessons/12906\n",
    "# https://programmers.co.kr/learn/courses/30/lessons/42588\n",
    "# https://programmers.co.kr/learn/courses/30/lessons/42862\n",
    "# difficult\n",
    "# https://programmers.co.kr/learn/courses/30/lessons/42585\n",
    "# https://programmers.co.kr/learn/courses/30/lessons/67257"
   ]
  },
  {
   "cell_type": "code",
   "execution_count": 40,
   "metadata": {},
   "outputs": [],
   "source": [
    "def solution(phone_book):\n",
    "    pb = phone_book\n",
    "    for i in range(len(pb)-1):\n",
    "        for j in range(len(pb)-i-1):\n",
    "            anchor = pb[i]\n",
    "            compare = pb[i+j+1]\n",
    "            if len(anchor)>len(compare):\n",
    "                anchor, compare = compare, anchor\n",
    "            print(\"------compare start------\")\n",
    "            print(anchor, compare)\n",
    "            for k in range(len(anchor)):\n",
    "                if anchor[k] != compare[k]:\n",
    "                    print(anchor[k], compare[k], \"different\")\n",
    "                    answer = \"true\"\n",
    "                    break\n",
    "                else:\n",
    "                    print(anchor[k], compare[k], \"same\")\n",
    "                    answer = \"false\"\n",
    "                    continue\n",
    "                    \n",
    "            print(\"------compare end------\")\n",
    "            \n",
    "        print(\"*****next pair*****\")\n",
    "    #answer = \"true\"\n",
    "    print(\"++++++++++++++\",answer,\"++++++++++++++\")\n",
    "    return answer"
   ]
  },
  {
   "cell_type": "code",
   "execution_count": 41,
   "metadata": {},
   "outputs": [
    {
     "name": "stdout",
     "output_type": "stream",
     "text": [
      "------compare start------\n",
      "119 97674223\n",
      "1 9 different\n",
      "------compare end------\n",
      "------compare start------\n",
      "119 1195524421\n",
      "1 1 same\n",
      "1 1 same\n",
      "9 9 same\n",
      "------compare end------\n",
      "*****next pair*****\n",
      "------compare start------\n",
      "97674223 1195524421\n",
      "9 1 different\n",
      "------compare end------\n",
      "*****next pair*****\n",
      "++++++++++++++ true ++++++++++++++\n",
      "true\n",
      "------compare start------\n",
      "123 456\n",
      "1 4 different\n",
      "------compare end------\n",
      "------compare start------\n",
      "123 789\n",
      "1 7 different\n",
      "------compare end------\n",
      "*****next pair*****\n",
      "------compare start------\n",
      "456 789\n",
      "4 7 different\n",
      "------compare end------\n",
      "*****next pair*****\n",
      "++++++++++++++ true ++++++++++++++\n",
      "true\n",
      "------compare start------\n",
      "12 123\n",
      "1 1 same\n",
      "2 2 same\n",
      "------compare end------\n",
      "------compare start------\n",
      "12 1235\n",
      "1 1 same\n",
      "2 2 same\n",
      "------compare end------\n",
      "------compare start------\n",
      "12 567\n",
      "1 5 different\n",
      "------compare end------\n",
      "------compare start------\n",
      "12 88\n",
      "1 8 different\n",
      "------compare end------\n",
      "*****next pair*****\n",
      "------compare start------\n",
      "123 1235\n",
      "1 1 same\n",
      "2 2 same\n",
      "3 3 same\n",
      "------compare end------\n",
      "------compare start------\n",
      "123 567\n",
      "1 5 different\n",
      "------compare end------\n",
      "------compare start------\n",
      "88 123\n",
      "8 1 different\n",
      "------compare end------\n",
      "*****next pair*****\n",
      "------compare start------\n",
      "567 1235\n",
      "5 1 different\n",
      "------compare end------\n",
      "------compare start------\n",
      "88 1235\n",
      "8 1 different\n",
      "------compare end------\n",
      "*****next pair*****\n",
      "------compare start------\n",
      "88 567\n",
      "8 5 different\n",
      "------compare end------\n",
      "*****next pair*****\n",
      "++++++++++++++ true ++++++++++++++\n",
      "true\n"
     ]
    }
   ],
   "source": [
    "print(solution([\"119\", \"97674223\", \"1195524421\"]))\n",
    "print(solution([\"123\",\"456\",\"789\"]))\n",
    "print(solution([\"12\",\"123\",\"1235\",\"567\",\"88\"]))"
   ]
  },
  {
   "cell_type": "code",
   "execution_count": null,
   "metadata": {},
   "outputs": [],
   "source": []
  }
 ],
 "metadata": {
  "kernelspec": {
   "display_name": "Python 3",
   "language": "python",
   "name": "python3"
  },
  "language_info": {
   "codemirror_mode": {
    "name": "ipython",
    "version": 3
   },
   "file_extension": ".py",
   "mimetype": "text/x-python",
   "name": "python",
   "nbconvert_exporter": "python",
   "pygments_lexer": "ipython3",
   "version": "3.7.4"
  }
 },
 "nbformat": 4,
 "nbformat_minor": 4
}
