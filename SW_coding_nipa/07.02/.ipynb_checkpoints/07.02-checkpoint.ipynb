{
 "cells": [
  {
   "cell_type": "code",
   "execution_count": 1,
   "metadata": {},
   "outputs": [],
   "source": [
    "#shift tap(option 확인)\n",
    "import random"
   ]
  },
  {
   "cell_type": "code",
   "execution_count": 2,
   "metadata": {},
   "outputs": [
    {
     "ename": "TypeError",
     "evalue": "sample() missing 2 required positional arguments: 'population' and 'k'",
     "output_type": "error",
     "traceback": [
      "\u001b[1;31m---------------------------------------------------------------------------\u001b[0m",
      "\u001b[1;31mTypeError\u001b[0m                                 Traceback (most recent call last)",
      "\u001b[1;32m<ipython-input-2-86b239e50bb3>\u001b[0m in \u001b[0;36m<module>\u001b[1;34m\u001b[0m\n\u001b[1;32m----> 1\u001b[1;33m \u001b[0mrandom\u001b[0m\u001b[1;33m.\u001b[0m\u001b[0msample\u001b[0m\u001b[1;33m(\u001b[0m\u001b[1;33m)\u001b[0m\u001b[1;33m\u001b[0m\u001b[1;33m\u001b[0m\u001b[0m\n\u001b[0m",
      "\u001b[1;31mTypeError\u001b[0m: sample() missing 2 required positional arguments: 'population' and 'k'"
     ]
    }
   ],
   "source": [
    "random.sample()"
   ]
  },
  {
   "cell_type": "code",
   "execution_count": 3,
   "metadata": {},
   "outputs": [
    {
     "data": {
      "text/plain": [
       "range(1, 46)"
      ]
     },
     "execution_count": 3,
     "metadata": {},
     "output_type": "execute_result"
    }
   ],
   "source": [
    "range(1, 46) \n",
    "#1~ 46-1 ==> 1~45 #laxy evaluation(늦은 실행을 하는 함수) 그래서 list로 둘러싼다."
   ]
  },
  {
   "cell_type": "code",
   "execution_count": 4,
   "metadata": {},
   "outputs": [
    {
     "data": {
      "text/plain": [
       "[1,\n",
       " 2,\n",
       " 3,\n",
       " 4,\n",
       " 5,\n",
       " 6,\n",
       " 7,\n",
       " 8,\n",
       " 9,\n",
       " 10,\n",
       " 11,\n",
       " 12,\n",
       " 13,\n",
       " 14,\n",
       " 15,\n",
       " 16,\n",
       " 17,\n",
       " 18,\n",
       " 19,\n",
       " 20,\n",
       " 21,\n",
       " 22,\n",
       " 23,\n",
       " 24,\n",
       " 25,\n",
       " 26,\n",
       " 27,\n",
       " 28,\n",
       " 29,\n",
       " 30,\n",
       " 31,\n",
       " 32,\n",
       " 33,\n",
       " 34,\n",
       " 35,\n",
       " 36,\n",
       " 37,\n",
       " 38,\n",
       " 39,\n",
       " 40,\n",
       " 41,\n",
       " 42,\n",
       " 43,\n",
       " 44,\n",
       " 45]"
      ]
     },
     "execution_count": 4,
     "metadata": {},
     "output_type": "execute_result"
    }
   ],
   "source": [
    "list(range(1,46))"
   ]
  },
  {
   "cell_type": "code",
   "execution_count": 5,
   "metadata": {},
   "outputs": [
    {
     "data": {
      "text/plain": [
       "[13, 43, 24, 29, 21, 26]"
      ]
     },
     "execution_count": 5,
     "metadata": {},
     "output_type": "execute_result"
    }
   ],
   "source": [
    "random.sample(range(1,46),6)"
   ]
  },
  {
   "cell_type": "code",
   "execution_count": 6,
   "metadata": {},
   "outputs": [
    {
     "data": {
      "text/plain": [
       "[6, 7, 8, 20, 22, 24]"
      ]
     },
     "execution_count": 6,
     "metadata": {},
     "output_type": "execute_result"
    }
   ],
   "source": [
    "sorted(random.sample(range(1,46),6))"
   ]
  },
  {
   "cell_type": "code",
   "execution_count": 7,
   "metadata": {},
   "outputs": [
    {
     "name": "stdout",
     "output_type": "stream",
     "text": [
      "0\n",
      "1\n",
      "2\n",
      "3\n",
      "4\n"
     ]
    }
   ],
   "source": [
    "# while 반복문\n",
    "# 1. 초기값 정의\n",
    "# 2. 조건 정의\n",
    "# 3. 증가/감소\n",
    "i=0\n",
    "while i<5:\n",
    "    print(i)\n",
    "    i += 1"
   ]
  },
  {
   "cell_type": "code",
   "execution_count": 8,
   "metadata": {},
   "outputs": [
    {
     "name": "stdout",
     "output_type": "stream",
     "text": [
      "[11, 15, 27, 30, 32, 44]\n",
      "[3, 17, 23, 33, 41, 44]\n",
      "[8, 9, 16, 29, 35, 43]\n",
      "[11, 14, 18, 21, 24, 29]\n",
      "[5, 10, 12, 27, 31, 36]\n"
     ]
    }
   ],
   "source": [
    "import random #random.py\n",
    "cnt = 0 #count\n",
    "while cnt<5: #0, 1, 2, 3, 4\n",
    "    lotto = sorted(random.sample(range(1,46), 6))\n",
    "    if 100 <= sum(lotto) <= 170:\n",
    "        print(lotto)\n",
    "        cnt +=1"
   ]
  },
  {
   "cell_type": "code",
   "execution_count": 9,
   "metadata": {},
   "outputs": [],
   "source": [
    "output_a = \"{:15.3f}\".format(52.3486) #:자리 소수점"
   ]
  },
  {
   "cell_type": "code",
   "execution_count": 16,
   "metadata": {},
   "outputs": [],
   "source": [
    "output_b = 25.010023100\n",
    "output_b = \"{:g}\".format(output_b) #뒤에 0을 지워줌"
   ]
  },
  {
   "cell_type": "code",
   "execution_count": 17,
   "metadata": {},
   "outputs": [
    {
     "name": "stdout",
     "output_type": "stream",
     "text": [
      "         52.349 25.01\n"
     ]
    }
   ],
   "source": [
    "print(output_a, output_b)"
   ]
  },
  {
   "cell_type": "code",
   "execution_count": 20,
   "metadata": {},
   "outputs": [],
   "source": [
    "#upper(), lower()\n",
    "#대소문자 상관없이 찾아야할 때\n",
    "#strip 공백 제거 strip(), lstrip(), rstrip()\n",
    "input_a = \"\"\"\n",
    "      안녕하세요.\n",
    "           문자열 함수를 알아봅시다.\"\"\""
   ]
  },
  {
   "cell_type": "code",
   "execution_count": 21,
   "metadata": {},
   "outputs": [
    {
     "name": "stdout",
     "output_type": "stream",
     "text": [
      "\n",
      "      안녕하세요.\n",
      "           문자열 함수를 알아봅시다.\n"
     ]
    }
   ],
   "source": [
    "print(input_a)"
   ]
  },
  {
   "cell_type": "code",
   "execution_count": 23,
   "metadata": {},
   "outputs": [],
   "source": [
    "input_b = input_a.strip()"
   ]
  },
  {
   "cell_type": "code",
   "execution_count": 24,
   "metadata": {},
   "outputs": [
    {
     "name": "stdout",
     "output_type": "stream",
     "text": [
      "안녕하세요.\n",
      "           문자열 함수를 알아봅시다.\n"
     ]
    }
   ],
   "source": [
    "print(input_b)"
   ]
  },
  {
   "cell_type": "code",
   "execution_count": 25,
   "metadata": {},
   "outputs": [],
   "source": [
    "#is--() 입력값을 체크할 때\n",
    "#isalnum(): 알파벳과 숫자로만?\n",
    "#isalpha(): 알파벳으로만?\n",
    "#isidentifier(): 식별자로 사용 가능?\n",
    "#isdecimal(): 정수형태? ...등등"
   ]
  },
  {
   "cell_type": "code",
   "execution_count": 26,
   "metadata": {},
   "outputs": [],
   "source": [
    "#boolean - True, False 프랑스 수학자의 이름\n",
    "#find() 왼쪽부터 찾음\n",
    "#rfind() 오른쪽부터 찾아서 처음 등장하는 위치\n",
    "output_a = \"안녕안녕하세요\".find(\"안녕\")"
   ]
  },
  {
   "cell_type": "code",
   "execution_count": 27,
   "metadata": {},
   "outputs": [
    {
     "data": {
      "text/plain": [
       "0"
      ]
     },
     "execution_count": 27,
     "metadata": {},
     "output_type": "execute_result"
    }
   ],
   "source": [
    "output_a"
   ]
  },
  {
   "cell_type": "code",
   "execution_count": 28,
   "metadata": {},
   "outputs": [],
   "source": [
    "output_b = \"안녕안녕하세요\".rfind(\"안녕\") \n",
    "#.찍고 tab 누르면 method 나옴"
   ]
  },
  {
   "cell_type": "code",
   "execution_count": 29,
   "metadata": {},
   "outputs": [
    {
     "data": {
      "text/plain": [
       "2"
      ]
     },
     "execution_count": 29,
     "metadata": {},
     "output_type": "execute_result"
    }
   ],
   "source": [
    "output_b"
   ]
  },
  {
   "cell_type": "code",
   "execution_count": 30,
   "metadata": {},
   "outputs": [
    {
     "data": {
      "text/plain": [
       "True"
      ]
     },
     "execution_count": 30,
     "metadata": {},
     "output_type": "execute_result"
    }
   ],
   "source": [
    "# in 안에 값이 있는지 없는지 -> boolean\n",
    "\"hello\" in \"hello there\""
   ]
  },
  {
   "cell_type": "code",
   "execution_count": 31,
   "metadata": {},
   "outputs": [
    {
     "data": {
      "text/plain": [
       "False"
      ]
     },
     "execution_count": 31,
     "metadata": {},
     "output_type": "execute_result"
    }
   ],
   "source": [
    "\"hi\" in \"hello there\""
   ]
  },
  {
   "cell_type": "code",
   "execution_count": 37,
   "metadata": {},
   "outputs": [],
   "source": [
    "#split() 함수\n",
    "a = \"10 20 50 80\".split(\" \") #split(기준)"
   ]
  },
  {
   "cell_type": "code",
   "execution_count": 38,
   "metadata": {},
   "outputs": [
    {
     "data": {
      "text/plain": [
       "['10', '20', '50', '80']"
      ]
     },
     "execution_count": 38,
     "metadata": {},
     "output_type": "execute_result"
    }
   ],
   "source": [
    "a #list로 반환 #각 요소는 string임"
   ]
  },
  {
   "cell_type": "code",
   "execution_count": 40,
   "metadata": {},
   "outputs": [
    {
     "name": "stdout",
     "output_type": "stream",
     "text": [
      "160\n"
     ]
    }
   ],
   "source": [
    "sumnum = 0\n",
    "for i in a:\n",
    "    sumnum += int(i) #정수로 변환한 뒤 합산\n",
    "print(sumnum)"
   ]
  },
  {
   "cell_type": "code",
   "execution_count": 41,
   "metadata": {},
   "outputs": [
    {
     "name": "stdout",
     "output_type": "stream",
     "text": [
      "[10, 20, 50, 80]\n"
     ]
    }
   ],
   "source": [
    "arr = []\n",
    "for s in a:\n",
    "    arr.append(int(s))\n",
    "print(arr)"
   ]
  },
  {
   "cell_type": "code",
   "execution_count": 42,
   "metadata": {},
   "outputs": [
    {
     "name": "stdout",
     "output_type": "stream",
     "text": [
      "160\n"
     ]
    }
   ],
   "source": [
    "sum2 = 0\n",
    "for i in arr:\n",
    "    sum2 += i\n",
    "print(sum2)"
   ]
  },
  {
   "cell_type": "code",
   "execution_count": 43,
   "metadata": {},
   "outputs": [
    {
     "data": {
      "text/plain": [
       "True"
      ]
     },
     "execution_count": 43,
     "metadata": {},
     "output_type": "execute_result"
    }
   ],
   "source": [
    "\"가방\" < \"하마\" #우리나라 가나다 순, 코드표 unicode 가<하"
   ]
  },
  {
   "cell_type": "code",
   "execution_count": 47,
   "metadata": {},
   "outputs": [
    {
     "name": "stdin",
     "output_type": "stream",
     "text": [
      "정수 입력 0\n"
     ]
    },
    {
     "name": "stdout",
     "output_type": "stream",
     "text": [
      "0\n"
     ]
    }
   ],
   "source": [
    "#not, and, or\n",
    "#and -> 직렬\n",
    "#or -> 병렬\n",
    "#if 조건문 tab 통일하기\n",
    "number = input(\"정수 입력\") #output이 string\n",
    "number = int(number) #그래서 integer로 바꿔줘야 함\n",
    "if number > 0:\n",
    "    print(\"positive\")\n",
    "elif number <0:\n",
    "    print(\"negative\")\n",
    "else:\n",
    "    print(\"0\")"
   ]
  },
  {
   "cell_type": "code",
   "execution_count": 48,
   "metadata": {},
   "outputs": [
    {
     "name": "stdout",
     "output_type": "stream",
     "text": [
      "2020\n"
     ]
    }
   ],
   "source": [
    "#datetime.datetime.now()\n",
    "import datetime\n",
    "\n",
    "now = datetime.datetime.now()\n",
    "print(now.year) #month, day, hour, minute, second"
   ]
  },
  {
   "cell_type": "code",
   "execution_count": 49,
   "metadata": {},
   "outputs": [],
   "source": [
    "# 오전 오후 구분하기 now.hour로 구분\n",
    "# 계절구분 now.month로 구분\n",
    "# 끝자리로 짝수 홀수 구분"
   ]
  },
  {
   "cell_type": "code",
   "execution_count": 50,
   "metadata": {},
   "outputs": [],
   "source": [
    "#if elif else\n",
    "#pass로 임시로 비워둘 수 있음"
   ]
  },
  {
   "cell_type": "code",
   "execution_count": 51,
   "metadata": {},
   "outputs": [
    {
     "data": {
      "text/plain": [
       "['변경', 32, 103, '문자열', True, False]"
      ]
     },
     "execution_count": 51,
     "metadata": {},
     "output_type": "execute_result"
    }
   ],
   "source": [
    "#자료구조 \n",
    "#list(3)/tuple(1)/set(1)/dictionary(2)\n",
    "#tuple 불변\n",
    "#set 중복 제거\n",
    "#dictionary 키와 값 (json-java scripy object notation 90%유사)\n",
    "#list -> 반복\n",
    "#되도록이면 같은 자료형으로\n",
    "#indexing\n",
    "#변경 가능\n",
    "list_a = [273, 32, 103, \"문자열\", True, False]\n",
    "#          0    1   2      3        4     5\n",
    "list_a[0] = \"변경\"\n",
    "list_a"
   ]
  },
  {
   "cell_type": "code",
   "execution_count": 52,
   "metadata": {},
   "outputs": [
    {
     "data": {
      "text/plain": [
       "'자'"
      ]
     },
     "execution_count": 52,
     "metadata": {},
     "output_type": "execute_result"
    }
   ],
   "source": [
    "list_a[3][1]"
   ]
  },
  {
   "cell_type": "code",
   "execution_count": 53,
   "metadata": {},
   "outputs": [
    {
     "data": {
      "text/plain": [
       "[4, 5, 6]"
      ]
     },
     "execution_count": 53,
     "metadata": {},
     "output_type": "execute_result"
    }
   ],
   "source": [
    "list_c = [[1,2,3], [4,5,6], [7,8,9]]\n",
    "list_c[1]"
   ]
  },
  {
   "cell_type": "code",
   "execution_count": 54,
   "metadata": {},
   "outputs": [
    {
     "data": {
      "text/plain": [
       "4"
      ]
     },
     "execution_count": 54,
     "metadata": {},
     "output_type": "execute_result"
    }
   ],
   "source": [
    "list_c[1][0]"
   ]
  },
  {
   "cell_type": "code",
   "execution_count": 55,
   "metadata": {},
   "outputs": [
    {
     "data": {
      "text/plain": [
       "3"
      ]
     },
     "execution_count": 55,
     "metadata": {},
     "output_type": "execute_result"
    }
   ],
   "source": [
    "len(list_c)"
   ]
  },
  {
   "cell_type": "code",
   "execution_count": 60,
   "metadata": {},
   "outputs": [
    {
     "ename": "IndexError",
     "evalue": "list index out of range",
     "output_type": "error",
     "traceback": [
      "\u001b[1;31m---------------------------------------------------------------------------\u001b[0m",
      "\u001b[1;31mIndexError\u001b[0m                                Traceback (most recent call last)",
      "\u001b[1;32m<ipython-input-60-11efb2a2c2cc>\u001b[0m in \u001b[0;36m<module>\u001b[1;34m\u001b[0m\n\u001b[1;32m----> 1\u001b[1;33m \u001b[0mlist_c\u001b[0m\u001b[1;33m[\u001b[0m\u001b[1;36m3\u001b[0m\u001b[1;33m]\u001b[0m\u001b[1;33m\u001b[0m\u001b[1;33m\u001b[0m\u001b[0m\n\u001b[0m",
      "\u001b[1;31mIndexError\u001b[0m: list index out of range"
     ]
    }
   ],
   "source": [
    "list_c[3]"
   ]
  },
  {
   "cell_type": "code",
   "execution_count": 61,
   "metadata": {},
   "outputs": [
    {
     "data": {
      "text/plain": [
       "['변경', 32, 103, '문자열', True, False]"
      ]
     },
     "execution_count": 61,
     "metadata": {},
     "output_type": "execute_result"
    }
   ],
   "source": [
    "list_a"
   ]
  },
  {
   "cell_type": "code",
   "execution_count": 62,
   "metadata": {},
   "outputs": [
    {
     "data": {
      "text/plain": [
       "[[1, 2, 3], [4, 5, 6], [7, 8, 9]]"
      ]
     },
     "execution_count": 62,
     "metadata": {},
     "output_type": "execute_result"
    }
   ],
   "source": [
    "list_c"
   ]
  },
  {
   "cell_type": "code",
   "execution_count": 63,
   "metadata": {},
   "outputs": [
    {
     "data": {
      "text/plain": [
       "['변경', 32, 103, '문자열', True, False, [1, 2, 3], [4, 5, 6], [7, 8, 9]]"
      ]
     },
     "execution_count": 63,
     "metadata": {},
     "output_type": "execute_result"
    }
   ],
   "source": [
    "list_a + list_c"
   ]
  },
  {
   "cell_type": "code",
   "execution_count": 64,
   "metadata": {},
   "outputs": [
    {
     "name": "stdout",
     "output_type": "stream",
     "text": [
      "[1, 2, 3]\n",
      "[1, 2, 3, 4]\n"
     ]
    }
   ],
   "source": [
    "#자료구조4 + for, if, while만 알면 쉬움\n",
    "#append,insert\n",
    "#list.append(element)\n",
    "#list.inset(location, element)\n",
    "list_d = [1, 2, 3]\n",
    "print(list_d)\n",
    "list_d.append(4)\n",
    "print(list_d)"
   ]
  },
  {
   "cell_type": "code",
   "execution_count": 67,
   "metadata": {},
   "outputs": [
    {
     "name": "stdout",
     "output_type": "stream",
     "text": [
      "[1, 2, 3, 4]\n",
      "[10, 1, 2, 3, 4]\n"
     ]
    }
   ],
   "source": [
    "print(list_d)\n",
    "list_d.insert(0, 10)\n",
    "print(list_d)"
   ]
  },
  {
   "cell_type": "code",
   "execution_count": 69,
   "metadata": {},
   "outputs": [
    {
     "name": "stdout",
     "output_type": "stream",
     "text": [
      "[0, 1, 2, 3, 4, 5]\n",
      "[0, 2, 3, 4, 5]\n"
     ]
    }
   ],
   "source": [
    "#extend()\n",
    "# del list[index]\n",
    "# list.pop(index)\n",
    "#자료구조\n",
    "#추가/수정/삭제/검색 -> 모든 데이터를 다룬다\n",
    "list_a = [0,1,2,3,4,5]\n",
    "print(list_a)\n",
    "del list_a[1] #index 1번째 삭제\n",
    "print(list_a)"
   ]
  },
  {
   "cell_type": "code",
   "execution_count": 70,
   "metadata": {},
   "outputs": [
    {
     "name": "stdout",
     "output_type": "stream",
     "text": [
      "[0, 2, 3, 4, 5]\n",
      "[0, 2, 4, 5]\n"
     ]
    }
   ],
   "source": [
    "print(list_a)\n",
    "list_a.pop(2)\n",
    "print(list_a)"
   ]
  },
  {
   "cell_type": "code",
   "execution_count": 71,
   "metadata": {},
   "outputs": [],
   "source": [
    "# list\n",
    "#추가 append, insert\n",
    "#수정 list[index] = new value\n",
    "#삭제 list.pop(index), del\n",
    "#검색 in list"
   ]
  },
  {
   "cell_type": "code",
   "execution_count": 72,
   "metadata": {},
   "outputs": [
    {
     "name": "stdout",
     "output_type": "stream",
     "text": [
      "[1, 8, 27, 64, 125]\n"
     ]
    }
   ],
   "source": [
    "#arr 요소들을 3제곱한 결과 list를 얻기\n",
    "arr = [1,2,3,4,5]\n",
    "arr2 = []\n",
    "for i in arr:\n",
    "    arr2.append(i**3)\n",
    "print(arr2) # [1, 8, 27, 64, 125]\n",
    "#list를 쓰는 이유? 반복 처리하기 위해"
   ]
  },
  {
   "cell_type": "code",
   "execution_count": 73,
   "metadata": {},
   "outputs": [],
   "source": [
    "#remove 값으로 제거\n",
    "#list.remove(값)\n",
    "#list.clear()\n",
    "# in/ not in"
   ]
  },
  {
   "cell_type": "code",
   "execution_count": 74,
   "metadata": {},
   "outputs": [],
   "source": [
    "#dictionary \n",
    "#빅데이터/하둡(map, reduce)\n",
    "#dict_a[\"key\"]\n",
    "dict_a = {\"name\": \"어벤져스\", \"type\":\"액션\"}"
   ]
  },
  {
   "cell_type": "code",
   "execution_count": 75,
   "metadata": {},
   "outputs": [
    {
     "data": {
      "text/plain": [
       "{'name': '어벤져스', 'type': '액션'}"
      ]
     },
     "execution_count": 75,
     "metadata": {},
     "output_type": "execute_result"
    }
   ],
   "source": [
    "dict_a"
   ]
  },
  {
   "cell_type": "code",
   "execution_count": 76,
   "metadata": {},
   "outputs": [
    {
     "data": {
      "text/plain": [
       "'어벤져스'"
      ]
     },
     "execution_count": 76,
     "metadata": {},
     "output_type": "execute_result"
    }
   ],
   "source": [
    "dict_a[\"name\"]"
   ]
  },
  {
   "cell_type": "code",
   "execution_count": 77,
   "metadata": {},
   "outputs": [
    {
     "data": {
      "text/plain": [
       "'액션'"
      ]
     },
     "execution_count": 77,
     "metadata": {},
     "output_type": "execute_result"
    }
   ],
   "source": [
    "dict_a[\"type\"]"
   ]
  },
  {
   "cell_type": "code",
   "execution_count": 78,
   "metadata": {},
   "outputs": [],
   "source": [
    "dict_b = {\n",
    "    \"director\": [\"안소니 루소\", \"조 루소\"],\n",
    "    \"cast\": [\"아이언맨\",\"타노스\", \"토르\", \"닥터스트레인지\",\"헐크\"]\n",
    "}"
   ]
  },
  {
   "cell_type": "code",
   "execution_count": 79,
   "metadata": {},
   "outputs": [
    {
     "data": {
      "text/plain": [
       "{'director': ['안소니 루소', '조 루소'],\n",
       " 'cast': ['아이언맨', '타노스', '토르', '닥터스트레인지', '헐크']}"
      ]
     },
     "execution_count": 79,
     "metadata": {},
     "output_type": "execute_result"
    }
   ],
   "source": [
    "dict_b"
   ]
  },
  {
   "cell_type": "code",
   "execution_count": 80,
   "metadata": {},
   "outputs": [
    {
     "data": {
      "text/plain": [
       "['안소니 루소', '조 루소']"
      ]
     },
     "execution_count": 80,
     "metadata": {},
     "output_type": "execute_result"
    }
   ],
   "source": [
    "dict_b['director']"
   ]
  },
  {
   "cell_type": "code",
   "execution_count": 84,
   "metadata": {},
   "outputs": [],
   "source": [
    "#list는 index로 dictionayr는 key로\n",
    "#요소 접근:검색\n",
    "#요소 수정\n",
    "dic = {\"name\":\"7D 건조 망고\", \n",
    "       \"type\": \"당절임\", \n",
    "       \"ingredient\": [\"망고\", \"설탕\"],\n",
    "       \"original\":\"필리핀\"}"
   ]
  },
  {
   "cell_type": "code",
   "execution_count": 85,
   "metadata": {},
   "outputs": [
    {
     "data": {
      "text/plain": [
       "{'name': '7D 건조 망고',\n",
       " 'type': '당절임',\n",
       " 'ingredient': ['망고', '설탕'],\n",
       " 'original': '필리핀'}"
      ]
     },
     "execution_count": 85,
     "metadata": {},
     "output_type": "execute_result"
    }
   ],
   "source": [
    "dic"
   ]
  },
  {
   "cell_type": "code",
   "execution_count": 86,
   "metadata": {},
   "outputs": [
    {
     "name": "stdout",
     "output_type": "stream",
     "text": [
      "7D 건조 망고\n"
     ]
    }
   ],
   "source": [
    "print(dic['name'])"
   ]
  },
  {
   "cell_type": "code",
   "execution_count": 87,
   "metadata": {},
   "outputs": [],
   "source": [
    "#수정\n",
    "dic['name'] = \"8D 건조 망고\""
   ]
  },
  {
   "cell_type": "code",
   "execution_count": 88,
   "metadata": {},
   "outputs": [
    {
     "data": {
      "text/plain": [
       "{'name': '8D 건조 망고',\n",
       " 'type': '당절임',\n",
       " 'ingredient': ['망고', '설탕'],\n",
       " 'original': '필리핀'}"
      ]
     },
     "execution_count": 88,
     "metadata": {},
     "output_type": "execute_result"
    }
   ],
   "source": [
    "dic"
   ]
  },
  {
   "cell_type": "code",
   "execution_count": 89,
   "metadata": {},
   "outputs": [],
   "source": [
    "#없는 키를 요청하면 NameError\n",
    "#추가/수정: 없는 키, 있던 키\n",
    "dic[\"price\"] = 5000"
   ]
  },
  {
   "cell_type": "code",
   "execution_count": 90,
   "metadata": {},
   "outputs": [
    {
     "data": {
      "text/plain": [
       "{'name': '8D 건조 망고',\n",
       " 'type': '당절임',\n",
       " 'ingredient': ['망고', '설탕'],\n",
       " 'original': '필리핀',\n",
       " 'price': 5000}"
      ]
     },
     "execution_count": 90,
     "metadata": {},
     "output_type": "execute_result"
    }
   ],
   "source": [
    "dic"
   ]
  },
  {
   "cell_type": "code",
   "execution_count": 91,
   "metadata": {},
   "outputs": [],
   "source": [
    "#제거 del dic['key']\n",
    "del dic['ingredient']"
   ]
  },
  {
   "cell_type": "code",
   "execution_count": 92,
   "metadata": {},
   "outputs": [
    {
     "data": {
      "text/plain": [
       "{'name': '8D 건조 망고', 'type': '당절임', 'original': '필리핀', 'price': 5000}"
      ]
     },
     "execution_count": 92,
     "metadata": {},
     "output_type": "execute_result"
    }
   ],
   "source": [
    "dic"
   ]
  },
  {
   "cell_type": "code",
   "execution_count": 94,
   "metadata": {},
   "outputs": [
    {
     "name": "stdin",
     "output_type": "stream",
     "text": [
      "접근하고자 하는 키:  skdf\n"
     ]
    },
    {
     "name": "stdout",
     "output_type": "stream",
     "text": [
      "존재하지 않는 키입니다!\n"
     ]
    }
   ],
   "source": [
    "key = input(\"접근하고자 하는 키: \")\n",
    "if key in dic:\n",
    "    print(dic[key])\n",
    "else:\n",
    "    print(\"존재하지 않는 키입니다!\")"
   ]
  },
  {
   "cell_type": "code",
   "execution_count": 97,
   "metadata": {},
   "outputs": [
    {
     "name": "stdout",
     "output_type": "stream",
     "text": [
      "None\n"
     ]
    }
   ],
   "source": [
    "value = dic.get(\"존재하지 않는 키\") #method\n",
    "print(value)"
   ]
  },
  {
   "cell_type": "code",
   "execution_count": 98,
   "metadata": {},
   "outputs": [
    {
     "name": "stdout",
     "output_type": "stream",
     "text": [
      "존재하지 않는 키입니다.\n"
     ]
    }
   ],
   "source": [
    "if value == None:\n",
    "    print(\"존재하지 않는 키입니다.\")"
   ]
  },
  {
   "cell_type": "code",
   "execution_count": 100,
   "metadata": {},
   "outputs": [
    {
     "name": "stdout",
     "output_type": "stream",
     "text": [
      "name : 8D 건조 망고\n",
      "type : 당절임\n",
      "original : 필리핀\n",
      "price : 5000\n"
     ]
    }
   ],
   "source": [
    "#for key in dic:\n",
    "for key in dic:\n",
    "    print(key, \":\", dic[key])"
   ]
  },
  {
   "cell_type": "code",
   "execution_count": 101,
   "metadata": {},
   "outputs": [
    {
     "data": {
      "text/plain": [
       "dict_keys(['name', 'type', 'original', 'price'])"
      ]
     },
     "execution_count": 101,
     "metadata": {},
     "output_type": "execute_result"
    }
   ],
   "source": [
    "dic.keys()"
   ]
  },
  {
   "cell_type": "code",
   "execution_count": 102,
   "metadata": {},
   "outputs": [
    {
     "data": {
      "text/plain": [
       "dict_values(['8D 건조 망고', '당절임', '필리핀', 5000])"
      ]
     },
     "execution_count": 102,
     "metadata": {},
     "output_type": "execute_result"
    }
   ],
   "source": [
    "dic.values()"
   ]
  },
  {
   "cell_type": "code",
   "execution_count": 103,
   "metadata": {},
   "outputs": [
    {
     "data": {
      "text/plain": [
       "dict_items([('name', '8D 건조 망고'), ('type', '당절임'), ('original', '필리핀'), ('price', 5000)])"
      ]
     },
     "execution_count": 103,
     "metadata": {},
     "output_type": "execute_result"
    }
   ],
   "source": [
    "dic.items()"
   ]
  },
  {
   "cell_type": "code",
   "execution_count": 104,
   "metadata": {},
   "outputs": [
    {
     "name": "stdout",
     "output_type": "stream",
     "text": [
      "name : 8D 건조 망고\n",
      "type : 당절임\n",
      "original : 필리핀\n",
      "price : 5000\n"
     ]
    }
   ],
   "source": [
    "for k,v in dic.items():\n",
    "    print(k, \":\", v)"
   ]
  },
  {
   "cell_type": "code",
   "execution_count": 108,
   "metadata": {},
   "outputs": [
    {
     "name": "stdin",
     "output_type": "stream",
     "text": [
      "성적 92\n"
     ]
    },
    {
     "name": "stdout",
     "output_type": "stream",
     "text": [
      "Grade is A0\n"
     ]
    }
   ],
   "source": [
    "# 사용자로부터 학점을 받아서 학점을 출력하기\n",
    "# 90-100/80-89/70-79/60-69/50-59/\n",
    "score = int(input(\"성적\"))\n",
    "if 90<=score<=100:\n",
    "    grade = \"A\"\n",
    "    if 95<= score:\n",
    "        subscript = \"+\"\n",
    "    else:\n",
    "        subscript = \"0\"\n",
    "elif 80<=score<=89:\n",
    "    grade = \"B\"\n",
    "    if 85<= score:\n",
    "        subscript = \"+\"\n",
    "    else:\n",
    "        subscript = \"0\"\n",
    "elif 70<=score<=79:\n",
    "    grade = \"C\"\n",
    "    if 75<= score:\n",
    "        subscript = \"+\"\n",
    "    else:\n",
    "        subscript = \"0\"\n",
    "elif 60<=score<=69:\n",
    "    grade = \"D\"\n",
    "    if 65<= score:\n",
    "        subscript = \"+\"\n",
    "    else:\n",
    "        subscript = \"0\"\n",
    "else:\n",
    "    grade = \"F\"\n",
    "    subscript =\"\"\n",
    "print(\"Grade is \"+grade+subscript)\n",
    "# 95-100 A+, 90-94:A0, 85-89:B+, 80-84:B0, ..."
   ]
  },
  {
   "cell_type": "code",
   "execution_count": 111,
   "metadata": {},
   "outputs": [],
   "source": [
    "#패턴을 찾자\n",
    "# 100은 A+로 따로 떼어내고\n",
    "#십의 자리/일의자리 나누어서 생각"
   ]
  },
  {
   "cell_type": "code",
   "execution_count": 110,
   "metadata": {},
   "outputs": [],
   "source": [
    "# 기존 코드에 이것만 추가하면 됬었음\n",
    "if score >= 60:\n",
    "    if score == 100 or score % 10>= 5:\n",
    "        grade += \"+\"\n",
    "    else:\n",
    "        grade += \"0\""
   ]
  },
  {
   "cell_type": "code",
   "execution_count": 112,
   "metadata": {},
   "outputs": [
    {
     "data": {
      "text/plain": [
       "range(0, 100000000000000000000000000000000000000000000)"
      ]
     },
     "execution_count": 112,
     "metadata": {},
     "output_type": "execute_result"
    }
   ],
   "source": [
    "# range(정수만 됨)\n",
    "# lazy evaluation\n",
    "# 왜 늦은 실행을 하나 -> memory 효율과 성능향상을 위해\n",
    "range(100000000000000000000000000000000000000000000)\n",
    "#예약되어 있고 아직 실행되지 않음"
   ]
  },
  {
   "cell_type": "code",
   "execution_count": 113,
   "metadata": {},
   "outputs": [
    {
     "data": {
      "text/plain": [
       "[0, 2, 4, 6, 8]"
      ]
     },
     "execution_count": 113,
     "metadata": {},
     "output_type": "execute_result"
    }
   ],
   "source": [
    "list(range(0, 10, 2))"
   ]
  },
  {
   "cell_type": "code",
   "execution_count": 114,
   "metadata": {},
   "outputs": [
    {
     "data": {
      "text/plain": [
       "[]"
      ]
     },
     "execution_count": 114,
     "metadata": {},
     "output_type": "execute_result"
    }
   ],
   "source": [
    "list(range(0, 10, -1))"
   ]
  },
  {
   "cell_type": "code",
   "execution_count": 115,
   "metadata": {},
   "outputs": [
    {
     "data": {
      "text/plain": [
       "[10, 9, 8, 7, 6, 5, 4, 3, 2, 1]"
      ]
     },
     "execution_count": 115,
     "metadata": {},
     "output_type": "execute_result"
    }
   ],
   "source": [
    "list(range(10, 0, -1))"
   ]
  },
  {
   "cell_type": "code",
   "execution_count": 116,
   "metadata": {},
   "outputs": [
    {
     "data": {
      "text/plain": [
       "[10, 8, 6, 4, 2]"
      ]
     },
     "execution_count": 116,
     "metadata": {},
     "output_type": "execute_result"
    }
   ],
   "source": [
    "list(range(10, 0, -2))"
   ]
  },
  {
   "cell_type": "code",
   "execution_count": 118,
   "metadata": {},
   "outputs": [
    {
     "data": {
      "text/plain": [
       "[10, 9, 8, 7, 6, 5, 4, 3, 2, 1, 0, -1, -2, -3, -4]"
      ]
     },
     "execution_count": 118,
     "metadata": {},
     "output_type": "execute_result"
    }
   ],
   "source": [
    "list(range(10, -5, -1))"
   ]
  },
  {
   "cell_type": "code",
   "execution_count": 120,
   "metadata": {},
   "outputs": [
    {
     "data": {
      "text/plain": [
       "range(0, 1)"
      ]
     },
     "execution_count": 120,
     "metadata": {},
     "output_type": "execute_result"
    }
   ],
   "source": [
    "n=3\n",
    "range(0,int(n/2))"
   ]
  },
  {
   "cell_type": "code",
   "execution_count": 127,
   "metadata": {},
   "outputs": [
    {
     "name": "stdout",
     "output_type": "stream",
     "text": [
      "[1, 3, 4]\n",
      "start\n"
     ]
    },
    {
     "name": "stdin",
     "output_type": "stream",
     "text": [
      "중복없이 숫자 3개 입력하세요:  156\n"
     ]
    },
    {
     "name": "stdout",
     "output_type": "stream",
     "text": [
      "1 strikes and  0 balls.\n"
     ]
    },
    {
     "name": "stdin",
     "output_type": "stream",
     "text": [
      "중복없이 숫자 3개 입력하세요:  158\n"
     ]
    },
    {
     "name": "stdout",
     "output_type": "stream",
     "text": [
      "1 strikes and  0 balls.\n"
     ]
    },
    {
     "name": "stdin",
     "output_type": "stream",
     "text": [
      "중복없이 숫자 3개 입력하세요:  164\n"
     ]
    },
    {
     "name": "stdout",
     "output_type": "stream",
     "text": [
      "2 strikes and  0 balls.\n"
     ]
    },
    {
     "name": "stdin",
     "output_type": "stream",
     "text": [
      "중복없이 숫자 3개 입력하세요:  189\n"
     ]
    },
    {
     "name": "stdout",
     "output_type": "stream",
     "text": [
      "1 strikes and  0 balls.\n"
     ]
    },
    {
     "name": "stdin",
     "output_type": "stream",
     "text": [
      "중복없이 숫자 3개 입력하세요:  165\n"
     ]
    },
    {
     "name": "stdout",
     "output_type": "stream",
     "text": [
      "1 strikes and  0 balls.\n"
     ]
    },
    {
     "name": "stdin",
     "output_type": "stream",
     "text": [
      "중복없이 숫자 3개 입력하세요:  1685\n"
     ]
    },
    {
     "name": "stdout",
     "output_type": "stream",
     "text": [
      "1 strikes and  0 balls.\n"
     ]
    },
    {
     "name": "stdin",
     "output_type": "stream",
     "text": [
      "중복없이 숫자 3개 입력하세요:  158\n"
     ]
    },
    {
     "name": "stdout",
     "output_type": "stream",
     "text": [
      "1 strikes and  0 balls.\n"
     ]
    },
    {
     "name": "stdin",
     "output_type": "stream",
     "text": [
      "중복없이 숫자 3개 입력하세요:  134\n"
     ]
    },
    {
     "name": "stdout",
     "output_type": "stream",
     "text": [
      "8 번 만에 성공. 게임 종료\n"
     ]
    }
   ],
   "source": [
    "#숫자 야구 게임\n",
    "#난수 1~9 중에 중복 없이 숫자 3개: 정답\n",
    "#답: 538\n",
    "#게이머에게 숫자 3개를 받는다.\n",
    "#123 ==> 1 ball\n",
    "#456 ==> 1ball(하나 있으나 자리 안맞음)\n",
    "#789 ==> 1ball\n",
    "# sample(range(1, 10, 3)) 정답 생성\n",
    "# 030 ==> 1strike(하나가 맞고 숫자 맞음)\n",
    "# 437 ==> 1strike\n",
    "# 538 ==> 3strike 정답, 종료, 몇번만에 맞췄다\n",
    "#입력, 반복, 데이터 위치 파악\n",
    "import random\n",
    "answer = random.sample(range(1,9+1), 3)\n",
    "print(answer) #debugging 용, 완성후 주석처리\n",
    "print(\"start\")\n",
    "\n",
    "cnt = 0\n",
    "while True: #break로 나오면 됨(정답을 맞추는 조건으로)\n",
    "    cnt += 1\n",
    "    in_value = input(\"중복없이 숫자 3개 입력하세요: \") #'123'\n",
    "    arr = list(in_value) #['1', '2', '3']\n",
    "    guess = [int(x) for x in arr] #[1, 2, 3], 추측한 값\n",
    "    # guess = []\n",
    "    # for x in arr:\n",
    "    #     guess.append(int(x))\n",
    "    if answer == guess: #정답과 추측한 값이 같으면\n",
    "        print(cnt, \"번 만에 성공. 게임 종료\")\n",
    "        break #game over\n",
    "    strikes = 0\n",
    "    balls = 0\n",
    "    for i in range(3):\n",
    "        if answer[i]==guess[i]: # 같은 index에 같은 값인지\n",
    "            strikes += 1\n",
    "        elif guess[i] in answer: #if 면 안되는 이유/ i번째 값이 answer에 있는가\n",
    "            balls += 1\n",
    "    print(strikes, \"strikes and \", balls, \"balls.\")"
   ]
  },
  {
   "cell_type": "code",
   "execution_count": null,
   "metadata": {},
   "outputs": [],
   "source": []
  }
 ],
 "metadata": {
  "kernelspec": {
   "display_name": "Python 3",
   "language": "python",
   "name": "python3"
  },
  "language_info": {
   "codemirror_mode": {
    "name": "ipython",
    "version": 3
   },
   "file_extension": ".py",
   "mimetype": "text/x-python",
   "name": "python",
   "nbconvert_exporter": "python",
   "pygments_lexer": "ipython3",
   "version": "3.7.7"
  }
 },
 "nbformat": 4,
 "nbformat_minor": 4
}
