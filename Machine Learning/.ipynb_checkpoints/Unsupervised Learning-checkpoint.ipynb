{
 "cells": [
  {
   "cell_type": "code",
   "execution_count": 1,
   "metadata": {},
   "outputs": [],
   "source": [
    "from sklearn.datasets import load_wine\n",
    "data = load_wine()"
   ]
  },
  {
   "cell_type": "code",
   "execution_count": 2,
   "metadata": {},
   "outputs": [],
   "source": [
    "X = data.data[:,[0,9]]"
   ]
  },
  {
   "cell_type": "code",
   "execution_count": 3,
   "metadata": {},
   "outputs": [
    {
     "data": {
      "text/plain": [
       "(178, 2)"
      ]
     },
     "execution_count": 3,
     "metadata": {},
     "output_type": "execute_result"
    }
   ],
   "source": [
    "X.shape"
   ]
  },
  {
   "cell_type": "code",
   "execution_count": 4,
   "metadata": {},
   "outputs": [
    {
     "data": {
      "text/plain": [
       "array([[14.23    ,  5.64    ],\n",
       "       [13.2     ,  4.38    ],\n",
       "       [13.16    ,  5.68    ],\n",
       "       [14.37    ,  7.8     ],\n",
       "       [13.24    ,  4.32    ],\n",
       "       [14.2     ,  6.75    ],\n",
       "       [14.39    ,  5.25    ],\n",
       "       [14.06    ,  5.05    ],\n",
       "       [14.83    ,  5.2     ],\n",
       "       [13.86    ,  7.22    ],\n",
       "       [14.1     ,  5.75    ],\n",
       "       [14.12    ,  5.      ],\n",
       "       [13.75    ,  5.6     ],\n",
       "       [14.75    ,  5.4     ],\n",
       "       [14.38    ,  7.5     ],\n",
       "       [13.63    ,  7.3     ],\n",
       "       [14.3     ,  6.2     ],\n",
       "       [13.83    ,  6.6     ],\n",
       "       [14.19    ,  8.7     ],\n",
       "       [13.64    ,  5.1     ],\n",
       "       [14.06    ,  5.65    ],\n",
       "       [12.93    ,  4.5     ],\n",
       "       [13.71    ,  3.8     ],\n",
       "       [12.85    ,  3.93    ],\n",
       "       [13.5     ,  3.52    ],\n",
       "       [13.05    ,  3.58    ],\n",
       "       [13.39    ,  4.8     ],\n",
       "       [13.3     ,  3.95    ],\n",
       "       [13.87    ,  4.5     ],\n",
       "       [14.02    ,  4.7     ],\n",
       "       [13.73    ,  5.7     ],\n",
       "       [13.58    ,  6.9     ],\n",
       "       [13.68    ,  3.84    ],\n",
       "       [13.76    ,  5.4     ],\n",
       "       [13.51    ,  4.2     ],\n",
       "       [13.48    ,  5.1     ],\n",
       "       [13.28    ,  4.6     ],\n",
       "       [13.05    ,  4.25    ],\n",
       "       [13.07    ,  3.7     ],\n",
       "       [14.22    ,  5.1     ],\n",
       "       [13.56    ,  6.13    ],\n",
       "       [13.41    ,  4.28    ],\n",
       "       [13.88    ,  5.43    ],\n",
       "       [13.24    ,  4.36    ],\n",
       "       [13.05    ,  5.04    ],\n",
       "       [14.21    ,  5.24    ],\n",
       "       [14.38    ,  4.9     ],\n",
       "       [13.9     ,  6.1     ],\n",
       "       [14.1     ,  6.2     ],\n",
       "       [13.94    ,  8.9     ],\n",
       "       [13.05    ,  7.2     ],\n",
       "       [13.83    ,  5.6     ],\n",
       "       [13.82    ,  7.05    ],\n",
       "       [13.77    ,  6.3     ],\n",
       "       [13.74    ,  5.85    ],\n",
       "       [13.56    ,  6.25    ],\n",
       "       [14.22    ,  6.38    ],\n",
       "       [13.29    ,  6.      ],\n",
       "       [13.72    ,  6.8     ],\n",
       "       [12.37    ,  1.95    ],\n",
       "       [12.33    ,  3.27    ],\n",
       "       [12.64    ,  5.75    ],\n",
       "       [13.67    ,  3.8     ],\n",
       "       [12.37    ,  4.45    ],\n",
       "       [12.17    ,  2.95    ],\n",
       "       [12.37    ,  4.6     ],\n",
       "       [13.11    ,  5.3     ],\n",
       "       [12.37    ,  4.68    ],\n",
       "       [13.34    ,  3.17    ],\n",
       "       [12.21    ,  2.85    ],\n",
       "       [12.29    ,  3.05    ],\n",
       "       [13.86    ,  3.38    ],\n",
       "       [13.49    ,  3.74    ],\n",
       "       [12.99    ,  3.35    ],\n",
       "       [11.96    ,  3.21    ],\n",
       "       [11.66    ,  3.8     ],\n",
       "       [13.03    ,  4.6     ],\n",
       "       [11.84    ,  2.65    ],\n",
       "       [12.33    ,  3.4     ],\n",
       "       [12.7     ,  2.57    ],\n",
       "       [12.      ,  2.5     ],\n",
       "       [12.72    ,  3.9     ],\n",
       "       [12.08    ,  2.2     ],\n",
       "       [13.05    ,  4.8     ],\n",
       "       [11.84    ,  3.05    ],\n",
       "       [12.67    ,  2.62    ],\n",
       "       [12.16    ,  2.45    ],\n",
       "       [11.65    ,  2.6     ],\n",
       "       [11.64    ,  2.8     ],\n",
       "       [12.08    ,  1.74    ],\n",
       "       [12.08    ,  2.4     ],\n",
       "       [12.      ,  3.6     ],\n",
       "       [12.69    ,  3.05    ],\n",
       "       [12.29    ,  2.15    ],\n",
       "       [11.62    ,  3.25    ],\n",
       "       [12.47    ,  2.6     ],\n",
       "       [11.81    ,  2.5     ],\n",
       "       [12.29    ,  2.9     ],\n",
       "       [12.37    ,  4.5     ],\n",
       "       [12.29    ,  2.3     ],\n",
       "       [12.08    ,  3.3     ],\n",
       "       [12.6     ,  2.45    ],\n",
       "       [12.34    ,  2.8     ],\n",
       "       [11.82    ,  2.06    ],\n",
       "       [12.51    ,  2.94    ],\n",
       "       [12.42    ,  2.7     ],\n",
       "       [12.25    ,  3.4     ],\n",
       "       [12.72    ,  3.3     ],\n",
       "       [12.22    ,  2.7     ],\n",
       "       [11.61    ,  2.65    ],\n",
       "       [11.46    ,  2.9     ],\n",
       "       [12.52    ,  2.      ],\n",
       "       [11.76    ,  3.8     ],\n",
       "       [11.41    ,  3.08    ],\n",
       "       [12.08    ,  2.9     ],\n",
       "       [11.03    ,  1.9     ],\n",
       "       [11.82    ,  1.95    ],\n",
       "       [12.42    ,  2.06    ],\n",
       "       [12.77    ,  3.4     ],\n",
       "       [12.      ,  1.28    ],\n",
       "       [11.45    ,  3.25    ],\n",
       "       [11.56    ,  6.      ],\n",
       "       [12.42    ,  2.08    ],\n",
       "       [13.05    ,  2.6     ],\n",
       "       [11.87    ,  2.8     ],\n",
       "       [12.07    ,  2.76    ],\n",
       "       [12.43    ,  3.94    ],\n",
       "       [11.79    ,  3.      ],\n",
       "       [12.37    ,  2.12    ],\n",
       "       [12.04    ,  2.6     ],\n",
       "       [12.86    ,  4.1     ],\n",
       "       [12.88    ,  5.4     ],\n",
       "       [12.81    ,  5.7     ],\n",
       "       [12.7     ,  5.      ],\n",
       "       [12.51    ,  5.45    ],\n",
       "       [12.6     ,  7.1     ],\n",
       "       [12.25    ,  3.85    ],\n",
       "       [12.53    ,  5.      ],\n",
       "       [13.49    ,  5.7     ],\n",
       "       [12.84    ,  4.92    ],\n",
       "       [12.93    ,  4.6     ],\n",
       "       [13.36    ,  5.6     ],\n",
       "       [13.52    ,  4.35    ],\n",
       "       [13.62    ,  4.4     ],\n",
       "       [12.25    ,  8.21    ],\n",
       "       [13.16    ,  4.      ],\n",
       "       [13.88    ,  4.9     ],\n",
       "       [12.87    ,  7.65    ],\n",
       "       [13.32    ,  8.42    ],\n",
       "       [13.08    ,  9.4     ],\n",
       "       [13.5     ,  8.6     ],\n",
       "       [12.79    , 10.8     ],\n",
       "       [13.11    ,  7.1     ],\n",
       "       [13.23    , 10.52    ],\n",
       "       [12.58    ,  7.6     ],\n",
       "       [13.17    ,  7.9     ],\n",
       "       [13.84    ,  9.01    ],\n",
       "       [12.45    ,  7.5     ],\n",
       "       [14.34    , 13.      ],\n",
       "       [13.48    , 11.75    ],\n",
       "       [12.36    ,  7.65    ],\n",
       "       [13.69    ,  5.88    ],\n",
       "       [12.85    ,  5.58    ],\n",
       "       [12.96    ,  5.28    ],\n",
       "       [13.78    ,  9.58    ],\n",
       "       [13.73    ,  6.62    ],\n",
       "       [13.45    , 10.68    ],\n",
       "       [12.82    , 10.26    ],\n",
       "       [13.58    ,  8.66    ],\n",
       "       [13.4     ,  8.5     ],\n",
       "       [12.2     ,  5.5     ],\n",
       "       [12.77    ,  9.899999],\n",
       "       [14.16    ,  9.7     ],\n",
       "       [13.71    ,  7.7     ],\n",
       "       [13.4     ,  7.3     ],\n",
       "       [13.27    , 10.2     ],\n",
       "       [13.17    ,  9.3     ],\n",
       "       [14.13    ,  9.2     ]])"
      ]
     },
     "execution_count": 4,
     "metadata": {},
     "output_type": "execute_result"
    }
   ],
   "source": [
    "X"
   ]
  },
  {
   "cell_type": "code",
   "execution_count": 5,
   "metadata": {},
   "outputs": [],
   "source": [
    "from sklearn.cluster import KMeans\n",
    "n_cluster = 3\n",
    "model = KMeans(n_clusters=n_cluster)"
   ]
  },
  {
   "cell_type": "code",
   "execution_count": 6,
   "metadata": {},
   "outputs": [
    {
     "data": {
      "text/plain": [
       "KMeans(n_clusters=3)"
      ]
     },
     "execution_count": 6,
     "metadata": {},
     "output_type": "execute_result"
    }
   ],
   "source": [
    "model"
   ]
  },
  {
   "cell_type": "code",
   "execution_count": 7,
   "metadata": {},
   "outputs": [],
   "source": [
    "pred = model.fit_predict(X)"
   ]
  },
  {
   "cell_type": "code",
   "execution_count": 8,
   "metadata": {},
   "outputs": [
    {
     "data": {
      "image/png": "[encoded data removed]",
      "text/plain": [
       "<Figure size 432x288 with 1 Axes>"
      ]
     },
     "metadata": {
      "needs_background": "light"
     },
     "output_type": "display_data"
    }
   ],
   "source": [
    "#시각화\n",
    "%matplotlib inline\n",
    "import matplotlib.pyplot as plt\n",
    "\n",
    "fig, ax = plt.subplots()\n",
    "\n",
    "ax.scatter(X[pred==0, 0], X[pred==0, 1], color='red', marker='s', label='Label1')\n",
    "ax.scatter(X[pred==1, 0], X[pred==1, 1], color='blue', marker='s', label='Label2')\n",
    "ax.scatter(X[pred==2, 0], X[pred==2, 1], color='green', marker='s', label='Label3')\n",
    "ax.scatter(model.cluster_centers_[:, 0], model.cluster_centers_[:,1], s=200, color='yellow', marker='*', label='center')\n",
    "ax.legend()\n",
    "\n",
    "plt.show()"
   ]
  },
  {
   "cell_type": "code",
   "execution_count": 10,
   "metadata": {},
   "outputs": [
    {
     "data": {
      "text/plain": [
       "array([5.19441558, 8.74611108, 2.854     ])"
      ]
     },
     "execution_count": 10,
     "metadata": {},
     "output_type": "execute_result"
    }
   ],
   "source": [
    "model.cluster_centers_[:, 0] #중심점들의 x좌표\n",
    "model.cluster_centers_[:, 1] #중심점들의 y좌표"
   ]
  },
  {
   "cell_type": "code",
   "execution_count": null,
   "metadata": {},
   "outputs": [],
   "source": []
  }
 ],
 "metadata": {
  "kernelspec": {
   "display_name": "Python 3",
   "language": "python",
   "name": "python3"
  },
  "language_info": {
   "codemirror_mode": {
    "name": "ipython",
    "version": 3
   },
   "file_extension": ".py",
   "mimetype": "text/x-python",
   "name": "python",
   "nbconvert_exporter": "python",
   "pygments_lexer": "ipython3",
   "version": "3.7.4"
  }
 },
 "nbformat": 4,
 "nbformat_minor": 4
}
