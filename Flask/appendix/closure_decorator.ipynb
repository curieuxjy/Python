{
 "cells": [
  {
   "cell_type": "markdown",
   "metadata": {},
   "source": [
    "# 클로져"
   ]
  },
  {
   "cell_type": "code",
   "execution_count": 1,
   "metadata": {},
   "outputs": [],
   "source": [
    "def mul3(n):\n",
    "    return n*3"
   ]
  },
  {
   "cell_type": "code",
   "execution_count": 2,
   "metadata": {},
   "outputs": [],
   "source": [
    "def mul(n, m):\n",
    "    return n*m"
   ]
  },
  {
   "cell_type": "markdown",
   "metadata": {},
   "source": [
    "class 이용"
   ]
  },
  {
   "cell_type": "code",
   "execution_count": 4,
   "metadata": {},
   "outputs": [
    {
     "name": "stdout",
     "output_type": "stream",
     "text": [
      "30\n",
      "50\n"
     ]
    }
   ],
   "source": [
    "class Mul:\n",
    "    def __init__(self, m):\n",
    "        self.m = m\n",
    "        \n",
    "    def mul(self, n):\n",
    "        return self.m *n\n",
    "    \n",
    "if __name__ == \"__main__\":\n",
    "    mul3=Mul(3)\n",
    "    mul5=Mul(5)\n",
    "    \n",
    "    print(mul3.mul(10))\n",
    "    print(mul5.mul(10))"
   ]
  },
  {
   "cell_type": "markdown",
   "metadata": {},
   "source": [
    "`__call__` method"
   ]
  },
  {
   "cell_type": "code",
   "execution_count": null,
   "metadata": {},
   "outputs": [],
   "source": [
    "class Mul:\n",
    "    def __init__(self, m):\n",
    "        self.m = m\n",
    "\n",
    "    def __call__(self, n):\n",
    "        return self.m * n\n",
    "\n",
    "if __name__ == \"__main__\":\n",
    "    mul3 = Mul(3)\n",
    "    mul5 = Mul(5)\n",
    "\n",
    "    print(mul3(10))  # 30 출력\n",
    "    print(mul5(10))  # 50 출력"
   ]
  },
  {
   "cell_type": "markdown",
   "metadata": {},
   "source": [
    "## Closure\n",
    "* 클래스에 대한 대체제\n",
    "* def-def\n",
    "* 함수에서 함수를 리턴\n",
    "* mul_of에서 받은 변수 값 m이 mul함수에 저장되어 리턴"
   ]
  },
  {
   "cell_type": "code",
   "execution_count": 6,
   "metadata": {},
   "outputs": [
    {
     "name": "stdout",
     "output_type": "stream",
     "text": [
      "30\n",
      "50\n"
     ]
    }
   ],
   "source": [
    "def mul_of(m):\n",
    "    def mul(n):\n",
    "        return m * n\n",
    "    return mul\n",
    "\n",
    "if __name__ == \"__main__\":\n",
    "    mul3 = mul_of(3)\n",
    "    mul5 = mul_of(5)\n",
    "\n",
    "    print(mul3(10))  # 30 \n",
    "    print(mul5(10))  # 50 "
   ]
  },
  {
   "cell_type": "code",
   "execution_count": null,
   "metadata": {},
   "outputs": [],
   "source": []
  }
 ],
 "metadata": {
  "kernelspec": {
   "display_name": "Python 3",
   "language": "python",
   "name": "python3"
  },
  "language_info": {
   "codemirror_mode": {
    "name": "ipython",
    "version": 3
   },
   "file_extension": ".py",
   "mimetype": "text/x-python",
   "name": "python",
   "nbconvert_exporter": "python",
   "pygments_lexer": "ipython3",
   "version": "3.8.5"
  }
 },
 "nbformat": 4,
 "nbformat_minor": 4
}
