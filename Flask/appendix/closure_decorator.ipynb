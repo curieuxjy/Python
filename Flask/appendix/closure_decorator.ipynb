{
 "cells": [
  {
   "cell_type": "markdown",
   "metadata": {},
   "source": [
    "# 클로져"
   ]
  },
  {
   "cell_type": "code",
   "execution_count": 1,
   "metadata": {},
   "outputs": [],
   "source": [
    "def mul3(n):\n",
    "    return n*3"
   ]
  },
  {
   "cell_type": "code",
   "execution_count": 2,
   "metadata": {},
   "outputs": [],
   "source": [
    "def mul(n, m):\n",
    "    return n*m"
   ]
  },
  {
   "cell_type": "markdown",
   "metadata": {},
   "source": [
    "class 이용"
   ]
  },
  {
   "cell_type": "code",
   "execution_count": 4,
   "metadata": {},
   "outputs": [
    {
     "name": "stdout",
     "output_type": "stream",
     "text": [
      "30\n",
      "50\n"
     ]
    }
   ],
   "source": [
    "class Mul:\n",
    "    def __init__(self, m):\n",
    "        self.m = m\n",
    "        \n",
    "    def mul(self, n):\n",
    "        return self.m *n\n",
    "    \n",
    "if __name__ == \"__main__\":\n",
    "    mul3=Mul(3)\n",
    "    mul5=Mul(5)\n",
    "    \n",
    "    print(mul3.mul(10))\n",
    "    print(mul5.mul(10))"
   ]
  },
  {
   "cell_type": "markdown",
   "metadata": {},
   "source": [
    "`__call__` method"
   ]
  },
  {
   "cell_type": "code",
   "execution_count": null,
   "metadata": {},
   "outputs": [],
   "source": [
    "class Mul:\n",
    "    def __init__(self, m):\n",
    "        self.m = m\n",
    "\n",
    "    def __call__(self, n):\n",
    "        return self.m * n\n",
    "\n",
    "if __name__ == \"__main__\":\n",
    "    mul3 = Mul(3)\n",
    "    mul5 = Mul(5)\n",
    "\n",
    "    print(mul3(10))  # 30 출력\n",
    "    print(mul5(10))  # 50 출력"
   ]
  },
  {
   "cell_type": "markdown",
   "metadata": {},
   "source": [
    "## Closure\n",
    "* 클래스에 대한 대체제\n",
    "* def-def\n",
    "* 함수에서 함수를 리턴\n",
    "* mul_of에서 받은 변수 값 m이 mul함수에 저장되어 리턴"
   ]
  },
  {
   "cell_type": "code",
   "execution_count": 6,
   "metadata": {},
   "outputs": [
    {
     "name": "stdout",
     "output_type": "stream",
     "text": [
      "30\n",
      "50\n"
     ]
    }
   ],
   "source": [
    "def mul_of(m):\n",
    "    def mul(n):\n",
    "        return m * n\n",
    "    return mul\n",
    "\n",
    "if __name__ == \"__main__\":\n",
    "    mul3 = mul_of(3)\n",
    "    mul5 = mul_of(5)\n",
    "\n",
    "    print(mul3(10))  # 30 \n",
    "    print(mul5(10))  # 50 "
   ]
  },
  {
   "cell_type": "markdown",
   "metadata": {},
   "source": [
    "# 데코레이터"
   ]
  },
  {
   "cell_type": "code",
   "execution_count": 1,
   "metadata": {},
   "outputs": [],
   "source": [
    "def myfunc():\n",
    "    \"\"\" 데코레이터 확인 함수 \"\"\"\n",
    "    print(\"함수가 실행됩니다.\")"
   ]
  },
  {
   "cell_type": "code",
   "execution_count": 2,
   "metadata": {},
   "outputs": [
    {
     "name": "stdout",
     "output_type": "stream",
     "text": [
      "함수가 실행됩니다.\n",
      "함수 수행시간: 0.000000 초\n"
     ]
    }
   ],
   "source": [
    "import time\n",
    "\n",
    "def myfunc():\n",
    "    \"\"\" 데코레이터 확인 함수 \"\"\"\n",
    "    start = time.time()\n",
    "    print(\"함수가 실행됩니다.\")\n",
    "    end = time.time()\n",
    "    print(\"함수 수행시간: %f 초\" % (end-start))\n",
    "\n",
    "myfunc()"
   ]
  },
  {
   "cell_type": "markdown",
   "metadata": {},
   "source": [
    "클로져 이용"
   ]
  },
  {
   "cell_type": "code",
   "execution_count": 4,
   "metadata": {},
   "outputs": [
    {
     "name": "stdout",
     "output_type": "stream",
     "text": [
      "함수가 실행됩니다.\n",
      "Time: 0.000000\n"
     ]
    }
   ],
   "source": [
    "import time\n",
    "\n",
    "def decorate(original_func):   # 기존 합수를 입력으로 받음\n",
    "    def wrapper():\n",
    "        start = time.time()\n",
    "        original_func()    # 기존 함수를 수행\n",
    "        end = time.time()\n",
    "        print(\"Time: %f\" % (end - start))\n",
    "    return wrapper\n",
    "\n",
    "def myfunc():\n",
    "    \"\"\" 데코레이터 확인 함수 \"\"\"\n",
    "    print(\"함수가 실행됩니다.\")\n",
    "\n",
    "decorated_myfunc = decorate(myfunc)\n",
    "decorated_myfunc()"
   ]
  },
  {
   "cell_type": "markdown",
   "metadata": {},
   "source": [
    "## `@`를 이용한 annotation\n",
    "* 함수명 위에 있는 어노테이션은 데코레이터 함수로 인식\n",
    "* myfunc함수는 decorate함수를 거쳐서 수행"
   ]
  },
  {
   "cell_type": "code",
   "execution_count": 6,
   "metadata": {},
   "outputs": [
    {
     "name": "stdout",
     "output_type": "stream",
     "text": [
      "함수가 실행됩니다.\n",
      "Time: 0.000996\n"
     ]
    }
   ],
   "source": [
    "import time\n",
    "\n",
    "def decorate(original_func):\n",
    "    def wrapper():\n",
    "        start = time.time()\n",
    "        original_func()\n",
    "        end = time.time()\n",
    "        print(\"Time: %f\" % (end - start))\n",
    "    return wrapper\n",
    "\n",
    "@decorate\n",
    "def myfunc():\n",
    "    \"\"\" 데코레이터 확인 함수 \"\"\"\n",
    "    print(\"함수가 실행됩니다.\")\n",
    "\n",
    "myfunc()"
   ]
  },
  {
   "cell_type": "markdown",
   "metadata": {},
   "source": [
    "## 기존 함수에 입력인수가 필요할 경우\n",
    "```python\n",
    "@decorate\n",
    "def myfunc(msg):\n",
    "    \"\"\" 데코레이터 확인 함수 \"\"\"\n",
    "    print(\"'%s'을 출력합니다.\" % msg)\n",
    "\n",
    "myfunc(\"You need python\")  # 출력할 메시지를 myfunc 파라미터로 전달\n",
    "```\n",
    "* myfunc함수는 입력인수를 필요로 하지만 decorate함수 내의 wrapper 함수는 전달받은 myfunc함수를 입력인수 없이 호출\n",
    "* 데코레이터 함수는 기존 함수의 입력인수에 상관없이 동작하도록 만들어야 함\n",
    "* 기존 함수의 입력인수를 알 수 없는 경우에는 `*args`와 `**kwargs` 이용하여 해결"
   ]
  },
  {
   "cell_type": "code",
   "execution_count": 8,
   "metadata": {},
   "outputs": [
    {
     "name": "stdout",
     "output_type": "stream",
     "text": [
      "PRINT: 'You need python'\n",
      "Time: 0.000000\n"
     ]
    }
   ],
   "source": [
    "import time\n",
    "\n",
    "def decorate(original_func):\n",
    "    def wrapper(*args, **kwargs):   # *args, **kwargs 입력인수 추가\n",
    "        start = time.time()\n",
    "        original_func(*args, **kwargs)  # 전달받은 *args, **kwargs를 입력파라미터로 기존함수 수행\n",
    "        end = time.time()\n",
    "        print(\"Time: %f\" % (end - start))\n",
    "    return wrapper\n",
    "\n",
    "@decorate\n",
    "def myfunc(msg):\n",
    "    \"\"\" 데코레이터 확인 함수 \"\"\"\n",
    "    print(\"PRINT: '%s'\" % msg)\n",
    "\n",
    "myfunc(\"You need python\")"
   ]
  },
  {
   "cell_type": "markdown",
   "metadata": {},
   "source": [
    "## `functools.wraps`"
   ]
  },
  {
   "cell_type": "code",
   "execution_count": 9,
   "metadata": {},
   "outputs": [
    {
     "name": "stdout",
     "output_type": "stream",
     "text": [
      "<function decorate.<locals>.wrapper at 0x0000024FAC2E4A60>\n"
     ]
    }
   ],
   "source": [
    "print(myfunc)"
   ]
  },
  {
   "cell_type": "code",
   "execution_count": 10,
   "metadata": {},
   "outputs": [
    {
     "name": "stdout",
     "output_type": "stream",
     "text": [
      "Help on function wrapper in module __main__:\n",
      "\n",
      "wrapper(*args, **kwargs)\n",
      "\n"
     ]
    }
   ],
   "source": [
    "help(myfunc)"
   ]
  },
  {
   "cell_type": "markdown",
   "metadata": {},
   "source": [
    "기존 함수의 여러 속성들을 보호하면서 데코레이터 함수 만들기"
   ]
  },
  {
   "cell_type": "code",
   "execution_count": 16,
   "metadata": {},
   "outputs": [],
   "source": [
    "import time\n",
    "import functools\n",
    "\n",
    "def decorate(original_func):\n",
    "    ###############################\n",
    "    @functools.wraps(original_func)\n",
    "    ###############################\n",
    "    def wrapper(*args, **kwargs):   # *args, **kwargs 입력인수 추가\n",
    "        start = time.time()\n",
    "        original_func(*args, **kwargs)  # 전달받은 *args, **kwargs를 입력파라미터로 기존함수 수행\n",
    "        end = time.time()\n",
    "        print(\"Time: %f\" % (end - start))\n",
    "    return wrapper\n",
    "\n",
    "@decorate\n",
    "def myfunc(msg):\n",
    "    \"\"\" 데코레이터 확인 함수 \"\"\"\n",
    "    print(\"PRINT: '%s'\" % msg)"
   ]
  },
  {
   "cell_type": "code",
   "execution_count": 17,
   "metadata": {},
   "outputs": [
    {
     "name": "stdout",
     "output_type": "stream",
     "text": [
      "<function myfunc at 0x0000024FAC2E4820>\n"
     ]
    }
   ],
   "source": [
    "print(myfunc)"
   ]
  },
  {
   "cell_type": "code",
   "execution_count": 18,
   "metadata": {},
   "outputs": [
    {
     "name": "stdout",
     "output_type": "stream",
     "text": [
      "Help on function myfunc in module __main__:\n",
      "\n",
      "myfunc(msg)\n",
      "    데코레이터 확인 함수\n",
      "\n"
     ]
    }
   ],
   "source": [
    "help(myfunc)"
   ]
  }
 ],
 "metadata": {
  "kernelspec": {
   "display_name": "Python 3",
   "language": "python",
   "name": "python3"
  },
  "language_info": {
   "codemirror_mode": {
    "name": "ipython",
    "version": 3
   },
   "file_extension": ".py",
   "mimetype": "text/x-python",
   "name": "python",
   "nbconvert_exporter": "python",
   "pygments_lexer": "ipython3",
   "version": "3.8.5"
  }
 },
 "nbformat": 4,
 "nbformat_minor": 4
}
