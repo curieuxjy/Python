{
 "cells": [
  {
   "cell_type": "markdown",
   "metadata": {},
   "source": [
    "# 1\n",
    "아무개씨의 주민등록번호는 8811120-1068234입니다. 아무개씨의 주민등록번호를 연월일(YYYYMMDD) 부분과 그 뒤의 숫자 부분으로 나누어 출력해봅시다."
   ]
  },
  {
   "cell_type": "code",
   "execution_count": null,
   "metadata": {},
   "outputs": [],
   "source": []
  },
  {
   "cell_type": "markdown",
   "metadata": {},
   "source": [
    "# 1+\n",
    "주민등록번호 뒷자리의 맨 첫 번째 숫자는 성별을 나타냅니다. 주민등록번호에서 성별을 나타내는 숫자를 출력해봅시다."
   ]
  },
  {
   "cell_type": "code",
   "execution_count": null,
   "metadata": {},
   "outputs": [],
   "source": []
  },
  {
   "cell_type": "markdown",
   "metadata": {},
   "source": [
    "# 2\n",
    "세상에서 가장 긴 영단어 Pneumonoultramicroscopicsilicovolcanoconiosis 에서 s는 몇번이나 나올나요?"
   ]
  },
  {
   "cell_type": "code",
   "execution_count": null,
   "metadata": {},
   "outputs": [],
   "source": []
  },
  {
   "cell_type": "markdown",
   "metadata": {},
   "source": [
    "# 3\n",
    "다음 소스 코드를 완성하여 실행 결과대로 문자열이 출력되게 만들어보세요.\n",
    "```\n",
    "Python is a programming language that lets you work quickly\n",
    "\n",
    "and\n",
    "\n",
    "integrate systems more effectively.\n",
    "```"
   ]
  },
  {
   "cell_type": "code",
   "execution_count": null,
   "metadata": {},
   "outputs": [],
   "source": []
  },
  {
   "cell_type": "markdown",
   "metadata": {},
   "source": [
    "# 4\n",
    "사과 가게에서 손님이 산 사과의 갯수에 따라 자동으로 계산해주는 프로그램을 만들려고 합니다.\n",
    "\n",
    "안내 메세지에는 손님이 산 사과의 갯수와 총 가격을 안내해드려야 합니다.\n",
    "\n",
    "사과 1개의 가격이 1100원이라고 할 때, input()으로 갯수를 받아 메세지 프로그램을 완성해보세요.\n",
    "\n",
    "예) \"구매하신 사과의 갯수는 5개이고 총 구매가격은 5500원 입니다.\""
   ]
  },
  {
   "cell_type": "code",
   "execution_count": null,
   "metadata": {},
   "outputs": [],
   "source": []
  },
  {
   "cell_type": "markdown",
   "metadata": {},
   "source": [
    "# 4+\n",
    "위의 사과 가게에서 세일행사로 100원 단위의 값은 다 버리고 값을 받는다고 합니다.\n",
    "\n",
    "안내메세지에는 할인율까지 넣으려고 합니다.\n",
    "\n",
    "! 사과는 한 사람당 10개 미만을 살 수 있습니다 !\n",
    "\n",
    "예)\n",
    "```\n",
    "\"=============================오늘은 세일행사!=============================\n",
    "구매하신 사과의 갯수는 5개이고 총 구매가격은 5000원 입니다. --% 할인 받으셨어요!\"\n",
    "```"
   ]
  },
  {
   "cell_type": "code",
   "execution_count": null,
   "metadata": {},
   "outputs": [],
   "source": []
  },
  {
   "cell_type": "markdown",
   "metadata": {},
   "source": [
    "# 5\n",
    "계산기 만들기\n",
    "\n",
    "사용자에게 연산할 2개의 숫자를 받고, 연산자를 받아서 계산기를 만들어 봅시다."
   ]
  },
  {
   "cell_type": "code",
   "execution_count": null,
   "metadata": {},
   "outputs": [],
   "source": []
  }
 ],
 "metadata": {
  "kernelspec": {
   "display_name": "Python 3",
   "language": "python",
   "name": "python3"
  },
  "language_info": {
   "codemirror_mode": {
    "name": "ipython",
    "version": 3
   },
   "file_extension": ".py",
   "mimetype": "text/x-python",
   "name": "python",
   "nbconvert_exporter": "python",
   "pygments_lexer": "ipython3",
   "version": "3.7.4"
  }
 },
 "nbformat": 4,
 "nbformat_minor": 4
}
