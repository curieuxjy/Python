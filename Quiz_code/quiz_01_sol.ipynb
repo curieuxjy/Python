{
 "cells": [
  {
   "cell_type": "markdown",
   "metadata": {},
   "source": [
    "# 1\n",
    "아무개씨의 주민등록번호는 8811120-1068234입니다. \n",
    "\n",
    "아무개씨의 주민등록번호를 연월일(YYYYMMDD) 부분과 그 뒤의 숫자 부분으로 나누어 출력해봅시다."
   ]
  },
  {
   "cell_type": "code",
   "execution_count": 1,
   "metadata": {},
   "outputs": [
    {
     "name": "stdout",
     "output_type": "stream",
     "text": [
      "Year is  881112 and date is 1112 .\n"
     ]
    }
   ],
   "source": [
    "number = \"8811120-1068234\"\n",
    "year = number[:6]\n",
    "month_day = year[2:]\n",
    "print(\"Year is \", year, \"and date is\", month_day, \".\")"
   ]
  },
  {
   "cell_type": "markdown",
   "metadata": {},
   "source": [
    "# 1+\n",
    "주민등록번호 뒷자리의 맨 첫 번째 숫자는 성별을 나타냅니다. \n",
    "\n",
    "주민등록번호에서 성별을 나타내는 숫자를 출력해봅시다."
   ]
  },
  {
   "cell_type": "code",
   "execution_count": 5,
   "metadata": {},
   "outputs": [
    {
     "name": "stdout",
     "output_type": "stream",
     "text": [
      "Gender number is  1 .\n"
     ]
    }
   ],
   "source": [
    "# hint: 1번은 slicing 1번은 indexing\n",
    "gender = number[8:][0]\n",
    "print(\"Gender number is \", gender, \".\")"
   ]
  },
  {
   "cell_type": "markdown",
   "metadata": {},
   "source": [
    "# 2\n",
    "세상에서 가장 긴 영단어 Pneumonoultramicroscopicsilicovolcanoconiosis 에서 s는 몇번이나 나올까요?"
   ]
  },
  {
   "cell_type": "code",
   "execution_count": 6,
   "metadata": {},
   "outputs": [
    {
     "name": "stdout",
     "output_type": "stream",
     "text": [
      "4\n"
     ]
    }
   ],
   "source": [
    "word = \"Pneumonoultramicroscopicsilicovolcanoconiosis\"\n",
    "s_numbers = word.count(\"s\")\n",
    "print(s_numbers)"
   ]
  },
  {
   "cell_type": "markdown",
   "metadata": {},
   "source": [
    "# 3\n",
    "다음 소스 코드를 완성하여 실행 결과대로 문자열이 출력되게 만들어보세요.\n",
    "```\n",
    "Python is a programming language that lets you work quickly\n",
    "\n",
    "and\n",
    "\n",
    "integrate systems more effectively.\n",
    "```"
   ]
  },
  {
   "cell_type": "code",
   "execution_count": 7,
   "metadata": {},
   "outputs": [
    {
     "name": "stdout",
     "output_type": "stream",
     "text": [
      "\n",
      "Python is a programming language that lets you work quickly\n",
      "\n",
      "and\n",
      "\n",
      "integrate systems more effectively.\n",
      "\n"
     ]
    }
   ],
   "source": [
    "temp = \"\"\"\n",
    "Python is a programming language that lets you work quickly\n",
    "\n",
    "and\n",
    "\n",
    "integrate systems more effectively.\n",
    "\"\"\"\n",
    "print(temp)"
   ]
  },
  {
   "cell_type": "markdown",
   "metadata": {},
   "source": [
    "# 4\n",
    "사과 가게에서 손님이 산 사과의 갯수에 따라 자동으로 계산해주는 프로그램을 만들려고 합니다.\n",
    "\n",
    "안내 메세지에는 손님이 산 `사과의 갯수`와 `총 가격`을 안내해드려야 합니다.\n",
    "\n",
    "사과 1개의 가격이 1100원이라고 할 때, `input()`으로 갯수를 받아 메세지 프로그램을 완성해보세요.\n",
    "\n",
    "예) \"구매하신 사과의 갯수는 5개이고 총 구매가격은 5500원 입니다.\""
   ]
  },
  {
   "cell_type": "code",
   "execution_count": 9,
   "metadata": {},
   "outputs": [
    {
     "name": "stdin",
     "output_type": "stream",
     "text": [
      "구매하실 사과의 수를 입력해주세요. 5\n"
     ]
    },
    {
     "name": "stdout",
     "output_type": "stream",
     "text": [
      "구매하신 사과의 갯수는 5개이고 총 구매가격은 5500원 입니다.\n"
     ]
    }
   ],
   "source": [
    "# apple_number = \n",
    "# apple_price = \n",
    "# input()/print()\n",
    "apple_number = input(\"구매하실 사과의 수를 입력해주세요.\")\n",
    "# apple_price = apple_number * 1100\n",
    "apple_price = int(apple_number) * 1100\n",
    "print(\"구매하신 사과의 갯수는 {0}개이고 총 구매가격은 {1}원 입니다.\".format(apple_number, apple_price))"
   ]
  },
  {
   "cell_type": "markdown",
   "metadata": {},
   "source": [
    "# 4+\n",
    "위의 사과 가게에서 세일행사로 100원 단위의 값은 다 버리고 값을 받는다고 합니다.\n",
    "\n",
    "안내메세지에는 할인율까지 넣으려고 합니다.\n",
    "\n",
    "! 사과는 한 사람당 10개 미만을 살 수 있습니다 !\n",
    "\n",
    "예)\n",
    "```\n",
    "\"=============================오늘은 세일행사!=============================\n",
    "구매하신 사과의 갯수는 5개이고 총 구매가격은 5000원 입니다. --% 할인 받으셨어요!\"\n",
    "```"
   ]
  },
  {
   "cell_type": "code",
   "execution_count": 13,
   "metadata": {},
   "outputs": [
    {
     "name": "stdin",
     "output_type": "stream",
     "text": [
      "구매하실 사과의 수를 입력해주세요. 8\n"
     ]
    },
    {
     "name": "stdout",
     "output_type": "stream",
     "text": [
      "============================== 오늘은 세일행사! ==============================\n",
      "구매하신 사과의 갯수는 8개이고 총 구매가격은 8800원 입니다. 10.0% 할인 받으셨어요!\n"
     ]
    }
   ],
   "source": [
    "# 할인율 부분인 --%은 계산해서 넣어보세요!\n",
    "apple_number = input(\"구매하실 사과의 수를 입력해주세요.\")\n",
    "# apple_price = apple_number * 1100\n",
    "apple_price = int(apple_number) * 1100\n",
    "discount = (100/1000)*100\n",
    "print(\"=\"*30, \"오늘은 세일행사!\", \"=\"*30)\n",
    "print(\"구매하신 사과의 갯수는 {0}개이고 총 구매가격은 {1}원 입니다. {2}% 할인 받으셨어요!\".format(apple_number, apple_price, discount))"
   ]
  },
  {
   "cell_type": "markdown",
   "metadata": {},
   "source": [
    "# 5\n",
    "계산기 만들기\n",
    "\n",
    "사용자에게 연산할 2개의 숫자를 받고, 연산자를 받아서 계산기를 만들어 봅시다."
   ]
  },
  {
   "cell_type": "code",
   "execution_count": 15,
   "metadata": {},
   "outputs": [
    {
     "name": "stdin",
     "output_type": "stream",
     "text": [
      "첫번째 숫자를 적어주세요. 5\n",
      "두번째 숫자를 적어주세요. 6\n",
      "연산자를 적어주세요 +\n"
     ]
    },
    {
     "name": "stdout",
     "output_type": "stream",
     "text": [
      "11.0\n"
     ]
    }
   ],
   "source": [
    "# 총 3개의 값을 input()으로 받아야겠군요!\n",
    "# 사용자가 헷갈리지 않게 도움 메세지도 적어보세요\n",
    "# e.g.) input(\"첫번째 숫자를 적어주세요.\")\n",
    "first_num = float(input(\"첫번째 숫자를 적어주세요.\"))\n",
    "second_num = float(input(\"두번째 숫자를 적어주세요.\"))\n",
    "operator = input(\"연산자를 적어주세요\")\n",
    "if operator == \"+\":\n",
    "    result = first_num + second_num\n",
    "elif operator == \"-\":\n",
    "    result = first_num - second_num\n",
    "elif operator == \"*\":\n",
    "    result = first_num * second_num\n",
    "elif operator == \"/\":\n",
    "    result = first_num / second_num\n",
    "else:\n",
    "    result(\"알맞은 연산자가 아닙니다.\")\n",
    "\n",
    "print(result)"
   ]
  },
  {
   "cell_type": "code",
   "execution_count": null,
   "metadata": {},
   "outputs": [],
   "source": []
  }
 ],
 "metadata": {
  "kernelspec": {
   "display_name": "Python 3",
   "language": "python",
   "name": "python3"
  },
  "language_info": {
   "codemirror_mode": {
    "name": "ipython",
    "version": 3
   },
   "file_extension": ".py",
   "mimetype": "text/x-python",
   "name": "python",
   "nbconvert_exporter": "python",
   "pygments_lexer": "ipython3",
   "version": "3.6.10"
  }
 },
 "nbformat": 4,
 "nbformat_minor": 4
}
