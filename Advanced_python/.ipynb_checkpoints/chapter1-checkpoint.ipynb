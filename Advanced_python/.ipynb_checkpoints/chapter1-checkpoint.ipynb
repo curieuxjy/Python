{
 "cells": [
  {
   "cell_type": "markdown",
   "metadata": {},
   "source": [
    "# 1. 변수는 식별자이며, 상태를 관리한다\n",
    "* 문법 규칙에 사용하는 예약어(keyword)\n",
    "* 변수 이름을 짓는 문자열 알아보기\n",
    "* 변수(Variable) 이름 정의 규칙\n",
    "* 내장 이름공간과 전역 이름공간\n",
    "\n",
    "Namespace: 모듈, 클래스, 함수, 객체 등을 전부 저장 - Dictionary형\n",
    "\n",
    "변수를 호출한다 = Namespace 객체에서 검색\n",
    "\n"
   ]
  },
  {
   "cell_type": "markdown",
   "metadata": {},
   "source": [
    "## 1.1 문법 규칙에 사용하는 예약어(keyword)"
   ]
  },
  {
   "cell_type": "code",
   "execution_count": 1,
   "metadata": {},
   "outputs": [],
   "source": [
    "import keyword"
   ]
  },
  {
   "cell_type": "code",
   "execution_count": 2,
   "metadata": {},
   "outputs": [
    {
     "name": "stdout",
     "output_type": "stream",
     "text": [
      "['False', 'None', 'True', 'and', 'as', 'assert', 'break', 'class', 'continue', 'def', 'del', 'elif', 'else', 'except', 'finally', 'for', 'from', 'global', 'if', 'import', 'in', 'is', 'lambda', 'nonlocal', 'not', 'or', 'pass', 'raise', 'return', 'try', 'while', 'with', 'yield']\n"
     ]
    }
   ],
   "source": [
    "print(keyword.kwlist)"
   ]
  },
  {
   "cell_type": "code",
   "execution_count": 3,
   "metadata": {},
   "outputs": [
    {
     "name": "stdout",
     "output_type": "stream",
     "text": [
      "33\n"
     ]
    }
   ],
   "source": [
    "print(len(keyword.kwlist))"
   ]
  },
  {
   "cell_type": "code",
   "execution_count": 4,
   "metadata": {},
   "outputs": [
    {
     "name": "stdout",
     "output_type": "stream",
     "text": [
      "<class 'list'>\n"
     ]
    }
   ],
   "source": [
    "print(type(keyword.kwlist))"
   ]
  },
  {
   "cell_type": "code",
   "execution_count": 5,
   "metadata": {},
   "outputs": [
    {
     "name": "stdout",
     "output_type": "stream",
     "text": [
      "False, None, True, and, as, \n",
      "assert, break, class, continue, def, \n",
      "del, elif, else, except, finally, \n",
      "for, from, global, if, import, \n",
      "in, is, lambda, nonlocal, not, \n",
      "or, pass, raise, return, try, \n",
      "while, with, yield, "
     ]
    }
   ],
   "source": [
    "count = 0\n",
    "for i in keyword.kwlist:\n",
    "    print(i, end=\", \")\n",
    "    count += 1\n",
    "    if count % 5 ==0:\n",
    "        print()"
   ]
  },
  {
   "cell_type": "markdown",
   "metadata": {},
   "source": [
    "keyword는 변수로 사용할 수 없음"
   ]
  },
  {
   "cell_type": "code",
   "execution_count": 6,
   "metadata": {},
   "outputs": [
    {
     "ename": "SyntaxError",
     "evalue": "invalid syntax (<ipython-input-6-3abe269c51ad>, line 1)",
     "output_type": "error",
     "traceback": [
      "\u001b[1;36m  File \u001b[1;32m\"<ipython-input-6-3abe269c51ad>\"\u001b[1;36m, line \u001b[1;32m1\u001b[0m\n\u001b[1;33m    if = 100\u001b[0m\n\u001b[1;37m       ^\u001b[0m\n\u001b[1;31mSyntaxError\u001b[0m\u001b[1;31m:\u001b[0m invalid syntax\n"
     ]
    }
   ],
   "source": [
    "if = 100"
   ]
  },
  {
   "cell_type": "code",
   "execution_count": 7,
   "metadata": {},
   "outputs": [
    {
     "ename": "SyntaxError",
     "evalue": "invalid syntax (<ipython-input-7-721ba8200372>, line 1)",
     "output_type": "error",
     "traceback": [
      "\u001b[1;36m  File \u001b[1;32m\"<ipython-input-7-721ba8200372>\"\u001b[1;36m, line \u001b[1;32m1\u001b[0m\n\u001b[1;33m    in = 25\u001b[0m\n\u001b[1;37m     ^\u001b[0m\n\u001b[1;31mSyntaxError\u001b[0m\u001b[1;31m:\u001b[0m invalid syntax\n"
     ]
    }
   ],
   "source": [
    "in = 25"
   ]
  },
  {
   "cell_type": "markdown",
   "metadata": {},
   "source": [
    "## 1.2 변수 이름을 짓는 문자열 알아보기"
   ]
  },
  {
   "cell_type": "markdown",
   "metadata": {},
   "source": [
    "python3부터 unicode를 이용하여 다양한 문자로 변수 설정 가능"
   ]
  },
  {
   "cell_type": "code",
   "execution_count": 8,
   "metadata": {},
   "outputs": [],
   "source": [
    "import string"
   ]
  },
  {
   "cell_type": "markdown",
   "metadata": {},
   "source": [
    "dir 내장함수: 해당 객체가 어떤 변수와 메소드를 가지고 있는지 나타내줌"
   ]
  },
  {
   "cell_type": "code",
   "execution_count": 9,
   "metadata": {},
   "outputs": [
    {
     "name": "stdout",
     "output_type": "stream",
     "text": [
      "['Formatter', 'Template', '_ChainMap', '_TemplateMetaclass', '__all__', '__builtins__', '__cached__', '__doc__', '__file__', '__loader__', '__name__', '__package__', '__spec__', '_re', '_string', 'ascii_letters', 'ascii_lowercase', 'ascii_uppercase', 'capwords', 'digits', 'hexdigits', 'octdigits', 'printable', 'punctuation', 'whitespace']\n"
     ]
    }
   ],
   "source": [
    "print(dir(string))"
   ]
  },
  {
   "cell_type": "code",
   "execution_count": 10,
   "metadata": {},
   "outputs": [
    {
     "data": {
      "text/plain": [
       "'abcdefghijklmnopqrstuvwxyzABCDEFGHIJKLMNOPQRSTUVWXYZ'"
      ]
     },
     "execution_count": 10,
     "metadata": {},
     "output_type": "execute_result"
    }
   ],
   "source": [
    "string.ascii_letters"
   ]
  },
  {
   "cell_type": "code",
   "execution_count": 11,
   "metadata": {},
   "outputs": [
    {
     "data": {
      "text/plain": [
       "'0123456789'"
      ]
     },
     "execution_count": 11,
     "metadata": {},
     "output_type": "execute_result"
    }
   ],
   "source": [
    "string.digits"
   ]
  },
  {
   "cell_type": "code",
   "execution_count": 12,
   "metadata": {},
   "outputs": [
    {
     "data": {
      "text/plain": [
       "'!\"#$%&\\'()*+,-./:;<=>?@[\\\\]^_`{|}~'"
      ]
     },
     "execution_count": 12,
     "metadata": {},
     "output_type": "execute_result"
    }
   ],
   "source": [
    "string.punctuation"
   ]
  },
  {
   "cell_type": "code",
   "execution_count": 13,
   "metadata": {},
   "outputs": [
    {
     "data": {
      "text/plain": [
       "' \\t\\n\\r\\x0b\\x0c'"
      ]
     },
     "execution_count": 13,
     "metadata": {},
     "output_type": "execute_result"
    }
   ],
   "source": [
    "string.whitespace"
   ]
  },
  {
   "cell_type": "markdown",
   "metadata": {},
   "source": [
    "## 1.3 변수(Variable) 이름 정의 규칙"
   ]
  },
  {
   "cell_type": "code",
   "execution_count": 14,
   "metadata": {},
   "outputs": [],
   "source": [
    "var = 100"
   ]
  },
  {
   "cell_type": "code",
   "execution_count": 15,
   "metadata": {},
   "outputs": [],
   "source": [
    "_var = 200\n",
    "__var = 300"
   ]
  },
  {
   "cell_type": "code",
   "execution_count": 16,
   "metadata": {},
   "outputs": [
    {
     "data": {
      "text/plain": [
       "(100, 200, 300)"
      ]
     },
     "execution_count": 16,
     "metadata": {},
     "output_type": "execute_result"
    }
   ],
   "source": [
    "var, _var, __var"
   ]
  },
  {
   "cell_type": "code",
   "execution_count": 17,
   "metadata": {},
   "outputs": [],
   "source": [
    "var_ = 400\n",
    "var__ = 500"
   ]
  },
  {
   "cell_type": "code",
   "execution_count": 18,
   "metadata": {},
   "outputs": [
    {
     "data": {
      "text/plain": [
       "(100, 400, 500)"
      ]
     },
     "execution_count": 18,
     "metadata": {},
     "output_type": "execute_result"
    }
   ],
   "source": [
    "var, var_, var__"
   ]
  },
  {
   "cell_type": "code",
   "execution_count": 19,
   "metadata": {},
   "outputs": [],
   "source": [
    "__var__ = 600"
   ]
  },
  {
   "cell_type": "code",
   "execution_count": 20,
   "metadata": {},
   "outputs": [
    {
     "data": {
      "text/plain": [
       "600"
      ]
     },
     "execution_count": 20,
     "metadata": {},
     "output_type": "execute_result"
    }
   ],
   "source": [
    "__var__"
   ]
  },
  {
   "cell_type": "code",
   "execution_count": 21,
   "metadata": {},
   "outputs": [],
   "source": [
    "문자열 = \"문자열1\""
   ]
  },
  {
   "cell_type": "code",
   "execution_count": 22,
   "metadata": {},
   "outputs": [
    {
     "data": {
      "text/plain": [
       "'문자열1'"
      ]
     },
     "execution_count": 22,
     "metadata": {},
     "output_type": "execute_result"
    }
   ],
   "source": [
    "문자열"
   ]
  },
  {
   "cell_type": "code",
   "execution_count": 23,
   "metadata": {},
   "outputs": [
    {
     "ename": "SyntaxError",
     "evalue": "invalid token (<ipython-input-23-7900f651f592>, line 1)",
     "output_type": "error",
     "traceback": [
      "\u001b[1;36m  File \u001b[1;32m\"<ipython-input-23-7900f651f592>\"\u001b[1;36m, line \u001b[1;32m1\u001b[0m\n\u001b[1;33m    9_var = 900\u001b[0m\n\u001b[1;37m     ^\u001b[0m\n\u001b[1;31mSyntaxError\u001b[0m\u001b[1;31m:\u001b[0m invalid token\n"
     ]
    }
   ],
   "source": [
    "9_var = 900"
   ]
  },
  {
   "cell_type": "markdown",
   "metadata": {},
   "source": [
    "## 1.4 내장 이름공간과 전역 이름공간"
   ]
  },
  {
   "cell_type": "code",
   "execution_count": 24,
   "metadata": {},
   "outputs": [
    {
     "data": {
      "text/plain": [
       "<module 'builtins' (built-in)>"
      ]
     },
     "execution_count": 24,
     "metadata": {},
     "output_type": "execute_result"
    }
   ],
   "source": [
    "__builtins__ #내장 모듈"
   ]
  },
  {
   "cell_type": "code",
   "execution_count": 25,
   "metadata": {},
   "outputs": [
    {
     "data": {
      "text/plain": [
       "{'__name__': '__main__',\n",
       " '__doc__': 'Automatically created module for IPython interactive environment',\n",
       " '__package__': None,\n",
       " '__loader__': None,\n",
       " '__spec__': None,\n",
       " '__builtin__': <module 'builtins' (built-in)>,\n",
       " '__builtins__': <module 'builtins' (built-in)>,\n",
       " '_ih': ['',\n",
       "  'import keyword',\n",
       "  'print(keyword.kwlist)',\n",
       "  'print(len(keyword.kwlist))',\n",
       "  'print(type(keyword.kwlist))',\n",
       "  'count = 0\\nfor i in keyword.kwlist:\\n    print(i, end=\", \")\\n    count += 1\\n    if count % 5 ==0:\\n        print()',\n",
       "  'if = 100',\n",
       "  'in = 25',\n",
       "  'import string',\n",
       "  'print(dir(string))',\n",
       "  'string.ascii_letters',\n",
       "  'string.digits',\n",
       "  'string.punctuation',\n",
       "  'string.whitespace',\n",
       "  'var = 100',\n",
       "  '_var = 200\\n__var = 300',\n",
       "  'var, _var, __var',\n",
       "  'var_ = 400\\nvar__ = 500',\n",
       "  'var, var_, var__',\n",
       "  '__var__ = 600',\n",
       "  '__var__',\n",
       "  '문자열 = \"문자열1\"',\n",
       "  '문자열',\n",
       "  '9_var = 900',\n",
       "  '__builtins__',\n",
       "  '__builtins__.globals()'],\n",
       " '_oh': {10: 'abcdefghijklmnopqrstuvwxyzABCDEFGHIJKLMNOPQRSTUVWXYZ',\n",
       "  11: '0123456789',\n",
       "  12: '!\"#$%&\\'()*+,-./:;<=>?@[\\\\]^_`{|}~',\n",
       "  13: ' \\t\\n\\r\\x0b\\x0c',\n",
       "  16: (100, 200, 300),\n",
       "  18: (100, 400, 500),\n",
       "  20: 600,\n",
       "  22: '문자열1',\n",
       "  24: <module 'builtins' (built-in)>},\n",
       " '_dh': ['D:\\\\GitHub\\\\python_study\\\\Advanced_python'],\n",
       " 'In': ['',\n",
       "  'import keyword',\n",
       "  'print(keyword.kwlist)',\n",
       "  'print(len(keyword.kwlist))',\n",
       "  'print(type(keyword.kwlist))',\n",
       "  'count = 0\\nfor i in keyword.kwlist:\\n    print(i, end=\", \")\\n    count += 1\\n    if count % 5 ==0:\\n        print()',\n",
       "  'if = 100',\n",
       "  'in = 25',\n",
       "  'import string',\n",
       "  'print(dir(string))',\n",
       "  'string.ascii_letters',\n",
       "  'string.digits',\n",
       "  'string.punctuation',\n",
       "  'string.whitespace',\n",
       "  'var = 100',\n",
       "  '_var = 200\\n__var = 300',\n",
       "  'var, _var, __var',\n",
       "  'var_ = 400\\nvar__ = 500',\n",
       "  'var, var_, var__',\n",
       "  '__var__ = 600',\n",
       "  '__var__',\n",
       "  '문자열 = \"문자열1\"',\n",
       "  '문자열',\n",
       "  '9_var = 900',\n",
       "  '__builtins__',\n",
       "  '__builtins__.globals()'],\n",
       " 'Out': {10: 'abcdefghijklmnopqrstuvwxyzABCDEFGHIJKLMNOPQRSTUVWXYZ',\n",
       "  11: '0123456789',\n",
       "  12: '!\"#$%&\\'()*+,-./:;<=>?@[\\\\]^_`{|}~',\n",
       "  13: ' \\t\\n\\r\\x0b\\x0c',\n",
       "  16: (100, 200, 300),\n",
       "  18: (100, 400, 500),\n",
       "  20: 600,\n",
       "  22: '문자열1',\n",
       "  24: <module 'builtins' (built-in)>},\n",
       " 'get_ipython': <bound method InteractiveShell.get_ipython of <ipykernel.zmqshell.ZMQInteractiveShell object at 0x0000023D9CE21CF8>>,\n",
       " 'exit': <IPython.core.autocall.ZMQExitAutocall at 0x23d9ce80a58>,\n",
       " 'quit': <IPython.core.autocall.ZMQExitAutocall at 0x23d9ce80a58>,\n",
       " '_': <module 'builtins' (built-in)>,\n",
       " '__': '문자열1',\n",
       " '___': 600,\n",
       " '_i': '__builtins__',\n",
       " '_ii': '9_var = 900',\n",
       " '_iii': '문자열',\n",
       " '_i1': 'import keyword',\n",
       " 'keyword': <module 'keyword' from 'D:\\\\Installation\\\\Anaconda3\\\\envs\\\\matlab\\\\lib\\\\keyword.py'>,\n",
       " '_i2': 'print(keyword.kwlist)',\n",
       " '_i3': 'print(len(keyword.kwlist))',\n",
       " '_i4': 'print(type(keyword.kwlist))',\n",
       " '_i5': 'count = 0\\nfor i in keyword.kwlist:\\n    print(i, end=\", \")\\n    count += 1\\n    if count % 5 ==0:\\n        print()',\n",
       " 'count': 33,\n",
       " 'i': 'yield',\n",
       " '_i6': 'if = 100',\n",
       " '_i7': 'in = 25',\n",
       " '_i8': 'import string',\n",
       " 'string': <module 'string' from 'D:\\\\Installation\\\\Anaconda3\\\\envs\\\\matlab\\\\lib\\\\string.py'>,\n",
       " '_i9': 'print(dir(string))',\n",
       " '_i10': 'string.ascii_letters',\n",
       " '_10': 'abcdefghijklmnopqrstuvwxyzABCDEFGHIJKLMNOPQRSTUVWXYZ',\n",
       " '_i11': 'string.digits',\n",
       " '_11': '0123456789',\n",
       " '_i12': 'string.punctuation',\n",
       " '_12': '!\"#$%&\\'()*+,-./:;<=>?@[\\\\]^_`{|}~',\n",
       " '_i13': 'string.whitespace',\n",
       " '_13': ' \\t\\n\\r\\x0b\\x0c',\n",
       " '_i14': 'var = 100',\n",
       " 'var': 100,\n",
       " '_i15': '_var = 200\\n__var = 300',\n",
       " '_var': 200,\n",
       " '__var': 300,\n",
       " '_i16': 'var, _var, __var',\n",
       " '_16': (100, 200, 300),\n",
       " '_i17': 'var_ = 400\\nvar__ = 500',\n",
       " 'var_': 400,\n",
       " 'var__': 500,\n",
       " '_i18': 'var, var_, var__',\n",
       " '_18': (100, 400, 500),\n",
       " '_i19': '__var__ = 600',\n",
       " '__var__': 600,\n",
       " '_i20': '__var__',\n",
       " '_20': 600,\n",
       " '_i21': '문자열 = \"문자열1\"',\n",
       " '문자열': '문자열1',\n",
       " '_i22': '문자열',\n",
       " '_22': '문자열1',\n",
       " '_i23': '9_var = 900',\n",
       " '_i24': '__builtins__',\n",
       " '_24': <module 'builtins' (built-in)>,\n",
       " '_i25': '__builtins__.globals()'}"
      ]
     },
     "execution_count": 25,
     "metadata": {},
     "output_type": "execute_result"
    }
   ],
   "source": [
    "__builtins__.globals()"
   ]
  },
  {
   "cell_type": "code",
   "execution_count": 26,
   "metadata": {},
   "outputs": [],
   "source": [
    "i = 100"
   ]
  },
  {
   "cell_type": "code",
   "execution_count": 27,
   "metadata": {},
   "outputs": [
    {
     "data": {
      "text/plain": [
       "100"
      ]
     },
     "execution_count": 27,
     "metadata": {},
     "output_type": "execute_result"
    }
   ],
   "source": [
    "globals()['i'] #전역 변수"
   ]
  },
  {
   "cell_type": "code",
   "execution_count": 28,
   "metadata": {},
   "outputs": [
    {
     "data": {
      "text/plain": [
       "<function vars>"
      ]
     },
     "execution_count": 28,
     "metadata": {},
     "output_type": "execute_result"
    }
   ],
   "source": [
    "__builtins__.vars #전역에서 변수 조회 함수"
   ]
  },
  {
   "cell_type": "code",
   "execution_count": 29,
   "metadata": {},
   "outputs": [
    {
     "data": {
      "text/plain": [
       "100"
      ]
     },
     "execution_count": 29,
     "metadata": {},
     "output_type": "execute_result"
    }
   ],
   "source": [
    "vars()['i']"
   ]
  },
  {
   "cell_type": "code",
   "execution_count": 30,
   "metadata": {},
   "outputs": [],
   "source": [
    "def add(x, y):\n",
    "    return x+y"
   ]
  },
  {
   "cell_type": "code",
   "execution_count": 31,
   "metadata": {},
   "outputs": [
    {
     "data": {
      "text/plain": [
       "<function __main__.add(x, y)>"
      ]
     },
     "execution_count": 31,
     "metadata": {},
     "output_type": "execute_result"
    }
   ],
   "source": [
    "globals()['add'] # 함수 생성해서 전역에 있는지 확인"
   ]
  },
  {
   "cell_type": "code",
   "execution_count": 32,
   "metadata": {},
   "outputs": [
    {
     "data": {
      "text/plain": [
       "{'__name__': '__main__',\n",
       " '__doc__': 'Automatically created module for IPython interactive environment',\n",
       " '__package__': None,\n",
       " '__loader__': None,\n",
       " '__spec__': None,\n",
       " '__builtin__': <module 'builtins' (built-in)>,\n",
       " '__builtins__': <module 'builtins' (built-in)>,\n",
       " '_ih': ['',\n",
       "  'import keyword',\n",
       "  'print(keyword.kwlist)',\n",
       "  'print(len(keyword.kwlist))',\n",
       "  'print(type(keyword.kwlist))',\n",
       "  'count = 0\\nfor i in keyword.kwlist:\\n    print(i, end=\", \")\\n    count += 1\\n    if count % 5 ==0:\\n        print()',\n",
       "  'if = 100',\n",
       "  'in = 25',\n",
       "  'import string',\n",
       "  'print(dir(string))',\n",
       "  'string.ascii_letters',\n",
       "  'string.digits',\n",
       "  'string.punctuation',\n",
       "  'string.whitespace',\n",
       "  'var = 100',\n",
       "  '_var = 200\\n__var = 300',\n",
       "  'var, _var, __var',\n",
       "  'var_ = 400\\nvar__ = 500',\n",
       "  'var, var_, var__',\n",
       "  '__var__ = 600',\n",
       "  '__var__',\n",
       "  '문자열 = \"문자열1\"',\n",
       "  '문자열',\n",
       "  '9_var = 900',\n",
       "  '__builtins__',\n",
       "  '__builtins__.globals()',\n",
       "  'i = 100',\n",
       "  \"globals()['i']\",\n",
       "  '__builtins__.vars',\n",
       "  \"vars()['i']\",\n",
       "  'def add(x, y):\\n    return x+y',\n",
       "  \"globals()['add'] # 함수 생성해서 전역에 있는지 확인\",\n",
       "  'add.__globals__'],\n",
       " '_oh': {10: 'abcdefghijklmnopqrstuvwxyzABCDEFGHIJKLMNOPQRSTUVWXYZ',\n",
       "  11: '0123456789',\n",
       "  12: '!\"#$%&\\'()*+,-./:;<=>?@[\\\\]^_`{|}~',\n",
       "  13: ' \\t\\n\\r\\x0b\\x0c',\n",
       "  16: (100, 200, 300),\n",
       "  18: (100, 400, 500),\n",
       "  20: 600,\n",
       "  22: '문자열1',\n",
       "  24: <module 'builtins' (built-in)>,\n",
       "  25: {...},\n",
       "  27: 100,\n",
       "  28: <function vars>,\n",
       "  29: 100,\n",
       "  31: <function __main__.add(x, y)>},\n",
       " '_dh': ['D:\\\\GitHub\\\\python_study\\\\Advanced_python'],\n",
       " 'In': ['',\n",
       "  'import keyword',\n",
       "  'print(keyword.kwlist)',\n",
       "  'print(len(keyword.kwlist))',\n",
       "  'print(type(keyword.kwlist))',\n",
       "  'count = 0\\nfor i in keyword.kwlist:\\n    print(i, end=\", \")\\n    count += 1\\n    if count % 5 ==0:\\n        print()',\n",
       "  'if = 100',\n",
       "  'in = 25',\n",
       "  'import string',\n",
       "  'print(dir(string))',\n",
       "  'string.ascii_letters',\n",
       "  'string.digits',\n",
       "  'string.punctuation',\n",
       "  'string.whitespace',\n",
       "  'var = 100',\n",
       "  '_var = 200\\n__var = 300',\n",
       "  'var, _var, __var',\n",
       "  'var_ = 400\\nvar__ = 500',\n",
       "  'var, var_, var__',\n",
       "  '__var__ = 600',\n",
       "  '__var__',\n",
       "  '문자열 = \"문자열1\"',\n",
       "  '문자열',\n",
       "  '9_var = 900',\n",
       "  '__builtins__',\n",
       "  '__builtins__.globals()',\n",
       "  'i = 100',\n",
       "  \"globals()['i']\",\n",
       "  '__builtins__.vars',\n",
       "  \"vars()['i']\",\n",
       "  'def add(x, y):\\n    return x+y',\n",
       "  \"globals()['add'] # 함수 생성해서 전역에 있는지 확인\",\n",
       "  'add.__globals__'],\n",
       " 'Out': {10: 'abcdefghijklmnopqrstuvwxyzABCDEFGHIJKLMNOPQRSTUVWXYZ',\n",
       "  11: '0123456789',\n",
       "  12: '!\"#$%&\\'()*+,-./:;<=>?@[\\\\]^_`{|}~',\n",
       "  13: ' \\t\\n\\r\\x0b\\x0c',\n",
       "  16: (100, 200, 300),\n",
       "  18: (100, 400, 500),\n",
       "  20: 600,\n",
       "  22: '문자열1',\n",
       "  24: <module 'builtins' (built-in)>,\n",
       "  25: {...},\n",
       "  27: 100,\n",
       "  28: <function vars>,\n",
       "  29: 100,\n",
       "  31: <function __main__.add(x, y)>},\n",
       " 'get_ipython': <bound method InteractiveShell.get_ipython of <ipykernel.zmqshell.ZMQInteractiveShell object at 0x0000023D9CE21CF8>>,\n",
       " 'exit': <IPython.core.autocall.ZMQExitAutocall at 0x23d9ce80a58>,\n",
       " 'quit': <IPython.core.autocall.ZMQExitAutocall at 0x23d9ce80a58>,\n",
       " '_': <function __main__.add(x, y)>,\n",
       " '__': 100,\n",
       " '___': <function vars>,\n",
       " '_i': \"globals()['add'] # 함수 생성해서 전역에 있는지 확인\",\n",
       " '_ii': 'def add(x, y):\\n    return x+y',\n",
       " '_iii': \"vars()['i']\",\n",
       " '_i1': 'import keyword',\n",
       " 'keyword': <module 'keyword' from 'D:\\\\Installation\\\\Anaconda3\\\\envs\\\\matlab\\\\lib\\\\keyword.py'>,\n",
       " '_i2': 'print(keyword.kwlist)',\n",
       " '_i3': 'print(len(keyword.kwlist))',\n",
       " '_i4': 'print(type(keyword.kwlist))',\n",
       " '_i5': 'count = 0\\nfor i in keyword.kwlist:\\n    print(i, end=\", \")\\n    count += 1\\n    if count % 5 ==0:\\n        print()',\n",
       " 'count': 33,\n",
       " 'i': 100,\n",
       " '_i6': 'if = 100',\n",
       " '_i7': 'in = 25',\n",
       " '_i8': 'import string',\n",
       " 'string': <module 'string' from 'D:\\\\Installation\\\\Anaconda3\\\\envs\\\\matlab\\\\lib\\\\string.py'>,\n",
       " '_i9': 'print(dir(string))',\n",
       " '_i10': 'string.ascii_letters',\n",
       " '_10': 'abcdefghijklmnopqrstuvwxyzABCDEFGHIJKLMNOPQRSTUVWXYZ',\n",
       " '_i11': 'string.digits',\n",
       " '_11': '0123456789',\n",
       " '_i12': 'string.punctuation',\n",
       " '_12': '!\"#$%&\\'()*+,-./:;<=>?@[\\\\]^_`{|}~',\n",
       " '_i13': 'string.whitespace',\n",
       " '_13': ' \\t\\n\\r\\x0b\\x0c',\n",
       " '_i14': 'var = 100',\n",
       " 'var': 100,\n",
       " '_i15': '_var = 200\\n__var = 300',\n",
       " '_var': 200,\n",
       " '__var': 300,\n",
       " '_i16': 'var, _var, __var',\n",
       " '_16': (100, 200, 300),\n",
       " '_i17': 'var_ = 400\\nvar__ = 500',\n",
       " 'var_': 400,\n",
       " 'var__': 500,\n",
       " '_i18': 'var, var_, var__',\n",
       " '_18': (100, 400, 500),\n",
       " '_i19': '__var__ = 600',\n",
       " '__var__': 600,\n",
       " '_i20': '__var__',\n",
       " '_20': 600,\n",
       " '_i21': '문자열 = \"문자열1\"',\n",
       " '문자열': '문자열1',\n",
       " '_i22': '문자열',\n",
       " '_22': '문자열1',\n",
       " '_i23': '9_var = 900',\n",
       " '_i24': '__builtins__',\n",
       " '_24': <module 'builtins' (built-in)>,\n",
       " '_i25': '__builtins__.globals()',\n",
       " '_25': {...},\n",
       " '_i26': 'i = 100',\n",
       " '_i27': \"globals()['i']\",\n",
       " '_27': 100,\n",
       " '_i28': '__builtins__.vars',\n",
       " '_28': <function vars>,\n",
       " '_i29': \"vars()['i']\",\n",
       " '_29': 100,\n",
       " '_i30': 'def add(x, y):\\n    return x+y',\n",
       " 'add': <function __main__.add(x, y)>,\n",
       " '_i31': \"globals()['add'] # 함수 생성해서 전역에 있는지 확인\",\n",
       " '_31': <function __main__.add(x, y)>,\n",
       " '_i32': 'add.__globals__'}"
      ]
     },
     "execution_count": 32,
     "metadata": {},
     "output_type": "execute_result"
    }
   ],
   "source": [
    "add.__globals__"
   ]
  },
  {
   "cell_type": "code",
   "execution_count": 33,
   "metadata": {},
   "outputs": [
    {
     "data": {
      "text/plain": [
       "100"
      ]
     },
     "execution_count": 33,
     "metadata": {},
     "output_type": "execute_result"
    }
   ],
   "source": [
    "add.__globals__['i']"
   ]
  },
  {
   "cell_type": "code",
   "execution_count": 34,
   "metadata": {},
   "outputs": [
    {
     "data": {
      "text/plain": [
       "dict"
      ]
     },
     "execution_count": 34,
     "metadata": {},
     "output_type": "execute_result"
    }
   ],
   "source": [
    "type(globals())"
   ]
  },
  {
   "cell_type": "code",
   "execution_count": 36,
   "metadata": {},
   "outputs": [
    {
     "data": {
      "text/plain": [
       "dict"
      ]
     },
     "execution_count": 36,
     "metadata": {},
     "output_type": "execute_result"
    }
   ],
   "source": [
    "type(add.__globals__)"
   ]
  },
  {
   "cell_type": "code",
   "execution_count": 37,
   "metadata": {},
   "outputs": [
    {
     "data": {
      "text/plain": [
       "True"
      ]
     },
     "execution_count": 37,
     "metadata": {},
     "output_type": "execute_result"
    }
   ],
   "source": [
    "add.__globals__ is globals()"
   ]
  }
 ],
 "metadata": {
  "kernelspec": {
   "display_name": "Python 3",
   "language": "python",
   "name": "python3"
  },
  "language_info": {
   "codemirror_mode": {
    "name": "ipython",
    "version": 3
   },
   "file_extension": ".py",
   "mimetype": "text/x-python",
   "name": "python",
   "nbconvert_exporter": "python",
   "pygments_lexer": "ipython3",
   "version": "3.6.10"
  }
 },
 "nbformat": 4,
 "nbformat_minor": 4
}
