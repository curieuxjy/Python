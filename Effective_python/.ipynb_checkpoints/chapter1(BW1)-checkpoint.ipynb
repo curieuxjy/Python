{
 "cells": [
  {
   "cell_type": "markdown",
   "metadata": {},
   "source": [
    "# Be Pythonic!"
   ]
  },
  {
   "cell_type": "code",
   "execution_count": 1,
   "metadata": {},
   "outputs": [
    {
     "name": "stdout",
     "output_type": "stream",
     "text": [
      "The Zen of Python, by Tim Peters\n",
      "\n",
      "Beautiful is better than ugly.\n",
      "Explicit is better than implicit.\n",
      "Simple is better than complex.\n",
      "Complex is better than complicated.\n",
      "Flat is better than nested.\n",
      "Sparse is better than dense.\n",
      "Readability counts.\n",
      "Special cases aren't special enough to break the rules.\n",
      "Although practicality beats purity.\n",
      "Errors should never pass silently.\n",
      "Unless explicitly silenced.\n",
      "In the face of ambiguity, refuse the temptation to guess.\n",
      "There should be one-- and preferably only one --obvious way to do it.\n",
      "Although that way may not be obvious at first unless you're Dutch.\n",
      "Now is better than never.\n",
      "Although never is often better than *right* now.\n",
      "If the implementation is hard to explain, it's a bad idea.\n",
      "If the implementation is easy to explain, it may be a good idea.\n",
      "Namespaces are one honking great idea -- let's do more of those!\n"
     ]
    }
   ],
   "source": [
    "import this"
   ]
  },
  {
   "cell_type": "markdown",
   "metadata": {},
   "source": [
    "## BW1 사용중인 파이썬 버전"
   ]
  },
  {
   "cell_type": "code",
   "execution_count": 3,
   "metadata": {},
   "outputs": [
    {
     "name": "stdout",
     "output_type": "stream",
     "text": [
      "Python 3.7.4\n"
     ]
    }
   ],
   "source": [
    "!python --version"
   ]
  },
  {
   "cell_type": "code",
   "execution_count": 4,
   "metadata": {},
   "outputs": [
    {
     "name": "stdout",
     "output_type": "stream",
     "text": [
      "sys.version_info(major=3, minor=7, micro=4, releaselevel='final', serial=0)\n",
      "3.7.4 (default, Aug  9 2019, 18:34:13) [MSC v.1915 64 bit (AMD64)]\n"
     ]
    }
   ],
   "source": [
    "import sys\n",
    "print(sys.version_info)\n",
    "print(sys.version)"
   ]
  },
  {
   "cell_type": "markdown",
   "metadata": {},
   "source": [
    "## BW2 PEP8 style guide\n",
    "[guide link](https://www.python.org/dev/peps/pep-0008/)\n",
    "### white space\n",
    "* space로 들여쓰기 \n",
    "* space x 4\n",
    "* 1줄은 79자 이하\n",
    "* 다음 줄로 이어질 때, space x 4로 들여쓰기\n",
    "* Function과 Class는 2줄로 구분\n",
    "* Class에서 method는 1줄로 구분\n",
    "* list index, function call, assign key word에는 space 사용 x\n",
    "* assign variable에서만 앞 뒤 space x 1 사용"
   ]
  },
  {
   "cell_type": "markdown",
   "metadata": {},
   "source": [
    "### Naming\n",
    "* Function, variable, property는 `lower_underscore` 형식\n",
    "* protected instance property 는 `_leading_underscore` 형식\n",
    "* private instance property는 `__double_leading_underscore` 형식\n",
    "* Class, Exception은 `CapitalizedWord`\n",
    "* module 수준의 constant는 `ALL_CAPS`\n",
    "* Class의 instance method에서는 1번째 paramete(해당 object 참조)의 이름을 self로 지정\n",
    "* Class method에서는 1 번째 paramete(해당 Class를 참조)의 이름을 cls로 지정"
   ]
  },
  {
   "cell_type": "markdown",
   "metadata": {},
   "source": [
    "### 표현식과 문장\n",
    "* 긍정 표현식의 부정 `if not a is b` → inline 부정 `if a is not b`\n",
    "* 길이를 확인 `if len(somelist) == 0` 하여 빈값(`[]`, `''`)을 확인 하지 X\n",
    "* `if not somelist` 사용, 빈 값은 암시적으로 `False`가 된다고 가정\n",
    "* 비어 있지 않은 값(`[1]`, `'hi'`)에도 위와 같은 방식, 값이 비어 있지 않으면 `if somelist` 문이 암시적으로 `True`\n",
    "* 1 줄로 된 `if`, `for`, `while`, `except`를 쓰지 X → 여러 줄로 명료하게 작성\n",
    "* "
   ]
  },
  {
   "cell_type": "code",
   "execution_count": null,
   "metadata": {},
   "outputs": [],
   "source": []
  }
 ],
 "metadata": {
  "kernelspec": {
   "display_name": "Python 3",
   "language": "python",
   "name": "python3"
  },
  "language_info": {
   "codemirror_mode": {
    "name": "ipython",
    "version": 3
   },
   "file_extension": ".py",
   "mimetype": "text/x-python",
   "name": "python",
   "nbconvert_exporter": "python",
   "pygments_lexer": "ipython3",
   "version": "3.6.10"
  }
 },
 "nbformat": 4,
 "nbformat_minor": 4
}
