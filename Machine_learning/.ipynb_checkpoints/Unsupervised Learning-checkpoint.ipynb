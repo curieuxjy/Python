{
 "cells": [
  {
   "cell_type": "code",
   "execution_count": 1,
   "metadata": {},
   "outputs": [],
   "source": [
    "from sklearn.datasets import load_wine\n",
    "data = load_wine()"
   ]
  },
  {
   "cell_type": "code",
   "execution_count": 2,
   "metadata": {},
   "outputs": [],
   "source": [
    "X = data.data[:,[0,9]]"
   ]
  },
  {
   "cell_type": "code",
   "execution_count": 3,
   "metadata": {},
   "outputs": [
    {
     "data": {
      "text/plain": [
       "(178, 2)"
      ]
     },
     "execution_count": 3,
     "metadata": {},
     "output_type": "execute_result"
    }
   ],
   "source": [
    "X.shape"
   ]
  },
  {
   "cell_type": "code",
   "execution_count": 4,
   "metadata": {},
   "outputs": [
    {
     "data": {
      "text/plain": [
       "array([[14.23    ,  5.64    ],\n",
       "       [13.2     ,  4.38    ],\n",
       "       [13.16    ,  5.68    ],\n",
       "       [14.37    ,  7.8     ],\n",
       "       [13.24    ,  4.32    ],\n",
       "       [14.2     ,  6.75    ],\n",
       "       [14.39    ,  5.25    ],\n",
       "       [14.06    ,  5.05    ],\n",
       "       [14.83    ,  5.2     ],\n",
       "       [13.86    ,  7.22    ],\n",
       "       [14.1     ,  5.75    ],\n",
       "       [14.12    ,  5.      ],\n",
       "       [13.75    ,  5.6     ],\n",
       "       [14.75    ,  5.4     ],\n",
       "       [14.38    ,  7.5     ],\n",
       "       [13.63    ,  7.3     ],\n",
       "       [14.3     ,  6.2     ],\n",
       "       [13.83    ,  6.6     ],\n",
       "       [14.19    ,  8.7     ],\n",
       "       [13.64    ,  5.1     ],\n",
       "       [14.06    ,  5.65    ],\n",
       "       [12.93    ,  4.5     ],\n",
       "       [13.71    ,  3.8     ],\n",
       "       [12.85    ,  3.93    ],\n",
       "       [13.5     ,  3.52    ],\n",
       "       [13.05    ,  3.58    ],\n",
       "       [13.39    ,  4.8     ],\n",
       "       [13.3     ,  3.95    ],\n",
       "       [13.87    ,  4.5     ],\n",
       "       [14.02    ,  4.7     ],\n",
       "       [13.73    ,  5.7     ],\n",
       "       [13.58    ,  6.9     ],\n",
       "       [13.68    ,  3.84    ],\n",
       "       [13.76    ,  5.4     ],\n",
       "       [13.51    ,  4.2     ],\n",
       "       [13.48    ,  5.1     ],\n",
       "       [13.28    ,  4.6     ],\n",
       "       [13.05    ,  4.25    ],\n",
       "       [13.07    ,  3.7     ],\n",
       "       [14.22    ,  5.1     ],\n",
       "       [13.56    ,  6.13    ],\n",
       "       [13.41    ,  4.28    ],\n",
       "       [13.88    ,  5.43    ],\n",
       "       [13.24    ,  4.36    ],\n",
       "       [13.05    ,  5.04    ],\n",
       "       [14.21    ,  5.24    ],\n",
       "       [14.38    ,  4.9     ],\n",
       "       [13.9     ,  6.1     ],\n",
       "       [14.1     ,  6.2     ],\n",
       "       [13.94    ,  8.9     ],\n",
       "       [13.05    ,  7.2     ],\n",
       "       [13.83    ,  5.6     ],\n",
       "       [13.82    ,  7.05    ],\n",
       "       [13.77    ,  6.3     ],\n",
       "       [13.74    ,  5.85    ],\n",
       "       [13.56    ,  6.25    ],\n",
       "       [14.22    ,  6.38    ],\n",
       "       [13.29    ,  6.      ],\n",
       "       [13.72    ,  6.8     ],\n",
       "       [12.37    ,  1.95    ],\n",
       "       [12.33    ,  3.27    ],\n",
       "       [12.64    ,  5.75    ],\n",
       "       [13.67    ,  3.8     ],\n",
       "       [12.37    ,  4.45    ],\n",
       "       [12.17    ,  2.95    ],\n",
       "       [12.37    ,  4.6     ],\n",
       "       [13.11    ,  5.3     ],\n",
       "       [12.37    ,  4.68    ],\n",
       "       [13.34    ,  3.17    ],\n",
       "       [12.21    ,  2.85    ],\n",
       "       [12.29    ,  3.05    ],\n",
       "       [13.86    ,  3.38    ],\n",
       "       [13.49    ,  3.74    ],\n",
       "       [12.99    ,  3.35    ],\n",
       "       [11.96    ,  3.21    ],\n",
       "       [11.66    ,  3.8     ],\n",
       "       [13.03    ,  4.6     ],\n",
       "       [11.84    ,  2.65    ],\n",
       "       [12.33    ,  3.4     ],\n",
       "       [12.7     ,  2.57    ],\n",
       "       [12.      ,  2.5     ],\n",
       "       [12.72    ,  3.9     ],\n",
       "       [12.08    ,  2.2     ],\n",
       "       [13.05    ,  4.8     ],\n",
       "       [11.84    ,  3.05    ],\n",
       "       [12.67    ,  2.62    ],\n",
       "       [12.16    ,  2.45    ],\n",
       "       [11.65    ,  2.6     ],\n",
       "       [11.64    ,  2.8     ],\n",
       "       [12.08    ,  1.74    ],\n",
       "       [12.08    ,  2.4     ],\n",
       "       [12.      ,  3.6     ],\n",
       "       [12.69    ,  3.05    ],\n",
       "       [12.29    ,  2.15    ],\n",
       "       [11.62    ,  3.25    ],\n",
       "       [12.47    ,  2.6     ],\n",
       "       [11.81    ,  2.5     ],\n",
       "       [12.29    ,  2.9     ],\n",
       "       [12.37    ,  4.5     ],\n",
       "       [12.29    ,  2.3     ],\n",
       "       [12.08    ,  3.3     ],\n",
       "       [12.6     ,  2.45    ],\n",
       "       [12.34    ,  2.8     ],\n",
       "       [11.82    ,  2.06    ],\n",
       "       [12.51    ,  2.94    ],\n",
       "       [12.42    ,  2.7     ],\n",
       "       [12.25    ,  3.4     ],\n",
       "       [12.72    ,  3.3     ],\n",
       "       [12.22    ,  2.7     ],\n",
       "       [11.61    ,  2.65    ],\n",
       "       [11.46    ,  2.9     ],\n",
       "       [12.52    ,  2.      ],\n",
       "       [11.76    ,  3.8     ],\n",
       "       [11.41    ,  3.08    ],\n",
       "       [12.08    ,  2.9     ],\n",
       "       [11.03    ,  1.9     ],\n",
       "       [11.82    ,  1.95    ],\n",
       "       [12.42    ,  2.06    ],\n",
       "       [12.77    ,  3.4     ],\n",
       "       [12.      ,  1.28    ],\n",
       "       [11.45    ,  3.25    ],\n",
       "       [11.56    ,  6.      ],\n",
       "       [12.42    ,  2.08    ],\n",
       "       [13.05    ,  2.6     ],\n",
       "       [11.87    ,  2.8     ],\n",
       "       [12.07    ,  2.76    ],\n",
       "       [12.43    ,  3.94    ],\n",
       "       [11.79    ,  3.      ],\n",
       "       [12.37    ,  2.12    ],\n",
       "       [12.04    ,  2.6     ],\n",
       "       [12.86    ,  4.1     ],\n",
       "       [12.88    ,  5.4     ],\n",
       "       [12.81    ,  5.7     ],\n",
       "       [12.7     ,  5.      ],\n",
       "       [12.51    ,  5.45    ],\n",
       "       [12.6     ,  7.1     ],\n",
       "       [12.25    ,  3.85    ],\n",
       "       [12.53    ,  5.      ],\n",
       "       [13.49    ,  5.7     ],\n",
       "       [12.84    ,  4.92    ],\n",
       "       [12.93    ,  4.6     ],\n",
       "       [13.36    ,  5.6     ],\n",
       "       [13.52    ,  4.35    ],\n",
       "       [13.62    ,  4.4     ],\n",
       "       [12.25    ,  8.21    ],\n",
       "       [13.16    ,  4.      ],\n",
       "       [13.88    ,  4.9     ],\n",
       "       [12.87    ,  7.65    ],\n",
       "       [13.32    ,  8.42    ],\n",
       "       [13.08    ,  9.4     ],\n",
       "       [13.5     ,  8.6     ],\n",
       "       [12.79    , 10.8     ],\n",
       "       [13.11    ,  7.1     ],\n",
       "       [13.23    , 10.52    ],\n",
       "       [12.58    ,  7.6     ],\n",
       "       [13.17    ,  7.9     ],\n",
       "       [13.84    ,  9.01    ],\n",
       "       [12.45    ,  7.5     ],\n",
       "       [14.34    , 13.      ],\n",
       "       [13.48    , 11.75    ],\n",
       "       [12.36    ,  7.65    ],\n",
       "       [13.69    ,  5.88    ],\n",
       "       [12.85    ,  5.58    ],\n",
       "       [12.96    ,  5.28    ],\n",
       "       [13.78    ,  9.58    ],\n",
       "       [13.73    ,  6.62    ],\n",
       "       [13.45    , 10.68    ],\n",
       "       [12.82    , 10.26    ],\n",
       "       [13.58    ,  8.66    ],\n",
       "       [13.4     ,  8.5     ],\n",
       "       [12.2     ,  5.5     ],\n",
       "       [12.77    ,  9.899999],\n",
       "       [14.16    ,  9.7     ],\n",
       "       [13.71    ,  7.7     ],\n",
       "       [13.4     ,  7.3     ],\n",
       "       [13.27    , 10.2     ],\n",
       "       [13.17    ,  9.3     ],\n",
       "       [14.13    ,  9.2     ]])"
      ]
     },
     "execution_count": 4,
     "metadata": {},
     "output_type": "execute_result"
    }
   ],
   "source": [
    "X"
   ]
  },
  {
   "cell_type": "code",
   "execution_count": 5,
   "metadata": {},
   "outputs": [],
   "source": [
    "from sklearn.cluster import KMeans\n",
    "n_cluster = 3\n",
    "model = KMeans(n_clusters=n_cluster)"
   ]
  },
  {
   "cell_type": "code",
   "execution_count": 6,
   "metadata": {},
   "outputs": [
    {
     "data": {
      "text/plain": [
       "KMeans(n_clusters=3)"
      ]
     },
     "execution_count": 6,
     "metadata": {},
     "output_type": "execute_result"
    }
   ],
   "source": [
    "model"
   ]
  },
  {
   "cell_type": "code",
   "execution_count": 7,
   "metadata": {},
   "outputs": [],
   "source": [
    "pred = model.fit_predict(X)"
   ]
  },
  {
   "cell_type": "code",
   "execution_count": 12,
   "metadata": {},
   "outputs": [
    {
     "data": {
      "image/png": "[encoded data removed]",
      "text/plain": [
       "<Figure size 432x288 with 1 Axes>"
      ]
     },
     "metadata": {
      "needs_background": "light"
     },
     "output_type": "display_data"
    }
   ],
   "source": [
    "#시각화\n",
    "%matplotlib inline\n",
    "import matplotlib.pyplot as plt\n",
    "\n",
    "fig, ax = plt.subplots()\n",
    "\n",
    "ax.scatter(X[pred==0, 0], X[pred==0, 1], color='red', marker='s', label='Label1')\n",
    "ax.scatter(X[pred==1, 0], X[pred==1, 1], color='blue', marker='s', label='Label2')\n",
    "ax.scatter(X[pred==2, 0], X[pred==2, 1], color='green', marker='s', label='Label3')\n",
    "ax.scatter(model.cluster_centers_[:, 0], model.cluster_centers_[:,1], s=200, color='yellow', marker='*', label='center')\n",
    "ax.legend()\n",
    "# handles, labels = ax.get_legend_handles_labels()\n",
    "# print(type(handles), handles) # <class 'list'> [<matplotlib.collections.PathCollection object at 0x0000023BAE9C0188>, ..., <matplotlib.collections.PathCollection object at 0x0000023BAFA22408>]\n",
    "# print(type(labels), labels) # <class 'list'> ['Label1', 'Label2', 'Label3', 'center']\n",
    "\n",
    "plt.show()"
   ]
  },
  {
   "cell_type": "code",
   "execution_count": 10,
   "metadata": {},
   "outputs": [
    {
     "data": {
      "text/plain": [
       "array([5.19441558, 8.74611108, 2.854     ])"
      ]
     },
     "execution_count": 10,
     "metadata": {},
     "output_type": "execute_result"
    }
   ],
   "source": [
    "model.cluster_centers_[:, 0] #중심점들의 x좌표\n",
    "model.cluster_centers_[:, 1] #중심점들의 y좌표"
   ]
  },
  {
   "cell_type": "markdown",
   "metadata": {},
   "source": [
    "# PCA 주성분 분석"
   ]
  },
  {
   "cell_type": "code",
   "execution_count": 1,
   "metadata": {},
   "outputs": [
    {
     "name": "stderr",
     "output_type": "stream",
     "text": [
      "D:\\Installation\\Anaconda3\\lib\\importlib\\_bootstrap.py:219: RuntimeWarning: numpy.ufunc size changed, may indicate binary incompatibility. Expected 192 from C header, got 216 from PyObject\n",
      "  return f(*args, **kwds)\n"
     ]
    },
    {
     "name": "stdout",
     "output_type": "stream",
     "text": [
      "[[-2.68412563  0.31939725]\n",
      " [-2.71414169 -0.17700123]\n",
      " [-2.88899057 -0.14494943]\n",
      " [-2.74534286 -0.31829898]\n",
      " [-2.72871654  0.32675451]\n",
      " [-2.28085963  0.74133045]\n",
      " [-2.82053775 -0.08946138]\n",
      " [-2.62614497  0.16338496]\n",
      " [-2.88638273 -0.57831175]\n",
      " [-2.6727558  -0.11377425]\n",
      " [-2.50694709  0.6450689 ]\n",
      " [-2.61275523  0.01472994]\n",
      " [-2.78610927 -0.235112  ]\n",
      " [-3.22380374 -0.51139459]\n",
      " [-2.64475039  1.17876464]\n",
      " [-2.38603903  1.33806233]\n",
      " [-2.62352788  0.81067951]\n",
      " [-2.64829671  0.31184914]\n",
      " [-2.19982032  0.87283904]\n",
      " [-2.5879864   0.51356031]\n",
      " [-2.31025622  0.39134594]\n",
      " [-2.54370523  0.43299606]\n",
      " [-3.21593942  0.13346807]\n",
      " [-2.30273318  0.09870885]\n",
      " [-2.35575405 -0.03728186]\n",
      " [-2.50666891 -0.14601688]\n",
      " [-2.46882007  0.13095149]\n",
      " [-2.56231991  0.36771886]\n",
      " [-2.63953472  0.31203998]\n",
      " [-2.63198939 -0.19696122]\n",
      " [-2.58739848 -0.20431849]\n",
      " [-2.4099325   0.41092426]\n",
      " [-2.64886233  0.81336382]\n",
      " [-2.59873675  1.09314576]\n",
      " [-2.63692688 -0.12132235]\n",
      " [-2.86624165  0.06936447]\n",
      " [-2.62523805  0.59937002]\n",
      " [-2.80068412  0.26864374]\n",
      " [-2.98050204 -0.48795834]\n",
      " [-2.59000631  0.22904384]\n",
      " [-2.77010243  0.26352753]\n",
      " [-2.84936871 -0.94096057]\n",
      " [-2.99740655 -0.34192606]\n",
      " [-2.40561449  0.18887143]\n",
      " [-2.20948924  0.43666314]\n",
      " [-2.71445143 -0.2502082 ]\n",
      " [-2.53814826  0.50377114]\n",
      " [-2.83946217 -0.22794557]\n",
      " [-2.54308575  0.57941002]\n",
      " [-2.70335978  0.10770608]\n",
      " [ 1.28482569  0.68516047]\n",
      " [ 0.93248853  0.31833364]\n",
      " [ 1.46430232  0.50426282]\n",
      " [ 0.18331772 -0.82795901]\n",
      " [ 1.08810326  0.07459068]\n",
      " [ 0.64166908 -0.41824687]\n",
      " [ 1.09506066  0.28346827]\n",
      " [-0.74912267 -1.00489096]\n",
      " [ 1.04413183  0.2283619 ]\n",
      " [-0.0087454  -0.72308191]\n",
      " [-0.50784088 -1.26597119]\n",
      " [ 0.51169856 -0.10398124]\n",
      " [ 0.26497651 -0.55003646]\n",
      " [ 0.98493451 -0.12481785]\n",
      " [-0.17392537 -0.25485421]\n",
      " [ 0.92786078  0.46717949]\n",
      " [ 0.66028376 -0.35296967]\n",
      " [ 0.23610499 -0.33361077]\n",
      " [ 0.94473373 -0.54314555]\n",
      " [ 0.04522698 -0.58383438]\n",
      " [ 1.11628318 -0.08461685]\n",
      " [ 0.35788842 -0.06892503]\n",
      " [ 1.29818388 -0.32778731]\n",
      " [ 0.92172892 -0.18273779]\n",
      " [ 0.71485333  0.14905594]\n",
      " [ 0.90017437  0.32850447]\n",
      " [ 1.33202444  0.24444088]\n",
      " [ 1.55780216  0.26749545]\n",
      " [ 0.81329065 -0.1633503 ]\n",
      " [-0.30558378 -0.36826219]\n",
      " [-0.06812649 -0.70517213]\n",
      " [-0.18962247 -0.68028676]\n",
      " [ 0.13642871 -0.31403244]\n",
      " [ 1.38002644 -0.42095429]\n",
      " [ 0.58800644 -0.48428742]\n",
      " [ 0.80685831  0.19418231]\n",
      " [ 1.22069088  0.40761959]\n",
      " [ 0.81509524 -0.37203706]\n",
      " [ 0.24595768 -0.2685244 ]\n",
      " [ 0.16641322 -0.68192672]\n",
      " [ 0.46480029 -0.67071154]\n",
      " [ 0.8908152  -0.03446444]\n",
      " [ 0.23054802 -0.40438585]\n",
      " [-0.70453176 -1.01224823]\n",
      " [ 0.35698149 -0.50491009]\n",
      " [ 0.33193448 -0.21265468]\n",
      " [ 0.37621565 -0.29321893]\n",
      " [ 0.64257601  0.01773819]\n",
      " [-0.90646986 -0.75609337]\n",
      " [ 0.29900084 -0.34889781]\n",
      " [ 2.53119273 -0.00984911]\n",
      " [ 1.41523588 -0.57491635]\n",
      " [ 2.61667602  0.34390315]\n",
      " [ 1.97153105 -0.1797279 ]\n",
      " [ 2.35000592 -0.04026095]\n",
      " [ 3.39703874  0.55083667]\n",
      " [ 0.52123224 -1.19275873]\n",
      " [ 2.93258707  0.3555    ]\n",
      " [ 2.32122882 -0.2438315 ]\n",
      " [ 2.91675097  0.78279195]\n",
      " [ 1.66177415  0.24222841]\n",
      " [ 1.80340195 -0.21563762]\n",
      " [ 2.1655918   0.21627559]\n",
      " [ 1.34616358 -0.77681835]\n",
      " [ 1.58592822 -0.53964071]\n",
      " [ 1.90445637  0.11925069]\n",
      " [ 1.94968906  0.04194326]\n",
      " [ 3.48705536  1.17573933]\n",
      " [ 3.79564542  0.25732297]\n",
      " [ 1.30079171 -0.76114964]\n",
      " [ 2.42781791  0.37819601]\n",
      " [ 1.19900111 -0.60609153]\n",
      " [ 3.49992004  0.4606741 ]\n",
      " [ 1.38876613 -0.20439933]\n",
      " [ 2.2754305   0.33499061]\n",
      " [ 2.61409047  0.56090136]\n",
      " [ 1.25850816 -0.17970479]\n",
      " [ 1.29113206 -0.11666865]\n",
      " [ 2.12360872 -0.20972948]\n",
      " [ 2.38800302  0.4646398 ]\n",
      " [ 2.84167278  0.37526917]\n",
      " [ 3.23067366  1.37416509]\n",
      " [ 2.15943764 -0.21727758]\n",
      " [ 1.44416124 -0.14341341]\n",
      " [ 1.78129481 -0.49990168]\n",
      " [ 3.07649993  0.68808568]\n",
      " [ 2.14424331  0.1400642 ]\n",
      " [ 1.90509815  0.04930053]\n",
      " [ 1.16932634 -0.16499026]\n",
      " [ 2.10761114  0.37228787]\n",
      " [ 2.31415471  0.18365128]\n",
      " [ 1.9222678   0.40920347]\n",
      " [ 1.41523588 -0.57491635]\n",
      " [ 2.56301338  0.2778626 ]\n",
      " [ 2.41874618  0.3047982 ]\n",
      " [ 1.94410979  0.1875323 ]\n",
      " [ 1.52716661 -0.37531698]\n",
      " [ 1.76434572  0.07885885]\n",
      " [ 1.90094161  0.11662796]\n",
      " [ 1.39018886 -0.28266094]]\n"
     ]
    },
    {
     "name": "stderr",
     "output_type": "stream",
     "text": [
      "D:\\Installation\\Anaconda3\\lib\\importlib\\_bootstrap.py:219: RuntimeWarning: numpy.ufunc size changed, may indicate binary incompatibility. Expected 192 from C header, got 216 from PyObject\n",
      "  return f(*args, **kwds)\n"
     ]
    }
   ],
   "source": [
    "from sklearn.decomposition import PCA\n",
    "from sklearn.datasets import load_iris\n",
    "\n",
    "data = load_iris()\n",
    "# 차원을 2로 축소\n",
    "n_components =2\n",
    "model = PCA(n_components=n_components)\n",
    "model = model.fit(data.data)\n",
    "print(model.transform(data.data))"
   ]
  },
  {
   "cell_type": "markdown",
   "metadata": {},
   "source": [
    "# LSA(latent semantic analysis)"
   ]
  },
  {
   "cell_type": "code",
   "execution_count": 4,
   "metadata": {},
   "outputs": [
    {
     "name": "stdout",
     "output_type": "stream",
     "text": [
      "[[ 0.00000000e+00  8.50650808e-01]\n",
      " [ 0.00000000e+00  8.50650808e-01]\n",
      " [-2.71947991e-16  1.37638192e+00]\n",
      " [-2.71947991e-16  5.25731112e-01]\n",
      " [ 1.41421356e+00  2.02192262e-16]\n",
      " [ 7.07106781e-01  2.02192262e-16]\n",
      " [ 1.41421356e+00  2.02192262e-16]\n",
      " [ 7.07106781e-01  0.00000000e+00]]\n",
      "[0.38596491 0.27999429]\n",
      "0.6659592065833287\n"
     ]
    }
   ],
   "source": [
    "from sklearn.decomposition import TruncatedSVD\n",
    "data = [[1,0,0,0],\n",
    "       [1,0,0,0],\n",
    "       [1,1,0,0],\n",
    "       [0,1,0,0],\n",
    "       [0,0,1,1],\n",
    "       [0,0,1,0],\n",
    "       [0,0,1,1],\n",
    "       [0,0,0,1]]\n",
    "n_components = 2\n",
    "model = TruncatedSVD(n_components=n_components)\n",
    "model.fit(data)\n",
    "\n",
    "print(model.transform(data)) #변환 데이터\n",
    "print(model.explained_variance_ratio_) #기여율\n",
    "print(sum(model.explained_variance_ratio_))#누적 기여율"
   ]
  },
  {
   "cell_type": "markdown",
   "metadata": {},
   "source": [
    "# NMF(non-negative matrics factorization)"
   ]
  },
  {
   "cell_type": "code",
   "execution_count": 5,
   "metadata": {},
   "outputs": [
    {
     "name": "stdout",
     "output_type": "stream",
     "text": [
      "[[1.43146323 0.20973062]\n",
      " [0.84305567 0.78472   ]\n",
      " [0.43284423 1.18281126]\n",
      " [1.29477049 0.19732073]\n",
      " [0.83338779 0.81026193]\n",
      " [0.69245782 0.83541812]\n",
      " [0.62339813 0.91574924]\n",
      " [1.23588224 0.13826557]\n",
      " [0.90707128 0.87657258]\n",
      " [0.65620502 0.8379225 ]\n",
      " [1.4452719  0.04298179]\n",
      " [0.492765   1.19069568]\n",
      " [0.92522839 0.70175802]\n",
      " [1.32434133 0.0846954 ]\n",
      " [0.7174936  0.96726787]\n",
      " [1.05493403 0.69357055]\n",
      " [0.77927229 0.86853275]\n",
      " [0.95841731 0.77296662]\n",
      " [0.61014062 1.20059029]\n",
      " [1.25740962 0.35447281]\n",
      " [1.37120603 0.0616743 ]\n",
      " [0.90534653 1.00007606]\n",
      " [1.04152431 0.70469668]\n",
      " [0.47863606 1.03806037]\n",
      " [0.62858334 1.1320754 ]\n",
      " [0.70265216 1.03849657]\n",
      " [0.73669035 0.96690926]\n",
      " [1.4349318  0.03599955]\n",
      " [0.91953523 0.72020475]\n",
      " [1.33824719 0.08583401]\n",
      " [0.614011   0.97498961]\n",
      " [0.64106443 0.90319863]\n",
      " [0.84211059 0.74707539]\n",
      " [1.35998784 0.08311875]\n",
      " [0.59633725 0.81405933]\n",
      " [0.56053881 0.91208563]\n",
      " [0.99096035 0.69608349]\n",
      " [0.79193743 0.74442387]\n",
      " [0.67433895 1.01618492]\n",
      " [1.02857179 0.48026289]\n",
      " [0.58582009 0.75497869]\n",
      " [1.45360865 0.1773554 ]\n",
      " [0.78273135 0.74742936]\n",
      " [0.98036013 0.81128919]\n",
      " [1.26130174 0.202135  ]\n",
      " [0.7228447  0.82227053]\n",
      " [0.84147822 0.84274617]\n",
      " [0.82170969 0.69985512]\n",
      " [1.23334772 0.0554173 ]\n",
      " [1.2379733  0.30966311]\n",
      " [0.65856329 0.93903621]\n",
      " [1.36591791 0.14053217]\n",
      " [1.31070363 0.04330413]\n",
      " [0.77740146 0.97248081]\n",
      " [0.88702318 0.61547881]\n",
      " [1.27424763 0.2280884 ]\n",
      " [0.80267409 1.08454886]\n",
      " [1.3271039  0.14693394]\n",
      " [0.86430087 0.72857102]\n",
      " [1.15489736 0.57930439]\n",
      " [1.26521306 0.08682037]\n",
      " [0.64405532 0.8512291 ]\n",
      " [1.37845654 0.06761956]\n",
      " [0.98555496 0.64722686]\n",
      " [1.21865819 0.14012667]\n",
      " [1.33645843 0.0144452 ]\n",
      " [1.24803618 0.22218048]\n",
      " [1.19779813 0.26908869]\n",
      " [1.3699328  0.15791785]\n",
      " [0.59516304 0.95087017]\n",
      " [0.83323107 0.84075858]\n",
      " [0.98463696 0.76435057]\n",
      " [0.88461746 0.68177074]\n",
      " [0.76225953 0.9553483 ]\n",
      " [1.45472079 0.29243898]\n",
      " [0.92710303 0.75647492]\n",
      " [0.69724372 0.75036645]\n",
      " [1.32662975 0.20607203]\n",
      " [0.67866973 0.95345341]\n",
      " [0.77471174 0.91635148]\n",
      " [1.46416126 0.22322476]\n",
      " [0.6704029  0.88878932]\n",
      " [0.52819195 0.96729481]\n",
      " [1.39411189 0.25279053]\n",
      " [1.36390043 0.        ]\n",
      " [0.76951755 0.85372195]\n",
      " [0.91490197 0.74406932]\n",
      " [0.79129352 0.77126573]\n",
      " [0.5574219  0.8571138 ]\n",
      " [0.84557002 0.73928619]\n",
      " [1.25650221 0.13079796]\n",
      " [0.81876644 0.83936342]\n",
      " [1.19350764 0.15844844]\n",
      " [0.78174604 0.74370795]\n",
      " [1.32349526 0.25641186]\n",
      " [1.05950062 0.7508462 ]\n",
      " [1.00784037 0.9806388 ]\n",
      " [0.60106781 0.91227644]\n",
      " [0.98362944 0.95625414]\n",
      " [0.49407783 1.15086003]]\n",
      "[[7.21817287 1.88331633 7.80718731]\n",
      " [0.         8.8896605  0.46863094]]\n"
     ]
    }
   ],
   "source": [
    "from sklearn.decomposition import NMF\n",
    "from sklearn.datasets.samples_generator import make_blobs\n",
    "\n",
    "centers = [[5,10,5], [10,4,10], [6,8,8]]\n",
    "\n",
    "X, _ = make_blobs(centers=centers)\n",
    "n_components = 2\n",
    "\n",
    "model = NMF(n_components=n_components)\n",
    "model.fit(X)\n",
    "W = model.transform(X)\n",
    "H = model.components_\n",
    "\n",
    "print(W)\n",
    "print(H)"
   ]
  },
  {
   "cell_type": "markdown",
   "metadata": {},
   "source": [
    "# LDA(latent dirichlet allocation)"
   ]
  },
  {
   "cell_type": "code",
   "execution_count": 2,
   "metadata": {},
   "outputs": [
    {
     "name": "stdout",
     "output_type": "stream",
     "text": [
      "[[5.00000003e-02 5.00000003e-02 5.00000009e-02 ... 1.48824293e+01\n",
      "  5.00000005e-02 5.00000002e-02]\n",
      " [5.00000000e-02 5.00000000e-02 5.00000000e-02 ... 5.00000000e-02\n",
      "  5.00000000e-02 5.00000000e-02]\n",
      " [5.00000003e-02 5.00000006e-02 4.03615094e-01 ... 4.32547775e+01\n",
      "  4.53710869e+01 9.85242899e-01]\n",
      " ...\n",
      " [2.29230447e-01 9.09346985e+01 1.25341350e+00 ... 9.55706119e-01\n",
      "  1.83187020e+01 5.00000010e-02]\n",
      " [2.84408647e+02 2.38480652e+02 2.02309706e+02 ... 5.00000005e-02\n",
      "  6.05785416e+01 2.79933003e+01]\n",
      " [5.00000004e-02 5.00000005e-02 5.00000001e-02 ... 1.26535976e+01\n",
      "  5.00000014e-02 5.00000010e-02]]\n",
      "[[0.00208333 0.00208333 0.00208333 ... 0.00208333 0.00208333 0.00208333]\n",
      " [0.0025     0.0025     0.0025     ... 0.0025     0.0025     0.0025    ]\n",
      " [0.10886609 0.00059524 0.00059524 ... 0.00059524 0.00059524 0.00059524]\n",
      " ...\n",
      " [0.31181902 0.00454545 0.00454545 ... 0.00454545 0.00454545 0.06920108]\n",
      " [0.00277778 0.00277778 0.00277778 ... 0.15829452 0.00277778 0.00277778]\n",
      " [0.00357143 0.00357143 0.00357143 ... 0.00357143 0.33032273 0.00357143]]\n"
     ]
    }
   ],
   "source": [
    "from sklearn.datasets import fetch_20newsgroups\n",
    "from sklearn.feature_extraction.text import CountVectorizer\n",
    "from sklearn.decomposition import LatentDirichletAllocation\n",
    "\n",
    "data = fetch_20newsgroups(remove=('headers', 'footers', 'quotes'))\n",
    "\n",
    "max_features = 1000\n",
    "\n",
    "tf_vectorizer = CountVectorizer(max_features=max_features, stop_words='english')\n",
    "# 문서에서 단어를 생성한 후 단어 각각의 개수를 세어 BoW로 변환한 벡터를 만듦\n",
    "# max_features 만큼의 단어를 생성\n",
    "# stop_words 영어에서 무시할 수 있는 단어를 적용\n",
    "\n",
    "tf = tf_vectorizer.fit_transform(data.data)\n",
    "\n",
    "n_topics = 20\n",
    "\n",
    "model = LatentDirichletAllocation(n_components=n_topics)\n",
    "\n",
    "model.fit(tf)\n",
    "\n",
    "print(model.components_)\n",
    "print(model.transform(tf))"
   ]
  },
  {
   "cell_type": "code",
   "execution_count": 4,
   "metadata": {},
   "outputs": [
    {
     "data": {
      "text/plain": [
       "sklearn.utils.Bunch"
      ]
     },
     "execution_count": 4,
     "metadata": {},
     "output_type": "execute_result"
    }
   ],
   "source": [
    "type(data)"
   ]
  },
  {
   "cell_type": "markdown",
   "metadata": {},
   "source": [
    "# K-means algorithm"
   ]
  },
  {
   "cell_type": "code",
   "execution_count": 5,
   "metadata": {},
   "outputs": [
    {
     "name": "stdout",
     "output_type": "stream",
     "text": [
      "[0 0 0 0 0 0 0 0 0 0 0 0 0 0 0 0 0 0 0 0 0 0 0 0 0 0 0 0 0 0 0 0 0 0 0 0 0\n",
      " 0 0 0 0 0 0 0 0 0 0 0 0 0 2 2 1 2 2 2 2 2 2 2 2 2 2 2 2 2 2 2 2 2 2 2 2 2\n",
      " 2 2 2 1 2 2 2 2 2 2 2 2 2 2 2 2 2 2 2 2 2 2 2 2 2 2 1 2 1 1 1 1 2 1 1 1 1\n",
      " 1 1 2 2 1 1 1 1 2 1 2 1 2 1 1 2 2 1 1 1 1 1 2 1 1 1 1 2 1 1 1 2 1 1 1 2 1\n",
      " 1 2]\n",
      "[[5.006      3.428      1.462      0.246     ]\n",
      " [6.85       3.07368421 5.74210526 2.07105263]\n",
      " [5.9016129  2.7483871  4.39354839 1.43387097]]\n"
     ]
    }
   ],
   "source": [
    "from sklearn.cluster import KMeans\n",
    "from sklearn.datasets import load_iris\n",
    "\n",
    "data = load_iris()\n",
    "\n",
    "n_clusters = 3\n",
    "\n",
    "model = KMeans(n_clusters=n_clusters)\n",
    "model.fit(data.data)\n",
    "\n",
    "print(model.labels_)\n",
    "print(model.cluster_centers_)"
   ]
  },
  {
   "cell_type": "markdown",
   "metadata": {},
   "source": [
    "# Gaussian Mixture Model"
   ]
  },
  {
   "cell_type": "code",
   "execution_count": 8,
   "metadata": {},
   "outputs": [
    {
     "name": "stdout",
     "output_type": "stream",
     "text": [
      "[1 1 1 1 1 1 1 1 1 1 1 1 1 1 1 1 1 1 1 1 1 1 1 1 1 1 1 1 1 1 1 1 1 1 1 1 1\n",
      " 1 1 1 1 1 1 1 1 1 1 1 1 1 0 0 0 0 0 0 0 0 0 0 0 0 0 0 0 0 0 0 2 0 2 0 2 0\n",
      " 0 0 0 2 0 0 0 0 0 2 0 0 0 0 0 0 0 0 0 0 0 0 0 0 0 0 2 2 2 2 2 2 2 2 2 2 2\n",
      " 2 2 2 2 2 2 2 2 2 2 2 2 2 2 2 2 2 2 2 2 2 2 2 2 2 2 2 2 2 2 2 2 2 2 2 2 2\n",
      " 2 2]\n",
      "----------------------------------------------------------------------------------------------------\n",
      "[[5.91697517 2.77803998 4.20523542 1.29841561]\n",
      " [5.006      3.428      1.462      0.246     ]\n",
      " [6.54632887 2.94943079 5.4834877  1.98716063]]\n",
      "----------------------------------------------------------------------------------------------------\n",
      "[[[0.27550587 0.09663458 0.18542939 0.05476915]\n",
      "  [0.09663458 0.09255531 0.09103836 0.04299877]\n",
      "  [0.18542939 0.09103836 0.20227635 0.0616792 ]\n",
      "  [0.05476915 0.04299877 0.0616792  0.03232217]]\n",
      "\n",
      " [[0.121765   0.097232   0.016028   0.010124  ]\n",
      "  [0.097232   0.140817   0.011464   0.009112  ]\n",
      "  [0.016028   0.011464   0.029557   0.005948  ]\n",
      "  [0.010124   0.009112   0.005948   0.010885  ]]\n",
      "\n",
      " [[0.38741443 0.09223101 0.30244612 0.06089936]\n",
      "  [0.09223101 0.11040631 0.08386768 0.0557538 ]\n",
      "  [0.30244612 0.08386768 0.32595958 0.07283247]\n",
      "  [0.06089936 0.0557538  0.07283247 0.08488025]]]\n"
     ]
    }
   ],
   "source": [
    "from sklearn.datasets import load_iris\n",
    "from sklearn.mixture import GaussianMixture\n",
    "\n",
    "data = load_iris()\n",
    "n_components = 3\n",
    "\n",
    "model = GaussianMixture(n_components=n_components)\n",
    "model.fit(data.data)\n",
    "\n",
    "print(model.predict(data.data))\n",
    "print(\"-\"*100)\n",
    "print(model.means_)\n",
    "print(\"-\"*100)\n",
    "print(model.covariances_)"
   ]
  },
  {
   "cell_type": "markdown",
   "metadata": {},
   "source": [
    "# (LLE)local linear embeding"
   ]
  },
  {
   "cell_type": "code",
   "execution_count": 10,
   "metadata": {},
   "outputs": [
    {
     "name": "stdout",
     "output_type": "stream",
     "text": [
      "[[-0.05386028  0.00258966]\n",
      " [ 0.01415431  0.02522452]\n",
      " [-0.02057867  0.00986158]\n",
      " ...\n",
      " [-0.0373803  -0.01518267]\n",
      " [ 0.02838143 -0.01751425]\n",
      " [-0.049229    0.00925094]]\n"
     ]
    }
   ],
   "source": [
    "from sklearn.datasets import samples_generator\n",
    "from sklearn.manifold import LocallyLinearEmbedding\n",
    "\n",
    "data, color = samples_generator.make_swiss_roll(n_samples=1500)\n",
    "n_neighbors = 12 #근처 점 갯수\n",
    "n_components = 2#차원 축소 후 차원수\n",
    "\n",
    "model = LocallyLinearEmbedding(n_neighbors=n_neighbors,\n",
    "                              n_components=n_components)\n",
    "\n",
    "model.fit(data)\n",
    "print(model.transform(data))"
   ]
  },
  {
   "cell_type": "markdown",
   "metadata": {},
   "source": [
    "# t-SNE(t-distribution stochastic neighbor embedding)"
   ]
  },
  {
   "cell_type": "code",
   "execution_count": 11,
   "metadata": {},
   "outputs": [
    {
     "name": "stdout",
     "output_type": "stream",
     "text": [
      "[[-43.883743  33.22388 ]\n",
      " [-14.82132   11.93504 ]\n",
      " [-20.68436  -11.582747]\n",
      " ...\n",
      " [ -8.916648  -9.343231]\n",
      " [  6.314767 -41.23508 ]\n",
      " [ -8.846465 -16.08139 ]]\n"
     ]
    }
   ],
   "source": [
    "from sklearn.manifold import TSNE\n",
    "from sklearn.datasets import load_digits\n",
    "\n",
    "data = load_digits()\n",
    "\n",
    "n_components = 2\n",
    "model = TSNE(n_components=n_components)\n",
    "\n",
    "print(model.fit_transform(data.data))"
   ]
  },
  {
   "cell_type": "code",
   "execution_count": null,
   "metadata": {},
   "outputs": [],
   "source": []
  }
 ],
 "metadata": {
  "kernelspec": {
   "display_name": "Python 3",
   "language": "python",
   "name": "python3"
  },
  "language_info": {
   "codemirror_mode": {
    "name": "ipython",
    "version": 3
   },
   "file_extension": ".py",
   "mimetype": "text/x-python",
   "name": "python",
   "nbconvert_exporter": "python",
   "pygments_lexer": "ipython3",
   "version": "3.7.4"
  }
 },
 "nbformat": 4,
 "nbformat_minor": 4
}
