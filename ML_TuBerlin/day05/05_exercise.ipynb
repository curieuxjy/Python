{
 "cells": [
  {
   "cell_type": "markdown",
   "metadata": {},
   "source": [
    "# Exercise 5: Support Vector Machines and RandomForests\n",
    "## Theory\n",
    "---\n",
    "### Task 1: Derivation of the dual problem\n",
    "Derive the Dual formulation of the SVM optimization problem. I.e.\n",
    "\n",
    "Given \n",
    " - $\\underset{\\alpha}{max}\\big\\{ \\underset{w,b}{min}\\{ \\frac{1}{2}\\lVert w\\rVert^2 + \\sum_{i=1} \\alpha_i(1 - y_i(w^T\\Phi(x_i) + b)) \\} \\big\\}, \\alpha_i \\geq 0,$ for all $i=1,...,m$,\n",
    " \n",
    "show that a solution can be obtained by\n",
    " - $\\underset{\\alpha}{max} \\sum_i \\alpha_i - \\frac{1}{2} \\alpha_i\\alpha_jy_iy_j\\langle\\Phi(x_i), \\Phi(x_j)\\rangle$ \n",
    "\n",
    "subject to the constraints $\\mathbf{\\alpha} \\geq 0 $ and $\\sum_i\\alpha_iy_i = 0$. \n",
    "\n",
    "\n",
    "min-max optimization문제를 제약조건으로 빼기"
   ]
  },
  {
   "cell_type": "markdown",
   "metadata": {},
   "source": [
    "### [Optional] Primal variables w,b from the dual solution\n",
    "Show how the parameters $w$ and $b$ can be obtained from the solution of dual for predicting new points. Note: $b$ is tricky"
   ]
  },
  {
   "cell_type": "markdown",
   "metadata": {},
   "source": [
    "### Task 2: Hinge loss\n",
    "The hinge loss is defined as \n",
    " - $l_{hinge}(y, g(x)) = max(0, 1-y_ig(x))$\n",
    "\n",
    "Show how we can inject it into the Soft Margin Primal Problem\n",
    "- $\\underset{w,b,\\xi}{min} \\frac{1}{2}\\lVert w \\rVert^2 + C \\sum_i \\xi_i$ s. t.\n",
    "\n",
    "$y_i(w^T\\Phi(x_i) + b) \\geq 1 - \\xi_i$ and $\\xi_i \\geq 0$.\n",
    "\n",
    "to remove the constraints completely."
   ]
  },
  {
   "cell_type": "markdown",
   "metadata": {},
   "source": [
    "## Programming\n",
    "---"
   ]
  },
  {
   "cell_type": "markdown",
   "metadata": {},
   "source": [
    "### Task 1: Sklearn Warmup using toy datasets\n",
    "**SVC**\n",
    " - Train one sklearn.svm.SVC (Support Vector Classifier) model on the wine-dataset for each predefined kernel.\n",
    " - You can get the dataset via sklearn.datasets.load_wine.\n",
    " - Split the dataset into train and test data and report the kernel that performs best on the test data using the sklearn.metrics.accuracy_score metric\n",
    " - plot the [confusion matrix](http://www.gisdeveloper.co.kr/?p=9932)"
   ]
  },
  {
   "cell_type": "code",
   "execution_count": 14,
   "metadata": {},
   "outputs": [
    {
     "name": "stdout",
     "output_type": "stream",
     "text": [
      "Classification using SVC on the load_wine dataset\n",
      "accuracy_score = 0.7555555555555555, kernel = rbf\n",
      "accuracy_score = 0.9555555555555556, kernel = linear\n",
      "accuracy_score = 0.7111111111111111, kernel = poly\n",
      "[[19  0  0]\n",
      " [ 0 13  2]\n",
      " [ 0  0 11]]\n"
     ]
    },
    {
     "data": {
      "image/png": "[encoded data removed]",
      "text/plain": [
       "<Figure size 432x288 with 1 Axes>"
      ]
     },
     "metadata": {
      "needs_background": "light"
     },
     "output_type": "display_data"
    }
   ],
   "source": [
    "from sklearn.datasets import load_wine\n",
    "from sklearn.model_selection import train_test_split\n",
    "from sklearn.multiclass import OneVsRestClassifier\n",
    "from sklearn.svm import SVC\n",
    "from sklearn.metrics import accuracy_score, confusion_matrix\n",
    "import matplotlib.pyplot as plt\n",
    "import numpy as np\n",
    "\n",
    "def do_exercise_one(load_fn):\n",
    "    Xtrain, Xtest, ytrain, ytest = train_test_split(*load_fn(return_X_y=True),\n",
    "                                                    shuffle=True,\n",
    "                                                    random_state=12)\n",
    "    print(f'Classification using SVC on the {load_fn.__name__} dataset')\n",
    "    \n",
    "    for kernel in ['rbf', 'linear', 'poly']:\n",
    "        clf = OneVsRestClassifier(SVC(kernel=kernel)).fit(Xtrain, ytrain)\n",
    "        ypred = clf.predict(Xtest)\n",
    "        acc = accuracy_score(ypred, ytest)\n",
    "        print(f'accuracy_score = {acc}, kernel = {kernel}')\n",
    "        assert acc == clf.score(Xtest, ytest)\n",
    "            \n",
    "    # print confusion_matrix\n",
    "    ypred = OneVsRestClassifier(SVC(kernel='linear')).fit(Xtrain, ytrain).predict(Xtest)\n",
    "    print(confusion_matrix(ytest, ypred))\n",
    "    plt.scatter(ytest, ypred)\n",
    "    plt.plot(np.linspace(0, 2),np.linspace(0, 2), 'g--')\n",
    "    plt.show()\n",
    "\n",
    "do_exercise_one(load_wine)"
   ]
  },
  {
   "cell_type": "markdown",
   "metadata": {},
   "source": [
    "**RandomForest**\n",
    " - Train one sklearn.ensemble.RandomForestRegressor model on the diabetes-dataset for each predefined criterion.\n",
    " - You can get the dataset via sklearn.datasets.load_diabetes.\n",
    " - Split the dataset into train and test data and report the criterion that performs best on the test data using the sklearn.metrics.r2_score metric\n",
    "     - [r2 score](https://blog.naver.com/istech7/50153288534)\n",
    " - plot the predicted against the true values"
   ]
  },
  {
   "cell_type": "code",
   "execution_count": 19,
   "metadata": {},
   "outputs": [
    {
     "name": "stdout",
     "output_type": "stream",
     "text": [
      "fitting RandomForestRegressor on diabetes dataset\n",
      "finished fitting\n",
      "R2 = -0.04892684424558014\n",
      "score = 0.4682535418210375\n"
     ]
    },
    {
     "data": {
      "image/png": "[encoded data removed]",
      "text/plain": [
       "<Figure size 432x288 with 1 Axes>"
      ]
     },
     "metadata": {
      "needs_background": "light"
     },
     "output_type": "display_data"
    }
   ],
   "source": [
    "from sklearn.datasets import load_diabetes\n",
    "from sklearn.ensemble import RandomForestRegressor\n",
    "from sklearn.metrics import r2_score\n",
    "import matplotlib.pyplot as plt\n",
    "\n",
    "def do_exercise_two():\n",
    "    Xtrain, Xtest, ytrain, ytest = train_test_split(*load_diabetes(return_X_y=True), shuffle=True, random_state=42)\n",
    "    print('fitting RandomForestRegressor on diabetes dataset')\n",
    "    \n",
    "    clf = RandomForestRegressor().fit(Xtrain, ytrain)\n",
    "    print('finished fitting')\n",
    "    \n",
    "    ypred = clf.predict(Xtest)\n",
    "    acc = r2_score(ypred, ytest)\n",
    "    print(f'R2 = {acc}')\n",
    "    print(f'score = {clf.score(Xtest, ytest)}')\n",
    "    \n",
    "    plt.scatter(ytest, ypred)\n",
    "    plt.plot(np.linspace(30, 330),np.linspace(30, 330), 'g--')\n",
    "    plt.show()\n",
    "\n",
    "do_exercise_two()"
   ]
  },
  {
   "cell_type": "markdown",
   "metadata": {},
   "source": [
    "**Note:** In the warmup, you do not have to do any preprocessing. We will cover data preprocessing(standardization, feature selection, etc.) in the next lecture.\n",
    "\n",
    "Similarly, you do not have to use cross validation or any sort of hyperparameter selection. You can for now use the default values of the estimators.\n",
    "The according methods will be covered in the next lecture as well.\n",
    "\n",
    "If your SVM is slow and your dataset not too big, scale data to [-1,1]"
   ]
  },
  {
   "cell_type": "markdown",
   "metadata": {},
   "source": [
    "### [Optional] Multiclass classification\n",
    "Apply the SVM to a multiclass classification problem of your choice"
   ]
  },
  {
   "cell_type": "code",
   "execution_count": null,
   "metadata": {},
   "outputs": [],
   "source": []
  },
  {
   "cell_type": "markdown",
   "metadata": {},
   "source": [
    "### Task 2: EEG Eye state dataset (Time series data)"
   ]
  },
  {
   "cell_type": "markdown",
   "metadata": {},
   "source": [
    "In this exercise you will \n",
    "do classification on the EEG Eye state dataset. Sliding windows have already been applied to turn it into a supervised problem. You can familiarise yourself with it here: https://archive.ics.uci.edu/ml/datasets/EEG+Eye+State\n",
    "\n",
    "1. Load the data and labels and transform them into X, y in the format of sklearn toy datasets. (Tricky)\n",
    "\n",
    "```python\n",
    "from scipy.io import arff\n",
    "with open('data/eyes.arff', mode='r') as f:\n",
    "    # X, y = ...\n",
    "    # Xtrain, Xtest, ytrain, ytest = ... \n",
    "    pass\n",
    "```\n",
    "2. Fit a RandomForest Classifier and SVC on the data after splitting it into train- and testset.\n",
    "3. Report the best result. Can you tune the SVC to reach the performance of the random forest with default params?"
   ]
  },
  {
   "cell_type": "code",
   "execution_count": 20,
   "metadata": {},
   "outputs": [],
   "source": [
    "# Load data and compute train test splits\n",
    "import numpy as np\n",
    "from scipy.io import arff\n",
    "from sklearn.model_selection import train_test_split\n",
    "\n",
    "with open('data/eyes.arff', mode='r') as f:\n",
    "    data, meta = arff.loadarff(f)\n",
    "    n_samples = len(data)\n",
    "    n_features = len(data[0])-1\n",
    "    \n",
    "    X = np.zeros((n_samples, n_features))\n",
    "    y = np.zeros((n_samples,))\n",
    "    \n",
    "    for i, row in enumerate(data):\n",
    "        X[i,:], y[i] = list(row)[:-1], row[-1]\n",
    "\n",
    "Xtrain, Xtest, ytrain, ytest = train_test_split(X, y,random_state=42)"
   ]
  },
  {
   "cell_type": "code",
   "execution_count": 21,
   "metadata": {},
   "outputs": [
    {
     "name": "stdout",
     "output_type": "stream",
     "text": [
      "done fitting\n"
     ]
    }
   ],
   "source": [
    "# fit classifiers\n",
    "from sklearn.preprocessing import StandardScaler\n",
    "from sklearn.svm import SVC\n",
    "from sklearn.ensemble import RandomForestClassifier\n",
    "from sklearn.metrics import accuracy_score\n",
    "\n",
    "scaler = StandardScaler()\n",
    "Xtrain = scaler.fit_transform(Xtrain)\n",
    "Xtest = scaler.transform(Xtest)\n",
    "\n",
    "clf = SVC().fit(Xtrain, ytrain)\n",
    "print('done fitting')\n",
    "\n",
    "ypred_svc = clf.predict(Xtest)\n",
    "forest = RandomForestClassifier().fit(Xtrain, ytrain)\n",
    "ypred_rf = forest.predict(Xtest)"
   ]
  },
  {
   "cell_type": "code",
   "execution_count": 22,
   "metadata": {},
   "outputs": [
    {
     "name": "stdout",
     "output_type": "stream",
     "text": [
      "acc SVC = 0.7081441922563418\n",
      "acc RF= 0.9212283044058746\n"
     ]
    }
   ],
   "source": [
    "# compare results, maybe tune SVC\n",
    "print(f'acc SVC = {accuracy_score(ypred_svc, ytest)}')\n",
    "print(f'acc RF= {accuracy_score(ypred_rf, ytest)}')"
   ]
  },
  {
   "cell_type": "markdown",
   "metadata": {},
   "source": [
    "### [Optional] Novelty detection using SVM\n",
    "Novelty detection inspired by SVMs is done by finding the smalles enclosing sphere of the data, i.e. solving\n",
    " - $\\underset{R,c}{min} R^2$ subject to the constraints\n",
    " $\\lVert \\Phi(x_i)-c\\rVert^2 \\leq R^2$\n",
    "\n",
    "A point $x$ is then reported a novelty, if it exceeds a distance from the center:\n",
    "$f(x) = sign(\\lVert \\Phi(x_i)-c\\rVert - \\tau)$\n",
    " \n",
    "Familiarise yourself with the section on novelty detection via svms, by reading the corresponding section in the sklearn userguide\n",
    " - https://scikit-learn.org/stable/modules/outlier_detection.html#novelty-detection\n",
    "\n",
    "Pick a dataset from the Outlier Detection DataSets http://odds.cs.stonybrook.edu/ and try to find the outliers using sklearn.svm.OneClassSvm\n",
    "\n",
    "You can report your findings, either by comparison or using plots.\n",
    "- [decision_function](https://scikit-learn.org/stable/modules/generated/sklearn.svm.OneClassSVM.html#sklearn.svm.OneClassSVM.decision_function)"
   ]
  },
  {
   "cell_type": "code",
   "execution_count": 52,
   "metadata": {},
   "outputs": [
    {
     "name": "stdout",
     "output_type": "stream",
     "text": [
      "best performance: {'kernel': 'sigmoid', 'nu': 0.5}\n",
      "final f1_score = 0.782608695652174 with recall = 1.0\n",
      "75.099106579109\n"
     ]
    }
   ],
   "source": [
    "from scipy.io import loadmat\n",
    "from sklearn.svm import OneClassSVM\n",
    "from sklearn.preprocessing import StandardScaler\n",
    "from sklearn.metrics import accuracy_score, precision_score, recall_score, f1_score\n",
    "content_dict = loadmat('./data/glass.mat')\n",
    "X, y = content_dict['X'],  content_dict['y']\n",
    "Xtrain, Xtest, ytrain, ytest = X[:175], X[175:], y[:175], y[175:]\n",
    "\n",
    "scaler = StandardScaler().fit(Xtrain)\n",
    "kernels = ['linear', 'poly', 'rbf', 'sigmoid']\n",
    "nus = [.01, .1, .5, .9, .99]\n",
    "Xtrain = scaler.transform(Xtrain)\n",
    "\n",
    "from sklearn.ensemble import IsolationForest\n",
    "best_params = dict()\n",
    "best_f1_score = -np.inf\n",
    "recall = np.inf\n",
    "\n",
    "for kernel in kernels:\n",
    "    for nu in nus:\n",
    "        # 파라미터들 선택해서 모델을 결정\n",
    "        clf = OneClassSVM(nu=nu, kernel=kernel).fit(Xtrain, ytrain)\n",
    "        vals = clf.decision_function(scaler.transform(Xtest))\n",
    "        # Signed distance to the separating hyperplane.\n",
    "        # Signed distance is positive for an inlier and \n",
    "        # negative for an outlier.\n",
    "        scores = clf.score_samples(scaler.transform(Xtest))\n",
    "\n",
    "        vals = np.abs(vals)\n",
    "        # print(vals.shape) \n",
    "        pred = clf.predict(scaler.transform(Xtest)).clip(min=0)  \n",
    "        # replace -1 with 0 to be able to compute metrics\n",
    "        current_f1_score = f1_score(ytest, pred)\n",
    "        if current_f1_score > best_f1_score:\n",
    "            best_params = {'kernel': kernel, 'nu': nu}\n",
    "            best_f1_score = current_f1_score\n",
    "            best_pred = pred\n",
    "            recall = recall_score(ytest, best_pred)\n",
    "            best_vals = vals.sum()\n",
    "\n",
    "print(f'best performance: {best_params}')\n",
    "print(f'final f1_score = {best_f1_score} with recall = {recall}')\n",
    "print(best_vals)"
   ]
  }
 ],
 "metadata": {
  "kernelspec": {
   "display_name": "Python 3",
   "language": "python",
   "name": "python3"
  },
  "language_info": {
   "codemirror_mode": {
    "name": "ipython",
    "version": 3
   },
   "file_extension": ".py",
   "mimetype": "text/x-python",
   "name": "python",
   "nbconvert_exporter": "python",
   "pygments_lexer": "ipython3",
   "version": "3.7.4"
  }
 },
 "nbformat": 4,
 "nbformat_minor": 4
}
