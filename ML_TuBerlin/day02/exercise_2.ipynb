{
 "cells": [
  {
   "cell_type": "markdown",
   "metadata": {},
   "source": [
    "# Day 2 Exercise\n",
    "\n",
    "This notebook will challenge your numpy, pandas, matplotlib skills!\n",
    "\n",
    "To test your code, simply add any number of cells! The provided function headers should give you some help and a hint to a solution, but you don't have to use them!\n",
    "\n",
    "**Remember**: \n",
    "- test your code a lot, to see which changes have which effects. \n",
    "- it is also helpful to try to solve the assignment in small steps.\n",
    "- everything you need were covered in the lecture, try to look there before using google."
   ]
  },
  {
   "cell_type": "code",
   "execution_count": 2,
   "metadata": {},
   "outputs": [],
   "source": [
    "import numpy as np\n",
    "import pandas as pd\n",
    "import matplotlib.pyplot as plt"
   ]
  },
  {
   "cell_type": "markdown",
   "metadata": {},
   "source": [
    "## 1. Write a Numpy Matrix Calculator\n",
    "\n",
    "Similar to the first exercise, finsih the function `numpy_calc(arr1, arr2, operation)`, which takes in two numpy arrays, and returns the result of an operation. \n",
    "- We only allow arrays with maximal two dimensions. \n",
    "- Possible operations are: \n",
    "    1. **add**, \n",
    "    2. **subtract**, \n",
    "    3. **element-multiplication** \n",
    "    4. **matrix-multiplication**\n",
    "    5. **sum**\n",
    "    6. **min**\n",
    "    7. **max**\n",
    "- for the operations **add**, **subtract**, **multiplication**, you need to check if the sizes of the two arrays are equal (We don't want to broadcast!).\n",
    "- **matrix-multiplication** also works if the number of rows of `arr1` are equal two the number of columns of `arr2`. \n",
    "- the other operations **sum**, **min** and **max** should be applied to a single array, therefore return a tuple containing the desired value for both arrays.\n",
    "- if conditions are not met, print out a error message and return `None`"
   ]
  },
  {
   "cell_type": "code",
   "execution_count": 2,
   "metadata": {},
   "outputs": [],
   "source": [
    "def numpy_calc(arr1, arr2, operation):\n",
    "    #<---YOUR CODE HERE\n",
    "    \n",
    "    #<---YOUR CODE HERE\n",
    "    return result"
   ]
  },
  {
   "cell_type": "code",
   "execution_count": 3,
   "metadata": {},
   "outputs": [
    {
     "ename": "NameError",
     "evalue": "name 'result' is not defined",
     "output_type": "error",
     "traceback": [
      "\u001b[1;31m---------------------------------------------------------------------------\u001b[0m",
      "\u001b[1;31mNameError\u001b[0m                                 Traceback (most recent call last)",
      "\u001b[1;32m<ipython-input-3-4a193d8fb1e8>\u001b[0m in \u001b[0;36m<module>\u001b[1;34m\u001b[0m\n\u001b[0;32m      3\u001b[0m \u001b[0my\u001b[0m \u001b[1;33m=\u001b[0m \u001b[0mnp\u001b[0m\u001b[1;33m.\u001b[0m\u001b[0marray\u001b[0m\u001b[1;33m(\u001b[0m\u001b[1;33m[\u001b[0m\u001b[1;33m[\u001b[0m\u001b[1;36m3\u001b[0m\u001b[1;33m]\u001b[0m\u001b[1;33m,\u001b[0m \u001b[1;33m[\u001b[0m\u001b[1;36m1\u001b[0m\u001b[1;33m]\u001b[0m\u001b[1;33m]\u001b[0m\u001b[1;33m)\u001b[0m\u001b[1;33m\u001b[0m\u001b[1;33m\u001b[0m\u001b[0m\n\u001b[0;32m      4\u001b[0m \u001b[0moperation\u001b[0m \u001b[1;33m=\u001b[0m \u001b[1;34m\"matrix-multiplication\"\u001b[0m\u001b[1;33m\u001b[0m\u001b[1;33m\u001b[0m\u001b[0m\n\u001b[1;32m----> 5\u001b[1;33m \u001b[0mnumpy_calc\u001b[0m\u001b[1;33m(\u001b[0m\u001b[0mx\u001b[0m\u001b[1;33m,\u001b[0m\u001b[0my\u001b[0m\u001b[1;33m,\u001b[0m\u001b[0moperation\u001b[0m\u001b[1;33m)\u001b[0m\u001b[1;33m\u001b[0m\u001b[1;33m\u001b[0m\u001b[0m\n\u001b[0m",
      "\u001b[1;32m<ipython-input-2-36aaf010ff31>\u001b[0m in \u001b[0;36mnumpy_calc\u001b[1;34m(arr1, arr2, operation)\u001b[0m\n\u001b[0;32m      3\u001b[0m \u001b[1;33m\u001b[0m\u001b[0m\n\u001b[0;32m      4\u001b[0m     \u001b[1;31m#<---YOUR CODE HERE\u001b[0m\u001b[1;33m\u001b[0m\u001b[1;33m\u001b[0m\u001b[1;33m\u001b[0m\u001b[0m\n\u001b[1;32m----> 5\u001b[1;33m     \u001b[1;32mreturn\u001b[0m \u001b[0mresult\u001b[0m\u001b[1;33m\u001b[0m\u001b[1;33m\u001b[0m\u001b[0m\n\u001b[0m",
      "\u001b[1;31mNameError\u001b[0m: name 'result' is not defined"
     ]
    }
   ],
   "source": [
    "# Check this example\n",
    "x = np.array([[2], [1]])\n",
    "y = np.array([[3], [1]]) \n",
    "operation = \"matrix-multiplication\"\n",
    "numpy_calc(x,y,operation)"
   ]
  },
  {
   "cell_type": "markdown",
   "metadata": {},
   "source": [
    "## 2. Numpy Chessboard\n",
    "\n",
    "Create an numpy array with size `8 x 8` and fill the array with 1s and 0s, so that they are arranged like a chessboard. Try to use slicing, but other methods will also work. "
   ]
  },
  {
   "cell_type": "code",
   "execution_count": 4,
   "metadata": {},
   "outputs": [],
   "source": [
    "#<---YOUR CODE HERE\n",
    "    \n",
    "#<---YOUR CODE HERE"
   ]
  },
  {
   "cell_type": "code",
   "execution_count": 5,
   "metadata": {},
   "outputs": [
    {
     "name": "stdout",
     "output_type": "stream",
     "text": [
      "Python 3.8.5\n"
     ]
    }
   ],
   "source": [
    "!python --version"
   ]
  },
  {
   "cell_type": "markdown",
   "metadata": {},
   "source": [
    "# 3. Numpy Indexing\n",
    "\n",
    "We want to quickly acquire some values from a matrix in numpy with numpy indexing. Therefore load the numpy array in the .txt file _\"numpy-array.txt\"_ with the numpy function `np.loadtxt()`. Docs are here:https://docs.scipy.org/doc/numpy/reference/generated/numpy.loadtxt.html. \n",
    "\n",
    "Afterwards answer following questions, and try to use only numpy functions:\n",
    "- how many values are above 90?\n",
    "- where are the indices of these values? Return the first 5 as a list of tuples(row-index, column-index)\n",
    "- how many values are dividable by 7?\n",
    "- what is the max value, and how many times is it in the array? Return a tuple (max_value, count)\n",
    "- are there any value with decimals? \n",
    "- are all values positive?\n",
    "\n",
    "Fill out the provided function blocks and check the result!"
   ]
  },
  {
   "cell_type": "code",
   "execution_count": 3,
   "metadata": {},
   "outputs": [],
   "source": [
    "# get the values\n",
    "matrix_values = np.loadtxt(\"./res/numpy-array.txt\", dtype=np.dtype(float)) "
   ]
  },
  {
   "cell_type": "code",
   "execution_count": 12,
   "metadata": {},
   "outputs": [
    {
     "data": {
      "text/plain": [
       "array([[16., 68., 10., ..., 83., 72., 34.],\n",
       "       [63., 84., 51., ..., 55., 29., 50.],\n",
       "       [22., 77., 90., ..., 91., 45., 18.],\n",
       "       ...,\n",
       "       [45., 66.,  0., ..., 25., 79., 42.],\n",
       "       [15., 35., 64., ..., 49., 93., 53.],\n",
       "       [35., 51., 22., ..., 72., 18., 81.]])"
      ]
     },
     "execution_count": 12,
     "metadata": {},
     "output_type": "execute_result"
    }
   ],
   "source": [
    "matrix_values"
   ]
  },
  {
   "cell_type": "code",
   "execution_count": 14,
   "metadata": {},
   "outputs": [
    {
     "data": {
      "text/plain": [
       "100.0"
      ]
     },
     "execution_count": 14,
     "metadata": {},
     "output_type": "execute_result"
    }
   ],
   "source": [
    "matrix_values.max()"
   ]
  },
  {
   "cell_type": "code",
   "execution_count": 18,
   "metadata": {},
   "outputs": [
    {
     "data": {
      "text/plain": [
       "93"
      ]
     },
     "execution_count": 18,
     "metadata": {},
     "output_type": "execute_result"
    }
   ],
   "source": [
    "np.sum(matrix_values == matrix_values.max())"
   ]
  },
  {
   "cell_type": "code",
   "execution_count": null,
   "metadata": {},
   "outputs": [],
   "source": []
  },
  {
   "cell_type": "code",
   "execution_count": 8,
   "metadata": {},
   "outputs": [],
   "source": [
    "# How many above 90?\n",
    "def question1(data):\n",
    "    #<---YOUR CODE HERE\n",
    "    \n",
    "    #<---YOUR CODE HERE\n",
    "    return result\n",
    "\n",
    "# First 5 indices of values above 90\n",
    "def question2(data):\n",
    "    #<---YOUR CODE HERE\n",
    "    \n",
    "    #<---YOUR CODE HERE\n",
    "    return resultList\n",
    "\n",
    "#how many values are dividable by 7\n",
    "def question3(data):\n",
    "    #<---YOUR CODE HERE\n",
    "    \n",
    "    #<---YOUR CODE HERE\n",
    "    return result\n",
    "\n",
    "# max value and count of max value\n",
    "def question4(data):\n",
    "    #<---YOUR CODE HERE\n",
    "    \n",
    "    #<---YOUR CODE HERE\n",
    "    return (maxValue, countMaxValue)\n",
    "\n",
    "# are there any decimal values?\n",
    "def question5(data):\n",
    "    #<---YOUR CODE HERE\n",
    "    \n",
    "    #<---YOUR CODE HERE\n",
    "    return resultBool\n",
    "\n",
    "# are all positive?\n",
    "def question6(data):\n",
    "    #<---YOUR CODE HERE\n",
    "    \n",
    "    #<---YOUR CODE HERE\n",
    "    return resultBool"
   ]
  },
  {
   "cell_type": "code",
   "execution_count": null,
   "metadata": {},
   "outputs": [],
   "source": [
    "# test your results\n",
    "assert question1() == 1018\n",
    "\n",
    "assert question2a() == [(0, 6), (0, 8), (0, 13), (0, 20), (0, 27)]\n",
    "\n",
    "assert question3() == 1543\n",
    "\n",
    "assert question4() == (100, 93)\n",
    "\n",
    "assert question5() == False\n",
    "\n",
    "assert question6() == True"
   ]
  },
  {
   "cell_type": "markdown",
   "metadata": {},
   "source": [
    "## 4 Create DataFrames\n",
    "\n",
    "We want to create some DataFrames with given structure, therefore fill the values with random numbers or categories.\n",
    "- create one Dataframe by joining two Series, one with the category fruits, which has at least 5 different fruits. the other Series represent the price"
   ]
  },
  {
   "cell_type": "code",
   "execution_count": 10,
   "metadata": {},
   "outputs": [],
   "source": [
    "# Problem 1 \n"
   ]
  },
  {
   "cell_type": "code",
   "execution_count": null,
   "metadata": {},
   "outputs": [],
   "source": []
  },
  {
   "cell_type": "code",
   "execution_count": null,
   "metadata": {},
   "outputs": [],
   "source": []
  },
  {
   "cell_type": "code",
   "execution_count": null,
   "metadata": {},
   "outputs": [],
   "source": []
  },
  {
   "cell_type": "markdown",
   "metadata": {},
   "source": [
    "## 5 One Hot Encoding with Pandas\n",
    "\n",
    "use the function `pandas.get_dummies()` to one-hot-encode our dataset in _NewStudentPerformance.csv_. The documentation is here: https://pandas.pydata.org/pandas-docs/stable/reference/api/pandas.get_dummies.html. Create a sub-Dataframe, which holds only numerical values."
   ]
  },
  {
   "cell_type": "code",
   "execution_count": 20,
   "metadata": {},
   "outputs": [],
   "source": [
    "# hot encoding\n",
    "df_stu = pd.read_csv(\"res/NewStudentPerformance.csv\")"
   ]
  },
  {
   "cell_type": "code",
   "execution_count": 21,
   "metadata": {},
   "outputs": [
    {
     "data": {
      "text/html": [
       "<div>\n",
       "<style scoped>\n",
       "    .dataframe tbody tr th:only-of-type {\n",
       "        vertical-align: middle;\n",
       "    }\n",
       "\n",
       "    .dataframe tbody tr th {\n",
       "        vertical-align: top;\n",
       "    }\n",
       "\n",
       "    .dataframe thead th {\n",
       "        text-align: right;\n",
       "    }\n",
       "</style>\n",
       "<table border=\"1\" class=\"dataframe\">\n",
       "  <thead>\n",
       "    <tr style=\"text-align: right;\">\n",
       "      <th></th>\n",
       "      <th>python score</th>\n",
       "      <th>ids</th>\n",
       "      <th>writing score</th>\n",
       "      <th>lunch</th>\n",
       "      <th>race/ethnicity</th>\n",
       "      <th>gender</th>\n",
       "      <th>reading score</th>\n",
       "      <th>parental level of education</th>\n",
       "      <th>math score</th>\n",
       "      <th>test preparation course</th>\n",
       "    </tr>\n",
       "  </thead>\n",
       "  <tbody>\n",
       "    <tr>\n",
       "      <th>0</th>\n",
       "      <td>89</td>\n",
       "      <td>'6480'</td>\n",
       "      <td>74</td>\n",
       "      <td>standard</td>\n",
       "      <td>group B</td>\n",
       "      <td>female</td>\n",
       "      <td>72</td>\n",
       "      <td>bachelor's degree</td>\n",
       "      <td>72</td>\n",
       "      <td>none</td>\n",
       "    </tr>\n",
       "    <tr>\n",
       "      <th>1</th>\n",
       "      <td>70</td>\n",
       "      <td>'7374'</td>\n",
       "      <td>88</td>\n",
       "      <td>standard</td>\n",
       "      <td>group C</td>\n",
       "      <td>female</td>\n",
       "      <td>90</td>\n",
       "      <td>some college</td>\n",
       "      <td>69</td>\n",
       "      <td>completed</td>\n",
       "    </tr>\n",
       "    <tr>\n",
       "      <th>2</th>\n",
       "      <td>78</td>\n",
       "      <td>'1160'</td>\n",
       "      <td>93</td>\n",
       "      <td>standard</td>\n",
       "      <td>group B</td>\n",
       "      <td>female</td>\n",
       "      <td>95</td>\n",
       "      <td>master's degree</td>\n",
       "      <td>90</td>\n",
       "      <td>none</td>\n",
       "    </tr>\n",
       "    <tr>\n",
       "      <th>3</th>\n",
       "      <td>90</td>\n",
       "      <td>'3404'</td>\n",
       "      <td>44</td>\n",
       "      <td>free/reduced</td>\n",
       "      <td>group A</td>\n",
       "      <td>male</td>\n",
       "      <td>57</td>\n",
       "      <td>associate's degree</td>\n",
       "      <td>47</td>\n",
       "      <td>none</td>\n",
       "    </tr>\n",
       "    <tr>\n",
       "      <th>4</th>\n",
       "      <td>99</td>\n",
       "      <td>'9819'</td>\n",
       "      <td>75</td>\n",
       "      <td>standard</td>\n",
       "      <td>group C</td>\n",
       "      <td>male</td>\n",
       "      <td>78</td>\n",
       "      <td>some college</td>\n",
       "      <td>76</td>\n",
       "      <td>none</td>\n",
       "    </tr>\n",
       "    <tr>\n",
       "      <th>...</th>\n",
       "      <td>...</td>\n",
       "      <td>...</td>\n",
       "      <td>...</td>\n",
       "      <td>...</td>\n",
       "      <td>...</td>\n",
       "      <td>...</td>\n",
       "      <td>...</td>\n",
       "      <td>...</td>\n",
       "      <td>...</td>\n",
       "      <td>...</td>\n",
       "    </tr>\n",
       "    <tr>\n",
       "      <th>995</th>\n",
       "      <td>70</td>\n",
       "      <td>'8533'</td>\n",
       "      <td>95</td>\n",
       "      <td>standard</td>\n",
       "      <td>group E</td>\n",
       "      <td>female</td>\n",
       "      <td>99</td>\n",
       "      <td>master's degree</td>\n",
       "      <td>88</td>\n",
       "      <td>completed</td>\n",
       "    </tr>\n",
       "    <tr>\n",
       "      <th>996</th>\n",
       "      <td>96</td>\n",
       "      <td>'3840'</td>\n",
       "      <td>55</td>\n",
       "      <td>free/reduced</td>\n",
       "      <td>group C</td>\n",
       "      <td>male</td>\n",
       "      <td>55</td>\n",
       "      <td>high school</td>\n",
       "      <td>62</td>\n",
       "      <td>none</td>\n",
       "    </tr>\n",
       "    <tr>\n",
       "      <th>997</th>\n",
       "      <td>70</td>\n",
       "      <td>'1925'</td>\n",
       "      <td>65</td>\n",
       "      <td>free/reduced</td>\n",
       "      <td>group C</td>\n",
       "      <td>female</td>\n",
       "      <td>71</td>\n",
       "      <td>high school</td>\n",
       "      <td>59</td>\n",
       "      <td>completed</td>\n",
       "    </tr>\n",
       "    <tr>\n",
       "      <th>998</th>\n",
       "      <td>74</td>\n",
       "      <td>'4879'</td>\n",
       "      <td>77</td>\n",
       "      <td>standard</td>\n",
       "      <td>group D</td>\n",
       "      <td>female</td>\n",
       "      <td>78</td>\n",
       "      <td>some college</td>\n",
       "      <td>68</td>\n",
       "      <td>completed</td>\n",
       "    </tr>\n",
       "    <tr>\n",
       "      <th>999</th>\n",
       "      <td>98</td>\n",
       "      <td>'4697'</td>\n",
       "      <td>86</td>\n",
       "      <td>free/reduced</td>\n",
       "      <td>group D</td>\n",
       "      <td>female</td>\n",
       "      <td>86</td>\n",
       "      <td>some college</td>\n",
       "      <td>77</td>\n",
       "      <td>none</td>\n",
       "    </tr>\n",
       "  </tbody>\n",
       "</table>\n",
       "<p>1000 rows × 10 columns</p>\n",
       "</div>"
      ],
      "text/plain": [
       "     python score     ids  writing score         lunch race/ethnicity  gender  \\\n",
       "0              89  '6480'             74      standard        group B  female   \n",
       "1              70  '7374'             88      standard        group C  female   \n",
       "2              78  '1160'             93      standard        group B  female   \n",
       "3              90  '3404'             44  free/reduced        group A    male   \n",
       "4              99  '9819'             75      standard        group C    male   \n",
       "..            ...     ...            ...           ...            ...     ...   \n",
       "995            70  '8533'             95      standard        group E  female   \n",
       "996            96  '3840'             55  free/reduced        group C    male   \n",
       "997            70  '1925'             65  free/reduced        group C  female   \n",
       "998            74  '4879'             77      standard        group D  female   \n",
       "999            98  '4697'             86  free/reduced        group D  female   \n",
       "\n",
       "     reading score parental level of education  math score  \\\n",
       "0               72           bachelor's degree          72   \n",
       "1               90                some college          69   \n",
       "2               95             master's degree          90   \n",
       "3               57          associate's degree          47   \n",
       "4               78                some college          76   \n",
       "..             ...                         ...         ...   \n",
       "995             99             master's degree          88   \n",
       "996             55                 high school          62   \n",
       "997             71                 high school          59   \n",
       "998             78                some college          68   \n",
       "999             86                some college          77   \n",
       "\n",
       "    test preparation course  \n",
       "0                      none  \n",
       "1                 completed  \n",
       "2                      none  \n",
       "3                      none  \n",
       "4                      none  \n",
       "..                      ...  \n",
       "995               completed  \n",
       "996                    none  \n",
       "997               completed  \n",
       "998               completed  \n",
       "999                    none  \n",
       "\n",
       "[1000 rows x 10 columns]"
      ]
     },
     "execution_count": 21,
     "metadata": {},
     "output_type": "execute_result"
    }
   ],
   "source": [
    "df_stu"
   ]
  },
  {
   "cell_type": "code",
   "execution_count": null,
   "metadata": {},
   "outputs": [],
   "source": []
  },
  {
   "cell_type": "code",
   "execution_count": null,
   "metadata": {},
   "outputs": [],
   "source": []
  },
  {
   "cell_type": "markdown",
   "metadata": {},
   "source": [
    "# Matplotlib\n",
    "---"
   ]
  },
  {
   "cell_type": "markdown",
   "metadata": {},
   "source": [
    "# 6 Basic line plot\n",
    "- Plot 1: Create a line plot for the function $f(x)=x^2$, for x in range between 0,10, using 100 x-samples.\n",
    "- Plot 2: Create a scatter plot for the function $f(x)=x^2$, for x in range between 0,10, using 100 x-samples."
   ]
  },
  {
   "cell_type": "code",
   "execution_count": 4,
   "metadata": {},
   "outputs": [],
   "source": []
  },
  {
   "cell_type": "code",
   "execution_count": null,
   "metadata": {},
   "outputs": [],
   "source": []
  },
  {
   "cell_type": "code",
   "execution_count": 6,
   "metadata": {},
   "outputs": [
    {
     "data": {
      "image/png": "[encoded data removed]",
      "text/plain": [
       "<Figure size 432x288 with 1 Axes>"
      ]
     },
     "metadata": {
      "needs_background": "light"
     },
     "output_type": "display_data"
    }
   ],
   "source": [
    "# Plot 1 should look like this"
   ]
  },
  {
   "cell_type": "code",
   "execution_count": 7,
   "metadata": {},
   "outputs": [
    {
     "data": {
      "text/plain": [
       "<matplotlib.collections.PathCollection at 0x20d192c19a0>"
      ]
     },
     "execution_count": 7,
     "metadata": {},
     "output_type": "execute_result"
    },
    {
     "data": {
      "image/png": "[encoded data removed]",
      "text/plain": [
       "<Figure size 432x288 with 1 Axes>"
      ]
     },
     "metadata": {
      "needs_background": "light"
     },
     "output_type": "display_data"
    }
   ],
   "source": [
    "# Plot 2 should look like this"
   ]
  },
  {
   "cell_type": "code",
   "execution_count": null,
   "metadata": {},
   "outputs": [],
   "source": []
  },
  {
   "cell_type": "code",
   "execution_count": null,
   "metadata": {},
   "outputs": [],
   "source": []
  },
  {
   "cell_type": "markdown",
   "metadata": {},
   "source": [
    "# 7 Plotting multiple functions in 1 figure\n",
    "- Create a line plot for the function $f(x)=x^2$, for x in range between 0,10, using 100 x-samples.\n",
    "- Create a line plot for the function $f(x)=x^3+4$, for x in range between 0,10, using 100 x-samples.\n",
    "- Plot both functions in the same figure, with figsize (15,10)\n",
    "- Label the axes\n",
    "- Insert a legend that describes both functions. You should label the functions with $f(x)=x^2$, and $f(x)=x^2+4$, respectively, and display it in the legend.\n",
    "- limit the x-axes range to to values between 1-5\n",
    "- limit the y-axes range to to values between 0-30\n",
    "- label the x-axes with a label of your choice\n",
    "- label the y-axes with a label of your choice\n",
    "- display a title of choice for the figure"
   ]
  },
  {
   "cell_type": "code",
   "execution_count": 11,
   "metadata": {},
   "outputs": [],
   "source": [
    "# Your code\n"
   ]
  },
  {
   "cell_type": "code",
   "execution_count": null,
   "metadata": {},
   "outputs": [],
   "source": []
  },
  {
   "cell_type": "code",
   "execution_count": null,
   "metadata": {},
   "outputs": [],
   "source": []
  },
  {
   "cell_type": "code",
   "execution_count": 1,
   "metadata": {},
   "outputs": [],
   "source": [
    "# Your plot should look like this"
   ]
  },
  {
   "cell_type": "code",
   "execution_count": null,
   "metadata": {},
   "outputs": [],
   "source": []
  }
 ],
 "metadata": {
  "kernelspec": {
   "display_name": "Python 3",
   "language": "python",
   "name": "python3"
  },
  "language_info": {
   "codemirror_mode": {
    "name": "ipython",
    "version": 3
   },
   "file_extension": ".py",
   "mimetype": "text/x-python",
   "name": "python",
   "nbconvert_exporter": "python",
   "pygments_lexer": "ipython3",
   "version": "3.7.4"
  }
 },
 "nbformat": 4,
 "nbformat_minor": 4
}
