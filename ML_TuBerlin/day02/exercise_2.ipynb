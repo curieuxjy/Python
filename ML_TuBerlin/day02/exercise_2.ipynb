{
 "cells": [
  {
   "cell_type": "markdown",
   "metadata": {},
   "source": [
    "# Day 2 Exercise\n",
    "\n",
    "This notebook will challenge your numpy, pandas, matplotlib skills!\n",
    "\n",
    "To test your code, simply add any number of cells! The provided function headers should give you some help and a hint to a solution, but you don't have to use them!\n",
    "\n",
    "**Remember**: \n",
    "- test your code a lot, to see which changes have which effects. \n",
    "- it is also helpful to try to solve the assignment in small steps.\n",
    "- everything you need were covered in the lecture, try to look there before using google."
   ]
  },
  {
   "cell_type": "code",
   "execution_count": 1,
   "metadata": {},
   "outputs": [],
   "source": [
    "import numpy as np\n",
    "import pandas as pd\n",
    "import matplotlib.pyplot as plt"
   ]
  },
  {
   "cell_type": "markdown",
   "metadata": {},
   "source": [
    "## 1. Write a Numpy Matrix Calculator\n",
    "\n",
    "Similar to the first exercise, finsih the function `numpy_calc(arr1, arr2, operation)`, which takes in two numpy arrays, and returns the result of an operation. \n",
    "- We only allow arrays with maximal two dimensions. \n",
    "- Possible operations are: \n",
    "    1. **add**, \n",
    "    2. **subtract**, \n",
    "    3. **element-multiplication** \n",
    "    4. **matrix-multiplication**\n",
    "    5. **sum**\n",
    "    6. **min**\n",
    "    7. **max**\n",
    "- for the operations **add**, **subtract**, **multiplication**, you need to check if the sizes of the two arrays are equal (We don't want to broadcast!).\n",
    "- **matrix-multiplication** also works if the number of rows of `arr1` are equal two the number of columns of `arr2`. \n",
    "- the other operations **sum**, **min** and **max** should be applied to a single array, therefore return a tuple containing the desired value for both arrays.\n",
    "- if conditions are not met, print out a error message and return `None`"
   ]
  },
  {
   "cell_type": "code",
   "execution_count": 5,
   "metadata": {},
   "outputs": [],
   "source": [
    "def numpy_calc(arr1, arr2, operation):\n",
    "    #<---YOUR CODE HERE\n",
    "    # 넘파이 어레이가 입력으로 들어온다는 점에서 exercise 1과 다름\n",
    "    available_ops = [\"add\", \"subtract\", \"element-multiplication\",\n",
    "                    \"matrix-multiplication\", \"sum\", \"min\", \"max\"]\n",
    "    if not (type(arr1) is np.ndarray and type(arr2) is np.ndarray):\n",
    "        # 타입 확인할때 np.ndarray임! np.array가 아니라!\n",
    "        print(\"넘파이 어레이 형식으로 입력해주십시오.\")\n",
    "        return # 함수 빠져나오기\n",
    "    \n",
    "    # 가능한 오퍼레이션인지 확인\n",
    "    elif operation not in available_ops:\n",
    "        print(\"적용가능한 연산이 아닙니다.\")\n",
    "        return\n",
    "    \n",
    "    # 이제 연산 시작\n",
    "    else:\n",
    "        # arr1과 arr2의 크기가 같은지 확인하는 불리안\n",
    "        # \"add\", \"subtract\", \"element-multiplication\" 연산들에서 조건 확인해야 함\n",
    "        isShapeEqual = (arr1.shape == arr2.shape)\n",
    "        \n",
    "        if operation ==\"add\" and isShapeEqual:\n",
    "            return arr1+arr2\n",
    "        elif operation ==\"subtract\" and isShapeEqual:\n",
    "            return arr1-arr2\n",
    "        elif operation ==\"element-multiplication\" and isShapeEqual:\n",
    "            return arr1*arr2\n",
    "        # 내적은 차원 크기 주의\n",
    "        # 앞 행렬의 '행'과 뒷 행렬의 '열'\n",
    "        elif operation ==\"matrix-multiplication\" and arr1.shape[0] == arr2.shape[0]:\n",
    "            # transpose\n",
    "            return np.dot(arr1.T, arr2)\n",
    "        elif operation ==\"sum\":\n",
    "            return np.sum(arr1), np.sum(arr2)\n",
    "        elif operation ==\"max\":\n",
    "            return np.max(arr1), np.max(arr2)\n",
    "        elif operation ==\"min\":\n",
    "            return np.min(arr1), np.min(arr2)\n",
    "        else:\n",
    "            print(\"연산하는 어레이들의 차원을 맞춰주세요.\")\n",
    "    \n",
    "    #<---YOUR CODE HERE\n",
    "    return result"
   ]
  },
  {
   "cell_type": "code",
   "execution_count": 6,
   "metadata": {},
   "outputs": [
    {
     "data": {
      "text/plain": [
       "array([[7]])"
      ]
     },
     "execution_count": 6,
     "metadata": {},
     "output_type": "execute_result"
    }
   ],
   "source": [
    "# Check this example\n",
    "x = np.array([[2],\n",
    "              [1]])\n",
    "y = np.array([[3],\n",
    "              [1]])\n",
    "operation = \"matrix-multiplication\"\n",
    "numpy_calc(x,y,operation)"
   ]
  },
  {
   "cell_type": "code",
   "execution_count": 7,
   "metadata": {},
   "outputs": [
    {
     "data": {
      "text/plain": [
       "array([[6],\n",
       "       [1]])"
      ]
     },
     "execution_count": 7,
     "metadata": {},
     "output_type": "execute_result"
    }
   ],
   "source": [
    "x = np.array([[2],\n",
    "              [1]])\n",
    "y = np.array([[3],\n",
    "              [1]])\n",
    "operation = \"element-multiplication\"\n",
    "numpy_calc(x,y,operation)"
   ]
  },
  {
   "cell_type": "markdown",
   "metadata": {},
   "source": [
    "## 2. Numpy Chessboard\n",
    "\n",
    "Create an numpy array with size `8 x 8` and fill the array with 1s and 0s, so that they are arranged like a chessboard. Try to use slicing, but other methods will also work. "
   ]
  },
  {
   "cell_type": "code",
   "execution_count": 11,
   "metadata": {},
   "outputs": [
    {
     "name": "stdout",
     "output_type": "stream",
     "text": [
      "[[0. 0. 0. 0. 0. 0. 0. 0.]\n",
      " [0. 0. 0. 0. 0. 0. 0. 0.]\n",
      " [0. 0. 0. 0. 0. 0. 0. 0.]\n",
      " [0. 0. 0. 0. 0. 0. 0. 0.]\n",
      " [0. 0. 0. 0. 0. 0. 0. 0.]\n",
      " [0. 0. 0. 0. 0. 0. 0. 0.]\n",
      " [0. 0. 0. 0. 0. 0. 0. 0.]\n",
      " [0. 0. 0. 0. 0. 0. 0. 0.]]\n"
     ]
    }
   ],
   "source": [
    "#<---YOUR CODE HERE\n",
    "A = np.zeros((8,8))\n",
    "print(A)\n",
    "#<---YOUR CODE HERE"
   ]
  },
  {
   "cell_type": "code",
   "execution_count": 12,
   "metadata": {},
   "outputs": [
    {
     "data": {
      "text/plain": [
       "array([[1., 0., 1., 0., 1., 0., 1., 0.],\n",
       "       [0., 0., 0., 0., 0., 0., 0., 0.],\n",
       "       [1., 0., 1., 0., 1., 0., 1., 0.],\n",
       "       [0., 0., 0., 0., 0., 0., 0., 0.],\n",
       "       [1., 0., 1., 0., 1., 0., 1., 0.],\n",
       "       [0., 0., 0., 0., 0., 0., 0., 0.],\n",
       "       [1., 0., 1., 0., 1., 0., 1., 0.],\n",
       "       [0., 0., 0., 0., 0., 0., 0., 0.]])"
      ]
     },
     "execution_count": 12,
     "metadata": {},
     "output_type": "execute_result"
    }
   ],
   "source": [
    "A = np.zeros((8,8))\n",
    "A[0:8:2, 0:8:2] = 1 #시작 포함 끝 안포함\n",
    "A"
   ]
  },
  {
   "cell_type": "code",
   "execution_count": 13,
   "metadata": {},
   "outputs": [
    {
     "data": {
      "text/plain": [
       "array([[0., 0., 0., 0., 0., 0., 0., 0.],\n",
       "       [0., 1., 0., 1., 0., 1., 0., 1.],\n",
       "       [0., 0., 0., 0., 0., 0., 0., 0.],\n",
       "       [0., 1., 0., 1., 0., 1., 0., 1.],\n",
       "       [0., 0., 0., 0., 0., 0., 0., 0.],\n",
       "       [0., 1., 0., 1., 0., 1., 0., 1.],\n",
       "       [0., 0., 0., 0., 0., 0., 0., 0.],\n",
       "       [0., 1., 0., 1., 0., 1., 0., 1.]])"
      ]
     },
     "execution_count": 13,
     "metadata": {},
     "output_type": "execute_result"
    }
   ],
   "source": [
    "A = np.zeros((8,8))\n",
    "A[1::2, 1::2] = 1\n",
    "A"
   ]
  },
  {
   "cell_type": "code",
   "execution_count": 14,
   "metadata": {},
   "outputs": [
    {
     "data": {
      "text/plain": [
       "array([[0., 1., 0., 1., 0., 1., 0., 1.],\n",
       "       [0., 1., 0., 1., 0., 1., 0., 1.],\n",
       "       [0., 1., 0., 1., 0., 1., 0., 1.],\n",
       "       [0., 1., 0., 1., 0., 1., 0., 1.]])"
      ]
     },
     "execution_count": 14,
     "metadata": {},
     "output_type": "execute_result"
    }
   ],
   "source": [
    "A[1:8:2]"
   ]
  },
  {
   "cell_type": "markdown",
   "metadata": {},
   "source": [
    "# 3. Numpy Indexing\n",
    "\n",
    "We want to quickly acquire some values from a matrix in numpy with numpy indexing. Therefore load the numpy array in the .txt file _\"numpy-array.txt\"_ with the numpy function `np.loadtxt()`. Docs are here:https://docs.scipy.org/doc/numpy/reference/generated/numpy.loadtxt.html. \n",
    "\n",
    "Afterwards answer following questions, and try to use only `numpy functions`:\n",
    "- how many values are above 90?\n",
    "- where are the indices of these values? Return the first 5 as a list of tuples(row-index, column-index)\n",
    "- how many values are dividable by 7?\n",
    "- what is the max value, and how many times is it in the array? Return a tuple (max_value, count)\n",
    "- are there any value with decimals? \n",
    "- are all values positive?\n",
    "\n",
    "Fill out the provided function blocks and check the result!"
   ]
  },
  {
   "cell_type": "code",
   "execution_count": 26,
   "metadata": {},
   "outputs": [],
   "source": [
    "# get the values\n",
    "matrix_values = np.loadtxt(\"./res/numpy-array.txt\", dtype=np.dtype(float)) "
   ]
  },
  {
   "cell_type": "code",
   "execution_count": 31,
   "metadata": {},
   "outputs": [
    {
     "data": {
      "text/plain": [
       "(100, 100)"
      ]
     },
     "execution_count": 31,
     "metadata": {},
     "output_type": "execute_result"
    }
   ],
   "source": [
    "matrix_values.shape"
   ]
  },
  {
   "cell_type": "code",
   "execution_count": 28,
   "metadata": {},
   "outputs": [
    {
     "data": {
      "text/plain": [
       "100.0"
      ]
     },
     "execution_count": 28,
     "metadata": {},
     "output_type": "execute_result"
    }
   ],
   "source": [
    "matrix_values.max()"
   ]
  },
  {
   "cell_type": "code",
   "execution_count": 29,
   "metadata": {},
   "outputs": [
    {
     "data": {
      "text/plain": [
       "93"
      ]
     },
     "execution_count": 29,
     "metadata": {},
     "output_type": "execute_result"
    }
   ],
   "source": [
    "np.sum(matrix_values == matrix_values.max())"
   ]
  },
  {
   "cell_type": "code",
   "execution_count": 19,
   "metadata": {},
   "outputs": [
    {
     "data": {
      "text/plain": [
       "array([[False, False, False, ..., False, False, False],\n",
       "       [False, False, False, ..., False, False, False],\n",
       "       [False, False, False, ..., False, False, False],\n",
       "       ...,\n",
       "       [False, False, False, ..., False, False, False],\n",
       "       [False, False, False, ..., False, False, False],\n",
       "       [False, False, False, ..., False, False, False]])"
      ]
     },
     "execution_count": 19,
     "metadata": {},
     "output_type": "execute_result"
    }
   ],
   "source": [
    "matrix_values == matrix_values.max()"
   ]
  },
  {
   "cell_type": "code",
   "execution_count": 21,
   "metadata": {},
   "outputs": [
    {
     "data": {
      "text/plain": [
       "array([  0., 100.])"
      ]
     },
     "execution_count": 21,
     "metadata": {},
     "output_type": "execute_result"
    }
   ],
   "source": [
    "np.unique((matrix_values == matrix_values.max())*matrix_values)"
   ]
  },
  {
   "cell_type": "code",
   "execution_count": 58,
   "metadata": {},
   "outputs": [
    {
     "data": {
      "text/plain": [
       "'1.19.5'"
      ]
     },
     "execution_count": 58,
     "metadata": {},
     "output_type": "execute_result"
    }
   ],
   "source": [
    "np.__version__"
   ]
  },
  {
   "cell_type": "code",
   "execution_count": 67,
   "metadata": {},
   "outputs": [],
   "source": [
    "# How many above 90?\n",
    "def question1(data):\n",
    "    result = np.sum(data > 90)\n",
    "    return result\n",
    "\n",
    "# First 5 indices of values above 90\n",
    "# 90보다 큰 값들 중 처음으로 나오는 5개의 숫자들 위치 찾기\n",
    "def question2(data):\n",
    "    rows, cols = np.nonzero(data>90)\n",
    "    n=5\n",
    "    resultList = []\n",
    "    print(rows, cols)\n",
    "    for x in range(n):\n",
    "        resultList.append((rows[x], cols[x]))\n",
    "        print(data[rows[x], cols[x]], end=\", \")\n",
    "    # print(resultList)\n",
    "    return resultList\n",
    "\n",
    "#how many values are dividable by 7\n",
    "def question3(data):\n",
    "    result = np.sum(data%7==0)\n",
    "    return result\n",
    "\n",
    "# max value and count of max value\n",
    "def question4(data):\n",
    "    maxValue = data.max()\n",
    "    countMaxValue = np.sum(data == data.max())\n",
    "    return (maxValue, countMaxValue)\n",
    "\n",
    "# are there any decimal values?\n",
    "def question5(data):\n",
    "    # 소수가 있는지 확인\n",
    "    # https://numpy.org/doc/stable/reference/generated/numpy.ndarray.round.html#numpy.ndarray.round\n",
    "    resultBool = np.any(data-np.round(data) != 0)\n",
    "    # 하나라도 있다면 any\n",
    "    return resultBool\n",
    "\n",
    "# are all positive?(= 0이상인지?)\n",
    "def question6(data):\n",
    "    resultBool = np.all(data >= 0)\n",
    "    return resultBool"
   ]
  },
  {
   "cell_type": "code",
   "execution_count": 68,
   "metadata": {},
   "outputs": [
    {
     "name": "stdout",
     "output_type": "stream",
     "text": [
      "[ 0  0  0 ... 99 99 99] [ 6  8 13 ... 63 64 74]\n",
      "94.0, 93.0, 92.0, 96.0, 93.0, "
     ]
    }
   ],
   "source": [
    "# test your results\n",
    "assert question1(matrix_values) == 1018\n",
    "\n",
    "assert question2(matrix_values) == [(0, 6), (0, 8), (0, 13), (0, 20), (0, 27)]\n",
    "\n",
    "assert question3(matrix_values) == 1543\n",
    "\n",
    "assert question4(matrix_values) == (100, 93)\n",
    "\n",
    "assert question5(matrix_values) == False\n",
    "\n",
    "assert question6(matrix_values) == True"
   ]
  },
  {
   "cell_type": "markdown",
   "metadata": {},
   "source": [
    "## 4 Create DataFrames\n",
    "\n",
    "We want to create some DataFrames with given structure, therefore fill the values with random numbers or categories.\n",
    "- create one Dataframe by joining two Series, one with `the category fruits`, which has at least 5 different fruits. the other Series represent `the price`"
   ]
  },
  {
   "cell_type": "code",
   "execution_count": 69,
   "metadata": {},
   "outputs": [],
   "source": [
    "# Problem 1 \n",
    "fruits = [\"apple\", \"banana\", \"kiwi\", \"orange\", \"melon\"]\n",
    "prices = np.round( np.random.rand(len(fruits)) * 10, decimals=2)"
   ]
  },
  {
   "cell_type": "code",
   "execution_count": 70,
   "metadata": {},
   "outputs": [
    {
     "data": {
      "text/plain": [
       "(['apple', 'banana', 'kiwi', 'orange', 'melon'],\n",
       " array([7.42, 5.65, 1.72, 9.89, 7.88]))"
      ]
     },
     "execution_count": 70,
     "metadata": {},
     "output_type": "execute_result"
    }
   ],
   "source": [
    "fruits, prices"
   ]
  },
  {
   "cell_type": "code",
   "execution_count": 71,
   "metadata": {},
   "outputs": [
    {
     "data": {
      "text/html": [
       "<div>\n",
       "<style scoped>\n",
       "    .dataframe tbody tr th:only-of-type {\n",
       "        vertical-align: middle;\n",
       "    }\n",
       "\n",
       "    .dataframe tbody tr th {\n",
       "        vertical-align: top;\n",
       "    }\n",
       "\n",
       "    .dataframe thead th {\n",
       "        text-align: right;\n",
       "    }\n",
       "</style>\n",
       "<table border=\"1\" class=\"dataframe\">\n",
       "  <thead>\n",
       "    <tr style=\"text-align: right;\">\n",
       "      <th></th>\n",
       "      <th>name</th>\n",
       "      <th>price</th>\n",
       "    </tr>\n",
       "  </thead>\n",
       "  <tbody>\n",
       "    <tr>\n",
       "      <th>0</th>\n",
       "      <td>apple</td>\n",
       "      <td>7.42</td>\n",
       "    </tr>\n",
       "    <tr>\n",
       "      <th>1</th>\n",
       "      <td>banana</td>\n",
       "      <td>5.65</td>\n",
       "    </tr>\n",
       "    <tr>\n",
       "      <th>2</th>\n",
       "      <td>kiwi</td>\n",
       "      <td>1.72</td>\n",
       "    </tr>\n",
       "    <tr>\n",
       "      <th>3</th>\n",
       "      <td>orange</td>\n",
       "      <td>9.89</td>\n",
       "    </tr>\n",
       "    <tr>\n",
       "      <th>4</th>\n",
       "      <td>melon</td>\n",
       "      <td>7.88</td>\n",
       "    </tr>\n",
       "  </tbody>\n",
       "</table>\n",
       "</div>"
      ],
      "text/plain": [
       "     name  price\n",
       "0   apple   7.42\n",
       "1  banana   5.65\n",
       "2    kiwi   1.72\n",
       "3  orange   9.89\n",
       "4   melon   7.88"
      ]
     },
     "execution_count": 71,
     "metadata": {},
     "output_type": "execute_result"
    }
   ],
   "source": [
    "s1 = pd.Series(fruits, dtype=\"category\", name=\"name\")\n",
    "s2 = pd.Series(prices, name=\"price\")\n",
    "df = pd.concat([s1, s2], axis=1)\n",
    "df"
   ]
  },
  {
   "cell_type": "code",
   "execution_count": 73,
   "metadata": {},
   "outputs": [
    {
     "data": {
      "text/plain": [
       "(pandas.core.series.Series, pandas.core.frame.DataFrame)"
      ]
     },
     "execution_count": 73,
     "metadata": {},
     "output_type": "execute_result"
    }
   ],
   "source": [
    "type(s1), type(df)"
   ]
  },
  {
   "cell_type": "code",
   "execution_count": 74,
   "metadata": {},
   "outputs": [
    {
     "data": {
      "text/plain": [
       "name     category\n",
       "price     float64\n",
       "dtype: object"
      ]
     },
     "execution_count": 74,
     "metadata": {},
     "output_type": "execute_result"
    }
   ],
   "source": [
    "df.dtypes"
   ]
  },
  {
   "cell_type": "markdown",
   "metadata": {},
   "source": [
    "## 5 One Hot Encoding with Pandas\n",
    "\n",
    "use the function `pandas.get_dummies()` to one-hot-encode our dataset in _NewStudentPerformance.csv_. The documentation is here: https://pandas.pydata.org/pandas-docs/stable/reference/api/pandas.get_dummies.html. Create a sub-Dataframe, which holds only numerical values."
   ]
  },
  {
   "cell_type": "code",
   "execution_count": 75,
   "metadata": {},
   "outputs": [],
   "source": [
    "# hot encoding\n",
    "df_stu = pd.read_csv(\"res/NewStudentPerformance.csv\")"
   ]
  },
  {
   "cell_type": "code",
   "execution_count": 76,
   "metadata": {},
   "outputs": [
    {
     "data": {
      "text/html": [
       "<div>\n",
       "<style scoped>\n",
       "    .dataframe tbody tr th:only-of-type {\n",
       "        vertical-align: middle;\n",
       "    }\n",
       "\n",
       "    .dataframe tbody tr th {\n",
       "        vertical-align: top;\n",
       "    }\n",
       "\n",
       "    .dataframe thead th {\n",
       "        text-align: right;\n",
       "    }\n",
       "</style>\n",
       "<table border=\"1\" class=\"dataframe\">\n",
       "  <thead>\n",
       "    <tr style=\"text-align: right;\">\n",
       "      <th></th>\n",
       "      <th>python score</th>\n",
       "      <th>ids</th>\n",
       "      <th>writing score</th>\n",
       "      <th>lunch</th>\n",
       "      <th>race/ethnicity</th>\n",
       "      <th>gender</th>\n",
       "      <th>reading score</th>\n",
       "      <th>parental level of education</th>\n",
       "      <th>math score</th>\n",
       "      <th>test preparation course</th>\n",
       "    </tr>\n",
       "  </thead>\n",
       "  <tbody>\n",
       "    <tr>\n",
       "      <th>0</th>\n",
       "      <td>89</td>\n",
       "      <td>'6480'</td>\n",
       "      <td>74</td>\n",
       "      <td>standard</td>\n",
       "      <td>group B</td>\n",
       "      <td>female</td>\n",
       "      <td>72</td>\n",
       "      <td>bachelor's degree</td>\n",
       "      <td>72</td>\n",
       "      <td>none</td>\n",
       "    </tr>\n",
       "    <tr>\n",
       "      <th>1</th>\n",
       "      <td>70</td>\n",
       "      <td>'7374'</td>\n",
       "      <td>88</td>\n",
       "      <td>standard</td>\n",
       "      <td>group C</td>\n",
       "      <td>female</td>\n",
       "      <td>90</td>\n",
       "      <td>some college</td>\n",
       "      <td>69</td>\n",
       "      <td>completed</td>\n",
       "    </tr>\n",
       "    <tr>\n",
       "      <th>2</th>\n",
       "      <td>78</td>\n",
       "      <td>'1160'</td>\n",
       "      <td>93</td>\n",
       "      <td>standard</td>\n",
       "      <td>group B</td>\n",
       "      <td>female</td>\n",
       "      <td>95</td>\n",
       "      <td>master's degree</td>\n",
       "      <td>90</td>\n",
       "      <td>none</td>\n",
       "    </tr>\n",
       "  </tbody>\n",
       "</table>\n",
       "</div>"
      ],
      "text/plain": [
       "   python score     ids  writing score     lunch race/ethnicity  gender  \\\n",
       "0            89  '6480'             74  standard        group B  female   \n",
       "1            70  '7374'             88  standard        group C  female   \n",
       "2            78  '1160'             93  standard        group B  female   \n",
       "\n",
       "   reading score parental level of education  math score  \\\n",
       "0             72           bachelor's degree          72   \n",
       "1             90                some college          69   \n",
       "2             95             master's degree          90   \n",
       "\n",
       "  test preparation course  \n",
       "0                    none  \n",
       "1               completed  \n",
       "2                    none  "
      ]
     },
     "execution_count": 76,
     "metadata": {},
     "output_type": "execute_result"
    }
   ],
   "source": [
    "df_stu.head(3)"
   ]
  },
  {
   "cell_type": "code",
   "execution_count": 77,
   "metadata": {},
   "outputs": [
    {
     "name": "stdout",
     "output_type": "stream",
     "text": [
      "<class 'pandas.core.frame.DataFrame'>\n",
      "RangeIndex: 1000 entries, 0 to 999\n",
      "Data columns (total 10 columns):\n",
      " #   Column                       Non-Null Count  Dtype \n",
      "---  ------                       --------------  ----- \n",
      " 0   python score                 1000 non-null   int64 \n",
      " 1   ids                          1000 non-null   object\n",
      " 2   writing score                1000 non-null   int64 \n",
      " 3   lunch                        1000 non-null   object\n",
      " 4   race/ethnicity               1000 non-null   object\n",
      " 5   gender                       1000 non-null   object\n",
      " 6   reading score                1000 non-null   int64 \n",
      " 7   parental level of education  1000 non-null   object\n",
      " 8   math score                   1000 non-null   int64 \n",
      " 9   test preparation course      1000 non-null   object\n",
      "dtypes: int64(4), object(6)\n",
      "memory usage: 78.2+ KB\n"
     ]
    }
   ],
   "source": [
    "df_stu.info()"
   ]
  },
  {
   "cell_type": "code",
   "execution_count": 79,
   "metadata": {},
   "outputs": [
    {
     "data": {
      "text/html": [
       "<div>\n",
       "<style scoped>\n",
       "    .dataframe tbody tr th:only-of-type {\n",
       "        vertical-align: middle;\n",
       "    }\n",
       "\n",
       "    .dataframe tbody tr th {\n",
       "        vertical-align: top;\n",
       "    }\n",
       "\n",
       "    .dataframe thead th {\n",
       "        text-align: right;\n",
       "    }\n",
       "</style>\n",
       "<table border=\"1\" class=\"dataframe\">\n",
       "  <thead>\n",
       "    <tr style=\"text-align: right;\">\n",
       "      <th></th>\n",
       "      <th>python score</th>\n",
       "      <th>writing score</th>\n",
       "      <th>reading score</th>\n",
       "      <th>math score</th>\n",
       "    </tr>\n",
       "  </thead>\n",
       "  <tbody>\n",
       "    <tr>\n",
       "      <th>0</th>\n",
       "      <td>89</td>\n",
       "      <td>74</td>\n",
       "      <td>72</td>\n",
       "      <td>72</td>\n",
       "    </tr>\n",
       "    <tr>\n",
       "      <th>1</th>\n",
       "      <td>70</td>\n",
       "      <td>88</td>\n",
       "      <td>90</td>\n",
       "      <td>69</td>\n",
       "    </tr>\n",
       "    <tr>\n",
       "      <th>2</th>\n",
       "      <td>78</td>\n",
       "      <td>93</td>\n",
       "      <td>95</td>\n",
       "      <td>90</td>\n",
       "    </tr>\n",
       "  </tbody>\n",
       "</table>\n",
       "</div>"
      ],
      "text/plain": [
       "   python score  writing score  reading score  math score\n",
       "0            89             74             72          72\n",
       "1            70             88             90          69\n",
       "2            78             93             95          90"
      ]
     },
     "execution_count": 79,
     "metadata": {},
     "output_type": "execute_result"
    }
   ],
   "source": [
    "df_stu.select_dtypes([\"int64\", \"float64\"]).head(3)"
   ]
  },
  {
   "cell_type": "code",
   "execution_count": 82,
   "metadata": {},
   "outputs": [
    {
     "name": "stdout",
     "output_type": "stream",
     "text": [
      "Index(['ids', 'lunch', 'race/ethnicity', 'gender',\n",
      "       'parental level of education', 'test preparation course'],\n",
      "      dtype='object')\n"
     ]
    }
   ],
   "source": [
    "categorical_columns = df_stu.select_dtypes(\"object\").columns\n",
    "print(categorical_columns)"
   ]
  },
  {
   "cell_type": "code",
   "execution_count": 83,
   "metadata": {},
   "outputs": [
    {
     "data": {
      "text/plain": [
       "Index(['lunch', 'race/ethnicity', 'gender', 'parental level of education',\n",
       "       'test preparation course'],\n",
       "      dtype='object')"
      ]
     },
     "execution_count": 83,
     "metadata": {},
     "output_type": "execute_result"
    }
   ],
   "source": [
    "# 열 인덱스를 drop\n",
    "categorical_columns = categorical_columns.drop(\"ids\")\n",
    "categorical_columns"
   ]
  },
  {
   "cell_type": "code",
   "execution_count": 85,
   "metadata": {},
   "outputs": [
    {
     "data": {
      "text/html": [
       "<div>\n",
       "<style scoped>\n",
       "    .dataframe tbody tr th:only-of-type {\n",
       "        vertical-align: middle;\n",
       "    }\n",
       "\n",
       "    .dataframe tbody tr th {\n",
       "        vertical-align: top;\n",
       "    }\n",
       "\n",
       "    .dataframe thead th {\n",
       "        text-align: right;\n",
       "    }\n",
       "</style>\n",
       "<table border=\"1\" class=\"dataframe\">\n",
       "  <thead>\n",
       "    <tr style=\"text-align: right;\">\n",
       "      <th></th>\n",
       "      <th>python score</th>\n",
       "      <th>ids</th>\n",
       "      <th>writing score</th>\n",
       "      <th>reading score</th>\n",
       "      <th>math score</th>\n",
       "      <th>lunch_free/reduced</th>\n",
       "      <th>lunch_standard</th>\n",
       "      <th>race/ethnicity_group A</th>\n",
       "      <th>race/ethnicity_group B</th>\n",
       "      <th>race/ethnicity_group C</th>\n",
       "      <th>...</th>\n",
       "      <th>gender_female</th>\n",
       "      <th>gender_male</th>\n",
       "      <th>parental level of education_associate's degree</th>\n",
       "      <th>parental level of education_bachelor's degree</th>\n",
       "      <th>parental level of education_high school</th>\n",
       "      <th>parental level of education_master's degree</th>\n",
       "      <th>parental level of education_some college</th>\n",
       "      <th>parental level of education_some high school</th>\n",
       "      <th>test preparation course_completed</th>\n",
       "      <th>test preparation course_none</th>\n",
       "    </tr>\n",
       "  </thead>\n",
       "  <tbody>\n",
       "    <tr>\n",
       "      <th>0</th>\n",
       "      <td>89</td>\n",
       "      <td>'6480'</td>\n",
       "      <td>74</td>\n",
       "      <td>72</td>\n",
       "      <td>72</td>\n",
       "      <td>0</td>\n",
       "      <td>1</td>\n",
       "      <td>0</td>\n",
       "      <td>1</td>\n",
       "      <td>0</td>\n",
       "      <td>...</td>\n",
       "      <td>1</td>\n",
       "      <td>0</td>\n",
       "      <td>0</td>\n",
       "      <td>1</td>\n",
       "      <td>0</td>\n",
       "      <td>0</td>\n",
       "      <td>0</td>\n",
       "      <td>0</td>\n",
       "      <td>0</td>\n",
       "      <td>1</td>\n",
       "    </tr>\n",
       "    <tr>\n",
       "      <th>1</th>\n",
       "      <td>70</td>\n",
       "      <td>'7374'</td>\n",
       "      <td>88</td>\n",
       "      <td>90</td>\n",
       "      <td>69</td>\n",
       "      <td>0</td>\n",
       "      <td>1</td>\n",
       "      <td>0</td>\n",
       "      <td>0</td>\n",
       "      <td>1</td>\n",
       "      <td>...</td>\n",
       "      <td>1</td>\n",
       "      <td>0</td>\n",
       "      <td>0</td>\n",
       "      <td>0</td>\n",
       "      <td>0</td>\n",
       "      <td>0</td>\n",
       "      <td>1</td>\n",
       "      <td>0</td>\n",
       "      <td>1</td>\n",
       "      <td>0</td>\n",
       "    </tr>\n",
       "    <tr>\n",
       "      <th>2</th>\n",
       "      <td>78</td>\n",
       "      <td>'1160'</td>\n",
       "      <td>93</td>\n",
       "      <td>95</td>\n",
       "      <td>90</td>\n",
       "      <td>0</td>\n",
       "      <td>1</td>\n",
       "      <td>0</td>\n",
       "      <td>1</td>\n",
       "      <td>0</td>\n",
       "      <td>...</td>\n",
       "      <td>1</td>\n",
       "      <td>0</td>\n",
       "      <td>0</td>\n",
       "      <td>0</td>\n",
       "      <td>0</td>\n",
       "      <td>1</td>\n",
       "      <td>0</td>\n",
       "      <td>0</td>\n",
       "      <td>0</td>\n",
       "      <td>1</td>\n",
       "    </tr>\n",
       "  </tbody>\n",
       "</table>\n",
       "<p>3 rows × 22 columns</p>\n",
       "</div>"
      ],
      "text/plain": [
       "   python score     ids  writing score  reading score  math score  \\\n",
       "0            89  '6480'             74             72          72   \n",
       "1            70  '7374'             88             90          69   \n",
       "2            78  '1160'             93             95          90   \n",
       "\n",
       "   lunch_free/reduced  lunch_standard  race/ethnicity_group A  \\\n",
       "0                   0               1                       0   \n",
       "1                   0               1                       0   \n",
       "2                   0               1                       0   \n",
       "\n",
       "   race/ethnicity_group B  race/ethnicity_group C  ...  gender_female  \\\n",
       "0                       1                       0  ...              1   \n",
       "1                       0                       1  ...              1   \n",
       "2                       1                       0  ...              1   \n",
       "\n",
       "   gender_male  parental level of education_associate's degree  \\\n",
       "0            0                                               0   \n",
       "1            0                                               0   \n",
       "2            0                                               0   \n",
       "\n",
       "   parental level of education_bachelor's degree  \\\n",
       "0                                              1   \n",
       "1                                              0   \n",
       "2                                              0   \n",
       "\n",
       "   parental level of education_high school  \\\n",
       "0                                        0   \n",
       "1                                        0   \n",
       "2                                        0   \n",
       "\n",
       "   parental level of education_master's degree  \\\n",
       "0                                            0   \n",
       "1                                            0   \n",
       "2                                            1   \n",
       "\n",
       "   parental level of education_some college  \\\n",
       "0                                         0   \n",
       "1                                         1   \n",
       "2                                         0   \n",
       "\n",
       "   parental level of education_some high school  \\\n",
       "0                                             0   \n",
       "1                                             0   \n",
       "2                                             0   \n",
       "\n",
       "   test preparation course_completed  test preparation course_none  \n",
       "0                                  0                             1  \n",
       "1                                  1                             0  \n",
       "2                                  0                             1  \n",
       "\n",
       "[3 rows x 22 columns]"
      ]
     },
     "execution_count": 85,
     "metadata": {},
     "output_type": "execute_result"
    }
   ],
   "source": [
    "ont_hot_encoded_df = pd.get_dummies(df_stu, columns=categorical_columns)\n",
    "# 카테고리 속성들 중에 ids를 제외하고 나머지를 원핫인코딩으로 만들어줌\n",
    "ont_hot_encoded_df.head(3)\n",
    "# df_stu의 lunch열이 lunch_free/reduced와 lunch_standard로 나뉘어서 원핫인코딩 됨"
   ]
  },
  {
   "cell_type": "markdown",
   "metadata": {},
   "source": [
    "# Matplotlib\n",
    "---"
   ]
  },
  {
   "cell_type": "markdown",
   "metadata": {},
   "source": [
    "# 6 Basic line plot\n",
    "- Plot 1: Create a line plot for the function $f(x)=x^2$, for x in range between 0,10, using 100 x-samples.\n",
    "- Plot 2: Create a scatter plot for the function $f(x)=x^2$, for x in range between 0,10, using 100 x-samples."
   ]
  },
  {
   "cell_type": "code",
   "execution_count": 86,
   "metadata": {},
   "outputs": [],
   "source": [
    "x = np.linspace(0, 10, 100)\n",
    "y = np.power(x, 2)"
   ]
  },
  {
   "cell_type": "code",
   "execution_count": 87,
   "metadata": {},
   "outputs": [
    {
     "data": {
      "image/png": "[encoded data removed]",
      "text/plain": [
       "<Figure size 432x288 with 1 Axes>"
      ]
     },
     "metadata": {
      "needs_background": "light"
     },
     "output_type": "display_data"
    }
   ],
   "source": [
    "# Plot 1 should look like this\n",
    "plt.plot(x,y);"
   ]
  },
  {
   "cell_type": "code",
   "execution_count": 89,
   "metadata": {},
   "outputs": [
    {
     "data": {
      "text/plain": [
       "<matplotlib.collections.PathCollection at 0x1de7cdd66c8>"
      ]
     },
     "execution_count": 89,
     "metadata": {},
     "output_type": "execute_result"
    },
    {
     "data": {
      "image/png": "[encoded data removed]",
      "text/plain": [
       "<Figure size 432x288 with 1 Axes>"
      ]
     },
     "metadata": {
      "needs_background": "light"
     },
     "output_type": "display_data"
    }
   ],
   "source": [
    "# Plot 2 should look like this\n",
    "plt.scatter(x,y)"
   ]
  },
  {
   "cell_type": "markdown",
   "metadata": {},
   "source": [
    "# 7 Plotting multiple functions in 1 figure\n",
    "- Create a line plot for the function $f(x)=x^2$, for x in range between 0,10, using 100 x-samples.\n",
    "- Create a line plot for the function $f(x)=x^3+4$, for x in range between 0,10, using 100 x-samples.\n",
    "- Plot both functions in the same figure, with figsize (15,10)\n",
    "- Label the axes\n",
    "- Insert a legend that describes both functions. You should label the functions with $f(x)=x^2$, and $f(x)=x^2+4$, respectively, and display it in the legend.\n",
    "- limit the x-axes range to to values between 1-5\n",
    "- limit the y-axes range to to values between 0-30\n",
    "- label the x-axes with a label of your choice\n",
    "- label the y-axes with a label of your choice\n",
    "- display a title of choice for the figure"
   ]
  },
  {
   "cell_type": "code",
   "execution_count": 92,
   "metadata": {},
   "outputs": [
    {
     "data": {
      "text/plain": [
       "<matplotlib.legend.Legend at 0x1de7d6e9208>"
      ]
     },
     "execution_count": 92,
     "metadata": {},
     "output_type": "execute_result"
    },
    {
     "data": {
      "image/png": "[encoded data removed]",
      "text/plain": [
       "<Figure size 720x360 with 1 Axes>"
      ]
     },
     "metadata": {
      "needs_background": "light"
     },
     "output_type": "display_data"
    }
   ],
   "source": [
    "# Your code\n",
    "f, ax = plt.subplots(1, 1, figsize=(10,5))\n",
    "\n",
    "x = np.linspace(0, 10, 100)\n",
    "\n",
    "y1 = np.power(x, 2)\n",
    "y2 = np.power(x, 3) + 4\n",
    "\n",
    "ax.plot(x, y1, label=\"$f(x)=x^2$\")\n",
    "ax.plot(x, y2, label=\"$f(x)=x^3+4$\")\n",
    "\n",
    "ax.set_xlim((1, 5))\n",
    "ax.set_ylim((0, 30))\n",
    "\n",
    "ax.set_xlabel(\"my x label\")\n",
    "ax.set_ylabel(\"my y label\")\n",
    "\n",
    "ax.set_title(\"My plot title\")\n",
    "plt.legend()"
   ]
  }
 ],
 "metadata": {
  "kernelspec": {
   "display_name": "Python 3",
   "language": "python",
   "name": "python3"
  },
  "language_info": {
   "codemirror_mode": {
    "name": "ipython",
    "version": 3
   },
   "file_extension": ".py",
   "mimetype": "text/x-python",
   "name": "python",
   "nbconvert_exporter": "python",
   "pygments_lexer": "ipython3",
   "version": "3.7.4"
  }
 },
 "nbformat": 4,
 "nbformat_minor": 4
}
