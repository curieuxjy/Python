{
 "cells": [
  {
   "cell_type": "markdown",
   "metadata": {
    "slideshow": {
     "slide_type": "slide"
    }
   },
   "source": [
    "# Classification model: Logisitic Regression \n",
    "---"
   ]
  },
  {
   "cell_type": "markdown",
   "metadata": {
    "slideshow": {
     "slide_type": "subslide"
    }
   },
   "source": [
    "## Problem setting\n",
    "Find the relationship between the features of a data point and it's corresponding class label. For binary logistic regression we only have 2 class labels, such as pass/fail, win/lose, alive/dead, healthy/sick, 0/1 etc. So given the features of a data point, the binary logistic regression model should output/predict a probability value, for this point belonging to class 0 or 1."
   ]
  },
  {
   "cell_type": "markdown",
   "metadata": {
    "slideshow": {
     "slide_type": "fragment"
    }
   },
   "source": [
    "## Dataset:\n",
    "\n",
    "$D=\\{(\\mathbf x_{1}, y_{1}), ..., (\\mathbf x_{N}, y_{N})\\}$, so $D\\epsilon \\mathbb{R}^{N,d+1}$.\n",
    "\n",
    "where $\\mathbf{x}\\epsilon \\mathbb{R}^{d,1}, y_{i}\\epsilon \\{0,1\\}$, with ***d*** independent features.\n",
    "\n",
    "| feature 1  | ...  | feature d  | label  |\n",
    "|---|---|---|---|\n",
    "| xyz  | ...  | ...  | 0  |\n",
    "| ...  | ...  | ...  |  ... |\n",
    "| idk  | ...  | ...  |  1 |"
   ]
  },
  {
   "cell_type": "markdown",
   "metadata": {
    "slideshow": {
     "slide_type": "subslide"
    }
   },
   "source": [
    "## Visualizing a trained model\n",
    "For a dataset with 2 features $x_1,x_2$, the trained model can be represented as a decision boundary that looks something like this\n",
    "![](resources/boundary.png)\n",
    "where all points that fall left of it will be predicted as class 0, and all points that fall right of it will be classified as class 1."
   ]
  },
  {
   "cell_type": "markdown",
   "metadata": {
    "slideshow": {
     "slide_type": "subslide"
    }
   },
   "source": [
    "![](resources/dataset.png)\n",
    "![](resources/line.png)\n",
    "Example: \n",
    "\n",
    "Feature 1 = Pointy ears, Feature 2 = Fluffiness"
   ]
  },
  {
   "cell_type": "markdown",
   "metadata": {
    "slideshow": {
     "slide_type": "slide"
    }
   },
   "source": [
    "## Binary logistic regression model\n",
    "---\n",
    "\n",
    "The ***model***: $\\hat{y_{i}} = \\sigma(w_0+w_1 x^{1}_i+...+w_d x^{d}_i) = \\sigma(\\mathbf{w^Tx_{i}})$\n",
    "\n",
    "$\\hat{y_{i}}$: predicted class for data point $\\mathbf x_{i}$\n",
    "\n",
    "$\\mathbf x_i = \\begin{bmatrix} 1 \\\\ x^{1}_i  \\\\ ... \\\\ x^{d}_i \\end{bmatrix}$: feature vector of data point $i$, $x^{j}_{i}$: feature $j$ of training data point $i$ - ***given***\n",
    "\n",
    "$w_0$: bias value (intercept/offset on y-axis) - ***trainable***\n",
    "\n",
    "$\\mathbf w = \\begin{bmatrix} w_0 \\\\ w_1  \\\\ ... \\\\ w_{d} \\end{bmatrix}$: weight vector - ***trainable***, $w_{j}$: weight value for feature $x^{j}$ - ***trainable***\n",
    "#### Note: Exactly the same as linear regression but, with an additional function $\\sigma()$ that gets applied to $\\mathbf{w^Tx_{i}}$. "
   ]
  },
  {
   "cell_type": "markdown",
   "metadata": {
    "slideshow": {
     "slide_type": "slide"
    }
   },
   "source": [
    "## The sigmoid function\n",
    "---\n",
    "$\\sigma:\\mathbb{R}\\rightarrow ] 0,1 [$,\n",
    "\n",
    "$\\sigma(x)=\\frac{1}{1+e^{-x}}=\\frac{e^x}{1+e^{x}}$"
   ]
  },
  {
   "cell_type": "code",
   "execution_count": 1,
   "metadata": {
    "slideshow": {
     "slide_type": "subslide"
    }
   },
   "outputs": [],
   "source": [
    "import numpy as np\n",
    "import matplotlib.pyplot as plt"
   ]
  },
  {
   "cell_type": "code",
   "execution_count": 2,
   "metadata": {
    "slideshow": {
     "slide_type": "slide"
    }
   },
   "outputs": [
    {
     "data": {
      "image/png": "[encoded data removed]",
      "text/plain": [
       "<Figure size 432x288 with 1 Axes>"
      ]
     },
     "metadata": {
      "needs_background": "light"
     },
     "output_type": "display_data"
    }
   ],
   "source": [
    "x = np.linspace(-10,10,100)\n",
    "\n",
    "sigmoid = 1 / (np.exp(-x)+1)\n",
    "\n",
    "plt.plot(x, sigmoid)\n",
    "plt.xlabel(\"x\")\n",
    "plt.ylabel(\"$\\sigma(x)$\")\n",
    "plt.show()"
   ]
  },
  {
   "cell_type": "markdown",
   "metadata": {
    "slideshow": {
     "slide_type": "fragment"
    }
   },
   "source": [
    "#### Properties of the sigmoid function\n",
    "- Squeezes the inputs x into a kind of probability density function:\n",
    "    - We interpret the output of the function as the probability p of input x belonging to class 1.\n",
    "    - The probability of input x belonging to class 0 is 1-p.\n",
    "- Differentiable at each point, with high gradients around the 0 point and low gradients on the left/right tails."
   ]
  },
  {
   "cell_type": "code",
   "execution_count": 3,
   "metadata": {
    "slideshow": {
     "slide_type": "slide"
    }
   },
   "outputs": [
    {
     "data": {
      "image/png": "[encoded data removed]",
      "text/plain": [
       "<Figure size 720x360 with 1 Axes>"
      ]
     },
     "metadata": {
      "needs_background": "light"
     },
     "output_type": "display_data"
    }
   ],
   "source": [
    "plt.figure(figsize=(10,5))\n",
    "plt.plot(x, sigmoid)\n",
    "plt.xlabel(\"x\")\n",
    "plt.ylabel(\"$\\sigma(x)$\")\n",
    "plt.show()"
   ]
  },
  {
   "cell_type": "code",
   "execution_count": 4,
   "metadata": {
    "slideshow": {
     "slide_type": "fragment"
    }
   },
   "outputs": [
    {
     "name": "stdout",
     "output_type": "stream",
     "text": [
      "0.0066928509242848554\n",
      "0.5\n",
      "0.9994472213630764\n"
     ]
    }
   ],
   "source": [
    "# example 1\n",
    "x1 = -5\n",
    "prediction1 = 1/(np.exp(-x1)+1) # <- Probability of x1 belonging to class 1 is ~0.7% -> probability for class 0 is ~99.3%\n",
    "\n",
    "# example 2\n",
    "x2 = 0 \n",
    "prediction2 = 1/(np.exp(-x2)+1) # <- Probability of x1 belonging to class 1 is 50% -> probability for class 0 is 50%\n",
    " \n",
    "# example 3\n",
    "x3 = 7.5\n",
    "prediction3 = 1/(np.exp(-x3)+1) # <- Probability of x1 belonging to class 1 is ~99.94% -> probability for class 0 is ~0.06%\n",
    "print(prediction1), print(prediction2), print(prediction3);"
   ]
  },
  {
   "cell_type": "markdown",
   "metadata": {
    "slideshow": {
     "slide_type": "subslide"
    }
   },
   "source": [
    "### Graphical model of logistic regression\n",
    "![](resources/lr.png)"
   ]
  },
  {
   "cell_type": "markdown",
   "metadata": {
    "slideshow": {
     "slide_type": "slide"
    }
   },
   "source": [
    "# Loss function for Logistic Regression"
   ]
  },
  {
   "cell_type": "markdown",
   "metadata": {
    "slideshow": {
     "slide_type": "fragment"
    }
   },
   "source": [
    "## $\\Rightarrow$ Binary cross-entropy loss"
   ]
  },
  {
   "cell_type": "markdown",
   "metadata": {
    "slideshow": {
     "slide_type": "subslide"
    }
   },
   "source": [
    "### Loss surface for one data point $\\mathbf{x_i}$ with true label $y_i=1$.\n",
    "$J(\\mathbf w) = -y_{i}\\ log(\\hat{y_{i}})-(1-y_{i})\\ log(1-\\hat{y_{i}}) = -log(\\hat{y_{i}})$, where $\\hat{y}_{i}= \\sigma(\\mathbf{w}^T\\mathbf{x_i})$."
   ]
  },
  {
   "cell_type": "code",
   "execution_count": 6,
   "metadata": {
    "slideshow": {
     "slide_type": "fragment"
    }
   },
   "outputs": [
    {
     "data": {
      "image/png": "[encoded data removed]",
      "text/plain": [
       "<Figure size 432x288 with 1 Axes>"
      ]
     },
     "metadata": {
      "needs_background": "light"
     },
     "output_type": "display_data"
    }
   ],
   "source": [
    "y_hat = np.linspace(0.001,1,100)\n",
    "loss = -np.log(y_hat)\n",
    "\n",
    "fig = plt.figure()\n",
    "plt.plot(y_hat, loss)\n",
    "plt.xlabel('$\\hat{y}(predicted label)$')\n",
    "plt.ylabel('$-log(\\hat{y})$')\n",
    "plt.show()"
   ]
  },
  {
   "cell_type": "markdown",
   "metadata": {
    "slideshow": {
     "slide_type": "subslide"
    }
   },
   "source": [
    "### Loss surface for one data point $\\mathbf{x_i}$ with true label $y_i=0$.\n",
    "$J(\\mathbf w) = -y_{i}\\ log(\\hat{y_{i}})-(1-y_{i})\\ log(1-\\hat{y_{i}}) = -log(1-\\hat{y_{i}})$, where $\\hat{y}_{i}= \\sigma(\\mathbf{w}^T\\mathbf{x_i})$."
   ]
  },
  {
   "cell_type": "code",
   "execution_count": 7,
   "metadata": {
    "slideshow": {
     "slide_type": "fragment"
    }
   },
   "outputs": [
    {
     "name": "stderr",
     "output_type": "stream",
     "text": [
      "<ipython-input-7-52e936432c44>:2: RuntimeWarning: divide by zero encountered in log\n",
      "  loss = -np.log(1-y_hat)\n"
     ]
    },
    {
     "data": {
      "image/png": "[encoded data removed]",
      "text/plain": [
       "<Figure size 432x288 with 1 Axes>"
      ]
     },
     "metadata": {
      "needs_background": "light"
     },
     "output_type": "display_data"
    }
   ],
   "source": [
    "y_hat = np.linspace(0.001,1,100)\n",
    "loss = -np.log(1-y_hat)\n",
    "\n",
    "fig = plt.figure()\n",
    "plt.plot(y_hat, loss)\n",
    "plt.xlabel('$\\hat{y}$(predicted label)')\n",
    "plt.ylabel('-log($1-\\hat{y}$)')\n",
    "plt.show();"
   ]
  },
  {
   "cell_type": "markdown",
   "metadata": {
    "slideshow": {
     "slide_type": "subslide"
    }
   },
   "source": [
    "## The loss function: Binary cross-entropy\n",
    "\n",
    "Scalar form:\n",
    "$J(\\mathbf w) = -\\frac{1}{N}(\\sum_{i=1}^{N}y_{i}\\ log(\\hat{y_{i}})+(1-y_{i})\\ log(1-\\hat{y_{i}}))$, with $\\hat{y}_i=\\sigma(\\mathbf w^T \\mathbf x_i)$.\n",
    "\n",
    "Vectorized form:\n",
    "$J(\\mathbf w) = -\\frac{1}{N}sum( \\mathbf ylog(\\hat{\\mathbf y})+(1-\\mathbf y)\\ log(1-\\hat{\\mathbf y}))$, \n",
    "\n",
    "with \n",
    "$\\mathbf{\\hat{y}}= \\begin{bmatrix} \\hat{y}_1  \\\\ ... \\\\ \\hat{y}_N \\end{bmatrix}$."
   ]
  },
  {
   "cell_type": "markdown",
   "metadata": {
    "slideshow": {
     "slide_type": "slide"
    }
   },
   "source": [
    "# Optimizing loss function"
   ]
  },
  {
   "cell_type": "markdown",
   "metadata": {
    "slideshow": {
     "slide_type": "subslide"
    }
   },
   "source": [
    "### Binary cross entropy loss is convex, but there is NO closed form solution to find the optimal parameter vector.\n",
    "\n",
    "## $\\rightarrow$ Apply gradient descent!"
   ]
  },
  {
   "cell_type": "markdown",
   "metadata": {
    "slideshow": {
     "slide_type": "subslide"
    }
   },
   "source": [
    "### Recap Gradient Descent:\n",
    "1. Start with random weight vector $\\mathbf w^1$\n",
    "\n",
    "2. Update $\\mathbf w^t$, according to the learning rule: \n",
    "\n",
    "&emsp; &emsp; &emsp; $\\mathbf w^{t+1}=\\mathbf w^{t}-\\alpha\\nabla_{\\mathbf w}J(\\mathbf w^t)$\n",
    "\n",
    "3. Repeat step 2 until convergence (e.g. n-epochs)"
   ]
  },
  {
   "cell_type": "markdown",
   "metadata": {
    "slideshow": {
     "slide_type": "subslide"
    }
   },
   "source": [
    "### Computing the gradient:\n",
    "$\\nabla_{\\mathbf w} J(\\mathbf w) = \\nabla_{\\mathbf w}-\\frac{1}{N}\\sum_{i=1}^{N}y_{i}\\ log(\\hat{y_{i}})+(1-y_{i})\\ log(1-\\hat{y_{i}})$\n",
    "\n",
    "$=\\nabla_{\\mathbf w}-\\frac{1}{N}\\sum_{i=1}^{N}y_{i}\\ log(\\sigma(\\mathbf w^T\\mathbf x_i))+(1-y_{i})\\ log(1-\\mathbf w^T\\mathbf x_i)$\n",
    "\n",
    "$=\\frac{1}{m}\\mathbf X^T(\\sigma(\\mathbf X \\mathbf w)-\\mathbf y)$,\n",
    "\n",
    "\n",
    "where $\\mathbf w\\epsilon\\mathbb{R}^{d,1}, \\mathbf X\\epsilon\\mathbb{R}^{N,d}, \\mathbf y\\epsilon\\mathbb{R}^{N,1}, \\nabla_{\\mathbf w} J(\\mathbf w) \\epsilon \\mathbb{R}^{d,1}$."
   ]
  },
  {
   "cell_type": "markdown",
   "metadata": {
    "slideshow": {
     "slide_type": "subslide"
    }
   },
   "source": [
    "# Extending Binary Classification to Multi-class Classification"
   ]
  },
  {
   "cell_type": "markdown",
   "metadata": {
    "slideshow": {
     "slide_type": "fragment"
    }
   },
   "source": [
    "## Essentially there are two strategies for extending binary logistic regression to multi-class logistic regression:\n",
    "#### Problem setting:\n",
    "---\n",
    "Imagine we want to train a logistic regression classifier to distinguish data points from $K$ different classes. This is usually refered to as a $K$-way multiclass problem."
   ]
  },
  {
   "cell_type": "markdown",
   "metadata": {
    "slideshow": {
     "slide_type": "subslide"
    }
   },
   "source": [
    "### 1. One-vs.-rest classification: \n",
    "This strategy involves training a single classifier per class(***K*** classifiers in total), with the samples of that class as positive samples and all other samples as negatives. Making decisions means applying all classifiers to an unseen sample $\\mathbf x_i$ and predicting the label k for which the corresponding classifier reports the highest probability score."
   ]
  },
  {
   "cell_type": "markdown",
   "metadata": {
    "slideshow": {
     "slide_type": "subslide"
    }
   },
   "source": [
    "![ovr](resources/onevsr.png)"
   ]
  },
  {
   "cell_type": "markdown",
   "metadata": {
    "slideshow": {
     "slide_type": "subslide"
    }
   },
   "source": [
    "### 2. One-vs.-one classification\n",
    "This strategy involves training $K(K-1)/2$ binary classifiers, each receives the samples of a pair of classes from the original training data set and must learn to distinguish these two classes. At prediction time each classifier makes a prediction on the unseen data point $x_i$ and the class that got the highest number of \"+1\" predictions gets predicted by the ensemble of classifiers."
   ]
  },
  {
   "cell_type": "markdown",
   "metadata": {
    "slideshow": {
     "slide_type": "subslide"
    }
   },
   "source": [
    "<img src=\"resources/ovo.png\" width=\"1200\"/>"
   ]
  },
  {
   "cell_type": "markdown",
   "metadata": {
    "slideshow": {
     "slide_type": "fragment"
    }
   },
   "source": [
    "### Note: The typical packages that we use to apply classification models already have these strategies implemented for you."
   ]
  },
  {
   "cell_type": "markdown",
   "metadata": {
    "slideshow": {
     "slide_type": "slide"
    }
   },
   "source": [
    "# Train a Logistic Regressor using SkLearn on the Wine Data Set\n",
    "https://archive.ics.uci.edu/ml/datasets/wine\n",
    "\n",
    "## Workflow-Template:\n",
    "0. Do the imports\n",
    "1. Load and explore the data\n",
    "2. Preprocess the data\n",
    "3. Define and implement the model\n",
    "4. Train the model\n",
    "5. Evaluate the model"
   ]
  },
  {
   "cell_type": "markdown",
   "metadata": {
    "slideshow": {
     "slide_type": "subslide"
    }
   },
   "source": [
    "# 0. Do the imports"
   ]
  },
  {
   "cell_type": "code",
   "execution_count": 10,
   "metadata": {
    "slideshow": {
     "slide_type": "fragment"
    }
   },
   "outputs": [],
   "source": [
    "from sklearn.model_selection import train_test_split\n",
    "from sklearn.model_selection import cross_val_score\n",
    "from sklearn.datasets import load_wine\n",
    "from sklearn.linear_model import LogisticRegression\n",
    "import warnings\n",
    "warnings.filterwarnings('ignore')"
   ]
  },
  {
   "cell_type": "markdown",
   "metadata": {
    "slideshow": {
     "slide_type": "subslide"
    }
   },
   "source": [
    "# 1. Load and explore the data"
   ]
  },
  {
   "cell_type": "code",
   "execution_count": 11,
   "metadata": {
    "slideshow": {
     "slide_type": "fragment"
    }
   },
   "outputs": [
    {
     "data": {
      "text/plain": [
       "((178, 13), (178,))"
      ]
     },
     "execution_count": 11,
     "metadata": {},
     "output_type": "execute_result"
    }
   ],
   "source": [
    "X, Y = load_wine(return_X_y=True)\n",
    "X.shape, Y.shape"
   ]
  },
  {
   "cell_type": "code",
   "execution_count": 12,
   "metadata": {
    "slideshow": {
     "slide_type": "fragment"
    }
   },
   "outputs": [
    {
     "data": {
      "text/plain": [
       "array([0, 1, 2])"
      ]
     },
     "execution_count": 12,
     "metadata": {},
     "output_type": "execute_result"
    }
   ],
   "source": [
    "np.unique(Y) "
   ]
  },
  {
   "cell_type": "markdown",
   "metadata": {
    "slideshow": {
     "slide_type": "subslide"
    }
   },
   "source": [
    "# 2. Preprocess the data"
   ]
  },
  {
   "cell_type": "code",
   "execution_count": 13,
   "metadata": {
    "slideshow": {
     "slide_type": "fragment"
    }
   },
   "outputs": [],
   "source": [
    "X_train, X_test, Y_train, Y_test = train_test_split(X, Y, test_size=0.2, random_state=42)"
   ]
  },
  {
   "cell_type": "code",
   "execution_count": 14,
   "metadata": {
    "slideshow": {
     "slide_type": "fragment"
    }
   },
   "outputs": [
    {
     "data": {
      "text/plain": [
       "((36, 13), (36,))"
      ]
     },
     "execution_count": 14,
     "metadata": {},
     "output_type": "execute_result"
    }
   ],
   "source": [
    "X_test.shape, Y_test.shape  "
   ]
  },
  {
   "cell_type": "markdown",
   "metadata": {
    "slideshow": {
     "slide_type": "subslide"
    }
   },
   "source": [
    "# 3. Choose and implement the model"
   ]
  },
  {
   "cell_type": "code",
   "execution_count": 15,
   "metadata": {
    "slideshow": {
     "slide_type": "fragment"
    }
   },
   "outputs": [],
   "source": [
    "logistic_regressor = LogisticRegression(max_iter=200)"
   ]
  },
  {
   "cell_type": "code",
   "execution_count": 16,
   "metadata": {
    "slideshow": {
     "slide_type": "fragment"
    }
   },
   "outputs": [
    {
     "data": {
      "text/plain": [
       "LogisticRegression(max_iter=200)"
      ]
     },
     "execution_count": 16,
     "metadata": {},
     "output_type": "execute_result"
    }
   ],
   "source": [
    "logistic_regressor"
   ]
  },
  {
   "cell_type": "code",
   "execution_count": 17,
   "metadata": {},
   "outputs": [
    {
     "ename": "AttributeError",
     "evalue": "'LogisticRegression' object has no attribute 'coef_'",
     "output_type": "error",
     "traceback": [
      "\u001b[1;31m---------------------------------------------------------------------------\u001b[0m",
      "\u001b[1;31mAttributeError\u001b[0m                            Traceback (most recent call last)",
      "\u001b[1;32m<ipython-input-17-50c7189e6534>\u001b[0m in \u001b[0;36m<module>\u001b[1;34m\u001b[0m\n\u001b[1;32m----> 1\u001b[1;33m \u001b[0mlogistic_regressor\u001b[0m\u001b[1;33m.\u001b[0m\u001b[0mcoef_\u001b[0m\u001b[1;33m\u001b[0m\u001b[1;33m\u001b[0m\u001b[0m\n\u001b[0m",
      "\u001b[1;31mAttributeError\u001b[0m: 'LogisticRegression' object has no attribute 'coef_'"
     ]
    }
   ],
   "source": [
    "logistic_regressor.coef_"
   ]
  },
  {
   "cell_type": "markdown",
   "metadata": {
    "slideshow": {
     "slide_type": "subslide"
    }
   },
   "source": [
    "# 4. Train the model"
   ]
  },
  {
   "cell_type": "code",
   "execution_count": null,
   "metadata": {
    "slideshow": {
     "slide_type": "fragment"
    }
   },
   "outputs": [],
   "source": [
    "logistic_regressor.fit(X_train, Y_train)"
   ]
  },
  {
   "cell_type": "code",
   "execution_count": null,
   "metadata": {},
   "outputs": [],
   "source": [
    "logistic_regressor.coef_.shape"
   ]
  },
  {
   "cell_type": "code",
   "execution_count": null,
   "metadata": {},
   "outputs": [],
   "source": [
    "logistic_regressor.intercept_"
   ]
  },
  {
   "cell_type": "markdown",
   "metadata": {
    "slideshow": {
     "slide_type": "subslide"
    }
   },
   "source": [
    "# 5. Evaluate the model\n",
    "\n",
    "### Mean accuracy as one evaluation method:\n",
    "\n",
    "$accuracy = \\frac{\\text{number of correctly classified data points}}{\\text{total number of data points}}$\n"
   ]
  },
  {
   "cell_type": "code",
   "execution_count": null,
   "metadata": {
    "slideshow": {
     "slide_type": "fragment"
    }
   },
   "outputs": [],
   "source": [
    "# Classification accuracy on the training dataset \n",
    "logistic_regressor.score(X_train, Y_train)"
   ]
  },
  {
   "cell_type": "code",
   "execution_count": null,
   "metadata": {
    "slideshow": {
     "slide_type": "fragment"
    }
   },
   "outputs": [],
   "source": [
    "# Classification accuracy on the test dataset\n",
    "logistic_regressor.score(X_test, Y_test)"
   ]
  },
  {
   "cell_type": "markdown",
   "metadata": {
    "slideshow": {
     "slide_type": "slide"
    }
   },
   "source": [
    "# We are going to learn about more evaluation methods soon"
   ]
  },
  {
   "cell_type": "code",
   "execution_count": null,
   "metadata": {},
   "outputs": [],
   "source": []
  },
  {
   "cell_type": "code",
   "execution_count": null,
   "metadata": {},
   "outputs": [],
   "source": []
  },
  {
   "cell_type": "code",
   "execution_count": null,
   "metadata": {},
   "outputs": [],
   "source": []
  }
 ],
 "metadata": {
  "celltoolbar": "Slideshow",
  "kernelspec": {
   "display_name": "Python 3",
   "language": "python",
   "name": "python3"
  },
  "language_info": {
   "codemirror_mode": {
    "name": "ipython",
    "version": 3
   },
   "file_extension": ".py",
   "mimetype": "text/x-python",
   "name": "python",
   "nbconvert_exporter": "python",
   "pygments_lexer": "ipython3",
   "version": "3.8.5"
  }
 },
 "nbformat": 4,
 "nbformat_minor": 2
}
