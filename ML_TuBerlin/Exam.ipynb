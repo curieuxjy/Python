{
 "cells": [
  {
   "cell_type": "markdown",
   "metadata": {},
   "source": [
    "# Final Exam _ Jungyeon Lee\n",
    "---\n",
    "\n",
    "### Notes:\n",
    "\n",
    "\n",
    "- This exam is open book/open browser. That means you are allowed to use any resources to answer the questions, except communication with any other person.\n",
    "\n",
    "\n",
    "- Once finished you should upload your exam to your personal submission folder in the TUBS-Cloud, that we have assigned to you. If you haven't been assigned to one, tell us now!\n",
    "\n",
    "\n",
    "- The first part consists of 10 multiple choice questions, each increasing your final score by 5 points when answered corretly.\n",
    "\n",
    "\n",
    "- More details on the theory part and programming part are given below. \n",
    "\n",
    "\n",
    "- Please read the instructions carefully.\n",
    "\n",
    "\n",
    "- Good Luck!"
   ]
  },
  {
   "cell_type": "markdown",
   "metadata": {},
   "source": [
    "# Part I: Machine Learning theory (50/100 pts.)\n",
    "Please answer the multiple choice questions below. \n",
    "\n",
    "For each question, there is exactly ***ONE*** correct answer. Selecting multiple answers or the wrong answer results in 0 points for that question. \n",
    "\n",
    "Each question will have 4 different answer choices, numbered from 1-4. After each question, there will be a cell that you can use to place your answer. You just need to enter ***the number of the answer*** to that question, e.g. a number between 1-4."
   ]
  },
  {
   "cell_type": "markdown",
   "metadata": {},
   "source": [
    "## Question 1 (5pts.)\n",
    "\n",
    "A ***regression model***(e.g. linear regression) expects an input of type $\\mathbf x \\ \\epsilon \\ \\mathbb R^{d}$, where $\\mathbf x$ can have multiple dimensions/features(e.g. d=4 features/columns).\n",
    "What dimensionality and range of possible values does a label in a regression dataset have ?\n",
    "\n",
    "1. $y \\ \\epsilon \\ \\{0, 1\\}$, so y is either a scalar number equal to \"1\", or equal to \"0\" which represents one of two classes.\n",
    "\n",
    "\n",
    "2. $y \\ \\epsilon \\ \\mathbb R$, so y can represent any scalar number on the real line.\n",
    "\n",
    "\n",
    "3. $y \\ == \\ \\mathbf x$, so y has the same dimensionality and value as $\\mathbf x$.\n",
    "\n",
    "\n",
    "4. $y \\ \\epsilon \\ \\emptyset$, so there is no y-labels in a regresion task."
   ]
  },
  {
   "cell_type": "code",
   "execution_count": 1,
   "metadata": {},
   "outputs": [
    {
     "data": {
      "text/plain": [
       "2"
      ]
     },
     "execution_count": 1,
     "metadata": {},
     "output_type": "execute_result"
    }
   ],
   "source": [
    "# Your solution here, for example any number between 1-4\n",
    "2"
   ]
  },
  {
   "cell_type": "markdown",
   "metadata": {},
   "source": [
    "## Question 2 (5pts.)\n",
    "\n",
    "A ***binary classification model***(e.g. binary nearest centroid classifier) expects an input of type $\\mathbf x \\ \\epsilon \\ \\mathbb R^{d}$, where $\\mathbf x$ can have multiple dimensions/features(e.g. d=4 features/columns).\n",
    "Select the type of a label \"$y$\" in a typical classification task:\n",
    "\n",
    "1. $y \\ \\epsilon \\ \\{0, 1\\}$, so y is either a scalar number equal to \"1\", or equal to \"0\" which represents one of two classes.\n",
    "\n",
    "\n",
    "2. $y \\ \\epsilon \\ \\mathbb R$, so y can represent any scalar number on the real line.\n",
    "\n",
    "\n",
    "3. $y \\ == \\ \\mathbf x$, so y has the same dimensionality and value as $\\mathbf x$.\n",
    "\n",
    "\n",
    "4. $y \\ \\epsilon \\ \\emptyset$, so there is no y-labels in a classification task."
   ]
  },
  {
   "cell_type": "code",
   "execution_count": 2,
   "metadata": {},
   "outputs": [
    {
     "data": {
      "text/plain": [
       "1"
      ]
     },
     "execution_count": 2,
     "metadata": {},
     "output_type": "execute_result"
    }
   ],
   "source": [
    "# Your solution here, for example any number between 1-4\n",
    "1"
   ]
  },
  {
   "cell_type": "markdown",
   "metadata": {},
   "source": [
    "## Question 3 (5pts.)\n",
    "\n",
    "A ***clustering model***(e.g. k-neigherst neighbor clustering) expects an input of type $\\mathbf x \\ \\epsilon \\mathbb \\ R^{d}$, where $\\mathbf x$ can have multiple dimensions/features(e.g. d=4 features/columns).\n",
    "Select the type of a label \"$y$\" in a typical clustering task:\n",
    "\n",
    "1. $y \\ \\epsilon \\ \\{0, 1\\}$, so y is either a scalar number equal to \"1\", or equal to \"0\", which represents one of two classes.\n",
    "\n",
    "\n",
    "2. $y \\ \\epsilon \\ \\mathbb R$, so y can represent any scalar number on the real line.\n",
    "\n",
    "\n",
    "3. $y \\ \\epsilon \\ \\mathbf x_{input}$, so y has the same dimensionality and value as $\\mathbf x$.\n",
    "\n",
    "\n",
    "4. $y \\ \\epsilon \\ \\emptyset$, so there is no y-label in a clustering task."
   ]
  },
  {
   "cell_type": "code",
   "execution_count": 3,
   "metadata": {},
   "outputs": [
    {
     "data": {
      "text/plain": [
       "4"
      ]
     },
     "execution_count": 3,
     "metadata": {},
     "output_type": "execute_result"
    }
   ],
   "source": [
    "# Your solution here, for example any number between 1-4\n",
    "4"
   ]
  },
  {
   "cell_type": "markdown",
   "metadata": {},
   "source": [
    "## Question 4 (5pts.)\n",
    "\n",
    "Which of these statements about the loss function is true ? \n",
    "\n",
    "1. The loss function is a way of measuring the performance of our machine learning model, which is used to optimize it.\n",
    "\n",
    "\n",
    "2. The loss function and the error function are 2 separate things.\n",
    "\n",
    "\n",
    "3. There exists 1 loss function that is used by every single machine learning algorithm.\n",
    "\n",
    "\n",
    "4. The loss function is independent of our training data, which means that we don't need our training data to compute the loss of our machine learning model."
   ]
  },
  {
   "cell_type": "code",
   "execution_count": 4,
   "metadata": {},
   "outputs": [
    {
     "data": {
      "text/plain": [
       "1"
      ]
     },
     "execution_count": 4,
     "metadata": {},
     "output_type": "execute_result"
    }
   ],
   "source": [
    "# Your solution here, for example any number between 1-4\n",
    "1"
   ]
  },
  {
   "cell_type": "markdown",
   "metadata": {},
   "source": [
    "## Question 5 (5pts.)\n",
    "\n",
    "Which of these statements about the learning rate $\\alpha$ is true ? \n",
    "\n",
    "1. A large learning rate might result in never reaching the minimum of a loss function because our steps towards the minimum get too small to actually reach it. \n",
    "\n",
    "\n",
    "2. A small learning rate might result in \"overshooting\" the minimum of a loss function because we might \"overshoot\" the minimum.\n",
    "\n",
    "\n",
    "3. The learning rate is the step size that our gradient descent algorithm takes towards the direction of greatest decrease of our loss function, with respect to our model parameters.\n",
    "\n",
    "\n",
    "4. There learning rate has no impact on the optimization process of our loss function."
   ]
  },
  {
   "cell_type": "code",
   "execution_count": 5,
   "metadata": {},
   "outputs": [
    {
     "data": {
      "text/plain": [
       "3"
      ]
     },
     "execution_count": 5,
     "metadata": {},
     "output_type": "execute_result"
    }
   ],
   "source": [
    "# Your solution here, for example any number between 1-4\n",
    "3"
   ]
  },
  {
   "cell_type": "markdown",
   "metadata": {},
   "source": [
    "## Question 6 (5pts.)\n",
    "\n",
    "A confusion matrix let's us compute a variety of metrics that can be used to measure the performance of our trained classification model. \n",
    "It usually consists of 4 fields, namely:\n",
    "\n",
    "- True positives  / TP: The number of points that our model has predicted to be from class \"1\"(sometimes referred to as \"positive\" class), while their actual label was class \"1\".\n",
    "\n",
    "\n",
    "- False positives / FP: The number of points that our model has predicted to be from class \"1\", while their actual label was class \"0\"(sometimes referred to as \"negative class\").\n",
    "\n",
    "\n",
    "- False negatives / FN: The number of points that our model has predicted to be from class \"0\", while their actual label was class \"1\".\n",
    "\n",
    "\n",
    "- True negatives  / TN: The number of points that our model has predicted to be from class \"0\", while their actual label was class \"0\".\n",
    "\n",
    "How is the accuracy computed, when given the elements of our confusion matrix ? \n",
    "\n",
    "### NOTE: \"Total\" refers to the total amount of points of the whole dataset(training set or test set).\n",
    "\n",
    "1. $Accuracy = \\frac{TP+TN}{Total}$\n",
    "\n",
    "\n",
    "2. $Accuracy = \\frac{TP}{TP+FP}$\n",
    "\n",
    "\n",
    "3. $Accuracy = \\frac{TP}{TP+FN}$\n",
    "\n",
    "\n",
    "4. $Accuracy = \\frac{TP + FP + FN + TN}{Total}$"
   ]
  },
  {
   "cell_type": "code",
   "execution_count": 6,
   "metadata": {},
   "outputs": [
    {
     "data": {
      "text/plain": [
       "1"
      ]
     },
     "execution_count": 6,
     "metadata": {},
     "output_type": "execute_result"
    }
   ],
   "source": [
    "# Your solution here, for example any number between 1-4\n",
    "1"
   ]
  },
  {
   "cell_type": "markdown",
   "metadata": {},
   "source": [
    "## Question 7 (5pts.)\n",
    "\n",
    "Which of the following classification algorithms uses the distance between a new point x and the class means of multiple classes, as a decision rule for classification ?\n",
    "\n",
    "1. Binary Logisitc Regression classifier\n",
    "\n",
    "\n",
    "2. Binary K-nearest centroid classifier\n",
    "\n",
    "\n",
    "3. Convolutional Neural Network\n",
    "\n",
    "\n",
    "4. Linear Regression"
   ]
  },
  {
   "cell_type": "code",
   "execution_count": 7,
   "metadata": {},
   "outputs": [
    {
     "data": {
      "text/plain": [
       "2"
      ]
     },
     "execution_count": 7,
     "metadata": {},
     "output_type": "execute_result"
    }
   ],
   "source": [
    "# Your solution here, for example any number between 1-4\n",
    "2"
   ]
  },
  {
   "cell_type": "markdown",
   "metadata": {},
   "source": [
    "## Question 8 (5pts.)\n",
    "\n",
    "When preparing the dataset for our learning algorithm, which of these steps does ***not*** help to achieve a better training process, in terms of efficiency, robustness, performance etc.\n",
    "\n",
    "\n",
    "1. Standardizing our features/columns.\n",
    "\n",
    "\n",
    "2. Dropping features that don't correlate with our label while keeping the ones that do correlate with the labels.\n",
    "\n",
    "\n",
    "3. Dropping all data points that belong to a certain label together with their labels. So at the end our dataset consists of only points from  a single class that we use for training.\n",
    "\n",
    "\n",
    "4. Training a machine learning model on different sets of hyperparameters(e.g. learning rates) and chossing the set that increases the test performance of our model."
   ]
  },
  {
   "cell_type": "code",
   "execution_count": 8,
   "metadata": {},
   "outputs": [
    {
     "data": {
      "text/plain": [
       "3"
      ]
     },
     "execution_count": 8,
     "metadata": {},
     "output_type": "execute_result"
    }
   ],
   "source": [
    "# Your solution here, for example any number between 1-4\n",
    "3"
   ]
  },
  {
   "cell_type": "markdown",
   "metadata": {},
   "source": [
    "## Question 9 (5pts.)\n",
    "\n",
    "When training a machine learning model, we usually do a training and test set split. What do we use the training and test set for ?\n",
    "\n",
    "1. We use both the training set and the test set to train our model, and evaluate it's generalization performance on the accuracy of the concatenation of both data sets.\n",
    "\n",
    "\n",
    "2. We use the training set to train our model and the test set to estimate it's generalization performance. That is, it's prediction accuracy on unseen data points.\n",
    "\n",
    "\n",
    "3. We use the training and test split only to safe up computational time.\n",
    "\n",
    "\n",
    "4. We use the test set to train our model and the training set to estimate it's generalization performance. That is, it's prediction accuracy on unseen data points."
   ]
  },
  {
   "cell_type": "code",
   "execution_count": 9,
   "metadata": {},
   "outputs": [
    {
     "data": {
      "text/plain": [
       "2"
      ]
     },
     "execution_count": 9,
     "metadata": {},
     "output_type": "execute_result"
    }
   ],
   "source": [
    "# Your solution here, for example any number between 1-4\n",
    "2"
   ]
  },
  {
   "cell_type": "markdown",
   "metadata": {},
   "source": [
    "## Question 10 (5pts.)\n",
    "\n",
    "Which of these statements about convex funtions is true ? \n",
    "\n",
    "1. Optimizing a convex function with respect to a certain variable(e.g. some weight variable w), will result in a ***local*** optimum.\n",
    "\n",
    "\n",
    "2. Convex functions are not differentiable and thus not optimizable.\n",
    "\n",
    "\n",
    "3. Optimizing a convex function with respect to a certain variable(e.g. some weight variable w), will result in a ***global*** optimum.\n",
    "\n",
    "\n",
    "4. There is no single loss/error function used in machine learning model that is a convex function."
   ]
  },
  {
   "cell_type": "code",
   "execution_count": 10,
   "metadata": {},
   "outputs": [
    {
     "data": {
      "text/plain": [
       "3"
      ]
     },
     "execution_count": 10,
     "metadata": {},
     "output_type": "execute_result"
    }
   ],
   "source": [
    "# Your solution here, for example any number between 1-4\n",
    "3"
   ]
  },
  {
   "cell_type": "markdown",
   "metadata": {},
   "source": [
    "# Part II: Python programming exercises (50/100 pts.)\n",
    "For the programming exercises, please follow the following:\n",
    "- follow the instructions for each exercise\n",
    "- use the provided blocks to write your code, and do not delete any other code lines. \n",
    "- you can add cells for testing, but we will only evaluate what is in the block!\n",
    "- it is not necessary, but you may add comments to your code, explaining what your were thinking and trying to do. If the solution is not correct, we still can give you points based on your ideas!\n",
    "- do not hesistate to ask if something is not clear or you need help :)"
   ]
  },
  {
   "cell_type": "markdown",
   "metadata": {},
   "source": [
    "## Exercise 1: Pandas(10 pts.) "
   ]
  },
  {
   "cell_type": "code",
   "execution_count": 11,
   "metadata": {},
   "outputs": [],
   "source": [
    "# run this to import the modules\n",
    "import pandas as pd\n",
    "import numpy as np\n",
    "import matplotlib.pyplot as plt\n",
    "import sklearn\n",
    "%matplotlib inline"
   ]
  },
  {
   "cell_type": "markdown",
   "metadata": {},
   "source": [
    "### 1.1 Parse the dataset population.csv into a pandas DataFrame and clean (5 pts.)\n",
    "\n",
    "Complete the function `getData(path)`, which reads the file specified in the `path` input. \n",
    "\n",
    "The function should return a pandas `DataFrame`, containing the data in _population.csv_. \n",
    "\n",
    "The dataset holds data from the population of Barcelona over multiple years. \n",
    "\n",
    "For the following questions, we want to only use data from the year 2017. Therefore clean the data accordingly."
   ]
  },
  {
   "cell_type": "code",
   "execution_count": 12,
   "metadata": {},
   "outputs": [],
   "source": [
    "def getData(path):\n",
    "    \n",
    "    ### Your code here ###\n",
    "    data = pd.read_csv(path)\n",
    "    \n",
    "    return data[data[\"Year\"]==2017]"
   ]
  },
  {
   "cell_type": "code",
   "execution_count": 13,
   "metadata": {},
   "outputs": [],
   "source": [
    "data = getData('population.csv')"
   ]
  },
  {
   "cell_type": "code",
   "execution_count": 14,
   "metadata": {},
   "outputs": [
    {
     "data": {
      "text/plain": [
       "array([2017], dtype=int64)"
      ]
     },
     "execution_count": 14,
     "metadata": {},
     "output_type": "execute_result"
    }
   ],
   "source": [
    "np.unique(np.array(data[\"Year\"]))"
   ]
  },
  {
   "cell_type": "code",
   "execution_count": 15,
   "metadata": {},
   "outputs": [
    {
     "data": {
      "text/html": [
       "<div>\n",
       "<style scoped>\n",
       "    .dataframe tbody tr th:only-of-type {\n",
       "        vertical-align: middle;\n",
       "    }\n",
       "\n",
       "    .dataframe tbody tr th {\n",
       "        vertical-align: top;\n",
       "    }\n",
       "\n",
       "    .dataframe thead th {\n",
       "        text-align: right;\n",
       "    }\n",
       "</style>\n",
       "<table border=\"1\" class=\"dataframe\">\n",
       "  <thead>\n",
       "    <tr style=\"text-align: right;\">\n",
       "      <th></th>\n",
       "      <th>Year</th>\n",
       "      <th>District.Code</th>\n",
       "      <th>District.Name</th>\n",
       "      <th>Neighborhood.Code</th>\n",
       "      <th>Neighborhood.Name</th>\n",
       "      <th>Gender</th>\n",
       "      <th>Age</th>\n",
       "      <th>Population</th>\n",
       "    </tr>\n",
       "  </thead>\n",
       "  <tbody>\n",
       "    <tr>\n",
       "      <th>0</th>\n",
       "      <td>2017</td>\n",
       "      <td>1</td>\n",
       "      <td>Ciutat Vella</td>\n",
       "      <td>1</td>\n",
       "      <td>el Raval</td>\n",
       "      <td>Male</td>\n",
       "      <td>0-4</td>\n",
       "      <td>224</td>\n",
       "    </tr>\n",
       "    <tr>\n",
       "      <th>1</th>\n",
       "      <td>2017</td>\n",
       "      <td>1</td>\n",
       "      <td>Ciutat Vella</td>\n",
       "      <td>2</td>\n",
       "      <td>el Barri Gòtic</td>\n",
       "      <td>Male</td>\n",
       "      <td>0-4</td>\n",
       "      <td>50</td>\n",
       "    </tr>\n",
       "    <tr>\n",
       "      <th>2</th>\n",
       "      <td>2017</td>\n",
       "      <td>1</td>\n",
       "      <td>Ciutat Vella</td>\n",
       "      <td>3</td>\n",
       "      <td>la Barceloneta</td>\n",
       "      <td>Male</td>\n",
       "      <td>0-4</td>\n",
       "      <td>43</td>\n",
       "    </tr>\n",
       "    <tr>\n",
       "      <th>3</th>\n",
       "      <td>2017</td>\n",
       "      <td>1</td>\n",
       "      <td>Ciutat Vella</td>\n",
       "      <td>4</td>\n",
       "      <td>Sant Pere, Santa Caterina i la Ribera</td>\n",
       "      <td>Male</td>\n",
       "      <td>0-4</td>\n",
       "      <td>95</td>\n",
       "    </tr>\n",
       "    <tr>\n",
       "      <th>4</th>\n",
       "      <td>2017</td>\n",
       "      <td>2</td>\n",
       "      <td>Eixample</td>\n",
       "      <td>5</td>\n",
       "      <td>el Fort Pienc</td>\n",
       "      <td>Male</td>\n",
       "      <td>0-4</td>\n",
       "      <td>124</td>\n",
       "    </tr>\n",
       "  </tbody>\n",
       "</table>\n",
       "</div>"
      ],
      "text/plain": [
       "   Year  District.Code District.Name  Neighborhood.Code  \\\n",
       "0  2017              1  Ciutat Vella                  1   \n",
       "1  2017              1  Ciutat Vella                  2   \n",
       "2  2017              1  Ciutat Vella                  3   \n",
       "3  2017              1  Ciutat Vella                  4   \n",
       "4  2017              2      Eixample                  5   \n",
       "\n",
       "                       Neighborhood.Name Gender  Age  Population  \n",
       "0                               el Raval   Male  0-4         224  \n",
       "1                         el Barri Gòtic   Male  0-4          50  \n",
       "2                         la Barceloneta   Male  0-4          43  \n",
       "3  Sant Pere, Santa Caterina i la Ribera   Male  0-4          95  \n",
       "4                          el Fort Pienc   Male  0-4         124  "
      ]
     },
     "execution_count": 15,
     "metadata": {},
     "output_type": "execute_result"
    }
   ],
   "source": [
    "data.head()"
   ]
  },
  {
   "cell_type": "markdown",
   "metadata": {},
   "source": [
    "### 1.2 Find the total population in 2017 from the pandas DataFrame (5 pts.)\n",
    "\n",
    "Complete the function `getTotalPopulation(data)`, which gets `data` DataFrame input. \n",
    "\n",
    "The function should return a pandas `DataFrame`, containing the data in `data`. \n",
    "\n",
    "The `data` dataframe holds data from the population of Barcelona in 2017. \n",
    "\n",
    "For the following questions, we want to know the total number of population. "
   ]
  },
  {
   "cell_type": "code",
   "execution_count": 16,
   "metadata": {},
   "outputs": [],
   "source": [
    "def getTotalPopulation(data):\n",
    "    \n",
    "    population = data[\"Population\"].sum()\n",
    "    \n",
    "    return population"
   ]
  },
  {
   "cell_type": "code",
   "execution_count": 17,
   "metadata": {},
   "outputs": [
    {
     "data": {
      "text/plain": [
       "1620809"
      ]
     },
     "execution_count": 17,
     "metadata": {},
     "output_type": "execute_result"
    }
   ],
   "source": [
    "getTotalPopulation(data)"
   ]
  },
  {
   "cell_type": "markdown",
   "metadata": {},
   "source": [
    "## Exercise 2.0 Preprocessing (10 pts.)\n",
    "### a) - Scaling (5 pts.)\n",
    "For this exercise, you are given three datasets ```X1,X2,X3```. \n",
    "\n",
    "The goal of this exercise is to \n",
    " - normalize each of the ```X1,X2,X3```, by implementing the ```normalize``` function below and using it with an appropriate ```X_property```.\n",
    "\n",
    "The ```X_property``` determines, whether the data is sparse, or has outliers or none of the two. From this you must derive which of the imported Scalers to use. If ```X_property``` is ```None```, use the ```sklearn.preprocessing.StandardScaler```.\n",
    "\n",
    "To complete the ```normalize``` function, you should\n",
    " - create the right scaler object for each possible ```X_property```\n",
    " - create a pipeline object to which you add the scaler\n",
    " - fit the pipeline to your input data ```X```\n",
    " - return the transformed ```X```\n",
    "\n",
    "\n",
    "**After having implemented the function, please CORRECT AND UNCOMMENT the given print statements to see if your function runs withouot errors on the given data arrays.**"
   ]
  },
  {
   "cell_type": "code",
   "execution_count": 31,
   "metadata": {},
   "outputs": [],
   "source": [
    "from sklearn.preprocessing import StandardScaler\n",
    "from sklearn.preprocessing import RobustScaler\n",
    "from sklearn.preprocessing import MaxAbsScaler\n",
    "from sklearn.pipeline import make_pipeline\n",
    "import numpy as np\n",
    "\n",
    "X_properties = [None, 'sparse', 'has_outliers']\n",
    "\n",
    "# data is not sparse and has not got any outliers\n",
    "X1 = np.array([[ 1., -1.,  2.],\n",
    "              [ 2.,  3.,  2.5],\n",
    "              [ 0.5,  1., -1.]])\n",
    "\n",
    "# data is sparse\n",
    "X2 = np.array([[ 1., 0.,  2.],\n",
    "              [ 0.,  3.,  0.],\n",
    "              [ 0.5,  0., 0.]])\n",
    "\n",
    "# data has outliers\n",
    "X3 = np.array([[ 100., -1.,  2.],\n",
    "                [ 2.,  3.,  2.5],\n",
    "                [ 0.5,  1., -1.]])\n",
    "\n",
    "def normalize(X, X_property=None):\n",
    "    if X_property not in [None, 'sparse', 'has_outliers']:\n",
    "        raise NotImplementedError\n",
    "    \n",
    "    #>>> YOUR CODE HERE >>>\n",
    "    elif X_property == 'sparse':\n",
    "        pipe = make_pipeline(MaxAbsScaler())\n",
    "        transformer = pipe.fit(X)\n",
    "        return transformer.transform(X)\n",
    "    \n",
    "    elif X_property == 'has_outliers':\n",
    "        pipe = make_pipeline(RobustScaler())\n",
    "        transformer = pipe.fit(X)\n",
    "        return transformer.transform(X)\n",
    "    \n",
    "    else:\n",
    "        pipe = make_pipeline(StandardScaler())\n",
    "        transformer = pipe.fit(X)\n",
    "        return transformer.transform(X)\n",
    "\n",
    "    #<<<YOUE CODE ENDS <<<\n",
    "\n",
    "# print(normalize(X1, None))\n",
    "# # todo replace 'REPLACE_THIS_WITH_CORRECT_VALUE' with correct value\n",
    "# print(normalize(X2, 'sparse'))\n",
    "# print(normalize(X3, 'has_outliers'))\n",
    "# print(normalize(X3, 1))"
   ]
  },
  {
   "cell_type": "markdown",
   "metadata": {},
   "source": [
    "### b) Imputation (5 pts.)\n",
    "For this exercise, you are given the dataset ```X_nan```.\n",
    "\n",
    "\n",
    "You should now extend your ```normalize``` function, such that it can replace ```np.nan``` values by the mean value of the corresponding column. For that the function should now **additionally**\n",
    " - create a simple imputer with the right arguments\n",
    " - add the imputer object to the pipeline\n",
    " - fit the pipeline to your input data ```X```\n",
    " - return the transformed ```X```\n",
    " \n",
    " \n",
    "Note: You can copy the normalize function from above.\n",
    "\n",
    "\n",
    "**After having implemented the function, please uncomment the last print statement in this cell, to see if your function runs withouot errors on the given data array.**\n"
   ]
  },
  {
   "cell_type": "code",
   "execution_count": 32,
   "metadata": {},
   "outputs": [],
   "source": [
    "from sklearn.impute import SimpleImputer\n",
    "import numpy as np\n",
    "X_properties = [None, 'sparse', 'has_outliers']\n",
    "\n",
    "# data has missing values\n",
    "Xnan = np.array([[ 100., -1.,  np.nan],\n",
    "                 [ 2.,  3.,  np.nan],\n",
    "                 [ np.nan,  1., -1.]])\n",
    "\n",
    "def normalize(X, X_property=None):\n",
    "    if X_property not in X_properties:\n",
    "        raise NotImplementedError\n",
    "    \n",
    "    #>>> YOUR CODE HERE >>>\n",
    "    elif X_property == 'sparse':\n",
    "        pipe = make_pipeline(SimpleImputer(missing_values=np.nan, strategy='mean'),\n",
    "                             MaxAbsScaler())\n",
    "        transformer = pipe.fit(X)\n",
    "        return transformer.transform(X)\n",
    "    \n",
    "    elif X_property == 'has_outliers':\n",
    "        pipe = make_pipeline(SimpleImputer(missing_values=np.nan, strategy='mean'),\n",
    "                             RobustScaler())\n",
    "        transformer = pipe.fit(X)\n",
    "        return transformer.transform(X)\n",
    "    \n",
    "    else:\n",
    "        pipe = make_pipeline(SimpleImputer(missing_values=np.nan, strategy='mean'),\n",
    "                             StandardScaler())\n",
    "        transformer = pipe.fit(X)\n",
    "        return transformer.transform(X)\n",
    "\n",
    "    #<<<YOUE CODE ENDS <<<\n",
    "\n",
    "# print(normalize(Xnan, 'has_outliers'))"
   ]
  },
  {
   "cell_type": "markdown",
   "metadata": {},
   "source": [
    "## Exercise 2.1 Feature Selection (10 pts.)\n",
    "### a) Removing redundant features (5 pts.)\n",
    "\n",
    "You are given a labelled dataset ```X, y``` for a binary classification problem. \n",
    "\n",
    "It consists of 4 features, where 2 are redundant. \n",
    "\n",
    "The goal of this exercise is to remove the two redundant features using ```sklearn.feature_selection.SelectFromModel``` and ```sklearn.svm.LinearSVC``` with the 'l1'-penalty, as shown in the lecture. \n",
    "\n",
    "For this you should implement the function ```remove_redundant_features(X)``` as follows:\n",
    "- create a linear support vector classifier using the right values for 'penalty' and 'dual'\n",
    "- normalize the data using your function from above (if you implemented it, otherwise do not normalize the data) \n",
    "- fit the SelectFromModel transformer\n",
    "- return a boolean mask where Features are masked out that should be removed\n",
    "\n",
    "**After having implemented the function, please uncomment the last print statement in this cell, to see if your function runs withouot errors on the given data array.**\n",
    "\n",
    "Hints: \n",
    "\n",
    "- remember to set the right values for penalty and dual in the LinearSVC\n",
    "\n",
    "- using threshold='median' will make sure that SelectFromModel reduces the number of features to two."
   ]
  },
  {
   "cell_type": "code",
   "execution_count": 33,
   "metadata": {},
   "outputs": [],
   "source": [
    "from sklearn.datasets import make_classification\n",
    "from sklearn.svm import LinearSVC\n",
    "from sklearn.feature_selection import SelectFromModel\n",
    "\n",
    "X, y = make_classification(n_samples=100, \n",
    "                           n_classes=2,\n",
    "                           n_features=4,\n",
    "                           n_informative=2,\n",
    "                           n_redundant=2,\n",
    "                           random_state=42)\n",
    "\n",
    "def remove_redundant_features(X, y):\n",
    "    #>>> YOUR CODE HERE >>>\n",
    "    lsvc = LinearSVC(penalty=\"l1\", dual=False).fit(normalize(X), y)\n",
    "    \n",
    "    sfm = SelectFromModel(lsvc, threshold='median', prefit=True)\n",
    "    Xnew = sfm.transform(X)\n",
    "    mask = sfm.get_support()\n",
    "    return mask\n",
    "    #<<< YOUE CODE ENDS <<<\n",
    "\n",
    "# mask = remove_redundant_features(X, y)\n",
    "# print(mask)"
   ]
  },
  {
   "cell_type": "markdown",
   "metadata": {},
   "source": [
    "## Exercise 2.1 Feature Selection (10 pts.)\n",
    "### b) Refitting using reduced set of features (5 pts.)\n",
    "You are given the same labelled dataset ```X, y``` as in the previous exercise ```3a)```.\n",
    "\n",
    "After having implemented ```remove_redundant_featuers``` function above, you should now\n",
    "\n",
    " - apply ```remove_redundant_featuers``` to ```X``` **and transform  ```X``` using the result** (Hint: check the shape of ```X```, and consider using the transpose .T)\n",
    " - create train and test split using a random seed\n",
    " - normalize the data using your function from above (if you implemented it, otherwise do not normalize the data) \n",
    " - now fit a LinearSVC on the reduced and normalized dataset ```Xtrain``` and \n",
    " - print the result of calling its score method on the test data."
   ]
  },
  {
   "cell_type": "code",
   "execution_count": 21,
   "metadata": {},
   "outputs": [
    {
     "data": {
      "text/plain": [
       "0.95"
      ]
     },
     "execution_count": 21,
     "metadata": {},
     "output_type": "execute_result"
    }
   ],
   "source": [
    "from sklearn.datasets import make_classification\n",
    "from sklearn.svm import LinearSVC\n",
    "from sklearn.model_selection import train_test_split\n",
    "from sklearn.feature_selection import SelectFromModel\n",
    "\n",
    "X, y = make_classification(n_samples=100, \n",
    "                           n_classes=2,\n",
    "                           n_features=4,\n",
    "                           n_informative=2,\n",
    "                           n_redundant=2,\n",
    "                           random_state=42)\n",
    "\n",
    "#>>> YOUR CODE HERE >>>\n",
    "mask = remove_redundant_features(X, y)\n",
    "\n",
    "Xtrain, Xtest, ytrain, ytest = train_test_split(X, y, random_state=42, test_size=0.2)\n",
    "\n",
    "X_selected = Xtrain*mask\n",
    "\n",
    "Xtrain_new = normalize(X_selected)\n",
    "lsvc = LinearSVC(penalty=\"l1\", dual=False).fit(Xtrain_new, ytrain)\n",
    "\n",
    "lsvc.score(normalize(Xtest*mask), ytest)\n",
    "#<<< YOUE CODE ENDS <<<"
   ]
  },
  {
   "cell_type": "markdown",
   "metadata": {},
   "source": [
    "## Exercise 3. Hyperparameter Optimization (10 pt)\n",
    "\n",
    "You are given the same labelled dataset ```X, y``` as before and should now train a ```sklearn.svm.SVC estimator```. \n",
    "\n",
    "For that, a parameter grid is given, from which you should pick the parameter combination, which performs best on the classification task, given a handicap we provide. \n",
    "\n",
    "The handicap is the restriction of the dataset to only 20 percent of the data, which is already implemented for you via the train_test_split.\n",
    "\n",
    "Your task is to implement the ```report_best_params_w_score``` function by \n",
    "- normalizing ```Xtrain``` using your function from task ```3.0 a)``` or an appropriate sklearn function\n",
    "- doing a GridSearch using the import GridSearchCV object over the parameter grid (i.e. by properly calling its ```.fit``` method\n",
    "- printing the best parameters obtained\n",
    "- returning the best_estimator (Hint: see GridSearchCV's corresponding attribute in the documentation)\n",
    " \n",
    "\n",
    "Finally, you should use the returned estimator, to evaluate the test score, by calling its .score method."
   ]
  },
  {
   "cell_type": "code",
   "execution_count": 34,
   "metadata": {},
   "outputs": [],
   "source": [
    "from sklearn.datasets import make_classification\n",
    "from sklearn.svm import SVC\n",
    "from sklearn.feature_selection import SelectFromModel\n",
    "from sklearn.model_selection import train_test_split\n",
    "from sklearn.model_selection import GridSearchCV\n",
    "\n",
    "def report_best_params_w_score():\n",
    "    X, y = make_classification(n_samples=100, \n",
    "                           n_features=4,\n",
    "                           n_informative=2,\n",
    "                           n_redundant=2,\n",
    "                           random_state=42)\n",
    "\n",
    "    param_grid = {'C': [0.1,1.,10], 'kernel': ['rbf', 'linear']}\n",
    "    Xtrain, Xtest, ytrain, ytest = train_test_split(X, y, \n",
    "                                                    random_state=42, \n",
    "                                                    test_size=0.8)\n",
    "    #>>> YOUR CODE HERE >>>\n",
    "    Xtrain_new = normalize(Xtrain)\n",
    "    \n",
    "    clf = GridSearchCV(SVC(),param_grid,cv=None,scoring=None)\n",
    "    \n",
    "    clf.fit(normalize(Xtrain_new), ytrain)\n",
    "    return clf.best_estimator_\n",
    "    #<<< YOUE CODE ENDS <<<\n",
    "\n",
    "# print(report_best_params_w_score())"
   ]
  },
  {
   "cell_type": "markdown",
   "metadata": {},
   "source": [
    "## Exercise 4: Logistic Regression optimization: Applying Gradient Descent using Binary Cross Entropy Loss(10 pts.)\n",
    "\n",
    "- Implement the gradient descent algorithm on the Logistic Regression model as discussed in the lecture.\n",
    "- use 100 epochs(update steps)\n",
    "- use learning rate alpha of 0.0001\n",
    "- use the X dataset from below. Use the whole X and y arrays, _no train test split needed here._\n",
    "- don't change the weight parameter(w) initialization and don't change the random seed\n",
    "- Use the \"log_loss\" function that gets imported below. It's the SkLearn implementation for the binary-cross entropy loss function.\n",
    "- Use the \"expit\" function that gets imported below. It's the SciPy implementation for the sigmoid function.\n",
    "- Plot the training loss over epochs\n",
    "\n",
    "#### The formula for the gradient of the binary-cross entropy loss function:\n",
    "- $\\nabla_{\\mathbf w^t} J(\\mathbf w^t) = \\frac{1}{N}\\mathbf X^T(\\sigma(\\mathbf X \\mathbf w^t)-\\mathbf y)$\n",
    "- Update rule Gradient Descent: $\\mathbf{w}^t=\\mathbf{w}^t-\\alpha \\nabla_{\\mathbf w} J(\\mathbf w^t)$"
   ]
  },
  {
   "cell_type": "code",
   "execution_count": 23,
   "metadata": {},
   "outputs": [],
   "source": [
    "from scipy.special import expit\n",
    "from sklearn.metrics import log_loss \n",
    "from sklearn.datasets import load_breast_cancer"
   ]
  },
  {
   "cell_type": "code",
   "execution_count": 24,
   "metadata": {},
   "outputs": [],
   "source": [
    "X, Y = load_breast_cancer(return_X_y=True)\n",
    "X = np.hstack([np.ones((X.shape[0], 1)), X])"
   ]
  },
  {
   "cell_type": "code",
   "execution_count": 25,
   "metadata": {},
   "outputs": [
    {
     "data": {
      "text/plain": [
       "(569, 31)"
      ]
     },
     "execution_count": 25,
     "metadata": {},
     "output_type": "execute_result"
    }
   ],
   "source": [
    "X.shape"
   ]
  },
  {
   "cell_type": "code",
   "execution_count": 26,
   "metadata": {},
   "outputs": [
    {
     "data": {
      "text/plain": [
       "(569,)"
      ]
     },
     "execution_count": 26,
     "metadata": {},
     "output_type": "execute_result"
    }
   ],
   "source": [
    "Y.shape"
   ]
  },
  {
   "cell_type": "code",
   "execution_count": 27,
   "metadata": {},
   "outputs": [],
   "source": [
    "n_epochs = 100\n",
    "alpha = 0.0001"
   ]
  },
  {
   "cell_type": "code",
   "execution_count": 28,
   "metadata": {},
   "outputs": [
    {
     "data": {
      "image/png": "[encoded data removed]",
      "text/plain": [
       "<Figure size 432x288 with 1 Axes>"
      ]
     },
     "metadata": {
      "needs_background": "light"
     },
     "output_type": "display_data"
    }
   ],
   "source": [
    "np.random.seed(42)\n",
    "w = np.random.rand(X.shape[1],1)\n",
    "\n",
    "loss = []\n",
    "\n",
    "for i in range(n_epochs):        \n",
    "    # Compute the gradient\n",
    "    ### Your code here ###\n",
    "    delta_J = (1/len(X)) * np.dot(X.T, (expit(np.dot(X,w)) - Y[:,np.newaxis]))\n",
    "\n",
    "    # Apply the udpate step\n",
    "    ### Your code here ###\n",
    "    w = w - alpha * delta_J\n",
    "    \n",
    "    # store the loss in the loss array (optional)\n",
    "    ### Your code here ###\n",
    "    loss.append(log_loss(Y, expit(np.dot(X,w))))\n",
    "    \n",
    "    \n",
    "# Plot the loss\n",
    "plt.plot(loss);\n",
    "plt.xlabel(\"Epochs\")\n",
    "plt.ylabel(\"Loss\");"
   ]
  },
  {
   "cell_type": "code",
   "execution_count": 29,
   "metadata": {},
   "outputs": [],
   "source": [
    "# thanks a lot :)"
   ]
  }
 ],
 "metadata": {
  "kernelspec": {
   "display_name": "Python 3",
   "language": "python",
   "name": "python3"
  },
  "language_info": {
   "codemirror_mode": {
    "name": "ipython",
    "version": 3
   },
   "file_extension": ".py",
   "mimetype": "text/x-python",
   "name": "python",
   "nbconvert_exporter": "python",
   "pygments_lexer": "ipython3",
   "version": "3.7.4"
  }
 },
 "nbformat": 4,
 "nbformat_minor": 4
}
