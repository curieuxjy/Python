{
 "cells": [
  {
   "cell_type": "markdown",
   "metadata": {},
   "source": [
    "# Exercise 1 Solutions: Math and Python Fundamentals\n",
    "\n",
    "This sheet will help you learn the python basics!\n",
    "\n",
    "To test your code, simply add any number of cells! The provided function headers should give you some help and a hint to a solution, but you don't have to use them!\n",
    "\n",
    "**Remember**: \n",
    "- test your code a lot, to see which changes have which effects. \n",
    "- it is also helpful to try to solve the assignment in small steps.\n",
    "- everything you need were covered in the lecture, try to look there before using google"
   ]
  },
  {
   "cell_type": "markdown",
   "metadata": {},
   "source": [
    "## 1. Build a List Evaluator"
   ]
  },
  {
   "cell_type": "markdown",
   "metadata": {},
   "source": [
    "Fill out the function below, which calculates and prints out the maximum value, minimum value, sum of all values, mean, and the variance for a list of numbers. (Try not to use the sum, max or min functions in python).\n",
    "\n",
    "(Quick reminder empirical variance for dataset with n points)\n",
    "\n",
    "$\\sigma_x^{2}=\\frac{1}{n}\\sum_{i=1}^n(x_i-\\mu_x)^2$,\n",
    "\n",
    "here $\\mu_x$ is the mean value of the list."
   ]
  },
  {
   "cell_type": "code",
   "execution_count": 3,
   "metadata": {},
   "outputs": [],
   "source": [
    "def evaluate_list(values):\n",
    "    \n",
    "    # iterate over all values\n",
    "    i = 0\n",
    "    \n",
    "    # init placeholders for max and min\n",
    "    max_value = values[0]\n",
    "    min_value = values[0]\n",
    "    \n",
    "    # store sum of values for the average\n",
    "    sumValues = 0\n",
    "    \n",
    "    for x in values: # iterate over all values in list\n",
    "        print(\"x is\", x)\n",
    "        # check if new value x is bigger than stored max value \n",
    "        if x > max_value:\n",
    "            max_value = x\n",
    "        # check if new value x is smaller than stored min value \n",
    "        if x < min_value:\n",
    "            min_value = x\n",
    "            \n",
    "        # add sto sum\n",
    "        sumValues = sumValues + x\n",
    "        \n",
    "    # calculate the average\n",
    "    avgValue = sumValues/(len(values))\n",
    "    \n",
    "    # placerholder for variance \n",
    "    variance = 0\n",
    "    \n",
    "    # for each value, calculate the difference to the average \n",
    "    for x in values:    \n",
    "        variance = variance + (x-avgValue)**2\n",
    "    \n",
    "    # divide by number of samples\n",
    "    variance = variance/(len(values))\n",
    "    \n",
    "    # print out values\n",
    "    print(\"The average is: \" + str(avgValue))\n",
    "    print(\"The max value is: \" + str(max_value))\n",
    "    print(\"The min value is:\" + str(min_value))\n",
    "    print(\"The variance is: \" + str(variance)) \n",
    "    \n",
    "    return max_value, min_value, avgValue, variance"
   ]
  },
  {
   "cell_type": "code",
   "execution_count": 4,
   "metadata": {},
   "outputs": [
    {
     "name": "stdout",
     "output_type": "stream",
     "text": [
      "x is 4\n",
      "x is 2\n",
      "x is 66\n",
      "x is 7\n",
      "x is 5\n",
      "The average is: 16.8\n",
      "The max value is: 66\n",
      "The min value is:2\n",
      "The variance is: 607.76\n"
     ]
    },
    {
     "data": {
      "text/plain": [
       "(66, 2, 16.8, 607.76)"
      ]
     },
     "execution_count": 4,
     "metadata": {},
     "output_type": "execute_result"
    }
   ],
   "source": [
    "x = [4,2,66,7,5]\n",
    "evaluate_list(x)"
   ]
  },
  {
   "cell_type": "markdown",
   "metadata": {},
   "source": [
    "## 2.  Build a simple calculator\n",
    "\n",
    "Write a function, which takes in two numbers, x and y, and does a mathmatical operation of those numbers. The third input is the operation, which should be a string. Possible operations are: \n",
    "- **add**\n",
    "- **subtract**, \n",
    "- **multiply**, \n",
    "- **divide**, \n",
    "- **whole-division**\n",
    "- **modulo**\n",
    "- **power**\n",
    "\n",
    "Your function should make sure the values x and y are of type `int` or `float`. If the values x and y are not numbers, or the operation is not one of the listed ones, the function should print out a message with the error and return `None`."
   ]
  },
  {
   "cell_type": "code",
   "execution_count": 5,
   "metadata": {},
   "outputs": [
    {
     "name": "stderr",
     "output_type": "stream",
     "text": [
      "<>:11: SyntaxWarning: \"is\" with a literal. Did you mean \"==\"?\n",
      "<>:13: SyntaxWarning: \"is\" with a literal. Did you mean \"==\"?\n",
      "<>:15: SyntaxWarning: \"is\" with a literal. Did you mean \"==\"?\n",
      "<>:17: SyntaxWarning: \"is\" with a literal. Did you mean \"==\"?\n",
      "<>:19: SyntaxWarning: \"is\" with a literal. Did you mean \"==\"?\n",
      "<>:21: SyntaxWarning: \"is\" with a literal. Did you mean \"==\"?\n",
      "<>:11: SyntaxWarning: \"is\" with a literal. Did you mean \"==\"?\n",
      "<>:13: SyntaxWarning: \"is\" with a literal. Did you mean \"==\"?\n",
      "<>:15: SyntaxWarning: \"is\" with a literal. Did you mean \"==\"?\n",
      "<>:17: SyntaxWarning: \"is\" with a literal. Did you mean \"==\"?\n",
      "<>:19: SyntaxWarning: \"is\" with a literal. Did you mean \"==\"?\n",
      "<>:21: SyntaxWarning: \"is\" with a literal. Did you mean \"==\"?\n",
      "<ipython-input-5-c635fbb44102>:11: SyntaxWarning: \"is\" with a literal. Did you mean \"==\"?\n",
      "  elif operation is \"subtract\":\n",
      "<ipython-input-5-c635fbb44102>:13: SyntaxWarning: \"is\" with a literal. Did you mean \"==\"?\n",
      "  elif operation is \"mutliply\":\n",
      "<ipython-input-5-c635fbb44102>:15: SyntaxWarning: \"is\" with a literal. Did you mean \"==\"?\n",
      "  elif operation is \"divide\":\n",
      "<ipython-input-5-c635fbb44102>:17: SyntaxWarning: \"is\" with a literal. Did you mean \"==\"?\n",
      "  elif operation is \"whole_division\":\n",
      "<ipython-input-5-c635fbb44102>:19: SyntaxWarning: \"is\" with a literal. Did you mean \"==\"?\n",
      "  elif operation is \"modulo\":\n",
      "<ipython-input-5-c635fbb44102>:21: SyntaxWarning: \"is\" with a literal. Did you mean \"==\"?\n",
      "  elif operation is \"power\":\n"
     ]
    }
   ],
   "source": [
    "def calculator(x, y, operation):\n",
    "    \n",
    "    # check if x and y \n",
    "    if not ((type(x) is int or type(x) is float) and\\\n",
    "(type(y) is int or type(y) is float)):\n",
    "        print(\"Warning: input values must be of type int or float\")\n",
    "        return # jump out of function\n",
    "    \n",
    "    if operation == \"add\":\n",
    "        return x + y\n",
    "    elif operation is \"subtract\":\n",
    "        return x - y\n",
    "    elif operation is \"mutliply\":\n",
    "        return x * y\n",
    "    elif operation is \"divide\":\n",
    "        return x / y\n",
    "    elif operation is \"whole_division\":\n",
    "        return x // y\n",
    "    elif operation is \"modulo\":\n",
    "        return x % y\n",
    "    elif operation is \"power\":\n",
    "        return x**y\n",
    "    else:\n",
    "        print(\"Error: operation is invalid\")"
   ]
  },
  {
   "cell_type": "code",
   "execution_count": 6,
   "metadata": {},
   "outputs": [
    {
     "data": {
      "text/plain": [
       "10"
      ]
     },
     "execution_count": 6,
     "metadata": {},
     "output_type": "execute_result"
    }
   ],
   "source": [
    "calculator(4,6,\"add\")"
   ]
  },
  {
   "cell_type": "code",
   "execution_count": null,
   "metadata": {},
   "outputs": [],
   "source": []
  },
  {
   "cell_type": "markdown",
   "metadata": {},
   "source": []
  },
  {
   "cell_type": "code",
   "execution_count": null,
   "metadata": {},
   "outputs": [],
   "source": []
  },
  {
   "cell_type": "markdown",
   "metadata": {},
   "source": [
    "## 3. Build an Invoice Generator\n",
    "\n",
    "Write a function, which prints out an invoice for an order for a supermarket. At the moment, the supermarket only has only 4 different products and prices for each: \n",
    "\n",
    "- Watermelons for 3.8\n",
    "- Apples  for 0.9 \n",
    "- Bananas for 1.1 \n",
    "- Tomatoes for 2.7\n",
    "\n",
    "Since the supermarket is pretty new, they have a special going on: If one buys more tomatoes than watermelons, the bananas are free! Else, if the price for all apples is higher than the price for all tomatoes, the watermelons are free! (weird special , I know).\n",
    "The input for the generator is: the name of the customer and number of each item bought. The generator should print out an invoice."
   ]
  },
  {
   "cell_type": "code",
   "execution_count": 7,
   "metadata": {},
   "outputs": [],
   "source": [
    "def invoice_generator(name, watermelons, apples, bananas, tomatoes):\n",
    "    \n",
    "    price_w = 3.8\n",
    "    price_a = 0.9\n",
    "    price_b = 1.1\n",
    "    price_t = 2.7\n",
    "    \n",
    "    \n",
    "    if(tomatoes > watermelons):\n",
    "        price_b *= 0.9\n",
    "    elif(apples * price_a > 10):\n",
    "        price_t = 0.0\n",
    "        \n",
    "    sumAll = watermelons*price_w + apples*price_a + bananas*price_b + tomatoes*price_t\n",
    "    \n",
    "    print(\"Dear \"+ name +\", your total is: \"+str(sumAll))\n",
    "    "
   ]
  },
  {
   "cell_type": "code",
   "execution_count": 8,
   "metadata": {},
   "outputs": [
    {
     "name": "stdout",
     "output_type": "stream",
     "text": [
      "Dear Jason, your total is: 30.35\n"
     ]
    }
   ],
   "source": [
    "invoice_generator(\"Jason\",1,3,5,7)"
   ]
  },
  {
   "cell_type": "markdown",
   "metadata": {},
   "source": [
    "## 4. My first Data Set\n",
    "\n",
    "Build your own data set on countries by completing the function `create_country_data()`. Each data point (country) should be a `tuple`. Each data point has 5 values, e.g. features in strict order. These are:\n",
    "\n",
    "1. name of the country\n",
    "2. area in km² \n",
    "3. population (the latest you can find)\n",
    "4. capital city\n",
    "5. offial currency\n",
    "\n",
    "Use the correct primitve data type for each feature. Use the the internet to come up with at least 5 examples data points (you can also do more). Save all your data points in a `list` and return that `list` for the function `create_country_data()`.\n",
    "\n",
    "Additionally, complete the function `get_max_area_country(data)` which will find the biggest country in your data set. Therefore, the function should return the `tuple` representing the country with the biggest area in your data set."
   ]
  },
  {
   "cell_type": "code",
   "execution_count": 9,
   "metadata": {},
   "outputs": [],
   "source": [
    "def create_country_data():\n",
    "    # YOUR CODE starts here!\n",
    "    \n",
    "    # just some examples\n",
    "    germany = (\"Germany\",357022, 83166711,\"Berlin\", \"Euro\")\n",
    "    usa = (\"United States of America\", 9833520, 328239523, \"Washington, D.C.\", \"United States Dollar\")\n",
    "    nigeria = (\"Nigeria\", 923769 ,206630269,\"Abuja\",\"Naira\")\n",
    "    south_korea = (\"South Korea\", 100363, 51709098, \"Seoul\", \"\tKorean Republic Won\")\n",
    "    chile = (\"Chile\", 756096, 17574003, \"Santiago\", \"Peso\")\n",
    "    \n",
    "    # put all countries in one list\n",
    "    countries = [germany, usa, nigeria, south_korea, chile]\n",
    "    \n",
    "    # YOUR CODE ENDS here!\n",
    "    return countries"
   ]
  },
  {
   "cell_type": "code",
   "execution_count": 10,
   "metadata": {},
   "outputs": [
    {
     "data": {
      "text/plain": [
       "[('Germany', 357022, 83166711, 'Berlin', 'Euro'),\n",
       " ('United States of America',\n",
       "  9833520,\n",
       "  328239523,\n",
       "  'Washington, D.C.',\n",
       "  'United States Dollar'),\n",
       " ('Nigeria', 923769, 206630269, 'Abuja', 'Naira'),\n",
       " ('South Korea', 100363, 51709098, 'Seoul', '\\tKorean Republic Won'),\n",
       " ('Chile', 756096, 17574003, 'Santiago', 'Peso')]"
      ]
     },
     "execution_count": 10,
     "metadata": {},
     "output_type": "execute_result"
    }
   ],
   "source": [
    "## run this cell to create your data set\n",
    "data_country = create_country_data()\n",
    "data_country"
   ]
  },
  {
   "cell_type": "code",
   "execution_count": 11,
   "metadata": {},
   "outputs": [],
   "source": [
    "def get_max_area_country(data):\n",
    "    # YOUR CODE starts here!\n",
    "    \n",
    "    # create variable where we want to store current results in loop\n",
    "    current_max_area = 0\n",
    "    biggest_country = 0\n",
    "    \n",
    "    for country in data:\n",
    "        \n",
    "        # check if the current country in loop is bigger than currently stored biggest s\n",
    "        if country[1] > current_max_area:\n",
    "            # save the new biggest country\n",
    "            biggest_country = country\n",
    "            # also save current biggest area, since we will need for later iterations in loop\n",
    "            current_max_area = country[1]\n",
    "            \n",
    "    # YOUR CODE ENDS here!\n",
    "    return biggest_country"
   ]
  },
  {
   "cell_type": "code",
   "execution_count": 12,
   "metadata": {},
   "outputs": [
    {
     "data": {
      "text/plain": [
       "('United States of America',\n",
       " 9833520,\n",
       " 328239523,\n",
       " 'Washington, D.C.',\n",
       " 'United States Dollar')"
      ]
     },
     "execution_count": 12,
     "metadata": {},
     "output_type": "execute_result"
    }
   ],
   "source": [
    "# run this cell to see if you get the biggest country\n",
    "get_max_area_country(data_country)"
   ]
  },
  {
   "cell_type": "markdown",
   "metadata": {},
   "source": [
    "## 5. (Advanced) Build a X-mas Tree generator"
   ]
  },
  {
   "cell_type": "markdown",
   "metadata": {},
   "source": [
    "Write a function which prints out a christmas tree! The tree consisits out of stars. The input to the function is only the number of levels and the height of each level. With each level, the tree gets two stars wider. \n",
    "\n",
    "Example with `num_levels=5` and `height_level=6`:\n",
    "\n",
    "![](example_xmas_tree.png)\n",
    "\n",
    "**Hint**: You definetly need to use loops and print spaces for places not filled with stars. Also try to calculate first the width of the tree."
   ]
  },
  {
   "cell_type": "code",
   "execution_count": 19,
   "metadata": {},
   "outputs": [],
   "source": [
    "def build_xmas_tree(height_level, num_levels):\n",
    "    width = (1+(height_level-1)*2)+((num_levels-1)*2)\n",
    "    \n",
    "    for i_levels in range(num_levels):\n",
    "    \n",
    "        for j_height_lvl in range(height_level):\n",
    "\n",
    "            for k in range (width):\n",
    "\n",
    "                if width//2-j_height_lvl-i_levels-1 < k <\\\n",
    "                width//2+j_height_lvl+i_levels+1: \n",
    "                    print(\"*\", end='')\n",
    "                else:\n",
    "                    print(\" \", end='')\n",
    "            print()\n",
    "    return"
   ]
  },
  {
   "cell_type": "code",
   "execution_count": 20,
   "metadata": {},
   "outputs": [
    {
     "name": "stdout",
     "output_type": "stream",
     "text": [
      "         *         \n",
      "        ***        \n",
      "       *****       \n",
      "      *******      \n",
      "     *********     \n",
      "    ***********    \n",
      "        ***        \n",
      "       *****       \n",
      "      *******      \n",
      "     *********     \n",
      "    ***********    \n",
      "   *************   \n",
      "       *****       \n",
      "      *******      \n",
      "     *********     \n",
      "    ***********    \n",
      "   *************   \n",
      "  ***************  \n",
      "      *******      \n",
      "     *********     \n",
      "    ***********    \n",
      "   *************   \n",
      "  ***************  \n",
      " ***************** \n",
      "     *********     \n",
      "    ***********    \n",
      "   *************   \n",
      "  ***************  \n",
      " ***************** \n",
      "*******************\n"
     ]
    }
   ],
   "source": [
    "build_xmas_tree(6,5)"
   ]
  }
 ],
 "metadata": {
  "kernelspec": {
   "display_name": "Python 3",
   "language": "python",
   "name": "python3"
  },
  "language_info": {
   "codemirror_mode": {
    "name": "ipython",
    "version": 3
   },
   "file_extension": ".py",
   "mimetype": "text/x-python",
   "name": "python",
   "nbconvert_exporter": "python",
   "pygments_lexer": "ipython3",
   "version": "3.8.5"
  }
 },
 "nbformat": 4,
 "nbformat_minor": 2
}
