{
 "cells": [
  {
   "cell_type": "markdown",
   "metadata": {
    "slideshow": {
     "slide_type": "slide"
    }
   },
   "source": [
    "# Linear Algebra Fundamentals"
   ]
  },
  {
   "cell_type": "markdown",
   "metadata": {
    "slideshow": {
     "slide_type": "slide"
    }
   },
   "source": [
    "## Scalars"
   ]
  },
  {
   "cell_type": "markdown",
   "metadata": {
    "slideshow": {
     "slide_type": "slide"
    }
   },
   "source": [
    "### Operations with Python built-in functions"
   ]
  },
  {
   "cell_type": "markdown",
   "metadata": {
    "slideshow": {
     "slide_type": "subslide"
    }
   },
   "source": [
    "- Addition:\n",
    "    - $c = a + b$"
   ]
  },
  {
   "cell_type": "code",
   "execution_count": 1,
   "metadata": {
    "slideshow": {
     "slide_type": "-"
    }
   },
   "outputs": [],
   "source": [
    "a = 6\n",
    "b = 3\n",
    "c = a + b"
   ]
  },
  {
   "cell_type": "code",
   "execution_count": 2,
   "metadata": {
    "slideshow": {
     "slide_type": "-"
    }
   },
   "outputs": [
    {
     "name": "stdout",
     "output_type": "stream",
     "text": [
      "9\n"
     ]
    }
   ],
   "source": [
    "print(c)"
   ]
  },
  {
   "cell_type": "markdown",
   "metadata": {
    "slideshow": {
     "slide_type": "subslide"
    }
   },
   "source": [
    "- Subtraction:\n",
    "    - $c = a - b$"
   ]
  },
  {
   "cell_type": "code",
   "execution_count": 3,
   "metadata": {
    "slideshow": {
     "slide_type": "-"
    }
   },
   "outputs": [],
   "source": [
    "c = a - b"
   ]
  },
  {
   "cell_type": "code",
   "execution_count": 4,
   "metadata": {
    "slideshow": {
     "slide_type": "-"
    }
   },
   "outputs": [
    {
     "name": "stdout",
     "output_type": "stream",
     "text": [
      "3\n"
     ]
    }
   ],
   "source": [
    "print(c)"
   ]
  },
  {
   "cell_type": "markdown",
   "metadata": {
    "slideshow": {
     "slide_type": "subslide"
    }
   },
   "source": [
    "- Multiplication:\n",
    "    - $c = a * b$"
   ]
  },
  {
   "cell_type": "code",
   "execution_count": 5,
   "metadata": {
    "slideshow": {
     "slide_type": "-"
    }
   },
   "outputs": [],
   "source": [
    "c = a * b"
   ]
  },
  {
   "cell_type": "code",
   "execution_count": 6,
   "metadata": {
    "slideshow": {
     "slide_type": "-"
    }
   },
   "outputs": [
    {
     "name": "stdout",
     "output_type": "stream",
     "text": [
      "18\n"
     ]
    }
   ],
   "source": [
    "print(c)"
   ]
  },
  {
   "cell_type": "markdown",
   "metadata": {
    "slideshow": {
     "slide_type": "subslide"
    }
   },
   "source": [
    "- Division:\n",
    "    - c = a / b"
   ]
  },
  {
   "cell_type": "code",
   "execution_count": 7,
   "metadata": {
    "slideshow": {
     "slide_type": "-"
    }
   },
   "outputs": [],
   "source": [
    "c = a / b"
   ]
  },
  {
   "cell_type": "code",
   "execution_count": 8,
   "metadata": {
    "slideshow": {
     "slide_type": "-"
    }
   },
   "outputs": [
    {
     "name": "stdout",
     "output_type": "stream",
     "text": [
      "2.0\n"
     ]
    }
   ],
   "source": [
    "print(c)"
   ]
  },
  {
   "cell_type": "markdown",
   "metadata": {
    "slideshow": {
     "slide_type": "slide"
    }
   },
   "source": [
    "### Scalar norm/magnitude:"
   ]
  },
  {
   "cell_type": "markdown",
   "metadata": {
    "slideshow": {
     "slide_type": "subslide"
    }
   },
   "source": [
    "- Absolute scalar value:\n",
    "    - $|c| = \\begin{cases} c \\text{ if }c>0, \\\\ -c \\text{ otherwise.} \\end{cases}$"
   ]
  },
  {
   "cell_type": "code",
   "execution_count": 9,
   "metadata": {
    "slideshow": {
     "slide_type": "-"
    }
   },
   "outputs": [],
   "source": [
    "c = -1\n",
    "c_new = abs(c)"
   ]
  },
  {
   "cell_type": "code",
   "execution_count": 10,
   "metadata": {
    "slideshow": {
     "slide_type": "-"
    }
   },
   "outputs": [
    {
     "name": "stdout",
     "output_type": "stream",
     "text": [
      "-1\n",
      "1\n"
     ]
    }
   ],
   "source": [
    "print(c)\n",
    "print(c_new)"
   ]
  },
  {
   "cell_type": "code",
   "execution_count": 11,
   "metadata": {
    "slideshow": {
     "slide_type": "-"
    }
   },
   "outputs": [],
   "source": [
    "c = 1 \n",
    "c_new = abs(c)"
   ]
  },
  {
   "cell_type": "code",
   "execution_count": 12,
   "metadata": {
    "slideshow": {
     "slide_type": "-"
    }
   },
   "outputs": [
    {
     "name": "stdout",
     "output_type": "stream",
     "text": [
      "1\n",
      "1\n"
     ]
    }
   ],
   "source": [
    "print(c)\n",
    "print(c_new)"
   ]
  },
  {
   "cell_type": "markdown",
   "metadata": {
    "slideshow": {
     "slide_type": "subslide"
    }
   },
   "source": [
    "#### Dimensionality:\n",
    "- A scalar real-numbered variable $x$, consist of 1 element. Thus it has dimensionality of one, or as denoted in literature $x\\in\\mathbb{R}$. "
   ]
  },
  {
   "cell_type": "markdown",
   "metadata": {
    "slideshow": {
     "slide_type": "slide"
    }
   },
   "source": [
    "## Vector operations using Numpy package"
   ]
  },
  {
   "cell_type": "code",
   "execution_count": 13,
   "metadata": {
    "slideshow": {
     "slide_type": "-"
    }
   },
   "outputs": [],
   "source": [
    "import numpy as np"
   ]
  },
  {
   "cell_type": "markdown",
   "metadata": {
    "slideshow": {
     "slide_type": "subslide"
    }
   },
   "source": [
    "- vector representation:\n",
    "    - $\\vec{a}=\\Bigl[\\begin{matrix}2 \\\\4\\end{matrix}\\Bigl]$\n",
    "    \n",
    "![Vector](./resources/vec.png)"
   ]
  },
  {
   "cell_type": "code",
   "execution_count": 39,
   "metadata": {
    "slideshow": {
     "slide_type": "subslide"
    }
   },
   "outputs": [],
   "source": [
    "a1 = np.array([2, 4]) #row vector\n",
    "a2 = np.array([[2], [4]])"
   ]
  },
  {
   "cell_type": "code",
   "execution_count": 40,
   "metadata": {
    "slideshow": {
     "slide_type": "-"
    }
   },
   "outputs": [
    {
     "name": "stdout",
     "output_type": "stream",
     "text": [
      "[2 4]\n",
      "(2,)\n"
     ]
    }
   ],
   "source": [
    "print(a1)\n",
    "print(a1.shape)"
   ]
  },
  {
   "cell_type": "code",
   "execution_count": 41,
   "metadata": {
    "slideshow": {
     "slide_type": "-"
    }
   },
   "outputs": [
    {
     "name": "stdout",
     "output_type": "stream",
     "text": [
      "[[2]\n",
      " [4]]\n",
      "(2, 1)\n"
     ]
    }
   ],
   "source": [
    "print(a2)\n",
    "print(a2.shape)"
   ]
  },
  {
   "cell_type": "markdown",
   "metadata": {},
   "source": [
    "ref. [Comparing two NumPy arrays for equality, element-wise](https://stackoverflow.com/questions/10580676/comparing-two-numpy-arrays-for-equality-element-wise)"
   ]
  },
  {
   "cell_type": "code",
   "execution_count": 47,
   "metadata": {},
   "outputs": [
    {
     "data": {
      "text/plain": [
       "array([2, 4])"
      ]
     },
     "execution_count": 47,
     "metadata": {},
     "output_type": "execute_result"
    }
   ],
   "source": [
    "a1"
   ]
  },
  {
   "cell_type": "code",
   "execution_count": 49,
   "metadata": {},
   "outputs": [
    {
     "data": {
      "text/plain": [
       "array([[2, 4]])"
      ]
     },
     "execution_count": 49,
     "metadata": {},
     "output_type": "execute_result"
    }
   ],
   "source": [
    "a2.T #transpose the colunm vector"
   ]
  },
  {
   "cell_type": "code",
   "execution_count": 58,
   "metadata": {},
   "outputs": [
    {
     "data": {
      "text/plain": [
       "False"
      ]
     },
     "execution_count": 58,
     "metadata": {},
     "output_type": "execute_result"
    }
   ],
   "source": [
    "np.array_equal(a2.T, a1)"
   ]
  },
  {
   "cell_type": "code",
   "execution_count": 59,
   "metadata": {},
   "outputs": [
    {
     "data": {
      "text/plain": [
       "array([2, 4])"
      ]
     },
     "execution_count": 59,
     "metadata": {},
     "output_type": "execute_result"
    }
   ],
   "source": [
    "a2.T[0]"
   ]
  },
  {
   "cell_type": "code",
   "execution_count": 84,
   "metadata": {},
   "outputs": [
    {
     "name": "stdout",
     "output_type": "stream",
     "text": [
      "True\n",
      "(1, 2)\n",
      "(1,)\n"
     ]
    }
   ],
   "source": [
    "print(np.array_equal(a2.T[0], a1)) #a2 has 2 dimension, and a1 has 1 dimension\n",
    "print(a2.T.shape)\n",
    "print(a2[0].shape)"
   ]
  },
  {
   "cell_type": "code",
   "execution_count": 85,
   "metadata": {},
   "outputs": [
    {
     "data": {
      "text/plain": [
       "array([2, 4])"
      ]
     },
     "execution_count": 85,
     "metadata": {},
     "output_type": "execute_result"
    }
   ],
   "source": [
    "a1.T #its shape is (2,), just 1 dimension(row vector). So it can not be transposed"
   ]
  },
  {
   "cell_type": "code",
   "execution_count": 86,
   "metadata": {},
   "outputs": [
    {
     "name": "stdout",
     "output_type": "stream",
     "text": [
      "[[2 4]]\n",
      "(1, 2)\n"
     ]
    }
   ],
   "source": [
    "a3 = a1.reshape((1,2))\n",
    "print(a3)\n",
    "print(a3.shape)"
   ]
  },
  {
   "cell_type": "code",
   "execution_count": 87,
   "metadata": {},
   "outputs": [
    {
     "data": {
      "text/plain": [
       "array([[2],\n",
       "       [4]])"
      ]
     },
     "execution_count": 87,
     "metadata": {},
     "output_type": "execute_result"
    }
   ],
   "source": [
    "a3.T #transpose the row vector"
   ]
  },
  {
   "cell_type": "code",
   "execution_count": 88,
   "metadata": {},
   "outputs": [
    {
     "data": {
      "text/plain": [
       "True"
      ]
     },
     "execution_count": 88,
     "metadata": {},
     "output_type": "execute_result"
    }
   ],
   "source": [
    "np.array_equal(a3.T, a2)"
   ]
  },
  {
   "cell_type": "markdown",
   "metadata": {
    "slideshow": {
     "slide_type": "subslide"
    }
   },
   "source": [
    "#### Dimensionality of vectors\n",
    "- A vector $\\vec{x}$, that consists of n real numbered variables, has dimensionality of n, which gets denoted as $\\vec{x}\\in\\mathbb{R}^n$. \n",
    "- We call $x_{i}$ the vector entry on the i-th position of $\\vec{x}$."
   ]
  },
  {
   "cell_type": "code",
   "execution_count": 61,
   "metadata": {
    "slideshow": {
     "slide_type": "fragment"
    }
   },
   "outputs": [
    {
     "name": "stdout",
     "output_type": "stream",
     "text": [
      "2 4\n"
     ]
    }
   ],
   "source": [
    "# get 2nd entry of vector a1 (remeber indexing in python starts at index 0)\n",
    "print(a1[0], a1[1])"
   ]
  },
  {
   "cell_type": "markdown",
   "metadata": {
    "slideshow": {
     "slide_type": "subslide"
    }
   },
   "source": [
    "- Addition:\n",
    "    - $\\vec{c} = \\vec{a} + \\vec{b} = \\Bigl[\\begin{matrix}a_x + b_x \\\\ a_y + b_y\\end{matrix}\\Bigl]$\n",
    "    \n",
    "![VectorAddition](./resources/vadd.png)"
   ]
  },
  {
   "cell_type": "code",
   "execution_count": 62,
   "metadata": {
    "slideshow": {
     "slide_type": "-"
    }
   },
   "outputs": [],
   "source": [
    "a = np.array([2, 4])\n",
    "b = np.array([3, 1])\n",
    "c = a + b"
   ]
  },
  {
   "cell_type": "code",
   "execution_count": 63,
   "metadata": {},
   "outputs": [
    {
     "name": "stdout",
     "output_type": "stream",
     "text": [
      "[5 5]\n"
     ]
    }
   ],
   "source": [
    "print(c)"
   ]
  },
  {
   "cell_type": "markdown",
   "metadata": {
    "slideshow": {
     "slide_type": "subslide"
    }
   },
   "source": [
    "- Subtraction:\n",
    "    - $\\vec{c} = \\vec{a} - \\vec{b}=\\Bigl[\\begin{matrix}a_x - b_x \\\\ a_y - b_y\\end{matrix}\\Bigl]$\n",
    "    \n",
    "    \n",
    "![VectorSubtraction](resources/vsub.png)"
   ]
  },
  {
   "cell_type": "code",
   "execution_count": 64,
   "metadata": {
    "slideshow": {
     "slide_type": "-"
    }
   },
   "outputs": [],
   "source": [
    "a = np.array([5, 3])\n",
    "b = np.array([1, 2])\n",
    "c = a - b"
   ]
  },
  {
   "cell_type": "code",
   "execution_count": 65,
   "metadata": {},
   "outputs": [
    {
     "name": "stdout",
     "output_type": "stream",
     "text": [
      "[4 1]\n"
     ]
    }
   ],
   "source": [
    "print(c)"
   ]
  },
  {
   "cell_type": "markdown",
   "metadata": {
    "slideshow": {
     "slide_type": "subslide"
    }
   },
   "source": [
    "- Vector scalar multiplication:\n",
    "    - $\\vec{c} = \\beta \\cdot \\vec{a}=\\Bigl[\\begin{matrix}\\beta\\cdot a_x \\\\ \\beta\\cdot a_y\\end{matrix}\\Bigl]$\n",
    "    \n",
    "    \n",
    "![vs](resources/vs.png)"
   ]
  },
  {
   "cell_type": "code",
   "execution_count": 66,
   "metadata": {
    "slideshow": {
     "slide_type": "-"
    }
   },
   "outputs": [],
   "source": [
    "a = np.array([2, 1])\n",
    "beta = 2\n",
    "c = beta * a"
   ]
  },
  {
   "cell_type": "code",
   "execution_count": 67,
   "metadata": {
    "slideshow": {
     "slide_type": "-"
    }
   },
   "outputs": [
    {
     "name": "stdout",
     "output_type": "stream",
     "text": [
      "[4 2]\n"
     ]
    }
   ],
   "source": [
    "print(c)"
   ]
  },
  {
   "cell_type": "markdown",
   "metadata": {
    "slideshow": {
     "slide_type": "slide"
    }
   },
   "source": [
    "### Vector magnitude/length:\n",
    "- $||\\vec{a}||=\\sqrt{\\sum_{i=1}^{2}a_{i}^{2}} = \\sqrt{a_{x}^2 + a_{y}^2} = \\sqrt{a_{1}^2 + a_{2}^2}$\n",
    "- <img src=\"https://render.githubusercontent.com/render/math?math=%24%7C%7C%5Cvec%7Ba%7D%7C%7C%3D%5Csqrt%7B%5Csum_%7Bi%3D1%7D%5E%7B2%7Da_%7Bi%7D%5E%7B2%7D%7D%20%3D%20%5Csqrt%7Ba_%7Bx%7D%5E2%20%2B%20a_%7By%7D%5E2%7D%20%3D%20%5Csqrt%7Ba_%7B1%7D%5E2%20%2B%20a_%7B2%7D%5E2%7D%24\">\n",
    "- $||\\vec{b}||=\\sqrt{\\sum_{i=1}^{3}b_{i}^{2}} = \\sqrt{b_{x}^2 + b_{y}^2 + b_{z}^2} = \\sqrt{b_{1}^2 + b_{2}^2 + b_{3}^2}$\n",
    "\n",
    "![VectorNorm](./resources/vnorm.png)\n",
    "\n",
    "[numpy.linalg.norm documentation](https://numpy.org/doc/stable/reference/generated/numpy.linalg.norm.html)"
   ]
  },
  {
   "cell_type": "code",
   "execution_count": 68,
   "metadata": {
    "slideshow": {
     "slide_type": "subslide"
    }
   },
   "outputs": [],
   "source": [
    "a = np.array([4, 2])\n",
    "b = np.array([6, 1, 3])\n",
    "a_length = np.linalg.norm(a,ord=2) #lin(ear) alg(ebra) library\n",
    "b_length = np.linalg.norm(b,ord=2)"
   ]
  },
  {
   "cell_type": "code",
   "execution_count": 69,
   "metadata": {},
   "outputs": [
    {
     "name": "stdout",
     "output_type": "stream",
     "text": [
      "4.47213595499958\n",
      "6.782329983125268\n"
     ]
    }
   ],
   "source": [
    "print(a_length)\n",
    "print(b_length)"
   ]
  },
  {
   "cell_type": "markdown",
   "metadata": {
    "slideshow": {
     "slide_type": "subslide"
    }
   },
   "source": [
    "- normalizing vector length:\n",
    "    - $\\vec{a}_{normalized}= \\frac{\\vec{a}}{||\\vec{a}||}$"
   ]
  },
  {
   "cell_type": "code",
   "execution_count": 70,
   "metadata": {
    "slideshow": {
     "slide_type": "-"
    }
   },
   "outputs": [],
   "source": [
    "a_normalized =  a / a_length\n",
    "a_normalized_length = np.linalg.norm(a_normalized, 2)"
   ]
  },
  {
   "cell_type": "code",
   "execution_count": 71,
   "metadata": {
    "slideshow": {
     "slide_type": "-"
    }
   },
   "outputs": [
    {
     "name": "stdout",
     "output_type": "stream",
     "text": [
      "0.9999999999999999\n"
     ]
    }
   ],
   "source": [
    "print(a_normalized_length) #unit vector"
   ]
  },
  {
   "cell_type": "markdown",
   "metadata": {
    "slideshow": {
     "slide_type": "slide"
    }
   },
   "source": [
    "### Vector transpose\n",
    "- $\\vec{a}=\\Bigl[\\begin{matrix}a_x \\\\ a_y\\end{matrix}\\Bigl]\\rightarrow \\vec{a}^T=[a_x \\ a_y ]$"
   ]
  },
  {
   "cell_type": "code",
   "execution_count": 89,
   "metadata": {
    "slideshow": {
     "slide_type": "fragment"
    }
   },
   "outputs": [],
   "source": [
    "a = np.array( [ [3] , [3] ] ) # 2 rows. each has just 1 component."
   ]
  },
  {
   "cell_type": "code",
   "execution_count": 90,
   "metadata": {
    "slideshow": {
     "slide_type": "-"
    }
   },
   "outputs": [
    {
     "name": "stdout",
     "output_type": "stream",
     "text": [
      "[[3]\n",
      " [3]]\n",
      "(2, 1)\n"
     ]
    }
   ],
   "source": [
    "print(a)\n",
    "print(a.shape)"
   ]
  },
  {
   "cell_type": "code",
   "execution_count": 91,
   "metadata": {
    "slideshow": {
     "slide_type": "-"
    }
   },
   "outputs": [
    {
     "name": "stdout",
     "output_type": "stream",
     "text": [
      "[[3 3]]\n",
      "(1, 2)\n"
     ]
    }
   ],
   "source": [
    "print(a.T)\n",
    "print(a.T.shape)"
   ]
  },
  {
   "cell_type": "code",
   "execution_count": 92,
   "metadata": {
    "slideshow": {
     "slide_type": "-"
    }
   },
   "outputs": [
    {
     "name": "stdout",
     "output_type": "stream",
     "text": [
      "[3 3]\n",
      "[3 3]\n"
     ]
    }
   ],
   "source": [
    "a = np.array([3, 3])\n",
    "print(a)\n",
    "print(a.T)"
   ]
  },
  {
   "cell_type": "markdown",
   "metadata": {
    "slideshow": {
     "slide_type": "slide"
    }
   },
   "source": [
    "### dot product and vector projection"
   ]
  },
  {
   "cell_type": "markdown",
   "metadata": {
    "slideshow": {
     "slide_type": "subslide"
    }
   },
   "source": [
    "- dot product:\n",
    "    - $a_b = \\vec{a}^T \\vec{b} = a_x \\cdot b_x + a_y \\cdot b_y$\n",
    "    \n",
    "    \n",
    "![DotProduct](resources/dp.png)"
   ]
  },
  {
   "cell_type": "code",
   "execution_count": 93,
   "metadata": {
    "slideshow": {
     "slide_type": "-"
    }
   },
   "outputs": [],
   "source": [
    "a = np.array([[2], [1]]) # (2,1) #caution: NOT np.array([2,1])\n",
    "b = np.array([[3], [1]]) # (2,1)\n",
    "\n",
    "ab = np.dot(a.T, b) # (1,2)dot(2,1)"
   ]
  },
  {
   "cell_type": "code",
   "execution_count": 94,
   "metadata": {},
   "outputs": [
    {
     "name": "stdout",
     "output_type": "stream",
     "text": [
      "[[7]]\n"
     ]
    }
   ],
   "source": [
    "print(ab)"
   ]
  },
  {
   "cell_type": "markdown",
   "metadata": {
    "slideshow": {
     "slide_type": "subslide"
    }
   },
   "source": [
    "- Dot product of orthogonal vectors:\n",
    "    - The dot product of two orthogonal vectors(90° angle between them) equals zero, e.g.\n",
    "    - $\\vec{a}^T\\vec{b}=\\Bigl[\\begin{matrix}2 \\\\ 2\\end{matrix}\\Bigl]^T\\Bigl[\\begin{matrix}1 \\\\ -1\\end{matrix}\\Bigl]=0$\n",
    "    \n",
    "![orthogonal](resources/orth.png)"
   ]
  },
  {
   "cell_type": "code",
   "execution_count": 95,
   "metadata": {
    "slideshow": {
     "slide_type": "fragment"
    }
   },
   "outputs": [
    {
     "name": "stdout",
     "output_type": "stream",
     "text": [
      "[[0]]\n"
     ]
    }
   ],
   "source": [
    "a = np.array([[2], [2]])\n",
    "b = np.array([[1], [-1]])\n",
    "c = np.dot(a.T,b)\n",
    "print(c)"
   ]
  },
  {
   "cell_type": "markdown",
   "metadata": {
    "slideshow": {
     "slide_type": "subslide"
    }
   },
   "source": [
    "- Vector projection\n",
    "    - unnormalized: $\\vec{a_{bu}}=\\vec{a}^T\\vec{b}\\cdot\\vec{b}$\n",
    "    - normalized: $\\vec{a_b}=\\frac{\\vec{a}^T\\vec{b}}{||\\vec{b}||}\\cdot\\frac{\\vec{b}}{||\\vec{b}||}$\n",
    "![Projection](resources/dotext.png)"
   ]
  },
  {
   "cell_type": "code",
   "execution_count": 96,
   "metadata": {
    "slideshow": {
     "slide_type": "subslide"
    }
   },
   "outputs": [
    {
     "name": "stdout",
     "output_type": "stream",
     "text": [
      "[1221  888]\n"
     ]
    }
   ],
   "source": [
    "# unnormalized\n",
    "a = np.array([5, 7])\n",
    "b = np.array([11, 8])\n",
    "abu = np.dot(a.T,b) * b\n",
    "print(abu)"
   ]
  },
  {
   "cell_type": "code",
   "execution_count": 97,
   "metadata": {
    "slideshow": {
     "slide_type": "-"
    }
   },
   "outputs": [
    {
     "name": "stdout",
     "output_type": "stream",
     "text": [
      "[6.6 4.8]\n"
     ]
    }
   ],
   "source": [
    "# normalized\n",
    "a = np.array([5, 7])\n",
    "b = np.array([11, 8])\n",
    "ab = (np.dot(a.T,b) / np.linalg.norm(b, ord=2)) * (b / np.linalg.norm(b, ord=2))\n",
    "print(ab)"
   ]
  },
  {
   "cell_type": "code",
   "execution_count": 98,
   "metadata": {
    "slideshow": {
     "slide_type": "-"
    }
   },
   "outputs": [
    {
     "data": {
      "text/plain": [
       "array([185., 185.])"
      ]
     },
     "execution_count": 98,
     "metadata": {},
     "output_type": "execute_result"
    }
   ],
   "source": [
    "abu/ab # np.linalg.norm(b, ord=2)**2 == 185"
   ]
  },
  {
   "cell_type": "code",
   "execution_count": 99,
   "metadata": {
    "slideshow": {
     "slide_type": "-"
    }
   },
   "outputs": [
    {
     "data": {
      "text/plain": [
       "array([1221.,  888.])"
      ]
     },
     "execution_count": 99,
     "metadata": {},
     "output_type": "execute_result"
    }
   ],
   "source": [
    "ab*185"
   ]
  },
  {
   "cell_type": "code",
   "execution_count": 100,
   "metadata": {
    "slideshow": {
     "slide_type": "-"
    }
   },
   "outputs": [
    {
     "data": {
      "text/plain": [
       "array([1.66666667, 1.66666667])"
      ]
     },
     "execution_count": 100,
     "metadata": {},
     "output_type": "execute_result"
    }
   ],
   "source": [
    "b/ab  "
   ]
  },
  {
   "cell_type": "code",
   "execution_count": 101,
   "metadata": {
    "slideshow": {
     "slide_type": "-"
    }
   },
   "outputs": [
    {
     "data": {
      "text/plain": [
       "array([11.022,  8.016])"
      ]
     },
     "execution_count": 101,
     "metadata": {},
     "output_type": "execute_result"
    }
   ],
   "source": [
    "ab*1.67 # b is [11, 8]"
   ]
  },
  {
   "cell_type": "markdown",
   "metadata": {
    "slideshow": {
     "slide_type": "slide"
    }
   },
   "source": [
    "## Matrices"
   ]
  },
  {
   "cell_type": "markdown",
   "metadata": {
    "slideshow": {
     "slide_type": "subslide"
    }
   },
   "source": [
    "- Matrix representation:\n",
    "    - $A=\\Bigl[\\begin{matrix}2 & 1\\\\ 3 & 4\\end{matrix}\\Bigl]$"
   ]
  },
  {
   "cell_type": "code",
   "execution_count": 104,
   "metadata": {
    "slideshow": {
     "slide_type": "fragment"
    }
   },
   "outputs": [
    {
     "name": "stdout",
     "output_type": "stream",
     "text": [
      "[[2 1]\n",
      " [3 4]]\n",
      "\n",
      "\n",
      "(2, 2)\n"
     ]
    }
   ],
   "source": [
    "A = np.array([ [2, 1], [3, 4] ])\n",
    "print(A)\n",
    "print(\"\\n\")\n",
    "print(A.shape)"
   ]
  },
  {
   "cell_type": "markdown",
   "metadata": {
    "slideshow": {
     "slide_type": "subslide"
    }
   },
   "source": [
    "### Dimensionality of matrices\n",
    "- A matrix $A$, that consists of n rows, each of which has m real numbered variables, has dimensionality of $n x m$, which gets denoted as $A\\in\\mathbb{R}^{n,m}$.\n",
    "- We call $A_{ij}$ the matrix entry in the i-th row, and j-th column of the matrix A."
   ]
  },
  {
   "cell_type": "code",
   "execution_count": 105,
   "metadata": {
    "slideshow": {
     "slide_type": "fragment"
    }
   },
   "outputs": [
    {
     "data": {
      "text/plain": [
       "1"
      ]
     },
     "execution_count": 105,
     "metadata": {},
     "output_type": "execute_result"
    }
   ],
   "source": [
    "# get entry in 1st row and 2nd column(remeber indexing in python starts at index 0)\n",
    "A[0,1]"
   ]
  },
  {
   "cell_type": "markdown",
   "metadata": {
    "slideshow": {
     "slide_type": "subslide"
    }
   },
   "source": [
    "- Matrix-Vector multiplication:\n",
    "    - $\\vec{b}=A\\vec{a}=\\Bigl[\\begin{matrix}2 & 1\\\\ 3 & 4\\end{matrix}\\Bigl]\\Bigl[\\begin{matrix}a_x\\\\ a_y\\end{matrix}\\Bigl]=\\Bigl[\\begin{matrix}2\\cdot a_x + 1\\cdot a_y\\\\ 3\\cdot a_x + 4\\cdot a_y\\end{matrix}\\Bigl]$ \n",
    "\n",
    "- General multiplication scheme:\n",
    "![mm](./resources/mm.png)"
   ]
  },
  {
   "cell_type": "markdown",
   "metadata": {
    "slideshow": {
     "slide_type": "subslide"
    }
   },
   "source": [
    "- Geometric interpretation of Matrix-Vector multiplication:\n",
    "    - A matrix can be interpreted as scaling and rotating the vector that it gets multiplied with, e.g.\n",
    "    - $\\vec{b}=A\\vec{a}=\\Bigl[\\begin{matrix}2 & 1\\\\ 1 & 2\\end{matrix}\\Bigl]\\Bigl[\\begin{matrix}2\\\\ 1\\end{matrix}\\Bigl]=\\Bigl[\\begin{matrix}5\\\\ 4\\end{matrix}\\Bigl]$"
   ]
  },
  {
   "cell_type": "code",
   "execution_count": 106,
   "metadata": {
    "slideshow": {
     "slide_type": "-"
    }
   },
   "outputs": [
    {
     "name": "stdout",
     "output_type": "stream",
     "text": [
      "[5 4]\n"
     ]
    }
   ],
   "source": [
    "A = np.array([[2, 1], [1, 2]])\n",
    "a = np.array([2, 1])\n",
    "b = np.dot(A, a)\n",
    "print(b)"
   ]
  },
  {
   "cell_type": "markdown",
   "metadata": {
    "slideshow": {
     "slide_type": "subslide"
    }
   },
   "source": [
    "- Visually"
   ]
  },
  {
   "cell_type": "markdown",
   "metadata": {
    "slideshow": {
     "slide_type": "fragment"
    }
   },
   "source": [
    "![scalerotate](resources/scale_rotate.png)"
   ]
  },
  {
   "cell_type": "markdown",
   "metadata": {
    "slideshow": {
     "slide_type": "subslide"
    }
   },
   "source": [
    "- Matrix-Matrix multiplication:\n",
    "    - $C=AB=\\Bigl[\\begin{matrix}a_{11} & a_{12}\\\\ a_{21} & a_{22}\\end{matrix}\\Bigl]\\Bigl[\\begin{matrix}b_{11} & b_{12}\\\\ b_{21} & b_{22}\\end{matrix}\\Bigl]=\\Bigl[\\begin{matrix}a_{11}b_{11}+a_{12}b_{21} & a_{11}b_{12}+a_{12}b_{22}\\\\ a_{21}b_{11}+a_{22}b_{21} & a_{21}b_{12}+a_{22}b_{22}\\end{matrix}\\Bigl]$\n",
    "- General multiplication schema:\n",
    "![m](resources/m.png)"
   ]
  },
  {
   "cell_type": "code",
   "execution_count": 107,
   "metadata": {
    "slideshow": {
     "slide_type": "fragment"
    }
   },
   "outputs": [
    {
     "name": "stdout",
     "output_type": "stream",
     "text": [
      "[[ 3  5]\n",
      " [ 6 10]]\n"
     ]
    }
   ],
   "source": [
    "A = np.array([[1, 1],[2, 2]])\n",
    "B = np.array([[2, 3],[1, 2]])\n",
    "C = np.dot(A,B)\n",
    "print(C)"
   ]
  },
  {
   "cell_type": "markdown",
   "metadata": {
    "slideshow": {
     "slide_type": "subslide"
    }
   },
   "source": [
    "- Another way of multiplying matrices, element-wise matrix multiplication(covered in NumPy lecture):"
   ]
  },
  {
   "cell_type": "code",
   "execution_count": 108,
   "metadata": {
    "slideshow": {
     "slide_type": "fragment"
    }
   },
   "outputs": [
    {
     "name": "stdout",
     "output_type": "stream",
     "text": [
      "[[2 3]\n",
      " [2 4]]\n"
     ]
    }
   ],
   "source": [
    "C = A*B \n",
    "print(C)"
   ]
  },
  {
   "cell_type": "markdown",
   "metadata": {
    "slideshow": {
     "slide_type": "subslide"
    }
   },
   "source": [
    "- Matrix transposition:\n",
    "    - $A=\\Bigl[\\begin{matrix}a_{11} & a_{12}\\\\ a_{21} & a_{22}\\end{matrix}\\Bigl]\\rightarrow A^T=\\Bigl[\\begin{matrix}a_{11} & a_{21}\\\\ a_{12} & a_{22}\\end{matrix}\\Bigl]$"
   ]
  },
  {
   "cell_type": "code",
   "execution_count": 109,
   "metadata": {
    "slideshow": {
     "slide_type": "fragment"
    }
   },
   "outputs": [
    {
     "name": "stdout",
     "output_type": "stream",
     "text": [
      "[[1 2]\n",
      " [1 1]]\n",
      "\n",
      "\n",
      "[[1 1]\n",
      " [2 1]]\n"
     ]
    }
   ],
   "source": [
    "A = np.array([[1, 2],[1, 1]])\n",
    "print(A)\n",
    "print(\"\\n\")\n",
    "print(A.T)"
   ]
  },
  {
   "cell_type": "markdown",
   "metadata": {
    "slideshow": {
     "slide_type": "subslide"
    }
   },
   "source": [
    "- Matrix norms:\n",
    "    - Frobenius norm:\n",
    "    - $A=\\Bigl[\\begin{matrix}a_{11} & a_{12}\\\\ a_{21} & a_{22}\\end{matrix}\\Bigl]$\n",
    "   $||A||_{Frobenius}=\\sqrt{\\sum_{i=1}^{2}\\sum_{j=1}^{2}A_{ij}^2}=\\sqrt{A_{11}^2+A_{12}^2+A_{21}^2+A_{22}^2}$"
   ]
  },
  {
   "cell_type": "code",
   "execution_count": 110,
   "metadata": {},
   "outputs": [
    {
     "name": "stdout",
     "output_type": "stream",
     "text": [
      "4.0\n"
     ]
    }
   ],
   "source": [
    "A = np.array([[2, 2],[2, 2]])\n",
    "A_magnitude = np.linalg.norm(A) # same with np.linalg.norm(A, ord=2)\n",
    "print(A_magnitude)"
   ]
  },
  {
   "cell_type": "markdown",
   "metadata": {
    "slideshow": {
     "slide_type": "slide"
    }
   },
   "source": [
    "- Eigenvalues/Eigenvectors:\n",
    "    - Given a matrix A, the Eigenvalues $\\lambda$ and Eigenvectors $\\vec{e_v}$ of A solve the following equation:\n",
    "    - $A\\vec{e_v}=\\lambda\\vec{e_v}$"
   ]
  },
  {
   "cell_type": "markdown",
   "metadata": {
    "slideshow": {
     "slide_type": "subslide"
    }
   },
   "source": [
    "- Geometric interpretation of Matrix-Vector multiplication:\n",
    "    - A matrix multiplied with it's eigenvector only scales the eigenvector and doesn't rotate it like in the example above. This means that multiplying the eigenvector with by a matrix has the same result as multiplying the vector by a scalar, which is called eigenvalue. Each eigenvector of the matrix has it's own corresponding eigenvalue.\n",
    "    - Since Eigenvalues scale the Eigenvectors, the Eigenvector of the largest Eigenvalue can be interpreted as the direction of highest variance. "
   ]
  },
  {
   "cell_type": "markdown",
   "metadata": {
    "slideshow": {
     "slide_type": "subslide"
    }
   },
   "source": [
    "![eigenvalues](resources/eigenvalues.png)"
   ]
  },
  {
   "cell_type": "code",
   "execution_count": 111,
   "metadata": {
    "slideshow": {
     "slide_type": "subslide"
    }
   },
   "outputs": [],
   "source": [
    "A = np.array([[1, 2], [3, -4]])\n",
    "eigenvalues, eigenvetors = np.linalg.eig(A)"
   ]
  },
  {
   "cell_type": "code",
   "execution_count": 117,
   "metadata": {
    "slideshow": {
     "slide_type": "-"
    }
   },
   "outputs": [
    {
     "name": "stdout",
     "output_type": "stream",
     "text": [
      "[ 2. -5.]\n",
      "\n",
      "\n",
      "[[ 0.89442719 -0.31622777]\n",
      " [ 0.4472136   0.9486833 ]]\n",
      "\n",
      "\n",
      "[0.89442719 0.4472136 ]\n",
      "[-0.31622777  0.9486833 ]\n"
     ]
    }
   ],
   "source": [
    "print(eigenvalues)\n",
    "print(\"\\n\")\n",
    "print(eigenvetors)\n",
    "print(\"\\n\")\n",
    "print(eigenvetors[:, 0])\n",
    "print(eigenvetors[:, 1])"
   ]
  },
  {
   "cell_type": "code",
   "execution_count": 116,
   "metadata": {
    "slideshow": {
     "slide_type": "-"
    }
   },
   "outputs": [
    {
     "name": "stdout",
     "output_type": "stream",
     "text": [
      "0.9999999999999999\n",
      "0.9999999999999999\n"
     ]
    }
   ],
   "source": [
    "# eigenvectors are normalized\n",
    "print(np.linalg.norm(eigenvetors[:, 0], ord=2)) # [2,1] -> [0.89442719 0.4472136 ]\n",
    "print(np.linalg.norm(eigenvetors[:, 1], ord=2))"
   ]
  },
  {
   "cell_type": "markdown",
   "metadata": {
    "slideshow": {
     "slide_type": "slide"
    }
   },
   "source": [
    "- Special Matrices:\n",
    "    - Unit matrix:\n",
    "        - $I_n=\\Bigl[\\begin{matrix}1 & 0\\\\ 0 & 1\\end{matrix}\\Bigl]$, I_n denotes the number of rows/columns of $I$.\n",
    "    - Orthogonal matrices:\n",
    "        - Fulfill the equation: $A^TA=I_n$"
   ]
  },
  {
   "cell_type": "markdown",
   "metadata": {
    "slideshow": {
     "slide_type": "slide"
    }
   },
   "source": [
    "- Note on GPUs:\n",
    "    - Have many processors\n",
    "    - Matrix multiplications can be be parallelized, each processor processes on part of the matrix multiplication\n",
    "    - Deep Learning can be significantly speed up by using GPUs"
   ]
  }
 ],
 "metadata": {
  "celltoolbar": "Slideshow",
  "kernelspec": {
   "display_name": "Python 3",
   "language": "python",
   "name": "python3"
  },
  "language_info": {
   "codemirror_mode": {
    "name": "ipython",
    "version": 3
   },
   "file_extension": ".py",
   "mimetype": "text/x-python",
   "name": "python",
   "nbconvert_exporter": "python",
   "pygments_lexer": "ipython3",
   "version": "3.7.4"
  }
 },
 "nbformat": 4,
 "nbformat_minor": 4
}
