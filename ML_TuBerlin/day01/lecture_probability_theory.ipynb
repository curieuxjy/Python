{
 "cells": [
  {
   "cell_type": "markdown",
   "metadata": {
    "slideshow": {
     "slide_type": "slide"
    }
   },
   "source": [
    "# Probability theory fundamentals"
   ]
  },
  {
   "cell_type": "markdown",
   "metadata": {
    "slideshow": {
     "slide_type": "slide"
    }
   },
   "source": [
    "# Basic set theory"
   ]
  },
  {
   "cell_type": "markdown",
   "metadata": {
    "slideshow": {
     "slide_type": "slide"
    }
   },
   "source": [
    "## Mathematical Set Definition: \n",
    "In mathematics, a set is a well-defined collection of distinct objects, considered as an object in its own right. It's usually denoted using capital roman letters, e.g. $A$.\n",
    "\n",
    "#### Example 1:\n",
    "The set of numbers 2,4,5 is denoted as: $B:=\\{2, 4, 5\\}$.\n",
    "\n",
    "A set $C:=\\{2,4\\}$ is a \"subset\" of B, or $C\\subseteq B$, or even a true subset, denoted as $C\\subset B$.\n",
    "#### Example 2:\n",
    "A set $A$ of geometrical objects can be visualized as:\n",
    "\n",
    "![](resources/setobjects.png)"
   ]
  },
  {
   "cell_type": "markdown",
   "metadata": {
    "slideshow": {
     "slide_type": "slide"
    }
   },
   "source": [
    "# Basic set operations:\n",
    "The basic set operations visualized as Venn diagrams.\n",
    "![](resources/set.png)\n",
    "#### Example:\n",
    "If we have the sets $A:=\\{2, 4, 5\\}, B:=\\{2, 3, 5\\}$, then after by applying the shown set operations we get:\n",
    "1. $A \\cup B = \\{2, 3, 4, 5\\}$\n",
    "2. $A \\cap B = \\{2, 5\\}$\n",
    "3. $A \\setminus B = \\{4\\}$"
   ]
  },
  {
   "cell_type": "markdown",
   "metadata": {
    "slideshow": {
     "slide_type": "slide"
    }
   },
   "source": [
    "# Basic Probability theory \n",
    "#### Intuition:\n",
    "---\n",
    "Probability theory is used for reasoning under uncertainty."
   ]
  },
  {
   "cell_type": "markdown",
   "metadata": {
    "slideshow": {
     "slide_type": "subslide"
    }
   },
   "source": [
    "## Probability space definition\n",
    "- A probability space represents our uncertainty about a \"random\" experiment\n",
    "- Random here means that the actual outcomes of running the experiment are uncertain beforehand\n",
    "- It consists of two parts:\n",
    "    1. The sample space $\\Omega$, which is the set of all possible outcomes of an experiment\n",
    "    2. The probability measure P, which takes as input a subset of $\\Omega$, and assigns a real value to it.\n",
    "- A subset $A:=A\\subseteq\\Omega$ is called an event, and $P(A)$ represents how likely it is that the experiments outcome will be a member of $A$.\n",
    "![](resources/space.png)"
   ]
  },
  {
   "cell_type": "markdown",
   "metadata": {
    "slideshow": {
     "slide_type": "subslide"
    }
   },
   "source": [
    "### Example:\n",
    "Let's say our experiment is to roll a (fair) 6-sided die and compute the probability of it's outcomes.\n",
    "\n",
    "In that case the sample space would be:\n",
    "- $\\Omega:\\{1, 2, 3, 4, 5, 6\\}$, corresponding to each side of the die.\n",
    "The probability of an event $B:=\\{2\\}$, is:\n",
    "- $P(\\{2\\})=\\frac{1}{6}$, since the probability of the fair die for resulting in a certain side is $\\frac{1}{6}$."
   ]
  },
  {
   "cell_type": "markdown",
   "metadata": {
    "slideshow": {
     "slide_type": "subslide"
    }
   },
   "source": [
    "## Three axioms of Probability Theory\n",
    "1. $P(A)\\geq 0$ for all events $A$.\n",
    "2. $P(\\Omega)=1$\n",
    "3. $P(A\\cup B)=P(A)+P(B) \\text{, if $A$ and $B$ are disjoint events(image below)}$\n",
    "![](resources/prob2.png)"
   ]
  },
  {
   "cell_type": "markdown",
   "metadata": {
    "slideshow": {
     "slide_type": "fragment"
    }
   },
   "source": [
    "Correspondingly the probability of event $C:=\\{1,2\\}$ can be determined using the basic set operations and probability axioms as follows:\n",
    "- $P(C)=P(\\{1, 2\\})=P(\\{1\\})+P(\\{2\\})=\\frac{1}{6}+\\frac{1}{6}=\\frac{1}{3}$.\n",
    "And last but not least the probability of $\\Omega$ is:\n",
    "- $P(\\Omega)=6\\cdot \\frac{1}{6}=1$."
   ]
  },
  {
   "cell_type": "markdown",
   "metadata": {
    "slideshow": {
     "slide_type": "slide"
    }
   },
   "source": [
    "# Corollary of the axioms:\n",
    "- $P(\\emptyset)=0$\n",
    "- $P(A)\\leq P(B)$, if $A\\leq B$.\n",
    "- $P(A)=1-P(\\Omega\\setminus A)$\n",
    "- $P(A\\cup B)=P(A)+P(B)-P(A\\cap B)$"
   ]
  },
  {
   "cell_type": "markdown",
   "metadata": {
    "slideshow": {
     "slide_type": "slide"
    }
   },
   "source": [
    "# Joint probability\n",
    "The quantity $P(A \\cap B)$ is called the joint probability of the events $A,B$, or the probability of the intersection of the events $A$ and $B$, also denoted as $P(A,B)$. It measures the probability of both events occuring at the same time.\n",
    "\n",
    "\n",
    "#### Example:\n",
    "Given a card deck with 52 total cards, 26 red ones and 26 black ones, 14 distinct values(1-Ace), and 4 different symbols, compute the joint probability of $A:=\\{6\\}, B:=\\{'red'\\}$, or $P(A,B)$.\n",
    "\n",
    "The result is computed as follows:\n",
    "\n",
    "$P(A\\cap B)=P(A)\\cdot P(B)=\\frac{4}{52}\\cdot\\frac{26}{52}=\\frac{1}{26}$. This is true iff $A$ and $B$ are independent events, meaning the outcome of one doesn't influence the outcome of the other event. \n",
    "\n",
    "This is true in this case, but if the output of one variable depends on the other the joint distribution gets computed as follows:\n",
    "\n",
    "$P(A\\cap B)=P(A|B)\\cdot P(B)$ or $P(A,B)=P(B|A)\\cdot P(A)$."
   ]
  },
  {
   "cell_type": "markdown",
   "metadata": {
    "slideshow": {
     "slide_type": "slide"
    }
   },
   "source": [
    "# Conditional probabilities:\n",
    "- Allows to reason about uncertainty with only partial information\n",
    "- When $P(B)>0$, the conditional probability of A given B is defined as: $P(A|B)=\\frac{P(A\\cap B)}{P(B)}$.\n",
    "- Intuitively it represents the probability that an event A occurs, when B is observed.\n",
    "- $P(A|B)$ is also referred to as the posterior(a posteriori) probability of A given B, whereas $P(A)$ is called the prior(a priori) proability."
   ]
  },
  {
   "cell_type": "markdown",
   "metadata": {
    "slideshow": {
     "slide_type": "slide"
    }
   },
   "source": [
    "## Example \n",
    "![](resources/prob_table.png)\n",
    "As we can see in this table the sample space consists of the following distinct outcomes: $\\Omega=\\{\\text{(fire, smoke), (no fire, smoke), (fire, no smoke), (no fire, no smoke)}\\}$, and the probability measure $P$ assigns a probability to each outcome $w\\epsilon\\Omega$, e.g. $w=(fire, smoke)$\n",
    "- Computing the probability of the event $B:=\\{\\text{(fire, smoke)}, \\text{(fire, no smoke)}\\}$ is \n",
    "\n",
    "    $P(B)=P(\\{\\text{(fire, smoke), (fire, no smoke)}\\})=P(\\{\\text{(fire, smoke)}\\})+P(\\{\\text{(fire, no smoke)}\\})=0.015+0.0025=0.0175=0.0175\\%$\n",
    "    \n",
    "    \n",
    "- The conditional probability of $\\text{(fire, smoke)}$, given the event $B=\\{\\text{(fire, smoke), (fire, no smoke)}\\}$ is\n",
    "    \n",
    "    $P(\\{(\\text{fire, smoke})\\}|B)=\\frac{P(\\{(\\text{fire, smoke})\\}\\cap B)}{P(B)}=\\frac{P(\\{(\\text{fire, smoke})\\})}{P(B)}=\\frac{0.015}{0.0175}\\approx 0.857 = 85.7\\%$"
   ]
  },
  {
   "cell_type": "markdown",
   "metadata": {
    "slideshow": {
     "slide_type": "slide"
    }
   },
   "source": [
    "# Extending the idea of the joint distribution\n",
    "We already now that\n",
    "$P(A, B)=P(A)P(B|A)$, if the events $A,B$ are independent. This is called the cahin rule and is applicable to even \"larger\" joint distributions, e.g.\n",
    "\n",
    "$P(A,B,C)=P(A)P(B,C|A)=P(A)P(B|A)P(C|A,B)$, if $A,B,C$ are dependent. \n",
    "\n",
    "Else this simplifies to $P(A,B,C)=P(A)P(B)P(C)$."
   ]
  },
  {
   "cell_type": "markdown",
   "metadata": {
    "slideshow": {
     "slide_type": "slide"
    }
   },
   "source": [
    "# Bayes' Rule\n",
    "$P(A|B)=\\frac{P(B|A)P(A)}{P(B)}$, where:\n",
    "\n",
    "- $P(A|B)$ is called posterior of $A$, given $B$.\n",
    "- $P(B|A)$ is the likelihood of $B$, given $A$.\n",
    "- $P(A)$ is the prior of $A$.\n",
    "- $P(B)$ is the evidence of $B$."
   ]
  },
  {
   "cell_type": "markdown",
   "metadata": {
    "slideshow": {
     "slide_type": "slide"
    }
   },
   "source": [
    "# Random variables(RVs)\n",
    "A random variable is a function that assigns numerical values to the outcomes of a random experiment. These variables are measurable, meaning their outcome probabilities can be computed.\n",
    "There are discrete and continuous random variables.\n",
    "\n",
    "### Discrete Random variables:\n",
    "---\n",
    "A discrete random variable is one which may only take a countable number of distinct values 0,1,2,3... . Discrete random variables are usually, but not always counts. We usually denote the probability $P$ of a certain outcome $\"1\"$ of a discrete random variable $X$ as $P(X=1)$."
   ]
  },
  {
   "cell_type": "markdown",
   "metadata": {
    "slideshow": {
     "slide_type": "subslide"
    }
   },
   "source": [
    "### Example 1:\n",
    "- Let our experiment be throwing a coin.\n",
    "- We define the random variable to be: $X=\\text{\"Heads on the top side\"}$ \n",
    "- So $\\Omega=\\{\"heads\", \"tails\"\\}$\n",
    "- $X=1$ means heads, $X=0$ means tails.\n",
    "- The probabilities of different values for $X$ are $P(X=0)=P(X=1)=\\frac{1}{2}$, since we assume the coin to be fair.\n",
    "- The sum of the probabilites is = 1.\n",
    "![](resources/rv.png)"
   ]
  },
  {
   "cell_type": "markdown",
   "metadata": {
    "slideshow": {
     "slide_type": "subslide"
    }
   },
   "source": [
    "### Example 2:\n",
    "- Let our experiment be throwing a 6-sided fair die once.\n",
    "- We define the random variable to be: $X=\\text{\"The score shown on the top side\"}$ \n",
    "- So $X$ could be 1,2,3,4,5,6.\n",
    "- The probabilities of different values for $X$ are $P(X=1)=P(X=2)=...=P(X=6)=\\frac{1}{6}$.\n",
    "- The sum of the probabilites is = 1."
   ]
  },
  {
   "cell_type": "markdown",
   "metadata": {
    "slideshow": {
     "slide_type": "subslide"
    }
   },
   "source": [
    "### Example 3:\n",
    "- Let now our experiment be throwing a 2-sided fair coin three times.\n",
    "- We define the random variable to be: $X=\\text{\"The number of heads\"}$. We denote $H$ to be heads, and $T$ to be tails. \n",
    "- So $X$ could be 0, 1, 2, 3.\n",
    "- Here the probabilites for each outcome are:\n",
    "    - $P(X=0)=P(\\{T, T, T\\})=(\\frac{1}{2})^3=\\frac{1}{8}$\n",
    "    - $P(X=1)=\\frac{3}{8}$\n",
    "    - $P(X=2)=\\frac{3}{8}$\n",
    "    - $P(X=3)=P(\\{H, H, H\\})=(\\frac{1}{2})^3=\\frac{1}{8}$\n",
    "- The sum of the probabilites is = 1 (following the probability axioms).\n",
    "\n",
    "### How did we compute $P(X=1)$ and $P(X=2)$ ?\n",
    "- $P(X=1)=P(\\{H, T, T\\})+P(\\{T, H, T\\})+P(\\{T, T, H\\})=(\\frac{1}{2})^3*3=\\frac{3}{8}$\n",
    "- $P(X=2)=P(\\{H, H, T\\})+P(\\{T, H, H\\})+P(\\{H, T, H\\})=(\\frac{1}{2})^3*3=\\frac{3}{8}$\n",
    "- another answer @ The binomial distribution section"
   ]
  },
  {
   "cell_type": "markdown",
   "metadata": {
    "slideshow": {
     "slide_type": "slide"
    }
   },
   "source": [
    "# Probability mass function(PMF)\n",
    "In probability and statistics, a Probability mass function is the probability distribution of a discrete random variable, and provides the possible values and their associated probabilities. The probabilities associated with each possible values must be positive and sum up to 1. For all other values, the probabilities need to be 0. It can be represented in a table, graph, or formula, and is denoted as $P(X=x)$, where $x$ is any possible value that $X$ can take.\n",
    "\n",
    "### Example\n",
    "Let's again look at the example of our fair, six-sided die. The probability of each side is $\\frac{1}{6}$ As a table, the PDF looks as:\n",
    "\n",
    "| Side | Probability P(X)|\n",
    "|---|---|\n",
    "| 1 | $\\frac{1}{6}$ |\n",
    "| 2 | $\\frac{1}{6}$ |\n",
    "| 3 | $\\frac{1}{6}$ |\n",
    "| 4 | $\\frac{1}{6}$ |\n",
    "| 5 | $\\frac{1}{6}$ |\n",
    "| 6 | $\\frac{1}{6}$ |"
   ]
  },
  {
   "cell_type": "markdown",
   "metadata": {
    "slideshow": {
     "slide_type": "slide"
    }
   },
   "source": [
    "### Or plotted as a graph"
   ]
  },
  {
   "cell_type": "code",
   "execution_count": 1,
   "metadata": {
    "slideshow": {
     "slide_type": "notes"
    }
   },
   "outputs": [],
   "source": [
    "import numpy as np\n",
    "import matplotlib.pyplot as plt"
   ]
  },
  {
   "cell_type": "code",
   "execution_count": 2,
   "metadata": {
    "slideshow": {
     "slide_type": "fragment"
    }
   },
   "outputs": [
    {
     "data": {
      "image/png": "[encoded data removed]",
      "text/plain": [
       "<Figure size 432x288 with 1 Axes>"
      ]
     },
     "metadata": {
      "needs_background": "light"
     },
     "output_type": "display_data"
    }
   ],
   "source": [
    "plt.hist(np.array([1,2,3,4,5,6]), bins=[1,2,3,4,5,6,7], align='left', rwidth=0.9, density=True);"
   ]
  },
  {
   "cell_type": "markdown",
   "metadata": {
    "slideshow": {
     "slide_type": "slide"
    }
   },
   "source": [
    "# Properties of discrete probability distributions\n",
    "Every discrete probability distribution has certain quantities that can be approximated by the observed data. Some of the most important ones are:\n",
    "\n",
    "- Expected value/Mean: The arithmetic mean of a large number of independent trials/realizations of $X$, denoted as $E[X]$ or $\\mu$.\n",
    "\n",
    "\n",
    "- Variance: The expectation of the squared deviation of a random variable from its mean, denoted as $Var(X)=E[(X-\\mu)^2]=E[(X-E[X])^2]$, or $\\sigma^2$.\n",
    "\n",
    "\n",
    "### Note: There are many more properties of a probability distribution that can be computed, but we will stick to this one for now."
   ]
  },
  {
   "cell_type": "markdown",
   "metadata": {
    "slideshow": {
     "slide_type": "slide"
    }
   },
   "source": [
    "# The binomial distribution\n",
    "The binomial distribution with parameters n and p is the discrete probability distribution of the number of successes in a sequence of n independent experiments, each asking a yes–no question, and each with its own Boolean-valued outcome: success/yes/true/one (with probability p) or failure/no/false/zero (with probability q = 1 − p).\n",
    "\n",
    "It's PMF is denoted as: $P(k;n,p)={{n}\\choose{k}} p^k q^{n-k}$, where P(k;n,p) means: the probability of k successes, given n=number of trials, and p=probability of heads. \n",
    "\n",
    "Such a probability can be used to \"model\" our \"Experiment 3\" from above, so computing $P(X=2)$ is as simple as:\n",
    "\n",
    "- $P(X=2)={{n=3}\\choose{k=2}}(\\frac{1}{2})^2(\\frac{1}{2})^{3-2}=\\frac{3}{8}$\n",
    "\n",
    "#### Important properties of the binomial distribution:\n",
    "- Mean: $E[X]=\\mu=n\\cdot p$\n",
    "- Variance: $Var(X)=\\sigma^2=n\\cdot p\\cdot q$"
   ]
  },
  {
   "cell_type": "markdown",
   "metadata": {
    "slideshow": {
     "slide_type": "slide"
    }
   },
   "source": [
    "# Continuous random variable\n",
    "Formally, a continuous random variable is a random variable whose distribution function is continuous everywhere. There are no \"gaps\", which would correspond to numbers which have a finite probability of occurring. So a continous random variable $X$ has a distribution that takes on every value between a certain range, on which the random variable is defined. "
   ]
  },
  {
   "cell_type": "markdown",
   "metadata": {
    "slideshow": {
     "slide_type": "fragment"
    }
   },
   "source": [
    "# Probability density function(pdf)\n",
    "In probability theory, a probability density function (PDF), or density of a continuous random variable, is a function whose value at any given sample (or point) in the sample space (the set of possible values taken by the random variable) can be interpreted as providing a relative likelihood that the value of the random variable would equal that sample. The probability density function of a continuous random variable $X$ is denoted as $p_X(x)$."
   ]
  },
  {
   "cell_type": "markdown",
   "metadata": {
    "slideshow": {
     "slide_type": "subslide"
    }
   },
   "source": [
    "# The normal distribution\n",
    "A common distribution for a continuous random variable is the normal distribution which is formalized as follows:\n",
    "\n",
    "$\\mathcal{N}(x; \\mu, \\sigma^2)=\\frac{1}{\\sqrt{2\\pi \\sigma^2}}exp(-\\frac{(x-\\mu)^2}{2\\sigma})$, so it is completely characterised by it's mean and variance. When visualized, it has the following shape:\n",
    "- A sample/observation/realization $x$ of a random variable $X$, that is distributed according to the probability distribution $P(x)$, is denoted as $x\\sim P(x)$. "
   ]
  },
  {
   "cell_type": "code",
   "execution_count": 3,
   "metadata": {},
   "outputs": [],
   "source": [
    "import scipy.stats as stats"
   ]
  },
  {
   "cell_type": "code",
   "execution_count": 4,
   "metadata": {
    "slideshow": {
     "slide_type": "fragment"
    }
   },
   "outputs": [
    {
     "data": {
      "image/png": "[encoded data removed]",
      "text/plain": [
       "<Figure size 432x288 with 1 Axes>"
      ]
     },
     "metadata": {
      "needs_background": "light"
     },
     "output_type": "display_data"
    }
   ],
   "source": [
    "mu = 0 \n",
    "sigma = 1\n",
    "x = np.linspace(mu-3*sigma, mu+3*sigma, 100)\n",
    "p = np.random.normal(loc=mu, scale=sigma, size=1000) #samples\n",
    "\n",
    "plt.hist(p, bins=100, density=True, label='observed data'), \n",
    "plt.plot(x, stats.norm.pdf(x, mu, sigma), label='pdf'), plt.vlines(mu, 0, 1, colors='r', label='$\\mu$')\n",
    "plt.xlabel(\"x\"), plt.ylabel(\"p(x)\"), plt.legend();"
   ]
  },
  {
   "cell_type": "markdown",
   "metadata": {
    "slideshow": {
     "slide_type": "slide"
    }
   },
   "source": [
    "# Joint densities of random variables\n",
    "Let $X,Y$ two random variables, then their joint density is denoted as:\n",
    "- $P_{XY}(x,y)$, or simply $P(x,y)$, if $X,Y$ are discrete RVs, or\n",
    "- $p_{XY}(x,y)$/$p(x,y)$, if $X,Y$ are continuous RVs."
   ]
  },
  {
   "cell_type": "markdown",
   "metadata": {
    "slideshow": {
     "slide_type": "slide"
    }
   },
   "source": [
    "## Computing marginal probabilities of joint densities of RVs\n",
    "- Discrete case: $P(X=x)=P(x)=\\sum_{y}P_{XY}(x, y)$.\n",
    "#### Example: \n",
    "Let $X\\epsilon\\text{\\{smoke, no smoke\\}}$, and $Y\\epsilon\\text{\\{fire, no fire\\}}$, then we can compute the marginal distribution $P_X(x)$ as summing the rows of the table below, where each single table entry is the joint probability $P_{XY}(x, y)$, or often denoted as $P(X=x, Y=y)$. \n",
    "![](resources/marginal_discrete.png)"
   ]
  },
  {
   "cell_type": "markdown",
   "metadata": {
    "slideshow": {
     "slide_type": "subslide"
    }
   },
   "source": [
    "- Continuous case: $p(X=x)=p(x)=\\int_{y}p_{XY}(x, y)dy=\\int_{y}p(x, y)dy$\n",
    "![](resources/marginal_int.png)\n",
    "https://en.wikipedia.org/wiki/Marginal_distribution#/media/File:MultivariateNormal.png"
   ]
  },
  {
   "cell_type": "markdown",
   "metadata": {
    "slideshow": {
     "slide_type": "subslide"
    }
   },
   "source": [
    "# Conditional Probability of RVs\n",
    "Works both for discrete and continuous RVs.\n",
    "\n",
    "$P(Y=y|X=x)=\\frac{P(Y=y, X=x)}{P(X=x)}$, often also simply written as $P(y|x)=\\frac{P(y, x)}{P(x)}$."
   ]
  },
  {
   "cell_type": "markdown",
   "metadata": {
    "slideshow": {
     "slide_type": "fragment"
    }
   },
   "source": [
    "# Chain rule of probability\n",
    "- For two RVs $P(X=x, Y=y)=P(X=x)P(Y=y|X=x)$, or\n",
    "- Multiple RVs $P(X=x, Y=y, Z=z)=P(X=x)P(Y=y|X=x)P(Z=z|Y=y, X=x)$,\n",
    "\n",
    "if all RVs are conditionally independent of each other, else:\n",
    "\n",
    "$P(X=x, Y=y, Z=z)=P(X=x)P(Y=y)P(Z=z)$."
   ]
  },
  {
   "cell_type": "markdown",
   "metadata": {
    "slideshow": {
     "slide_type": "subslide"
    }
   },
   "source": [
    "#### Intuitive example of Conditional dependence:\n",
    "Let $X$ be the boolean random variable 'I have a new phone', $Y$ be  'I have a new watch', and $Z$ be 'I am happy', and suppose that having either a new phone or a new watch increases the probability of my being happy. Let us assume that the event $Z$ has occurred – meaning 'I am happy'. Now if another person sees my new watch, he/she will reason that my likelihood of being happy was increased by my new watch, so there is less need to attribute my happiness to a new phone. This means that RVs $X,Y$ now conditionally depend on each other, since ... ***FINISH***https://en.wikipedia.org/wiki/Conditional_dependence#:~:text=For%20example%2C%20let%20the%20event,probability%20of%20my%20being%20happy."
   ]
  },
  {
   "cell_type": "markdown",
   "metadata": {
    "slideshow": {
     "slide_type": "slide"
    }
   },
   "source": [
    "# Bayes Rule of RVs\n",
    "Works both for discrete and continuous RVs.\n",
    "\n",
    "$P(y|x)=\\frac{P(x|y)P(y)}{P(x)}$, where\n",
    "\n",
    "- $P(y|x)$ is the posterior distribution of $Y$ after having observerved $x$.\n",
    "- $P(x|y)$ is the likelihood of $X$ after having observed $Y$.\n",
    "- $P(y)$ is the prior distribution of Y.\n",
    "- $P(x)$ is the evidence of x."
   ]
  },
  {
   "cell_type": "markdown",
   "metadata": {
    "slideshow": {
     "slide_type": "slide"
    }
   },
   "source": [
    "# Computing probability distribution properties without knowing the distribution:\n",
    "#### True Mean:\n",
    "---\n",
    "- Discrete RV $X$: $E[X]=\\sum_{x}P(x)x$, where $x$ a realization/observation of $X$, and $P(x)$ is the probability value of $x$.\n",
    "\n",
    "\n",
    "- Continuous RV $X$: $E[X]=\\int_{x}p(x)xdx$\n",
    "\n",
    "#### True Variance:\n",
    "---\n",
    "- Discrete RV $X$: $Var(X) = E[(X-\\mu)^2]=\\sum_{x}P(x)(X-\\mu)^2$, $\\mu=E[X]$.\n",
    "\n",
    "\n",
    "- Continuous RV $X$: $Var(X) = E[(X-\\mu)^2]=\\int_{x}P(x)(X-\\mu)^2dx$, $\\mu=E[X]$."
   ]
  },
  {
   "cell_type": "markdown",
   "metadata": {
    "slideshow": {
     "slide_type": "subslide"
    }
   },
   "source": [
    "#### Empirial mean and variance:\n",
    "Usually we don't know the true data distribution $p(x)$, that's why we estimate the mean and variance empirically(from observations/data):\n",
    "\n",
    "#### Empirical mean:\n",
    "An approximation of the true mean, computed solely from $n$ observed data points:\n",
    "- $\\hat{\\mu}_X=\\frac{1}{n}\\sum_{i=1}^nx_i$\n",
    "\n",
    "#### Empirical variance:\n",
    "An approximation of the true variance, computed solely from $n$ observed data points:\n",
    "- $\\hat{\\sigma}^2_X=\\frac{1}{n}\\sum_{i=1}^n (x_i-\\hat{\\mu}_X)^2$"
   ]
  },
  {
   "cell_type": "markdown",
   "metadata": {
    "slideshow": {
     "slide_type": "slide"
    }
   },
   "source": [
    "# Covariance and Correlation of RVs\n",
    "---\n",
    "#### Covariance of two RVs:\n",
    "---\n",
    "- Discrete RVs $X,Y$: $Cov(X,Y) = E[(X-\\mu_X)(Y-\\mu_Y)]=\\sum_{x}\\sum_{y}P(x,y)(X-\\mu_X)(Y-\\mu_Y)$, where $\\mu_X=E[X]$, and $\\mu_Y=E[Y]$, and $P(x,y)$ is the joint distribution of $X$ and $Y$.\n",
    "\n",
    "\n",
    "- Continuous RVs $X,Y$: $Cov(X,Y) = E[(X-\\mu_X)(Y-\\mu_Y)]=\\int_{y}\\int_{x}P(x,y)(X-\\mu_X)(Y-\\mu_Y)dxdy$, where $\\mu_X=E[X]$, and $\\mu_Y=E[Y]$."
   ]
  },
  {
   "cell_type": "markdown",
   "metadata": {
    "slideshow": {
     "slide_type": "subslide"
    }
   },
   "source": [
    "#### Correlation of two RVs: (normalized version of Cov)\n",
    "---\n",
    "- Independent RVs $Corr(X,Y)=\\frac{Cov(X,Y)}{\\sigma_X \\sigma_Y}$, where $Cov(X,Y)$ is the covariance between $X$ and $Y$ and $sigma_X/sigma_X$ is the square root of $Var(X)=\\sigma_X^2/Var(Y)=\\sigma_Y^2$."
   ]
  },
  {
   "cell_type": "code",
   "execution_count": 5,
   "metadata": {},
   "outputs": [
    {
     "name": "stdout",
     "output_type": "stream",
     "text": [
      "Covariance between X and Y: \n",
      "[[200.21541141 198.64487982]\n",
      " [198.64487982 296.39732345]]\n",
      "\n",
      "Correlation between X and Y: \n",
      "[[1.         0.81543901]\n",
      " [0.81543901 1.        ]]\n"
     ]
    },
    {
     "data": {
      "image/png": "[encoded data removed]",
      "text/plain": [
       "<Figure size 432x288 with 1 Axes>"
      ]
     },
     "metadata": {
      "needs_background": "light"
     },
     "output_type": "display_data"
    }
   ],
   "source": [
    "np.random.seed(1)\n",
    "\n",
    "# 1000 random integers between 0 and 50\n",
    "# normal distribution\n",
    "x = np.random.randint(0, 50, 1000)\n",
    "\n",
    "# Positive Correlation with some noise\n",
    "y = x + np.random.normal(0, 10, 1000)\n",
    "\n",
    "plt.scatter(x , y);\n",
    "\n",
    "# diagonal values : variance\n",
    "print(f'Covariance between X and Y: \\n{np.cov(x, y)}\\n')\n",
    "print(f'Correlation between X and Y: \\n{np.corrcoef(x, y)}')\n",
    "# positive cov means that x increase yields y increase"
   ]
  },
  {
   "cell_type": "code",
   "execution_count": 6,
   "metadata": {},
   "outputs": [
    {
     "name": "stdout",
     "output_type": "stream",
     "text": [
      "Covariance between X and Y: \n",
      "[[ 2.00215411e+02 -1.04224812e-36]\n",
      " [-1.04224812e-36  2.87273199e-42]]\n",
      "\n",
      "Correlation between X and Y: \n",
      "[[ 1.00000000e+00 -4.34585083e-17]\n",
      " [-4.34585083e-17  1.00000000e+00]]\n"
     ]
    },
    {
     "data": {
      "image/png": "[encoded data removed]",
      "text/plain": [
       "<Figure size 432x288 with 1 Axes>"
      ]
     },
     "metadata": {
      "needs_background": "light"
     },
     "output_type": "display_data"
    }
   ],
   "source": [
    "#uncorrelated example\n",
    "y2 = x - x + 0.00001\n",
    "\n",
    "plt.scatter(x , y2);\n",
    "\n",
    "# diagonal values : variance\n",
    "print(f'Covariance between X and Y: \\n{np.cov(x, y2)}\\n')\n",
    "print(f'Correlation between X and Y: \\n{np.corrcoef(x, y2)}')"
   ]
  },
  {
   "cell_type": "markdown",
   "metadata": {},
   "source": [
    "![](https://upload.wikimedia.org/wikipedia/commons/thumb/d/d4/Correlation_examples2.svg/600px-Correlation_examples2.svg.png)"
   ]
  },
  {
   "cell_type": "markdown",
   "metadata": {
    "slideshow": {
     "slide_type": "slide"
    }
   },
   "source": [
    "# Information Theory\n",
    "\n",
    "### Information definition:\n",
    "$I_X(x)=-logP(x)$\n",
    "\n",
    "![](https://gem763.github.io/assets/img/20180816/info_shape.PNG)\n",
    "\n",
    "## Information Entropy definition:\n",
    "In information theory, the entropy of a random variable is the average level of \"information\", \"surprise\", or \"uncertainty\" inherent in the variable's possible outcomes.\n",
    "\n",
    "$H(x)=E_{x\\sim P}[I(x)]=-E_{x\\sim P}[logP(x)]=-\\sum_{x}P(x)logP(x)$, if $X$ is a discrete RV."
   ]
  },
  {
   "cell_type": "markdown",
   "metadata": {
    "slideshow": {
     "slide_type": "subslide"
    }
   },
   "source": [
    "#### Example:\n",
    "As an example, consider a biased coin with probability p of landing on heads and probability 1-p of landing on tails. The maximum surprise is for p = 1/2, when there is no reason to expect one outcome over another, and in this case a coin flip has an entropy of one bit. \n",
    "The minimum surprise is when p = 0 or p = 1, when the event is known and the entropy is zero bits. "
   ]
  },
  {
   "cell_type": "code",
   "execution_count": 7,
   "metadata": {
    "slideshow": {
     "slide_type": "fragment"
    }
   },
   "outputs": [
    {
     "name": "stdout",
     "output_type": "stream",
     "text": [
      "Max entropy at p=0.49950050050050054\n"
     ]
    },
    {
     "data": {
      "image/png": "[encoded data removed]",
      "text/plain": [
       "<Figure size 432x288 with 1 Axes>"
      ]
     },
     "metadata": {
      "needs_background": "light"
     },
     "output_type": "display_data"
    }
   ],
   "source": [
    "# the different p parameters('heads' probability) for the coin experiment \n",
    "ps = np.linspace(0.001, 0.999, 1000)\n",
    "entropies = -ps*np.log2(ps)-(1-ps)*np.log2((1-ps)) \n",
    "plt.plot(ps, entropies)\n",
    "plt.xlabel(f'p')\n",
    "plt.ylabel('Entropy[Nats/Shannons]')\n",
    "print(f'Max entropy at p={ps[np.argmax(entropies)]}') # highest randomness"
   ]
  },
  {
   "cell_type": "markdown",
   "metadata": {
    "slideshow": {
     "slide_type": "slide"
    }
   },
   "source": [
    "# Conditional entropy\n",
    "In information theory, the conditional entropy quantifies the amount of information needed to describe the outcome of a random variable $Y$ given that the value of another random variable $X$ is known.\n",
    "\n",
    "$H(Y|X)=-\\sum_{x}\\sum_{y}P(x,y)log \\frac{P(x,y)}{P(x)}$\n",
    "\n",
    "#### Some properties:\n",
    "- $H(Y|X)=0$, iff the value of $Y$ is completely determined by the value of $X$.\n",
    "- $H(Y|X)=H(Y)$, iff $Y$ and $X$ are independent random variables."
   ]
  },
  {
   "cell_type": "markdown",
   "metadata": {
    "slideshow": {
     "slide_type": "fragment"
    }
   },
   "source": [
    "# Mutual information\n",
    "The mutual information (MI) of two random variables is a measure of the mutual dependence between the two variables. More specifically, it quantifies the \"amount of information\" (in units such as shannons, commonly called bits) obtained about one random variable through observing the other random variable.\n",
    "Intuitively, mutual information measures the information that $X$ and $Y$ share: It measures how much knowing one of these variables reduces uncertainty about the other.\n",
    "\n",
    "$I(X;Y)=D_{KL}(P(x)||P(x)P(y))=\\sum_{y}\\sum_{x}P(x,y)log\\frac{P(x,y)}{P(x)P(y)}$.\n",
    "\n",
    "#### Relation to conditional entropy:\n",
    "$I(X;Y)=H(X)-H(X|Y)=H(Y)-H(Y|X)$\n",
    "\n",
    "#### Some properties:\n",
    "- $I(X;Y)=0$ iff $X$ and $Y$ are independent."
   ]
  },
  {
   "cell_type": "markdown",
   "metadata": {
    "slideshow": {
     "slide_type": "slide"
    }
   },
   "source": [
    "![](resources/MI.png)\n",
    "https://en.wikipedia.org/wiki/Mutual_information#/media/File:Entropy-mutual-information-relative-entropy-relation-diagram.svg"
   ]
  },
  {
   "cell_type": "markdown",
   "metadata": {
    "slideshow": {
     "slide_type": "slide"
    }
   },
   "source": [
    "## Kullback-Leibler(KL) divergence:\n",
    "$D_{KL}(P||Q)=E_{x\\sim P}[log\\frac{P(x)}{Q(x)}]=E_{x\\sim P}[logP(x)-logQ(x)]=\\sum_{x}P(x)(logP(x)-logQ(x))$, if $X$ is a discrete RV.\n",
    "\n",
    "Intuitively it measures the distance between two probability distributions, here $P$ and $Q$. It's values range between 0($P$ and $Q$ are far apart) and 1 if they are equal.\n",
    "\n",
    "#### Note: KL-divergence is asymmetric meaning: $D_{KL}(P||Q) \\neq D_{KL}(Q||P)$.\n",
    "\n",
    "ref [초보를 위한 정보이론 안내서 - KL divergence 쉽게 보기](https://hyunw.kim/blog/2017/10/27/KL_divergence.html)"
   ]
  }
 ],
 "metadata": {
  "celltoolbar": "Slideshow",
  "kernelspec": {
   "display_name": "Python 3",
   "language": "python",
   "name": "python3"
  },
  "language_info": {
   "codemirror_mode": {
    "name": "ipython",
    "version": 3
   },
   "file_extension": ".py",
   "mimetype": "text/x-python",
   "name": "python",
   "nbconvert_exporter": "python",
   "pygments_lexer": "ipython3",
   "version": "3.7.4"
  }
 },
 "nbformat": 4,
 "nbformat_minor": 4
}
