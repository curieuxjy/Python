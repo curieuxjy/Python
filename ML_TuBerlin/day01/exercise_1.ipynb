{
 "cells": [
  {
   "cell_type": "markdown",
   "metadata": {},
   "source": [
    "# Exercise 1: Math and Python Fundamentals\n",
    "\n",
    "This sheet will help you learn the python basics!\n",
    "\n",
    "To test your code, simply add any number of cells! The provided function headers should give you some help and a hint to a solution, but you don't have to use them!\n",
    "\n",
    "**Remember**: \n",
    "- test your code a lot, to see which changes have which effects. \n",
    "- it is also helpful to try to solve the assignment in small steps.\n",
    "- everything you need were covered in the lecture, try to look there before using google"
   ]
  },
  {
   "cell_type": "markdown",
   "metadata": {},
   "source": [
    "## 1. Build a List Evaluator"
   ]
  },
  {
   "cell_type": "markdown",
   "metadata": {},
   "source": [
    "Fill out the function below, which calculates and prints out the maximum value, minimum value, sum of all values, mean, and the variance for a list of numbers. (Try not to use the sum, max or min functions in python).\n",
    "\n",
    "(Quick reminder empirical variance for dataset with n points)\n",
    "\n",
    "$\\sigma_x^{2}=\\frac{1}{n}\\sum_{i=1}^n(x-\\mu_x)^2$,\n",
    "\n",
    "here $\\mu_x$ is the mean value of the list."
   ]
  },
  {
   "cell_type": "code",
   "execution_count": 1,
   "metadata": {},
   "outputs": [],
   "source": [
    "def evaluate_list(values):\n",
    "    # YOUR CODE starts here!\n",
    "    \n",
    "    # print(values)\n",
    "    # min/max value를 어떻게 시작할지\n",
    "    length = len(values)\n",
    "    val_sum = 0\n",
    "    max_value = values[0]\n",
    "    min_value = values[0]\n",
    "    \n",
    "    for i in values:\n",
    "        val_sum += i\n",
    "        if i>max_value:\n",
    "            max_value = i\n",
    "        if i<min_value:\n",
    "            min_value = i\n",
    "    # sum을 len으로 나누어서 avg 구하기\n",
    "    avg_value = val_sum/length\n",
    "    \n",
    "    # 편차제곱 합 구하기\n",
    "    sub_squ = 0\n",
    "    for i in values:\n",
    "        sub_squ += (i-avg_value)**2\n",
    "    # 분산 구하기\n",
    "    var_value = sub_squ/length\n",
    "    # YOUR CODE ENDS here!\n",
    "    \n",
    "    return max_value, min_value, avg_value, var_value"
   ]
  },
  {
   "cell_type": "code",
   "execution_count": 2,
   "metadata": {},
   "outputs": [
    {
     "data": {
      "text/plain": [
       "(3, 1, 2.0, 0.5)"
      ]
     },
     "execution_count": 2,
     "metadata": {},
     "output_type": "execute_result"
    }
   ],
   "source": [
    "x = [1,2,2,3]\n",
    "evaluate_list(x)"
   ]
  },
  {
   "cell_type": "markdown",
   "metadata": {},
   "source": [
    "## 2.  Build a simple calculator\n",
    "\n",
    "Write a function, which takes in two numbers, x and y, and does a mathmatical operation of those numbers. The third input is the operation, which should be a string. Possible operations are: \n",
    "- **add**\n",
    "- **subtract**, \n",
    "- **multiply**, \n",
    "- **divide**, \n",
    "- **whole-division**\n",
    "- **modulo**\n",
    "- **power**\n",
    "\n",
    "Your function should make sure the values x and y are of type _int_ or _float_. If the values x and y are not numbers, or the operation is not one of the listed ones, the function should print out a message with the error and return `None`."
   ]
  },
  {
   "cell_type": "code",
   "execution_count": 7,
   "metadata": {},
   "outputs": [],
   "source": [
    "def simple_calculator(num_1, num_2, operation):\n",
    "    # YOUR CODE starts here!\n",
    "    \n",
    "    # 내가 놓친 부분 x랑 y가 숫자인지 확인!\n",
    "    # check if x and y \n",
    "    if not ((type(num_1) is int or type(num_1) is float) and\\\n",
    "            (type(num_2) is int or type(num_2) is float)):\n",
    "        print(\"Warning: input values must be of type int or float\")\n",
    "        return # jump out of function 바로 예외 처리처럼 함수 빠져 나오기\n",
    "    \n",
    "    if operation == \"add\":\n",
    "        result = num_1+num_2\n",
    "    elif operation == \"subtract\":\n",
    "        result = num_1-num_2\n",
    "    elif operation == \"multiply\":\n",
    "        result = num_1*num_2\n",
    "    elif operation == \"divide\":\n",
    "        result = num_1/num_2\n",
    "    elif operation == \"whole-division\": \n",
    "        # whole division이 이런 뜻이었는지 처음 앎\n",
    "        result = num_1//num_2\n",
    "    elif operation == \"modulo\":\n",
    "        result = num_1%num_2\n",
    "    elif operation == \"power\":\n",
    "        result = num_1**num_2\n",
    "    else:\n",
    "        # 연산자에 대한 예외 처리\n",
    "        print(\"ERROR: operation is invalid\")\n",
    "        result = \"None\"\n",
    "    # YOUR CODE ENDS here!\n",
    "    return result"
   ]
  },
  {
   "cell_type": "code",
   "execution_count": 8,
   "metadata": {},
   "outputs": [
    {
     "name": "stdout",
     "output_type": "stream",
     "text": [
      "ERROR: operation is invalid\n"
     ]
    },
    {
     "data": {
      "text/plain": [
       "'None'"
      ]
     },
     "execution_count": 8,
     "metadata": {},
     "output_type": "execute_result"
    }
   ],
   "source": [
    "simple_calculator(1, 3, \"division\")"
   ]
  },
  {
   "cell_type": "code",
   "execution_count": 9,
   "metadata": {},
   "outputs": [
    {
     "data": {
      "text/plain": [
       "0.3333333333333333"
      ]
     },
     "execution_count": 9,
     "metadata": {},
     "output_type": "execute_result"
    }
   ],
   "source": [
    "simple_calculator(1, 3, \"divide\")"
   ]
  },
  {
   "cell_type": "code",
   "execution_count": 10,
   "metadata": {},
   "outputs": [
    {
     "name": "stdout",
     "output_type": "stream",
     "text": [
      "Warning: input values must be of type int or float\n"
     ]
    }
   ],
   "source": [
    "simple_calculator(\"error\", 3, \"divide\")"
   ]
  },
  {
   "cell_type": "markdown",
   "metadata": {},
   "source": [
    "## 3. Build an Invoice Generator\n",
    "\n",
    "Write a function, which prints out an invoice for an order for a supermarket. At the moment, the supermarket only has only 4 different products and prices for each: \n",
    "\n",
    "- Watermelons for 3.8\n",
    "- Apples  for 0.9 \n",
    "- Bananas for 1.1 \n",
    "- Tomatoes for 2.7\n",
    "\n",
    "Since the supermarket is pretty new, they have a special going on: \n",
    "- If one buys more tomatoes than watermelons, the bananas are free! \n",
    "- Else, if the price for all apples is higher than the price for all tomatoes, the watermelons are free! (weird special , I know).\n",
    "\n",
    "The input for the generator is: the name of the customer and number of each item bought. The generator should print out an invoice."
   ]
  },
  {
   "cell_type": "code",
   "execution_count": 13,
   "metadata": {},
   "outputs": [],
   "source": [
    "def invoice_generator(name, watermelons, apples, bananas, tomatoes):\n",
    "    # 깔끔하게 가격정리하고\n",
    "    price_w = 3.8\n",
    "    price_a = 0.9\n",
    "    price_b = 1.1\n",
    "    price_t = 2.7\n",
    "    \n",
    "    # 문제 조건 정리\n",
    "    if(tomatoes > watermelons):\n",
    "        price_b *= 0.9\n",
    "    elif(apples * price_a > 10):\n",
    "        price_t = 0.0\n",
    "    # 합산\n",
    "    sumAll = watermelons*price_w + apples*price_a + bananas*price_b + tomatoes*price_t\n",
    "    # 인보이스 서비스니까 손님의 이름까지 합쳐서 출력\n",
    "    print(\"Dear \"+ name +\", your total payment is: \"+str(sumAll))"
   ]
  },
  {
   "cell_type": "code",
   "execution_count": 16,
   "metadata": {},
   "outputs": [
    {
     "name": "stdout",
     "output_type": "stream",
     "text": [
      "Dear Jungyeon, your total payment is: 19.37\n",
      "Dear Anna, your total payment is: 26.97\n",
      "Dear Yuyeon, your total payment is: 28.37\n"
     ]
    }
   ],
   "source": [
    "invoice_generator(\"Jungyeon\",1, 2, 3, 4);\n",
    "invoice_generator(\"Anna\",3, 2, 3, 4);\n",
    "invoice_generator(\"Yuyeon\",1, 12, 3, 4);"
   ]
  },
  {
   "cell_type": "markdown",
   "metadata": {},
   "source": [
    "## 4. My first Data Set\n",
    "\n",
    "Build your own data set on countries by completing the function `create_country_data()`. Each data point (country) should be a `tuple`. Each data point has 5 values, e.g. features in strict order. These are:\n",
    "\n",
    "1. name of the country\n",
    "2. area in km² \n",
    "3. population \n",
    "4. capital city\n",
    "5. offial currency\n",
    "\n",
    "Use the correct primitve data type for each feature. Use the the internet to come up with at least 5 examples data points (you can also do more). Save all your data points in a `list` and return that `list` for the function `create_country_data()`.\n",
    "\n",
    "Additionally, complete the function `get_max_area_country(data)` which will find the biggest country in your data set. Therefore, the function should return the `tuple` representing the country with the biggest area in your data set.\n",
    "\n",
    "[Go to get information of countries](https://www.infoplease.com/)"
   ]
  },
  {
   "cell_type": "code",
   "execution_count": 17,
   "metadata": {},
   "outputs": [],
   "source": [
    "def create_country_data():\n",
    "    # YOUR CODE starts here!\n",
    "    countries = [(\"South Korea\", 96920, 49039986, \"Seoul\", \"Won\"),\n",
    "                (\"USA\", 9166601, 318892103, \"Washington, DC\", \"Dollar\"),\n",
    "                (\"China\", 9326411, 1384688986, \"Beijing\", \"Yuan/Renminbi\"),\n",
    "                (\"Germany\", 357021, 80996685, \"Berlin\", \"Euro\"),\n",
    "                (\"Australia\", 7686850, 22507617, \"Canberra\", \"Australian dollar\")]\n",
    "    # YOUR CODE ENDS here!\n",
    "    return countries"
   ]
  },
  {
   "cell_type": "code",
   "execution_count": 18,
   "metadata": {},
   "outputs": [
    {
     "data": {
      "text/plain": [
       "[('South Korea', 96920, 49039986, 'Seoul', 'Won'),\n",
       " ('USA', 9166601, 318892103, 'Washington, DC', 'Dollar'),\n",
       " ('China', 9326411, 1384688986, 'Beijing', 'Yuan/Renminbi'),\n",
       " ('Germany', 357021, 80996685, 'Berlin', 'Euro'),\n",
       " ('Australia', 7686850, 22507617, 'Canberra', 'Australian dollar')]"
      ]
     },
     "execution_count": 18,
     "metadata": {},
     "output_type": "execute_result"
    }
   ],
   "source": [
    "## run this cell to create your data set\n",
    "data_country = create_country_data()\n",
    "data_country"
   ]
  },
  {
   "cell_type": "code",
   "execution_count": 19,
   "metadata": {},
   "outputs": [],
   "source": [
    "import numpy as np\n",
    "def get_max_area_country(data):\n",
    "    # YOUR CODE starts here!\n",
    "    areas = [d[1] for d in data]\n",
    "    areas = np.array(areas)\n",
    "    biggest_country = data[np.argmax(areas)][0]\n",
    "    # YOUR CODE ENDS here!\n",
    "    return biggest_country"
   ]
  },
  {
   "cell_type": "code",
   "execution_count": 20,
   "metadata": {},
   "outputs": [
    {
     "data": {
      "text/plain": [
       "'China'"
      ]
     },
     "execution_count": 20,
     "metadata": {},
     "output_type": "execute_result"
    }
   ],
   "source": [
    "# run this cell to see if you get the biggest country\n",
    "get_max_area_country(data_country)"
   ]
  },
  {
   "cell_type": "markdown",
   "metadata": {},
   "source": [
    "numpy 쓰지 않고 작성하기"
   ]
  },
  {
   "cell_type": "code",
   "execution_count": 21,
   "metadata": {},
   "outputs": [],
   "source": [
    "def get_max_area_country(data):\n",
    "    # YOUR CODE starts here!\n",
    "    \n",
    "    # create variable where we want to store current results in loop\n",
    "    current_max_area = 0\n",
    "    biggest_country = 0\n",
    "    \n",
    "    for country in data:\n",
    "        \n",
    "        # check if the current country in loop is bigger than currently stored biggest s\n",
    "        if country[1] > current_max_area:\n",
    "            # save the new biggest country\n",
    "            biggest_country = country\n",
    "            # also save current biggest area, since we will need for later iterations in loop\n",
    "            current_max_area = country[1]\n",
    "            \n",
    "    # YOUR CODE ENDS here!\n",
    "    return biggest_country"
   ]
  },
  {
   "cell_type": "code",
   "execution_count": 22,
   "metadata": {},
   "outputs": [
    {
     "data": {
      "text/plain": [
       "('China', 9326411, 1384688986, 'Beijing', 'Yuan/Renminbi')"
      ]
     },
     "execution_count": 22,
     "metadata": {},
     "output_type": "execute_result"
    }
   ],
   "source": [
    "get_max_area_country(data_country)"
   ]
  },
  {
   "cell_type": "markdown",
   "metadata": {},
   "source": [
    "## 5. (Advanced) Build a X-mas Tree generator"
   ]
  },
  {
   "cell_type": "markdown",
   "metadata": {},
   "source": [
    "Write a function which prints out a christmas tree! The tree consisits out of stars. The input to the function is only the number of levels and the height of each level. With each level, the tree gets two stars wider. \n",
    "\n",
    "Example with `num_levels=5` and `height_level=6`:\n",
    "\n",
    "![](img/example_xmas_tree.png)\n",
    "\n",
    "**Hint**: You definetly need to use loops and print spaces for places not filled with stars. Also try to calculate first the width of the tree."
   ]
  },
  {
   "cell_type": "code",
   "execution_count": 23,
   "metadata": {},
   "outputs": [],
   "source": [
    "def build_xmas_tree(height_level, num_levels):\n",
    "    # YOUR CODE starts here!\n",
    "    # height_level : 한 패러그래프 안의 라인 수\n",
    "    # num_levels : 나무의 패러그래프 수\n",
    "    # 출력될 도화지의 너비 지정(blank space 고려)\n",
    "    width = (num_levels*2-1) + height_level*2\n",
    "    for i in range(num_levels):\n",
    "        # levels of tree\n",
    "        for j in range(height_level):\n",
    "            # lines in one level\n",
    "            layer = (\"*\" * (i*2+1)) + (\"*\" * j*2)\n",
    "            # string 모듈인 center 사용\n",
    "            centered = layer.center(width, ' ')\n",
    "            print(centered)\n",
    "            j += 1\n",
    "        i += 1  \n",
    "    # YOUR CODE ENDS here!"
   ]
  },
  {
   "cell_type": "code",
   "execution_count": 24,
   "metadata": {},
   "outputs": [
    {
     "name": "stdout",
     "output_type": "stream",
     "text": [
      "          *          \n",
      "         ***         \n",
      "        *****        \n",
      "       *******       \n",
      "      *********      \n",
      "     ***********     \n",
      "         ***         \n",
      "        *****        \n",
      "       *******       \n",
      "      *********      \n",
      "     ***********     \n",
      "    *************    \n",
      "        *****        \n",
      "       *******       \n",
      "      *********      \n",
      "     ***********     \n",
      "    *************    \n",
      "   ***************   \n",
      "       *******       \n",
      "      *********      \n",
      "     ***********     \n",
      "    *************    \n",
      "   ***************   \n",
      "  *****************  \n",
      "      *********      \n",
      "     ***********     \n",
      "    *************    \n",
      "   ***************   \n",
      "  *****************  \n",
      " ******************* \n"
     ]
    }
   ],
   "source": [
    "build_xmas_tree(6,5)"
   ]
  },
  {
   "cell_type": "code",
   "execution_count": 25,
   "metadata": {},
   "outputs": [
    {
     "name": "stdout",
     "output_type": "stream",
     "text": [
      "       *       \n",
      "      ***      \n",
      "     *****     \n",
      "    *******    \n",
      "   *********   \n",
      "      ***      \n",
      "     *****     \n",
      "    *******    \n",
      "   *********   \n",
      "  ***********  \n",
      "     *****     \n",
      "    *******    \n",
      "   *********   \n",
      "  ***********  \n",
      " ************* \n"
     ]
    }
   ],
   "source": [
    "build_xmas_tree(height_level=5, num_levels=3)"
   ]
  },
  {
   "cell_type": "markdown",
   "metadata": {},
   "source": [
    "another solution"
   ]
  },
  {
   "cell_type": "code",
   "execution_count": 26,
   "metadata": {},
   "outputs": [],
   "source": [
    "def build_xmas_tree(height_level, num_levels):\n",
    "    width = (1+(height_level-1)*2)+((num_levels-1)*2)\n",
    "    \n",
    "    for i_levels in range(num_levels):\n",
    "    \n",
    "        for j_height_lvl in range(height_level):\n",
    "\n",
    "            for k in range (width):\n",
    "                # width loop가 특이했음\n",
    "                # 별을 찍을 것인가 or 빈공간을 만들 것인가\n",
    "                if width//2 - j_height_lvl - i_levels - 1 < k < width//2 + j_height_lvl + i_levels + 1: \n",
    "                    print(\"*\", end='')\n",
    "                else:\n",
    "                    print(\" \", end='')\n",
    "            print()\n",
    "    return"
   ]
  },
  {
   "cell_type": "code",
   "execution_count": 27,
   "metadata": {},
   "outputs": [
    {
     "name": "stdout",
     "output_type": "stream",
     "text": [
      "         *         \n",
      "        ***        \n",
      "       *****       \n",
      "      *******      \n",
      "     *********     \n",
      "    ***********    \n",
      "        ***        \n",
      "       *****       \n",
      "      *******      \n",
      "     *********     \n",
      "    ***********    \n",
      "   *************   \n",
      "       *****       \n",
      "      *******      \n",
      "     *********     \n",
      "    ***********    \n",
      "   *************   \n",
      "  ***************  \n",
      "      *******      \n",
      "     *********     \n",
      "    ***********    \n",
      "   *************   \n",
      "  ***************  \n",
      " ***************** \n",
      "     *********     \n",
      "    ***********    \n",
      "   *************   \n",
      "  ***************  \n",
      " ***************** \n",
      "*******************\n"
     ]
    }
   ],
   "source": [
    "build_xmas_tree(6,5)"
   ]
  },
  {
   "cell_type": "code",
   "execution_count": null,
   "metadata": {},
   "outputs": [],
   "source": []
  }
 ],
 "metadata": {
  "kernelspec": {
   "display_name": "Python 3",
   "language": "python",
   "name": "python3"
  },
  "language_info": {
   "codemirror_mode": {
    "name": "ipython",
    "version": 3
   },
   "file_extension": ".py",
   "mimetype": "text/x-python",
   "name": "python",
   "nbconvert_exporter": "python",
   "pygments_lexer": "ipython3",
   "version": "3.7.4"
  }
 },
 "nbformat": 4,
 "nbformat_minor": 4
}
