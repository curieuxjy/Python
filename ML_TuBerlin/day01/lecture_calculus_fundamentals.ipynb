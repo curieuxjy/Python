{
 "cells": [
  {
   "cell_type": "markdown",
   "metadata": {
    "slideshow": {
     "slide_type": "slide"
    }
   },
   "source": [
    "# Calculus Fundamentals"
   ]
  },
  {
   "cell_type": "markdown",
   "metadata": {
    "slideshow": {
     "slide_type": "slide"
    }
   },
   "source": [
    "## Scalar derivatives"
   ]
  },
  {
   "cell_type": "markdown",
   "metadata": {
    "slideshow": {
     "slide_type": "subslide"
    }
   },
   "source": [
    "### Intuition of derrivatives\n",
    "![Slope](resources/der.png)\n",
    "\n",
    "The derivative of a scalar-valued function is the rate of change/slope at a certain point, here at $f(x^*)$, or $x^*$. As shown the derivative function here is:\n",
    "$f'(x)=\\frac{\\partial y}{\\partial x}=\\frac{\\partial f(x)}{\\partial x}=\\frac{\\partial x^2}{\\partial x}=2x$."
   ]
  },
  {
   "cell_type": "markdown",
   "metadata": {
    "slideshow": {
     "slide_type": "subslide"
    }
   },
   "source": [
    "- $f$ maps from $\\mathbb{R}\\rightarrow \\mathbb{R}$, or $f(x)\\in\\mathbb{R}$, so the derrivative $\\frac{ \\partial f(x)}{\\partial x}$ has dimensionality $1$, or in general $\\frac{\\partial f(x)}{\\partial x}\\in\\mathbb{R}$. "
   ]
  },
  {
   "cell_type": "markdown",
   "metadata": {
    "slideshow": {
     "slide_type": "subslide"
    }
   },
   "source": [
    "### An important aspect of derivatives:\n",
    "Intuitively the derivative of a function $f(x)$ with respect to $x$ measures how an infinitesimal change in $x$ affects the value of $f(x)$. Derivatives evaluated at a certain point in the input space always point in the direction of steepest ascent. As an example consider the above derivative function $f'(x)$, evaluated at $x=2$. We get $f'(2)=2\\cdot2=4$, which is a positive number that can be interpreted as pointing to the positive direction(seen from point 0). Thus by increasing our input value $x_1$ by f'(2), or some smaller number, should result in a higher function value $f(x)$. And indeed we get $f(2+4)=f(6)=36 > f(2)=4$."
   ]
  },
  {
   "cell_type": "markdown",
   "metadata": {
    "slideshow": {
     "slide_type": "subslide"
    }
   },
   "source": [
    "### Derivation rules:"
   ]
  },
  {
   "cell_type": "markdown",
   "metadata": {
    "slideshow": {
     "slide_type": "subslide"
    }
   },
   "source": [
    "#### Constang rule:\n",
    "- Computing the derivative of a constant function is zero. \n",
    "- For example the derivative of $f(x)=2$, is $f'(x)=\\frac{\\partial f(x)}{\\partial x}=\\frac{\\partial 2}{\\partial x}=0$. This makes senese, since the slope of a constant function is zero at every point in input space(x-axis)."
   ]
  },
  {
   "cell_type": "code",
   "execution_count": 1,
   "metadata": {},
   "outputs": [
    {
     "data": {
      "image/png": "[encoded data removed]",
      "text/plain": [
       "<Figure size 432x288 with 1 Axes>"
      ]
     },
     "metadata": {
      "needs_background": "light"
     },
     "output_type": "display_data"
    }
   ],
   "source": [
    "import numpy as np\n",
    "import matplotlib.pyplot as plt\n",
    "\n",
    "x = np.linspace(-5,5,50)\n",
    "y = np.ones(len(x)) * 2\n",
    "\n",
    "plt.plot(x,y)\n",
    "plt.xlabel(\"x\")\n",
    "plt.ylabel(\"y\");"
   ]
  },
  {
   "cell_type": "markdown",
   "metadata": {
    "slideshow": {
     "slide_type": "subslide"
    }
   },
   "source": [
    "#### Sum rule:\n",
    "| $f(x)$ | $g(x)+h(x)$ | $2x^2 + 7x$ |\n",
    "|:- |:- |:- |\n",
    "| $f'(x)$ | $g'(x)+h'(x)$ | $4x + 7$ |"
   ]
  },
  {
   "cell_type": "markdown",
   "metadata": {
    "slideshow": {
     "slide_type": "fragment"
    }
   },
   "source": [
    "#### Chain rule:\n",
    "| $f(u)$ | $f(g(x))$ | $(x+1)^2$ |\n",
    "|:- |:- |:- |\n",
    "| $f'(x)$ | $f'(u)\\cdot g'(x)$ | $1\\cdot2(x+1)$ |\n",
    "\n",
    "where in the last example we have $u:=g(x)=x+1$, and $f(u)=u^2$."
   ]
  },
  {
   "cell_type": "markdown",
   "metadata": {
    "slideshow": {
     "slide_type": "fragment"
    }
   },
   "source": [
    "- Rewriting the chain rule as follows immediately clarifies why the above rule can be applied:\n",
    "    - Let $y=f(u)$, and $u=g(x)$ or, $f(u):=f(g(x))$\n",
    "    - We can write $\\frac{\\partial f(u)}{\\partial x}=\\frac{\\partial y}{\\partial x}=\\frac{\\partial y}{\\partial u}\\cdot \\frac{\\partial u}{\\partial x}=f'(u) \\cdot g'(x)$"
   ]
  },
  {
   "cell_type": "markdown",
   "metadata": {
    "slideshow": {
     "slide_type": "subslide"
    }
   },
   "source": [
    "#### Product rule:\n",
    "| $f(x)$ | $g(x)h(x)$ | $(x+1)^2x$ |\n",
    "|:- |:- |:- |\n",
    "| $f'(x)$ | $g'(x)h(x)+g(x)h'(x)$ | $2(x+1)x+1(x+1)^2$ |"
   ]
  },
  {
   "cell_type": "markdown",
   "metadata": {
    "slideshow": {
     "slide_type": "subslide"
    }
   },
   "source": [
    "### Examples of common scalar derivative functions:\n",
    "| $f(x)$ | $x^n$ | $\\exp(x)$ | $\\log(x)$ | $\\sin(x)$ | $\\cos(x)$ | $\\sigma(x):=\\frac{1}{1+\\exp(-x)}$ |   \n",
    "|:- |:- |:- |:- |:- |:- |:- |\n",
    "| $f'(x)$ | $nx^{n-1}$ | $\\exp(x)$ | $\\frac{1}{x}$ | $\\cos(x)$ | $-\\sin(x)$ | $\\sigma(x)(1-\\sigma(x))$ |\n",
    "The last derivative function will be used quite extensively, later in the course."
   ]
  },
  {
   "cell_type": "markdown",
   "metadata": {
    "slideshow": {
     "slide_type": "slide"
    }
   },
   "source": [
    "## Partial derivatives and gradient\n",
    "What if our function depends on more than one variable ? E.g.:\n",
    "- $f(x_1,x_2)=x_1^2+x_2^2$\n",
    "![Partial](resources/paraboloid.png)"
   ]
  },
  {
   "cell_type": "markdown",
   "metadata": {
    "slideshow": {
     "slide_type": "subslide"
    }
   },
   "source": [
    "- The derivative of above scalar-valued function is a vector, and has the following form:\n",
    "    - Let $y=f(x_1,x_2)$\n",
    "    - If we want to compute the derivative of the function $y=f(x_1,x_2)$ with respect to only one variable, say $x_1$, it is as simple as computing $\\frac{\\partial y}{\\partial x_1}$, while treating the other variable, here $x_2$ as a constant.\n",
    "    - Intuitively this partial derivative wrt. $x_1$, just like in the scalar case, can be interpreted as how a small change in $x_1$ affects our function value $f(x_1,x_2)$. It also tells us, how to change, or ***optimize*** this variable (increase or decrease it), in order to ***increase the value of the outcome*** of $y=f(x)$, as quick as possible."
   ]
  },
  {
   "cell_type": "markdown",
   "metadata": {
    "slideshow": {
     "slide_type": "subslide"
    }
   },
   "source": [
    "- Computing the partial derivative of a scalar-valued function with respect to all input variables, $(x_1,x_2)$(can be extended to an n-dimensional vector), leads to the following vector. Let $y=f(x_1,x_2)=x_1^2+x_2^2$. We get: $\\frac{\\partial y}{\\vec{x}}=\\Biggl[\\begin{matrix} \\frac{\\partial y}{\\partial x_1} \\\\ \\frac{\\partial y}{\\partial x_2}\\end{matrix}\\Biggl]=\\Biggl[\\begin{matrix} 2x_1 \\\\ 2x_2\\end{matrix}\\Biggl]$. This is also called the ***gradient*** of the function $f(x_1,x_2)$ and is often denoted in literatur as $\\nabla f(x_1,x_2)$."
   ]
  },
  {
   "cell_type": "markdown",
   "metadata": {
    "slideshow": {
     "slide_type": "subslide"
    }
   },
   "source": [
    "## Geometric interpretation of the gradient\n",
    "![Partial_derrivative](resources/pd.png)\n",
    "***Important take-aways:***\n",
    "The gradient of a function, evaluated at a certain point in the input space(here $x_1$ and $x_2$), is the vector that is perpendicular to the tangent that passes through that point on the isocontour line. For a scalar-valued function that depends on two-dimensional variables it points in the direction of steepest ascent."
   ]
  },
  {
   "cell_type": "markdown",
   "metadata": {
    "slideshow": {
     "slide_type": "subslide"
    }
   },
   "source": [
    "#### N-dimensional arrays\n",
    "- Of course the theory of partial derivatives can be easily extended to scalar-valued functions $y=f(x_1,...,x_n)$ that depend on n-dimensional input vectors $\\vec{x}\\in\\mathbb{R}^{n}$.\n",
    "- The gradient with respect to the vector $\\vec{x}=\\Biggl[\\begin{matrix} x_1 \\\\ ... \\\\ x_n \\end{matrix}\\Biggl]$ is simply $\\frac{\\partial y}{\\partial \\vec{x}}=\\Biggl[\\begin{matrix} \\frac{\\partial y}{\\partial x_1} \\\\ ... \\\\ \\frac{\\partial y}{\\partial x_n} \\end{matrix}\\Biggl]$.\n",
    "- So the derrivative $\\frac{\\partial y}{\\partial \\vec{x}}$ has dimensionality $n$, or more general $\\frac{\\partial y}{\\partial \\vec{x}}\\in\\mathbb{R}^{n}$. "
   ]
  },
  {
   "cell_type": "markdown",
   "metadata": {
    "slideshow": {
     "slide_type": "slide"
    }
   },
   "source": [
    "## Matrix derivatives"
   ]
  },
  {
   "cell_type": "markdown",
   "metadata": {
    "slideshow": {
     "slide_type": "subslide"
    }
   },
   "source": [
    "- We can easily apply the partial derivative rules,(derive function with respect to one variable and treat the others as constant) to the matrix case. \n",
    "- In particular, given a scalar-valued function $y=f(x_{11},...,x_{nm})$ and a matrix $X\\in\\mathbb{R}^{n,m}$, with entries: $\\Biggl[\\begin{matrix} x_{11} &...& x_{1m} \\\\ ...& ... & ... \\\\ x_{n1} &...& x_{nm}\\end{matrix}\\Biggl]$, we can compute the gradient of that function with respect to $X$ as follows: $\\frac{\\partial y}{\\partial X}=\\Biggl[\\begin{matrix} \\frac{\\partial y}{\\partial x_{11}} &...& \\frac{\\partial y}{\\partial x_{1m}} \\\\ ...& ... & ... \\\\ \\frac{\\partial y}{\\partial x_{n1}} &...& \\frac{\\partial y}{\\partial x_{nm}}\\end{matrix}\\Biggl]$.\n",
    "- Each partial derivative in that matrix can be interpreted as, what ***impact*** each of the variables has on the outcome of $y$, at a particular point $(x_{11},...,x_{nm})$. It also tells us, how to change, or ***optimize*** each variable (increase or decrease it), in order to ***increase the value of the outcome*** of $y$, as quick as possible.\n",
    "- So the derrivative $\\frac{\\partial y}{\\partial X}$ has dimensionality $n x m$, or more general $\\frac{\\partial y}{\\partial X}\\in\\mathbb{R}^{n,m}$. "
   ]
  }
 ],
 "metadata": {
  "celltoolbar": "Slideshow",
  "kernelspec": {
   "display_name": "Python 3",
   "language": "python",
   "name": "python3"
  },
  "language_info": {
   "codemirror_mode": {
    "name": "ipython",
    "version": 3
   },
   "file_extension": ".py",
   "mimetype": "text/x-python",
   "name": "python",
   "nbconvert_exporter": "python",
   "pygments_lexer": "ipython3",
   "version": "3.7.4"
  }
 },
 "nbformat": 4,
 "nbformat_minor": 4
}
