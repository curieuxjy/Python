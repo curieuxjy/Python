{
 "cells": [
  {
   "cell_type": "markdown",
   "metadata": {
    "slideshow": {
     "slide_type": "slide"
    }
   },
   "source": [
    "# Convolutional Neural Networks"
   ]
  },
  {
   "cell_type": "markdown",
   "metadata": {
    "slideshow": {
     "slide_type": "slide"
    }
   },
   "source": [
    "## Motivation: Image Classification\n",
    "![](resources/pixels.png)\n",
    "Source: http://www.survint.com/megapixeltech.php"
   ]
  },
  {
   "cell_type": "code",
   "execution_count": 20,
   "metadata": {
    "slideshow": {
     "slide_type": "fragment"
    }
   },
   "outputs": [
    {
     "name": "stdout",
     "output_type": "stream",
     "text": [
      "1.3 milion input features\n"
     ]
    }
   ],
   "source": [
    "input_features_1mp = 1280 * 1024\n",
    "print(f'{round(input_features_1mp/1e6, 1)} milion input features')"
   ]
  },
  {
   "cell_type": "markdown",
   "metadata": {
    "slideshow": {
     "slide_type": "slide"
    }
   },
   "source": [
    "## Size of Neural Network with 1 hidden layer for 10-class classification problem"
   ]
  },
  {
   "cell_type": "code",
   "execution_count": 21,
   "metadata": {
    "slideshow": {
     "slide_type": "subslide"
    }
   },
   "outputs": [
    {
     "name": "stdout",
     "output_type": "stream",
     "text": [
      "Requirement already satisfied: torchsummary in c:\\users\\dg\\miniconda3\\envs\\py38\\lib\\site-packages (1.5.1)\n"
     ]
    }
   ],
   "source": [
    "!pip install torchsummary\n",
    "import torch \n",
    "import torchvision\n",
    "import torchsummary"
   ]
  },
  {
   "cell_type": "code",
   "execution_count": 23,
   "metadata": {
    "slideshow": {
     "slide_type": "subslide"
    }
   },
   "outputs": [
    {
     "name": "stdout",
     "output_type": "stream",
     "text": [
      "Sequential(\n",
      "  (0): Linear(in_features=1310720, out_features=512, bias=True)\n",
      "  (1): Linear(in_features=512, out_features=10, bias=True)\n",
      ")\n"
     ]
    }
   ],
   "source": [
    "hidden_size = 512\n",
    "\n",
    "model = torch.nn.Sequential(\n",
    "    torch.nn.Linear(in_features=input_features_1mp, out_features=hidden_size, bias=True),\n",
    "    torch.nn.Linear(in_features=hidden_size, out_features=10, bias=True)\n",
    ")\n",
    "\n",
    "print(model)"
   ]
  },
  {
   "cell_type": "code",
   "execution_count": 24,
   "metadata": {},
   "outputs": [
    {
     "name": "stdout",
     "output_type": "stream",
     "text": [
      "----------------------------------------------------------------\n",
      "        Layer (type)               Output Shape         Param #\n",
      "================================================================\n",
      "            Linear-1               [-1, 1, 512]     671,089,152\n",
      "            Linear-2                [-1, 1, 10]           5,130\n",
      "================================================================\n",
      "Total params: 671,094,282\n",
      "Trainable params: 671,094,282\n",
      "Non-trainable params: 0\n",
      "----------------------------------------------------------------\n",
      "Input size (MB): 5.00\n",
      "Forward/backward pass size (MB): 0.00\n",
      "Params size (MB): 2560.02\n",
      "Estimated Total Size (MB): 2565.03\n",
      "----------------------------------------------------------------\n"
     ]
    }
   ],
   "source": [
    "torchsummary.summary(model, input_size=(1, input_features_1mp))"
   ]
  },
  {
   "cell_type": "markdown",
   "metadata": {
    "slideshow": {
     "slide_type": "fragment"
    }
   },
   "source": [
    "### Over 2.5 GB worth of a model!"
   ]
  },
  {
   "cell_type": "markdown",
   "metadata": {
    "slideshow": {
     "slide_type": "slide"
    }
   },
   "source": [
    "### Now imagine input features of 12MP size, and even bigger models(many dozens of layers are usually used)"
   ]
  },
  {
   "cell_type": "code",
   "execution_count": 17,
   "metadata": {},
   "outputs": [
    {
     "name": "stdout",
     "output_type": "stream",
     "text": [
      "ResNet(\n",
      "  (conv1): Conv2d(3, 64, kernel_size=(7, 7), stride=(2, 2), padding=(3, 3), bias=False)\n",
      "  (bn1): BatchNorm2d(64, eps=1e-05, momentum=0.1, affine=True, track_running_stats=True)\n",
      "  (relu): ReLU(inplace=True)\n",
      "  (maxpool): MaxPool2d(kernel_size=3, stride=2, padding=1, dilation=1, ceil_mode=False)\n",
      "  (layer1): Sequential(\n",
      "    (0): BasicBlock(\n",
      "      (conv1): Conv2d(64, 64, kernel_size=(3, 3), stride=(1, 1), padding=(1, 1), bias=False)\n",
      "      (bn1): BatchNorm2d(64, eps=1e-05, momentum=0.1, affine=True, track_running_stats=True)\n",
      "      (relu): ReLU(inplace=True)\n",
      "      (conv2): Conv2d(64, 64, kernel_size=(3, 3), stride=(1, 1), padding=(1, 1), bias=False)\n",
      "      (bn2): BatchNorm2d(64, eps=1e-05, momentum=0.1, affine=True, track_running_stats=True)\n",
      "    )\n",
      "    (1): BasicBlock(\n",
      "      (conv1): Conv2d(64, 64, kernel_size=(3, 3), stride=(1, 1), padding=(1, 1), bias=False)\n",
      "      (bn1): BatchNorm2d(64, eps=1e-05, momentum=0.1, affine=True, track_running_stats=True)\n",
      "      (relu): ReLU(inplace=True)\n",
      "      (conv2): Conv2d(64, 64, kernel_size=(3, 3), stride=(1, 1), padding=(1, 1), bias=False)\n",
      "      (bn2): BatchNorm2d(64, eps=1e-05, momentum=0.1, affine=True, track_running_stats=True)\n",
      "    )\n",
      "  )\n",
      "  (layer2): Sequential(\n",
      "    (0): BasicBlock(\n",
      "      (conv1): Conv2d(64, 128, kernel_size=(3, 3), stride=(2, 2), padding=(1, 1), bias=False)\n",
      "      (bn1): BatchNorm2d(128, eps=1e-05, momentum=0.1, affine=True, track_running_stats=True)\n",
      "      (relu): ReLU(inplace=True)\n",
      "      (conv2): Conv2d(128, 128, kernel_size=(3, 3), stride=(1, 1), padding=(1, 1), bias=False)\n",
      "      (bn2): BatchNorm2d(128, eps=1e-05, momentum=0.1, affine=True, track_running_stats=True)\n",
      "      (downsample): Sequential(\n",
      "        (0): Conv2d(64, 128, kernel_size=(1, 1), stride=(2, 2), bias=False)\n",
      "        (1): BatchNorm2d(128, eps=1e-05, momentum=0.1, affine=True, track_running_stats=True)\n",
      "      )\n",
      "    )\n",
      "    (1): BasicBlock(\n",
      "      (conv1): Conv2d(128, 128, kernel_size=(3, 3), stride=(1, 1), padding=(1, 1), bias=False)\n",
      "      (bn1): BatchNorm2d(128, eps=1e-05, momentum=0.1, affine=True, track_running_stats=True)\n",
      "      (relu): ReLU(inplace=True)\n",
      "      (conv2): Conv2d(128, 128, kernel_size=(3, 3), stride=(1, 1), padding=(1, 1), bias=False)\n",
      "      (bn2): BatchNorm2d(128, eps=1e-05, momentum=0.1, affine=True, track_running_stats=True)\n",
      "    )\n",
      "  )\n",
      "  (layer3): Sequential(\n",
      "    (0): BasicBlock(\n",
      "      (conv1): Conv2d(128, 256, kernel_size=(3, 3), stride=(2, 2), padding=(1, 1), bias=False)\n",
      "      (bn1): BatchNorm2d(256, eps=1e-05, momentum=0.1, affine=True, track_running_stats=True)\n",
      "      (relu): ReLU(inplace=True)\n",
      "      (conv2): Conv2d(256, 256, kernel_size=(3, 3), stride=(1, 1), padding=(1, 1), bias=False)\n",
      "      (bn2): BatchNorm2d(256, eps=1e-05, momentum=0.1, affine=True, track_running_stats=True)\n",
      "      (downsample): Sequential(\n",
      "        (0): Conv2d(128, 256, kernel_size=(1, 1), stride=(2, 2), bias=False)\n",
      "        (1): BatchNorm2d(256, eps=1e-05, momentum=0.1, affine=True, track_running_stats=True)\n",
      "      )\n",
      "    )\n",
      "    (1): BasicBlock(\n",
      "      (conv1): Conv2d(256, 256, kernel_size=(3, 3), stride=(1, 1), padding=(1, 1), bias=False)\n",
      "      (bn1): BatchNorm2d(256, eps=1e-05, momentum=0.1, affine=True, track_running_stats=True)\n",
      "      (relu): ReLU(inplace=True)\n",
      "      (conv2): Conv2d(256, 256, kernel_size=(3, 3), stride=(1, 1), padding=(1, 1), bias=False)\n",
      "      (bn2): BatchNorm2d(256, eps=1e-05, momentum=0.1, affine=True, track_running_stats=True)\n",
      "    )\n",
      "  )\n",
      "  (layer4): Sequential(\n",
      "    (0): BasicBlock(\n",
      "      (conv1): Conv2d(256, 512, kernel_size=(3, 3), stride=(2, 2), padding=(1, 1), bias=False)\n",
      "      (bn1): BatchNorm2d(512, eps=1e-05, momentum=0.1, affine=True, track_running_stats=True)\n",
      "      (relu): ReLU(inplace=True)\n",
      "      (conv2): Conv2d(512, 512, kernel_size=(3, 3), stride=(1, 1), padding=(1, 1), bias=False)\n",
      "      (bn2): BatchNorm2d(512, eps=1e-05, momentum=0.1, affine=True, track_running_stats=True)\n",
      "      (downsample): Sequential(\n",
      "        (0): Conv2d(256, 512, kernel_size=(1, 1), stride=(2, 2), bias=False)\n",
      "        (1): BatchNorm2d(512, eps=1e-05, momentum=0.1, affine=True, track_running_stats=True)\n",
      "      )\n",
      "    )\n",
      "    (1): BasicBlock(\n",
      "      (conv1): Conv2d(512, 512, kernel_size=(3, 3), stride=(1, 1), padding=(1, 1), bias=False)\n",
      "      (bn1): BatchNorm2d(512, eps=1e-05, momentum=0.1, affine=True, track_running_stats=True)\n",
      "      (relu): ReLU(inplace=True)\n",
      "      (conv2): Conv2d(512, 512, kernel_size=(3, 3), stride=(1, 1), padding=(1, 1), bias=False)\n",
      "      (bn2): BatchNorm2d(512, eps=1e-05, momentum=0.1, affine=True, track_running_stats=True)\n",
      "    )\n",
      "  )\n",
      "  (avgpool): AdaptiveAvgPool2d(output_size=(1, 1))\n",
      "  (fc): Linear(in_features=512, out_features=1000, bias=True)\n",
      ")\n"
     ]
    }
   ],
   "source": [
    "model = torchvision.models.resnet18() \n",
    "print(model)"
   ]
  },
  {
   "cell_type": "markdown",
   "metadata": {
    "slideshow": {
     "slide_type": "slide"
    }
   },
   "source": [
    "# Convolutional neural networks"
   ]
  },
  {
   "cell_type": "markdown",
   "metadata": {
    "slideshow": {
     "slide_type": "subslide"
    }
   },
   "source": [
    "![](resources/cnn1.png)\n",
    "Source: https://en.wikipedia.org/wiki/Convolutional_neural_network"
   ]
  },
  {
   "cell_type": "markdown",
   "metadata": {
    "slideshow": {
     "slide_type": "subslide"
    }
   },
   "source": [
    "![](resources/cnn.png)\n",
    "Source: https://stanford.edu/~shervine/teaching/cs-230/cheatsheet-convolutional-neural-networks"
   ]
  },
  {
   "cell_type": "markdown",
   "metadata": {
    "slideshow": {
     "slide_type": "fragment"
    }
   },
   "source": [
    "### New layer types:\n",
    "- Convolutional layers\n",
    "- Pooling layers\n",
    "#### Goal - Decrease size"
   ]
  },
  {
   "cell_type": "markdown",
   "metadata": {
    "slideshow": {
     "slide_type": "subslide"
    }
   },
   "source": [
    "## Convolutional Layers / Feature Maps"
   ]
  },
  {
   "cell_type": "markdown",
   "metadata": {
    "slideshow": {
     "slide_type": "subslide"
    }
   },
   "source": [
    "## Applying different image kernels traditionally\n",
    "![](resources/kernel_examples.png)\n",
    "\n",
    "Source: https://en.wikipedia.org/wiki/Kernel_(image_processing)"
   ]
  },
  {
   "cell_type": "markdown",
   "metadata": {
    "slideshow": {
     "slide_type": "subslide"
    }
   },
   "source": [
    "![](resources/conv1.png)\n",
    "Source: https://cs231n.github.io/convolutional-networks/"
   ]
  },
  {
   "cell_type": "markdown",
   "metadata": {
    "slideshow": {
     "slide_type": "subslide"
    }
   },
   "source": [
    "![](resources/conv2.png)\n",
    "Source: https://cs231n.github.io/convolutional-networks/"
   ]
  },
  {
   "cell_type": "markdown",
   "metadata": {
    "slideshow": {
     "slide_type": "subslide"
    }
   },
   "source": [
    "- We usually apply multiple filters/kernels on the input\n",
    "- Each filter scans the image for one particular \"feature\", the resulting tensor is called feature map\n",
    "- Stride: Translation speed of a single filter(above we have stride=2)\n",
    "- Padding: Frame of zeros that we append on the input, to apply filter to all parts of image(corners) and regulate output size\n",
    "- Bias: As before\n",
    "- Computing the feature map size:\n",
    "\n",
    "Let $size(input) = (I_x \\times I_y)$, and $size(filter)=(k_x \\times k_y)$. Then the feature map output is $size(output)=(o_x\\times o_y)$, where:\n",
    "- $o_x = \\frac{(I_x-k_x)+2 \\cdot padding_x}{stride}+1$\n",
    "- $o_y = \\frac{(I_y-k_y)+2 \\cdot padding_y}{stride}+1$"
   ]
  },
  {
   "cell_type": "markdown",
   "metadata": {
    "slideshow": {
     "slide_type": "subslide"
    }
   },
   "source": [
    "### Single filter applied to one spatial location\n",
    "<img src=\"resources/single_feature.png\"  width=\"800\"/>\n",
    "Source: https://www.quora.com/What-is-meant-by-feature-maps-in-convolutional-neural-networks\n",
    "### Multiple filters applied to same spatial location \n",
    "<img src=\"resources/feature.png\"  width=\"600\"/>\n",
    "Source: https://en.wikipedia.org/wiki/Convolutional_neural_network"
   ]
  },
  {
   "cell_type": "markdown",
   "metadata": {
    "slideshow": {
     "slide_type": "subslide"
    }
   },
   "source": [
    "## Where do we get the filter matrices from ??\n",
    "# $\\Rightarrow$ Training through Gradient Descent!!"
   ]
  },
  {
   "cell_type": "markdown",
   "metadata": {
    "slideshow": {
     "slide_type": "slide"
    }
   },
   "source": [
    "# Pooling Layers / Subsampling"
   ]
  },
  {
   "cell_type": "markdown",
   "metadata": {
    "slideshow": {
     "slide_type": "subslide"
    }
   },
   "source": [
    "![](resources/max_pooling.png)\n",
    "Source: https://en.wikipedia.org/wiki/Convolutional_neural_network"
   ]
  },
  {
   "cell_type": "markdown",
   "metadata": {
    "slideshow": {
     "slide_type": "fragment"
    }
   },
   "source": [
    "- Intuition: Compress spatial information into lower representation \n",
    "- ***no learnable*** parameters\n",
    "- #input channels = #output channels\n",
    "- Although of max pooling is the most common, we may choose min pooling, average pooling or other strategies"
   ]
  },
  {
   "cell_type": "markdown",
   "metadata": {
    "slideshow": {
     "slide_type": "subslide"
    }
   },
   "source": [
    "## Fully-connected layer: Same as for MLP"
   ]
  },
  {
   "cell_type": "markdown",
   "metadata": {
    "slideshow": {
     "slide_type": "subslide"
    }
   },
   "source": [
    "## New non-linear function introduce: ReLU"
   ]
  },
  {
   "cell_type": "code",
   "execution_count": 25,
   "metadata": {},
   "outputs": [],
   "source": [
    "import numpy as np\n",
    "import matplotlib.pyplot as plt"
   ]
  },
  {
   "cell_type": "code",
   "execution_count": 26,
   "metadata": {},
   "outputs": [
    {
     "data": {
      "image/png": "[encoded data removed]",
      "text/plain": [
       "<Figure size 432x288 with 1 Axes>"
      ]
     },
     "metadata": {
      "needs_background": "light"
     },
     "output_type": "display_data"
    },
    {
     "name": "stdout",
     "output_type": "stream",
     "text": [
      "\n",
      "\n"
     ]
    }
   ],
   "source": [
    "x = np.linspace(-5,5 ,100)\n",
    "f_x = np.maximum(x, 0) \n",
    "plt.plot(x, f_x), plt.xlabel('x'), plt.ylabel('ReLU');"
   ]
  },
  {
   "cell_type": "markdown",
   "metadata": {
    "slideshow": {
     "slide_type": "subslide"
    }
   },
   "source": [
    "- easy gradient computation(either 0 or 1) -> safes computation time\n",
    "- sparsifies activations -> safes computation time"
   ]
  },
  {
   "cell_type": "markdown",
   "metadata": {
    "slideshow": {
     "slide_type": "subslide"
    }
   },
   "source": [
    "## Final Network:\n",
    "![](resources/cnn1.png)\n",
    "Source: https://en.wikipedia.org/wiki/Convolutional_neural_network"
   ]
  },
  {
   "cell_type": "markdown",
   "metadata": {
    "slideshow": {
     "slide_type": "subslide"
    }
   },
   "source": [
    "## PyTorch implementation"
   ]
  },
  {
   "cell_type": "markdown",
   "metadata": {
    "slideshow": {
     "slide_type": "subslide"
    }
   },
   "source": [
    "## 0. Do the imports"
   ]
  },
  {
   "cell_type": "code",
   "execution_count": 1,
   "metadata": {},
   "outputs": [],
   "source": [
    "import numpy as np\n",
    "import pandas as pd\n",
    "import matplotlib.pyplot as plt\n",
    "\n",
    "import torch\n",
    "import torch.nn as nn\n",
    "\n",
    "import torchvision\n",
    "import torchvision.transforms as transforms\n",
    "from torch.utils.data import Dataset, DataLoader"
   ]
  },
  {
   "cell_type": "markdown",
   "metadata": {
    "slideshow": {
     "slide_type": "subslide"
    }
   },
   "source": [
    "## 1. Load and preprocess the data"
   ]
  },
  {
   "cell_type": "code",
   "execution_count": 2,
   "metadata": {},
   "outputs": [],
   "source": [
    "all_transforms = transforms.Compose([\n",
    "        transforms.ToTensor()\n",
    "    ])\n",
    "\n",
    "train_set = torchvision.datasets.FashionMNIST('./data', train=True, download=True,\n",
    "                                       transform=all_transforms)\n",
    "test_set = torchvision.datasets.FashionMNIST('./data', train=False,\n",
    "                                      transform=all_transforms)\n",
    "\n",
    "train_loader = torch.utils.data.DataLoader(train_set, batch_size=32)\n",
    "test_loader = torch.utils.data.DataLoader(test_set, batch_size=32)\n",
    "\n",
    "class_names = [\"T-shirt/Top\", \"Trouser\", \"Pullover\", \"Dress\", \"Coat\",\n",
    "           \"Sandal\", \"Shirt\", \"Sneaker\", \"Bag\", \"Ankle Boot\"]\n",
    "\n",
    "num_classes = len(class_names)"
   ]
  },
  {
   "cell_type": "code",
   "execution_count": 4,
   "metadata": {},
   "outputs": [
    {
     "name": "stdout",
     "output_type": "stream",
     "text": [
      "Ankle Boot\n"
     ]
    },
    {
     "data": {
      "image/png": "[encoded data removed]",
      "text/plain": [
       "<Figure size 432x288 with 1 Axes>"
      ]
     },
     "metadata": {
      "needs_background": "light"
     },
     "output_type": "display_data"
    }
   ],
   "source": [
    "image, label = next(iter(train_set))\n",
    "plt.imshow(image.squeeze(), cmap=\"gray\")\n",
    "print(class_names[label])"
   ]
  },
  {
   "cell_type": "code",
   "execution_count": 69,
   "metadata": {
    "slideshow": {
     "slide_type": "subslide"
    }
   },
   "outputs": [
    {
     "data": {
      "image/png": "[encoded data removed]",
      "text/plain": [
       "<Figure size 720x720 with 25 Axes>"
      ]
     },
     "metadata": {},
     "output_type": "display_data"
    }
   ],
   "source": [
    "plt.figure(figsize=(10,10))\n",
    "for i in range(25):\n",
    "    plt.subplot(5,5,i+1)\n",
    "    plt.xticks([])\n",
    "    plt.yticks([])\n",
    "    plt.grid(False) \n",
    "    plt.imshow(train_set.data[i], cmap=plt.cm.binary)\n",
    "    plt.xlabel(class_names[train_set.targets[i]]) \n",
    "plt.show()"
   ]
  },
  {
   "cell_type": "markdown",
   "metadata": {
    "slideshow": {
     "slide_type": "subslide"
    }
   },
   "source": [
    "### 2. Implement the model"
   ]
  },
  {
   "cell_type": "code",
   "execution_count": 6,
   "metadata": {
    "slideshow": {
     "slide_type": "subslide"
    }
   },
   "outputs": [],
   "source": [
    "class ConvNet(torch.nn.Module):\n",
    "    \n",
    "    def __init__(self, num_classes):\n",
    "        super(ConvNet, self).__init__()\n",
    "        # calculate same padding:\n",
    "        # (w - k + 2*p)/s + 1 = o\n",
    "        # => p = (s(o-1) - w + k)/2\n",
    "        \n",
    "        # 28x28x1 => 28x28x8\n",
    "        self.conv_1 = torch.nn.Conv2d(in_channels=1, out_channels=8, kernel_size=(3, 3), stride=(1, 1), padding=1) # (1(28-1) - 28 + 3) / 2 = 1\n",
    "        \n",
    "        self.relu_1 = torch.nn.ReLU()\n",
    "        \n",
    "        # 28x28x8 => 14x14x8\n",
    "        self.pool_1 = torch.nn.MaxPool2d(kernel_size=(2, 2), stride=(2, 2), padding=0) # (2(14-1) - 28 + 2) = 0                                       \n",
    "        \n",
    "        # 14x14x8 => 14x14x16\n",
    "        self.conv_2 = torch.nn.Conv2d(in_channels=8, out_channels=6, kernel_size=(3, 3), stride=(1, 1), padding=1) # (1(14-1) - 14 + 3) / 2 = 1  \n",
    "        \n",
    "        self.relu_2 = torch.nn.ReLU()\n",
    "        \n",
    "        # 14x14x16 => 7x7x16                             \n",
    "        self.pool_2 = torch.nn.MaxPool2d(kernel_size=(2, 2), stride=(2, 2), padding=0) # (2(7-1) - 14 + 2) = 0\n",
    "\n",
    "        self.linear_1 = torch.nn.Linear(7*7*6, num_classes)\n",
    "        #self.sig = torch.nn.Sigmoid()\n",
    "        #self.linear_2 = torch.nn.Linear(7*7*16, num_classes)\n",
    "        \n",
    "    def forward(self, x):\n",
    "        out = self.conv_1(x)\n",
    "        out = self.relu_1(out)\n",
    "        out = self.pool_1(out)\n",
    " \n",
    "        out = self.conv_2(out)\n",
    "        out = self.relu_2(out)\n",
    "        out = self.pool_2(out)\n",
    "        \n",
    "        logits = self.linear_1(out.view(-1, 7*7*6))\n",
    "        \n",
    "        return logits"
   ]
  },
  {
   "cell_type": "code",
   "execution_count": 13,
   "metadata": {
    "slideshow": {
     "slide_type": "subslide"
    }
   },
   "outputs": [],
   "source": [
    "model = ConvNet(num_classes=num_classes)"
   ]
  },
  {
   "cell_type": "markdown",
   "metadata": {
    "slideshow": {
     "slide_type": "subslide"
    }
   },
   "source": [
    "### 3. Train the model"
   ]
  },
  {
   "cell_type": "code",
   "execution_count": 14,
   "metadata": {
    "slideshow": {
     "slide_type": "subslide"
    }
   },
   "outputs": [],
   "source": [
    "# helper function to collect accuracies\n",
    "def eval_fn(model, dataloader):\n",
    "    # Test loop\n",
    "    # Put model in evaluation mode\n",
    "    model.eval()\n",
    "    total_correct = 0.0\n",
    "\n",
    "    for imgs, labels in dataloader: \n",
    "        logits =  model(imgs)\n",
    "    \n",
    "        # get predictions\n",
    "        _, preds = logits.max(dim=1)\n",
    "    \n",
    "        # Compute sum of correctly classified points for this batch\n",
    "        correctly_classified = (preds == labels).sum().numpy()\n",
    "     \n",
    "        # add number of correctly classified points of this batch to total number\n",
    "        total_correct += correctly_classified\n",
    "    \n",
    "    # Compute overall accuracy\n",
    "    acc = total_correct / len(dataloader.dataset)\n",
    " \n",
    "    print(f'Accuracy : {acc*100}%')\n",
    "    \n",
    "    return acc"
   ]
  },
  {
   "cell_type": "code",
   "execution_count": 15,
   "metadata": {},
   "outputs": [],
   "source": [
    "# Define loss fucntion and optimization algorithm\n",
    "loss_fn = torch.nn.CrossEntropyLoss()\n",
    "optimizer = torch.optim.SGD(model.parameters(), lr=0.01)  "
   ]
  },
  {
   "cell_type": "code",
   "execution_count": 16,
   "metadata": {
    "slideshow": {
     "slide_type": "subslide"
    }
   },
   "outputs": [
    {
     "name": "stdout",
     "output_type": "stream",
     "text": [
      "Epoch: 0, batch: 0, loss: 0.004652258396148682\n",
      "Epoch: 0, batch: 500, loss: 1.7311905094385147\n",
      "Epoch: 0, batch: 1000, loss: 0.8439239978790283\n",
      "Epoch: 0, batch: 1500, loss: 0.721901394546032\n",
      "\n",
      "Training acc. after epoch 0:\n",
      "Accuracy : 75.92%\n",
      "\n",
      "Test acc. after epoch 0:\n",
      "Accuracy : 74.62%\n",
      "Epoch: 1, batch: 0, loss: 0.0011724495887756347\n",
      "Epoch: 1, batch: 500, loss: 0.6374279839098453\n",
      "Epoch: 1, batch: 1000, loss: 0.6005799666643142\n",
      "Epoch: 1, batch: 1500, loss: 0.5594980250895023\n",
      "\n",
      "Training acc. after epoch 1:\n",
      "Accuracy : 80.025%\n",
      "\n",
      "Test acc. after epoch 1:\n",
      "Accuracy : 78.67%\n",
      "Epoch: 2, batch: 0, loss: 0.0009510856866836548\n",
      "Epoch: 2, batch: 500, loss: 0.5201069756150246\n",
      "Epoch: 2, batch: 1000, loss: 0.5026940794885159\n",
      "Epoch: 2, batch: 1500, loss: 0.48166119247674943\n",
      "\n",
      "Training acc. after epoch 2:\n",
      "Accuracy : 82.77666666666667%\n",
      "\n",
      "Test acc. after epoch 2:\n",
      "Accuracy : 81.85%\n",
      "Epoch: 3, batch: 0, loss: 0.0008214130401611328\n",
      "Epoch: 3, batch: 500, loss: 0.46264454947412015\n",
      "Epoch: 3, batch: 1000, loss: 0.454663088709116\n",
      "Epoch: 3, batch: 1500, loss: 0.4441030694544315\n",
      "\n",
      "Training acc. after epoch 3:\n",
      "Accuracy : 84.46833333333333%\n",
      "\n",
      "Test acc. after epoch 3:\n",
      "Accuracy : 83.63000000000001%\n",
      "Epoch: 4, batch: 0, loss: 0.0007193431854248046\n",
      "Epoch: 4, batch: 500, loss: 0.43167674796283245\n",
      "Epoch: 4, batch: 1000, loss: 0.42721248902380465\n",
      "Epoch: 4, batch: 1500, loss: 0.42121411284804344\n",
      "\n",
      "Training acc. after epoch 4:\n",
      "Accuracy : 85.54%\n",
      "\n",
      "Test acc. after epoch 4:\n",
      "Accuracy : 84.78999999999999%\n",
      "Epoch: 5, batch: 0, loss: 0.000659460186958313\n",
      "Epoch: 5, batch: 500, loss: 0.4109244930297136\n",
      "Epoch: 5, batch: 1000, loss: 0.4080083488225937\n",
      "Epoch: 5, batch: 1500, loss: 0.4044998110383749\n",
      "\n",
      "Training acc. after epoch 5:\n",
      "Accuracy : 86.155%\n",
      "\n",
      "Test acc. after epoch 5:\n",
      "Accuracy : 85.48%\n",
      "Epoch: 6, batch: 0, loss: 0.000624448835849762\n",
      "Epoch: 6, batch: 500, loss: 0.39554139198362825\n",
      "Epoch: 6, batch: 1000, loss: 0.3935466320812702\n",
      "Epoch: 6, batch: 1500, loss: 0.391742731615901\n",
      "\n",
      "Training acc. after epoch 6:\n",
      "Accuracy : 86.67333333333333%\n",
      "\n",
      "Test acc. after epoch 6:\n",
      "Accuracy : 85.84%\n",
      "Epoch: 7, batch: 0, loss: 0.0006039998531341553\n",
      "Epoch: 7, batch: 500, loss: 0.38354185643792155\n",
      "Epoch: 7, batch: 1000, loss: 0.3823379464894533\n",
      "Epoch: 7, batch: 1500, loss: 0.38157463252544405\n",
      "\n",
      "Training acc. after epoch 7:\n",
      "Accuracy : 87.12166666666667%\n",
      "\n",
      "Test acc. after epoch 7:\n",
      "Accuracy : 86.17%\n",
      "Epoch: 8, batch: 0, loss: 0.0005862304568290711\n",
      "Epoch: 8, batch: 500, loss: 0.373927328363061\n",
      "Epoch: 8, batch: 1000, loss: 0.3732431179434061\n",
      "Epoch: 8, batch: 1500, loss: 0.37346122547984123\n",
      "\n",
      "Training acc. after epoch 8:\n",
      "Accuracy : 87.40833333333333%\n",
      "\n",
      "Test acc. after epoch 8:\n",
      "Accuracy : 86.42%\n",
      "Epoch: 9, batch: 0, loss: 0.0005712793469429017\n",
      "Epoch: 9, batch: 500, loss: 0.3660699346959591\n",
      "Epoch: 9, batch: 1000, loss: 0.3657839467525482\n",
      "Epoch: 9, batch: 1500, loss: 0.3667420660406351\n",
      "\n",
      "Training acc. after epoch 9:\n",
      "Accuracy : 87.7%\n",
      "\n",
      "Test acc. after epoch 9:\n",
      "Accuracy : 86.6%\n"
     ]
    }
   ],
   "source": [
    "# 2. Implement the training loop\n",
    "\n",
    "train_accs = [] \n",
    "test_accs = []\n",
    "\n",
    "epochs = 10\n",
    "for epoch in range(epochs):\n",
    "    \n",
    "    # Training statistic that tracks progress\n",
    "    running_loss = 0.0\n",
    "    \n",
    "    for i, (imgs, labels) in enumerate(train_loader):\n",
    "        \n",
    "        # zeor the parameter gradients of last loop\n",
    "        optimizer.zero_grad()\n",
    "        \n",
    "        # Logits are essentially the predictions before converting them to probability scores(e.g. through SoftMax)\n",
    "        logits = model(imgs)\n",
    "        \n",
    "        loss = loss_fn(logits, labels)\n",
    "        \n",
    "        # Compute Gradients\n",
    "        loss.backward()\n",
    "        \n",
    "        # Apply Gradient Descent\n",
    "        optimizer.step()\n",
    "        \n",
    "        # print statistics\n",
    "        running_loss += loss.item()\n",
    "        \n",
    "        if i % 500 == 0:\n",
    "            print(f'Epoch: {epoch}, batch: {i}, loss: {running_loss / 500}')\n",
    "            running_loss = 0.0\n",
    "    \n",
    "    print(f'\\nTraining acc. after epoch {epoch}:')\n",
    "    train_accs.append(eval_fn(model, train_loader))\n",
    "    print(f'\\nTest acc. after epoch {epoch}:')\n",
    "    test_accs.append(eval_fn(model, test_loader))"
   ]
  },
  {
   "cell_type": "code",
   "execution_count": 20,
   "metadata": {},
   "outputs": [
    {
     "data": {
      "image/png": "[encoded data removed]",
      "text/plain": [
       "<Figure size 432x288 with 1 Axes>"
      ]
     },
     "metadata": {
      "needs_background": "light"
     },
     "output_type": "display_data"
    }
   ],
   "source": [
    "plt.plot(train_accs, label=\"Training acc\")\n",
    "plt.plot(test_accs, label=\"Test acc\")\n",
    "plt.legend();"
   ]
  },
  {
   "cell_type": "code",
   "execution_count": null,
   "metadata": {},
   "outputs": [],
   "source": []
  },
  {
   "cell_type": "code",
   "execution_count": null,
   "metadata": {},
   "outputs": [],
   "source": []
  },
  {
   "cell_type": "code",
   "execution_count": null,
   "metadata": {},
   "outputs": [],
   "source": []
  },
  {
   "cell_type": "code",
   "execution_count": null,
   "metadata": {},
   "outputs": [],
   "source": []
  }
 ],
 "metadata": {
  "celltoolbar": "Slideshow",
  "kernelspec": {
   "display_name": "Python 3",
   "language": "python",
   "name": "python3"
  },
  "language_info": {
   "codemirror_mode": {
    "name": "ipython",
    "version": 3
   },
   "file_extension": ".py",
   "mimetype": "text/x-python",
   "name": "python",
   "nbconvert_exporter": "python",
   "pygments_lexer": "ipython3",
   "version": "3.8.5"
  }
 },
 "nbformat": 4,
 "nbformat_minor": 4
}
