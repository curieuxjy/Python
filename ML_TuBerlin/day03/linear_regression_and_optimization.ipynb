{
 "cells": [
  {
   "cell_type": "markdown",
   "metadata": {
    "slideshow": {
     "slide_type": "slide"
    }
   },
   "source": [
    "# Linear Regression"
   ]
  },
  {
   "cell_type": "markdown",
   "metadata": {
    "slideshow": {
     "slide_type": "slide"
    }
   },
   "source": [
    "# Motivation: Predicting Housing Prizes\n",
    "---\n",
    "<img style=\"float: left;\" src=\"resources/rs.jpg\">\n",
    "\n",
    "- Imagine you are a Real Estate Investor: buy a property, build a house on it, sell the house. \n",
    "- Of course you want to increase the gross margin, that is sell it for more than you've invested.\n",
    "- So the ***main goal*** is to ***calculate a good estimate*** of the ***selling prize***, before you've even build the house!"
   ]
  },
  {
   "cell_type": "markdown",
   "metadata": {
    "slideshow": {
     "slide_type": "subslide"
    }
   },
   "source": [
    "![rs_data](resources/rs_data.png)\n",
    "- The selling prize, called label, itself depends on many factors, called ***features***, such as the number of rooms, the average income of people in the neighborhood, the average population in the area etc.\n",
    "- The goal now is to find out what impact each feature has on the label.\n",
    "- How do we do that without asking the experts or spending years to gain expertise ourselves?\n",
    "- The answer of course is: ***Machine Learning!***"
   ]
  },
  {
   "cell_type": "code",
   "execution_count": 1,
   "metadata": {
    "slideshow": {
     "slide_type": "subslide"
    }
   },
   "outputs": [],
   "source": [
    "import numpy as np\n",
    "import matplotlib.pyplot as plt\n",
    "import pandas as pd"
   ]
  },
  {
   "cell_type": "code",
   "execution_count": 2,
   "metadata": {
    "slideshow": {
     "slide_type": "fragment"
    }
   },
   "outputs": [],
   "source": [
    "housing_data = pd.read_csv('data/USA_Housing.csv')"
   ]
  },
  {
   "cell_type": "code",
   "execution_count": 4,
   "metadata": {
    "slideshow": {
     "slide_type": "subslide"
    }
   },
   "outputs": [
    {
     "data": {
      "text/html": [
       "<div>\n",
       "<style scoped>\n",
       "    .dataframe tbody tr th:only-of-type {\n",
       "        vertical-align: middle;\n",
       "    }\n",
       "\n",
       "    .dataframe tbody tr th {\n",
       "        vertical-align: top;\n",
       "    }\n",
       "\n",
       "    .dataframe thead th {\n",
       "        text-align: right;\n",
       "    }\n",
       "</style>\n",
       "<table border=\"1\" class=\"dataframe\">\n",
       "  <thead>\n",
       "    <tr style=\"text-align: right;\">\n",
       "      <th></th>\n",
       "      <th>Avg. Area Income</th>\n",
       "      <th>Avg. Area House Age</th>\n",
       "      <th>Avg. Area Number of Rooms</th>\n",
       "      <th>Avg. Area Number of Bedrooms</th>\n",
       "      <th>Area Population</th>\n",
       "      <th>Price</th>\n",
       "      <th>Address</th>\n",
       "    </tr>\n",
       "  </thead>\n",
       "  <tbody>\n",
       "    <tr>\n",
       "      <th>0</th>\n",
       "      <td>79545.458574</td>\n",
       "      <td>5.682861</td>\n",
       "      <td>7.009188</td>\n",
       "      <td>4.09</td>\n",
       "      <td>23086.800503</td>\n",
       "      <td>1.059034e+06</td>\n",
       "      <td>208 Michael Ferry Apt. 674\\nLaurabury, NE 3701...</td>\n",
       "    </tr>\n",
       "    <tr>\n",
       "      <th>1</th>\n",
       "      <td>79248.642455</td>\n",
       "      <td>6.002900</td>\n",
       "      <td>6.730821</td>\n",
       "      <td>3.09</td>\n",
       "      <td>40173.072174</td>\n",
       "      <td>1.505891e+06</td>\n",
       "      <td>188 Johnson Views Suite 079\\nLake Kathleen, CA...</td>\n",
       "    </tr>\n",
       "    <tr>\n",
       "      <th>2</th>\n",
       "      <td>61287.067179</td>\n",
       "      <td>5.865890</td>\n",
       "      <td>8.512727</td>\n",
       "      <td>5.13</td>\n",
       "      <td>36882.159400</td>\n",
       "      <td>1.058988e+06</td>\n",
       "      <td>9127 Elizabeth Stravenue\\nDanieltown, WI 06482...</td>\n",
       "    </tr>\n",
       "  </tbody>\n",
       "</table>\n",
       "</div>"
      ],
      "text/plain": [
       "   Avg. Area Income  Avg. Area House Age  Avg. Area Number of Rooms  \\\n",
       "0      79545.458574             5.682861                   7.009188   \n",
       "1      79248.642455             6.002900                   6.730821   \n",
       "2      61287.067179             5.865890                   8.512727   \n",
       "\n",
       "   Avg. Area Number of Bedrooms  Area Population         Price  \\\n",
       "0                          4.09     23086.800503  1.059034e+06   \n",
       "1                          3.09     40173.072174  1.505891e+06   \n",
       "2                          5.13     36882.159400  1.058988e+06   \n",
       "\n",
       "                                             Address  \n",
       "0  208 Michael Ferry Apt. 674\\nLaurabury, NE 3701...  \n",
       "1  188 Johnson Views Suite 079\\nLake Kathleen, CA...  \n",
       "2  9127 Elizabeth Stravenue\\nDanieltown, WI 06482...  "
      ]
     },
     "execution_count": 4,
     "metadata": {},
     "output_type": "execute_result"
    }
   ],
   "source": [
    "housing_data.head(3)"
   ]
  },
  {
   "cell_type": "code",
   "execution_count": 5,
   "metadata": {
    "slideshow": {
     "slide_type": "subslide"
    }
   },
   "outputs": [
    {
     "data": {
      "text/html": [
       "<div>\n",
       "<style scoped>\n",
       "    .dataframe tbody tr th:only-of-type {\n",
       "        vertical-align: middle;\n",
       "    }\n",
       "\n",
       "    .dataframe tbody tr th {\n",
       "        vertical-align: top;\n",
       "    }\n",
       "\n",
       "    .dataframe thead th {\n",
       "        text-align: right;\n",
       "    }\n",
       "</style>\n",
       "<table border=\"1\" class=\"dataframe\">\n",
       "  <thead>\n",
       "    <tr style=\"text-align: right;\">\n",
       "      <th></th>\n",
       "      <th>Avg. Area Income</th>\n",
       "      <th>Avg. Area House Age</th>\n",
       "      <th>Avg. Area Number of Rooms</th>\n",
       "      <th>Avg. Area Number of Bedrooms</th>\n",
       "      <th>Area Population</th>\n",
       "      <th>Price</th>\n",
       "    </tr>\n",
       "  </thead>\n",
       "  <tbody>\n",
       "    <tr>\n",
       "      <th>count</th>\n",
       "      <td>5000.000000</td>\n",
       "      <td>5000.000000</td>\n",
       "      <td>5000.000000</td>\n",
       "      <td>5000.000000</td>\n",
       "      <td>5000.000000</td>\n",
       "      <td>5.000000e+03</td>\n",
       "    </tr>\n",
       "    <tr>\n",
       "      <th>mean</th>\n",
       "      <td>68583.108984</td>\n",
       "      <td>5.977222</td>\n",
       "      <td>6.987792</td>\n",
       "      <td>3.981330</td>\n",
       "      <td>36163.516039</td>\n",
       "      <td>1.232073e+06</td>\n",
       "    </tr>\n",
       "    <tr>\n",
       "      <th>std</th>\n",
       "      <td>10657.991214</td>\n",
       "      <td>0.991456</td>\n",
       "      <td>1.005833</td>\n",
       "      <td>1.234137</td>\n",
       "      <td>9925.650114</td>\n",
       "      <td>3.531176e+05</td>\n",
       "    </tr>\n",
       "    <tr>\n",
       "      <th>min</th>\n",
       "      <td>17796.631190</td>\n",
       "      <td>2.644304</td>\n",
       "      <td>3.236194</td>\n",
       "      <td>2.000000</td>\n",
       "      <td>172.610686</td>\n",
       "      <td>1.593866e+04</td>\n",
       "    </tr>\n",
       "    <tr>\n",
       "      <th>25%</th>\n",
       "      <td>61480.562388</td>\n",
       "      <td>5.322283</td>\n",
       "      <td>6.299250</td>\n",
       "      <td>3.140000</td>\n",
       "      <td>29403.928702</td>\n",
       "      <td>9.975771e+05</td>\n",
       "    </tr>\n",
       "    <tr>\n",
       "      <th>50%</th>\n",
       "      <td>68804.286404</td>\n",
       "      <td>5.970429</td>\n",
       "      <td>7.002902</td>\n",
       "      <td>4.050000</td>\n",
       "      <td>36199.406689</td>\n",
       "      <td>1.232669e+06</td>\n",
       "    </tr>\n",
       "    <tr>\n",
       "      <th>75%</th>\n",
       "      <td>75783.338666</td>\n",
       "      <td>6.650808</td>\n",
       "      <td>7.665871</td>\n",
       "      <td>4.490000</td>\n",
       "      <td>42861.290769</td>\n",
       "      <td>1.471210e+06</td>\n",
       "    </tr>\n",
       "    <tr>\n",
       "      <th>max</th>\n",
       "      <td>107701.748378</td>\n",
       "      <td>9.519088</td>\n",
       "      <td>10.759588</td>\n",
       "      <td>6.500000</td>\n",
       "      <td>69621.713378</td>\n",
       "      <td>2.469066e+06</td>\n",
       "    </tr>\n",
       "  </tbody>\n",
       "</table>\n",
       "</div>"
      ],
      "text/plain": [
       "       Avg. Area Income  Avg. Area House Age  Avg. Area Number of Rooms  \\\n",
       "count       5000.000000          5000.000000                5000.000000   \n",
       "mean       68583.108984             5.977222                   6.987792   \n",
       "std        10657.991214             0.991456                   1.005833   \n",
       "min        17796.631190             2.644304                   3.236194   \n",
       "25%        61480.562388             5.322283                   6.299250   \n",
       "50%        68804.286404             5.970429                   7.002902   \n",
       "75%        75783.338666             6.650808                   7.665871   \n",
       "max       107701.748378             9.519088                  10.759588   \n",
       "\n",
       "       Avg. Area Number of Bedrooms  Area Population         Price  \n",
       "count                   5000.000000      5000.000000  5.000000e+03  \n",
       "mean                       3.981330     36163.516039  1.232073e+06  \n",
       "std                        1.234137      9925.650114  3.531176e+05  \n",
       "min                        2.000000       172.610686  1.593866e+04  \n",
       "25%                        3.140000     29403.928702  9.975771e+05  \n",
       "50%                        4.050000     36199.406689  1.232669e+06  \n",
       "75%                        4.490000     42861.290769  1.471210e+06  \n",
       "max                        6.500000     69621.713378  2.469066e+06  "
      ]
     },
     "execution_count": 5,
     "metadata": {},
     "output_type": "execute_result"
    }
   ],
   "source": [
    "housing_data.describe()"
   ]
  },
  {
   "cell_type": "markdown",
   "metadata": {
    "slideshow": {
     "slide_type": "subslide"
    }
   },
   "source": [
    "### Data Analysis Question: How does the average area number of rooms correlate with house price?"
   ]
  },
  {
   "cell_type": "code",
   "execution_count": 6,
   "metadata": {
    "slideshow": {
     "slide_type": "subslide"
    }
   },
   "outputs": [
    {
     "data": {
      "image/png": "[encoded data removed]",
      "text/plain": [
       "<Figure size 720x360 with 1 Axes>"
      ]
     },
     "metadata": {
      "needs_background": "light"
     },
     "output_type": "display_data"
    }
   ],
   "source": [
    "figure = plt.figure(figsize=(10,5)) \n",
    "plt.scatter(housing_data['Avg. Area Number of Rooms'], housing_data['Price'])\n",
    "plt.xlabel('Average Area Number of Rooms')\n",
    "plt.ylabel('House Price[Million $]');"
   ]
  },
  {
   "cell_type": "markdown",
   "metadata": {
    "slideshow": {
     "slide_type": "fragment"
    }
   },
   "source": [
    "- We see that there is clearly a pattern in how the average area number of rooms correlates with the housing prize. "
   ]
  },
  {
   "cell_type": "markdown",
   "metadata": {
    "slideshow": {
     "slide_type": "slide"
    }
   },
   "source": [
    "## Our task:\n",
    "Find the linear relationship(correlation) between a dependent variable $y$, and one independent variables $x$. Here the x-axis represents the independent feature value and the y-axis the dependent variable, or label. So given a data point feature, the linear regression model should output/predict the corresponding y-value.\n",
    "\n",
    "#### $\\Rightarrow$ Find a line that fits the data well"
   ]
  },
  {
   "cell_type": "markdown",
   "metadata": {
    "slideshow": {
     "slide_type": "subslide"
    }
   },
   "source": [
    "### But before, normalize the features(will see more of it in the feature-engineering lecture)"
   ]
  },
  {
   "cell_type": "markdown",
   "metadata": {
    "slideshow": {
     "slide_type": "subslide"
    }
   },
   "source": [
    "### 1. Normalize y-axis to values between 0 and 1\n",
    "\n",
    "$y_{normalized}=\\frac{y-y_{min}}{y_{max}-y_{min}}$\n",
    "\n",
    "### 2. Mapping back to the original values is as easy as\n",
    "\n",
    "$y_{unnormalized}=(y_{normalized}\\cdot(y_{max}-y_{min}))+y_{min}$\n",
    "\n",
    "### 3. Normalize x-feature to features between 0 and 1\n",
    "\n",
    "$x_{normalized}=\\frac{x-x_{min}}{x_{max}-x_{min}}$\n",
    "\n",
    "### 4. Mapping back to the original values is as easy as\n",
    "\n",
    "$x_{unnormalized}=(x_{normalized}\\cdot(x_{max}-x_{min}))+x_{min}$"
   ]
  },
  {
   "cell_type": "code",
   "execution_count": 7,
   "metadata": {
    "slideshow": {
     "slide_type": "subslide"
    }
   },
   "outputs": [
    {
     "data": {
      "image/png": "[encoded data removed]",
      "text/plain": [
       "<Figure size 720x360 with 1 Axes>"
      ]
     },
     "metadata": {
      "needs_background": "light"
     },
     "output_type": "display_data"
    }
   ],
   "source": [
    "figure = plt.figure(figsize=(10,5)), plt.scatter(housing_data['Avg. Area Number of Rooms'], housing_data['Price'])\n",
    "plt.xlabel('Average Area Number of Rooms'), plt.ylabel('House Price[Million $]');"
   ]
  },
  {
   "cell_type": "code",
   "execution_count": 10,
   "metadata": {
    "slideshow": {
     "slide_type": "fragment"
    }
   },
   "outputs": [
    {
     "data": {
      "image/png": "[encoded data removed]",
      "text/plain": [
       "<Figure size 720x360 with 1 Axes>"
      ]
     },
     "metadata": {
      "needs_background": "light"
     },
     "output_type": "display_data"
    }
   ],
   "source": [
    "# Normalize y-axis to values between 0 and 1\n",
    "y = (housing_data['Price'] - housing_data['Price'].min()) \\\n",
    "    / (housing_data['Price'].max() - housing_data['Price'].min()) \n",
    "x = (housing_data['Avg. Area Number of Rooms'] - housing_data['Avg. Area Number of Rooms'].min()) \\\n",
    "    / (housing_data['Avg. Area Number of Rooms'].max() - housing_data['Avg. Area Number of Rooms'].min()) \n",
    "figure = plt.figure(figsize=(10,5)),\\\n",
    "            plt.scatter(x, y),\\\n",
    "            plt.xlabel('Average Area Number of Rooms'),\\\n",
    "            plt.ylabel('House Price[Million $]');"
   ]
  },
  {
   "cell_type": "markdown",
   "metadata": {
    "slideshow": {
     "slide_type": "subslide"
    }
   },
   "source": [
    "### Displaying different lines"
   ]
  },
  {
   "cell_type": "code",
   "execution_count": 11,
   "metadata": {
    "slideshow": {
     "slide_type": "subslide"
    }
   },
   "outputs": [
    {
     "data": {
      "image/png": "[encoded data removed]",
      "text/plain": [
       "<Figure size 720x360 with 1 Axes>"
      ]
     },
     "metadata": {
      "needs_background": "light"
     },
     "output_type": "display_data"
    }
   ],
   "source": [
    "x_line = np.linspace(0,1)\n",
    "\n",
    "# line parametrizations: y-axis intersection + slope*x\n",
    "line_1 = 0 + 0.4*x_line; line_2 = 0.2 + 0.6*x_line; line_3 = 0.5 + 0.8*x_line\n",
    "\n",
    "figure = plt.figure(figsize=(10,5))\n",
    "plt.scatter(x, y)\n",
    "\n",
    "plt.plot(x_line, line_1, label=\"Line 1\", color='g'),\n",
    "plt.plot(x_line, line_2, label=\"Line 2\", color='b'),\n",
    "plt.plot(x_line, line_3, label=\"Line 3\", color='r')\n",
    "plt.legend()\n",
    "plt.xlabel('Average Area Number of Rooms')\n",
    "plt.ylabel('House Price[Million $]');"
   ]
  },
  {
   "cell_type": "markdown",
   "metadata": {
    "slideshow": {
     "slide_type": "subslide"
    }
   },
   "source": [
    "### The blue line looks best, but how to find it ??"
   ]
  },
  {
   "cell_type": "markdown",
   "metadata": {
    "slideshow": {
     "slide_type": "slide"
    }
   },
   "source": [
    "# Mathematical formulation of the model"
   ]
  },
  {
   "cell_type": "markdown",
   "metadata": {
    "slideshow": {
     "slide_type": "subslide"
    }
   },
   "source": [
    "## Dataset:\n",
    "\n",
    "$D=\\{( x_{1}, y_{1}), ..., ( x_{N}, y_{N})\\}$, so $D\\epsilon \\mathbb{R}^{N,1+1}$.\n",
    "\n",
    "where $x\\epsilon \\mathbb{R}, y_{i}\\epsilon \\mathbb{R}$.\n",
    "\n",
    "| feature x | label  |\n",
    "|---|---|\n",
    "| xyz  | 1.5  | \n",
    "| ...  | ...  | \n",
    "| idk  | ...  | "
   ]
  },
  {
   "cell_type": "markdown",
   "metadata": {
    "slideshow": {
     "slide_type": "subslide"
    }
   },
   "source": [
    "# Simple linear regression model\n",
    "---\n",
    "Linear regression where each datapoint consists of exactly 1 feature.\n",
    "\n",
    "The ***model***: $\\hat{y_{i}} = w_0+w_{1}x_{i}$\n",
    "\n",
    "$\\hat{y_{i}}$: predicted value for data point $x_{i}$\n",
    "\n",
    "$x_{i}$: independent variable/feature of training data point $i$ - ***given***\n",
    "\n",
    "$w_0/b$: bias parameter/weight (intercept/offset on y-axis) - ***trainable***\n",
    "\n",
    "$w_{1}$: parameter/weight value for feature x - ***trainable***\n",
    "\n",
    "### Note: Bias and weight value stay the same for every data point"
   ]
  },
  {
   "cell_type": "markdown",
   "metadata": {
    "slideshow": {
     "slide_type": "subslide"
    }
   },
   "source": [
    "### Graphical model of linear regression\n",
    "- Such a linear regression model can be displayed in a graphical way as follows:\n",
    "![Perceptron](resources/pt.png)\n",
    "- $o$ is the prediction of our model which in this case represents the price estimate, or $\\hat{y}=o$. The $x_1$-node corresponds to \"Avg. Area Number of Rooms\"-feature and $w_0,w_1$ are the scalar weights of our model.\n",
    "- The directed arrows represent a multiplication with the input nodes $1,x_1$."
   ]
  },
  {
   "cell_type": "markdown",
   "metadata": {
    "slideshow": {
     "slide_type": "slide"
    }
   },
   "source": [
    "# Loss/Error function"
   ]
  },
  {
   "cell_type": "markdown",
   "metadata": {
    "slideshow": {
     "slide_type": "fragment"
    }
   },
   "source": [
    "Given different models, we need a function that measures how \"good\" certain models are, to make them comparable.\n",
    "#### $\\Rightarrow$ For Linear Regression the Mean-squared error is a popular choice."
   ]
  },
  {
   "cell_type": "markdown",
   "metadata": {
    "slideshow": {
     "slide_type": "subslide"
    }
   },
   "source": [
    "### Mean-squared error\n",
    "---\n",
    "$MSE_{scalar} = \\frac{1}{2N} \\sum_{i=1}^{N} (\\underbrace{w_0 + w_1 x_i}_{=\\hat{y}} - y_i )^{2} = \\frac{1}{2N} \\sum_{i=1}^{N} ( \\mathbf{w}^T \\mathbf{x_i} - y_i )^{2} $\n",
    "\n",
    "$MSE_{matrix} = \\frac{1}{2N} \\| \\mathbf{X}\\mathbf{w} - \\mathbf{y} \\|_2^{2} $\n",
    "\n",
    "with:\n",
    "\n",
    "$\\mathbf{w} = \\begin{bmatrix} w_0 \\\\ w_1 \\end{bmatrix} \\epsilon \\mathbb{R}^{2,1}$, $\\mathbf{x_i} = \\begin{bmatrix} 1 \\\\ x_i \\end{bmatrix}\\epsilon \\mathbb{R}^{2,1},$\n",
    "\n",
    "$\\mathbf{X}=\\begin{bmatrix} -\\mathbf{x_1}-  \\\\ ... \\\\ -\\mathbf{x_N}- \\end{bmatrix} \\epsilon \\mathbb{R}^{N,2},$\n",
    "\n",
    "$\\mathbf{y}\\epsilon \\mathbb{R}^{N,1}$"
   ]
  },
  {
   "cell_type": "code",
   "execution_count": 12,
   "metadata": {
    "slideshow": {
     "slide_type": "subslide"
    }
   },
   "outputs": [],
   "source": [
    "from sklearn.metrics import mean_squared_error"
   ]
  },
  {
   "cell_type": "code",
   "execution_count": 13,
   "metadata": {
    "slideshow": {
     "slide_type": "subslide"
    }
   },
   "outputs": [],
   "source": [
    "model_1_predictions = 0 + 0.4*x \n",
    "model_2_predictions = 0.2 + 0.6*x\n",
    "model_3_predictions = 0.5 + 0.8*x"
   ]
  },
  {
   "cell_type": "code",
   "execution_count": 14,
   "metadata": {
    "slideshow": {
     "slide_type": "fragment"
    }
   },
   "outputs": [
    {
     "name": "stdout",
     "output_type": "stream",
     "text": [
      "0.10619386054641464\n",
      "0.019411381056935476\n",
      "0.18437203241379646\n"
     ]
    }
   ],
   "source": [
    "# Model prediction mean squared error\n",
    "print(mean_squared_error(y_true=y, y_pred=model_1_predictions))\n",
    "print(mean_squared_error(y_true=y, y_pred=model_2_predictions))\n",
    "print(mean_squared_error(y_true=y, y_pred=model_3_predictions))"
   ]
  },
  {
   "cell_type": "markdown",
   "metadata": {
    "slideshow": {
     "slide_type": "fragment"
    }
   },
   "source": [
    "$\\Rightarrow$ model 2 produces lowest MSE, as expected."
   ]
  },
  {
   "cell_type": "markdown",
   "metadata": {
    "slideshow": {
     "slide_type": "subslide"
    }
   },
   "source": [
    "## Plotting the MSE-loss wrt different model parameters $w$\n",
    "We fix the bias to a good value of 0.2, and see how the error changes with respect to different slope parameters."
   ]
  },
  {
   "cell_type": "code",
   "execution_count": 16,
   "metadata": {
    "slideshow": {
     "slide_type": "fragment"
    }
   },
   "outputs": [
    {
     "data": {
      "image/png": "[encoded data removed]",
      "text/plain": [
       "<Figure size 720x360 with 1 Axes>"
      ]
     },
     "metadata": {
      "needs_background": "light"
     },
     "output_type": "display_data"
    }
   ],
   "source": [
    "w_s = np.linspace(0, 1, 20)\n",
    "mse_losses = []\n",
    "for w in w_s:\n",
    "    model_prediction = 0.2 + w*   x\n",
    "    mse_losses.append(mean_squared_error(y, model_prediction))    \n",
    "fig = plt.figure(figsize=(10,5)),\\\n",
    "        plt.plot(w_s, mse_losses),\\\n",
    "        plt.xlabel('Weight vector value'),\\\n",
    "        plt.ylabel('MSE');"
   ]
  },
  {
   "cell_type": "code",
   "execution_count": 17,
   "metadata": {
    "slideshow": {
     "slide_type": "subslide"
    }
   },
   "outputs": [
    {
     "data": {
      "image/png": "[encoded data removed]",
      "text/plain": [
       "<Figure size 720x360 with 1 Axes>"
      ]
     },
     "metadata": {
      "needs_background": "light"
     },
     "output_type": "display_data"
    }
   ],
   "source": [
    "fig = plt.figure(figsize=(10,5)),\\\n",
    "        plt.plot(w_s, mse_losses),\\\n",
    "        plt.xlabel('Weight vector value'),\\\n",
    "        plt.ylabel('MSE');"
   ]
  },
  {
   "cell_type": "markdown",
   "metadata": {
    "slideshow": {
     "slide_type": "-"
    }
   },
   "source": [
    "#### Two things to note:\n",
    "1. We see that w_1=0.6 seems to be a good choice\n",
    "2. This seems to be a convex function"
   ]
  },
  {
   "cell_type": "markdown",
   "metadata": {
    "slideshow": {
     "slide_type": "slide"
    }
   },
   "source": [
    "### Refresher on convex function\n",
    "---\n",
    "<img style=\"float: left;\" src=\"resources/conv.png\">\n",
    "\n",
    "##### Definition:\n",
    "---\n",
    "Let $X$ be a convex set and $f:X\\rightarrow \\mathbb{R}$ be a function.\n",
    "Then $f$ is called ***convex*** iff:\n",
    "\n",
    "$\\forall x_1,x_2 \\epsilon X, \\forall \\lambda\\epsilon[0,1]: f((1-\\lambda) x_1+\\lambda x_2)\\leq (1-\\lambda) f(x_1)+\\lambda f(x_2)$"
   ]
  },
  {
   "cell_type": "markdown",
   "metadata": {
    "slideshow": {
     "slide_type": "fragment"
    }
   },
   "source": [
    "Note: We will see an important property of convex functions in a littel bit."
   ]
  },
  {
   "cell_type": "markdown",
   "metadata": {
    "slideshow": {
     "slide_type": "subslide"
    }
   },
   "source": [
    "### Back to our question: How to find our model parameter $w$ such that MSE improves ?"
   ]
  },
  {
   "cell_type": "markdown",
   "metadata": {
    "slideshow": {
     "slide_type": "slide"
    }
   },
   "source": [
    "# Optimization"
   ]
  },
  {
   "cell_type": "markdown",
   "metadata": {
    "slideshow": {
     "slide_type": "slide"
    }
   },
   "source": [
    "## General problem formulation:\n"
   ]
  },
  {
   "cell_type": "markdown",
   "metadata": {
    "slideshow": {
     "slide_type": "slide"
    }
   },
   "source": [
    "## Mathematical optimization problem formulation:\n",
    "#### General formulation example:\n",
    "$\\underset{x}{min}\\ f(x)$,\n",
    "\n",
    "$s.t. |x|\\leq c$.\n",
    "\n",
    "Find the optimal value that minimizes a function $f(x)$, and such that the constraing $|x|\\leq c$ holds for some given c.\n",
    "####  Linear Regression optimization without bias/intercept variable:\n",
    "---\n",
    "$\\underset{w_{1}}{min}\\ MSE = \\underset{w_{1}}{min} \\ \\frac{1}{2n} \\sum_{n=1}^{N} ( w_{1}x_{i} - y)^{2} = \\underset{w_{1}}{min} \\ \\frac{1}{2N} \\| \\mathbf{X}w_{1} - \\mathbf{y} \\|^{2} $, \n",
    "\n",
    "with $\\mathbf{X}\\epsilon\\mathbb{R}^{N,1}, \\mathbf{y}\\epsilon\\mathbf{R}^{N,1}$.\n",
    "#### With bias/intercept variable:\n",
    "---\n",
    "Same as without bias term, just include a column of ones to the $X$ matrix, and put $w_0,w_1$ into one vector."
   ]
  },
  {
   "cell_type": "markdown",
   "metadata": {
    "slideshow": {
     "slide_type": "subslide"
    }
   },
   "source": [
    "## 1. Approach: Closed-form solution (Rarely possible !)\n",
    "\n",
    "#### Without bias term:\n",
    "---\n",
    "In order to minimize set: $\\nabla_{w_{1}} MSE = 0$ and solve for $w_{1}$\n",
    "\n",
    "$\\nabla_{w_1} J(w_1) = \\nabla_{w_{1}} MSE = \\frac{(\\mathbf{X^{T}X}w_{1} - \\mathbf{X^{T}y}) \\overset{}{}}{N}= 0$\n",
    "\n",
    "$\\Rightarrow w_{1}= (\\mathbf{X}^{T}\\mathbf{X})^{-1}\\mathbf{X}^{T}\\mathbf{y}$"
   ]
  },
  {
   "cell_type": "markdown",
   "metadata": {
    "slideshow": {
     "slide_type": "subslide"
    }
   },
   "source": [
    "#### With bias term:\n",
    "---\n",
    "Include bias term into weight vector $\\mathbf{w}$, add  a column of ones to $X$, set $\\nabla_{\\mathbf{w}} MSE = 0$ and solve for $\\mathbf{w}$.\n",
    "\n",
    "$\\Rightarrow \\mathbf{w} = (\\mathbf{X}^{T}\\mathbf{X})^{-1}\\mathbf{X}^{T}\\mathbf{y}$"
   ]
  },
  {
   "cell_type": "code",
   "execution_count": 18,
   "metadata": {},
   "outputs": [
    {
     "name": "stdout",
     "output_type": "stream",
     "text": [
      "Optimial weight value: [0.3155318  0.36140368]\n"
     ]
    }
   ],
   "source": [
    "X = np.hstack([np.ones((len(x), 1)), x.to_numpy().reshape(-1,1)])\n",
    "w_opt = np.dot(np.linalg.inv(np.dot(X.T,X)), np.dot(X.T, y))\n",
    "\n",
    "print(f'Optimial weight value: {w_opt}')"
   ]
  },
  {
   "cell_type": "markdown",
   "metadata": {
    "slideshow": {
     "slide_type": "slide"
    }
   },
   "source": [
    "### Evaluating results"
   ]
  },
  {
   "cell_type": "code",
   "execution_count": 19,
   "metadata": {
    "slideshow": {
     "slide_type": "fragment"
    }
   },
   "outputs": [
    {
     "name": "stdout",
     "output_type": "stream",
     "text": [
      "0.01838216848996925\n"
     ]
    }
   ],
   "source": [
    "print(mean_squared_error(y_true=y, y_pred=np.dot(X, w_opt)))"
   ]
  },
  {
   "cell_type": "markdown",
   "metadata": {
    "slideshow": {
     "slide_type": "slide"
    }
   },
   "source": [
    "# 2. Approach: Gradient Descent - Very important optimization algorithm\n"
   ]
  },
  {
   "cell_type": "markdown",
   "metadata": {
    "slideshow": {
     "slide_type": "slide"
    }
   },
   "source": [
    "<img style=\"float: left;\" src=\"resources/opt.png\"/>\n",
    "\n",
    "#### Algorithm\n",
    "---\n",
    "1. Start with random weight value $w^1$\n",
    "\n",
    "2. Update $w^t$, according to the learning rule: \n",
    "\n",
    "&emsp; &emsp; &emsp; $w^{t+1}=w^{t}-\\alpha\\nabla_{w}J(w_t)$\n",
    "\n",
    "3. Repeat step 2 until convergence (e.g. n-epochs)"
   ]
  },
  {
   "cell_type": "markdown",
   "metadata": {
    "slideshow": {
     "slide_type": "fragment"
    }
   },
   "source": [
    "- $\\nabla_{w}J(w_t)$: gradient of $J$ with respect to the weight variable $w$, evaluated at point($w^t$). This operator returns the direction of steepest ascent(negative is steepest descent), when standing at point $w^t$.Thus subtracting $\\nabla_{w}J(w_t)$ from $w^t$ leads to a $w^{t+1}$ that decreases the loss. \n",
    "- $\\alpha$: learning rate / step size. How big of a step do we take towards the direction of steepest descent."
   ]
  },
  {
   "cell_type": "markdown",
   "metadata": {
    "slideshow": {
     "slide_type": "subslide"
    }
   },
   "source": [
    "<img style=\"float:left\" width=\"40%\" src=\"resources/opt.png\"/>\n",
    "\n",
    "### Theorem:\n",
    "---\n",
    "Consider an optimization problem of the form: \n",
    "\n",
    "$min. f(x)$, \n",
    "\n",
    "s.t. $x \\epsilon \\Omega$,\n",
    "\n",
    "where $f$ is a convex function and $\\Omega$ is a convex set. Then, any ***local minimum is also a global minimum***."
   ]
  },
  {
   "cell_type": "markdown",
   "metadata": {
    "slideshow": {
     "slide_type": "slide"
    }
   },
   "source": [
    "### NOTE: Usually loss functions are non-convex!\n",
    "\n",
    "<img src=\"resources/global_opt.png\"/>"
   ]
  },
  {
   "cell_type": "markdown",
   "metadata": {
    "slideshow": {
     "slide_type": "slide"
    }
   },
   "source": [
    "## Impact of learning rate on the optimization performance\n",
    "The learning rate $\\alpha$, also often called \"step size\", determines how big of your update steps will be in the direction of the current gradient. \n",
    "\n",
    "Important facts about the learning rate:\n",
    "---\n",
    "1. Smaller learning rates will converge slower to a optimum\n",
    "2. Larger learning rates might overshoot the optimum and thus never converge towards an optimum\n",
    "3. The learning rate is a hyperparameter(not learnable, thus needs to be decided by the user)\n",
    "\n",
    "\n",
    "### -> Jump to Google Viz.:\n",
    "\n",
    "https://developers.google.com/machine-learning/crash-course/reducing-loss/learning-rate"
   ]
  },
  {
   "cell_type": "markdown",
   "metadata": {
    "slideshow": {
     "slide_type": "slide"
    }
   },
   "source": [
    "# Implementing a Simple Linear Regression model in Python\n",
    "\n",
    "\n",
    "## Workflow-Template:\n",
    "0. Do the imports\n",
    "1. Load and explore the data\n",
    "2. Preprocess the data\n",
    "3. Choose and implement the model\n",
    "4. Train the model\n",
    "5. Evaluate the model"
   ]
  },
  {
   "cell_type": "markdown",
   "metadata": {
    "slideshow": {
     "slide_type": "subslide"
    }
   },
   "source": [
    "# 0. Do the imports"
   ]
  },
  {
   "cell_type": "code",
   "execution_count": 20,
   "metadata": {
    "slideshow": {
     "slide_type": "fragment"
    }
   },
   "outputs": [],
   "source": [
    "import numpy as np\n",
    "import matplotlib.pyplot as plt\n",
    "import pandas as pd\n",
    "from sklearn.linear_model import LinearRegression"
   ]
  },
  {
   "cell_type": "markdown",
   "metadata": {
    "slideshow": {
     "slide_type": "subslide"
    }
   },
   "source": [
    "# 1. Load and explore the data"
   ]
  },
  {
   "cell_type": "code",
   "execution_count": 21,
   "metadata": {
    "slideshow": {
     "slide_type": "fragment"
    }
   },
   "outputs": [
    {
     "data": {
      "text/html": [
       "<div>\n",
       "<style scoped>\n",
       "    .dataframe tbody tr th:only-of-type {\n",
       "        vertical-align: middle;\n",
       "    }\n",
       "\n",
       "    .dataframe tbody tr th {\n",
       "        vertical-align: top;\n",
       "    }\n",
       "\n",
       "    .dataframe thead th {\n",
       "        text-align: right;\n",
       "    }\n",
       "</style>\n",
       "<table border=\"1\" class=\"dataframe\">\n",
       "  <thead>\n",
       "    <tr style=\"text-align: right;\">\n",
       "      <th></th>\n",
       "      <th>YearsExperience</th>\n",
       "      <th>Salary</th>\n",
       "    </tr>\n",
       "  </thead>\n",
       "  <tbody>\n",
       "    <tr>\n",
       "      <th>0</th>\n",
       "      <td>1.1</td>\n",
       "      <td>39343.0</td>\n",
       "    </tr>\n",
       "    <tr>\n",
       "      <th>1</th>\n",
       "      <td>1.3</td>\n",
       "      <td>46205.0</td>\n",
       "    </tr>\n",
       "    <tr>\n",
       "      <th>2</th>\n",
       "      <td>1.5</td>\n",
       "      <td>37731.0</td>\n",
       "    </tr>\n",
       "    <tr>\n",
       "      <th>3</th>\n",
       "      <td>2.0</td>\n",
       "      <td>43525.0</td>\n",
       "    </tr>\n",
       "    <tr>\n",
       "      <th>4</th>\n",
       "      <td>2.2</td>\n",
       "      <td>39891.0</td>\n",
       "    </tr>\n",
       "  </tbody>\n",
       "</table>\n",
       "</div>"
      ],
      "text/plain": [
       "   YearsExperience   Salary\n",
       "0              1.1  39343.0\n",
       "1              1.3  46205.0\n",
       "2              1.5  37731.0\n",
       "3              2.0  43525.0\n",
       "4              2.2  39891.0"
      ]
     },
     "execution_count": 21,
     "metadata": {},
     "output_type": "execute_result"
    }
   ],
   "source": [
    "data = pd.read_csv('data/Salary_Data.csv')\n",
    "data.head()"
   ]
  },
  {
   "cell_type": "code",
   "execution_count": 22,
   "metadata": {
    "slideshow": {
     "slide_type": "subslide"
    }
   },
   "outputs": [
    {
     "data": {
      "image/png": "[encoded data removed]",
      "text/plain": [
       "<Figure size 432x288 with 1 Axes>"
      ]
     },
     "metadata": {
      "needs_background": "light"
     },
     "output_type": "display_data"
    }
   ],
   "source": [
    "plt.scatter(data.iloc[:,0], data.iloc[:,1]), plt.xlabel('Years of experience'), plt.ylabel('Income');"
   ]
  },
  {
   "cell_type": "markdown",
   "metadata": {
    "slideshow": {
     "slide_type": "subslide"
    }
   },
   "source": [
    "# 2. Preprocess the data"
   ]
  },
  {
   "cell_type": "code",
   "execution_count": 23,
   "metadata": {
    "slideshow": {
     "slide_type": "fragment"
    }
   },
   "outputs": [],
   "source": [
    "train_data = data.iloc[:int(data.shape[0]*0.8)]\n",
    "test_data = data.iloc[int(data.shape[0]*0.8):]"
   ]
  },
  {
   "cell_type": "code",
   "execution_count": 24,
   "metadata": {},
   "outputs": [
    {
     "data": {
      "text/plain": [
       "(24, 2)"
      ]
     },
     "execution_count": 24,
     "metadata": {},
     "output_type": "execute_result"
    }
   ],
   "source": [
    "train_data.shape"
   ]
  },
  {
   "cell_type": "code",
   "execution_count": 25,
   "metadata": {},
   "outputs": [
    {
     "data": {
      "text/plain": [
       "(6, 2)"
      ]
     },
     "execution_count": 25,
     "metadata": {},
     "output_type": "execute_result"
    }
   ],
   "source": [
    "test_data.shape "
   ]
  },
  {
   "cell_type": "code",
   "execution_count": 26,
   "metadata": {
    "slideshow": {
     "slide_type": "subslide"
    }
   },
   "outputs": [],
   "source": [
    "x_train = train_data.iloc[:,0].to_numpy().reshape(-1,1)\n",
    "y_train = train_data.iloc[:,1].to_numpy().reshape(-1,1)\n",
    "\n",
    "x_test = test_data.iloc[:,0].to_numpy().reshape(-1,1)\n",
    "y_test = test_data.iloc[:,1].to_numpy().reshape(-1,1)"
   ]
  },
  {
   "cell_type": "code",
   "execution_count": 27,
   "metadata": {},
   "outputs": [
    {
     "name": "stdout",
     "output_type": "stream",
     "text": [
      "(24, 1)\n",
      "(24, 1)\n"
     ]
    }
   ],
   "source": [
    "print(x_train.shape), print(y_train.shape);"
   ]
  },
  {
   "cell_type": "markdown",
   "metadata": {
    "slideshow": {
     "slide_type": "subslide"
    }
   },
   "source": [
    "# 3. Choose and implement the model"
   ]
  },
  {
   "cell_type": "code",
   "execution_count": 28,
   "metadata": {
    "slideshow": {
     "slide_type": "fragment"
    }
   },
   "outputs": [],
   "source": [
    "model = LinearRegression()"
   ]
  },
  {
   "cell_type": "code",
   "execution_count": 29,
   "metadata": {},
   "outputs": [
    {
     "data": {
      "text/plain": [
       "LinearRegression()"
      ]
     },
     "execution_count": 29,
     "metadata": {},
     "output_type": "execute_result"
    }
   ],
   "source": [
    "model"
   ]
  },
  {
   "cell_type": "markdown",
   "metadata": {
    "slideshow": {
     "slide_type": "subslide"
    }
   },
   "source": [
    "# 4. Train the model"
   ]
  },
  {
   "cell_type": "code",
   "execution_count": 30,
   "metadata": {
    "slideshow": {
     "slide_type": "fragment"
    }
   },
   "outputs": [],
   "source": [
    "trained_model = model.fit(x_train, y_train)"
   ]
  },
  {
   "cell_type": "code",
   "execution_count": 31,
   "metadata": {},
   "outputs": [
    {
     "name": "stdout",
     "output_type": "stream",
     "text": [
      "Learned y-axis intercept: [23659.84867304]\n",
      "Learned weight/slope: [[10052.78616746]]\n"
     ]
    }
   ],
   "source": [
    "print(f'Learned y-axis intercept: {trained_model.intercept_}')\n",
    "print(f'Learned weight/slope: {trained_model.coef_}')"
   ]
  },
  {
   "cell_type": "markdown",
   "metadata": {
    "slideshow": {
     "slide_type": "subslide"
    }
   },
   "source": [
    "# 5. Evaluating the results"
   ]
  },
  {
   "cell_type": "markdown",
   "metadata": {
    "slideshow": {
     "slide_type": "subslide"
    }
   },
   "source": [
    "### Visual evaluation"
   ]
  },
  {
   "cell_type": "code",
   "execution_count": 32,
   "metadata": {
    "slideshow": {
     "slide_type": "fragment"
    }
   },
   "outputs": [],
   "source": [
    "train_predictions = trained_model.predict(x_train)\n",
    "test_predictions = trained_model.predict(x_test)"
   ]
  },
  {
   "cell_type": "code",
   "execution_count": 33,
   "metadata": {
    "slideshow": {
     "slide_type": "fragment"
    }
   },
   "outputs": [
    {
     "data": {
      "image/png": "[encoded data removed]",
      "text/plain": [
       "<Figure size 432x288 with 1 Axes>"
      ]
     },
     "metadata": {
      "needs_background": "light"
     },
     "output_type": "display_data"
    }
   ],
   "source": [
    "plt.scatter(data.iloc[:,0], data.iloc[:,1])\n",
    "plt.scatter(x_train, train_predictions)\n",
    "plt.scatter(x_test, test_predictions)\n",
    "plt.legend(['true data', 'train predictions', 'test predictions'])\n",
    "plt.show()"
   ]
  },
  {
   "cell_type": "markdown",
   "metadata": {
    "slideshow": {
     "slide_type": "slide"
    }
   },
   "source": [
    "### Quantitative evaluation using MSE and Residuals\n",
    "MSE is almost the same for training and test set predictions -> no overfitting"
   ]
  },
  {
   "cell_type": "code",
   "execution_count": 34,
   "metadata": {
    "slideshow": {
     "slide_type": "fragment"
    }
   },
   "outputs": [
    {
     "name": "stdout",
     "output_type": "stream",
     "text": [
      "35116249.80808982\n",
      "35766738.23965806\n"
     ]
    }
   ],
   "source": [
    "print(mean_squared_error(y_train, train_predictions))\n",
    "\n",
    "print(mean_squared_error(y_test, test_predictions))"
   ]
  },
  {
   "cell_type": "markdown",
   "metadata": {
    "slideshow": {
     "slide_type": "slide"
    }
   },
   "source": [
    "### Residuals"
   ]
  },
  {
   "cell_type": "code",
   "execution_count": 35,
   "metadata": {},
   "outputs": [
    {
     "data": {
      "text/plain": [
       "6.548361852765083e-11"
      ]
     },
     "execution_count": 35,
     "metadata": {},
     "output_type": "execute_result"
    }
   ],
   "source": [
    "np.sum(y_train-train_predictions)"
   ]
  },
  {
   "cell_type": "markdown",
   "metadata": {
    "slideshow": {
     "slide_type": "fragment"
    }
   },
   "source": [
    "### Train residuals are almost zero -> good!\n",
    "They should actually reach zero if our test set size grows"
   ]
  },
  {
   "cell_type": "markdown",
   "metadata": {
    "slideshow": {
     "slide_type": "slide"
    }
   },
   "source": [
    "### We will discuss other evaluation techniques soon"
   ]
  },
  {
   "cell_type": "markdown",
   "metadata": {
    "slideshow": {
     "slide_type": "slide"
    }
   },
   "source": [
    "## Multiple Linear Regression"
   ]
  },
  {
   "cell_type": "markdown",
   "metadata": {
    "slideshow": {
     "slide_type": "subslide"
    }
   },
   "source": [
    "![Simple linear regression](resources/mlr.png)\n",
    "https://www.mathworks.com/help/stats/regress.html"
   ]
  },
  {
   "cell_type": "markdown",
   "metadata": {
    "slideshow": {
     "slide_type": "slide"
    }
   },
   "source": [
    "## Dataset:\n",
    "\n",
    "$D=\\{(\\mathbf x_{1}, y_{1}), ..., (\\mathbf x_{N}, y_{N})\\}$, so $D\\epsilon \\mathbb{R}^{N,d+1}$.\n",
    "\n",
    "where $\\mathbf{x}\\epsilon \\mathbb{R}^{d,1}, y_{i}\\epsilon \\mathbb{R}$, with ***d*** independent features.\n",
    "\n",
    "| feature 1  | ...  | feature d  | label  |\n",
    "|---|---|---|---|\n",
    "| xyz  | ...  | ...  | 1.5  |\n",
    "| ...  | ...  | ...  |  ... |\n",
    "| idk  | ...  | ...  |  20.5 |"
   ]
  },
  {
   "cell_type": "markdown",
   "metadata": {
    "slideshow": {
     "slide_type": "subslide"
    }
   },
   "source": [
    "## Multiple linear regression model\n",
    "---\n",
    "Linear regression where each datapoint consists multiple features.\n",
    "\n",
    "The ***model***: $\\hat{y_{i}} = w_0+w_1 x^{1}_i+...+w_d x^{d}_i = \\mathbf{w^Tx_{i}}$\n",
    "\n",
    "$\\hat{y_{i}}$: predicted value for data point $\\mathbf x_{i}$\n",
    "\n",
    "$\\mathbf x_i = \\begin{bmatrix} 1 \\\\ x^{1}_i  \\\\ ... \\\\ x^{d}_i \\end{bmatrix}$: feature vector of data point $i$, $x^{j}_{i}$: feature $j$ of training data point $i$ - ***given***\n",
    "\n",
    "$\\mathbf w = \\begin{bmatrix} w_0  \\\\ w_1 \\\\... \\\\ w_{d} \\end{bmatrix}$: weight vector, $w_{j}$: weight/parameter value for feature $x^{j}$ - ***trainable*** "
   ]
  },
  {
   "cell_type": "markdown",
   "metadata": {
    "slideshow": {
     "slide_type": "subslide"
    }
   },
   "source": [
    "### Note: We train 1 bias parameter and $j$ weight parameters, one for each feature."
   ]
  },
  {
   "cell_type": "markdown",
   "metadata": {
    "slideshow": {
     "slide_type": "subslide"
    }
   },
   "source": [
    "## Mathematical optimization problem formulation:\n",
    "---\n",
    "$\\underset{\\mathbf w}{min}\\ MSE = \\underset{\\mathbf w}{min} \\ \\frac{1}{2N} \\sum_{i=1}^{N} ( \\mathbf w^T\\mathbf x_{i} - y_i)^{2} = \\underset{\\mathbf w}{min} \\ \\frac{1}{2N} \\lvert \\lvert \\mathbf{Xw} - \\mathbf{y} \\lvert \\lvert^{2} $, with $\\mathbf{X}\\epsilon\\mathbb{R}^{N,d+1}, \\mathbf{y}\\epsilon\\mathbf{R}^{N,1},\\mathbf{w}\\epsilon\\mathbb{R}^{d+1,1}$.\n",
    "\n",
    "$\\nabla_{\\mathbf w} MSE = \\frac{\\mathbf{X^{T}(\\mathbf X \\mathbf w - \\mathbf y)} \\overset{}{}}{N}= 0$\n",
    "\n",
    "$\\Rightarrow \\mathbf w= (\\mathbf{X}^{T}\\mathbf{X})^{-1}\\mathbf{X}^{T}\\mathbf{y} $"
   ]
  },
  {
   "cell_type": "markdown",
   "metadata": {},
   "source": [
    "# Note: Instead of closed-form solution like above, we can use gradient descent instead"
   ]
  },
  {
   "cell_type": "markdown",
   "metadata": {
    "slideshow": {
     "slide_type": "slide"
    }
   },
   "source": [
    "# Applying this algorithm will be your task in the practical assignment"
   ]
  }
 ],
 "metadata": {
  "celltoolbar": "Slideshow",
  "kernelspec": {
   "display_name": "Python 3",
   "language": "python",
   "name": "python3"
  },
  "language_info": {
   "codemirror_mode": {
    "name": "ipython",
    "version": 3
   },
   "file_extension": ".py",
   "mimetype": "text/x-python",
   "name": "python",
   "nbconvert_exporter": "python",
   "pygments_lexer": "ipython3",
   "version": "3.7.4"
  },
  "toc-showtags": false
 },
 "nbformat": 4,
 "nbformat_minor": 4
}
