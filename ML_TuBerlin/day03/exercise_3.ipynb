{
 "cells": [
  {
   "cell_type": "markdown",
   "metadata": {},
   "source": [
    "# Exercise 3\n",
    "---\n",
    "\n",
    "<img src=\"resources/gradient_descent.gif\"  />"
   ]
  },
  {
   "cell_type": "markdown",
   "metadata": {},
   "source": [
    "# Topic 1: Implementing Gradient descent and plotting resulting regression line and data points\n",
    "Use the data from below for the following assignments:\n",
    "- $X$: feature vector of data points\n",
    "- $Y$:=label vector \n",
    "\n",
    "#### 1. Implement `MSE` loss function, compare your results with sklearns mse function\n",
    "documentation: https://scikit-learn.org/stable/modules/generated/sklearn.metrics.mean_squared_error.html\n",
    "\n",
    "$MSE_{matrix} = \\frac{1}{N} \\lvert \\lvert \\mathbf{X}w_{1} - \\mathbf{y} \\lvert \\lvert^{2} $\n",
    "\n",
    "\n",
    "#### HINT: \n",
    "---\n",
    "$\\lvert \\lvert \\mathbf{X}w_{1} - \\mathbf{y} \\lvert \\lvert^{2} = (\\mathbf{X}w - \\mathbf{y})^{T}(\\mathbf{X}w - \\mathbf{y})$ \n",
    "#### 2. Implement gradient descent algorithm\n",
    "#### Algorithm pseudo-code\n",
    "---\n",
    "```python\n",
    "Initialize w(0)=100\n",
    "for step in range(training steps):\n",
    "    w(t+1) = w(t) - alpha * grad( J( w(t) ) ) \n",
    "    mse = mse(w(t+1))\n",
    "    print(mse)\n",
    "```\n",
    "#### Hints: \n",
    "---\n",
    "- Start with a w value of 100\n",
    "- grad( J( w(t) ) ) = ($\\nabla_{w_{1}} MSE$)\n",
    "\n",
    "$\\nabla_{w_{1}} MSE = \\frac{w_{1}\\mathbf{X^{T}X} - \\mathbf{X^{T}y}}{N}$\n",
    "##### 3. Run gradient descent for 100 training iterations with a learning rate alpha = [1, 0.01, 0.005] and plot the mse-error(y-axis) over the number of training iterations(x-axis) for each alpha"
   ]
  },
  {
   "cell_type": "code",
   "execution_count": 1,
   "metadata": {},
   "outputs": [],
   "source": [
    "import numpy as np\n",
    "import pandas as pd\n",
    "import matplotlib.pyplot as plt"
   ]
  },
  {
   "cell_type": "code",
   "execution_count": 2,
   "metadata": {},
   "outputs": [],
   "source": [
    "# Given data\n",
    "# The X matrix includes 100 datapoints, and 1 feature only. \n",
    "X = 2.5 * np.random.rand(100) + 1.5   \n",
    "res = 0.2 * np.random.randn(100)\n",
    "Y = 0.3 * X + res"
   ]
  },
  {
   "cell_type": "code",
   "execution_count": 3,
   "metadata": {},
   "outputs": [
    {
     "data": {
      "text/plain": [
       "(100,)"
      ]
     },
     "execution_count": 3,
     "metadata": {},
     "output_type": "execute_result"
    }
   ],
   "source": [
    "X.shape"
   ]
  },
  {
   "cell_type": "code",
   "execution_count": 4,
   "metadata": {},
   "outputs": [
    {
     "data": {
      "text/plain": [
       "<matplotlib.collections.PathCollection at 0x1ed31d42088>"
      ]
     },
     "execution_count": 4,
     "metadata": {},
     "output_type": "execute_result"
    },
    {
     "data": {
      "image/png": "[encoded data removed]",
      "text/plain": [
       "<Figure size 432x288 with 1 Axes>"
      ]
     },
     "metadata": {
      "needs_background": "light"
     },
     "output_type": "display_data"
    }
   ],
   "source": [
    "plt.scatter(X,Y)"
   ]
  },
  {
   "cell_type": "code",
   "execution_count": 5,
   "metadata": {},
   "outputs": [],
   "source": [
    "def mse(X, w1, Y_true):\n",
    "    # w가 어떤 상수 일때\n",
    "    return np.dot((X*w1-Y_true).T, (X*w1-Y_true)) / len(X)"
   ]
  },
  {
   "cell_type": "code",
   "execution_count": 11,
   "metadata": {},
   "outputs": [
    {
     "name": "stdout",
     "output_type": "stream",
     "text": [
      "0.34857820292625796 0.11218879006148788\n"
     ]
    }
   ],
   "source": [
    "print(mse(X, 0.5, Y), mse(X, 0.2, Y))"
   ]
  },
  {
   "cell_type": "code",
   "execution_count": 12,
   "metadata": {},
   "outputs": [
    {
     "name": "stdout",
     "output_type": "stream",
     "text": [
      "0.3485782029262579\n",
      "0.1121887900614879\n"
     ]
    }
   ],
   "source": [
    "# sklearn에 있는 내장함수 사용\n",
    "from sklearn.metrics import mean_squared_error\n",
    "print(mean_squared_error(Y, X*0.5))\n",
    "print(mean_squared_error(Y, X*0.2))"
   ]
  },
  {
   "cell_type": "code",
   "execution_count": 13,
   "metadata": {},
   "outputs": [],
   "source": [
    "def gradient_descent(X, Y, training_itrs, alpha):\n",
    "    \n",
    "    w = 100\n",
    "    mse_errors = []\n",
    "    \n",
    "    for i in range(training_itrs):\n",
    "        # gradient\n",
    "        delta_J = (1/len(X)) *(w*np.dot(X.T, X)-np.dot(X.T, Y))\n",
    "        # w의 업데이트\n",
    "        w = w-alpha*delta_J\n",
    "        # mse 오차 계산\n",
    "        mse_errors.append(mse(X, w, Y))\n",
    "    \n",
    "    plt.plot(mse_errors)\n",
    "    \n",
    "    return w"
   ]
  },
  {
   "cell_type": "code",
   "execution_count": 14,
   "metadata": {},
   "outputs": [
    {
     "data": {
      "text/plain": [
       "0.3352338227611109"
      ]
     },
     "execution_count": 14,
     "metadata": {},
     "output_type": "execute_result"
    },
    {
     "data": {
      "image/png": "[encoded data removed]",
      "text/plain": [
       "<Figure size 432x288 with 1 Axes>"
      ]
     },
     "metadata": {
      "needs_background": "light"
     },
     "output_type": "display_data"
    }
   ],
   "source": [
    "# Your code should work when calling the following function\n",
    "alpha=0.01 # learning rate\n",
    "gradient_descent(X, Y, 100, alpha)"
   ]
  },
  {
   "cell_type": "markdown",
   "metadata": {},
   "source": [
    "# Topic 2: Multiple Linear Regression on Real estate data\n",
    "\n",
    "### Please work on the following assignments:\n",
    "---\n",
    "##### 1. Split data into training and test set\n",
    "- shuffle the data\n",
    "- 80 % training set, 20 % test set\n",
    "- use numpy\n",
    "- at the end you should have: x_train, y_train, x_test, y_test\n",
    "\n",
    "##### 2. Separate labels(house price) from rest of the data\n",
    "##### 3. Fill in missing values and drop categorical ones\n",
    "##### 4. Train model using the following regression method from sklearn:\n",
    "\n",
    "- Linear Regression\n",
    "\n",
    "Documentation: https://scikit-learn.org/stable/modules/generated/sklearn.linear_model.LinearRegression.html\n",
    "\n",
    "##### 5. Compute MSE and residual error on test set\n",
    "### ***Optional*** Assignment: \n",
    "##### 6. Compute the average house price\n",
    "##### 7. Compute the max. house prize\n",
    "##### 8. Compute the min. house prize\n",
    "##### 9. Compute histogram of house prices\n",
    "##### 10. Compute percentage of house prices higher than 1 mio. and plot histogram of those above 1 mio.\n",
    "##### 11. Which object offers the most rooms ? Whats the prize ?\n",
    "##### 12. How much do you, on average, pay for a room ? \n",
    "\n",
    "### Just FYI:\n",
    "---\n",
    "MSE formula for multidimensional linear regression:\n",
    "\n",
    "\n",
    "Loss = $\\frac{1}{2N} \\lvert\\lvert \\mathbf{X}\\mathbf{w}-\\mathbf{y} \\lvert\\lvert^{2}$\n",
    "\n",
    "$\\mathbf{X}\\epsilon\\mathbb{R^{Nxd}}$,\n",
    "$\\mathbf{w}\\epsilon\\mathbb{R^{dx1}}$,\n",
    "$\\mathbf{y}\\epsilon\\mathbb{R^{Nx1}}$"
   ]
  },
  {
   "cell_type": "code",
   "execution_count": 16,
   "metadata": {},
   "outputs": [
    {
     "data": {
      "text/html": [
       "<div>\n",
       "<style scoped>\n",
       "    .dataframe tbody tr th:only-of-type {\n",
       "        vertical-align: middle;\n",
       "    }\n",
       "\n",
       "    .dataframe tbody tr th {\n",
       "        vertical-align: top;\n",
       "    }\n",
       "\n",
       "    .dataframe thead th {\n",
       "        text-align: right;\n",
       "    }\n",
       "</style>\n",
       "<table border=\"1\" class=\"dataframe\">\n",
       "  <thead>\n",
       "    <tr style=\"text-align: right;\">\n",
       "      <th></th>\n",
       "      <th>Avg. Area Income</th>\n",
       "      <th>Avg. Area House Age</th>\n",
       "      <th>Avg. Area Number of Rooms</th>\n",
       "      <th>Avg. Area Number of Bedrooms</th>\n",
       "      <th>Area Population</th>\n",
       "      <th>Price</th>\n",
       "      <th>Address</th>\n",
       "    </tr>\n",
       "  </thead>\n",
       "  <tbody>\n",
       "    <tr>\n",
       "      <th>0</th>\n",
       "      <td>79545.458574</td>\n",
       "      <td>5.682861</td>\n",
       "      <td>7.009188</td>\n",
       "      <td>4.09</td>\n",
       "      <td>23086.800503</td>\n",
       "      <td>1.059034e+06</td>\n",
       "      <td>208 Michael Ferry Apt. 674\\nLaurabury, NE 3701...</td>\n",
       "    </tr>\n",
       "    <tr>\n",
       "      <th>1</th>\n",
       "      <td>79248.642455</td>\n",
       "      <td>6.002900</td>\n",
       "      <td>6.730821</td>\n",
       "      <td>3.09</td>\n",
       "      <td>40173.072174</td>\n",
       "      <td>1.505891e+06</td>\n",
       "      <td>188 Johnson Views Suite 079\\nLake Kathleen, CA...</td>\n",
       "    </tr>\n",
       "    <tr>\n",
       "      <th>2</th>\n",
       "      <td>61287.067179</td>\n",
       "      <td>5.865890</td>\n",
       "      <td>8.512727</td>\n",
       "      <td>5.13</td>\n",
       "      <td>36882.159400</td>\n",
       "      <td>1.058988e+06</td>\n",
       "      <td>9127 Elizabeth Stravenue\\nDanieltown, WI 06482...</td>\n",
       "    </tr>\n",
       "  </tbody>\n",
       "</table>\n",
       "</div>"
      ],
      "text/plain": [
       "   Avg. Area Income  Avg. Area House Age  Avg. Area Number of Rooms  \\\n",
       "0      79545.458574             5.682861                   7.009188   \n",
       "1      79248.642455             6.002900                   6.730821   \n",
       "2      61287.067179             5.865890                   8.512727   \n",
       "\n",
       "   Avg. Area Number of Bedrooms  Area Population         Price  \\\n",
       "0                          4.09     23086.800503  1.059034e+06   \n",
       "1                          3.09     40173.072174  1.505891e+06   \n",
       "2                          5.13     36882.159400  1.058988e+06   \n",
       "\n",
       "                                             Address  \n",
       "0  208 Michael Ferry Apt. 674\\nLaurabury, NE 3701...  \n",
       "1  188 Johnson Views Suite 079\\nLake Kathleen, CA...  \n",
       "2  9127 Elizabeth Stravenue\\nDanieltown, WI 06482...  "
      ]
     },
     "execution_count": 16,
     "metadata": {},
     "output_type": "execute_result"
    }
   ],
   "source": [
    "data = pd.read_csv('data/USA_Housing.csv')\n",
    "data.head(3)"
   ]
  },
  {
   "cell_type": "code",
   "execution_count": 32,
   "metadata": {},
   "outputs": [
    {
     "name": "stdout",
     "output_type": "stream",
     "text": [
      "<class 'pandas.core.frame.DataFrame'>\n",
      "RangeIndex: 5000 entries, 0 to 4999\n",
      "Data columns (total 7 columns):\n",
      " #   Column                        Non-Null Count  Dtype  \n",
      "---  ------                        --------------  -----  \n",
      " 0   Avg. Area Income              5000 non-null   float64\n",
      " 1   Avg. Area House Age           5000 non-null   float64\n",
      " 2   Avg. Area Number of Rooms     5000 non-null   float64\n",
      " 3   Avg. Area Number of Bedrooms  5000 non-null   float64\n",
      " 4   Area Population               5000 non-null   float64\n",
      " 5   Price                         5000 non-null   float64\n",
      " 6   Address                       5000 non-null   object \n",
      "dtypes: float64(6), object(1)\n",
      "memory usage: 273.6+ KB\n"
     ]
    }
   ],
   "source": [
    "data.info()"
   ]
  },
  {
   "cell_type": "code",
   "execution_count": 18,
   "metadata": {},
   "outputs": [],
   "source": [
    "from sklearn.model_selection import train_test_split\n",
    "from sklearn.linear_model import LinearRegression, Ridge, ElasticNet\n",
    "from sklearn.metrics import mean_squared_error"
   ]
  },
  {
   "cell_type": "markdown",
   "metadata": {},
   "source": [
    "- solution 1~3 : 데이터 준비하기"
   ]
  },
  {
   "cell_type": "code",
   "execution_count": 19,
   "metadata": {},
   "outputs": [],
   "source": [
    "# pandas를 이용해서 데이터 나누기\n",
    "x_train, y_train, x_test, y_test = train_test_split(data.iloc[:, :5],\n",
    "                                                   data.iloc[:, 5],\n",
    "                                                   test_size=0.2,\n",
    "                                                   shuffle=True)"
   ]
  },
  {
   "cell_type": "code",
   "execution_count": 22,
   "metadata": {},
   "outputs": [],
   "source": [
    "# numpy를 이용해서 데이터 나누기\n",
    "indices = np.random.permutation(data.shape[0])\n",
    "train_indices = indices[:int(len(data)*0.8)]\n",
    "test_indices = indices[int(len(data)*0.8):]\n",
    "\n",
    "x_train, y_train, x_test, y_test = data.iloc[train_indices, :5],\\\n",
    "                                    data.iloc[train_indices,5],\\\n",
    "                                    data.iloc[test_indices, :5],\\\n",
    "                                    data.iloc[test_indices, 5]"
   ]
  },
  {
   "cell_type": "markdown",
   "metadata": {},
   "source": [
    "[np.random.permutation이 뭘까?](https://medium.com/@shistory02/numpy-permutation-vs-shuffle-34fe56f0c246)"
   ]
  },
  {
   "cell_type": "code",
   "execution_count": 23,
   "metadata": {},
   "outputs": [
    {
     "data": {
      "text/plain": [
       "array([27, 17, 50, 11, 21, 79,  7, 67, 91, 18])"
      ]
     },
     "execution_count": 23,
     "metadata": {},
     "output_type": "execute_result"
    }
   ],
   "source": [
    "np.random.permutation(100)[:10]"
   ]
  },
  {
   "cell_type": "code",
   "execution_count": 28,
   "metadata": {},
   "outputs": [
    {
     "data": {
      "text/html": [
       "<div>\n",
       "<style scoped>\n",
       "    .dataframe tbody tr th:only-of-type {\n",
       "        vertical-align: middle;\n",
       "    }\n",
       "\n",
       "    .dataframe tbody tr th {\n",
       "        vertical-align: top;\n",
       "    }\n",
       "\n",
       "    .dataframe thead th {\n",
       "        text-align: right;\n",
       "    }\n",
       "</style>\n",
       "<table border=\"1\" class=\"dataframe\">\n",
       "  <thead>\n",
       "    <tr style=\"text-align: right;\">\n",
       "      <th></th>\n",
       "      <th>Avg. Area Income</th>\n",
       "      <th>Avg. Area House Age</th>\n",
       "      <th>Avg. Area Number of Rooms</th>\n",
       "      <th>Avg. Area Number of Bedrooms</th>\n",
       "      <th>Area Population</th>\n",
       "    </tr>\n",
       "  </thead>\n",
       "  <tbody>\n",
       "    <tr>\n",
       "      <th>711</th>\n",
       "      <td>71093.691960</td>\n",
       "      <td>5.874953</td>\n",
       "      <td>5.871746</td>\n",
       "      <td>3.26</td>\n",
       "      <td>37143.398730</td>\n",
       "    </tr>\n",
       "    <tr>\n",
       "      <th>2633</th>\n",
       "      <td>71105.291559</td>\n",
       "      <td>5.959945</td>\n",
       "      <td>7.778721</td>\n",
       "      <td>4.49</td>\n",
       "      <td>48457.021357</td>\n",
       "    </tr>\n",
       "    <tr>\n",
       "      <th>3227</th>\n",
       "      <td>77742.189153</td>\n",
       "      <td>5.076625</td>\n",
       "      <td>7.377512</td>\n",
       "      <td>4.41</td>\n",
       "      <td>22231.830323</td>\n",
       "    </tr>\n",
       "  </tbody>\n",
       "</table>\n",
       "</div>"
      ],
      "text/plain": [
       "      Avg. Area Income  Avg. Area House Age  Avg. Area Number of Rooms  \\\n",
       "711       71093.691960             5.874953                   5.871746   \n",
       "2633      71105.291559             5.959945                   7.778721   \n",
       "3227      77742.189153             5.076625                   7.377512   \n",
       "\n",
       "      Avg. Area Number of Bedrooms  Area Population  \n",
       "711                           3.26     37143.398730  \n",
       "2633                          4.49     48457.021357  \n",
       "3227                          4.41     22231.830323  "
      ]
     },
     "execution_count": 28,
     "metadata": {},
     "output_type": "execute_result"
    }
   ],
   "source": [
    "x_train.head(3)"
   ]
  },
  {
   "cell_type": "code",
   "execution_count": 29,
   "metadata": {},
   "outputs": [
    {
     "data": {
      "text/plain": [
       "711     1.096846e+06\n",
       "2633    1.640186e+06\n",
       "3227    1.105024e+06\n",
       "Name: Price, dtype: float64"
      ]
     },
     "execution_count": 29,
     "metadata": {},
     "output_type": "execute_result"
    }
   ],
   "source": [
    "y_train.head(3)"
   ]
  },
  {
   "cell_type": "markdown",
   "metadata": {},
   "source": [
    "- solution 4~5 : 선형 회귀 모델 불러와서 학습시키고 오차 구하기"
   ]
  },
  {
   "cell_type": "code",
   "execution_count": 26,
   "metadata": {},
   "outputs": [
    {
     "name": "stdout",
     "output_type": "stream",
     "text": [
      "Train residuals : -7.591443136334419e-07\n",
      "Test residuals : -2078620.6949957195\n",
      "----------------------------------------\n",
      "Train MSE : 10136304326.380114\n",
      "Test MSE : 10567441820.804823\n"
     ]
    }
   ],
   "source": [
    "model = LinearRegression()\n",
    "model = model.fit(x_train, y_train)\n",
    "train_predictions = model.predict(x_train)\n",
    "test_predictions = model.predict(x_test)\n",
    "\n",
    "print(f\"Train residuals : {np.sum(y_train-train_predictions)}\")\n",
    "print(f\"Test residuals : {np.sum(y_test-test_predictions)}\")\n",
    "print(\"-\"*40)\n",
    "print(f\"Train MSE : {mean_squared_error(y_train, train_predictions)}\")\n",
    "print(f\"Test MSE : {mean_squared_error(y_test, test_predictions)}\")"
   ]
  },
  {
   "cell_type": "markdown",
   "metadata": {},
   "source": [
    "피쳐 중에 하나인 `Avg. Area Income`와 `price(prediction)`간의 관계 살펴보기"
   ]
  },
  {
   "cell_type": "code",
   "execution_count": 31,
   "metadata": {},
   "outputs": [
    {
     "name": "stdout",
     "output_type": "stream",
     "text": [
      "Avg. Area Income\n"
     ]
    },
    {
     "data": {
      "text/plain": [
       "<matplotlib.collections.PathCollection at 0x1ed422d63c8>"
      ]
     },
     "execution_count": 31,
     "metadata": {},
     "output_type": "execute_result"
    },
    {
     "data": {
      "image/png": "[encoded data removed]",
      "text/plain": [
       "<Figure size 432x288 with 1 Axes>"
      ]
     },
     "metadata": {
      "needs_background": "light"
     },
     "output_type": "display_data"
    }
   ],
   "source": [
    "print(x_test.columns[0])\n",
    "plt.scatter(x_test.iloc[:,0], test_predictions)"
   ]
  },
  {
   "cell_type": "markdown",
   "metadata": {},
   "source": [
    "- solution 6~8 : 라벨인 price의 최대/최소/평균 알아보기"
   ]
  },
  {
   "cell_type": "code",
   "execution_count": 33,
   "metadata": {},
   "outputs": [
    {
     "name": "stdout",
     "output_type": "stream",
     "text": [
      "2469065.5941747027\n",
      "15938.657923287848\n",
      "1232072.654142357\n"
     ]
    }
   ],
   "source": [
    "max_prize = data['Price'].max()\n",
    "min_prize = data['Price'].min()\n",
    "avg_prize = data['Price'].mean()\n",
    "\n",
    "print(max_prize)\n",
    "print(min_prize)\n",
    "print(avg_prize)"
   ]
  },
  {
   "cell_type": "markdown",
   "metadata": {},
   "source": [
    "- solution 9 : 라벨인 price에 따른 집 갯수 알아보기(히스토그램)"
   ]
  },
  {
   "cell_type": "code",
   "execution_count": 34,
   "metadata": {},
   "outputs": [
    {
     "data": {
      "image/png": "[encoded data removed]",
      "text/plain": [
       "<Figure size 432x288 with 1 Axes>"
      ]
     },
     "metadata": {
      "needs_background": "light"
     },
     "output_type": "display_data"
    }
   ],
   "source": [
    "plt.hist(data['Price'])\n",
    "plt.xlabel('House prices')\n",
    "plt.ylabel('# houses')\n",
    "plt.show()"
   ]
  },
  {
   "cell_type": "markdown",
   "metadata": {},
   "source": [
    "- solution 10 : 집값이 1million 보다 큰 특징 집들 조사하기"
   ]
  },
  {
   "cell_type": "code",
   "execution_count": 36,
   "metadata": {},
   "outputs": [
    {
     "name": "stdout",
     "output_type": "stream",
     "text": [
      "Percentage of houses that cost more than 1mio.: 74.74%\n"
     ]
    },
    {
     "data": {
      "image/png": "[encoded data removed]",
      "text/plain": [
       "<Figure size 504x216 with 1 Axes>"
      ]
     },
     "metadata": {
      "needs_background": "light"
     },
     "output_type": "display_data"
    }
   ],
   "source": [
    "above_1mio = data[data['Price'] > 1000000]['Price']\n",
    "\n",
    "per_above_1mio = len(above_1mio) / data.shape[0]\n",
    "\n",
    "print(f'Percentage of houses that cost more than 1mio.: {100*per_above_1mio}%')\n",
    "\n",
    "plt.figure(figsize=(7,3))\n",
    "plt.hist(above_1mio)\n",
    "plt.xlabel('Price')\n",
    "plt.ylabel('# houses')\n",
    "plt.show()"
   ]
  },
  {
   "cell_type": "markdown",
   "metadata": {},
   "source": [
    "- solution 11 : Which object offers the most rooms ? Whats the prize ? 방 갯수의 평균이 가장 많은 데이터를 iloc으로 불러서 다른 피쳐들 살펴보기\n",
    "    - np.argmax() 이용"
   ]
  },
  {
   "cell_type": "code",
   "execution_count": 39,
   "metadata": {},
   "outputs": [
    {
     "data": {
      "text/plain": [
       "Avg. Area Income                                                    69505.1\n",
       "Avg. Area House Age                                                 7.35235\n",
       "Avg. Area Number of Rooms                                           10.7596\n",
       "Avg. Area Number of Bedrooms                                           5.14\n",
       "Area Population                                                     48112.2\n",
       "Price                                                           2.23529e+06\n",
       "Address                         0665 Dawn Overpass\\nEast Sarabury, CA 82390\n",
       "Name: 1536, dtype: object"
      ]
     },
     "execution_count": 39,
     "metadata": {},
     "output_type": "execute_result"
    }
   ],
   "source": [
    "data.iloc[np.argmax(data['Avg. Area Number of Rooms'])]"
   ]
  },
  {
   "cell_type": "markdown",
   "metadata": {},
   "source": [
    "- solution 12 : \"평균방의 수당 집값\" 평균 구하기"
   ]
  },
  {
   "cell_type": "code",
   "execution_count": 40,
   "metadata": {},
   "outputs": [
    {
     "data": {
      "text/plain": [
       "177646.06835283132"
      ]
     },
     "execution_count": 40,
     "metadata": {},
     "output_type": "execute_result"
    }
   ],
   "source": [
    "np.sum(data['Price'] / data['Avg. Area Number of Rooms']) / data.shape[0]"
   ]
  },
  {
   "cell_type": "markdown",
   "metadata": {},
   "source": [
    "### (Optional) Topic 3: Implement a Multiple Linear Regression by hand:\n",
    "\n",
    "Write a class that has the following methods:\n",
    "\n",
    "- `fit(X,Y)`: Should fit the model weights using feature matrix X and label vector y. Use closed form solution to find perfect w-vector.\n",
    "    - [np.linalg.inv : 역행렬 구하기](https://rfriend.tistory.com/380)\n",
    "- `predict(X)`: Should make predictions label predictions for X.\n",
    "- `score(X,Y)`: Should make label predictions on X, and compute mse using the label information Y and the predictions.\n",
    "- train and evaluate your model on the \"USA_housing.csv\" dataset"
   ]
  },
  {
   "cell_type": "code",
   "execution_count": 46,
   "metadata": {},
   "outputs": [],
   "source": [
    "class LinearRegression():\n",
    "    \n",
    "    def __init__(self):\n",
    "        self.w = None\n",
    "        \n",
    "    def fit(self,X,y):\n",
    "        # Compute closed form solution\n",
    "        # lecture노트의 \"Mathematical optimization problem formulation\" 파트 참고\n",
    "        w_opt = np.dot( np.linalg.inv(np.dot(X.T,X)) , np.dot(X.T,y) )\n",
    "        self.w = w_opt\n",
    "    \n",
    "    def predict(self,X):\n",
    "        predictions = np.dot(X,self.w)\n",
    "        return predictions\n",
    "    \n",
    "    def mse_score(self,X,y):\n",
    "        predictions = self.predict(X)\n",
    "        # mse 오차 구하기(sklearn 내장 모듈 이용)\n",
    "        return mean_squared_error(y, predictions)"
   ]
  },
  {
   "cell_type": "code",
   "execution_count": 47,
   "metadata": {},
   "outputs": [],
   "source": [
    "# bias term인 b는 그냥 상수로 하나 컬럼 추가하면 됨\n",
    "x_train_with_bias = np.hstack([np.ones((x_train.shape[0], 1)), x_train])"
   ]
  },
  {
   "cell_type": "code",
   "execution_count": 48,
   "metadata": {},
   "outputs": [],
   "source": [
    "test_model = LinearRegression() # 직접 만든 LR"
   ]
  },
  {
   "cell_type": "code",
   "execution_count": 49,
   "metadata": {},
   "outputs": [],
   "source": [
    "test_model.fit(x_train_with_bias, y_train)"
   ]
  },
  {
   "cell_type": "code",
   "execution_count": 50,
   "metadata": {},
   "outputs": [
    {
     "data": {
      "text/plain": [
       "10136304326.380114"
      ]
     },
     "execution_count": 50,
     "metadata": {},
     "output_type": "execute_result"
    }
   ],
   "source": [
    "test_model.mse_score(x_train_with_bias, y_train)"
   ]
  },
  {
   "cell_type": "code",
   "execution_count": 51,
   "metadata": {},
   "outputs": [],
   "source": [
    "# Train MSE : 10136304326.380114\n",
    "# Test MSE : 10567441820.804823\n",
    "# 위에서 sklearn에서 LR 불러와서 구했던 MSE"
   ]
  },
  {
   "cell_type": "code",
   "execution_count": 52,
   "metadata": {},
   "outputs": [
    {
     "data": {
      "text/plain": [
       "10567441820.804996"
      ]
     },
     "execution_count": 52,
     "metadata": {},
     "output_type": "execute_result"
    }
   ],
   "source": [
    "x_test_with_bias = np.hstack([np.ones((x_test.shape[0], 1)), x_test])\n",
    "test_model.mse_score(x_test_with_bias, y_test)"
   ]
  }
 ],
 "metadata": {
  "kernelspec": {
   "display_name": "Python 3",
   "language": "python",
   "name": "python3"
  },
  "language_info": {
   "codemirror_mode": {
    "name": "ipython",
    "version": 3
   },
   "file_extension": ".py",
   "mimetype": "text/x-python",
   "name": "python",
   "nbconvert_exporter": "python",
   "pygments_lexer": "ipython3",
   "version": "3.7.4"
  }
 },
 "nbformat": 4,
 "nbformat_minor": 4
}
