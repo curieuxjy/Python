{
 "cells": [
  {
   "cell_type": "markdown",
   "metadata": {},
   "source": [
    "# Solutions exercise 3\n",
    "\n",
    "<img src=\"resources/gradient_descent.gif\"  />"
   ]
  },
  {
   "cell_type": "markdown",
   "metadata": {},
   "source": [
    "# Topic 1: Implementing Gradient descent and plotting resulting regression line and data points\n",
    "Use the data $X$: feature vector of data points and $Y$:=label vector from below for the following assignments:\n",
    "\n",
    "#### 1. Implement mse loss function, compare your results with sklearns mse function\n",
    "documentation: https://scikit-learn.org/stable/modules/generated/sklearn.metrics.mean_squared_error.html\n",
    "\n",
    "$MSE_{matrix} = \\frac{1}{N} \\lvert \\lvert \\mathbf{X}w_{1} - \\mathbf{y} \\lvert \\lvert^{2} $\n",
    "\n",
    "\n",
    "#### HINT: \n",
    "---\n",
    "$\\lvert \\lvert \\mathbf{X}w_{1} - \\mathbf{y} \\lvert \\lvert^{2} = (\\mathbf{X}w - \\mathbf{y})^{T}(\\mathbf{X}w - \\mathbf{y})$ \n",
    "#### 2. Implement gradient descent algorithm\n",
    "#### Algorithm pseudo-code\n",
    "---\n",
    "```python\n",
    "Initialize w(0)=100\n",
    "for step in range(training steps):\n",
    "    w(t+1) = w(t) - alpha * grad( J( w(t) ) ) \n",
    "    mse = mse(w(t+1))\n",
    "    print(mse)\n",
    "```\n",
    "#### Hints: \n",
    "---\n",
    "- Start with a w value of 100\n",
    "- grad( J( w(t) ) ) = ($\\nabla_{w_{1}} MSE$)\n",
    "\n",
    "$\\nabla_{w_{1}} MSE = \\frac{w_{1}\\mathbf{X^{T}X} - \\mathbf{X^{T}y}}{N}$\n",
    "##### 3. Run gradient descent for 100 training iterations with a learning rate alpha = [1, 0.01, 0.005] and plot the mse-error(y-axis) over the number of training iterations(x-axis) for each alpha"
   ]
  },
  {
   "cell_type": "code",
   "execution_count": 1,
   "metadata": {},
   "outputs": [],
   "source": [
    "import numpy as np\n",
    "\n",
    "import pandas as pd\n",
    "import matplotlib.pyplot as plt"
   ]
  },
  {
   "cell_type": "code",
   "execution_count": 2,
   "metadata": {},
   "outputs": [],
   "source": [
    "# Given data\n",
    "np.random.seed(seed=42)\n",
    "\n",
    "X = 2.5 * np.random.rand(100) + 1.5   \n",
    "res = 0.2 * np.random.randn(100)\n",
    "Y = 0.3 * X + res"
   ]
  },
  {
   "cell_type": "code",
   "execution_count": 3,
   "metadata": {},
   "outputs": [
    {
     "data": {
      "text/plain": [
       "<matplotlib.collections.PathCollection at 0x213682c3220>"
      ]
     },
     "execution_count": 3,
     "metadata": {},
     "output_type": "execute_result"
    },
    {
     "data": {
      "image/png": "[encoded data removed]",
      "text/plain": [
       "<Figure size 432x288 with 1 Axes>"
      ]
     },
     "metadata": {
      "needs_background": "light"
     },
     "output_type": "display_data"
    }
   ],
   "source": [
    "plt.scatter(X,Y)"
   ]
  },
  {
   "cell_type": "code",
   "execution_count": 3,
   "metadata": {},
   "outputs": [],
   "source": [
    "def mse(X, w1, Y_true):\n",
    "    return np.dot((X*w1 - Y_true).T, (X*w1 - Y_true)) / len(X)"
   ]
  },
  {
   "cell_type": "code",
   "execution_count": 4,
   "metadata": {},
   "outputs": [
    {
     "data": {
      "text/plain": [
       "0.34951755241923843"
      ]
     },
     "execution_count": 4,
     "metadata": {},
     "output_type": "execute_result"
    }
   ],
   "source": [
    "mse(X,0.5,Y)"
   ]
  },
  {
   "cell_type": "code",
   "execution_count": 5,
   "metadata": {},
   "outputs": [],
   "source": [
    "from sklearn.metrics import mean_squared_error"
   ]
  },
  {
   "cell_type": "code",
   "execution_count": 6,
   "metadata": {},
   "outputs": [
    {
     "data": {
      "text/plain": [
       "0.34951755241923843"
      ]
     },
     "execution_count": 6,
     "metadata": {},
     "output_type": "execute_result"
    }
   ],
   "source": [
    "mean_squared_error(Y, X*0.5)"
   ]
  },
  {
   "cell_type": "code",
   "execution_count": 7,
   "metadata": {},
   "outputs": [],
   "source": [
    "def gradient_descent(X, Y, training_itrs, alpha):\n",
    "    \n",
    "    w = 100\n",
    "    mse_errors = []\n",
    "    \n",
    "    for i in range(training_itrs):\n",
    "        \n",
    "        delta_J = (1/(len(X)) * (w * np.dot(X.T, X) - np.dot(X.T, Y)))\n",
    "        w = w - alpha * delta_J\n",
    "        mse_errors.append(mse(X, w, Y))\n",
    "        \n",
    "    plt.plot(mse_errors)\n",
    "    \n",
    "    return w"
   ]
  },
  {
   "cell_type": "code",
   "execution_count": 8,
   "metadata": {},
   "outputs": [
    {
     "data": {
      "text/plain": [
       "0.3301376414970657"
      ]
     },
     "execution_count": 8,
     "metadata": {},
     "output_type": "execute_result"
    },
    {
     "data": {
      "image/png": "[encoded data removed]",
      "text/plain": [
       "<Figure size 432x288 with 1 Axes>"
      ]
     },
     "metadata": {
      "needs_background": "light"
     },
     "output_type": "display_data"
    }
   ],
   "source": [
    "gradient_descent(X, Y, 100, 0.01)"
   ]
  },
  {
   "cell_type": "markdown",
   "metadata": {},
   "source": [
    "# Topic 2: Multiple Linear Regression on Real estate data\n",
    "\n",
    "### Please work on the following assignments:\n",
    "---\n",
    "##### 1. Split data into training and test set\n",
    "- shuffle the data\n",
    "- 80 % training set, 20 % test set\n",
    "- use numpy\n",
    "- at the end you should have: x_train, y_train, x_test, y_test\n",
    "\n",
    "##### 2. Separate labels(house price) from rest of the data\n",
    "##### 3. Fill in missing values and drop categorical ones\n",
    "##### 4. Train model using the following regression method from sklearn:\n",
    "\n",
    "- Linear Regression\n",
    "\n",
    "Documentation: https://scikit-learn.org/stable/modules/generated/sklearn.linear_model.LinearRegression.html\n",
    "\n",
    "##### 5. Compute MSE and residual error on test set\n",
    "### ***Optional*** Assignments: \n",
    "##### 6. Compute the average house price\n",
    "##### 7. Compute the max. house prize\n",
    "##### 8. Compute the min. house prize\n",
    "##### 9. Compute histogram of house prices\n",
    "##### 10. Compute percentage of house prices higher than 1 mio. and plot histogram of those above 1 mio.\n",
    "##### 11. Which object offers the most rooms ? Whats the prize ?\n",
    "##### 12. How much do you, on average, pay for a room ? \n",
    "\n",
    "### Just FYI:\n",
    "---\n",
    "MSE formula for multidimensional linear regression:\n",
    "\n",
    "\n",
    "Loss = $\\frac{1}{2N} \\lvert\\lvert \\mathbf{X}\\mathbf{w}-\\mathbf{y} \\lvert\\lvert^{2}$\n",
    "\n",
    "$\\mathbf{X}\\epsilon\\mathbb{R^{Nxd}}$,\n",
    "$\\mathbf{w}\\epsilon\\mathbb{R^{dx1}}$,\n",
    "$\\mathbf{y}\\epsilon\\mathbb{R^{Nx1}}$"
   ]
  },
  {
   "cell_type": "code",
   "execution_count": 25,
   "metadata": {},
   "outputs": [
    {
     "data": {
      "text/html": [
       "<div>\n",
       "<style scoped>\n",
       "    .dataframe tbody tr th:only-of-type {\n",
       "        vertical-align: middle;\n",
       "    }\n",
       "\n",
       "    .dataframe tbody tr th {\n",
       "        vertical-align: top;\n",
       "    }\n",
       "\n",
       "    .dataframe thead th {\n",
       "        text-align: right;\n",
       "    }\n",
       "</style>\n",
       "<table border=\"1\" class=\"dataframe\">\n",
       "  <thead>\n",
       "    <tr style=\"text-align: right;\">\n",
       "      <th></th>\n",
       "      <th>Avg. Area Income</th>\n",
       "      <th>Avg. Area House Age</th>\n",
       "      <th>Avg. Area Number of Rooms</th>\n",
       "      <th>Avg. Area Number of Bedrooms</th>\n",
       "      <th>Area Population</th>\n",
       "      <th>Price</th>\n",
       "      <th>Address</th>\n",
       "    </tr>\n",
       "  </thead>\n",
       "  <tbody>\n",
       "    <tr>\n",
       "      <th>0</th>\n",
       "      <td>79545.458574</td>\n",
       "      <td>5.682861</td>\n",
       "      <td>7.009188</td>\n",
       "      <td>4.09</td>\n",
       "      <td>23086.800503</td>\n",
       "      <td>1.059034e+06</td>\n",
       "      <td>208 Michael Ferry Apt. 674\\nLaurabury, NE 3701...</td>\n",
       "    </tr>\n",
       "    <tr>\n",
       "      <th>1</th>\n",
       "      <td>79248.642455</td>\n",
       "      <td>6.002900</td>\n",
       "      <td>6.730821</td>\n",
       "      <td>3.09</td>\n",
       "      <td>40173.072174</td>\n",
       "      <td>1.505891e+06</td>\n",
       "      <td>188 Johnson Views Suite 079\\nLake Kathleen, CA...</td>\n",
       "    </tr>\n",
       "    <tr>\n",
       "      <th>2</th>\n",
       "      <td>61287.067179</td>\n",
       "      <td>5.865890</td>\n",
       "      <td>8.512727</td>\n",
       "      <td>5.13</td>\n",
       "      <td>36882.159400</td>\n",
       "      <td>1.058988e+06</td>\n",
       "      <td>9127 Elizabeth Stravenue\\nDanieltown, WI 06482...</td>\n",
       "    </tr>\n",
       "    <tr>\n",
       "      <th>3</th>\n",
       "      <td>63345.240046</td>\n",
       "      <td>7.188236</td>\n",
       "      <td>5.586729</td>\n",
       "      <td>3.26</td>\n",
       "      <td>34310.242831</td>\n",
       "      <td>1.260617e+06</td>\n",
       "      <td>USS Barnett\\nFPO AP 44820</td>\n",
       "    </tr>\n",
       "    <tr>\n",
       "      <th>4</th>\n",
       "      <td>59982.197226</td>\n",
       "      <td>5.040555</td>\n",
       "      <td>7.839388</td>\n",
       "      <td>4.23</td>\n",
       "      <td>26354.109472</td>\n",
       "      <td>6.309435e+05</td>\n",
       "      <td>USNS Raymond\\nFPO AE 09386</td>\n",
       "    </tr>\n",
       "  </tbody>\n",
       "</table>\n",
       "</div>"
      ],
      "text/plain": [
       "   Avg. Area Income  Avg. Area House Age  Avg. Area Number of Rooms  \\\n",
       "0      79545.458574             5.682861                   7.009188   \n",
       "1      79248.642455             6.002900                   6.730821   \n",
       "2      61287.067179             5.865890                   8.512727   \n",
       "3      63345.240046             7.188236                   5.586729   \n",
       "4      59982.197226             5.040555                   7.839388   \n",
       "\n",
       "   Avg. Area Number of Bedrooms  Area Population         Price  \\\n",
       "0                          4.09     23086.800503  1.059034e+06   \n",
       "1                          3.09     40173.072174  1.505891e+06   \n",
       "2                          5.13     36882.159400  1.058988e+06   \n",
       "3                          3.26     34310.242831  1.260617e+06   \n",
       "4                          4.23     26354.109472  6.309435e+05   \n",
       "\n",
       "                                             Address  \n",
       "0  208 Michael Ferry Apt. 674\\nLaurabury, NE 3701...  \n",
       "1  188 Johnson Views Suite 079\\nLake Kathleen, CA...  \n",
       "2  9127 Elizabeth Stravenue\\nDanieltown, WI 06482...  \n",
       "3                          USS Barnett\\nFPO AP 44820  \n",
       "4                         USNS Raymond\\nFPO AE 09386  "
      ]
     },
     "execution_count": 25,
     "metadata": {},
     "output_type": "execute_result"
    }
   ],
   "source": [
    "data = pd.read_csv('data/USA_Housing.csv')\n",
    "data.head()"
   ]
  },
  {
   "cell_type": "code",
   "execution_count": 10,
   "metadata": {},
   "outputs": [],
   "source": [
    "from sklearn.model_selection import train_test_split\n",
    "from sklearn.linear_model import LinearRegression\n",
    "from sklearn.linear_model import Ridge\n",
    "from sklearn.linear_model import ElasticNet\n",
    "from sklearn.metrics import mean_squared_error"
   ]
  },
  {
   "cell_type": "markdown",
   "metadata": {},
   "source": [
    "### Solution 1-3"
   ]
  },
  {
   "cell_type": "code",
   "execution_count": 26,
   "metadata": {},
   "outputs": [],
   "source": [
    "# using pandas\n",
    "x_train, y_train, x_test, y_test = train_test_split(data.iloc[:,:5], data.iloc[:,5], test_size=0.2, shuffle=True)"
   ]
  },
  {
   "cell_type": "code",
   "execution_count": 27,
   "metadata": {},
   "outputs": [],
   "source": [
    "# numpy\n",
    "indices = np.random.permutation(data.shape[0])\n",
    "train_indices = indices[:int(len(data)*0.8)] \n",
    "test_indices = indices[int(len(data)*0.8):]\n",
    "\n",
    "x_train, y_train, x_test, y_test = data.iloc[train_indices,:5], data.iloc[train_indices,5], data.iloc[test_indices,:5], data.iloc[test_indices,5]"
   ]
  },
  {
   "cell_type": "markdown",
   "metadata": {},
   "source": [
    "### Solution 4"
   ]
  },
  {
   "cell_type": "code",
   "execution_count": 13,
   "metadata": {},
   "outputs": [
    {
     "name": "stdout",
     "output_type": "stream",
     "text": [
      "Train residuals: -4.4051557779312134e-07\n",
      "Test residuals: -1107476.729759893\n",
      "Train MSE: 10342070149.107592\n",
      "Test MSE: 9752283025.173557\n"
     ]
    }
   ],
   "source": [
    "model = LinearRegression()\n",
    "model = model.fit(x_train, y_train)\n",
    "train_predictions = model.predict(x_train)\n",
    "test_predictions = model.predict(x_test)\n",
    "\n",
    "print(f'Train residuals: {np.sum(y_train - train_predictions)}')\n",
    "print(f'Test residuals: {np.sum(y_test - test_predictions)}')\n",
    "\n",
    "print(f'Train MSE: {mean_squared_error(y_train, train_predictions)}')\n",
    "print(f'Test MSE: {mean_squared_error(y_test, test_predictions)}')"
   ]
  },
  {
   "cell_type": "code",
   "execution_count": 14,
   "metadata": {},
   "outputs": [
    {
     "data": {
      "text/html": [
       "<div>\n",
       "<style scoped>\n",
       "    .dataframe tbody tr th:only-of-type {\n",
       "        vertical-align: middle;\n",
       "    }\n",
       "\n",
       "    .dataframe tbody tr th {\n",
       "        vertical-align: top;\n",
       "    }\n",
       "\n",
       "    .dataframe thead th {\n",
       "        text-align: right;\n",
       "    }\n",
       "</style>\n",
       "<table border=\"1\" class=\"dataframe\">\n",
       "  <thead>\n",
       "    <tr style=\"text-align: right;\">\n",
       "      <th></th>\n",
       "      <th>Avg. Area Income</th>\n",
       "      <th>Avg. Area House Age</th>\n",
       "      <th>Avg. Area Number of Rooms</th>\n",
       "      <th>Avg. Area Number of Bedrooms</th>\n",
       "      <th>Area Population</th>\n",
       "    </tr>\n",
       "  </thead>\n",
       "  <tbody>\n",
       "    <tr>\n",
       "      <th>227</th>\n",
       "      <td>76175.493928</td>\n",
       "      <td>4.524141</td>\n",
       "      <td>9.524974</td>\n",
       "      <td>4.28</td>\n",
       "      <td>30760.994956</td>\n",
       "    </tr>\n",
       "    <tr>\n",
       "      <th>4352</th>\n",
       "      <td>55815.568724</td>\n",
       "      <td>7.151591</td>\n",
       "      <td>6.002938</td>\n",
       "      <td>2.35</td>\n",
       "      <td>42961.764197</td>\n",
       "    </tr>\n",
       "    <tr>\n",
       "      <th>1128</th>\n",
       "      <td>94085.472984</td>\n",
       "      <td>6.305651</td>\n",
       "      <td>9.108893</td>\n",
       "      <td>5.15</td>\n",
       "      <td>31011.366807</td>\n",
       "    </tr>\n",
       "    <tr>\n",
       "      <th>2153</th>\n",
       "      <td>78286.517912</td>\n",
       "      <td>4.236881</td>\n",
       "      <td>7.465136</td>\n",
       "      <td>5.29</td>\n",
       "      <td>42425.776352</td>\n",
       "    </tr>\n",
       "    <tr>\n",
       "      <th>2331</th>\n",
       "      <td>79817.665761</td>\n",
       "      <td>6.019475</td>\n",
       "      <td>8.073787</td>\n",
       "      <td>5.41</td>\n",
       "      <td>31765.901385</td>\n",
       "    </tr>\n",
       "  </tbody>\n",
       "</table>\n",
       "</div>"
      ],
      "text/plain": [
       "      Avg. Area Income  Avg. Area House Age  Avg. Area Number of Rooms  \\\n",
       "227       76175.493928             4.524141                   9.524974   \n",
       "4352      55815.568724             7.151591                   6.002938   \n",
       "1128      94085.472984             6.305651                   9.108893   \n",
       "2153      78286.517912             4.236881                   7.465136   \n",
       "2331      79817.665761             6.019475                   8.073787   \n",
       "\n",
       "      Avg. Area Number of Bedrooms  Area Population  \n",
       "227                           4.28     30760.994956  \n",
       "4352                          2.35     42961.764197  \n",
       "1128                          5.15     31011.366807  \n",
       "2153                          5.29     42425.776352  \n",
       "2331                          5.41     31765.901385  "
      ]
     },
     "execution_count": 14,
     "metadata": {},
     "output_type": "execute_result"
    }
   ],
   "source": [
    "x_test.head()"
   ]
  },
  {
   "cell_type": "code",
   "execution_count": 15,
   "metadata": {},
   "outputs": [
    {
     "data": {
      "text/plain": [
       "<matplotlib.collections.PathCollection at 0x24475dfd970>"
      ]
     },
     "execution_count": 15,
     "metadata": {},
     "output_type": "execute_result"
    },
    {
     "data": {
      "image/png": "[encoded data removed]",
      "text/plain": [
       "<Figure size 432x288 with 1 Axes>"
      ]
     },
     "metadata": {
      "needs_background": "light"
     },
     "output_type": "display_data"
    }
   ],
   "source": [
    "plt.scatter(x_test.iloc[:,0], test_predictions)"
   ]
  },
  {
   "cell_type": "markdown",
   "metadata": {},
   "source": [
    "### Solutions 6-8"
   ]
  },
  {
   "cell_type": "code",
   "execution_count": 16,
   "metadata": {},
   "outputs": [
    {
     "name": "stdout",
     "output_type": "stream",
     "text": [
      "2469065.5941747027\n",
      "15938.657923287848\n",
      "1232072.654142357\n"
     ]
    }
   ],
   "source": [
    "# solution 6, 7, 8\n",
    "max_prize = data['Price'].max()\n",
    "min_prize = data['Price'].min()\n",
    "avg_prize = data['Price'].mean()\n",
    "\n",
    "print(max_prize)\n",
    "print(min_prize)\n",
    "print(avg_prize)"
   ]
  },
  {
   "cell_type": "markdown",
   "metadata": {},
   "source": [
    "### Solution 9"
   ]
  },
  {
   "cell_type": "code",
   "execution_count": 17,
   "metadata": {},
   "outputs": [
    {
     "data": {
      "image/png": "[encoded data removed]",
      "text/plain": [
       "<Figure size 432x288 with 1 Axes>"
      ]
     },
     "metadata": {
      "needs_background": "light"
     },
     "output_type": "display_data"
    }
   ],
   "source": [
    "# solution 9\n",
    "plt.hist(data['Price'])\n",
    "plt.xlabel('House prices')\n",
    "plt.ylabel('# houses')\n",
    "plt.show()"
   ]
  },
  {
   "cell_type": "markdown",
   "metadata": {},
   "source": [
    "### Solution 10"
   ]
  },
  {
   "cell_type": "code",
   "execution_count": 18,
   "metadata": {},
   "outputs": [
    {
     "name": "stdout",
     "output_type": "stream",
     "text": [
      "Percentage of houses that cost more than 1mio.: 74.74%\n"
     ]
    },
    {
     "data": {
      "image/png": "[encoded data removed]",
      "text/plain": [
       "<Figure size 720x360 with 1 Axes>"
      ]
     },
     "metadata": {
      "needs_background": "light"
     },
     "output_type": "display_data"
    }
   ],
   "source": [
    "# solution 10\n",
    "above_1mio = data[data['Price'] > 1000000]['Price']\n",
    "\n",
    "per_above_1mio = len(above_1mio) / data.shape[0]\n",
    "\n",
    "print(f'Percentage of houses that cost more than 1mio.: {100*per_above_1mio}%')\n",
    "\n",
    "plt.figure(figsize=(10,5))\n",
    "plt.hist(above_1mio)\n",
    "plt.xlabel('Price')\n",
    "plt.ylabel('# houses')\n",
    "plt.show()"
   ]
  },
  {
   "cell_type": "markdown",
   "metadata": {},
   "source": [
    "### Solution 11"
   ]
  },
  {
   "cell_type": "code",
   "execution_count": 19,
   "metadata": {},
   "outputs": [
    {
     "data": {
      "text/plain": [
       "Avg. Area Income                                                    69505.1\n",
       "Avg. Area House Age                                                 7.35235\n",
       "Avg. Area Number of Rooms                                           10.7596\n",
       "Avg. Area Number of Bedrooms                                           5.14\n",
       "Area Population                                                     48112.2\n",
       "Price                                                           2.23529e+06\n",
       "Address                         0665 Dawn Overpass\\nEast Sarabury, CA 82390\n",
       "Name: 1536, dtype: object"
      ]
     },
     "execution_count": 19,
     "metadata": {},
     "output_type": "execute_result"
    }
   ],
   "source": [
    "data.iloc[np.argmax(data['Avg. Area Number of Rooms'])]"
   ]
  },
  {
   "cell_type": "code",
   "execution_count": null,
   "metadata": {},
   "outputs": [],
   "source": []
  },
  {
   "cell_type": "markdown",
   "metadata": {},
   "source": [
    "### Solution 12"
   ]
  },
  {
   "cell_type": "code",
   "execution_count": null,
   "metadata": {},
   "outputs": [],
   "source": []
  },
  {
   "cell_type": "code",
   "execution_count": 20,
   "metadata": {},
   "outputs": [
    {
     "data": {
      "text/plain": [
       "177646.06835283132"
      ]
     },
     "execution_count": 20,
     "metadata": {},
     "output_type": "execute_result"
    }
   ],
   "source": [
    "np.sum(data['Price'] / data['Avg. Area Number of Rooms']) / data.shape[0]"
   ]
  },
  {
   "cell_type": "code",
   "execution_count": null,
   "metadata": {},
   "outputs": [],
   "source": []
  },
  {
   "cell_type": "code",
   "execution_count": null,
   "metadata": {},
   "outputs": [],
   "source": []
  },
  {
   "cell_type": "code",
   "execution_count": null,
   "metadata": {},
   "outputs": [],
   "source": []
  },
  {
   "cell_type": "markdown",
   "metadata": {},
   "source": [
    "### (Optional) Topic 3: Implement a Multiple Linear Regression by hand:\n",
    "\n",
    "Write a class that has the following methods:\n",
    "\n",
    "- fit(X,Y): Should fit the model weights using feature matrix X and label vector y. Use closed form solution to find perfect w-vector.\n",
    "- predict(X): Should make predictions label predictions for X.\n",
    "- score(X,Y): Should make label predictions on X, and mse score using the label information Y and the predictions.\n",
    "- train and evaluate your model on the wine dataset"
   ]
  },
  {
   "cell_type": "code",
   "execution_count": 62,
   "metadata": {},
   "outputs": [],
   "source": [
    "class LinearRegression():\n",
    "    \n",
    "    def __init__(self):\n",
    "        self.w = None\n",
    "        \n",
    "    def fit(self,X,y):\n",
    "        \n",
    "        # Compute closed form solution\n",
    "        w_opt = np.dot(np.linalg.inv(np.dot(X.T,X)), np.dot(X.T, y))\n",
    "        \n",
    "        self.w = w_opt\n",
    "    \n",
    "    def predict(self,X):\n",
    "        \n",
    "        predictions = np.dot(X,self.w)\n",
    "        \n",
    "        return predictions\n",
    "    \n",
    "    def mse_score(self,X,y):\n",
    "        \n",
    "        predictions = self.predict(X)\n",
    "        \n",
    "        return mean_squared_error(y, predictions)\n",
    "        \n",
    "        "
   ]
  },
  {
   "cell_type": "code",
   "execution_count": 63,
   "metadata": {},
   "outputs": [],
   "source": [
    "x_train_with_bias = np.hstack([np.ones((x_train.shape[0], 1)), x_train])"
   ]
  },
  {
   "cell_type": "code",
   "execution_count": null,
   "metadata": {},
   "outputs": [],
   "source": []
  },
  {
   "cell_type": "code",
   "execution_count": 64,
   "metadata": {},
   "outputs": [],
   "source": [
    "test_model = LinearRegression()"
   ]
  },
  {
   "cell_type": "code",
   "execution_count": 65,
   "metadata": {},
   "outputs": [],
   "source": [
    "test_model.fit(x_train_with_bias, y_train)"
   ]
  },
  {
   "cell_type": "code",
   "execution_count": 67,
   "metadata": {},
   "outputs": [
    {
     "data": {
      "text/plain": [
       "10199650208.09409"
      ]
     },
     "execution_count": 67,
     "metadata": {},
     "output_type": "execute_result"
    }
   ],
   "source": [
    "test_model.mse_score(x_train_with_bias,y_train)"
   ]
  },
  {
   "cell_type": "code",
   "execution_count": null,
   "metadata": {},
   "outputs": [],
   "source": [
    "10342070149"
   ]
  }
 ],
 "metadata": {
  "kernelspec": {
   "display_name": "Python 3",
   "language": "python",
   "name": "python3"
  },
  "language_info": {
   "codemirror_mode": {
    "name": "ipython",
    "version": 3
   },
   "file_extension": ".py",
   "mimetype": "text/x-python",
   "name": "python",
   "nbconvert_exporter": "python",
   "pygments_lexer": "ipython3",
   "version": "3.7.4"
  }
 },
 "nbformat": 4,
 "nbformat_minor": 4
}
