{
 "cells": [
  {
   "cell_type": "markdown",
   "metadata": {
    "slideshow": {
     "slide_type": "slide"
    }
   },
   "source": [
    "# Lecture 7: Unsupervised Learning - Clustering"
   ]
  },
  {
   "cell_type": "markdown",
   "metadata": {
    "slideshow": {
     "slide_type": "slide"
    }
   },
   "source": [
    "# Lecture 7\n",
    "---\n",
    "1. Partition-based: K-means\n",
    "2. Density-based: DBSCAN\n",
    "3. Hierarchical-based: AgglomerativeHierarchicalClustering\n",
    "3. Visualization using PCA\n"
   ]
  },
  {
   "cell_type": "markdown",
   "metadata": {
    "slideshow": {
     "slide_type": "slide"
    }
   },
   "source": [
    "## Clustering\n",
    "---\n",
    "\n",
    "**Grouping a collection of objects into groups or clusters, such that objects within each cluster are more similar than objects assigned to different clusters**"
   ]
  },
  {
   "cell_type": "markdown",
   "metadata": {
    "slideshow": {
     "slide_type": "slide"
    }
   },
   "source": [
    "## Clustering - an ill defined problem\n",
    "---\n",
    "\n",
    "We choose the means by which we evaluate whether one clustering method is better than others.\n",
    "\n",
    "Many ways to measure similarity --> clustering is ill defined\n",
    "\n",
    "Usually some notion of distance as a measure of dissimilarity.\n"
   ]
  },
  {
   "cell_type": "markdown",
   "metadata": {
    "slideshow": {
     "slide_type": "slide"
    }
   },
   "source": [
    "## 1. K-means clustering\n",
    "---\n",
    "**Goal**:\n",
    "Given datapoints $D = \\{x_1,...,x_n\\}$, and parameter $K$ the number of clusters, find a grouping of datapoints, such that the distance of points inside one class are small and distance of points between distinct classes are large.\n",
    "\n",
    "<img src=\"img\\kmeans.jpeg\" alt=\"Drawing\" style=\"width: 600px;\"/>"
   ]
  },
  {
   "cell_type": "markdown",
   "metadata": {
    "slideshow": {
     "slide_type": "slide"
    }
   },
   "source": [
    "## 1. K-means clustering\n",
    "---\n",
    "**Solution:** Minimize within-cluster sum of squares \n",
    "\n",
    " - $\\underset{S}{argmin}\\sum_{i=1}^{k}\\sum_{x\\in S_i}\\lVert x -\\mu_i\\rVert^2$\n",
    " \n",
    "Sum of all pairwise distances in the dataset is given by\n",
    "\n",
    "$T :=\\sum_{i=1}^{k}\\sum_{x\\in S_i}\\big( \\sum_{x'\\in S_i}d(x,x') + \\sum_{x''\\not\\in S_i}d(x,x') \\big) = w(C) + b(C)$,\n",
    "\n",
    "where $w(C)$ is the sum of pairwise distances of points in the same cluster and similarly, $b(C)$ is the sum of pairwise distances of points in the different clusters.\n",
    "\n",
    "\n",
    "Implies maximizing between class distances"
   ]
  },
  {
   "cell_type": "markdown",
   "metadata": {
    "slideshow": {
     "slide_type": "slide"
    }
   },
   "source": [
    "## 1. K-means clustering\n",
    "---\n",
    "**Algorithm:**\n",
    "\n",
    "Initialize $k$ cluster centers $\\mu_1,...,\\mu_k$ randomly.\n",
    " - **Assignment step:**\n",
    " Assign each observation to the cluster with the nearest mean, i.e. with the least distance: \n",
    "  - $S_i^{(t)} = \\{ \\lVert x_p - \\mu_i^{(t)} \\rVert^2 \\leq \\lVert x_p - \\mu_j^{(t)} \\rVert^2  \\forall j 1\\leq j\\leq k\\}$\n",
    " - **Update step:** Recalculate means for each cluster: \n",
    "  - $\\mu_i^{(t+1} = \\frac{1}{|S_i^{(t)}|} \\sum_{x_j\\in S_i^{(t)}}x_j$"
   ]
  },
  {
   "cell_type": "code",
   "execution_count": 1,
   "metadata": {
    "slideshow": {
     "slide_type": "slide"
    }
   },
   "outputs": [
    {
     "name": "stdout",
     "output_type": "stream",
     "text": [
      "[1 1 1 0 0 0]\n"
     ]
    },
    {
     "data": {
      "text/plain": [
       "array([1, 0], dtype=int32)"
      ]
     },
     "execution_count": 1,
     "metadata": {},
     "output_type": "execute_result"
    }
   ],
   "source": [
    "# k means code example using sklearn\n",
    "from sklearn.cluster import KMeans\n",
    "import numpy as np\n",
    "X = np.array([[1, 2], [1, 4], [1, 0],\n",
    "               [10, 2], [10, 4], [10, 0]])\n",
    "kmeans = KMeans(n_clusters=2).fit(X)\n",
    "print(kmeans.labels_)\n",
    "kmeans.predict([[0,0], [12,3]])\n"
   ]
  },
  {
   "cell_type": "markdown",
   "metadata": {
    "slideshow": {
     "slide_type": "slide"
    }
   },
   "source": [
    "## 1. K-means clustering\n",
    "---\n",
    "Note: The algorithm does not guarantee convergence to the global optimum. The result may depend on the initial clusters. As the algorithm is usually fast, it is common to run it multiple times with different starting conditions.\n",
    "\n",
    "Usually fast: $O(n * K * I * d)$ runtime complexity\n",
    "\n",
    " - n : number of points\n",
    " - K : number of clusters\n",
    " - I : number of iterations\n",
    " - d : number of attributes"
   ]
  },
  {
   "cell_type": "markdown",
   "metadata": {
    "slideshow": {
     "slide_type": "slide"
    }
   },
   "source": [
    "## Mini-batch K-means\n",
    "---\n",
    "Standard K-means: worst case [runtime](http://cseweb.ucsd.edu/~avattani/papers/kmeans-journal.pdf) is exponential\n",
    "\n",
    "Iterate two steps:\n",
    " 1. Randomly sample $b$ samples from the dataset, to form a mini-batch and assign them to their nearest centroid. \n",
    " 2. For each sample in the mini-batch,update the assigned centroid by taking the streaming average of the sample and all previous samples assigned to that centroid. \n",
    " \n",
    "This has the effect of decreasing the rate of change for a centroid over time. These steps are performed until convergence or a predetermined number of iterations is reached."
   ]
  },
  {
   "cell_type": "code",
   "execution_count": 2,
   "metadata": {
    "slideshow": {
     "slide_type": "slide"
    }
   },
   "outputs": [
    {
     "name": "stdout",
     "output_type": "stream",
     "text": [
      "[0 0 0 1 1 1]\n",
      "[[ 1.          2.1035503 ]\n",
      " [10.          2.08767123]]\n"
     ]
    }
   ],
   "source": [
    "# mini-batch k means code example using sklearn\n",
    "from sklearn.cluster import MiniBatchKMeans\n",
    "import numpy as np\n",
    "X = np.array([[1, 2], [1, 4], [1, 0],\n",
    "               [10, 2], [10, 4], [10, 0]])\n",
    "kmeans = MiniBatchKMeans(n_clusters=2).fit(X)\n",
    "print(kmeans.labels_)\n",
    "kmeans.predict([[0,0], [12,3]])\n",
    "print(kmeans.cluster_centers_)"
   ]
  },
  {
   "cell_type": "markdown",
   "metadata": {
    "slideshow": {
     "slide_type": "slide"
    }
   },
   "source": [
    "## 1. K-means clustering\n",
    "---\n",
    "\n",
    "Pros:\n",
    " - simple and effective\n",
    " - scales comparably well with larger datasets\n",
    " - guarantees convergence (local optima)\n",
    " - easily adapts to new datapoints\n",
    "\n",
    "Cons:\n",
    " - sensitive to initialization\n",
    " - sensitive to outliers\n",
    " - optimal number of clusters unknown\n",
    " - primarily for spherical clusters"
   ]
  },
  {
   "cell_type": "markdown",
   "metadata": {
    "slideshow": {
     "slide_type": "slide"
    }
   },
   "source": [
    "## 1. K-means++\n",
    "---\n",
    "K-means++: initializes the centroids to be (generally) distant from each other, leading to provably better results than random initialization, as shown in [“k-means++: The advantages of careful seeding” ](http://ilpubs.stanford.edu:8090/778/1/2006-13.pdf) (Arthur, David, Vassilvitskii, 2007)\n",
    "\n",
    "**Idea:** Select the next centroid from the data points such that the probability of choosing a point as centroid is directly proportional to its distance from the nearest, previously chosen centroid."
   ]
  },
  {
   "cell_type": "code",
   "execution_count": 3,
   "metadata": {
    "slideshow": {
     "slide_type": "slide"
    }
   },
   "outputs": [
    {
     "name": "stdout",
     "output_type": "stream",
     "text": [
      "[0 0 0 1 1 1]\n"
     ]
    },
    {
     "data": {
      "text/plain": [
       "array([0, 1], dtype=int32)"
      ]
     },
     "execution_count": 3,
     "metadata": {},
     "output_type": "execute_result"
    }
   ],
   "source": [
    "# k means++ code example using sklearn\n",
    "from sklearn.cluster import KMeans\n",
    "import numpy as np\n",
    "X = np.array([[1, 2], [1, 4], [1, 0],\n",
    "               [10, 2], [10, 4], [10, 0]])\n",
    "kmeans = KMeans(n_clusters=2, init='k-means++').fit(X)\n",
    "print(kmeans.labels_)\n",
    "kmeans.predict([[0,0], [12,3]])"
   ]
  },
  {
   "cell_type": "markdown",
   "metadata": {
    "slideshow": {
     "slide_type": "slide"
    }
   },
   "source": [
    "## What can go wrong?\n",
    "---\n",
    "Consider the update step of the K-means algorithm:\n",
    "- **Update step:** Recalculate means for each cluster: \n",
    "  - $\\mu_i^{(t+1} = \\frac{1}{|S_i^{(t)}|} \\sum_{x_j\\in S_i^{(t)}}x_j$\n",
    "\n",
    "Let 62, 64, 65, 62, 120, be the weight measurements of 5 students. The mean is 74.6, which is greater than 80% of the individual weights. Computing the median instead, which is 64 the data is almost accurately described."
   ]
  },
  {
   "cell_type": "markdown",
   "metadata": {
    "slideshow": {
     "slide_type": "slide"
    }
   },
   "source": [
    "## K-medoids\n",
    "---\n",
    "Initialize $k$ cluster centers $\\mu_1,...,\\mu_k$ randomly.\n",
    " - **Assignment step:**\n",
    " Assign each observation to the cluster with the **closest** mean, according to some distance $d$\n",
    "  - $S_i^{(t)} = \\{ d(x_p, \\mu_i) \\leq  d(x_p, \\mu_j)  \\forall j 1\\leq j\\leq k\\}$\n",
    " - **Update step:** Recalculate medians for each cluster: \n",
    "  - $\\mu_i^{(t+1} = median(S_i)$"
   ]
  },
  {
   "cell_type": "markdown",
   "metadata": {
    "slideshow": {
     "slide_type": "slide"
    }
   },
   "source": [
    "## Distance/Metric\n",
    "---\n",
    "A metric or distance function is a function that defines a distance between elements of a set.\n",
    "\n",
    "A metric on a set X is a function $d: X\\times X \\rightarrow \\mathbb{R}$\n",
    "\n",
    "A distance is required to satisfy\n",
    " - $d_{ij} \\geq 0$\n",
    " - $d_{ij} = d{ji}$\n",
    " - $d_{ij} = 0,$ if $(x_i = x_j)$\n",
    " - $d_{ij} \\leq d_{ik} + d_{kj}$\n",
    "\n",
    "for all $x_i,x_j,x_k\\in X$."
   ]
  },
  {
   "cell_type": "markdown",
   "metadata": {
    "slideshow": {
     "slide_type": "slide"
    }
   },
   "source": [
    "## Kernel\n",
    "---\n",
    "Another view on kernels: \n",
    "\n",
    " A kernel is a measure of similarity of two points, that is positive semi definite: \n",
    "  - $s(a, b) > s(a, c)$ if objects $a$ and $b$ are considered “more similar” than objects $a$ and $c$\n",
    " \n",
    "\n"
   ]
  },
  {
   "cell_type": "markdown",
   "metadata": {
    "slideshow": {
     "slide_type": "slide"
    }
   },
   "source": [
    "## _sklearn.metrics.pairwise_distances_\n",
    "---\n",
    "```python\n",
    ">>> import numpy as np\n",
    ">>> from sklearn.metrics import pairwise_distances\n",
    ">>> from sklearn.metrics.pairwise import pairwise_kernels\n",
    ">>> X = np.array([[2, 3], [3, 5], [5, 8]])\n",
    "\n",
    ">>> pairwise_distances(X, metric='manhattan')\n",
    "array([[0., 3., 8.],\n",
    "       [3., 0., 5.],\n",
    "       [8., 5., 0.]])\n",
    ">>> pairwise_kernels(X, metric='linear')\n",
    "array([[13. 21. 34.]\n",
    "       [21. 34. 55.]\n",
    "       [34. 55. 89.]])\n",
    "```"
   ]
  },
  {
   "cell_type": "markdown",
   "metadata": {
    "slideshow": {
     "slide_type": "slide"
    }
   },
   "source": [
    "## K-medoids\n",
    "---\n",
    "Can be used with a kernel matrix ,e.g. using as a similarity measure one of \n",
    " - [cosine similarity](https://scikit-learn.org/stable/modules/metrics.html#cosine-similarity) (popular for similarity of text, i.e. tf-idf vectors)\n",
    " - [rbf kernel](https://scikit-learn.org/stable/modules/metrics.html#rbf-kernel)\n",
    " - [laplacian kernel](https://scikit-learn.org/stable/modules/metrics.html#laplacian-kernel)\n",
    "\n",
    "https://scikit-learn-extra.readthedocs.io/en/latest/generated/sklearn_extra.cluster.KMedoids.html"
   ]
  },
  {
   "cell_type": "markdown",
   "metadata": {
    "slideshow": {
     "slide_type": "slide"
    }
   },
   "source": [
    "## 2. DBSCAN  - Density-Based Spatial Clustering of Applications with Noise\n",
    "---\n",
    "\n",
    "**Main idea:** A point belongs to a cluster if it is close to many points from that cluster.\n",
    "\n",
    "**Two parameters:**\n",
    " - $eps$: The distance that specifies the neighborhoods. Two points $x$ and $x'$ are considered to be neighbors if $d(x, x') \\leq eps$\n",
    "where $d$ is a distance function\n",
    " - MinPts: Minimum number of points to define a cluster\n",
    "\n",
    "\n",
    "Given a dataset $D$, define the neighborhood of a point $p$ by\n",
    " - $N(p) := \\{q\\in D: d(p,q) \\leq \\epsilon \\}$"
   ]
  },
  {
   "cell_type": "markdown",
   "metadata": {
    "slideshow": {
     "slide_type": "slide"
    }
   },
   "source": [
    "## 2. DBSCAN  - Density-Based Spatial Clustering of Applications with Noise\n",
    "---\n",
    "<img src=\"img\\dbscan2.png\" alt=\"Drawing\" style=\"width: 600px;\"/>\n",
    "Define a point $p$ as\n",
    "\n",
    " - **Core point**, if $|N(p)| \\geq MinPts$,\n",
    " - **Border point**, if  $|N(p)| < MinPts$ but there exists a Core point $\\in N(p)$.\n",
    " - **Noise** otherwise."
   ]
  },
  {
   "cell_type": "markdown",
   "metadata": {
    "slideshow": {
     "slide_type": "slide"
    }
   },
   "source": [
    "## 2. DBSCAN  - Density-Based Spatial Clustering of Applications with Noise\n",
    "---\n",
    "**Algorithm steps**\n",
    "Start with random point $p\\in D$ and set current cluster index C=0\n",
    "\n",
    "**Loop points $p\\in D$:**\n",
    "1.  determine the $\\epsilon$-neighborhood $N(p)$, e.g. using [sklearn.neighbors.KDTree](https://scikit-learn.org/stable/modules/generated/sklearn.neighbors.KDTree.html#sklearn-neighbors-kdtree)\n",
    "2. **If** $N(p) \\geq MinPts$: do_cluster_formation **else**: $p = Noise$\n",
    "\n",
    "**do_cluster_formation(p):**\n",
    " - assign all points $p' \\in N(p)$ to current_cluster C and if $p'$ is corepoint also add their neighborhood. Repeat until no more points can be assigned. Then increase cluster index C by one.\n"
   ]
  },
  {
   "cell_type": "markdown",
   "metadata": {
    "slideshow": {
     "slide_type": "slide"
    }
   },
   "source": [
    "## 2. DBSCAN  - Density-Based Spatial Clustering of Applications with Noise\n",
    "---\n",
    "Runtime is $O(n log n)$, i.e. KDtree query for each datapoint!\n",
    "\n",
    "However, finding $\\epsilon$ and $MinPts$ can be tricky.\n"
   ]
  },
  {
   "cell_type": "code",
   "execution_count": 4,
   "metadata": {
    "slideshow": {
     "slide_type": "slide"
    }
   },
   "outputs": [
    {
     "data": {
      "image/png": "[encoded data removed]",
      "text/plain": [
       "<Figure size 432x288 with 1 Axes>"
      ]
     },
     "metadata": {
      "needs_background": "light"
     },
     "output_type": "display_data"
    },
    {
     "data": {
      "text/plain": [
       "array([ 0,  0,  0,  1,  1, -1])"
      ]
     },
     "execution_count": 4,
     "metadata": {},
     "output_type": "execute_result"
    }
   ],
   "source": [
    "# code example using DBSCAN\n",
    "from sklearn.cluster import DBSCAN\n",
    "import numpy as np\n",
    "import matplotlib.pyplot as plt\n",
    "X = np.array([[1, 2], [2, 2], [2, 3],\n",
    "              [8, 7], [8, 8], [25, 80]])\n",
    "plt.scatter(X[:,0], X[:,1])\n",
    "plt.show()\n",
    "clustering = DBSCAN(eps=3, min_samples=2).fit(X)\n",
    "clustering.labels_"
   ]
  },
  {
   "cell_type": "markdown",
   "metadata": {
    "slideshow": {
     "slide_type": "slide"
    }
   },
   "source": [
    "## 3. Hierarchical Clustering - Fundamentally different from the other clustering paradigms\n",
    "---\n",
    "<img src=\"img\\comp.jpeg\" alt=\"Drawing\" style=\"width: 600px;\"/>"
   ]
  },
  {
   "cell_type": "markdown",
   "metadata": {
    "slideshow": {
     "slide_type": "slide"
    }
   },
   "source": [
    "## 3. Agglomerative Hierarchical Clustering\n",
    "---\n",
    "**Agglomerative**: Bottom up approach of hierarchical clustering\n",
    "\n",
    "**Divisive**: Top-down approach\n",
    "\n",
    "**General procedure Agglomerative Clustering**:\n",
    " - Start with the points as individual clusters\n",
    " - At each clustering step, merge the closest pair of clusters until only one cluster (or k clusters) left\n",
    "\n",
    "**Closeness** determined by distance Matrix, e.g ```pairwise_distances``` "
   ]
  },
  {
   "cell_type": "markdown",
   "metadata": {
    "slideshow": {
     "slide_type": "slide"
    }
   },
   "source": [
    "## 3. Agglomerative Hierarchical Clustering\n",
    "---\n",
    "<img src=\"img\\1.png\" alt=\"Drawing\" style=\"width: 600px;\"/>\n",
    "\n",
    "This and the following 4 slides have been taken from \n",
    "\n",
    "https://cs.wmich.edu/alfuqaha/summer14/cs6530/lectures/ClusteringAnalysis.pdf"
   ]
  },
  {
   "cell_type": "markdown",
   "metadata": {
    "slideshow": {
     "slide_type": "slide"
    }
   },
   "source": [
    "## 3. Agglomerative Hierarchical Clustering\n",
    "---\n",
    "<img src=\"img\\2.png\" alt=\"Drawing\" style=\"width: 600px;\"/>"
   ]
  },
  {
   "cell_type": "markdown",
   "metadata": {
    "slideshow": {
     "slide_type": "slide"
    }
   },
   "source": [
    "## 3. Agglomerative Hierarchical Clustering\n",
    "---\n",
    "\n",
    "<img src=\"img\\3.png\" alt=\"Drawing\" style=\"width: 600px;\"/>"
   ]
  },
  {
   "cell_type": "markdown",
   "metadata": {
    "slideshow": {
     "slide_type": "slide"
    }
   },
   "source": [
    "## 3. Agglomerative Hierarchical Clustering\n",
    "---\n",
    "<img src=\"img\\4.png\" alt=\"Drawing\" style=\"width: 600px;\"/>"
   ]
  },
  {
   "cell_type": "markdown",
   "metadata": {
    "slideshow": {
     "slide_type": "slide"
    }
   },
   "source": [
    "## 3. Agglomerative Hierarchical Clustering\n",
    "---\n",
    "<img src=\"img\\5.png\" alt=\"Drawing\" style=\"width: 600px;\"/>"
   ]
  },
  {
   "cell_type": "markdown",
   "metadata": {
    "slideshow": {
     "slide_type": "slide"
    }
   },
   "source": [
    "## 3. Agglomerative Hierarchical Clustering\n",
    "---\n",
    " - Produces a set of nested clusters organized as a hierarchical tree (the order of joining the sets is tracked)\n",
    "\n",
    " - Can be visualized using a Dendrogram. https://scikit-learn.org/stable/auto_examples/cluster/plot_agglomerative_dendrogram.html\n",
    " \n",
    "But how to read it?"
   ]
  },
  {
   "cell_type": "markdown",
   "metadata": {
    "slideshow": {
     "slide_type": "slide"
    }
   },
   "source": [
    "## 3. Agglomerative Hierarchical Clustering\n",
    "---\n",
    "[Dendrogram exaple](https://scikit-learn.org/stable/auto_examples/cluster/plot_agglomerative_dendrogram.html)\n",
    " \n",
    "**But how to read it?**\n",
    "<img src=\"img\\dendrogram.png\" alt=\"Drawing\" style=\"width: 600px;\"/>"
   ]
  },
  {
   "cell_type": "markdown",
   "metadata": {
    "slideshow": {
     "slide_type": "slide"
    }
   },
   "source": [
    "## Summary - Clustering paradigms\n",
    "---\n",
    " - **Partition-based Clustering:** A division data objets into subsets (clusters) such that each data object is in exactly one subset\n",
    "  - K-Means: use when assumption of convex and isotropic clusters is not too strongly violated, do not use when clusters have different sizes\n",
    "\n",
    " - **Density-based Clustering:** Cluster is dense region of points, separated by low-density regions\n",
    "  - DBSCAN: use when clusters are irregular, intertwined, and contain noise/outliers\n",
    "\n",
    " - **Hierarchical-based Clustering:** set of nested clusters organized as a hierarchical tree (Dendogram)\n",
    "  \n",
    "  - Agglomerative-HC: use with categorical data and to get a visual summary of the distance matrix (Dendrogram), FeatureAgglomeration as dimensionality reduction technique"
   ]
  },
  {
   "cell_type": "markdown",
   "metadata": {
    "slideshow": {
     "slide_type": "slide"
    }
   },
   "source": [
    "## Clustering evaluation\n",
    "---\n",
    "**If** you have labels:\n",
    " - ```sklearn.metrics.rand_score(labels_true, labels_pred)``` will give you (number of agreeing pairs) / (number of pairs)\n",
    "\n",
    "If you **don't** have labels:\n",
    "- ```sklearn.metrics.silhouette_score(X, labels_pred)``` will give you $\\frac{b-a}{max(a,b)}$, where \n",
    "\n",
    "- **a**: The mean distance between a sample and all other points in the **same** cluster,\n",
    "- **b**: The mean distance between a sample and all other points in the **next nearest** cluster,\n"
   ]
  },
  {
   "cell_type": "markdown",
   "metadata": {
    "slideshow": {
     "slide_type": "slide"
    }
   },
   "source": [
    "## 4. Visualization using PCA\n",
    "---\n",
    "Preview for the next lecture"
   ]
  },
  {
   "cell_type": "code",
   "execution_count": null,
   "metadata": {},
   "outputs": [],
   "source": []
  },
  {
   "cell_type": "code",
   "execution_count": 12,
   "metadata": {
    "slideshow": {
     "slide_type": "slide"
    }
   },
   "outputs": [
    {
     "data": {
      "image/png": "[encoded data removed]",
      "text/plain": [
       "<Figure size 432x288 with 1 Axes>"
      ]
     },
     "metadata": {
      "needs_background": "light"
     },
     "output_type": "display_data"
    }
   ],
   "source": [
    "import matplotlib.pyplot as plt\n",
    "from sklearn.datasets import load_digits\n",
    "from sklearn.decomposition import PCA\n",
    "from sklearn.cluster import KMeans\n",
    "\n",
    "# load data\n",
    "data = load_digits().data\n",
    "# reduce data to 2D\n",
    "pca = PCA(2)\n",
    "data = pca.fit_transform(data)\n",
    "# do kmeans clustering\n",
    "kmeans = KMeans(n_clusters=10)\n",
    "label = kmeans.fit_predict(data)\n",
    "# plot each label\n",
    "for l in [0,1,2,3,4,5,6,7,8,9]:\n",
    "    plt.scatter(data[label==l, 0], data[label==l, 1], label=l)\n",
    "    \n",
    "plt.legend()\n",
    "plt.show()\n"
   ]
  },
  {
   "cell_type": "markdown",
   "metadata": {
    "slideshow": {
     "slide_type": "slide"
    }
   },
   "source": [
    "# The End - happy to see you in the exercise session!"
   ]
  }
 ],
 "metadata": {
  "celltoolbar": "Slideshow",
  "kernelspec": {
   "display_name": "Python 3",
   "language": "python",
   "name": "python3"
  },
  "language_info": {
   "codemirror_mode": {
    "name": "ipython",
    "version": 3
   },
   "file_extension": ".py",
   "mimetype": "text/x-python",
   "name": "python",
   "nbconvert_exporter": "python",
   "pygments_lexer": "ipython3",
   "version": "3.6.9"
  }
 },
 "nbformat": 4,
 "nbformat_minor": 4
}
