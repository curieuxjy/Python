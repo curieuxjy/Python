{
 "cells": [
  {
   "cell_type": "markdown",
   "metadata": {
    "slideshow": {
     "slide_type": "slide"
    }
   },
   "source": [
    "# Lecture 8: Unsupervised Learning - Dimensionality Reduction"
   ]
  },
  {
   "cell_type": "markdown",
   "metadata": {
    "slideshow": {
     "slide_type": "slide"
    }
   },
   "source": [
    "1. Principal component analysis\n",
    "2. Stochastic Neighborhood embedding\n",
    "3. Locally Linear Embedding (LLE)"
   ]
  },
  {
   "cell_type": "markdown",
   "metadata": {
    "slideshow": {
     "slide_type": "slide"
    }
   },
   "source": [
    "## 1. PCA \n",
    "\n",
    "**Motivation:** Find directions of maximum variance!\n",
    "<img src=\"img\\points.png\" alt=\"Drawing\" style=\"width: 400px;\"/>\n",
    "<img src=\"img\\noise.png\" alt=\"Drawing\" style=\"width: 400px;\"/>"
   ]
  },
  {
   "cell_type": "markdown",
   "metadata": {
    "slideshow": {
     "slide_type": "slide"
    }
   },
   "source": [
    "Dimensionality is important, define again the dataset consisting of $n$ points as \n",
    "- $X = \\{x_1, ..., x_n\\}$\n",
    " \n",
    "where $x_i \\in \\mathbb{R}^d$.\n",
    "\n",
    "Consider the variance $var(u_1^TX)$ of the projection of our data $X\\in \\mathbb{R}^{d\\times n}$ onto the real line, given $u\\in\\mathbb{R}^{1\\times d}$, from the introductory example. "
   ]
  },
  {
   "cell_type": "markdown",
   "metadata": {
    "slideshow": {
     "slide_type": "slide"
    }
   },
   "source": [
    "Note that $u_1^TX \\in\\mathbb{R}^{1\\times n}$ is a vector. \n",
    "\n",
    "The definition of the variance of a vector or matrix $X$ here is \n",
    "- $VAR(X) = COV(X) = E[(X-\\mu_X)(X-\\mu_X)^T]$. An [alternative definiton](https://stats.stackexchange.com/questions/225434/a-measure-of-variance-from-the-covariance-matrix) is given by $VAR(X) = Tr(S)$, where is the covariance matrix of $X$.\n",
    "\n",
    "We would like to show now, that\n",
    " - $var(u_1^TX) = u_1^TSu_1$, where $S \\in \\mathbb{R}^{d \\times d}$ is the covariance matrix of $x_i$."
   ]
  },
  {
   "cell_type": "markdown",
   "metadata": {
    "slideshow": {
     "slide_type": "slide"
    }
   },
   "source": [
    "---\n",
    "Let $u\\in\\mathbb{R}^{1\\times d}$, and $X\\in\\mathbb{R}^{d\\times n}$ be centered.\n",
    "\n",
    "1. What is the **total variance of** our dataset $X\\in\\mathbb{R}^{d\\times n}$?\n",
    " - it is given by the covariance matrix $S = \\frac{1}{n}XX^T = \\frac{1}{n}\\sum_ix_ix_i^T$ that has the variances of each feature on its diagonal.\n",
    " \n",
    "2. What is the **total variance of** our **projected** dataset $X\\in\\mathbb{R}^{d\\times n}$?\n",
    " - replace $x_i$ with projection $u^Tx_i$\n",
    " - projected variance is $\\frac{1}{n}\\sum_iu^Tx_i(u^Tx_i)^T = \\frac{1}{n}\\sum_iu^Tx_ix_i^Tu = u^T(\\frac{1}{n}\\sum_ix_ix_i^T)u = u^TSu$\n",
    " \n",
    "$\\implies var(u^TX) = u^TSu$"
   ]
  },
  {
   "cell_type": "markdown",
   "metadata": {
    "slideshow": {
     "slide_type": "slide"
    }
   },
   "source": [
    "**Goal: of the PCA objective will be to maximize $u^TS u$ to find orthogonal axes(i.e. rotation of coordinate system) onto which the variance retained under projection is maximal!.**"
   ]
  },
  {
   "cell_type": "markdown",
   "metadata": {
    "slideshow": {
     "slide_type": "slide"
    }
   },
   "source": [
    "## 1. PCA objective\n",
    "---\n",
    "**Problem:** This maximization is ill defined, as $u^TSu$ has no upper bound. We can scale $u$ arbitrarily.\n",
    "\n",
    "**Solution:** introduce a constraint on $u$, to have some length, say length one, i.e. $u$ should be normalized!\n",
    "\n",
    "**Revisiting the PCA-objective from the previous slide:**\n",
    "\n",
    "The PCA objective will be to\n",
    "\n",
    "-  maximize $u^TS u$ \n",
    "\n",
    "subject to the constraint that $\\lVert u \\rVert = 1$,\n",
    "\n",
    "to find ortho**normal** axes(i.e. rotation of coordinate system) onto which the variance retained under projection is maximal!\n"
   ]
  },
  {
   "cell_type": "markdown",
   "metadata": {
    "slideshow": {
     "slide_type": "slide"
    }
   },
   "source": [
    "## 1. PCA - Detour Lagrangian\n",
    "---\n",
    "<img src=\"img\\lagrange2.png\" alt=\"Drawing\" style=\"width: 600px;\"/>"
   ]
  },
  {
   "cell_type": "markdown",
   "metadata": {
    "slideshow": {
     "slide_type": "slide"
    }
   },
   "source": [
    "## 1. PCA - Lagrangian\n",
    "---\n",
    "We use the standard form $L(u, \\lambda; X) = f(u) + \\lambda g(u)$ of the Lagrangian, and the formulation of our \n",
    "\n",
    "PCA objetve, to set \n",
    " - $f(u) = u^TSu$  (Remember $S$ is fixed)  \n",
    "\n",
    "and having $\\lVert u \\rVert = 1$, \n",
    " - $g(u) = (u^Tu - 1)$\n",
    "\n",
    "The Lagrangian for the PCA Optimization problem is defined as\n",
    " - $L(u, \\lambda) = u^TSu - \\lambda(u^Tu - 1)$"
   ]
  },
  {
   "cell_type": "markdown",
   "metadata": {
    "slideshow": {
     "slide_type": "slide"
    }
   },
   "source": [
    "## 1. PCA - Solution w Lagrangian\n",
    "---\n",
    "The Lagrangian for the PCA Optimization problem is defined as\n",
    " - $L(u, \\lambda) = u^TSu - \\lambda(u^Tu - 1)$\n",
    " \n",
    " $\\frac{\\partial L(u, \\lambda)}{\\partial u}  = 2Su - 2\\lambda u \\overset{!}{=} 0$\n",
    "\n",
    "=> **Eigenvalue problem $Su = \\lambda u$**"
   ]
  },
  {
   "cell_type": "markdown",
   "metadata": {
    "slideshow": {
     "slide_type": "slide"
    }
   },
   "source": [
    "---\n",
    "We know now from the Lagrangian Dual, that for a solution $u$ of the PCA problem, \n",
    " - $Su = \\lambda u$ holds.\n",
    " \n",
    "The PCA objective was to\n",
    "\n",
    "-  maximize $u^TS u$ \n",
    "\n",
    "subject to the constraint that $\\lVert u \\rVert = 1$. We can plug in $Su$ to obtatin the following\n",
    "\n",
    "-  maximize $u^TS u = u^T\\lambda u = \\lambda u^Tu = \\lambda$ using our norm constraint. \n",
    "\n"
   ]
  },
  {
   "cell_type": "markdown",
   "metadata": {
    "slideshow": {
     "slide_type": "slide"
    }
   },
   "source": [
    "## 1. PCA - How to get the eigenvectors of $S$?\n",
    "---\n",
    "\n",
    "\n"
   ]
  },
  {
   "cell_type": "markdown",
   "metadata": {
    "slideshow": {
     "slide_type": "slide"
    }
   },
   "source": [
    "## 1. PCA - Computation w Singular Value Decomposition (SVD)\n",
    "---\n",
    "We are not going to go into the details of how the [SVD](https://en.wikipedia.org/wiki/Singular_value_decomposition) decomposition is computed here.\n",
    "\n",
    "It suffices to know that for a matrix $X\\in\\mathbb{R}^{d\\times n}$, there exists a decomposition (SVD) \n",
    " - $X = U\\Sigma V^T$, where\n",
    " \n",
    "columns of $U \\in\\mathbb{R}^{d\\times d}$ are eigenvectors of $XX^T$, columns of $V\\in\\mathbb{R}^{n\\times n}$ are eigenvectors of $X^TX$, and $\\Sigma$ is a diagonal matrix with (sorted!) eigenvalues of $XX^T$ on its diagonal.\n",
    "\n",
    "=> Centralize data matrix: $\\tilde X:= (X-M)$, i.e. subtract the column wise mean. Then \n",
    "\n",
    "- $\\tilde X\\tilde X^T = S$ and from the SVD we can directly obtain the solution for PCA!. I.e compute SVD$(\\tilde X) =  U\\Sigma V^T$ and obtain the principal components as columns of $U$."
   ]
  },
  {
   "cell_type": "markdown",
   "metadata": {
    "slideshow": {
     "slide_type": "slide"
    }
   },
   "source": [
    "---\n",
    "The solution of the PCA problem\n",
    "\n",
    " - the maximization of $u^TSu$, s.t. $\\lVert u \\rVert = 1$.\n",
    "\n",
    "is given by eigenvectors $u$ of $S$ with maximal eigenvalues $\\lambda$. We can use multiple eigenvectors to project our data into a subspace spanned by these eigenvectors, i.e.\n",
    "\n",
    "given $SVD(\\tilde X) =  U\\Sigma V^T$, we can use instead of an eigenvector $u\\in\\mathbb{R}^{1\\times d}$, a truncated version $U_p \\in \\mathbb{R}^{p\\times d}$ of $U$ with only the first $p$ columns. Then our projected space will be spanned by $p$ principal components/ eigenvectors of $S$."
   ]
  },
  {
   "cell_type": "markdown",
   "metadata": {
    "slideshow": {
     "slide_type": "slide"
    }
   },
   "source": [
    "---\n",
    "We can directly obtain the solution for PCA!. I.e compute SVD$(\\tilde X) =  U\\Sigma V^T$ and obtain the principal components as columns of $U$.\n",
    "\n",
    "**Summary**: Let $U_p \\in\\mathbb{R}^{p\\times d}, X\\in\\mathbb{R}^{d\\times n}$\n",
    " - **Encode training data**: $X_{Enc} = U_p^TX$, where $X_{Enc}\\in\\mathbb{R}^{p\\times n}$ using $p$ principal components\n",
    " - **Reconstruct training data** : $\\hat X = U_pX_{Enc}= U_pU_p^TX$\n",
    " - **Encode out of sample data**: $x_{Enc} = U_p^Tx$, where $x_{Enc}\\in\\mathbb{R}^{p\\times 1}$\n",
    " - **Reconstruct out of sample**:  $\\hat x = U_px_{Enc}= U_pU_p^Tx$"
   ]
  },
  {
   "cell_type": "markdown",
   "metadata": {
    "slideshow": {
     "slide_type": "slide"
    }
   },
   "source": [
    "## 1. PCA - Dimensionality Reduction\n",
    "---\n",
    "**Olivetti Faces**"
   ]
  },
  {
   "cell_type": "code",
   "execution_count": 1,
   "metadata": {
    "slideshow": {
     "slide_type": "slide"
    }
   },
   "outputs": [
    {
     "data": {
      "image/png": "[encoded data removed]",
      "text/plain": [
       "<Figure size 432x288 with 1 Axes>"
      ]
     },
     "metadata": {
      "needs_background": "light"
     },
     "output_type": "display_data"
    },
    {
     "data": {
      "image/png": "[encoded data removed]",
      "text/plain": [
       "<Figure size 432x288 with 1 Axes>"
      ]
     },
     "metadata": {
      "needs_background": "light"
     },
     "output_type": "display_data"
    },
    {
     "data": {
      "image/png": "[encoded data removed]",
      "text/plain": [
       "<Figure size 432x288 with 1 Axes>"
      ]
     },
     "metadata": {
      "needs_background": "light"
     },
     "output_type": "display_data"
    },
    {
     "name": "stdout",
     "output_type": "stream",
     "text": [
      "[0.23812702 0.13993984 0.07968611 0.04998333 0.03609848 0.03156943\n",
      " 0.02426834 0.02036399 0.01958114 0.0167212  0.01595222 0.01436979\n",
      " 0.01246741 0.01147133 0.01062875 0.00977649 0.00918888 0.00815563]\n"
     ]
    }
   ],
   "source": [
    "# load olivetti faces\n",
    "from sklearn.datasets import fetch_olivetti_faces\n",
    "from sklearn.decomposition import PCA\n",
    "import matplotlib.pyplot as plt\n",
    "import numpy as np\n",
    "bunch = fetch_olivetti_faces()\n",
    "X, y = bunch.data, bunch.target\n",
    "plt.imshow(X[0].reshape(64,64))\n",
    "plt.show()\n",
    "# add noise to first image\n",
    "noisy_face = X[0] + np.random.random((4096,))\n",
    "noisy_face = noisy_face.reshape((1,4096))\n",
    "plt.imshow(noisy_face.reshape(64,64))\n",
    "plt.show()\n",
    "# fit pca, i.e. compute SVD of X and store matrix U[:p], where p = n_components\n",
    "pca = PCA(18)\n",
    "pca.fit(X)\n",
    "\n",
    "\n",
    "# project noisy image to PC space using projected_image = np.dot(U[:p], image)\n",
    "projected_image = pca.transform(noisy_face)\n",
    "# reconstruct_image  by calling np.dot(U[:p], projected_image)\n",
    "reconstructed_image = pca.inverse_transform(projected_image)\n",
    "# we lost the variation of data on the last d-p principal components, because we reconstructed\n",
    "plt.imshow(reconstructed_image.reshape(64,64))\n",
    "plt.show()\n",
    "# print explained_variance_ratio_\n",
    "print(pca.explained_variance_ratio_)"
   ]
  },
  {
   "cell_type": "markdown",
   "metadata": {
    "slideshow": {
     "slide_type": "slide"
    }
   },
   "source": [
    "## 1. PCA - Summary\n",
    "---\n",
    "So far:\n",
    "\n",
    " - want to find a projection of data that maximizes the variance along its axes\n",
    " - use Lagrangian formulation of this optimization problem and set the derivative to zero\n",
    " - ==> Eigenvalue problem of Covariance matrix\n",
    " - using SVD to compute eigenvalues and eigenvectors\n",
    " - projection onto the eigenvectors of $S$ computes directions of maximal variance"
   ]
  },
  {
   "cell_type": "markdown",
   "metadata": {
    "slideshow": {
     "slide_type": "slide"
    }
   },
   "source": [
    "## 1. PCA - Applications\n",
    "---\n",
    " - Preprocessing! PCA\n",
    "  - removes correlation in variables by projecting onto direction of maximum variance\n",
    "  - ==> can improve downscale estimators\n",
    "  - feature reduction\n",
    "  - visualization"
   ]
  },
  {
   "cell_type": "markdown",
   "metadata": {
    "slideshow": {
     "slide_type": "slide"
    }
   },
   "source": [
    "## 2. t-SNE: stochastic neighbor embedding\n",
    "---\n",
    "<img src=\"img\\p.png\" alt=\"Drawing\" style=\"width: 1024px;\"/>\n"
   ]
  },
  {
   "cell_type": "markdown",
   "metadata": {
    "slideshow": {
     "slide_type": "slide"
    }
   },
   "source": [
    "<img src=\"img\\q.png\" alt=\"Drawing\" style=\"width: 512px;\"/>\n",
    "\n",
    "from the [original paper](http://www.cs.toronto.edu/~hinton/absps/tsnefinal.pdf) (Van der Maaten, Hinton, 2008)"
   ]
  },
  {
   "cell_type": "markdown",
   "metadata": {
    "slideshow": {
     "slide_type": "slide"
    }
   },
   "source": [
    "<img src=\"img\\k.png\" alt=\"Drawing\" style=\"width: 1024px;\"/>\n",
    "\n",
    "https://en.wikipedia.org/wiki/T-distributed_stochastic_neighbor_embedding"
   ]
  },
  {
   "cell_type": "markdown",
   "metadata": {
    "slideshow": {
     "slide_type": "skip"
    }
   },
   "source": [
    ">\"A theoretical justification for our selection of the Student t-distribution is that it is closely related to the Gaussian distribution, as the Student t-distribution is an infinite mixture of Gaussians. A computationally convenient property is that it is much faster to evaluate the density of a point under a Student t-distribution than under a Gaussian because it does not involve an exponential, even though the Student t-distribution is equivalent to an infinite mixture of Gaussians with different variancces.\"\n",
    "\n",
    "from the [original paper](http://www.cs.toronto.edu/~hinton/absps/tsnefinal.pdf) (Van der Maaten, Hinton, 2008)\n",
    "\n",
    "> Student t-distribution을 선택하는 이론적 정당성은 Student t-distribution은 가우시안 분포의 무한 혼합이기 때문에 가우스 분포와 밀접한 관련이 있다는 것이다. 계산적으로 편리한 특성은 Student t-distribution이 서로 다른 분산을 가진 가우시안들의 무한 혼합과 동일하지만, 지수를 포함하지 않기 때문에 가우스보다 Student t-distribution에서 점의 밀도를 평가하는 것이 훨씬 빠르다는 것이다."
   ]
  },
  {
   "cell_type": "markdown",
   "metadata": {
    "slideshow": {
     "slide_type": "slide"
    }
   },
   "source": [
    "## 3. LLE - Locally Linear Embedding\n",
    "---\n",
    "<img src=\"img\\lle.gif\" alt=\"Drawing\" style=\"width: 400px;\"/>\n",
    "\n",
    "[Source](https://cs.nyu.edu/~roweis/lle/algorithm.html)"
   ]
  },
  {
   "cell_type": "markdown",
   "metadata": {
    "slideshow": {
     "slide_type": "slide"
    }
   },
   "source": [
    "**Reconstruction loss:**\n",
    "\n",
    "- 2. $l(W) = \\sum_{i=1}^t \\lVert x_i - \\sum_{j=1}^K W_{ij}x_j\\rVert^2$\n",
    "\n",
    "**Embedding loss:**\n",
    "\n",
    "- 3. $\\hat l(Y) = \\sum_{i=1}^t \\lVert y_i - \\sum_{j=1}^t W_{ij}y_j\\rVert^2$"
   ]
  },
  {
   "cell_type": "markdown",
   "metadata": {
    "slideshow": {
     "slide_type": "slide"
    }
   },
   "source": [
    "## 3. LLE - optimizing reconstruction loss \n",
    "\n",
    "$l(W) = \\sum_{i=1}^t \\lVert x_i - \\sum_{j=1}^K W_{ij}x_j\\rVert^2$\n",
    "---\n",
    "**2. Reconstruct each point from his neighbors with linear weights**\n",
    "\n",
    "- The optimal weights are given by $w_j = \\frac{\\sum_kC_{jk}^{-1}}{\\sum_{lm}C_{lm}^{-1}}$\n",
    "\n",
    "which we are going to verify in the homework."
   ]
  },
  {
   "cell_type": "markdown",
   "metadata": {
    "slideshow": {
     "slide_type": "slide"
    }
   },
   "source": [
    "The derivation of how to solve this minimization is rather involved, if you are interested, see the [original paper](http://www.cs.columbia.edu/~jebara/6772/papers/lleintro.pdf) on page 10,11."
   ]
  },
  {
   "cell_type": "code",
   "execution_count": 2,
   "metadata": {
    "slideshow": {
     "slide_type": "slide"
    }
   },
   "outputs": [
    {
     "name": "stdout",
     "output_type": "stream",
     "text": [
      "(1797, 64)\n",
      "(200, 2)\n"
     ]
    },
    {
     "data": {
      "image/png": "[encoded data removed]",
      "text/plain": [
       "<Figure size 432x288 with 1 Axes>"
      ]
     },
     "metadata": {
      "needs_background": "light"
     },
     "output_type": "display_data"
    }
   ],
   "source": [
    "from sklearn.datasets import load_digits\n",
    "from sklearn.manifold import LocallyLinearEmbedding\n",
    "X, y = load_digits(return_X_y=True)\n",
    "print(X.shape)\n",
    "\n",
    "embedding = LocallyLinearEmbedding(n_components=2)\n",
    "X_transform = embedding.fit_transform(X[:200])\n",
    "print(X_transform.shape)\n",
    "y = y[:200]\n",
    "\n",
    "for i in [0,1,2,3,4,5,6,7,8,9]:\n",
    "    plt.scatter(X_transform[y==i, 0], X_transform[y==i, 1], cmap=plt.cm.Spectral, label=f'{i}')\n",
    "plt.legend()\n",
    "plt.show()"
   ]
  },
  {
   "cell_type": "markdown",
   "metadata": {
    "slideshow": {
     "slide_type": "slide"
    }
   },
   "source": [
    "# The End - happy to see you in the exercise session!"
   ]
  }
 ],
 "metadata": {
  "celltoolbar": "Slideshow",
  "kernelspec": {
   "display_name": "Python 3",
   "language": "python",
   "name": "python3"
  },
  "language_info": {
   "codemirror_mode": {
    "name": "ipython",
    "version": 3
   },
   "file_extension": ".py",
   "mimetype": "text/x-python",
   "name": "python",
   "nbconvert_exporter": "python",
   "pygments_lexer": "ipython3",
   "version": "3.7.4"
  }
 },
 "nbformat": 4,
 "nbformat_minor": 4
}
