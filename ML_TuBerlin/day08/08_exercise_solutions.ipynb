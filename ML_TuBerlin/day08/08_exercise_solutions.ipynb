{
 "cells": [
  {
   "cell_type": "markdown",
   "metadata": {
    "slideshow": {
     "slide_type": "slide"
    }
   },
   "source": [
    "# Exercise 8: Unsupervised Learning - Dimensionality Reduction\n",
    "## Theory\n",
    "### Task 1: LLE - optimizing reconstruction loss $l(W) = \\sum_{i=1}^t \\lVert x_i - \\sum_{j=1}^K W_{ij}x_j\\rVert^2$\n",
    "---\n",
    "The constrained weights that best reconstruct eacht data point from its neighbors can be computed in closed form.\n",
    "\n",
    "First, see Appendix A, page 9 in the [original LLE paper](http://www.cs.columbia.edu/~jebara/6772/papers/lleintro.pdf) and familiarize yourself with equations (3) and (4).\n",
    "\n",
    "Then the solution of the given least squares problem can be computed by means of the Lagrangian function, that we presented in the lecture. For that we rephrase the problem as follows:\n",
    "\n",
    " - $min\\ l(W) = min\\sum_i l_i(w_i) = \\sum_i min \\sum_{jk}w_{ij}w_{ik}C_{jk}$, where $C_{jk} = (x_i-\\eta_j)\\cdot (x_i-\\eta_k)$ subject to $\\sum_j w_{ij} =1$ for all $i=1,...,n$\n",
    "\n",
    "Letting the Lagrangian $L(W, \\lambda) = f(W) + \\lambda g(W)$, first define $f(W)$, and $g(W)$ according to our minimization problem, and then try to solve the problem analytically. "
   ]
  },
  {
   "cell_type": "markdown",
   "metadata": {
    "slideshow": {
     "slide_type": "slide"
    }
   },
   "source": [
    "First observe, that for a **fixed $i$**, i.e. the loss for a single point $x_i$, we have \n",
    " - $\\sum_{jk}w_{ij}w_{ik}(x_i-\\eta_j)\\cdot (x_i-\\eta_k) = w_i^TCw_i$, where $C_{jk} = (x_i-\\eta_j)\\cdot (x_i-\\eta_k)$. Reformulating the constraint in vector notation we get\n",
    " \n",
    " - $g(w_i) = (\\mathbb 1^Tw_i -1)$,\n",
    "\n",
    "and obtain the Lagrangian by\n",
    " - $L_i = f(w_i) - \\lambda_i(g(w_i)) =:  l_i(w_i) - \\lambda_i(\\mathbb 1^Tw_i -1) $\n",
    "   $= w_i^TCw_i - \\lambda_i(\\mathbb 1^Tw_i -1)$\n"
   ]
  },
  {
   "cell_type": "markdown",
   "metadata": {
    "slideshow": {
     "slide_type": "slide"
    }
   },
   "source": [
    "\n",
    "Then \n",
    " - $\\frac{\\partial l_i(w_i,\\lambda_i)}{\\partial w_i} = 2Cw_i - \\lambda_i \\mathbb 1 \\Leftrightarrow w_i = \\frac{\\lambda}{2}C^{-1}\\mathbb{1}$\n",
    " \n",
    "\n",
    "$\\Leftrightarrow \\underbrace{\\mathbb 1w_i}_{=1}=\\mathbb 1^T\\frac{\\lambda}{2}C^{-1}\\mathbb{1} \\Leftrightarrow \\frac{2}{\\lambda}=\\mathbb{1}^TC^{-1}\\mathbb{1}$ \n",
    "\n",
    "$\\implies w_i = \\frac{C^{-1}\\mathbb{1}}{\\mathbb{1}^TC^{-1}\\mathbb{1}}$"
   ]
  },
  {
   "cell_type": "markdown",
   "metadata": {
    "slideshow": {
     "slide_type": "slide"
    }
   },
   "source": [
    "### [Optional] Principal components are orthogonal\n",
    "---\n",
    "\n",
    "Show that the principal components, i.e. the eigenvectors of the covariance matrix $S=\\frac{1}{n}\\tilde X\\tilde X^T$ are orthogonal. "
   ]
  },
  {
   "cell_type": "markdown",
   "metadata": {
    "slideshow": {
     "slide_type": "slide"
    }
   },
   "source": [
    "Let $S$ denote the (symmetric) covariance matrix of our centered dataset $X$. Consider the two eigenvectors $u,v$ of $S$ with corresponding eigenvalues $\\lambda$, $\\mu$ resp.\n",
    "\n",
    "Then $u^TAv = u^TA^Tv = (Au)^Tv = \\lambda u^Tv$,\n",
    "\n",
    "and\n",
    " - $u^TAv = u^T(\\mu v) = \\mu u^Tv$.\n",
    " \n",
    "So we have $\\mu u^Tv = \\lambda u^Tv$\n",
    "\n",
    "$\\implies (\\lambda-\\mu)u^tv = 0$. So either $u^Tv = 0$ or $\\lambda-\\mu=0$, i.e. either $u$ and $v$ are orthogonal or $\\lambda$ and $\\mu$ are equal."
   ]
  },
  {
   "cell_type": "markdown",
   "metadata": {
    "slideshow": {
     "slide_type": "slide"
    }
   },
   "source": [
    "## Programming\n",
    "### Task 1: Implementation of PCA\n",
    "---\n",
    "In this task you are asked to implement your own class PCA, that implements a subset of the functions in ```sklearn.decomposition.PCA class```. In particular, your class should implement a fit, transform, and inverse transform method. These should expect as an argument ```X```, a 2 dimensional numpy.ndarray. To compute the eigendecomposition of the covariance matrix of your centered data matrix```X```, you should use ```numpy.linalg.svd```."
   ]
  },
  {
   "cell_type": "code",
   "execution_count": 20,
   "metadata": {
    "slideshow": {
     "slide_type": "slide"
    }
   },
   "outputs": [],
   "source": [
    "class PCA:\n",
    "  def __init__(self, n_components):\n",
    "    self.n_components_ = n_components\n",
    "    self.U = None\n",
    "    self.sigma = None\n",
    "    # [optional]\n",
    "    self.explained_variance_ = None\n",
    "    self.explained_variance_ratio_ = None\n",
    "\n",
    "  def fit(self, X):\n",
    "    assert type(X) == np.ndarray and X.ndim == 2, 'requires two dimensional numpy array'\n",
    "    # center\n",
    "    X -= X.mean(axis=0)\n",
    "    # compute eigenvectors, eigenvalues of covariance matrix\n",
    "    U, sigma, _ = np.linalg.svd(X.T)\n",
    "\n",
    "    self.U = U[:, :self.n_components_]\n",
    "    self.sigma = sigma\n",
    "    # set explained_variance\n",
    "    explained_variance_ = (sigma[:self.n_components_] ** 2) / (X.shape[0] - 1)\n",
    "    total_var = explained_variance_.sum()\n",
    "    self.explained_variance_ = explained_variance_\n",
    "    self.explained_variance_ratio_ = explained_variance_ / total_var\n",
    "    # return fitted PCA transformer\n",
    "    return self\n",
    "\n",
    "  def transform(self, X):\n",
    "    print(X.shape)\n",
    "    print(self.U.shape)\n",
    "    # U dxp,   X nxd, result pxn\n",
    "    # U^T pxd X^T dxn \n",
    "    #X -= X.mean(axis=0)\n",
    "    return np.dot(self.U.T[:self.n_components_], X.T)\n",
    "\n",
    "  def inverse_transform(self, X):\n",
    "    # U dxp  X pxn , result dxn\n",
    "    assert type(X) == np.ndarray and X.ndim == 2, 'requires two dimensional numpy array'\n",
    "    return np.dot(self.U.T[:self.n_components_].T, X)\n"
   ]
  },
  {
   "cell_type": "code",
   "execution_count": 1,
   "metadata": {},
   "outputs": [
    {
     "ename": "NameError",
     "evalue": "name 'plt' is not defined",
     "output_type": "error",
     "traceback": [
      "\u001b[1;31m---------------------------------------------------------------------------\u001b[0m",
      "\u001b[1;31mNameError\u001b[0m                                 Traceback (most recent call last)",
      "\u001b[1;32m<ipython-input-1-77e8d654a18e>\u001b[0m in \u001b[0;36m<module>\u001b[1;34m\u001b[0m\n\u001b[0;32m      4\u001b[0m \u001b[0mbunch\u001b[0m \u001b[1;33m=\u001b[0m \u001b[0mfetch_olivetti_faces\u001b[0m\u001b[1;33m(\u001b[0m\u001b[1;33m)\u001b[0m\u001b[1;33m\u001b[0m\u001b[1;33m\u001b[0m\u001b[0m\n\u001b[0;32m      5\u001b[0m \u001b[0mX\u001b[0m\u001b[1;33m,\u001b[0m \u001b[0my\u001b[0m \u001b[1;33m=\u001b[0m \u001b[0mbunch\u001b[0m\u001b[1;33m.\u001b[0m\u001b[0mdata\u001b[0m\u001b[1;33m,\u001b[0m \u001b[0mbunch\u001b[0m\u001b[1;33m.\u001b[0m\u001b[0mtarget\u001b[0m\u001b[1;33m\u001b[0m\u001b[1;33m\u001b[0m\u001b[0m\n\u001b[1;32m----> 6\u001b[1;33m \u001b[0mplt\u001b[0m\u001b[1;33m.\u001b[0m\u001b[0mimshow\u001b[0m\u001b[1;33m(\u001b[0m\u001b[0mX\u001b[0m\u001b[1;33m[\u001b[0m\u001b[1;36m0\u001b[0m\u001b[1;33m]\u001b[0m\u001b[1;33m.\u001b[0m\u001b[0mreshape\u001b[0m\u001b[1;33m(\u001b[0m\u001b[1;36m64\u001b[0m\u001b[1;33m,\u001b[0m\u001b[1;36m64\u001b[0m\u001b[1;33m)\u001b[0m\u001b[1;33m)\u001b[0m\u001b[1;33m\u001b[0m\u001b[1;33m\u001b[0m\u001b[0m\n\u001b[0m\u001b[0;32m      7\u001b[0m \u001b[0mplt\u001b[0m\u001b[1;33m.\u001b[0m\u001b[0mshow\u001b[0m\u001b[1;33m(\u001b[0m\u001b[1;33m)\u001b[0m\u001b[1;33m\u001b[0m\u001b[1;33m\u001b[0m\u001b[0m\n\u001b[0;32m      8\u001b[0m \u001b[1;31m# add noise to first image\u001b[0m\u001b[1;33m\u001b[0m\u001b[1;33m\u001b[0m\u001b[1;33m\u001b[0m\u001b[0m\n",
      "\u001b[1;31mNameError\u001b[0m: name 'plt' is not defined"
     ]
    }
   ],
   "source": [
    "import numpy as np\n",
    "from sklearn.datasets import fetch_olivetti_faces\n",
    "\n",
    "bunch = fetch_olivetti_faces()\n",
    "X, y = bunch.data, bunch.target\n",
    "plt.imshow(X[0].reshape(64,64))\n",
    "plt.show()\n",
    "# add noise to first image\n",
    "noisy_face = X[0] + np.random.random((4096,))\n",
    "noisy_face = noisy_face.reshape((1,4096))\n",
    "plt.imshow(noisy_face.reshape(64,64))\n",
    "plt.show()\n",
    "\n",
    "# fit pca, i.e. compute SVD of X and store matrix U[:p], where p = n_components\n",
    "pca = PCA(18)\n",
    "pca.fit(X)\n",
    "print(pca.explained_variance_)\n",
    "print(pca.explained_variance_ratio_)\n",
    "# project noisy image to PC space using projected_image = np.dot(U[:p], image)\n",
    "projected_image = pca.transform(noisy_face)\n",
    "# reconstruct_image  by calling np.dot(U[:p], projected_image)\n",
    "reconstructed_image = pca.inverse_transform(projected_image)\n",
    "# we lost the variation of data on the last d-p principal components, because we reconstructed\n",
    "plt.imshow(reconstructed_image.reshape(64,64))\n",
    "plt.show()\n"
   ]
  },
  {
   "cell_type": "markdown",
   "metadata": {
    "slideshow": {
     "slide_type": "slide"
    }
   },
   "source": [
    "## Programming\n",
    "### [Optional] Extending PCA implementation\n",
    "---\n",
    "Extend your PCA implementation, such that\n",
    " 1. if n_components=None, then all principal components are used\n",
    " 2. it has attributes ```explained_variance_``` and ```explained_variance_ratio``` such that after fitting, these attributes return the same values as the reference implementation in ```sklearn.decomposition.PCA```."
   ]
  },
  {
   "cell_type": "markdown",
   "metadata": {
    "slideshow": {
     "slide_type": "slide"
    }
   },
   "source": [
    "### [Optional] Task 2: Visualize Mnist in 2D using t-SNE\n",
    "---\n",
    "Use sklearn.datasets.load_digits to load the Mnist dataset. Then,\n",
    "using ```sklearn.manifold.TSNE``` and/or ```sklearn.decomposition.PCA```, try to plot a picture that is close to \n",
    "<img src=\"img\\hw.png\" alt=\"Drawing\" style=\"width: 1024px;\"/>\n",
    "\n",
    "[Source](https://www.kdnuggets.com/wp-content/uploads/tsne-plot-mnist.jpg)"
   ]
  },
  {
   "cell_type": "code",
   "execution_count": 1,
   "metadata": {
    "slideshow": {
     "slide_type": "slide"
    }
   },
   "outputs": [
    {
     "data": {
      "image/png": "[encoded data removed]",
      "text/plain": [
       "<Figure size 432x288 with 1 Axes>"
      ]
     },
     "metadata": {
      "needs_background": "light"
     },
     "output_type": "display_data"
    }
   ],
   "source": [
    "from sklearn.datasets import load_digits\n",
    "from sklearn.manifold import TSNE\n",
    "import matplotlib.pyplot as plt\n",
    "digits = load_digits()\n",
    "X, y = digits.data, digits.target\n",
    "X_embed = TSNE(random_state=0).fit_transform(X)\n",
    "plt.scatter(X_embed[:,0], X_embed[:,1], c=y,cmap=plt.cm.Spectral)\n",
    "plt.title('t-SNE results: Digits')\n",
    "plt.show()"
   ]
  },
  {
   "cell_type": "code",
   "execution_count": null,
   "metadata": {},
   "outputs": [],
   "source": []
  }
 ],
 "metadata": {
  "celltoolbar": "Slideshow",
  "kernelspec": {
   "display_name": "Python 3",
   "language": "python",
   "name": "python3"
  },
  "language_info": {
   "codemirror_mode": {
    "name": "ipython",
    "version": 3
   },
   "file_extension": ".py",
   "mimetype": "text/x-python",
   "name": "python",
   "nbconvert_exporter": "python",
   "pygments_lexer": "ipython3",
   "version": "3.7.4"
  }
 },
 "nbformat": 4,
 "nbformat_minor": 4
}
