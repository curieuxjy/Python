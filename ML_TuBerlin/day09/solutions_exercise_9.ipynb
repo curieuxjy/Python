{
 "cells": [
  {
   "cell_type": "markdown",
   "metadata": {},
   "source": [
    "## Exercise solutions 9: Neural Networks for hand-written number classification"
   ]
  },
  {
   "cell_type": "markdown",
   "metadata": {},
   "source": [
    "#### About the dataset\n",
    "---\n",
    "Data points are 28x28 pixel images of numbers, ranging from 0-9. So there is 10 classes in total, one for each number between 1-2.\n",
    "Some more info on the dataset: http://yann.lecun.com/exdb/mnist/"
   ]
  },
  {
   "cell_type": "markdown",
   "metadata": {},
   "source": [
    "### Do the imports"
   ]
  },
  {
   "cell_type": "code",
   "execution_count": 135,
   "metadata": {},
   "outputs": [],
   "source": [
    "import torch\n",
    "import torchvision\n",
    "import numpy as np\n",
    "import pandas as pd"
   ]
  },
  {
   "cell_type": "code",
   "execution_count": 136,
   "metadata": {},
   "outputs": [],
   "source": [
    "import matplotlib.pyplot as plt\n",
    "from sklearn.model_selection import train_test_split"
   ]
  },
  {
   "cell_type": "code",
   "execution_count": 137,
   "metadata": {},
   "outputs": [],
   "source": [
    "np.random.seed(42)"
   ]
  },
  {
   "cell_type": "markdown",
   "metadata": {},
   "source": [
    "### 1. Load and split the data"
   ]
  },
  {
   "cell_type": "code",
   "execution_count": 148,
   "metadata": {},
   "outputs": [],
   "source": [
    "transforms = torchvision.transforms.Compose([torchvision.transforms.ToTensor()])\n",
    "\n",
    "train_set = torchvision.datasets.MNIST(\"./data\", download=True, train=True, transform=transforms)\n",
    "test_set = torchvision.datasets.MNIST(\"./data\", download=False, train=False, transform=transforms)\n",
    "\n",
    "# DataLoader: Special PyTorch object that feeds the PyTorch Neural Network with data \n",
    "batch_size = 32\n",
    "train_loader = torch.utils.data.DataLoader(train_set, \n",
    "                                          batch_size=batch_size, shuffle=True)\n",
    "\n",
    "test_loader = torch.utils.data.DataLoader(test_set, \n",
    "                                         batch_size=batch_size, shuffle=True)"
   ]
  },
  {
   "cell_type": "code",
   "execution_count": 142,
   "metadata": {},
   "outputs": [
    {
     "data": {
      "image/png": "[encoded data removed]",
      "text/plain": [
       "<Figure size 720x720 with 25 Axes>"
      ]
     },
     "metadata": {},
     "output_type": "display_data"
    }
   ],
   "source": [
    "plt.figure(figsize=(10,10))\n",
    "for i in range(25):\n",
    "    plt.subplot(5,5,i+1)\n",
    "    plt.xticks([])\n",
    "    plt.yticks([])\n",
    "    plt.grid(False) \n",
    "    plt.imshow(train_set.data[i], cmap=plt.cm.binary)\n",
    "    plt.xlabel(f\"{train_set.targets[i]}\")\n",
    "plt.show()"
   ]
  },
  {
   "cell_type": "markdown",
   "metadata": {},
   "source": [
    "### Assignments:\n",
    "1. Implement a 2-layerd MLP(1 hidden layer + 1 output layer). Implement the MLP as a class, as done here: https://pytorch.org/tutorials/beginner/blitz/cifar10_tutorial.html .\n",
    "2. Train it on the training set(see lecture implementation for it) for 100 epochs.\n",
    "3. Plot test- and train accuracy(y-axis) over epochs(x-axis).\n",
    "4. Try using different Hyperparameters, such as number of hidden neurons, learning rate, number of epochs "
   ]
  },
  {
   "cell_type": "code",
   "execution_count": 188,
   "metadata": {},
   "outputs": [],
   "source": [
    "class NeuralNet(torch.nn.Module):\n",
    "    def __init__(self):\n",
    "        super(NeuralNet, self).__init__()\n",
    "        self.flatten = torch.nn.Flatten()\n",
    "        self.hidden_layer = torch.nn.Linear(28*28, 120)\n",
    "        self.non_linearity_1 = torch.nn.Sigmoid()\n",
    "        self.output_layer = torch.nn.Linear(120, 10)\n",
    "\n",
    "    def forward(self, x):\n",
    "        x = self.flatten(x)\n",
    "        x = self.hidden_layer(x)\n",
    "        x = self.non_linearity_1(x)\n",
    "        x = self.output_layer(x)\n",
    "        return x"
   ]
  },
  {
   "cell_type": "code",
   "execution_count": 189,
   "metadata": {},
   "outputs": [],
   "source": [
    "model = NeuralNet()"
   ]
  },
  {
   "cell_type": "code",
   "execution_count": 190,
   "metadata": {},
   "outputs": [],
   "source": [
    "# 1. Define Loss function, and optimizer\n",
    "loss_fn = torch.nn.CrossEntropyLoss()\n",
    "optimizer = torch.optim.SGD(params=model.parameters(), lr=0.01)"
   ]
  },
  {
   "cell_type": "code",
   "execution_count": 191,
   "metadata": {},
   "outputs": [],
   "source": [
    "def eval_fn(model, dataloader):\n",
    "    # Test loop\n",
    "    # Put model in evaluation mode\n",
    "    model.eval()\n",
    "    total_correct = 0.0\n",
    "\n",
    "    for imgs, labels in dataloader: \n",
    "        logits =  model(imgs)\n",
    "    \n",
    "        # get predictions\n",
    "        _, preds = logits.max(dim=1)\n",
    "    \n",
    "        # Compute sum of correctly classified points for this batch\n",
    "        correctly_classified = (preds == labels).sum().numpy()\n",
    "    \n",
    "        # add number of correctly classified points of this batch to total number\n",
    "        total_correct += correctly_classified\n",
    "    \n",
    "    # Compute overall accuracy\n",
    "    acc = total_correct / len(dataloader.dataset)\n",
    " \n",
    "    print(f'Accuracy : {acc*100}%')\n",
    "    \n",
    "    return acc"
   ]
  },
  {
   "cell_type": "code",
   "execution_count": 192,
   "metadata": {},
   "outputs": [
    {
     "name": "stdout",
     "output_type": "stream",
     "text": [
      "Epoch: 0, batch: 499, loss: 2.2320766272544863\n",
      "Epoch: 0, batch: 999, loss: 2.041874666452408\n",
      "Epoch: 0, batch: 1499, loss: 1.7329793684482575\n",
      "\n",
      "Training acc. after epoch 0:\n",
      "Accuracy : 74.53666666666666%\n",
      "\n",
      "Test acc. after epoch 0:\n",
      "Accuracy : 75.44%\n",
      "Epoch: 1, batch: 499, loss: 1.2129587342739105\n",
      "Epoch: 1, batch: 999, loss: 1.0010814343690873\n",
      "Epoch: 1, batch: 1499, loss: 0.8588023384809494\n",
      "\n",
      "Training acc. after epoch 1:\n",
      "Accuracy : 83.42500000000001%\n",
      "\n",
      "Test acc. after epoch 1:\n",
      "Accuracy : 83.98%\n",
      "Epoch: 2, batch: 499, loss: 0.7123518949151039\n",
      "Epoch: 2, batch: 999, loss: 0.6566923205256462\n",
      "Epoch: 2, batch: 1499, loss: 0.5973225222826004\n",
      "\n",
      "Training acc. after epoch 2:\n",
      "Accuracy : 86.35333333333334%\n",
      "\n",
      "Test acc. after epoch 2:\n",
      "Accuracy : 87.01%\n",
      "Epoch: 3, batch: 499, loss: 0.5461970651745797\n",
      "Epoch: 3, batch: 999, loss: 0.5216210122406483\n",
      "Epoch: 3, batch: 1499, loss: 0.5050692192912102\n",
      "\n",
      "Training acc. after epoch 3:\n",
      "Accuracy : 87.96666666666667%\n",
      "\n",
      "Test acc. after epoch 3:\n",
      "Accuracy : 88.51%\n",
      "Epoch: 4, batch: 499, loss: 0.47089008522033693\n",
      "Epoch: 4, batch: 999, loss: 0.4501655579507351\n",
      "Epoch: 4, batch: 1499, loss: 0.44374795562028885\n",
      "\n",
      "Training acc. after epoch 4:\n",
      "Accuracy : 88.78%\n",
      "\n",
      "Test acc. after epoch 4:\n",
      "Accuracy : 89.21%\n",
      "Epoch: 5, batch: 499, loss: 0.4270152152180672\n",
      "Epoch: 5, batch: 999, loss: 0.4054061470627785\n",
      "Epoch: 5, batch: 1499, loss: 0.41157907016575335\n",
      "\n",
      "Training acc. after epoch 5:\n",
      "Accuracy : 89.3%\n",
      "\n",
      "Test acc. after epoch 5:\n",
      "Accuracy : 89.84%\n",
      "Epoch: 6, batch: 499, loss: 0.3825227108001709\n",
      "Epoch: 6, batch: 999, loss: 0.37785844525694845\n",
      "Epoch: 6, batch: 1499, loss: 0.3878833503127098\n",
      "\n",
      "Training acc. after epoch 6:\n",
      "Accuracy : 89.785%\n",
      "\n",
      "Test acc. after epoch 6:\n",
      "Accuracy : 90.22%\n",
      "Epoch: 7, batch: 499, loss: 0.36534246349334715\n",
      "Epoch: 7, batch: 999, loss: 0.36542787005007266\n",
      "Epoch: 7, batch: 1499, loss: 0.3655118538737297\n",
      "\n",
      "Training acc. after epoch 7:\n",
      "Accuracy : 90.05166666666666%\n",
      "\n",
      "Test acc. after epoch 7:\n",
      "Accuracy : 90.41%\n",
      "Epoch: 8, batch: 499, loss: 0.3536736234724522\n",
      "Epoch: 8, batch: 999, loss: 0.3461021385639906\n",
      "Epoch: 8, batch: 1499, loss: 0.35459094440937045\n",
      "\n",
      "Training acc. after epoch 8:\n",
      "Accuracy : 90.40166666666667%\n",
      "\n",
      "Test acc. after epoch 8:\n",
      "Accuracy : 90.68%\n",
      "Epoch: 9, batch: 499, loss: 0.34360470524430275\n",
      "Epoch: 9, batch: 999, loss: 0.35150824911892414\n",
      "Epoch: 9, batch: 1499, loss: 0.3235515866577625\n",
      "\n",
      "Training acc. after epoch 9:\n",
      "Accuracy : 90.62%\n",
      "\n",
      "Test acc. after epoch 9:\n",
      "Accuracy : 91.05%\n"
     ]
    },
    {
     "ename": "ValueError",
     "evalue": "x, y, and format string must not be None",
     "output_type": "error",
     "traceback": [
      "\u001b[1;31m---------------------------------------------------------------------------\u001b[0m",
      "\u001b[1;31mValueError\u001b[0m                                Traceback (most recent call last)",
      "\u001b[1;32m<ipython-input-192-74fec2b0105c>\u001b[0m in \u001b[0;36m<module>\u001b[1;34m\u001b[0m\n\u001b[0;32m     37\u001b[0m     \u001b[0mtest_accs\u001b[0m\u001b[1;33m.\u001b[0m\u001b[0mappend\u001b[0m\u001b[1;33m(\u001b[0m\u001b[0meval_fn\u001b[0m\u001b[1;33m(\u001b[0m\u001b[0mmodel\u001b[0m\u001b[1;33m,\u001b[0m \u001b[0mtest_loader\u001b[0m\u001b[1;33m)\u001b[0m\u001b[1;33m)\u001b[0m\u001b[1;33m\u001b[0m\u001b[1;33m\u001b[0m\u001b[0m\n\u001b[0;32m     38\u001b[0m \u001b[1;33m\u001b[0m\u001b[0m\n\u001b[1;32m---> 39\u001b[1;33m \u001b[0mplt\u001b[0m\u001b[1;33m.\u001b[0m\u001b[0mplot\u001b[0m\u001b[1;33m(\u001b[0m\u001b[0mtmp_train_acc\u001b[0m\u001b[1;33m,\u001b[0m \u001b[0mlabel\u001b[0m\u001b[1;33m=\u001b[0m\u001b[1;34m'Train accs.'\u001b[0m\u001b[1;33m)\u001b[0m\u001b[1;33m\u001b[0m\u001b[1;33m\u001b[0m\u001b[0m\n\u001b[0m\u001b[0;32m     40\u001b[0m \u001b[0mplt\u001b[0m\u001b[1;33m.\u001b[0m\u001b[0mplot\u001b[0m\u001b[1;33m(\u001b[0m\u001b[0mtmp_test_acc\u001b[0m\u001b[1;33m,\u001b[0m \u001b[0mlabel\u001b[0m\u001b[1;33m=\u001b[0m\u001b[1;34m'Test accs.'\u001b[0m\u001b[1;33m)\u001b[0m\u001b[1;33m\u001b[0m\u001b[1;33m\u001b[0m\u001b[0m\n",
      "\u001b[1;32m~\\miniconda3\\envs\\py38\\lib\\site-packages\\matplotlib\\pyplot.py\u001b[0m in \u001b[0;36mplot\u001b[1;34m(scalex, scaley, data, *args, **kwargs)\u001b[0m\n\u001b[0;32m   2838\u001b[0m \u001b[1;33m@\u001b[0m\u001b[0m_copy_docstring_and_deprecators\u001b[0m\u001b[1;33m(\u001b[0m\u001b[0mAxes\u001b[0m\u001b[1;33m.\u001b[0m\u001b[0mplot\u001b[0m\u001b[1;33m)\u001b[0m\u001b[1;33m\u001b[0m\u001b[1;33m\u001b[0m\u001b[0m\n\u001b[0;32m   2839\u001b[0m \u001b[1;32mdef\u001b[0m \u001b[0mplot\u001b[0m\u001b[1;33m(\u001b[0m\u001b[1;33m*\u001b[0m\u001b[0margs\u001b[0m\u001b[1;33m,\u001b[0m \u001b[0mscalex\u001b[0m\u001b[1;33m=\u001b[0m\u001b[1;32mTrue\u001b[0m\u001b[1;33m,\u001b[0m \u001b[0mscaley\u001b[0m\u001b[1;33m=\u001b[0m\u001b[1;32mTrue\u001b[0m\u001b[1;33m,\u001b[0m \u001b[0mdata\u001b[0m\u001b[1;33m=\u001b[0m\u001b[1;32mNone\u001b[0m\u001b[1;33m,\u001b[0m \u001b[1;33m**\u001b[0m\u001b[0mkwargs\u001b[0m\u001b[1;33m)\u001b[0m\u001b[1;33m:\u001b[0m\u001b[1;33m\u001b[0m\u001b[1;33m\u001b[0m\u001b[0m\n\u001b[1;32m-> 2840\u001b[1;33m     return gca().plot(\n\u001b[0m\u001b[0;32m   2841\u001b[0m         \u001b[1;33m*\u001b[0m\u001b[0margs\u001b[0m\u001b[1;33m,\u001b[0m \u001b[0mscalex\u001b[0m\u001b[1;33m=\u001b[0m\u001b[0mscalex\u001b[0m\u001b[1;33m,\u001b[0m \u001b[0mscaley\u001b[0m\u001b[1;33m=\u001b[0m\u001b[0mscaley\u001b[0m\u001b[1;33m,\u001b[0m\u001b[1;33m\u001b[0m\u001b[1;33m\u001b[0m\u001b[0m\n\u001b[0;32m   2842\u001b[0m         **({\"data\": data} if data is not None else {}), **kwargs)\n",
      "\u001b[1;32m~\\miniconda3\\envs\\py38\\lib\\site-packages\\matplotlib\\axes\\_axes.py\u001b[0m in \u001b[0;36mplot\u001b[1;34m(self, scalex, scaley, data, *args, **kwargs)\u001b[0m\n\u001b[0;32m   1741\u001b[0m         \"\"\"\n\u001b[0;32m   1742\u001b[0m         \u001b[0mkwargs\u001b[0m \u001b[1;33m=\u001b[0m \u001b[0mcbook\u001b[0m\u001b[1;33m.\u001b[0m\u001b[0mnormalize_kwargs\u001b[0m\u001b[1;33m(\u001b[0m\u001b[0mkwargs\u001b[0m\u001b[1;33m,\u001b[0m \u001b[0mmlines\u001b[0m\u001b[1;33m.\u001b[0m\u001b[0mLine2D\u001b[0m\u001b[1;33m)\u001b[0m\u001b[1;33m\u001b[0m\u001b[1;33m\u001b[0m\u001b[0m\n\u001b[1;32m-> 1743\u001b[1;33m         \u001b[0mlines\u001b[0m \u001b[1;33m=\u001b[0m \u001b[1;33m[\u001b[0m\u001b[1;33m*\u001b[0m\u001b[0mself\u001b[0m\u001b[1;33m.\u001b[0m\u001b[0m_get_lines\u001b[0m\u001b[1;33m(\u001b[0m\u001b[1;33m*\u001b[0m\u001b[0margs\u001b[0m\u001b[1;33m,\u001b[0m \u001b[0mdata\u001b[0m\u001b[1;33m=\u001b[0m\u001b[0mdata\u001b[0m\u001b[1;33m,\u001b[0m \u001b[1;33m**\u001b[0m\u001b[0mkwargs\u001b[0m\u001b[1;33m)\u001b[0m\u001b[1;33m]\u001b[0m\u001b[1;33m\u001b[0m\u001b[1;33m\u001b[0m\u001b[0m\n\u001b[0m\u001b[0;32m   1744\u001b[0m         \u001b[1;32mfor\u001b[0m \u001b[0mline\u001b[0m \u001b[1;32min\u001b[0m \u001b[0mlines\u001b[0m\u001b[1;33m:\u001b[0m\u001b[1;33m\u001b[0m\u001b[1;33m\u001b[0m\u001b[0m\n\u001b[0;32m   1745\u001b[0m             \u001b[0mself\u001b[0m\u001b[1;33m.\u001b[0m\u001b[0madd_line\u001b[0m\u001b[1;33m(\u001b[0m\u001b[0mline\u001b[0m\u001b[1;33m)\u001b[0m\u001b[1;33m\u001b[0m\u001b[1;33m\u001b[0m\u001b[0m\n",
      "\u001b[1;32m~\\miniconda3\\envs\\py38\\lib\\site-packages\\matplotlib\\axes\\_base.py\u001b[0m in \u001b[0;36m__call__\u001b[1;34m(self, data, *args, **kwargs)\u001b[0m\n\u001b[0;32m    271\u001b[0m                 \u001b[0mthis\u001b[0m \u001b[1;33m+=\u001b[0m \u001b[0margs\u001b[0m\u001b[1;33m[\u001b[0m\u001b[1;36m0\u001b[0m\u001b[1;33m]\u001b[0m\u001b[1;33m,\u001b[0m\u001b[1;33m\u001b[0m\u001b[1;33m\u001b[0m\u001b[0m\n\u001b[0;32m    272\u001b[0m                 \u001b[0margs\u001b[0m \u001b[1;33m=\u001b[0m \u001b[0margs\u001b[0m\u001b[1;33m[\u001b[0m\u001b[1;36m1\u001b[0m\u001b[1;33m:\u001b[0m\u001b[1;33m]\u001b[0m\u001b[1;33m\u001b[0m\u001b[1;33m\u001b[0m\u001b[0m\n\u001b[1;32m--> 273\u001b[1;33m             \u001b[1;32myield\u001b[0m \u001b[1;32mfrom\u001b[0m \u001b[0mself\u001b[0m\u001b[1;33m.\u001b[0m\u001b[0m_plot_args\u001b[0m\u001b[1;33m(\u001b[0m\u001b[0mthis\u001b[0m\u001b[1;33m,\u001b[0m \u001b[0mkwargs\u001b[0m\u001b[1;33m)\u001b[0m\u001b[1;33m\u001b[0m\u001b[1;33m\u001b[0m\u001b[0m\n\u001b[0m\u001b[0;32m    274\u001b[0m \u001b[1;33m\u001b[0m\u001b[0m\n\u001b[0;32m    275\u001b[0m     \u001b[1;32mdef\u001b[0m \u001b[0mget_next_color\u001b[0m\u001b[1;33m(\u001b[0m\u001b[0mself\u001b[0m\u001b[1;33m)\u001b[0m\u001b[1;33m:\u001b[0m\u001b[1;33m\u001b[0m\u001b[1;33m\u001b[0m\u001b[0m\n",
      "\u001b[1;32m~\\miniconda3\\envs\\py38\\lib\\site-packages\\matplotlib\\axes\\_base.py\u001b[0m in \u001b[0;36m_plot_args\u001b[1;34m(self, tup, kwargs)\u001b[0m\n\u001b[0;32m    377\u001b[0m         \u001b[1;31m# element array of None which causes problems downstream.\u001b[0m\u001b[1;33m\u001b[0m\u001b[1;33m\u001b[0m\u001b[1;33m\u001b[0m\u001b[0m\n\u001b[0;32m    378\u001b[0m         \u001b[1;32mif\u001b[0m \u001b[0many\u001b[0m\u001b[1;33m(\u001b[0m\u001b[0mv\u001b[0m \u001b[1;32mis\u001b[0m \u001b[1;32mNone\u001b[0m \u001b[1;32mfor\u001b[0m \u001b[0mv\u001b[0m \u001b[1;32min\u001b[0m \u001b[0mtup\u001b[0m\u001b[1;33m)\u001b[0m\u001b[1;33m:\u001b[0m\u001b[1;33m\u001b[0m\u001b[1;33m\u001b[0m\u001b[0m\n\u001b[1;32m--> 379\u001b[1;33m             \u001b[1;32mraise\u001b[0m \u001b[0mValueError\u001b[0m\u001b[1;33m(\u001b[0m\u001b[1;34m\"x, y, and format string must not be None\"\u001b[0m\u001b[1;33m)\u001b[0m\u001b[1;33m\u001b[0m\u001b[1;33m\u001b[0m\u001b[0m\n\u001b[0m\u001b[0;32m    380\u001b[0m \u001b[1;33m\u001b[0m\u001b[0m\n\u001b[0;32m    381\u001b[0m         \u001b[0mkw\u001b[0m \u001b[1;33m=\u001b[0m \u001b[1;33m{\u001b[0m\u001b[1;33m}\u001b[0m\u001b[1;33m\u001b[0m\u001b[1;33m\u001b[0m\u001b[0m\n",
      "\u001b[1;31mValueError\u001b[0m: x, y, and format string must not be None"
     ]
    },
    {
     "data": {
      "image/png": "[encoded data removed]",
      "text/plain": [
       "<Figure size 432x288 with 1 Axes>"
      ]
     },
     "metadata": {
      "needs_background": "light"
     },
     "output_type": "display_data"
    }
   ],
   "source": [
    "# 2. Implement the training loop\n",
    "\n",
    "train_accs = [] \n",
    "test_accs = []\n",
    "\n",
    "epochs = 10\n",
    "for epoch in range(epochs):\n",
    "    \n",
    "    # Training statistic that tracks progress\n",
    "    running_loss = 0.0\n",
    "    \n",
    "    for i, (imgs, labels) in enumerate(train_loader):\n",
    "        \n",
    "        # zeor the parameter gradients of last loop\n",
    "        optimizer.zero_grad()\n",
    "        \n",
    "        # Logits are essentially the predictions before converting them to probability scores(e.g. through SoftMax)\n",
    "        logits = model(imgs)\n",
    "        loss = loss_fn(logits, labels)\n",
    "        \n",
    "        # Compute Gradients\n",
    "        loss.backward()\n",
    "        \n",
    "        # Apply Gradient Descent\n",
    "        optimizer.step()\n",
    "        \n",
    "        # print statistics\n",
    "        running_loss += loss.item()\n",
    "        \n",
    "        if i % 500 == 499:\n",
    "            print(f'Epoch: {epoch}, batch: {i}, loss: {running_loss / 500}')\n",
    "            running_loss = 0.0\n",
    "    \n",
    "    print(f'\\nTraining acc. after epoch {epoch}:')\n",
    "    train_accs.append(eval_fn(model, train_loader))\n",
    "    print(f'\\nTest acc. after epoch {epoch}:')\n",
    "    test_accs.append(eval_fn(model, test_loader))"
   ]
  },
  {
   "cell_type": "code",
   "execution_count": 194,
   "metadata": {},
   "outputs": [
    {
     "data": {
      "text/plain": [
       "[<matplotlib.lines.Line2D at 0x1f56c54f520>]"
      ]
     },
     "execution_count": 194,
     "metadata": {},
     "output_type": "execute_result"
    },
    {
     "data": {
      "image/png": "[encoded data removed]",
      "text/plain": [
       "<Figure size 432x288 with 1 Axes>"
      ]
     },
     "metadata": {
      "needs_background": "light"
     },
     "output_type": "display_data"
    }
   ],
   "source": [
    "plt.plot(train_accs, label='Train accs.')\n",
    "plt.plot(test_accs, label='Test accs.')"
   ]
  },
  {
   "cell_type": "code",
   "execution_count": null,
   "metadata": {},
   "outputs": [],
   "source": []
  },
  {
   "cell_type": "code",
   "execution_count": null,
   "metadata": {},
   "outputs": [],
   "source": []
  }
 ],
 "metadata": {
  "kernelspec": {
   "display_name": "Python 3",
   "language": "python",
   "name": "python3"
  },
  "language_info": {
   "codemirror_mode": {
    "name": "ipython",
    "version": 3
   },
   "file_extension": ".py",
   "mimetype": "text/x-python",
   "name": "python",
   "nbconvert_exporter": "python",
   "pygments_lexer": "ipython3",
   "version": "3.8.5"
  }
 },
 "nbformat": 4,
 "nbformat_minor": 4
}
