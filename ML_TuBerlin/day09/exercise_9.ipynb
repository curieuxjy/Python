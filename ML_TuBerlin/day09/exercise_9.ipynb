{
 "cells": [
  {
   "cell_type": "markdown",
   "metadata": {},
   "source": [
    "## Exercise 9: Neural Networks for hand-written number classification"
   ]
  },
  {
   "cell_type": "markdown",
   "metadata": {},
   "source": [
    "#### About the dataset\n",
    "---\n",
    "Data points are 28x28 pixel images of numbers, ranging from 0-9. So there is 10 classes in total, one for each number between 1-2.\n",
    "Some more info on the dataset: http://yann.lecun.com/exdb/mnist/"
   ]
  },
  {
   "cell_type": "markdown",
   "metadata": {},
   "source": [
    "### Do the imports"
   ]
  },
  {
   "cell_type": "code",
   "execution_count": 1,
   "metadata": {},
   "outputs": [],
   "source": [
    "import torch\n",
    "import torchvision\n",
    "import numpy as np\n",
    "import pandas as pd"
   ]
  },
  {
   "cell_type": "code",
   "execution_count": 2,
   "metadata": {},
   "outputs": [],
   "source": [
    "import matplotlib.pyplot as plt\n",
    "from sklearn.model_selection import train_test_split"
   ]
  },
  {
   "cell_type": "code",
   "execution_count": 3,
   "metadata": {},
   "outputs": [],
   "source": [
    "np.random.seed(42)"
   ]
  },
  {
   "cell_type": "markdown",
   "metadata": {},
   "source": [
    "### 1. Load and split the data"
   ]
  },
  {
   "cell_type": "code",
   "execution_count": 4,
   "metadata": {},
   "outputs": [],
   "source": [
    "transforms = torchvision.transforms.Compose([torchvision.transforms.ToTensor()])\n",
    "\n",
    "train_set = torchvision.datasets.MNIST(\"./data\", download=True,\n",
    "                                       train=True, transform=transforms)\n",
    "test_set = torchvision.datasets.MNIST(\"./data\", download=False,\n",
    "                                      train=False, transform=transforms)\n",
    "\n",
    "# DataLoader: Special PyTorch object that feeds the PyTorch Neural Network with data \n",
    "batch_size = 32\n",
    "train_loader = torch.utils.data.DataLoader(train_set, \n",
    "                                          batch_size=batch_size, shuffle=True)\n",
    "\n",
    "test_loader = torch.utils.data.DataLoader(test_set, \n",
    "                                         batch_size=batch_size, shuffle=True)"
   ]
  },
  {
   "cell_type": "code",
   "execution_count": 5,
   "metadata": {},
   "outputs": [
    {
     "data": {
      "image/png": "[encoded data removed]",
      "text/plain": [
       "<Figure size 720x720 with 25 Axes>"
      ]
     },
     "metadata": {},
     "output_type": "display_data"
    }
   ],
   "source": [
    "plt.figure(figsize=(10,10))\n",
    "for i in range(25):\n",
    "    plt.subplot(5,5,i+1)\n",
    "    plt.xticks([])\n",
    "    plt.yticks([])\n",
    "    plt.grid(False) \n",
    "    plt.imshow(train_set.data[i], cmap=plt.cm.binary)\n",
    "    plt.xlabel(f\"{train_set.targets[i]}\")\n",
    "plt.show()"
   ]
  },
  {
   "cell_type": "markdown",
   "metadata": {},
   "source": [
    "### Assignments:\n",
    "1. Implement a 2-layerd MLP(1 hidden layer + 1 output layer). Implement the MLP as a class, as done here: https://pytorch.org/tutorials/beginner/blitz/cifar10_tutorial.html .\n",
    "2. Train it on the training set(see lecture implementation for it) for 100 epochs.\n",
    "3. Plot test- and train accuracy(y-axis) over epochs(x-axis).\n",
    "4. Try using different Hyperparameters, such as number of hidden neurons, learning rate, number of epochs "
   ]
  },
  {
   "cell_type": "code",
   "execution_count": 6,
   "metadata": {},
   "outputs": [],
   "source": [
    "class NeuralNet(torch.nn.Module):\n",
    "    def __init__(self):\n",
    "        super(NeuralNet, self).__init__()\n",
    "        self.flatten = torch.nn.Flatten()\n",
    "        self.hidden_layer = torch.nn.Linear(28*28, 120)\n",
    "        self.non_linearity_1 = torch.nn.Sigmoid()\n",
    "        self.output_layer = torch.nn.Linear(120, 10)\n",
    "\n",
    "    def forward(self, x):\n",
    "        x = self.flatten(x)\n",
    "        x = self.hidden_layer(x)\n",
    "        x = self.non_linearity_1(x)\n",
    "        x = self.output_layer(x)\n",
    "        return x"
   ]
  },
  {
   "cell_type": "code",
   "execution_count": 7,
   "metadata": {},
   "outputs": [],
   "source": [
    "model = NeuralNet()"
   ]
  },
  {
   "cell_type": "code",
   "execution_count": 8,
   "metadata": {},
   "outputs": [],
   "source": [
    "# 1. Define Loss function, and optimizer\n",
    "loss_fn = torch.nn.CrossEntropyLoss()\n",
    "optimizer = torch.optim.SGD(params=model.parameters(), lr=0.01)"
   ]
  },
  {
   "cell_type": "code",
   "execution_count": 9,
   "metadata": {},
   "outputs": [],
   "source": [
    "def eval_fn(model, dataloader):\n",
    "    # Test loop\n",
    "    # Put model in evaluation mode\n",
    "    model.eval()\n",
    "    total_correct = 0.0\n",
    "\n",
    "    for imgs, labels in dataloader: \n",
    "        logits =  model(imgs)\n",
    "    \n",
    "        # get predictions\n",
    "        _, preds = logits.max(dim=1)\n",
    "    \n",
    "        # Compute sum of correctly classified points for this batch\n",
    "        correctly_classified = (preds == labels).sum().numpy()\n",
    "    \n",
    "        # add number of correctly classified points of this batch to total number\n",
    "        total_correct += correctly_classified\n",
    "    \n",
    "    # Compute overall accuracy\n",
    "    acc = total_correct / len(dataloader.dataset)\n",
    " \n",
    "    print(f'Accuracy : {acc*100}%')\n",
    "    \n",
    "    return acc"
   ]
  },
  {
   "cell_type": "code",
   "execution_count": 10,
   "metadata": {},
   "outputs": [
    {
     "name": "stdout",
     "output_type": "stream",
     "text": [
      "Epoch: 0, batch: 499, loss: 2.237934387683868\n",
      "Epoch: 0, batch: 999, loss: 2.0478579139709474\n",
      "Epoch: 0, batch: 1499, loss: 1.7501641716957093\n",
      "\n",
      "Training acc. after epoch 0:\n",
      "Accuracy : 73.69666666666667%\n",
      "\n",
      "Test acc. after epoch 0:\n",
      "Accuracy : 74.49%\n",
      "Epoch: 1, batch: 499, loss: 1.2137308876514434\n",
      "Epoch: 1, batch: 999, loss: 0.9999612839221954\n",
      "Epoch: 1, batch: 1499, loss: 0.8627081024646759\n",
      "\n",
      "Training acc. after epoch 1:\n",
      "Accuracy : 83.32333333333334%\n",
      "\n",
      "Test acc. after epoch 1:\n",
      "Accuracy : 84.05%\n",
      "Epoch: 2, batch: 499, loss: 0.7021484585404396\n",
      "Epoch: 2, batch: 999, loss: 0.6640573226213455\n",
      "Epoch: 2, batch: 1499, loss: 0.6034478287696838\n",
      "\n",
      "Training acc. after epoch 2:\n",
      "Accuracy : 86.58%\n",
      "\n",
      "Test acc. after epoch 2:\n",
      "Accuracy : 87.12%\n",
      "Epoch: 3, batch: 499, loss: 0.5426036830544472\n",
      "Epoch: 3, batch: 999, loss: 0.520322670429945\n",
      "Epoch: 3, batch: 1499, loss: 0.4950724782049656\n",
      "\n",
      "Training acc. after epoch 3:\n",
      "Accuracy : 88.01%\n",
      "\n",
      "Test acc. after epoch 3:\n",
      "Accuracy : 88.59%\n",
      "Epoch: 4, batch: 499, loss: 0.47681089064478877\n",
      "Epoch: 4, batch: 999, loss: 0.4500064840614796\n",
      "Epoch: 4, batch: 1499, loss: 0.4373201886117458\n",
      "\n",
      "Training acc. after epoch 4:\n",
      "Accuracy : 88.75333333333333%\n",
      "\n",
      "Test acc. after epoch 4:\n",
      "Accuracy : 89.44%\n",
      "Epoch: 5, batch: 499, loss: 0.42916730844974516\n",
      "Epoch: 5, batch: 999, loss: 0.40546521297097204\n",
      "Epoch: 5, batch: 1499, loss: 0.4027107161581516\n",
      "\n",
      "Training acc. after epoch 5:\n",
      "Accuracy : 89.35666666666665%\n",
      "\n",
      "Test acc. after epoch 5:\n",
      "Accuracy : 89.83%\n",
      "Epoch: 6, batch: 499, loss: 0.39374991111457347\n",
      "Epoch: 6, batch: 999, loss: 0.3793409847766161\n",
      "Epoch: 6, batch: 1499, loss: 0.37392388164997103\n",
      "\n",
      "Training acc. after epoch 6:\n",
      "Accuracy : 89.80333333333334%\n",
      "\n",
      "Test acc. after epoch 6:\n",
      "Accuracy : 90.28%\n",
      "Epoch: 7, batch: 499, loss: 0.3754997179955244\n",
      "Epoch: 7, batch: 999, loss: 0.3543394313007593\n",
      "Epoch: 7, batch: 1499, loss: 0.3631650569140911\n",
      "\n",
      "Training acc. after epoch 7:\n",
      "Accuracy : 90.16499999999999%\n",
      "\n",
      "Test acc. after epoch 7:\n",
      "Accuracy : 90.56%\n",
      "Epoch: 8, batch: 499, loss: 0.3558933694213629\n",
      "Epoch: 8, batch: 999, loss: 0.3441533959805965\n",
      "Epoch: 8, batch: 1499, loss: 0.3491629463285208\n",
      "\n",
      "Training acc. after epoch 8:\n",
      "Accuracy : 90.41333333333334%\n",
      "\n",
      "Test acc. after epoch 8:\n",
      "Accuracy : 90.84%\n",
      "Epoch: 9, batch: 499, loss: 0.34270721474289895\n",
      "Epoch: 9, batch: 999, loss: 0.3252149491608143\n",
      "Epoch: 9, batch: 1499, loss: 0.34451436875760555\n",
      "\n",
      "Training acc. after epoch 9:\n",
      "Accuracy : 90.66333333333333%\n",
      "\n",
      "Test acc. after epoch 9:\n",
      "Accuracy : 91.07%\n"
     ]
    }
   ],
   "source": [
    "# 2. Implement the training loop\n",
    "\n",
    "train_accs = [] \n",
    "test_accs = []\n",
    "\n",
    "epochs = 10\n",
    "for epoch in range(epochs):\n",
    "    \n",
    "    # Training statistic that tracks progress\n",
    "    running_loss = 0.0\n",
    "    \n",
    "    for i, (imgs, labels) in enumerate(train_loader):\n",
    "        \n",
    "        # zeor the parameter gradients of last loop\n",
    "        optimizer.zero_grad()\n",
    "        \n",
    "        # Logits are essentially the predictions before converting them to probability scores(e.g. through SoftMax)\n",
    "        logits = model(imgs)\n",
    "        loss = loss_fn(logits, labels)\n",
    "        \n",
    "        # Compute Gradients\n",
    "        loss.backward()\n",
    "        \n",
    "        # Apply Gradient Descent\n",
    "        optimizer.step()\n",
    "        \n",
    "        # print statistics\n",
    "        running_loss += loss.item()\n",
    "        \n",
    "        if i % 500 == 499:\n",
    "            print(f'Epoch: {epoch}, batch: {i}, loss: {running_loss / 500}')\n",
    "            running_loss = 0.0\n",
    "    \n",
    "    print(f'\\nTraining acc. after epoch {epoch}:')\n",
    "    train_accs.append(eval_fn(model, train_loader))\n",
    "    print(f'\\nTest acc. after epoch {epoch}:')\n",
    "    test_accs.append(eval_fn(model, test_loader))"
   ]
  },
  {
   "cell_type": "code",
   "execution_count": 11,
   "metadata": {},
   "outputs": [
    {
     "data": {
      "text/plain": [
       "[<matplotlib.lines.Line2D at 0x19a6b242048>]"
      ]
     },
     "execution_count": 11,
     "metadata": {},
     "output_type": "execute_result"
    },
    {
     "data": {
      "image/png": "[encoded data removed]",
      "text/plain": [
       "<Figure size 432x288 with 1 Axes>"
      ]
     },
     "metadata": {
      "needs_background": "light"
     },
     "output_type": "display_data"
    }
   ],
   "source": [
    "# 3. Plot train test acc over epochs\n",
    "plt.plot(train_accs, label='Train accs.')\n",
    "plt.plot(test_accs, label='Test accs.')"
   ]
  },
  {
   "cell_type": "code",
   "execution_count": 2,
   "metadata": {},
   "outputs": [],
   "source": [
    "# 4. Try different hyperparameters out"
   ]
  },
  {
   "cell_type": "code",
   "execution_count": null,
   "metadata": {},
   "outputs": [],
   "source": []
  }
 ],
 "metadata": {
  "kernelspec": {
   "display_name": "Python 3",
   "language": "python",
   "name": "python3"
  },
  "language_info": {
   "codemirror_mode": {
    "name": "ipython",
    "version": 3
   },
   "file_extension": ".py",
   "mimetype": "text/x-python",
   "name": "python",
   "nbconvert_exporter": "python",
   "pygments_lexer": "ipython3",
   "version": "3.7.4"
  }
 },
 "nbformat": 4,
 "nbformat_minor": 4
}
