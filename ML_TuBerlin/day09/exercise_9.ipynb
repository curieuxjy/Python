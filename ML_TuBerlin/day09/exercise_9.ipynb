{
 "cells": [
  {
   "cell_type": "markdown",
   "metadata": {},
   "source": [
    "## Exercise 9: Neural Networks for hand-written number classification"
   ]
  },
  {
   "cell_type": "markdown",
   "metadata": {},
   "source": [
    "#### About the dataset\n",
    "---\n",
    "Data points are 28x28 pixel images of numbers, ranging from 0-9. So there is 10 classes in total, one for each number between 1-2.\n",
    "Some more info on the dataset: http://yann.lecun.com/exdb/mnist/"
   ]
  },
  {
   "cell_type": "markdown",
   "metadata": {},
   "source": [
    "### Do the imports"
   ]
  },
  {
   "cell_type": "code",
   "execution_count": 135,
   "metadata": {},
   "outputs": [],
   "source": [
    "import torch\n",
    "import torchvision\n",
    "import numpy as np\n",
    "import pandas as pd"
   ]
  },
  {
   "cell_type": "code",
   "execution_count": 136,
   "metadata": {},
   "outputs": [],
   "source": [
    "import matplotlib.pyplot as plt\n",
    "from sklearn.model_selection import train_test_split"
   ]
  },
  {
   "cell_type": "code",
   "execution_count": 137,
   "metadata": {},
   "outputs": [],
   "source": [
    "np.random.seed(42)"
   ]
  },
  {
   "cell_type": "markdown",
   "metadata": {},
   "source": [
    "### 1. Load and split the data"
   ]
  },
  {
   "cell_type": "code",
   "execution_count": 148,
   "metadata": {},
   "outputs": [],
   "source": [
    "transforms = torchvision.transforms.Compose([torchvision.transforms.ToTensor()])\n",
    "\n",
    "train_set = torchvision.datasets.MNIST(\"./data\", download=True, train=True, transform=transforms)\n",
    "test_set = torchvision.datasets.MNIST(\"./data\", download=False, train=False, transform=transforms)\n",
    "\n",
    "# DataLoader: Special PyTorch object that feeds the PyTorch Neural Network with data \n",
    "batch_size = 32\n",
    "train_loader = torch.utils.data.DataLoader(train_set, \n",
    "                                          batch_size=batch_size, shuffle=True)\n",
    "\n",
    "test_loader = torch.utils.data.DataLoader(test_set, \n",
    "                                         batch_size=batch_size, shuffle=True)"
   ]
  },
  {
   "cell_type": "code",
   "execution_count": 142,
   "metadata": {},
   "outputs": [
    {
     "data": {
      "image/png": "[encoded data removed]",
      "text/plain": [
       "<Figure size 720x720 with 25 Axes>"
      ]
     },
     "metadata": {},
     "output_type": "display_data"
    }
   ],
   "source": [
    "plt.figure(figsize=(10,10))\n",
    "for i in range(25):\n",
    "    plt.subplot(5,5,i+1)\n",
    "    plt.xticks([])\n",
    "    plt.yticks([])\n",
    "    plt.grid(False) \n",
    "    plt.imshow(train_set.data[i], cmap=plt.cm.binary)\n",
    "    plt.xlabel(f\"{train_set.targets[i]}\")\n",
    "plt.show()"
   ]
  },
  {
   "cell_type": "markdown",
   "metadata": {},
   "source": [
    "### Assignments:\n",
    "1. Implement a 2-layerd MLP(1 hidden layer + 1 output layer). Implement the MLP as a class, as done here: https://pytorch.org/tutorials/beginner/blitz/cifar10_tutorial.html .\n",
    "2. Train it on the training set(see lecture implementation for it) for 100 epochs.\n",
    "3. Plot test- and train accuracy(y-axis) over epochs(x-axis).\n",
    "4. Try using different Hyperparameters, such as number of hidden neurons, learning rate, number of epochs "
   ]
  },
  {
   "cell_type": "code",
   "execution_count": 188,
   "metadata": {},
   "outputs": [],
   "source": [
    "class NeuralNet(torch.nn.Module):\n",
    "    def __init__(self):\n",
    "        super(NeuralNet, self).__init__()\n",
    "        # Your Code here\n",
    "\n",
    "    def forward(self, x):\n",
    "        # Your Code here\n",
    "        return x"
   ]
  },
  {
   "cell_type": "code",
   "execution_count": 189,
   "metadata": {},
   "outputs": [],
   "source": [
    "model = NeuralNet()"
   ]
  },
  {
   "cell_type": "code",
   "execution_count": 190,
   "metadata": {},
   "outputs": [],
   "source": [
    "# 1. Define Loss function, and optimizer\n",
    "loss_fn = # Your Code here\n",
    "optimizer = # Your Code here"
   ]
  },
  {
   "cell_type": "code",
   "execution_count": 191,
   "metadata": {},
   "outputs": [],
   "source": []
  },
  {
   "cell_type": "code",
   "execution_count": null,
   "metadata": {},
   "outputs": [],
   "source": [
    "# 2. Implement the training loop\n",
    "\n",
    "train_accs = [] \n",
    "test_accs = []\n",
    "\n",
    "epochs = 10\n",
    "for epoch in range(epochs):\n",
    "    \n",
    "    # Your Code here\n",
    "    \n",
    "    for i, (imgs, labels) in enumerate(train_loader):\n",
    "        \n",
    "        # Your Code here"
   ]
  },
  {
   "cell_type": "code",
   "execution_count": 1,
   "metadata": {},
   "outputs": [],
   "source": [
    "# 3. Plot train test acc over epochs"
   ]
  },
  {
   "cell_type": "code",
   "execution_count": 2,
   "metadata": {},
   "outputs": [],
   "source": [
    "# 4. Try different hyperparameters out"
   ]
  },
  {
   "cell_type": "code",
   "execution_count": null,
   "metadata": {},
   "outputs": [],
   "source": []
  }
 ],
 "metadata": {
  "kernelspec": {
   "display_name": "Python 3",
   "language": "python",
   "name": "python3"
  },
  "language_info": {
   "codemirror_mode": {
    "name": "ipython",
    "version": 3
   },
   "file_extension": ".py",
   "mimetype": "text/x-python",
   "name": "python",
   "nbconvert_exporter": "python",
   "pygments_lexer": "ipython3",
   "version": "3.8.5"
  }
 },
 "nbformat": 4,
 "nbformat_minor": 4
}
