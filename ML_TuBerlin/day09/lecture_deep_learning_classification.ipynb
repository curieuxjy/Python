{
 "cells": [
  {
   "cell_type": "markdown",
   "metadata": {
    "slideshow": {
     "slide_type": "slide"
    }
   },
   "source": [
    "# Introduction to Artificial Neural Networks: Multi-layer perceptron\n",
    "![NN](resources/real_neurons.jpeg)"
   ]
  },
  {
   "cell_type": "markdown",
   "metadata": {
    "slideshow": {
     "slide_type": "slide"
    }
   },
   "source": [
    "## Agenda\n",
    "1. Neuroscience 101\n",
    "2. Binary Logistic Regression Recap\n",
    "3. Extending Binary Logistic Regression to shallow artificial neural network\n",
    "4. Deep Artificial Neural Networks\n",
    "5. Backpropagation\n",
    "6. Implementation"
   ]
  },
  {
   "cell_type": "markdown",
   "metadata": {
    "slideshow": {
     "slide_type": "slide"
    }
   },
   "source": [
    "# 1. Connection to Neuroscience"
   ]
  },
  {
   "cell_type": "markdown",
   "metadata": {
    "slideshow": {
     "slide_type": "slide"
    }
   },
   "source": [
    "![Neuron](resources/neuron.png)\n",
    "(Figure from https://www.researchgate.net/figure/The-structure-of-a-real-neuron_fig1_266485234)"
   ]
  },
  {
   "cell_type": "markdown",
   "metadata": {
    "slideshow": {
     "slide_type": "slide"
    }
   },
   "source": [
    "# 2. Refresher: Logistic Regression"
   ]
  },
  {
   "cell_type": "markdown",
   "metadata": {
    "slideshow": {
     "slide_type": "slide"
    }
   },
   "source": [
    "#### Remember this model ?\n",
    "---\n",
    "\n",
    "The ***model***: $\\hat{y_{i}} = \\sigma(w_0+w_1 x^{1}_i+...+w_d x^{d}_i)  = \\sigma(\\mathbf{w^Tx_{i}})$\n",
    "\n",
    "$\\hat{y_{i}}$: predicted value for data point $\\mathbf x_{i}$\n",
    "\n",
    "$\\mathbf x_i = \\begin{bmatrix} 1 \\\\ x^{1}_i  \\\\ ... \\\\ x^{d}_i \\end{bmatrix}$: feature vector of data point $i$. $x^{j}_{i}$: feature $j$ of training data point $i$ - ***given***\n",
    "\n",
    "$\\mathbf w = \\begin{bmatrix} w_0  \\\\ ... \\\\ w_{d} \\end{bmatrix}$: weight vector - ***trainable***\n",
    "with \n",
    "\n",
    "$\\sigma:\\mathbb{R}\\rightarrow ]0,1[$, $x\\mapsto\\frac{1}{1+e^{-x}}=\\frac{e^x}{1+e^{x}}$"
   ]
  },
  {
   "cell_type": "markdown",
   "metadata": {
    "slideshow": {
     "slide_type": "slide"
    }
   },
   "source": [
    "## A graphical look on Logistic Regression"
   ]
  },
  {
   "cell_type": "markdown",
   "metadata": {
    "slideshow": {
     "slide_type": "subslide"
    }
   },
   "source": [
    "![LogR](resources/lr.png)"
   ]
  },
  {
   "cell_type": "markdown",
   "metadata": {
    "slideshow": {
     "slide_type": "fragment"
    }
   },
   "source": [
    "- where $f(o)=\\sigma(o)$"
   ]
  },
  {
   "cell_type": "markdown",
   "metadata": {
    "slideshow": {
     "slide_type": "subslide"
    }
   },
   "source": [
    "### Output:\n",
    "#### 1. Weighted sum:\n",
    "$o=w_0+\\sum_{i=1}^{d}w_ix_{i}$.\n",
    "#### 2. Nonlinear activation, e.g. sigmoid function: $f(o)=\\sigma(o)=\\frac{1}{1+\\exp(-o)}$, where $o=\\mathbf w^T \\mathbf x$\n",
    "\"How likely does the data point $\\mathbf{x}$ belong to class 1?\"."
   ]
  },
  {
   "cell_type": "markdown",
   "metadata": {
    "slideshow": {
     "slide_type": "slide"
    }
   },
   "source": [
    "# 3. From Binary Logistic Regression to Multiclass-Logistic Regression - Shallow neural network\n",
    "___"
   ]
  },
  {
   "cell_type": "markdown",
   "metadata": {
    "slideshow": {
     "slide_type": "slide"
    }
   },
   "source": [
    "#### Back to our model\n",
    "![m-classification](resources/shnn.png)"
   ]
  },
  {
   "cell_type": "markdown",
   "metadata": {
    "slideshow": {
     "slide_type": "subslide"
    }
   },
   "source": [
    "### Output layer:\n",
    "#### 1. Weighted sum:\n",
    "$o_i=\\sum_{j=1}^{n}x_jw_{ij}$.\n",
    "#### 2. Nonlinear activation + normalization via Softmax function, $s:=softmax()$:\n",
    "$z_i = softmax(o_i)=p(y_i|\\mathbf{x})=\\frac{\\exp(o_i)}{\\sum_{j=1}^{m}\\exp(o_j)}$. \"How likely does the data point $\\mathbf{x}$ belong to class $y_i$?\""
   ]
  },
  {
   "cell_type": "code",
   "execution_count": 1,
   "metadata": {
    "slideshow": {
     "slide_type": "subslide"
    }
   },
   "outputs": [],
   "source": [
    "import numpy as np\n",
    "import pandas as pd \n",
    "import matplotlib.pyplot as plt\n",
    "from sklearn import datasets "
   ]
  },
  {
   "cell_type": "code",
   "execution_count": 2,
   "metadata": {
    "slideshow": {
     "slide_type": "subslide"
    }
   },
   "outputs": [
    {
     "name": "stdout",
     "output_type": "stream",
     "text": [
      "Unnormalized model outputs: \n",
      "[1.2  0.01 2.1 ]\n",
      "\n",
      "Normalized model outputs: \n",
      "[0.26568721 0.0808277  0.65348509]\n",
      "\n",
      "Sum of normalized outputs: \n",
      "1.0\n",
      "\n"
     ]
    }
   ],
   "source": [
    "### example\n",
    "def softmax(x):\n",
    "    return np.exp(x) / np.sum(np.exp(x))\n",
    "\n",
    "x = np.array([1.2, 0.01, 2.1])\n",
    "output_probs = softmax(x)\n",
    "\n",
    "print(f'Unnormalized model outputs: \\n{x}\\n')\n",
    "print(f'Normalized model outputs: \\n{output_probs}\\n')\n",
    "print(f'Sum of normalized outputs: \\n{output_probs.sum()}\\n')"
   ]
  },
  {
   "cell_type": "markdown",
   "metadata": {
    "slideshow": {
     "slide_type": "subslide"
    }
   },
   "source": [
    "### Prediction\n",
    "- The index of the neuron with the highest value corresponds to the predicted label. In the example code above this would be class with index 2, the last entry in the array"
   ]
  },
  {
   "cell_type": "markdown",
   "metadata": {
    "slideshow": {
     "slide_type": "slide"
    }
   },
   "source": [
    "## 4. Deep Neural Network\n",
    "___"
   ]
  },
  {
   "cell_type": "markdown",
   "metadata": {
    "slideshow": {
     "slide_type": "slide"
    }
   },
   "source": [
    "![nn](resources/nn.png)"
   ]
  },
  {
   "cell_type": "markdown",
   "metadata": {
    "slideshow": {
     "slide_type": "subslide"
    }
   },
   "source": [
    "### Hidden Layer:\n",
    "#### 1. Weighted sum:\n",
    "$z_i=\\sum_{j=1}^{n}x_jw_{ji}$.\n",
    "#### 2. Nonlinear activation, e.g. via sigmoid function, $f(x)=sigmoid(x)=\\sigma(z_i)=\\frac{1}{1+\\exp(-z_i)}$."
   ]
  },
  {
   "cell_type": "markdown",
   "metadata": {
    "slideshow": {
     "slide_type": "subslide"
    }
   },
   "source": [
    "### Output layer:\n",
    "#### 1. Weighted sum:\n",
    "$z_i=\\sum_{j=1}^{n}x_jw_{ji}$.\n",
    "#### 2. Nonlinear activation + normalization via Softmax function, $s():=softmax()$:\n",
    "$softmax(z_i)=p(y_i|\\mathbf{x})=\\frac{\\exp(z_i)}{\\sum_{j=1}^{m}\\exp(z_j)}$. \"How likely does the data point $\\mathbf{x}$ belongs to class $y_i$?\""
   ]
  },
  {
   "cell_type": "markdown",
   "metadata": {
    "slideshow": {
     "slide_type": "subslide"
    }
   },
   "source": [
    "### Prediction\n",
    "- The index of the neuron with the highest value corresponds to the predicted label. In the example code above this would be class with index 2, the last entry in the array"
   ]
  },
  {
   "cell_type": "markdown",
   "metadata": {
    "slideshow": {
     "slide_type": "subslide"
    }
   },
   "source": [
    "## Representing layers as matrices:\n",
    "![](resources/matrices.png)"
   ]
  },
  {
   "cell_type": "markdown",
   "metadata": {
    "slideshow": {
     "slide_type": "subslide"
    }
   },
   "source": [
    "## Veeeery deep networks and their feature representation\n",
    "![](resources/dnn_features.png)"
   ]
  },
  {
   "cell_type": "markdown",
   "metadata": {
    "slideshow": {
     "slide_type": "subslide"
    }
   },
   "source": [
    "## Why use non-linearities ?\n",
    "![](resources/lin_vs_nonlin.png)"
   ]
  },
  {
   "cell_type": "markdown",
   "metadata": {
    "slideshow": {
     "slide_type": "subslide"
    }
   },
   "source": [
    "### Types of non-linearites and the linear function\n",
    "![](resources/non_linearities.png)"
   ]
  },
  {
   "cell_type": "markdown",
   "metadata": {
    "slideshow": {
     "slide_type": "slide"
    }
   },
   "source": [
    "# 5. Training Neural Networks via Backpropagation algorithm"
   ]
  },
  {
   "cell_type": "markdown",
   "metadata": {
    "slideshow": {
     "slide_type": "fragment"
    }
   },
   "source": [
    "### Backpropagation algorithm outline:\n",
    "#### 1. Forward pass:\n",
    "    1.1 Compute model output\n",
    "    1.2 Evaluate the loss\n",
    "\n",
    "#### 2. Backward pass:\n",
    "    2.1 Compute gradients wrt. each weight via chain-rule\n",
    "    2.2 Apply gradient descent or any other optimization algorithm in order to update weights correspondingly"
   ]
  },
  {
   "cell_type": "markdown",
   "metadata": {
    "slideshow": {
     "slide_type": "slide"
    }
   },
   "source": [
    "### 1.1 Compute model output:\n",
    "Simply multiply input features layer by layer until output layer is evaluated"
   ]
  },
  {
   "cell_type": "markdown",
   "metadata": {
    "slideshow": {
     "slide_type": "slide"
    }
   },
   "source": [
    "### 1.2 Evaluate the loss:\n",
    "- A suitable and often used loss function for classification and softmax outputs is the negative log likelihood. For a dataset with n data points, it looks as follows:\n",
    "$loss(\\mathbf w)=J(\\mathbf w)=NLL(\\mathbf w)=-\\sum_{i=1}^{N}\\log(\\hat{y_i}^j)$, where $\\hat{y_i}^j$ is the softmax value, or our models prediction for the input i belonging assigned to class j, when the true label is of class j. So if the label is 2, and the output value of our model at index 1, we have $-\\log(1)=0$, or loss of zero -> model does perfect prediction. The closer this value gets to zero, the higher our loss gets. See negative log function below for clarification."
   ]
  },
  {
   "cell_type": "code",
   "execution_count": 3,
   "metadata": {
    "slideshow": {
     "slide_type": "slide"
    }
   },
   "outputs": [
    {
     "data": {
      "image/png": "[encoded data removed]",
      "text/plain": [
       "<Figure size 432x288 with 1 Axes>"
      ]
     },
     "metadata": {
      "needs_background": "light"
     },
     "output_type": "display_data"
    }
   ],
   "source": [
    "#example\n",
    "x = np.linspace(0.1,10,100)\n",
    "plt.plot(x, -np.log(x))\n",
    "plt.xlabel(\"$\\hat{y}$\")\n",
    "plt.ylabel(\"$-log(\\hat{y})$\");"
   ]
  },
  {
   "cell_type": "markdown",
   "metadata": {
    "slideshow": {
     "slide_type": "slide"
    }
   },
   "source": [
    "### 2.1 Computing gradients via chain-rule:\n",
    "#### Chain rule: \n",
    "Let $f(z)$ be a function that takes x as an argument, and $z:=g(x)$ be a function itself that depends on the variable $x$.\n",
    "The derivative of f with respect to x gets computed as follows: $\\frac{\\partial f(z)}{\\partial x}=\\frac{\\partial f}{\\partial z}\\frac{\\partial z}{\\partial x}$."
   ]
  },
  {
   "cell_type": "markdown",
   "metadata": {
    "slideshow": {
     "slide_type": "slide"
    }
   },
   "source": [
    "#### Applied chain-rule\n",
    "![chain rule](resources/chain_rule.png)"
   ]
  },
  {
   "cell_type": "markdown",
   "metadata": {
    "slideshow": {
     "slide_type": "slide"
    }
   },
   "source": [
    "### Chain rule in backpropagation:\n",
    "![backprop](resources/backpropa.png)"
   ]
  },
  {
   "cell_type": "markdown",
   "metadata": {
    "slideshow": {
     "slide_type": "slide"
    }
   },
   "source": [
    "### 2.2 Apply weight updates via Stochastic Gradient Descent\n",
    "- Update each weight value $\\mathbf w$ as follows:\n",
    "$\\mathbf w^{t+1}=\\mathbf w^{t}-\\alpha\\nabla_{\\mathbf w}J_B(\\mathbf w^t)$, where $B\\subseteq D$ and $J_B(\\mathbf w^t)=-\\frac{1}{N_B}\\sum_{i=1}^{B}\\log(\\hat{y_i})$, and $N_B$ is the number of data points in $B$."
   ]
  },
  {
   "cell_type": "markdown",
   "metadata": {
    "slideshow": {
     "slide_type": "slide"
    }
   },
   "source": [
    "#### Gradient Descent:\n",
    "---\n",
    "- Update each weight value $\\mathbf w$ as follows:\n",
    "$\\mathbf w^{t+1}=\\mathbf w^{t}-\\alpha\\nabla_{\\mathbf w}J(\\mathbf w^t)$, $J(\\mathbf w^t)$\n",
    "\n",
    "#### Stochastic Gradient Descent:\n",
    "---\n",
    "- Update each weight value $\\mathbf w$ as follows:\n",
    "For each batch $B\\subseteq D$, do:\n",
    "- $\\mathbf w^{t+1}=\\mathbf w^{t}-\\alpha\\nabla_{\\mathbf w}J_B(\\mathbf w^t)$"
   ]
  },
  {
   "cell_type": "markdown",
   "metadata": {
    "slideshow": {
     "slide_type": "slide"
    }
   },
   "source": [
    "### 2.3 Stochastic Gradient Descent vs. Gradient Descent\n",
    "![](resources/sgd.png)\n",
    "Source: https://www.researchgate.net/figure/Stochastic-gradient-descent-compared-with-gradient-descent_fig3_328106221"
   ]
  },
  {
   "cell_type": "markdown",
   "metadata": {
    "slideshow": {
     "slide_type": "slide"
    }
   },
   "source": [
    "## Trick for better convergence: \n",
    "Decrease the learning rate over epochs, e.g. $\\alpha^{t+1} = \\frac{\\alpha^1}{1+\\gamma n}$, where $n$ is the current epoch, $\\gamma$ is a decay parameter. "
   ]
  },
  {
   "cell_type": "markdown",
   "metadata": {
    "slideshow": {
     "slide_type": "slide"
    }
   },
   "source": [
    "# 6. PyTorch implementation"
   ]
  },
  {
   "cell_type": "markdown",
   "metadata": {
    "slideshow": {
     "slide_type": "subslide"
    }
   },
   "source": [
    "### 0. Do the imports"
   ]
  },
  {
   "cell_type": "code",
   "execution_count": 4,
   "metadata": {},
   "outputs": [],
   "source": [
    "import torch\n",
    "import torchvision "
   ]
  },
  {
   "cell_type": "markdown",
   "metadata": {
    "slideshow": {
     "slide_type": "subslide"
    }
   },
   "source": [
    "### 1. Load and preprocess the data\n",
    "PyTorch Neural Networks can only work on Torch-Tensor objects. These tensors need to be provided to the neural network in the following way:\n",
    "\n",
    "1. Create a PyTorch Dataset object\n",
    "2. Create a PyTorch Dataloader object\n",
    "\n",
    "Look up these resources on the topic:\n",
    "- https://pytorch.org/docs/stable/data.html\n",
    "- https://pytorch.org/tutorials/recipes/recipes/custom_dataset_transforms_loader.html"
   ]
  },
  {
   "cell_type": "code",
   "execution_count": 5,
   "metadata": {
    "slideshow": {
     "slide_type": "subslide"
    }
   },
   "outputs": [],
   "source": [
    "transforms = torchvision.transforms.Compose([torchvision.transforms.ToTensor()])\n",
    "\n",
    "train_set = torchvision.datasets.FashionMNIST(\"./data\", download=True,\n",
    "                                              train=True, transform=transforms)\n",
    "test_set = torchvision.datasets.FashionMNIST(\"./data\", download=False,\n",
    "                                             train=False, transform=transforms)\n",
    "\n",
    "# DataLoader: Special PyTorch object that feeds the PyTorch Neural Network with data \n",
    "batch_size = 32\n",
    "\n",
    "trainloader = torch.utils.data.DataLoader(train_set, \n",
    "                                          batch_size=batch_size, shuffle=True)\n",
    "\n",
    "testloader = torch.utils.data.DataLoader(test_set, \n",
    "                                         batch_size=batch_size, shuffle=True)\n",
    "\n",
    "class_names = [\"T-shirt/Top\", \"Trouser\", \"Pullover\",\n",
    "               \"Dress\", \"Coat\",\"Sandal\", \"Shirt\",\n",
    "               \"Sneaker\", \"Bag\", \"Ankle Boot\"]"
   ]
  },
  {
   "cell_type": "code",
   "execution_count": 6,
   "metadata": {},
   "outputs": [
    {
     "data": {
      "text/plain": [
       "torchvision.datasets.mnist.FashionMNIST"
      ]
     },
     "execution_count": 6,
     "metadata": {},
     "output_type": "execute_result"
    }
   ],
   "source": [
    "type(train_set)"
   ]
  },
  {
   "cell_type": "code",
   "execution_count": 7,
   "metadata": {},
   "outputs": [
    {
     "data": {
      "text/plain": [
       "<torch.utils.data.dataloader.DataLoader at 0x192924103c8>"
      ]
     },
     "execution_count": 7,
     "metadata": {},
     "output_type": "execute_result"
    }
   ],
   "source": [
    "testloader"
   ]
  },
  {
   "cell_type": "code",
   "execution_count": 9,
   "metadata": {
    "slideshow": {
     "slide_type": "slide"
    }
   },
   "outputs": [
    {
     "data": {
      "image/png": "[encoded data removed]",
      "text/plain": [
       "<Figure size 504x504 with 25 Axes>"
      ]
     },
     "metadata": {},
     "output_type": "display_data"
    }
   ],
   "source": [
    "plt.figure(figsize=(7,7))\n",
    "for i in range(25):\n",
    "    plt.subplot(5,5,i+1)\n",
    "    plt.xticks([])\n",
    "    plt.yticks([])\n",
    "    plt.grid(False) \n",
    "    plt.imshow(train_set.data[i], cmap=plt.cm.binary)\n",
    "    plt.xlabel(class_names[train_set.targets[i]])\n",
    "plt.show()"
   ]
  },
  {
   "cell_type": "code",
   "execution_count": 10,
   "metadata": {
    "slideshow": {
     "slide_type": "subslide"
    }
   },
   "outputs": [
    {
     "data": {
      "text/plain": [
       "torch.Size([60000, 28, 28])"
      ]
     },
     "execution_count": 10,
     "metadata": {},
     "output_type": "execute_result"
    }
   ],
   "source": [
    "train_set.data.shape"
   ]
  },
  {
   "cell_type": "code",
   "execution_count": 11,
   "metadata": {},
   "outputs": [
    {
     "data": {
      "text/plain": [
       "torch.Size([60000])"
      ]
     },
     "execution_count": 11,
     "metadata": {},
     "output_type": "execute_result"
    }
   ],
   "source": [
    "train_set.targets.shape"
   ]
  },
  {
   "cell_type": "markdown",
   "metadata": {
    "slideshow": {
     "slide_type": "subslide"
    }
   },
   "source": [
    "### Creating PyTorch dataset from NumPy dataset\n",
    "More info on the PyTorch data API and how to create custom Dataset classes: \n",
    "- https://pytorch.org/docs/stable/data.html\n",
    "- https://pytorch.org/tutorials/recipes/recipes/custom_dataset_transforms_loader.html"
   ]
  },
  {
   "cell_type": "code",
   "execution_count": 12,
   "metadata": {},
   "outputs": [],
   "source": [
    "numpy_data = train_set.data.numpy()\n",
    "numpy_targets = train_set.targets.numpy()"
   ]
  },
  {
   "cell_type": "code",
   "execution_count": 13,
   "metadata": {},
   "outputs": [
    {
     "data": {
      "text/plain": [
       "array([9, 0, 0, ..., 3, 0, 5], dtype=int64)"
      ]
     },
     "execution_count": 13,
     "metadata": {},
     "output_type": "execute_result"
    }
   ],
   "source": [
    "numpy_targets"
   ]
  },
  {
   "cell_type": "code",
   "execution_count": 14,
   "metadata": {},
   "outputs": [
    {
     "data": {
      "text/plain": [
       "(numpy.ndarray, numpy.ndarray)"
      ]
     },
     "execution_count": 14,
     "metadata": {},
     "output_type": "execute_result"
    }
   ],
   "source": [
    "type(numpy_data), type(numpy_targets)"
   ]
  },
  {
   "cell_type": "markdown",
   "metadata": {
    "slideshow": {
     "slide_type": "subslide"
    }
   },
   "source": [
    "### Use custom dataset in PyTorch \n",
    "1. Convert numpy arrays to PyTorch tensors\n",
    "2. Use Pytorch's Dataset classes, e.g. TensorDataset class: https://pytorch.org/docs/stable/data.html#torch.utils.data.TensorDataset\n",
    "3. Create a PyTorch dataloader object using the PyTorch dataset object:\n",
    "https://pytorch.org/docs/stable/data.html#torch.utils.data.DataLoader"
   ]
  },
  {
   "cell_type": "code",
   "execution_count": 15,
   "metadata": {},
   "outputs": [],
   "source": [
    "# Convert numpy arrays to torch tensors. Target tensor should be of type Long!\n",
    "X_tensor = torch.Tensor(numpy_data)\n",
    "y_tensor = torch.LongTensor(numpy_targets)"
   ]
  },
  {
   "cell_type": "code",
   "execution_count": 16,
   "metadata": {},
   "outputs": [
    {
     "data": {
      "text/plain": [
       "tensor([9, 0, 0,  ..., 3, 0, 5])"
      ]
     },
     "execution_count": 16,
     "metadata": {},
     "output_type": "execute_result"
    }
   ],
   "source": [
    "y_tensor"
   ]
  },
  {
   "cell_type": "code",
   "execution_count": 17,
   "metadata": {},
   "outputs": [
    {
     "data": {
      "text/plain": [
       "(torch.Size([60000, 28, 28]), torch.Size([60000]))"
      ]
     },
     "execution_count": 17,
     "metadata": {},
     "output_type": "execute_result"
    }
   ],
   "source": [
    "X_tensor.shape, y_tensor.shape"
   ]
  },
  {
   "cell_type": "code",
   "execution_count": 18,
   "metadata": {},
   "outputs": [],
   "source": [
    "# Create a PyTorch TensorDataset object\n",
    "dataset = torch.utils.data.TensorDataset(X_tensor, y_tensor)"
   ]
  },
  {
   "cell_type": "code",
   "execution_count": 19,
   "metadata": {},
   "outputs": [],
   "source": [
    "# 3. Create a PyTorch dataloader\n",
    "dataloader = torch.utils.data.DataLoader(dataset, batch_size=32, shuffle=True)"
   ]
  },
  {
   "cell_type": "markdown",
   "metadata": {
    "slideshow": {
     "slide_type": "subslide"
    }
   },
   "source": [
    "### 2. Implement the model\n",
    "There are two main ways to implement a Neural Network in PyTorch:\n",
    "1. Using the torch.nn.Sequential class\n",
    "2. Implementing a class and creating an object of it(done in homework)"
   ]
  },
  {
   "cell_type": "code",
   "execution_count": 20,
   "metadata": {},
   "outputs": [],
   "source": [
    "# Way 1: Straight Forward\n",
    "model = torch.nn.Sequential(\n",
    "                \n",
    "                # Input layer of size 784\n",
    "                torch.nn.Flatten(),\n",
    "    \n",
    "                # 1st linear layer 28*28=784\n",
    "                torch.nn.Linear(in_features=28*28, out_features=256),\n",
    "    \n",
    "                # Nonlinearity\n",
    "                torch.nn.Sigmoid(),\n",
    "    \n",
    "                # 2nd linear layer\n",
    "                torch.nn.Linear(in_features=256, out_features=10)\n",
    "    \n",
    "                )"
   ]
  },
  {
   "cell_type": "code",
   "execution_count": 21,
   "metadata": {
    "slideshow": {
     "slide_type": "slide"
    }
   },
   "outputs": [
    {
     "data": {
      "text/plain": [
       "Sequential(\n",
       "  (0): Flatten(start_dim=1, end_dim=-1)\n",
       "  (1): Linear(in_features=784, out_features=256, bias=True)\n",
       "  (2): Sigmoid()\n",
       "  (3): Linear(in_features=256, out_features=10, bias=True)\n",
       ")"
      ]
     },
     "execution_count": 21,
     "metadata": {},
     "output_type": "execute_result"
    }
   ],
   "source": [
    "model"
   ]
  },
  {
   "cell_type": "markdown",
   "metadata": {
    "slideshow": {
     "slide_type": "subslide"
    }
   },
   "source": [
    "### 3. Train the model"
   ]
  },
  {
   "cell_type": "code",
   "execution_count": 22,
   "metadata": {},
   "outputs": [
    {
     "data": {
      "text/plain": [
       "1875"
      ]
     },
     "execution_count": 22,
     "metadata": {},
     "output_type": "execute_result"
    }
   ],
   "source": [
    "len(trainloader)"
   ]
  },
  {
   "cell_type": "code",
   "execution_count": 23,
   "metadata": {
    "slideshow": {
     "slide_type": "subslide"
    }
   },
   "outputs": [],
   "source": [
    "# 1. Define Loss function, and optimizer\n",
    "loss_fn = torch.nn.CrossEntropyLoss()\n",
    "optimizer = torch.optim.SGD(params=model.parameters(), lr=0.01)"
   ]
  },
  {
   "cell_type": "code",
   "execution_count": 24,
   "metadata": {
    "slideshow": {
     "slide_type": "-"
    }
   },
   "outputs": [
    {
     "name": "stdout",
     "output_type": "stream",
     "text": [
      "Epoch: 0, batch: 499, loss: 1.057442893385887\n",
      "Epoch: 0, batch: 999, loss: 0.7225732306838035\n",
      "Epoch: 0, batch: 1499, loss: 0.6721805026531219\n",
      "Epoch: 1, batch: 499, loss: 0.6487623817324638\n",
      "Epoch: 1, batch: 999, loss: 0.6246974156498909\n",
      "Epoch: 1, batch: 1499, loss: 0.6253996210098267\n",
      "Epoch: 2, batch: 499, loss: 0.6063706571161747\n",
      "Epoch: 2, batch: 999, loss: 0.6000384761691093\n",
      "Epoch: 2, batch: 1499, loss: 0.6099150370359421\n",
      "Epoch: 3, batch: 499, loss: 0.5958139449357986\n",
      "Epoch: 3, batch: 999, loss: 0.5882540727257729\n",
      "Epoch: 3, batch: 1499, loss: 0.5882588378190994\n",
      "Epoch: 4, batch: 499, loss: 0.6006492291688919\n",
      "Epoch: 4, batch: 999, loss: 0.5791415562927723\n",
      "Epoch: 4, batch: 1499, loss: 0.5723949427902698\n"
     ]
    }
   ],
   "source": [
    "# 2. Implement the training loop\n",
    "epochs = 5\n",
    "\n",
    "for epoch in range(epochs):\n",
    "    \n",
    "    # Training statistic that tracks progress\n",
    "    running_loss = 0.0\n",
    "    \n",
    "    for i, (imgs, labels) in enumerate(dataloader):\n",
    "        \n",
    "        # zeor the parameter gradients of last loop\n",
    "        optimizer.zero_grad()\n",
    "        \n",
    "        # Logits are essentially the predictions before converting them to probability scores(e.g. through SoftMax)\n",
    "        logits = model(imgs)\n",
    "        loss = loss_fn(logits, labels)\n",
    "        \n",
    "        # Compute Gradients\n",
    "        loss.backward()\n",
    "        \n",
    "        # Apply Gradient Descent\n",
    "        optimizer.step()\n",
    "        \n",
    "        # print statistics\n",
    "        running_loss += loss.item()\n",
    "        \n",
    "        if i % 500 == 499:\n",
    "            print(f'Epoch: {epoch}, batch: {i}, loss: {running_loss / 500}')\n",
    "            running_loss = 0.0"
   ]
  },
  {
   "cell_type": "markdown",
   "metadata": {
    "slideshow": {
     "slide_type": "subslide"
    }
   },
   "source": [
    "### 4. Evaluate the model"
   ]
  },
  {
   "cell_type": "code",
   "execution_count": 25,
   "metadata": {},
   "outputs": [
    {
     "name": "stdout",
     "output_type": "stream",
     "text": [
      "Test accuracy : 64.39%\n"
     ]
    }
   ],
   "source": [
    "# Test loop\n",
    "# Put model in evaluation mode\n",
    "model.eval()\n",
    "total_correct = 0.0\n",
    "\n",
    "for imgs, labels in testloader: \n",
    "    logits =  model(imgs)\n",
    "    \n",
    "    # get predictions\n",
    "    _, preds = logits.max(dim=1)\n",
    "    \n",
    "    # Compute sum of correctly classified points for this batch\n",
    "    correctly_classified = (preds == labels).sum().numpy()\n",
    "    \n",
    "    # add number of correctly classified points of this batch to total number\n",
    "    total_correct += correctly_classified\n",
    "    \n",
    "# Compute overall accuracy\n",
    "test_acc = total_correct / len(testloader.dataset)\n",
    " \n",
    "print(f'Test accuracy : {test_acc*100}%')"
   ]
  }
 ],
 "metadata": {
  "celltoolbar": "Slideshow",
  "kernelspec": {
   "display_name": "Python 3",
   "language": "python",
   "name": "python3"
  },
  "language_info": {
   "codemirror_mode": {
    "name": "ipython",
    "version": 3
   },
   "file_extension": ".py",
   "mimetype": "text/x-python",
   "name": "python",
   "nbconvert_exporter": "python",
   "pygments_lexer": "ipython3",
   "version": "3.7.4"
  }
 },
 "nbformat": 4,
 "nbformat_minor": 4
}
