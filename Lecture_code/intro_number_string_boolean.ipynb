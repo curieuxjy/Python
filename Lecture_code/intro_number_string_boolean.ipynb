{
 "cells": [
  {
   "cell_type": "markdown",
   "metadata": {
    "colab_type": "text",
    "id": "bHUnv9MB2sKU"
   },
   "source": [
    "# About Python\n",
    "\n",
    "\n",
    "\n",
    "![파이썬로고](https://www.python.org/static/opengraph-icon-200x200.png)\n",
    "![귀도 반 로섬](https://cms.qz.com/wp-content/uploads/2019/05/Guido-van-Rossum-e1558635088256.jpg?quality=75&strip=all&w=410&h=231)\n",
    "\n",
    "* 1990년 암스테르담의 귀도 반 로섬이 개발한 인터프리터 언어\n",
    "    \n",
    "    *인터프리터 언어 : 한 줄씩 소스 코드를 해석해서 그때그때 실행해 결과를 바로 확인할 수 있는 언어\n",
    "\n",
    "* 좋아하는 코미디 쇼인 '몬티 파이썬의 날아다니는 서커스(Monty Python's Flying Circus)에서 따온 이름\n",
    "\n",
    "* 구글에서 만들어진 소프트 웨어의 50%이상\n",
    "\n",
    "![dropboxlogo](https://cdn.iconscout.com/icon/free/png-256/dropbox-159-675812.png)\n",
    "![django](http://schoolofweb.net/media/thumbnail/django-thumbnail-300x300.png)\n",
    "\n",
    "\n",
    "* 파이썬 프로그램은 공동 작업과 유지 보수가 매우 쉽고 편하다. 그래서 이미 다른 언어들로 작성된 많은 프로그램들과 모듈들이 파이썬으로 재구성\n",
    "\n",
    "---\n",
    "\n",
    "# Python의 특징\n",
    "\n",
    "1. 인간다운 언어\n",
    "\n",
    "    * 사람이 생각하는 방식을 그대로 표현할 수 있는 언어\n",
    "```\n",
    "        if 4 in [1, 2, 3, 4]\n",
    "            print(\"4가 있습니다.\")\n",
    "        ```\n",
    "\n",
    "\n",
    "2. 문법이 쉬움\n",
    "\n",
    "    * 유명한 프로그래머인 에릭 레이먼드(Eric Raymond)는 파이썬을 공부한 지 단 하루 만에 자신이 원하는 프로그램을 작성할 수 있었다고 한다.\n",
    "    \n",
    "3.  무료이지만 강력함\n",
    "\n",
    "    * 언제 어디서든 다운로드 할 수 있고 만들고자하는 프로그램들의 대부분을 파이썬으로 만들 수 있다. \n",
    "    * 물론 시스템 프로그래밍이나 하드웨어 제어와 같은 매우 복잡하고 반복 연산이 많은 프로그램은 파이썬과 어울리지 않는다. BUT 다른 언어로 만든 프로그램을 파이썬 프로그램에 포함시킬 수 있다.\n",
    "\n",
    "    * 파이썬은 C와 찰떡궁합?!\n",
    "\n",
    "4. 간결함\n",
    "\n",
    "    * 가장 좋은 방법 1가지만 이용하는 것을 선호 = 간결함의 철학\n",
    "    * 문법에도 적용되어 파이썬 프로그래밍하는 사람들은 잘 정리되어 있는소스 코드를 볼 수 있다. 다른사람이 작업한 소스코드도 한눈에  이해하기 쉽기 때문에 공동 작업과 유지 보수가 아주 쉽고 편하다.\n",
    "    * 다른 언어들에서 늘 보게되는 단락을 구분하는 괄호(`{}`) 문자가 보이지 않는 것을 확인할 수 있다. \n",
    "  \n",
    "    * 줄을 참 잘 맞춘 코드라는 것도 알 수 있다.(파이썬 코드는 줄을 맞추지 않으면 실행이 되지 않는다.)\n",
    "\n",
    "    \n",
    "\n"
   ]
  },
  {
   "cell_type": "code",
   "execution_count": 2,
   "metadata": {
    "colab": {
     "base_uri": "https://localhost:8080/",
     "height": 87
    },
    "colab_type": "code",
    "executionInfo": {
     "elapsed": 2636,
     "status": "ok",
     "timestamp": 1575185698299,
     "user": {
      "displayName": "Jungyeon Lee",
      "photoUrl": "",
      "userId": "02510691567880552061"
     },
     "user_tz": -540
    },
    "id": "DOaV5l0Ut69o",
    "outputId": "e595e2ea-70d4-4b1c-cef0-6c2ffdc6f9d8"
   },
   "outputs": [
    {
     "name": "stdout",
     "output_type": "stream",
     "text": [
      "python need interpreter\n",
      "  perl need interpreter\n",
      "     c need complier\n",
      "  java need complier\n"
     ]
    }
   ],
   "source": [
    " # simple.py\n",
    "languages = ['python','perl', 'c', 'java']\n",
    "\n",
    "for lang in languages:\n",
    "    if lang in ['python', 'perl']:\n",
    "        print(\"%6s need interpreter\" % lang)\n",
    "    elif lang in ['c', 'java']:\n",
    "        print(\"%6s need complier\" % lang)\n",
    "    else:\n",
    "        print(\"should not reach here\")"
   ]
  },
  {
   "cell_type": "markdown",
   "metadata": {
    "colab_type": "text",
    "id": "9O8bO9VIuBks"
   },
   "source": [
    "5. 개발 속도 빠름\n",
    "\n",
    "    \"Life is too short, You need Python.\"\n",
    "\n"
   ]
  },
  {
   "cell_type": "markdown",
   "metadata": {
    "colab_type": "text",
    "id": "SvObXYz2VSZJ"
   },
   "source": [
    "---\n",
    "# 우리들의 실습환경!\n",
    "# Start at Google Colaboratory\n",
    "\n",
    "3분 길이의 동영상을 통해 Colaboratory의 주요 기능을 간단하게 알아보실 수 있습니다."
   ]
  },
  {
   "cell_type": "code",
   "execution_count": 2,
   "metadata": {
    "ExecuteTime": {
     "end_time": "2020-07-02T08:27:25.054143Z",
     "start_time": "2020-07-02T08:27:24.611143Z"
    },
    "colab": {
     "base_uri": "https://localhost:8080/",
     "height": 419
    },
    "colab_type": "code",
    "executionInfo": {
     "elapsed": 7931,
     "status": "ok",
     "timestamp": 1575185703620,
     "user": {
      "displayName": "Jungyeon Lee",
      "photoUrl": "",
      "userId": "02510691567880552061"
     },
     "user_tz": -540
    },
    "id": "otZ_FfmKJAyF",
    "outputId": "78f1c1b0-8dd8-40fb-aa96-c52474ae0ede"
   },
   "outputs": [
    {
     "data": {
      "image/jpeg": "[encoded data removed]",
      "text/html": [
       "\n",
       "        <iframe\n",
       "            width=\"600\"\n",
       "            height=\"400\"\n",
       "            src=\"https://www.youtube.com/embed/inN8seMm7UI\"\n",
       "            frameborder=\"0\"\n",
       "            allowfullscreen\n",
       "        ></iframe>\n",
       "        "
      ],
      "text/plain": [
       "<IPython.lib.display.YouTubeVideo at 0x1b9e3003088>"
      ]
     },
     "execution_count": 2,
     "metadata": {},
     "output_type": "execute_result"
    }
   ],
   "source": [
    "from IPython.display import YouTubeVideo\n",
    "YouTubeVideo('inN8seMm7UI', width=600, height=400)"
   ]
  },
  {
   "cell_type": "markdown",
   "metadata": {
    "colab_type": "text",
    "id": "z7V3wCy2WBVH"
   },
   "source": [
    "Google Colaboratory에서 Python 버전을 확인해보겠습니다."
   ]
  },
  {
   "cell_type": "code",
   "execution_count": 3,
   "metadata": {
    "ExecuteTime": {
     "end_time": "2020-07-02T08:26:46.899030Z",
     "start_time": "2020-07-02T08:26:46.888064Z"
    },
    "colab": {
     "base_uri": "https://localhost:8080/",
     "height": 34
    },
    "colab_type": "code",
    "executionInfo": {
     "elapsed": 7916,
     "status": "ok",
     "timestamp": 1575185703625,
     "user": {
      "displayName": "Jungyeon Lee",
      "photoUrl": "",
      "userId": "02510691567880552061"
     },
     "user_tz": -540
    },
    "id": "_RFCB7XWU15M",
    "outputId": "1e2d0229-2970-494f-939b-b6a7cd2f2623"
   },
   "outputs": [
    {
     "data": {
      "text/plain": [
       "sys.version_info(major=3, minor=7, micro=4, releaselevel='final', serial=0)"
      ]
     },
     "execution_count": 3,
     "metadata": {},
     "output_type": "execute_result"
    }
   ],
   "source": [
    "import sys\n",
    "sys.version_info"
   ]
  },
  {
   "cell_type": "code",
   "execution_count": 5,
   "metadata": {},
   "outputs": [
    {
     "name": "stdout",
     "output_type": "stream",
     "text": [
      "Python 3.7.4\n"
     ]
    }
   ],
   "source": [
    "!python --version"
   ]
  },
  {
   "cell_type": "markdown",
   "metadata": {
    "colab_type": "text",
    "id": "PuNNSaSdu9nT"
   },
   "source": [
    "# print() 와 input()\n",
    "* print()는 파이썬 프로그래밍에서 원하는 것을 찍어내고 싶을 때 사용\n",
    "* input()은 어떤 값을 받아서 변수에 저장하고 싶을 때 사용"
   ]
  },
  {
   "cell_type": "code",
   "execution_count": 6,
   "metadata": {
    "colab": {
     "base_uri": "https://localhost:8080/",
     "height": 34
    },
    "colab_type": "code",
    "executionInfo": {
     "elapsed": 7903,
     "status": "ok",
     "timestamp": 1575185703627,
     "user": {
      "displayName": "Jungyeon Lee",
      "photoUrl": "",
      "userId": "02510691567880552061"
     },
     "user_tz": -540
    },
    "id": "V0IW1OivvxDy",
    "outputId": "ff94382c-31e1-4197-b5cf-80dbf9b4f98b"
   },
   "outputs": [
    {
     "name": "stdout",
     "output_type": "stream",
     "text": [
      "Hello World!\n"
     ]
    }
   ],
   "source": [
    "print(\"Hello World!\")"
   ]
  },
  {
   "cell_type": "code",
   "execution_count": 7,
   "metadata": {
    "colab": {
     "base_uri": "https://localhost:8080/",
     "height": 34
    },
    "colab_type": "code",
    "executionInfo": {
     "elapsed": 27887,
     "status": "ok",
     "timestamp": 1575185723629,
     "user": {
      "displayName": "Jungyeon Lee",
      "photoUrl": "",
      "userId": "02510691567880552061"
     },
     "user_tz": -540
    },
    "id": "Q_-kVHgfv5zR",
    "outputId": "c6294f39-3f5f-41c9-a883-8708519c62ed"
   },
   "outputs": [
    {
     "name": "stdin",
     "output_type": "stream",
     "text": [
      "원하는 숫자를 써주세요. 5\n"
     ]
    }
   ],
   "source": [
    "a = input(\"원하는 숫자를 써주세요.\")"
   ]
  },
  {
   "cell_type": "code",
   "execution_count": 8,
   "metadata": {
    "colab": {
     "base_uri": "https://localhost:8080/",
     "height": 34
    },
    "colab_type": "code",
    "executionInfo": {
     "elapsed": 27866,
     "status": "ok",
     "timestamp": 1575185723631,
     "user": {
      "displayName": "Jungyeon Lee",
      "photoUrl": "",
      "userId": "02510691567880552061"
     },
     "user_tz": -540
    },
    "id": "Vxgk9zosv6aD",
    "outputId": "be3482b4-87dc-4355-b8e5-1d7964fb09b0"
   },
   "outputs": [
    {
     "name": "stdout",
     "output_type": "stream",
     "text": [
      "5\n"
     ]
    }
   ],
   "source": [
    "print(a)"
   ]
  },
  {
   "cell_type": "markdown",
   "metadata": {
    "colab_type": "text",
    "id": "y_xSrQMkRhgy"
   },
   "source": [
    "#### 실습시 유용한 `whos`와 `who`!\n",
    "* `who`를 쓰면 파이썬 파일에서 쓰이고 있는 변수 이름 목록이 나온다.\n",
    "* `whos`를 쓰면 변수, 변수에 따른 여러 속성들을 보여준다.\n",
    "\n",
    "\n",
    "\n",
    "```\n",
    "who\n",
    "```\n",
    "\n",
    "output \n",
    "```\n",
    "a\n",
    "```\n",
    "whos도 해봅시다.\n",
    "```\n",
    "whos\n",
    "```\n",
    "output\n",
    "```\n",
    "Variable   Type    Data/Info\n",
    "----------------------------\n",
    "a          str     5\n",
    "```\n",
    "아래의 코드창에서 연습해보세요.\n"
   ]
  },
  {
   "cell_type": "code",
   "execution_count": null,
   "metadata": {
    "colab": {},
    "colab_type": "code",
    "id": "lM5AFU3nRoTR"
   },
   "outputs": [],
   "source": []
  },
  {
   "cell_type": "markdown",
   "metadata": {
    "colab_type": "text",
    "id": "wh8tyk6VrTt1"
   },
   "source": [
    "---\n",
    "# Data Type _ Number"
   ]
  },
  {
   "cell_type": "markdown",
   "metadata": {
    "colab_type": "text",
    "id": "skeuGGZ2KJXd"
   },
   "source": [
    "숫자형이란 숫자형태로 이루어진 자료형이다. \n",
    "\n",
    "Types | Python Examples\n",
    "--- | ---\n",
    "정수 Integer | 123, -345, 0\n",
    "실수 Float | 10.21, -19.97, 0.6e20\n",
    "복소수 Complex number | 1 + 2j, -10j\n",
    "8진수 Octal | 0o10, 0o25\n",
    "16진수 Hexadecimal | 0x5A, 0xFF\n",
    "\n",
    "## 정수(Integer)\n",
    "\n",
    "정수형이란 말 그대로 정수를 뜻하는 자료형을 말한다. \n",
    "```\n",
    "a = 123\n",
    "b = -178\n",
    "c = 0\n",
    "```   "
   ]
  },
  {
   "cell_type": "code",
   "execution_count": null,
   "metadata": {
    "colab": {},
    "colab_type": "code",
    "id": "2PKNC9olMBQF"
   },
   "outputs": [],
   "source": [
    "a = \n",
    "b = \n",
    "c = \n",
    "print(a, b, c)"
   ]
  },
  {
   "cell_type": "markdown",
   "metadata": {
    "colab_type": "text",
    "id": "Lzg_z5CRMFWP"
   },
   "source": [
    "## 실수(float)\n",
    "\n",
    "실수형은 소수점이 포함된 숫자를 말한다. \n",
    "```\n",
    "a = 1.2\n",
    "b = -3.45\n",
    "\n",
    "a = 4.24E10\n",
    "b = 4.24e-10\n",
    "```\n",
    "위의 방식은 '컴퓨터식 지수 표현 방식'으로 파이썬에서는 `4.24e10` 또는 `4.24E10`처럼 표현한다.\n",
    "\n",
    "(e와 E 둘 중 어느 것을 사용해도 무방)"
   ]
  },
  {
   "cell_type": "code",
   "execution_count": 12,
   "metadata": {
    "colab": {},
    "colab_type": "code",
    "id": "II__o4UCrJUx"
   },
   "outputs": [
    {
     "name": "stdout",
     "output_type": "stream",
     "text": [
      "42400000000.0 42400000000.0\n"
     ]
    }
   ],
   "source": [
    "a = \n",
    "b = \n",
    "print(a, b)"
   ]
  },
  {
   "cell_type": "code",
   "execution_count": 14,
   "metadata": {},
   "outputs": [],
   "source": [
    "# 여기서 잠깐! 타입은 어떻게 알아볼 수 있을까요?"
   ]
  },
  {
   "cell_type": "markdown",
   "metadata": {
    "colab_type": "text",
    "id": "fY9m9t5HMW6r"
   },
   "source": [
    "\n",
    "## 8진수와 16진수\n",
    "\n",
    "8진수를 만들기 위해서는 숫자가 `0o` 또는 `0O`(숫자0 + 알파벳 소문자 o 또는 대문자 O)로 시작\n",
    "```\n",
    "a = 0o177\n",
    "```\n",
    "16진수를 만들기 위해서는 0x로 시작\n",
    "```\n",
    "a = 0x8ff\n",
    "b = 0xABC\n",
    "``` \n",
    "8진수나 16진수는 파이썬에서 잘 사용하지 않는 형태의 숫자 자료형이니 간단히 눈으로 익히고 넘어가자\n"
   ]
  },
  {
   "cell_type": "code",
   "execution_count": null,
   "metadata": {
    "colab": {},
    "colab_type": "code",
    "id": "m28Rz4zyQuAY"
   },
   "outputs": [],
   "source": [
    "a = \n",
    "b = \n",
    "print(a, b)"
   ]
  },
  {
   "cell_type": "markdown",
   "metadata": {
    "colab_type": "text",
    "id": "ZiosLfnRMfCm"
   },
   "source": [
    "## 복소수\n",
    "\n",
    "* 일반적으로 복소수를 배울때 j대신 i를 사용했을 것이지만 파이썬에서는 j를 사용\n",
    "* 소문자 j를 써도 되고 대문자 J를 써도 됨\n",
    "```\n",
    "a = 1 + 2j\n",
    "b = 3 - 4J\n",
    "```"
   ]
  },
  {
   "cell_type": "code",
   "execution_count": null,
   "metadata": {
    "colab": {},
    "colab_type": "code",
    "id": "ns1ro_xAMnAu"
   },
   "outputs": [],
   "source": [
    "a = \n",
    "b = \n",
    "print(a, b)"
   ]
  },
  {
   "cell_type": "markdown",
   "metadata": {
    "colab_type": "text",
    "id": "HBA-vydKMnjL"
   },
   "source": [
    "### 복소수 내장 함수\n",
    "복소수 관련 내장 함수를 사용하기 위해서는 복소수 변수 이름 뒤에 '.'를 붙인 다음 함수 이름을 써주면 된다."
   ]
  },
  {
   "cell_type": "markdown",
   "metadata": {
    "colab_type": "text",
    "id": "pJyfPgfUsk-p"
   },
   "source": [
    "#### 1.  `.real`\n",
    "복소수의 실수 부분을 return 한다.\n",
    "```\n",
    "a = 1 + 2j\n",
    "a.real\n",
    "```\n",
    "output `1.0`"
   ]
  },
  {
   "cell_type": "code",
   "execution_count": null,
   "metadata": {
    "colab": {},
    "colab_type": "code",
    "id": "_feZHvhcMxvk"
   },
   "outputs": [],
   "source": [
    "a = \n",
    "#함수 코드작성\n"
   ]
  },
  {
   "cell_type": "markdown",
   "metadata": {
    "colab_type": "text",
    "id": "yXOky8ThMyg0"
   },
   "source": [
    "#### 2. `.imag`\n",
    "\n",
    "복소수의 허수 부분을 return 한다.\n",
    "```\n",
    "a = 1 + 2j\n",
    "a.imag\n",
    "```          \n",
    "output `2.0`"
   ]
  },
  {
   "cell_type": "code",
   "execution_count": null,
   "metadata": {
    "colab": {},
    "colab_type": "code",
    "id": "nIYlfsqhxYRz"
   },
   "outputs": [],
   "source": [
    "a = \n",
    "#함수 코드작성\n"
   ]
  },
  {
   "cell_type": "markdown",
   "metadata": {
    "colab_type": "text",
    "id": "VHT_WEEzM3fz"
   },
   "source": [
    "#### 3. `.conjugate()`\n",
    "복소수의 켤레복소수를 return한다.\n",
    "```\n",
    "a = 1 + 2j\n",
    "a.conjugate()\n",
    "```          \n",
    "output `(1-2j)`"
   ]
  },
  {
   "cell_type": "code",
   "execution_count": null,
   "metadata": {
    "colab": {},
    "colab_type": "code",
    "id": "U5cT8djcM8EZ"
   },
   "outputs": [],
   "source": [
    "a = \n",
    "#함수 코드작성\n"
   ]
  },
  {
   "cell_type": "markdown",
   "metadata": {
    "colab_type": "text",
    "id": "uWS8-lrXM8gg"
   },
   "source": [
    "#### 4. `abs()`\n",
    "복소수의 절댓값을 return한다.\n",
    "```\n",
    "a = 1 + 2j\n",
    "abs(a)\n",
    "```            \n",
    "output `2.2360679774997898`"
   ]
  },
  {
   "cell_type": "code",
   "execution_count": null,
   "metadata": {
    "colab": {},
    "colab_type": "code",
    "id": "SXnhx58cM_hM"
   },
   "outputs": [],
   "source": [
    "a = \n",
    "#함수 코드작성\n"
   ]
  },
  {
   "cell_type": "markdown",
   "metadata": {
    "colab_type": "text",
    "id": "gyKRd0hVNASw"
   },
   "source": [
    "## 연산자\n",
    "1. 사칙연산\n",
    "\n",
    "    계산기와 마찬가지로 아래의 연산자를 이용해 사칙연산을 수행한다.\n",
    "```\n",
    "a = 3\n",
    "b = 4\n",
    "a + b\n",
    "```\n",
    "output `12`\n",
    "```\n",
    "a * b\n",
    "```\n",
    "output `12`\n",
    "```\n",
    "a / b\n",
    "```\n",
    "output `0.75`"
   ]
  },
  {
   "cell_type": "code",
   "execution_count": null,
   "metadata": {
    "colab": {},
    "colab_type": "code",
    "id": "gDtg0cmRTA8f"
   },
   "outputs": [],
   "source": [
    "a = \n",
    "b = \n",
    "\n",
    "# 덧셈\n",
    "plus = \n",
    "\n",
    "# 뺄셈 \n",
    "subtract = \n",
    "\n",
    "# 곱셈\n",
    "multiply = \n",
    "\n",
    "# 나눗셈\n",
    "divide = \n",
    "\n",
    "print(plus, subtract, multiply, divide)"
   ]
  },
  {
   "cell_type": "markdown",
   "metadata": {
    "colab_type": "text",
    "id": "NOG9xdekT0E7"
   },
   "source": [
    "\n",
    "2. `**`\n",
    "\n",
    "    `x**y`처럼 사용되었을 때 x의 y제곱 값을 return한다.\n",
    "```\n",
    "a=3\n",
    "b=4\n",
    "a**b\n",
    "```\n",
    "output `81`\n",
    "\n"
   ]
  },
  {
   "cell_type": "code",
   "execution_count": null,
   "metadata": {
    "colab": {},
    "colab_type": "code",
    "id": "hWSmP53rT4fW"
   },
   "outputs": [],
   "source": [
    "#연습해봅시다.\n",
    "\n"
   ]
  },
  {
   "cell_type": "markdown",
   "metadata": {
    "colab_type": "text",
    "id": "rh3kFPwpT465"
   },
   "source": [
    "3. `%`\n",
    "\n",
    "    나눗셈 후 나머지를 return하는 연산자이다.\n",
    "```\n",
    "7 % 3\n",
    "```\n",
    "output `1`\n",
    "```\n",
    "3 % 7\n",
    "```\n",
    "output `3`\n"
   ]
  },
  {
   "cell_type": "code",
   "execution_count": null,
   "metadata": {
    "colab": {},
    "colab_type": "code",
    "id": "sBDrCCyVT9Mn"
   },
   "outputs": [],
   "source": [
    "#연습해봅시다.\n",
    "\n"
   ]
  },
  {
   "cell_type": "markdown",
   "metadata": {
    "colab_type": "text",
    "id": "IlALORDLT9nY"
   },
   "source": [
    "4. `//`\n",
    "\n",
    "    나눗셈 후 몫을 return하는 연산자이다. \n",
    "```\n",
    "7 / 4\n",
    "```\n",
    "output `1.75`\n",
    "```\n",
    "7 // 4\n",
    "```\n",
    "output `1`"
   ]
  },
  {
   "cell_type": "code",
   "execution_count": null,
   "metadata": {
    "colab": {},
    "colab_type": "code",
    "id": "ZlB5oeTgUATT"
   },
   "outputs": [],
   "source": [
    "#연습해봅시다.\n",
    "\n"
   ]
  },
  {
   "cell_type": "markdown",
   "metadata": {
    "colab_type": "text",
    "id": "y8DtEvbxVC6-"
   },
   "source": [
    "---\n",
    "# Data Type _ String"
   ]
  },
  {
   "cell_type": "markdown",
   "metadata": {
    "colab_type": "text",
    "id": "isnoRTv4USSN"
   },
   "source": [
    "문자열이란 문자, 단어 등으로 구성된 문자들의 집합을 의미한다.\n",
    "```\n",
    "\"Life is too short, You need Python\"\n",
    "\"a\"\n",
    "'123'\n",
    "```\n",
    "`\"\"`이나 `''`로 둘러싸여 있다면 모두 문자열\n",
    "\n",
    "## 문자열 생성/사용 방법\n",
    "1. `\"____\"`\n",
    "```\n",
    "\"Hello World\"\n",
    "```\n",
    "\n",
    "2. `'_____'`\n",
    "```\n",
    "'Python is fun'\n",
    "```\n",
    "\n",
    "3. `\"\"\"_____\"\"\"`\n",
    "```\n",
    "\"\"\"Life is too short, You need Python\"\"\"\n",
    "```\n",
    "\n",
    "4. `'''___'''`\n",
    "```\n",
    "'''Life is too short, You need Python'''\n",
    "```"
   ]
  },
  {
   "cell_type": "code",
   "execution_count": 15,
   "metadata": {
    "colab": {},
    "colab_type": "code",
    "id": "j7azWgSpVary"
   },
   "outputs": [],
   "source": [
    "# string을 만들어봅시다.\n",
    "\n"
   ]
  },
  {
   "cell_type": "markdown",
   "metadata": {
    "colab_type": "text",
    "id": "v3ORlLTVVbPl"
   },
   "source": [
    "### 문자열을 만드는 방법은 왜 4가지나 있는 것일까?\n",
    "\n",
    ">문자열 안에도 작은 따옴표와 큰 따옴표가 들어 있어야 할 경우가 있다\n",
    "\n",
    "        \n",
    "1. 작은따옴표 포함\n",
    "    ```\n",
    "    Python's important point is simple\n",
    "    ```\n",
    "    큰 따옴표 안에 들어있는 작은 따옴표는 문자열을 나타내기 위한 기호로 인식되지 않는다.\n",
    "    ```\n",
    "    point = \"Python's important point is simple\"\n",
    "    point\n",
    "    ``` \n",
    "    \n",
    "    output `\"Python's important point is simple\"`\n",
    "\n",
    "    큰따옴표가 아닌 작은 따옴표로 문자열을 둘러싼 후 다시 실행해보면 구문오류(SytaxError)가 발생\n"
   ]
  },
  {
   "cell_type": "code",
   "execution_count": null,
   "metadata": {
    "colab": {},
    "colab_type": "code",
    "id": "KXs1hI-GVyF3"
   },
   "outputs": [],
   "source": [
    "# 작은 따옴표가 들어가는 문장을 하나 작성해봅시다.\n",
    "\n"
   ]
  },
  {
   "cell_type": "code",
   "execution_count": null,
   "metadata": {},
   "outputs": [],
   "source": [
    "# 오류도 발생시켜봅시다.\n",
    "\n"
   ]
  },
  {
   "cell_type": "markdown",
   "metadata": {
    "colab_type": "text",
    "id": "g2xTVF1NxwpX"
   },
   "source": [
    "2. 큰따옴표 포함\n",
    "\n",
    "    \"Python is very easy.\" he says. 라는 문장을 변수 say에 넣어봅시다.\n",
    "    ```\n",
    "    say = '\"Python is very easy.\" he says.'\n",
    "    ```"
   ]
  },
  {
   "cell_type": "code",
   "execution_count": null,
   "metadata": {
    "colab": {},
    "colab_type": "code",
    "id": "MWid0XUax0bq"
   },
   "outputs": [],
   "source": [
    "# 큰 따옴표가 들어가는 문장을 하나 작성해봅시다.\n",
    "\n"
   ]
  },
  {
   "cell_type": "markdown",
   "metadata": {
    "colab_type": "text",
    "id": "wjGILKyOx1EO"
   },
   "source": [
    "\n",
    "3. `\\`이용(escape)\n",
    "    ```\n",
    "    food = 'Python\\'s favorite food is perl'\n",
    "    say = \"\\\"Python is very easy.\\\" he says.\"\n",
    "    ```\n",
    "\n",
    "    `\\`를 작은따옴표나 큰 따옴표 앞에 삽입하면 뒤의 작은/큰따옴표는 문자열을 둘러싸는 기호의 의미가 아니라 문자 그 자체를 뜻함"
   ]
  },
  {
   "cell_type": "code",
   "execution_count": 16,
   "metadata": {
    "colab": {},
    "colab_type": "code",
    "id": "5AauGD5_x3Ld"
   },
   "outputs": [],
   "source": [
    "# backslash를 이용해서 escape\n",
    "# 혹시 어디에 \\가 있는지 모르시겠나요?\n",
    "\n"
   ]
  },
  {
   "cell_type": "markdown",
   "metadata": {
    "colab_type": "text",
    "id": "nIxCk7hfVylv"
   },
   "source": [
    "## 여러 줄인 문자열\n",
    "\n",
    "여러 줄의 문자열을 변수에 대입하고 싶을땐 어떻게 해야할까?\n",
    "```\n",
    "Life is too short\n",
    "\n",
    "You need Python\n",
    "```\n",
    "\n",
    "1. escape code `\\n`\n",
    "\n",
    "    ```\n",
    "    multiline = \"Life is too short\\nYou need Python\"\n",
    "    ```\n",
    "    \n",
    "    \n",
    "    Escape Code: 프로그래밍할 때 사용할 수 있도록 미리 정의해 둔 '문자 조합'. 주로 출력물을 보기 좋게 정렬하는 용도로 이용\n",
    "    \n",
    "|\\n|문자열 안에서 줄을 바꿀 때 사용|\n",
    "|-|-|\n",
    "|\\t|문자열 사이에 탭 간격을 줄 때 사용|\n",
    "|\\\\|문자 \\를 그대로 표현할 때 사용|\n",
    "|\\'|작은 따옴표를 그대로 표현할 때 사용|\n",
    "|\\\"|큰 따옴표를 그대로 표현할 때 사용|\n",
    "\n",
    "2. `'''` or `\"\"\"`\n",
    "\n",
    "    ```\n",
    "    multiline = '''\n",
    "    Life is too short\n",
    "    You need Python\n",
    "    '''\n",
    "\n",
    "    multiline = \"\"\"\n",
    "    Life is too short\n",
    "    You need Python\n",
    "    \"\"\"\n",
    "\n",
    "    print(multiline)\n",
    "    ```"
   ]
  },
  {
   "cell_type": "code",
   "execution_count": null,
   "metadata": {
    "colab": {},
    "colab_type": "code",
    "id": "MGtMTiShWFzd"
   },
   "outputs": [],
   "source": [
    "# \\n을 활용해봅시다.\n",
    "\n",
    "\n"
   ]
  },
  {
   "cell_type": "code",
   "execution_count": null,
   "metadata": {
    "colab": {},
    "colab_type": "code",
    "id": "iPzxL_nngzAE"
   },
   "outputs": [],
   "source": [
    "# ''' '''또는 \"\"\" \"\"\"을 활용해봅시다.\n",
    "\n",
    "\n"
   ]
  },
  {
   "cell_type": "markdown",
   "metadata": {
    "colab_type": "text",
    "id": "7MjJr_kFWGQq"
   },
   "source": [
    "## 연산(Operation)\n",
    "\n",
    "파이썬에서는 문자열을 더하거나 곱할 수 있다.\n",
    "\n",
    "1. concatenation `+`\n",
    "\n",
    "    문자열을 더해서 연결하기\n",
    "```\n",
    "head = \"Python\"\n",
    "tail = \" is fun!\"\n",
    "head + tail\n",
    "```\n",
    "    output `Python is fun!`"
   ]
  },
  {
   "cell_type": "code",
   "execution_count": null,
   "metadata": {
    "colab": {},
    "colab_type": "code",
    "id": "xuuv0etCWbxb"
   },
   "outputs": [],
   "source": [
    "# string을 합쳐봅시다.\n",
    "\n"
   ]
  },
  {
   "cell_type": "markdown",
   "metadata": {
    "colab_type": "text",
    "id": "Xp7pBPAu1xFg"
   },
   "source": [
    "2. `*`\n",
    "```\n",
    "a = \"python\"\n",
    "a * 2\n",
    "```\n",
    "    output `pythonpython`\n",
    "\n",
    "    *는 문자열의 반복을 뜻하는 의미로 사용되었다.\n",
    "```\n",
    "print(\"=\" * 50)\n",
    "print(\"My Program\")\n",
    "print(\"=\" * 50)\n",
    "```\n",
    "    output\n",
    "```\n",
    "==================================================\n",
    "My Program\n",
    "==================================================\n",
    "```"
   ]
  },
  {
   "cell_type": "code",
   "execution_count": 17,
   "metadata": {
    "colab": {},
    "colab_type": "code",
    "id": "i6Vt9wuK1zFL"
   },
   "outputs": [],
   "source": [
    "# 반복을 알아서 해주네요!\n",
    "\n"
   ]
  },
  {
   "cell_type": "markdown",
   "metadata": {
    "colab_type": "text",
    "id": "hxL9iRFEKV5I"
   },
   "source": [
    "3. Comparison `<`, `>`\n",
    "```\n",
    "'abc' < 'cde'\n",
    "```\n",
    "    output `True`\n",
    "```\n",
    "'abc' < 'abd'\n",
    "```\n",
    "    output `True`\n",
    "```\n",
    "'abc' < 'abcd'\n",
    "```\n",
    "    output `True`\n",
    "```\n",
    "'' < 'a'\n",
    "```\n",
    "    output `True`        "
   ]
  },
  {
   "cell_type": "code",
   "execution_count": null,
   "metadata": {
    "colab": {},
    "colab_type": "code",
    "id": "Y6zt_F8_KaJj"
   },
   "outputs": [],
   "source": [
    "# 문자열에서 크기란?\n",
    "\n"
   ]
  },
  {
   "cell_type": "markdown",
   "metadata": {
    "colab_type": "text",
    "id": "TbPvsb_PWcPW"
   },
   "source": [
    "## Indexing(★★★)\n",
    "\n",
    "인덱싱이란 무엇인가를 '가리킨다'는 의미이다\n",
    "```\n",
    "a = \"Life is too short, You need Python\"\n",
    "a[3]\n",
    "```\n",
    "output `e`\n",
    "\n",
    "`a[3]`이 뜻하는 것은 `a`라는 문자열의 네 번째 문자인 `e`를 말한다.\n",
    "    \n",
    "   ![대체 텍스트](https://cdn.loanstreet.com.my/rich/rich_files/rich_files/000/000/940/original/what-meme-13.jpg)\n",
    "\n",
    "```\n",
    "L : 0  \n",
    "i : 1 \n",
    "f : 2 \n",
    "e : 3 \n",
    "  : 4 \n",
    "i : 5 \n",
    "...\n",
    "```\n",
    "\n",
    ">\"파이썬은 0부터 숫자를 센다\"\n",
    "\n",
    "```\n",
    "a[0]: L \n",
    "\n",
    "a[1]: i \n",
    "\n",
    "a[2]: f \n",
    "\n",
    "a[3]: e\n",
    "\n",
    "a[4]:   \n",
    "\n",
    "a[5]:  i\n",
    "...\n",
    "```\n",
    "`a[번호]`는 문자열 내 특정한 값을 뽑아내는 역할을 한다. 이러한 것을 인덱싱이라고 한다.\n",
    "```\n",
    "a = \"Life is too short, You need Python\"\n",
    "a[0]\n",
    "```\n",
    "output `'L'`\n",
    "```\n",
    "a[12]\n",
    "```\n",
    "output `'s'`\n",
    "```\n",
    "a[-1]\n",
    "```\n",
    "output `'n'`\n",
    "\n",
    "`a[-1]`은 뭘까? 문자열을 뒤에서부터 읽기 위해서 `-`기호가 붙는다.\n",
    "    \n",
    "\n",
    "뒤에서부터 첫 번째 문자를 표시할 때도 0부터 세어 `a[-0]`라고 한다면 -0과 0은 같은 것이기때문에 다음과 같이 출력된다.\n",
    "```\n",
    "a[-0]\n",
    "```\n",
    "output `'L'`\n",
    "```\n",
    "a[-2]\n",
    "```\n",
    "output `'o'`\n",
    "```\n",
    "a[-5]\n",
    "```        \n",
    "output `'y'`\n",
    "\n"
   ]
  },
  {
   "cell_type": "code",
   "execution_count": null,
   "metadata": {
    "colab": {},
    "colab_type": "code",
    "id": "Mv0m7-WkWk-F"
   },
   "outputs": [],
   "source": [
    "# mysent를 만들고 원하는 char를 인덱싱 해봅시다.\n",
    "\n",
    "\n",
    "\n"
   ]
  },
  {
   "cell_type": "markdown",
   "metadata": {
    "colab_type": "text",
    "id": "XKhLBVR0WlkA"
   },
   "source": [
    "## Slicing\n",
    "\n",
    "슬라이싱이란 무엇인가를 `'잘라낸다'`는 의미이다. \n",
    "    \n",
    "문자열에서 단순히 한 문자만 뽑아내는 것이 아니라 `'Life'`또는 `'You'` 같은 단어들을 뽑아보자.\n",
    "    \n",
    "1. `+` 이용하여 indexing 사용\n",
    "```\n",
    "a = \"Life is too short, You need Python\"\n",
    "b = a[0] + a[1] + a[2] + a[3]\n",
    "b\n",
    "```\n",
    "    output `'Life'`\n",
    "\n",
    "2. slicing 사용\n",
    "```\n",
    "a = \"Life is too short, You need Python\"\n",
    "a[0:4]\n",
    "```\n",
    "    output `'Life'`\n",
    "\n",
    "    `a[0:4]`가 뜻하는 것은 a라는 문자열의 0부터 4까지의 문자를 뽑아낸다는 뜻이다.![대체 텍스트](https://cdn.loanstreet.com.my/rich/rich_files/rich_files/000/000/940/original/what-meme-13.jpg)\n",
    "\n",
    "\n",
    "\n"
   ]
  },
  {
   "cell_type": "markdown",
   "metadata": {
    "colab_type": "text",
    "id": "opAvTx7Mp-6A"
   },
   "source": [
    "a = \"Life is too short, You need Python\"\n",
    "```\n",
    "a[0:3]\n",
    "```       \n",
    "output `'Lif'`\n",
    "\n",
    "`a[시작 번호: 끝 번호]`를 지정하면 끝 번호에 해당하는 것은 포함되지 않는다.\n",
    "```\n",
    "a[0:5]\n",
    "```\n",
    "output `'Life '`\n",
    "\n",
    "`'Life'`와 `'Life '`는 완전히 다른 문자열이다.\n",
    "```\n",
    "a[0:2]\n",
    "``` \n",
    "output `'Li'`\n",
    "```\n",
    "a[5:7]\n",
    "```    \n",
    "output `'is'`\n",
    "```\n",
    "a[12:17]\n",
    "```\n",
    "output `'short'`"
   ]
  },
  {
   "cell_type": "code",
   "execution_count": null,
   "metadata": {
    "colab": {},
    "colab_type": "code",
    "id": "q4g9CSoLWmJH"
   },
   "outputs": [],
   "source": [
    "# mysent를 만들고 원하는 단어를 슬라이싱 해봅시다.\n",
    "\n"
   ]
  },
  {
   "cell_type": "markdown",
   "metadata": {
    "colab_type": "text",
    "id": "dBB_CK_s5Cvp"
   },
   "source": [
    "\n",
    "슬라이싱할 때 항상 시작번호가 '0'일 필요는 없다.\n",
    "\n",
    "* 끝번호를 생략 -> 시작 번호부터 그 문자열의 끝까지\n",
    "\n",
    "* 시작번호를 생략 -> 문자열의 처음부터 끝 번호까지\n",
    "\n",
    "* 둘 다 생략 -> 모두 \n",
    "```\n",
    "a[19:]\n",
    "```\n",
    "    output `'You need Python'`\n",
    "```\n",
    "a[:17]\n",
    "```\n",
    "    output `'Life is too short'`\n",
    "```\n",
    "a[:]\n",
    "```\n",
    "    output `'Life is too short, You need Python'`\n",
    "\n",
    "슬라이싱에서도 인덱싱과 마찬가지로 `-`기호를 사용할 수 있다.\n",
    "```\n",
    "a[19:-7]\n",
    "```\n",
    "output `'You need'`\n",
    "\n",
    "위 소스 코드에서 `a[19:-7]`이 뜻하는 것은? \n",
    "\n",
    "`a[19]`에서 부터 `a[-6]`까지를 말한다. (`a[-7]`은 포함하지 않는다!)\n",
    "\n",
    "```\n",
    "a = \"20110331Rainy\"\n",
    "date = a[:8]\n",
    "weather = a[8:]\n",
    "date\n",
    "```\n",
    "\n",
    "output `'20010331'`\n",
    "```\n",
    "weather\n",
    "```\n",
    "output `'Rainy'`\n",
    "\n",
    "a라는 문자열을 두 부분으로 나누는 기법이다. \n",
    "    \n",
    "동일한 숫자 8을 기준으로 `a[:8]`, `a[8:]`처럼 사용했다. \n",
    "\n",
    "`a[:8]`은 `a[8]`이 포함되지 않고, `a[8:]`은 `a[8]`을 포함하기 때문에 8을 기준으로 해서 두 부분으로 나눌 수 있다.\n"
   ]
  },
  {
   "cell_type": "code",
   "execution_count": null,
   "metadata": {
    "colab": {},
    "colab_type": "code",
    "id": "wbMiAsrV5Bxo"
   },
   "outputs": [],
   "source": [
    "# 처음부터 슬라이싱\n",
    "\n",
    "\n",
    "# 마지막까지 슬라이싱\n",
    "\n",
    "\n",
    "# - 기호도 써봅시다.\n",
    "\n"
   ]
  },
  {
   "cell_type": "markdown",
   "metadata": {
    "colab_type": "text",
    "id": "NY4l7gyqMHjs"
   },
   "source": [
    "### n 등분\n",
    "```\n",
    "a = \"20110331Rainy\"\n",
    "year = a[:4]\n",
    "day = a[4:8]\n",
    "weather = a[8:]\n",
    "```\n",
    "```      \n",
    "year\n",
    "```\n",
    "    output `'2001'`\n",
    "```\n",
    "day\n",
    "```\n",
    "    output `'0331'`\n",
    "```\n",
    "weather\n",
    "```\n",
    "    output `'Rainy'`\n",
    "\n",
    "---\n",
    "```\n",
    "# problem #\n",
    "a = \"Pithon\"\n",
    "a[1]\n",
    "```     \n",
    "output `'i'`\n",
    "```   \n",
    "a[1] = 'y'\n",
    "```\n",
    "output `TypeError: 'str' object does not support item assignment`\n",
    "\n",
    "우리의 생각대로라면 i가 y로 바뀌길 원할 것이다. 하지만 error가 난다.\n",
    "        \n",
    "> 문자열(String), 튜플(Tuple) 등의 자료형은 immutable\n",
    "\n",
    "```\n",
    "# solution # 슬라이싱 기법\n",
    "a = \"Pithon\"\n",
    "a[:1]\n",
    "```\n",
    "\n",
    "output `'P'`\n",
    "\n",
    "```\n",
    "a[2:]\n",
    "```\n",
    "\n",
    "output `'thon'`\n",
    "\n",
    "```\n",
    "a[:1] + 'y' + a[2:]\n",
    "```\n",
    "\n",
    "output `'Python'`"
   ]
  },
  {
   "cell_type": "code",
   "execution_count": null,
   "metadata": {
    "colab": {},
    "colab_type": "code",
    "id": "Mxp7lyNbMKti"
   },
   "outputs": [],
   "source": [
    "# 슬라이싱으로 단어를 수정해봅시다.\n",
    "myword = \n"
   ]
  },
  {
   "cell_type": "markdown",
   "metadata": {
    "colab_type": "text",
    "id": "UkogP-daWzG8"
   },
   "source": [
    "## Formatting\n",
    "```\n",
    "\"현재 온도는 18도 입니다.\"\n",
    "\"현재 온도는 20도 입니다.\"\n",
    "```\n",
    "* 문자열 내의 특정한 값을 바꿔야 할 때\n",
    "* 문자열 내에 어떤 값을 삽입\n",
    "\n",
    "1. 숫자 대입\n",
    "```\n",
    "\"I eat %d apples.\" % 3\n",
    "```\n",
    "    output `\"I eat 3 apples.\"`\n",
    "\n",
    "    `%d` -> 문자열 포맷 코드"
   ]
  },
  {
   "cell_type": "code",
   "execution_count": null,
   "metadata": {
    "colab": {},
    "colab_type": "code",
    "id": "W2NsaMPZW7Be"
   },
   "outputs": [],
   "source": [
    "#연습해봅시다.\n",
    "\n"
   ]
  },
  {
   "cell_type": "markdown",
   "metadata": {
    "colab_type": "text",
    "id": "GCXA6OahWTd1"
   },
   "source": [
    "2. 문자열 대입\n",
    "```\n",
    "\"I eat %s apples.\" % five\n",
    "```\n",
    "    output `'I eat five apples.'`\n",
    "\n",
    "    `%d` 대신 `%s`를 문자열을 넣기 위해 쓴다.\n",
    "\n"
   ]
  },
  {
   "cell_type": "code",
   "execution_count": null,
   "metadata": {
    "colab": {},
    "colab_type": "code",
    "id": "pm1OqOp1WWz3"
   },
   "outputs": [],
   "source": [
    "#연습해봅시다.\n",
    "\n"
   ]
  },
  {
   "cell_type": "markdown",
   "metadata": {
    "colab_type": "text",
    "id": "rw2Gn76kWfmD"
   },
   "source": [
    "3. 변수로 대입\n",
    "```\n",
    "number = 3\n",
    "\"I eat %d apples.\" % number\n",
    "```\n",
    "    output `'I eat 3 apples.'`"
   ]
  },
  {
   "cell_type": "code",
   "execution_count": null,
   "metadata": {
    "colab": {},
    "colab_type": "code",
    "id": "6UlYFo1sWguR"
   },
   "outputs": [],
   "source": [
    "#연습해봅시다.\n",
    "\n"
   ]
  },
  {
   "cell_type": "markdown",
   "metadata": {
    "colab_type": "text",
    "id": "NJgZTrHeWqzt"
   },
   "source": [
    "4. 2개 이상의 값 넣기\n",
    "```\n",
    "number = 10\n",
    "day = \"three\"\n",
    "\"I ate %d apples. so I was sick for %s days.\" % (number, day)\n",
    "```        \n",
    "    output `'I ate 10 apples. so I was sick for three days.'`"
   ]
  },
  {
   "cell_type": "code",
   "execution_count": null,
   "metadata": {
    "colab": {},
    "colab_type": "code",
    "id": "Bzzh8EkOWsCQ"
   },
   "outputs": [],
   "source": [
    "#연습해봅시다.\n",
    "\n"
   ]
  },
  {
   "cell_type": "markdown",
   "metadata": {
    "colab_type": "text",
    "id": "YOZiRoE1b_i1"
   },
   "source": [
    "Code | 설명\n",
    "--- | ---\n",
    "`%s` | 문자열 (string)\n",
    "`%c` | 문자 1개(Character)\n",
    "`%d` | 정수(Integer)\n",
    "`%f` | 부동 소수(floating-point)\n",
    "`%o` | 8진수\n",
    "`%x` | 16진수\n",
    "`%%` | Literal %(문자 '%'자체)\n",
    "\n",
    "\n",
    "- `%s`는 어떤 형태의 값이든 변환해 넣을 수 있다. (자동으로 %뒤에 있는 값을 문자열로 바꿈)\n",
    "```\n",
    "\"I have %s apples\" % 3\n",
    "```\n",
    "    output `'I have 3 apples'`\n",
    "```\n",
    "\"rate is %s\" % 3.234\n",
    "```\n",
    "    output `'rate is 3.234'`"
   ]
  },
  {
   "cell_type": "code",
   "execution_count": null,
   "metadata": {
    "colab": {},
    "colab_type": "code",
    "id": "8vB4tuONcAus"
   },
   "outputs": [],
   "source": [
    "# 만능 %s를 사용해봅시다.\n",
    "\n"
   ]
  },
  {
   "cell_type": "markdown",
   "metadata": {
    "colab_type": "text",
    "id": "EAuaCCZTX6YV"
   },
   "source": [
    "- 포매팅 연산자 %d와 %를 같이 쓸때 → `%%`\n",
    "```\n",
    "\"Error is %d%.\" % 98\n",
    "```\n",
    "    output `ValueError: incomplete format`\n",
    "    \n",
    "    문자열 포맷코드인 `%d`와 `%`가 같은 문자열 내에 존재하는 경우, `%`를 나타내려면 반드시 `%%`로 써야하는 법칙이 있기 때문이다. \n",
    "\n",
    "    하지만 문자열 내에 `%d` 같은 포매팅 연산자가 없으면 `%`는 홀로 쓰여도 상관이 없다.\n",
    "```\n",
    "\"Error is %d%%.\" %98\n",
    "```\n",
    "    output `'Error is 98%.'`\n"
   ]
  },
  {
   "cell_type": "code",
   "execution_count": null,
   "metadata": {
    "colab": {},
    "colab_type": "code",
    "id": "DRg9EidlX7lo"
   },
   "outputs": [],
   "source": [
    "# AI Robotics KR이 몇 퍼센트 좋으신가요?\n",
    "\n"
   ]
  },
  {
   "cell_type": "markdown",
   "metadata": {
    "colab_type": "text",
    "id": "XvHDbK3aYEPk"
   },
   "source": [
    "\n",
    "- 포맷코드와 숫자 함께 사용\n",
    "\n",
    "    1. 정렬과 공백\n",
    "```\n",
    "\"%10s\" % \"hi\"\n",
    "```\n",
    "    output `'        hi'`\n",
    "\n",
    "    전체 길이가 10개인 문자열 공간에서 `hi`를 오른쪽으로 정렬하고 그 앞의 나머지는 공백으로 채운다.\n",
    "```\n",
    "\"%-10sjane.\" % 'hi'\n",
    "```\n",
    "\n",
    "    output `'hi        jane.'`\n",
    "\n",
    "    반대쪽인 왼쪽 정렬은 `\"%-10s\"`\n",
    "         \n",
    "    형식은 `%(좌/우)(공간)(자료형)` 이다.\n",
    "\n",
    "    2. 소수점 표현\n",
    "\n",
    "        3.42134234를 소수점 4번 째 자리까지만 나타내고 싶은 경우\n",
    "```\n",
    "\"%0.4f\" % 3.42134234\n",
    "```\n",
    "    output `'3.4213'`\n",
    "\n",
    "    형식은 `%(공간)(.)(소수점 이후 나올 숫자의 개수)f` 이다.\n",
    "```\n",
    "\"%10.4f\" % 3.42134234\n",
    "```\n",
    "    output `'   3.4213'`"
   ]
  },
  {
   "cell_type": "code",
   "execution_count": null,
   "metadata": {
    "colab": {},
    "colab_type": "code",
    "id": "3OyXwzmPYF6E"
   },
   "outputs": [],
   "source": [
    "# 정렬과 공백 연습\n",
    "\n",
    "\n",
    "# 소수점 연습\n",
    "\n"
   ]
  },
  {
   "cell_type": "markdown",
   "metadata": {
    "colab_type": "text",
    "id": "YM1HZMOMW7r5"
   },
   "source": [
    "## Method\n",
    "\n",
    "함수를 사용하는 형식은 `(문자열 변수 이름)(.)(함수의 이름)`이다.\n",
    "\n",
    "각 함수의 예시를 보고 아래의 코드 창에서 연습해봅시다.\n",
    "\n",
    "### 1. count\n",
    "\n",
    "문자 개수 세기\n",
    "```\n",
    "a = \"hobby\"\n",
    "a.count('b')\n",
    "```\n",
    "output `2`\n"
   ]
  },
  {
   "cell_type": "code",
   "execution_count": null,
   "metadata": {
    "colab": {},
    "colab_type": "code",
    "id": "vbtNrM6_XFEZ"
   },
   "outputs": [],
   "source": [
    "#연습해봅시다.\n",
    "\n"
   ]
  },
  {
   "cell_type": "markdown",
   "metadata": {
    "colab_type": "text",
    "id": "97Vm20VGgcT7"
   },
   "source": [
    "### 2. find\n",
    "\n",
    "위치 알려주기(1)\n",
    "```\n",
    "a = \"Python is best choice\"\n",
    "a.find('b')\n",
    "```\n",
    "output `10`\n",
    "```\n",
    "a.find('k')\n",
    "```\n",
    "output `-1`\n",
    "            \n",
    "문자열 중 문자 b가 처음으로 나온 위치를 return\n",
    "\n",
    "만약 찾는 문자나 문자열이 존재하지 않는다면 `-1`을 return한다."
   ]
  },
  {
   "cell_type": "code",
   "execution_count": null,
   "metadata": {
    "colab": {},
    "colab_type": "code",
    "id": "0GnbHjMIgc1O"
   },
   "outputs": [],
   "source": [
    "#연습해봅시다.\n",
    "\n"
   ]
  },
  {
   "cell_type": "markdown",
   "metadata": {
    "colab_type": "text",
    "id": "TfFD8RjLggzN"
   },
   "source": [
    "### 3. index\n",
    "\n",
    "위치 알려주기(2)\n",
    "```\n",
    "a = \"Life is too short\"\n",
    "a.index('t')\n",
    "```\n",
    "output `8`\n",
    "```\n",
    "a.index('k')\n",
    "```\n",
    "output `Value Error`\n",
    "\n",
    "문자열 중 문자 t가 맨 처음으로 나온 위치를 return \n",
    "\n",
    "만약 찾는 문자나 문자열이 존재하지 않는다면 오류를 발생시킨다. "
   ]
  },
  {
   "cell_type": "code",
   "execution_count": null,
   "metadata": {
    "colab": {},
    "colab_type": "code",
    "id": "sJ_1L4K9ghTL"
   },
   "outputs": [],
   "source": [
    "#연습해봅시다.\n",
    "\n"
   ]
  },
  {
   "cell_type": "markdown",
   "metadata": {
    "colab_type": "text",
    "id": "0xDFLZ1Sg0cm"
   },
   "source": [
    "### 4. join\n",
    "\n",
    "문자열 삽입\n",
    "```\n",
    "a = \",\"\n",
    "a.join('abcd')\n",
    "```\n",
    "output `'a,b,c,d'`\n",
    "\n",
    "`abcd`라는 문자열의 각각의 문자 사이에 변수 a의 값인 `,`를 삽입한다."
   ]
  },
  {
   "cell_type": "code",
   "execution_count": null,
   "metadata": {
    "colab": {},
    "colab_type": "code",
    "id": "sA0ahVpGg1MO"
   },
   "outputs": [],
   "source": [
    "#연습해봅시다.\n",
    "\n"
   ]
  },
  {
   "cell_type": "markdown",
   "metadata": {
    "colab_type": "text",
    "id": "f3XKgYuRg6OX"
   },
   "source": [
    "### 5. upper\n",
    "\n",
    "소문자를 대문자로 바꾸기\n",
    "```\n",
    "a = \"hi\"\n",
    "a.upper()\n",
    "```\n",
    "output `'HI'`\n",
    "\n",
    "### 6. lower\n",
    "대문자를 소문자로 바꾸기\n",
    "```\n",
    "a = \"HI\"\n",
    "a.lower()\n",
    "```\n",
    "output `'hi'`"
   ]
  },
  {
   "cell_type": "code",
   "execution_count": null,
   "metadata": {
    "colab": {},
    "colab_type": "code",
    "id": "yWqmVu3yg6sM"
   },
   "outputs": [],
   "source": [
    "#연습해봅시다.\n",
    "\n"
   ]
  },
  {
   "cell_type": "markdown",
   "metadata": {
    "colab_type": "text",
    "id": "DhIYKrOLg-8P"
   },
   "source": [
    "### 7. lstrip\n",
    "\n",
    "왼쪽 공백 지우기\n",
    "```\n",
    "a = \" hi \"\n",
    "a.lstrip()\n",
    "```\n",
    "output `'hi '`\n",
    "\n",
    "### 8. rstrip\n",
    "\n",
    "오른쪽 공백 지우기\n",
    "```\n",
    "a = \" hi \"\n",
    "a.rstrip()\n",
    "```\n",
    "output `' hi'`\n",
    "###9. strip\n",
    "\n",
    "양쪽 공백 지우기\n",
    "```\n",
    "a = \" hi \"\n",
    "a.strip()\n",
    "```\n",
    "output `'hi'`"
   ]
  },
  {
   "cell_type": "code",
   "execution_count": null,
   "metadata": {
    "colab": {},
    "colab_type": "code",
    "id": "6dD-I1hPhE7d"
   },
   "outputs": [],
   "source": [
    "# lstrip \n",
    "\n",
    "\n",
    "\n"
   ]
  },
  {
   "cell_type": "code",
   "execution_count": null,
   "metadata": {
    "colab": {},
    "colab_type": "code",
    "id": "Lb0sHaP2zhEw"
   },
   "outputs": [],
   "source": [
    "# rstrip\n",
    "\n",
    "\n",
    "\n"
   ]
  },
  {
   "cell_type": "code",
   "execution_count": null,
   "metadata": {
    "colab": {},
    "colab_type": "code",
    "id": "FjsRkjO0zjAu"
   },
   "outputs": [],
   "source": [
    "# strip\n",
    "\n",
    "\n"
   ]
  },
  {
   "cell_type": "markdown",
   "metadata": {
    "colab_type": "text",
    "id": "XVcxkhbxhFQ7"
   },
   "source": [
    "### 10. replace\n",
    "\n",
    "문자열 바꾸기\n",
    "```\n",
    "a = \"Life is too short\"\n",
    "a.replace(\"Life\", \"Your leg\")\n",
    "```\n",
    "output `'Your leg is too short'`\n",
    "\n",
    "`replace(바뀌게 될 문자열, 바꿀 문자열)`처럼 사용하여 치환"
   ]
  },
  {
   "cell_type": "code",
   "execution_count": null,
   "metadata": {
    "colab": {},
    "colab_type": "code",
    "id": "huqmMDFmhHxT"
   },
   "outputs": [],
   "source": [
    "#연습해봅시다.\n",
    "\n"
   ]
  },
  {
   "cell_type": "markdown",
   "metadata": {
    "colab_type": "text",
    "id": "n7C3-eLYhID0"
   },
   "source": [
    "### 11. split\n",
    "\n",
    "문자열 나누기\n",
    "```\n",
    "a = \"Life is too short\"\n",
    "a.split()\n",
    "```\n",
    "output `['Life', 'is', 'too', 'short']`\n",
    "```\n",
    "a = \"a:b:c:d\"\n",
    "a.split(':')\n",
    "```\n",
    "output `['a', 'b', 'c', 'd']`\n",
    "\n",
    "* 괄호 안에 아무런 값도 넣어주지 않으면 공백을 기준\n",
    "\n",
    "* 괄호 안에 특정한 값이 있을 경우, 괄호 안의 값을 구분자로 해서 나눔\n",
    "        \n",
    "* 나눈 값은 리스트에 하나씩 들어감"
   ]
  },
  {
   "cell_type": "code",
   "execution_count": null,
   "metadata": {
    "colab": {},
    "colab_type": "code",
    "id": "1ZHG62iphJgD"
   },
   "outputs": [],
   "source": [
    "#연습해봅시다.\n",
    "\n"
   ]
  },
  {
   "cell_type": "markdown",
   "metadata": {
    "colab_type": "text",
    "id": "cAWJmA8KXFiv"
   },
   "source": [
    "## format 함수\n",
    "\n",
    "문자열의 format 함수를 이용하면 좀 더 발전된 스타일로 문자열 포맷을 지정할 수 있다.\n",
    "\n",
    "- 숫자 바로 대입\n",
    "\n",
    "```\n",
    "\"I eat {0} apples\".format(3)\n",
    "```\n",
    "    output `'I eat 3 apples'`"
   ]
  },
  {
   "cell_type": "code",
   "execution_count": null,
   "metadata": {
    "colab": {},
    "colab_type": "code",
    "id": "nl43mxUuXHmX"
   },
   "outputs": [],
   "source": [
    "#연습해봅시다.\n",
    "\n"
   ]
  },
  {
   "cell_type": "markdown",
   "metadata": {
    "colab_type": "text",
    "id": "VK9zr0uqhmGB"
   },
   "source": [
    "\n",
    "- 문자열 바로 대입\n",
    "```\n",
    "\"I eat {0} apples\".format(\"five\")\n",
    "```\n",
    "    output `'I eat five apples'`"
   ]
  },
  {
   "cell_type": "code",
   "execution_count": null,
   "metadata": {
    "colab": {},
    "colab_type": "code",
    "id": "7Ot6DxYghl3h"
   },
   "outputs": [],
   "source": [
    "#연습해봅시다.\n",
    "\n"
   ]
  },
  {
   "cell_type": "markdown",
   "metadata": {
    "colab_type": "text",
    "id": "XfD22rDnhlfW"
   },
   "source": [
    "\n",
    "- 숫자값을 가진 변수로 대입\n",
    "```\n",
    "number = 3\n",
    "\"I eat {0} apples\".format(number)\n",
    "```\n",
    "    output `'I eat 3 apples'`"
   ]
  },
  {
   "cell_type": "code",
   "execution_count": null,
   "metadata": {
    "colab": {},
    "colab_type": "code",
    "id": "wJNBNBIFhlHf"
   },
   "outputs": [],
   "source": [
    "#연습해봅시다.\n",
    "\n"
   ]
  },
  {
   "cell_type": "markdown",
   "metadata": {
    "colab_type": "text",
    "id": "6QqntGhnhvC9"
   },
   "source": [
    "- 2개 이상의 값 넣기\n",
    "```\n",
    "number = 10\n",
    "day = \"three\"\n",
    "\"I ate {0} apples. so I was sick for {1} days.\".format(number, day)\n",
    "```\n",
    "    output `'I ate 10 apples. so I was sick for three days.'`\n",
    "\n",
    "    2개 이상의 값을 넣을 경우, 문자열의 `{0}`, `{1}`과 같은 인덱스 항목들이 format함수의 입력값들로 순서에 맞게 바뀐다.\n",
    "\n"
   ]
  },
  {
   "cell_type": "code",
   "execution_count": null,
   "metadata": {
    "colab": {},
    "colab_type": "code",
    "id": "LMZfjFXFhvch"
   },
   "outputs": [],
   "source": [
    "#연습해봅시다.\n",
    "\n"
   ]
  },
  {
   "cell_type": "markdown",
   "metadata": {
    "colab_type": "text",
    "id": "k7PRZTuthz_S"
   },
   "source": [
    "- 변수로 여러개의 값 넣기\n",
    "\n",
    "    ```\n",
    "    \"I ate {number} apples. so I was sick for {day} days.\".format(number=10, day=3)\n",
    "    ```\n",
    "\n",
    "    output `'I ate 10 apples. so I was sick for 3 days.'`\n",
    "\n",
    "\n",
    "    `{name}`형태를 이용할 경우 format 함수의 입력값에는 반드시 `name = value` 와 같은 형태의 입력값이 있어야만 한다.\n",
    "\n",
    "    ```\n",
    "    number=10\n",
    "    day=3\n",
    "    \"I ate {number} apples. so I was sick for {day} days.\".format(number, day)\n",
    "    ```\n",
    "\n",
    "    output `KeyError`"
   ]
  },
  {
   "cell_type": "code",
   "execution_count": null,
   "metadata": {
    "colab": {},
    "colab_type": "code",
    "id": "lMGU2Wc9h0aV"
   },
   "outputs": [],
   "source": [
    "#연습해봅시다.\n",
    "\n"
   ]
  },
  {
   "cell_type": "markdown",
   "metadata": {
    "colab_type": "text",
    "id": "2JB5es1Jh4jd"
   },
   "source": [
    "\n",
    "- 인덱스와 변수를 혼용해서 넣기\n",
    "```\n",
    "\"I ate {0} apples. so I was sick for {day} days\".format(10, day=3)\n",
    "```\n",
    "    output `'I ate 10 apples. so I was sick for 3 days.'`\n",
    "\n",
    "    인덱스 항목과 `name=value` 형태를 혼용하는 것도 가능하다."
   ]
  },
  {
   "cell_type": "code",
   "execution_count": null,
   "metadata": {
    "colab": {},
    "colab_type": "code",
    "id": "PJ4BlbJ-CSWd"
   },
   "outputs": [],
   "source": [
    "#연습해봅시다.\n",
    "\n"
   ]
  },
  {
   "cell_type": "markdown",
   "metadata": {
    "colab_type": "text",
    "id": "OB3eROv9h9wI"
   },
   "source": [
    "- 왼쪽 정렬\n",
    "    ```\n",
    "    \"{0:<10}\".format(\"hi\")\n",
    "    ```\n",
    "    output `'hi        '`\n",
    "\n",
    "    `:<10` 표현식을 이용하면 치환되는 문자열을 왼쪽으로 정렬하고 문자열의 총 자릿수를 10으로 맞출 수 있다.\n",
    "\n",
    "- 오른쪽 정렬\n",
    "    ```\n",
    "    \"{0:>10}\".format(\"hi\")\n",
    "    ```\n",
    "    output `'          hi'`\n",
    "\n",
    "- 가운데 정렬\n",
    "    ```\n",
    "    \"{0:^10}\".format(\"hi\")\n",
    "    ```\n",
    "    output '     hi    '"
   ]
  },
  {
   "cell_type": "code",
   "execution_count": null,
   "metadata": {
    "colab": {},
    "colab_type": "code",
    "id": "CPZKzEwbh-Kd"
   },
   "outputs": [],
   "source": [
    "# 왼쪽 정렬\n",
    "\n",
    "\n",
    "\n"
   ]
  },
  {
   "cell_type": "code",
   "execution_count": null,
   "metadata": {
    "colab": {},
    "colab_type": "code",
    "id": "lUTNt_jDChzs"
   },
   "outputs": [],
   "source": [
    "# 오른쪽 정렬\n",
    "\n",
    "\n",
    "\n"
   ]
  },
  {
   "cell_type": "code",
   "execution_count": null,
   "metadata": {
    "colab": {},
    "colab_type": "code",
    "id": "lPWZY9ZuCjtn"
   },
   "outputs": [],
   "source": [
    "# 가운데 정렬\n",
    "\n",
    "\n"
   ]
  },
  {
   "cell_type": "markdown",
   "metadata": {
    "colab_type": "text",
    "id": "a-a3err5iBX5"
   },
   "source": [
    "- 공백 채우기\n",
    "    ```\n",
    "    \"{0:=^10}\".format(\"hi\")\n",
    "    ```\n",
    "    output `'====hi===='`\n",
    "    ```\n",
    "    \"{0:!<10}\".format(\"hi\")\n",
    "    ```\n",
    "    output `'hi!!!!!!!!'`\n",
    "\n",
    "    정렬시 공백 대신에 지정한 문자 값으로 채워 넣는 것도 가능하다.\n",
    "\n",
    "\n",
    "- 소수점 표현하기\n",
    "    ```\n",
    "    y = 3.42134234\n",
    "    \"{0:0.4f}\".format(y)\n",
    "    ```\n",
    "    output `'3.4213'`\n",
    "    ```\n",
    "    {0:10.4f}.format(y)\n",
    "    ```\n",
    "    output `'   3.4213'`\n",
    "\n",
    "    자릿수를 10으로 맞출 수 도 있다.\n",
    "\n",
    "\n",
    "- `{` 또는 `}` 문자 표현하기\n",
    "    ```\n",
    "    \"{{ and }}\".format()\n",
    "    ```\n",
    "    output `'{ and }'`\n",
    "\n",
    "    중괄호 문자를 문자 그대로 사용하고 싶은 경우 -> 2개를 연속해서 사용(`{{, }}`)"
   ]
  },
  {
   "cell_type": "code",
   "execution_count": null,
   "metadata": {
    "colab": {},
    "colab_type": "code",
    "id": "bdXixdXMiBw6"
   },
   "outputs": [],
   "source": [
    "#공백 채우기\n",
    "\n",
    "\n",
    "\n"
   ]
  },
  {
   "cell_type": "code",
   "execution_count": null,
   "metadata": {
    "colab": {},
    "colab_type": "code",
    "id": "JrYtsYAQDgqn"
   },
   "outputs": [],
   "source": [
    "#소수점 표현하기\n",
    "\n",
    "\n",
    "\n"
   ]
  },
  {
   "cell_type": "code",
   "execution_count": null,
   "metadata": {
    "colab": {},
    "colab_type": "code",
    "id": "0Y7filYeDikt"
   },
   "outputs": [],
   "source": [
    "#{,}표현하기\n",
    "\n"
   ]
  },
  {
   "cell_type": "markdown",
   "metadata": {
    "colab_type": "text",
    "id": "JVtAawZgqBbl"
   },
   "source": [
    "# Data Type _ Boolean\n",
    "불리언(boolean) 자료형은 논리 자료형이라고도 하며, 참과 거짓을 나타내는 데 쓰인다.\n",
    "\n",
    "자료형 | 값 | 참 or 거짓\n",
    "---|---|---\n",
    "문자열 | `\"python\"`|참\n",
    " | `\"\"` | 거짓\n",
    "리스트|`[1, 2, 3]`|참\n",
    " |`[]`|거짓\n",
    " 튜플|`()`|거짓\n",
    " 딕셔너리|`{}`|거짓\n",
    " 숫자형|`0이 아닌 숫자`|참\n",
    "  |`0`|거짓\n",
    "   | `None` | 거짓\n",
    "\n",
    "`None`은 뒤에서 배우는데 일단 거짓을 뜻한다는 것을 알아두자.\n",
    "\n",
    "대부분 특정 자료형의 거짓(False)는 자료형 안에 값이 없거나 0인 경우에 해당한다.\n",
    "\n",
    "바로 어떤 자료형의 boolean 값을 확인해보기 위해 `bool()`함수를 잠시 사용해보자.\n",
    "```\n",
    "s = \"hello\"\n",
    "print(bool(s))\n",
    "\n",
    "t = ()\n",
    "print(bool(t))\n",
    "```\n",
    "output \n",
    "```\n",
    "True\n",
    "False\n",
    "```"
   ]
  },
  {
   "cell_type": "code",
   "execution_count": null,
   "metadata": {
    "colab": {},
    "colab_type": "code",
    "id": "gH4_Th0CqX03"
   },
   "outputs": [],
   "source": [
    "# 연습해봅시다.\n",
    "\n",
    "\n",
    "\n"
   ]
  },
  {
   "cell_type": "markdown",
   "metadata": {
    "colab_type": "text",
    "id": "GffchobPqYcb"
   },
   "source": [
    "# Data Type_Variable\n",
    "```\n",
    "a = 1\n",
    "b = \"python\"\n",
    "c = [1, 2, 3]\n",
    "```\n",
    "`a`, `b`, `c`를 변수라고 하고 `=`(assignment)기호를 사용한다.\n",
    "\n",
    "C나 Java처럼 변수의 자료형을 함께 쓸 필요가 없다. 파이썬은 변수에 저장된 값을 스스로 판단하여 자료형을 알아낸다.\n",
    "```\n",
    "변수명 = 변수에 저장할 값\n",
    "```"
   ]
  },
  {
   "cell_type": "code",
   "execution_count": null,
   "metadata": {
    "colab": {},
    "colab_type": "code",
    "id": "UjYj6TgtrPoX"
   },
   "outputs": [],
   "source": [
    "# asssignment를 해봅시다.\n",
    "\n",
    "\n",
    "\n"
   ]
  },
  {
   "cell_type": "markdown",
   "metadata": {
    "colab_type": "text",
    "id": "lnQI6rCPwthR"
   },
   "source": [
    "## 객체, 레퍼런스\n",
    "\n",
    "* 파이썬에서 사용하는 변수는 객체를 가리키는 것이라고도 말할 수 있다. \n",
    "* `객체`란 우리가 지금껏 보아 왔던 자료형을 포함해 `파이썬에서 사용되는 모든 것`을 뜻하는 말이다.\n",
    "\n",
    "```\n",
    "a = 3\n",
    "```\n",
    "* a : 변수의 이름, 객체가 저장된 메모리 위치를 가리키는 Reference\n",
    "* 3 : 정수형 객체\n",
    "\n",
    "    파이썬에서 `3`은 상수가 아닌 <정수형 객체>이다.\n",
    "\n",
    "    파이썬의 모든 자료형은 `객체`이다. 그러므로 `3`은 우리가 일반적으로 생각하는 상수값이 아닌 하나의 <정수형 객체>이다. 따라서 `a = 3`과 같이 선언하면 `a.real`처럼 내장 함수를 바로 사용할 수 있게 된다. C나 Java를 먼저 공부한 사람이라면 이 점이 헷갈릴 수 있다.\n",
    "\n",
    "    3의 자료형을 확인해보자. `type`은 입력받은 객체의 자료형을 알려주는 함수이다.\n",
    "    ```\n",
    "    type(3)\n",
    "    ```\n",
    "    output `<class 'int'>`"
   ]
  },
  {
   "cell_type": "code",
   "execution_count": null,
   "metadata": {
    "colab": {},
    "colab_type": "code",
    "id": "CI-bZ_enyTOP"
   },
   "outputs": [],
   "source": [
    "# type()으로 객체의 자료형을 알아봅시다.\n",
    "\n",
    "\n"
   ]
  },
  {
   "cell_type": "markdown",
   "metadata": {
    "colab_type": "text",
    "id": "9oBZ2iT0ySZ0"
   },
   "source": [
    "```\n",
    "a = 3\n",
    "b = 3\n",
    "a is b\n",
    "```\n",
    "output `True`\n",
    "\n",
    "`a`가 `3`을 가리키고 `b`도 `3`을 가리킨다. 이 두 변수는 가리키고 있는 대상이 동일하다.\n",
    "\n",
    "( 파이썬 내장 함수인 `is` 함수를 `a is b `처럼 실행했을 때 `True`를 return )\n",
    "\n",
    "`3`의 reference count(참조 개수)는 2개 이다. 만약 `c = 3`이라고 한번 더 입력한다면 reference count는 `3`이 될 것이다.\n",
    "    \n",
    "- `a`, `b`, `c`는 정말 같은 객체를 가리키는 걸까?\n",
    "\n",
    "    파이썬에는 입력한 자료형에 대한 참조 개수를 알려주는 `sys.getrefcount`라는 함수가 있다.\n",
    "```\n",
    "import sys\n",
    "sys.getrefcount(3)\n",
    "```\n",
    "    output `30`\n",
    "\n",
    "    (맨 처음 인터프리터를 실행한 후, `sys.getrefcount(3)`을 수행했을 때 참조 개수가 `6681`이 나오는 이유는 파이썬 내부적으로 `3`이라는 자료형을 이미 사용했기 때문)\n",
    "```\n",
    "a = 3\n",
    "sys.getrefcount(3)\n",
    "```\n",
    "    output `6682`\n",
    "```\n",
    "b = 3\n",
    "sys.getrefcount(3)\n",
    "```\n",
    "    output `6683`\n",
    "```\n",
    "c = 3\n",
    "sys.getrefcount(3)\n",
    "```\n",
    "    output `6684`\n",
    "\n",
    "    숫자가 하나씩 늘어나는 것을 볼 수 있다."
   ]
  },
  {
   "cell_type": "code",
   "execution_count": null,
   "metadata": {
    "colab": {},
    "colab_type": "code",
    "id": "-6QMyBJFzRL6"
   },
   "outputs": [],
   "source": [
    "# reference count를 늘려봅시다.\n",
    "\n",
    "\n"
   ]
  },
  {
   "cell_type": "markdown",
   "metadata": {
    "colab_type": "text",
    "id": "Gsfh8aT_rQO6"
   },
   "source": [
    "## Assignment(할당)\n",
    "1. tuple 자료형으로 여러개 변수에 assign 해줄 수 있다. 튜플 부분에서도 언급했지만 튜플은 괄호를 생략해도 된다.\n",
    "```\n",
    "a, b = ('python', 'life') \n",
    "```\n",
    "2. tuple 안에 있는 여러개 변수들에 한 번에 assign 할 수 있다.\n",
    "```\n",
    "(a, b) = 'python', 'life'\n",
    "```\n",
    "3. list도 변수들에 1:1 대응으로 assgin 할 수 있다.\n",
    "```\n",
    "[a, b] = ['python', 'life'] \n",
    "```\n",
    "4. assign 방향은 오른쪽 부터 왼쪽 방향이다. `'python'`이 `b`에 assign되고, `b`가 `a`에 assign 된다. 이처럼 여러 개의 변수에 같은 값을 대입할 수도 있다.\n",
    "```\n",
    "a = b = 'python' \n",
    "```\n",
    "5. 변수의 값들을 간단하게 바꿀 수 있다. assign되는 방향을 주의하자.\n",
    "```\n",
    "a = 3\n",
    "b = 5\n",
    "a,b = b,a\n",
    "a\n",
    "```\n",
    "    output `5`\n",
    "```\n",
    "b\n",
    "```\n",
    "    output `3`"
   ]
  },
  {
   "cell_type": "code",
   "execution_count": null,
   "metadata": {
    "colab": {},
    "colab_type": "code",
    "id": "ByTtzIOprTuv"
   },
   "outputs": [],
   "source": [
    "# assgin을 연습해봅시다.\n",
    "# 1개의 cell에서는 print를 사용하지 않을 경우, 1개의 값만 출력됩니다.\n",
    "# print(a,b), print(type(a,b))등을 이용해보세요.\n",
    "\n",
    "# 1\n",
    "\n",
    "\n",
    "# 2\n",
    "\n",
    "\n",
    "# 3\n",
    "\n",
    "\n",
    "# 4\n",
    "\n",
    "\n",
    "# 5\n",
    "\n"
   ]
  },
  {
   "cell_type": "markdown",
   "metadata": {
    "colab_type": "text",
    "id": "XKpbrJQkrUQ6"
   },
   "source": [
    "## 메모리에 생성된 변수 삭제\n",
    "\n",
    "`3`이라는 객체를 가리키는 변수들의 개수를 reference count라고 하였는데, `del()` 함수를 사용하여 변수를 삭제하면 reference count는 줄어든다. 만약 해당 객체의 reference count가 `0`이 되면, 객체는 자동으로 사라진다. \n",
    "\n",
    "= Garbage collection(쓰레기 수집) 이라고도 한다.\n",
    "\n",
    "whos로 확인해보자.\n",
    "```\n",
    "a = 3\n",
    "b = 3\n",
    "```\n",
    "```\n",
    "whos\n",
    "```\n",
    "output \n",
    "```\n",
    "Variable   Type    Data/Info\n",
    "----------------------------\n",
    "a          int     3\n",
    "b          int     3\n",
    "```\n",
    "`del()`로 지워보자.\n",
    "```\n",
    "del(a)\n",
    "del(b)\n",
    "```\n",
    "```\n",
    "whos\n",
    "```\n",
    "output `Interactive namespace is empty.`"
   ]
  },
  {
   "cell_type": "code",
   "execution_count": null,
   "metadata": {
    "colab": {},
    "colab_type": "code",
    "id": "jYNyq30frX5-"
   },
   "outputs": [],
   "source": [
    "# 연습해봅시다.(만약 1개의 cell에서 연습하고 싶다면 print()를 사용하세요!)\n",
    "# 변수를 만들어 줍니다.\n",
    "\n",
    "\n",
    "\n"
   ]
  },
  {
   "cell_type": "code",
   "execution_count": null,
   "metadata": {
    "colab": {},
    "colab_type": "code",
    "id": "3EqfVkS4ex2E"
   },
   "outputs": [],
   "source": [
    "# whos로 확인해봅시다.\n",
    "\n"
   ]
  },
  {
   "cell_type": "code",
   "execution_count": null,
   "metadata": {
    "colab": {},
    "colab_type": "code",
    "id": "KaCJOoece0sU"
   },
   "outputs": [],
   "source": [
    "# del로 지워줍니다.\n",
    "\n",
    "\n"
   ]
  },
  {
   "cell_type": "code",
   "execution_count": null,
   "metadata": {
    "colab": {},
    "colab_type": "code",
    "id": "dfVGAE9Ge7oM"
   },
   "outputs": [],
   "source": [
    "# whos로 확인해봅시다.\n",
    "\n"
   ]
  },
  {
   "cell_type": "markdown",
   "metadata": {
    "colab_type": "text",
    "id": "e4GgygRy2fGW"
   },
   "source": [
    "![대체 텍스트](https://media1.tenor.com/images/b53b732d61a1ab47ac19ada4d69a5713/tenor.gif?itemid=8025409)\n",
    "\n",
    "### 수고하셨습니다. :)"
   ]
  }
 ],
 "metadata": {
  "accelerator": "GPU",
  "colab": {
   "collapsed_sections": [],
   "name": "lecture_code1.ipynb",
   "provenance": []
  },
  "hide_input": false,
  "kernelspec": {
   "display_name": "Python 3",
   "language": "python",
   "name": "python3"
  },
  "language_info": {
   "codemirror_mode": {
    "name": "ipython",
    "version": 3
   },
   "file_extension": ".py",
   "mimetype": "text/x-python",
   "name": "python",
   "nbconvert_exporter": "python",
   "pygments_lexer": "ipython3",
   "version": "3.7.4"
  },
  "latex_envs": {
   "LaTeX_envs_menu_present": true,
   "autoclose": true,
   "autocomplete": true,
   "bibliofile": "biblio.bib",
   "cite_by": "apalike",
   "current_citInitial": 1,
   "eqLabelWithNumbers": true,
   "eqNumInitial": 1,
   "hotkeys": {
    "equation": "Ctrl-E",
    "itemize": "Ctrl-I"
   },
   "labels_anchors": false,
   "latex_user_defs": false,
   "report_style_numbering": false,
   "user_envs_cfg": false
  },
  "toc": {
   "base_numbering": 1,
   "nav_menu": {
    "height": "410px",
    "width": "192px"
   },
   "number_sections": true,
   "sideBar": true,
   "skip_h1_title": false,
   "title_cell": "Table of Contents",
   "title_sidebar": "Contents",
   "toc_cell": false,
   "toc_position": {},
   "toc_section_display": true,
   "toc_window_display": false
  },
  "varInspector": {
   "cols": {
    "lenName": 16,
    "lenType": 16,
    "lenVar": 40
   },
   "kernels_config": {
    "python": {
     "delete_cmd_postfix": "",
     "delete_cmd_prefix": "del ",
     "library": "var_list.py",
     "varRefreshCmd": "print(var_dic_list())"
    },
    "r": {
     "delete_cmd_postfix": ") ",
     "delete_cmd_prefix": "rm(",
     "library": "var_list.r",
     "varRefreshCmd": "cat(var_dic_list()) "
    }
   },
   "types_to_exclude": [
    "module",
    "function",
    "builtin_function_or_method",
    "instance",
    "_Feature"
   ],
   "window_display": false
  }
 },
 "nbformat": 4,
 "nbformat_minor": 4
}
