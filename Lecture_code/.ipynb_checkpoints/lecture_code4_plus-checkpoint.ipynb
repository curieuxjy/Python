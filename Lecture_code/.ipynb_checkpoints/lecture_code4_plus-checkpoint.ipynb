{
 "cells": [
  {
   "cell_type": "markdown",
   "metadata": {
    "colab_type": "text",
    "id": "0DpPDHsybMQg"
   },
   "source": [
    "# 사용자 입력과 출력\n",
    "\n",
    "우리들이 사용하는 대부분의 완성된 프로그램은 사용자 입력에 따라 그에 맞는 출력을 내보낸다. 대표적인 예로 게시판에 글을 작성한 후 \"확인\" 버튼을 눌러야만(입력) 우리가 작성한 글이 게시판에 올라가는(출력) 것을 들 수 있다.\n",
    "\n",
    "> 사용자 입력 → 처리(프로그램, 함수 등) → 출력\n",
    "\n",
    "우리는 이미 함수 부분에서 입력과 출력이 어떤 의미를 가지는지 알아보았다. \n",
    "\n",
    "지금부터는 좀 더 다양하게 사용자의 입력을 받는 방법과 출력하는 방법을 알아보자.\n",
    "\n",
    "---\n",
    "\n",
    "## 사용자 입력\n",
    "\n",
    "사용자가 입력한 값을 어떤 변수에 대입하고 싶을 때는 어떻게 해야 할까?\n",
    "\n",
    "\n",
    " input의 사용\n",
    "```\n",
    "a = input()\n",
    "#input Life is too short, you need python\n",
    "\n",
    "a\n",
    "```\n",
    "output `'Life is too short, you need python'`\n",
    "\n",
    "input은 입력되는 모든 것을 문자열(String)로 취급한다.\n",
    "          \n",
    "\n",
    "사용자에게 입력받을 때 \"숫자를 입력하세요\"라든지 \"이름을 입력하세요\"라는 질문이 나오도록 하고 싶을 때가 있다. \n",
    "\n",
    "    그럴 때는 input()의 괄호 안에 질문을 입력하여 프롬프트를 띄워주면 된다.\n",
    "    \n",
    "\n",
    " >  input(\"질문 내용\")\n",
    "\n",
    "    다음 예를 직접 입력해 보자.\n",
    "    \n",
    "\n",
    "        number = input(\"숫자를 입력하세요: \")\n",
    "        #ouput 숫자를 입력하세요:\n",
    "        \n",
    "\n",
    "    위와 같은 질문을 볼 수 있을 것이다.\n",
    "\n",
    "    숫자를 입력하라는 프롬프트에 3을 입력하면 변수 number에 3이 대입된다. \n",
    "    \n",
    "    `print(number)`로 출력해서 제대로 입력되었는지 확인해 보자.\n",
    "    \n",
    "\n",
    "        number = input(\"숫자를 입력하세요: \")\n",
    "        #output & input 숫자를 입력하세요: 3\n",
    "        \n",
    "        print(number)\n",
    "        #output 3\n"
   ]
  },
  {
   "cell_type": "code",
   "execution_count": null,
   "metadata": {
    "colab": {},
    "colab_type": "code",
    "id": "LbycBP08bMk4"
   },
   "outputs": [],
   "source": [
    "#질문을 통해 사용자에게 값을 받아보자!\n",
    "\n",
    "\n",
    "\n"
   ]
  },
  {
   "cell_type": "code",
   "execution_count": null,
   "metadata": {
    "colab": {},
    "colab_type": "code",
    "id": "QMKS3SXhPYxQ"
   },
   "outputs": [],
   "source": [
    "#질문을 통해 사용자에게 값을 받고 간단한 계산도 해보자!\n",
    "\n",
    "\n",
    "a = input(\"2배가 될 숫자를 입력하세요: \")\n",
    "b = a*2\n",
    "print(\"2배가 된 숫자는 %d 입니다.\" %b)\n",
    "\n",
    "#위의 코드는 오류가 난다. 그 이유를 생각해보고 고쳐보자.\n",
    "\n"
   ]
  },
  {
   "cell_type": "markdown",
   "metadata": {
    "colab_type": "text",
    "id": "7rC5wxr6besZ"
   },
   "source": [
    "## print 자세히 알기\n",
    "\n",
    "print의 사용예는 다음과 같다.\n",
    "\n",
    "    a = 123\n",
    "    print(a)\n",
    "    #output 123\n",
    "    \n",
    "    a = \"Python\"\n",
    "    print(a)\n",
    "    #output Python\n",
    "    \n",
    "    a = [1, 2, 3]\n",
    "    print(a)\n",
    "    #output [1, 2, 3]\n",
    "\n",
    "이제 print문으로 할 수 있는 일에 대해서 조금 더 자세하게 알아보자.\n",
    "\n",
    "1. 큰따옴표(\")로 둘러싸인 문자열은 + 연산과 동일하다\n",
    "\n",
    "        print(\"life\" \"is\" \"too short\") # ①\n",
    "        #output lifeistoo short\n",
    "        \n",
    "        print(\"life\"+\"is\"+\"too short\") # ②\n",
    "        #output lifeistoo short\n",
    "\n",
    "    ①의 결과 =  ②의 결과\n",
    "    \n",
    "    즉 따옴표로 둘러싸인 문자열을 연속해서 쓰면 + 연산을 한 것과 같다.\n",
    "\n"
   ]
  },
  {
   "cell_type": "code",
   "execution_count": null,
   "metadata": {
    "colab": {},
    "colab_type": "code",
    "id": "GXnBRC_QbkFj"
   },
   "outputs": [],
   "source": [
    "#콤마 없이 연달아 쓰거나 +를 써서 이어지는 문자열을 만들어보자.\n",
    "\n",
    "\n",
    "\n"
   ]
  },
  {
   "cell_type": "markdown",
   "metadata": {
    "colab_type": "text",
    "id": "Sn-op_j9fgHq"
   },
   "source": [
    "2. 문자열 띄어쓰기는 콤마로 한다\n",
    "\n",
    "        print(\"life\", \"is\", \"too short\")\n",
    "        #output life is too short\n",
    "\n",
    "    콤마(,)를 사용하면 문자열 사이에 띄어쓰기를 할 수 있다.\n",
    "\n"
   ]
  },
  {
   "cell_type": "code",
   "execution_count": null,
   "metadata": {
    "colab": {},
    "colab_type": "code",
    "id": "Rr_m-yMwfg-2"
   },
   "outputs": [],
   "source": [
    "#연이어 쓰지 않고 띄어쓰기를 하고 싶다면?\n",
    "\n",
    "\n",
    "\n",
    "\n"
   ]
  },
  {
   "cell_type": "markdown",
   "metadata": {
    "colab_type": "text",
    "id": "H-g7gXhZfkuU"
   },
   "source": [
    "3. 한 줄에 결괏값 출력하기\n",
    "\n",
    "    for문을 배울 때 만들었던 구구단 프로그램에서 보았듯이 한 줄에 결괏값을 계속 이어서 출력하려면 매개변수 end를 사용해 끝 문자를 지정해야 한다.\n",
    "\n",
    "        for i in range(10):\n",
    "        \tprint(i, end=' ')\n",
    "        \n",
    "        #output 0 1 2 3 4 5 6 7 8 9"
   ]
  },
  {
   "cell_type": "code",
   "execution_count": null,
   "metadata": {
    "colab": {},
    "colab_type": "code",
    "id": "f1qqpabWfnX2"
   },
   "outputs": [],
   "source": [
    "# 한줄 띄지 않고 바로 출력하려면? 이전 퀴즈 코드에서도 배웠던 내용입니다~\n",
    "\n",
    "\n",
    "\n",
    "\n"
   ]
  },
  {
   "cell_type": "markdown",
   "metadata": {
    "colab_type": "text",
    "id": "vaOWbNDtbkm_"
   },
   "source": [
    "# 파일 읽고 쓰기\n",
    "\n",
    "    값을 \"입력\"받을 때는 사용자가 직접 입력하는 방식을 사용했고 \n",
    "\n",
    "    \"출력\"할 때는 모니터 화면에 결괏값을 출력하는 방식으로 프로그래밍해 왔다. \n",
    "\n",
    "\n",
    "    하지만 입출력 방법이 꼭 이것만 있는 것은 아니다. \n",
    "    \n",
    "    이번에는 파일을 통한 입출력 방법에 대해 알아보자. \n",
    "    \n",
    "    1. 파일을 새로 만든 다음 프로그램이 만든 결괏값을 새 파일에 적어볼 것이다. \n",
    "    \n",
    "    2. 또 파일에 적은 내용을 읽고, 새로운 내용을 추가하는 방법도 알아보자.\n",
    "\n",
    "## 파일 생성하기\n",
    "\n",
    "    다음 소스 코드를 에디터로 작성해서 저장한 후 실행해 보자.프로그램을 실행한 디렉터리에 새로운 파일이 하나 생성된 것을 확인할 수 있을 것이다. \n",
    "\n",
    "    f = open(\"새파일.txt\", 'w')\n",
    "    f.close()\n",
    "\n"
   ]
  },
  {
   "cell_type": "code",
   "execution_count": null,
   "metadata": {
    "colab": {},
    "colab_type": "code",
    "id": "FvET79cibk6I"
   },
   "outputs": [],
   "source": [
    "#똑같이 써보자\n",
    "#왼쪽 상단의 > 버튼을 누르고 '파일'에 들어가보면 새로운 파일이 하나 생긴것을 볼 수 있다.\n",
    "\n",
    "\n",
    "\n",
    "\n"
   ]
  },
  {
   "cell_type": "markdown",
   "metadata": {
    "colab_type": "text",
    "id": "jGGsQh2PRUxm"
   },
   "source": [
    "    파일을 생성하기 위해 우리는 파이썬 내장 함수 open을 사용했다. \n",
    "    \n",
    "    open 함수는 다음과 같이 \"파일 이름\"과 \"파일 열기 모드\"를 입력값으로 받고 결괏값으로 파일 객체를 돌려준다.\n",
    "\n",
    "> 파일 객체 = open(파일 이름, 파일 열기 모드)\n",
    "\n",
    "    파일 열기 모드에는 다음과 같은 것이 있다.\n",
    "\n",
    "파일 열기 모드|설명\n",
    "---|---\n",
    "r|읽기모드 - 파일을 읽기만 할 때 사용\n",
    "w|쓰기모드 - 파일에 내용을 쓸 때 사용\n",
    "a|추가모드 - 파일의 마지막에 새로운 내용을 추가 시킬 때 사용\n",
    "\n",
    "    파일을 쓰기 모드로 열면 \n",
    "    \n",
    "    해당 파일이 이미 존재할 경우 원래 있던 내용이 모두 사라지고, 해당 파일이 존재하지 않으면 새로운 파일이 생성된다. \n",
    "    \n",
    "---\n",
    "\n",
    "    위 예에서는 디렉터리에 파일이 없는 상태에서 \n",
    "    \n",
    "    새파일.txt를 쓰기 모드인 'w'로 열었기 때문에 \n",
    "    \n",
    "    -> 새파일.txt라는 이름의 새로운 파일이 현재 디렉터리에 생성되는 것이다.\n",
    "\n",
    "    만약 새파일.txt 파일을 `C:/doit` 디렉터리에 생성하고 싶다면 다음과 같이 작성해야 한다.\n",
    "\n",
    "    f = open(\"doit/새파일2.txt\", 'w')\n",
    "    f.close()\n",
    "\n",
    "    위 예에서 f.close()는 열려 있는 파일 객체를 닫아 주는 역할을 한다. \n",
    "    \n",
    "    사실 이 문장은 생략해도 된다. \n",
    "    \n",
    "    프로그램을 종료할 때 파이썬 프로그램이 열려 있는 파일의 객체를 자동으로 닫아주기 때문이다. \n",
    "\n",
    "    하지만 close()를 사용해서 열려 있는 파일을 직접 닫아 주는 것이 좋다. \n",
    "    \n",
    "    쓰기모드로 열었던 파일을 닫지 않고 다시 사용하려고 하면 오류가 발생하기 때문이다.\n"
   ]
  },
  {
   "cell_type": "code",
   "execution_count": null,
   "metadata": {
    "colab": {},
    "colab_type": "code",
    "id": "F3L6q_VRSTpO"
   },
   "outputs": [],
   "source": [
    "#먼저 해당 디렉토리를 만들어야 한다.\n",
    "!mkdir doit"
   ]
  },
  {
   "cell_type": "code",
   "execution_count": null,
   "metadata": {
    "colab": {},
    "colab_type": "code",
    "id": "ACQJ2vVrSRDP"
   },
   "outputs": [],
   "source": [
    "#위의 예시 코드를 똑같이 써보자.\n",
    "#똑같이 확인은 왼쪽 파일창에서 확인할 수 있다.\n",
    "\n",
    "\n"
   ]
  },
  {
   "cell_type": "markdown",
   "metadata": {
    "colab_type": "text",
    "id": "kZkaHNTGbvqI"
   },
   "source": [
    "## 파일을 쓰기 모드로 열어 출력값 적기\n",
    "\n",
    "    이번에는 에디터를 열고 프로그램의 출력값을 파일에 직접 써 보자.\n",
    "    \n",
    "\n",
    "    f = open(\"doit/새파일.txt\", 'w')\n",
    "    for i in range(1, 11):              #1부터 10까지 i에 대입\n",
    "        data = \"%d번째 줄입니다.\\n\" % i\n",
    "        f.write(data)                   #data를 파일 객체 f에 써라\n",
    "    f.close()\n",
    "\n",
    "    \n",
    "    \n"
   ]
  },
  {
   "cell_type": "markdown",
   "metadata": {
    "colab_type": "text",
    "id": "X6UlnFpYTnMG"
   },
   "source": [
    "    위 프로그램을 다음 프로그램과 비교해 보자.\n",
    "    \n",
    "\n",
    "    for i in range(1, 11):\n",
    "        data = \"%d번째 줄입니다.\\n\" % i\n",
    "        print(data)\n",
    "        \n",
    "\n",
    " > 두 프로그램의 다른 점은 data를 출력하는 방법이다. \n",
    "\n",
    "    \n",
    "    \n",
    "    두 번째 방법은 우리가 계속 사용해 왔던 모니터 화면에 출력하는 방법이고, \n",
    "    \n",
    "    첫 번째 방법은 모니터 화면 대신 파일에 결괏값을 적는 방법이다. \n",
    "\n",
    "    \n",
    "    두 방법의 차이점은 print 대신 파일 객체 f의 write 함수를 사용한 것이다.\n",
    "\n",
    "\n"
   ]
  },
  {
   "cell_type": "code",
   "execution_count": null,
   "metadata": {
    "colab": {},
    "colab_type": "code",
    "id": "mwyqAXKebwD8"
   },
   "outputs": [],
   "source": [
    "#첫번째 예제를 써보세요~\n",
    "\n",
    "\n",
    "\n",
    "\n",
    "\n"
   ]
  },
  {
   "cell_type": "markdown",
   "metadata": {
    "colab_type": "text",
    "id": "Dsug6N_pUE5p"
   },
   "source": [
    "    \n",
    "\n",
    "    이 프로그램을 실행한 doit 디렉터리를 살펴보면 새파일2.txt 파일이 생성되었음을 확인할수 있다. 새파일2.txt 파일에는 어떤 내용이 담겨 있는지 확인해 보자.\n",
    "\n",
    "\n",
    "    모니터 화면에 출력될 내용이 고스란히 파일에 들어 있는 것을 볼 수 있다."
   ]
  },
  {
   "cell_type": "markdown",
   "metadata": {
    "colab_type": "text",
    "id": "SkrHH0MYb4cM"
   },
   "source": [
    "---\n",
    "## 프로그램의 외부에 저장된 파일을 읽는 여러가지 방법\n",
    "\n",
    "    파이썬에는 외부 파일을 읽어 들여 프로그램에서 사용할 수 있는 여러 가지 방법이 있다.\n",
    "\n",
    "    1. readline() 함수 이용하기\n",
    "\n",
    "        첫 번째 방법은 readline() 함수를 사용하는 방법이다. 다음 예를 보자.\n",
    "\n",
    "            f = open(\"doit/새파일.txt\", 'r')\n",
    "            line = f.readline()\n",
    "            print(line)\n",
    "            f.close()\n",
    "\n",
    "        위 예는 f.open(\"새파일.txt\", 'r')로 파일을 읽기 모드로 연 후,\n",
    "    \n",
    "        readline()을 사용해서 파일의 첫 번째 줄을 읽어 출력하는 경우이다. \n",
    "        \n",
    "        \n",
    "\n",
    "        앞에서 만든 새파일.txt를 수정하거나 지우지 않았다면 위 프로그램을 실행했을 때 새파일.txt의 가장 첫 번째 줄이 화면에 출력될 것이다.\n",
    "\n",
    "            #output\n",
    "            1번째 줄입니다.\n",
    "        \n",
    "\n"
   ]
  },
  {
   "cell_type": "code",
   "execution_count": null,
   "metadata": {
    "colab": {},
    "colab_type": "code",
    "id": "VgZO6WQGb4tX"
   },
   "outputs": [],
   "source": [
    "#똑같이 따라해봐요~\n",
    "\n",
    "\n",
    "\n",
    "\n",
    "\n",
    "\n",
    "\n"
   ]
  },
  {
   "cell_type": "markdown",
   "metadata": {
    "colab_type": "text",
    "id": "n_VtPE95U5SC"
   },
   "source": [
    "    만약 모든 줄을 읽어서 화면에 출력하고 싶다면 다음과 같이 작성하면 된다.\n",
    "\n",
    "        f = open(\"doit/새파일.txt\", 'r')\n",
    "        \n",
    "        while True:\n",
    "            line = f.readline()\n",
    "            if not line: break\n",
    "            print(line)\n",
    "        f.close()\n",
    "        \n",
    "        \n",
    "\n",
    "    즉 `while True:` 무한 루프 안에서 `f.readline()`을 사용해 파일을 계속해서 한 줄씩 읽어 들인다. \n",
    "    \n",
    "    만약 더 이상 읽을 줄이 없으면 break를 수행한다.\n",
    "\n",
    "    (`readline()`은 더 이상 읽을 줄이 없을 경우 None을 출력한다).\n",
    "    \n",
    "\n",
    "    앞의 프로그램을 다음 프로그램과 비교해 보자.\n",
    "\n",
    "        while 1:\n",
    "            data = input()\n",
    "            if not data: break\n",
    "            print(data)\n",
    "\n",
    "    위 예는 사용자의 입력을 받아서 그 내용을 출력하는 경우이다. \n",
    "\n",
    "    \n",
    "    비교해보면, 입력을 받는 방식만 다르다는 것을 바로 알 수 있을 것이다. \n",
    "    \n",
    "    두 번째 예는 키보드를 사용한 입력 방법이고, 첫 번째 예는 파일을 사용한 입력 방법이다.\n",
    "\n"
   ]
  },
  {
   "cell_type": "code",
   "execution_count": null,
   "metadata": {
    "colab": {},
    "colab_type": "code",
    "id": "HRKrBRxkVitg"
   },
   "outputs": [],
   "source": [
    "#모든 줄을 출력해보자\n",
    "\n",
    "\n",
    "\n",
    "\n",
    "\n"
   ]
  },
  {
   "cell_type": "markdown",
   "metadata": {
    "colab_type": "text",
    "id": "KJISawaUf2zQ"
   },
   "source": [
    "    2. readlines() 함수 사용하기\n",
    "\n",
    "    두 번째 방법은 readlines() 함수를 사용하는 방법이다. \n",
    "    \n",
    "\n",
    "        f = open(\"doit/새파일.txt\", 'r')\n",
    "        lines = f.readlines()\n",
    "        for line in lines:\n",
    "            print(line)\n",
    "        f.close()\n",
    "        \n",
    "        \n",
    "\n",
    "    readlines() 함수는 파일의 모든 줄을 읽어서 각각의 줄을 요소로 갖는 리스트로 돌려준다. \n",
    "\n",
    "    따라서 위 예에서 lines는 리스트 [\"1 번째 줄입니다.\", \"2 번째 줄입니다.\", ..., \"10 번째 줄입니다.\"]가 된다. \n",
    "    \n",
    "    \n",
    "    f.readlines()에서 f.readline()과는 달리 s가 하나 더 붙어 있음에 유의하자.\n",
    "\n"
   ]
  },
  {
   "cell_type": "code",
   "execution_count": null,
   "metadata": {
    "colab": {},
    "colab_type": "code",
    "id": "yg2_gXSrf553"
   },
   "outputs": [],
   "source": [
    "#for 문을 들어가기 전에 print(type(lines))을 쓰면 자료형의 타입을 알수 있어요~\n",
    "\n",
    "\n",
    "\n",
    "\n",
    "\n"
   ]
  },
  {
   "cell_type": "markdown",
   "metadata": {
    "colab_type": "text",
    "id": "tkaAA-m5f6KC"
   },
   "source": [
    "    3. read() 함수 사용하기\n",
    "\n",
    "    세 번째 방법은 read ()함수를 사용하는 방법이다.\n",
    "    \n",
    "\n",
    "        f = open(\"doit/새파일.txt\", 'r')\n",
    "        data = f.read()\n",
    "        print(data)\n",
    "        f.close()\n",
    "        \n",
    "\n",
    "    f.read()는 파일의 내용 전체를 문자열로 돌려준다. 따라서 위 예의 data는 파일의 전체 내용이다."
   ]
  },
  {
   "cell_type": "code",
   "execution_count": null,
   "metadata": {
    "colab": {},
    "colab_type": "code",
    "id": "E0r9vZIpf7Oa"
   },
   "outputs": [],
   "source": [
    "#똑같이 따라해봐요~\n",
    "\n",
    "\n",
    "\n",
    "\n",
    "\n"
   ]
  },
  {
   "cell_type": "markdown",
   "metadata": {
    "colab_type": "text",
    "id": "mNh7WRGeb-XA"
   },
   "source": [
    "## 파일에 새로운 내용 추가하기\n",
    "\n",
    "    쓰기 모드('w')로 파일을 열 때 이미 존재하는 파일을 열면 그 파일의 내용이 모두 사라지게 된다. \n",
    "\n",
    "    하지만 원래 있던 값을 유지하면서 단지 새로운 값만 추가해야 할 경우도 있다. \n",
    "    \n",
    "    이런 경우에는 파일을 추가 모드('a')로 열면 된다.\n",
    "\n",
    "\n",
    "\n",
    "    f = open(\"doit/새파일.txt\",'a')\n",
    "    for i in range(11, 20):                    #11부터 19까지 i에 대입\n",
    "        data = \"%d번째 줄입니다.\\n\" % i\n",
    "        f.write(data)\n",
    "    f.close()\n",
    "    \n",
    "    \n",
    "\n",
    "    위 예는 새파일.txt 파일을 추가 모드('a')로 열고 write를 사용해서 결괏값을 기존 파일에 추가해 적는 예이다. \n",
    "    \n",
    "    여기에서 추가 모드로 파일을 열었기 때문에 새파일.txt 파일이 원래 가지고 있던 내용 바로 다음부터 결괏값을 적기 시작한다.\n",
    "\n",
    "    왼쪽 파일창에 들어가서 새파일.txt 파일을 확인해 보면 원래 있던 내용 뒤에 새로운 내용이 추가되었음을 볼 수 있다.\n",
    "\n"
   ]
  },
  {
   "cell_type": "code",
   "execution_count": null,
   "metadata": {
    "colab": {},
    "colab_type": "code",
    "id": "bgGDqyQ1b-pa"
   },
   "outputs": [],
   "source": [
    "#따라해봐요~\n",
    "\n",
    "\n",
    "\n",
    "\n",
    "\n"
   ]
  },
  {
   "cell_type": "markdown",
   "metadata": {
    "colab_type": "text",
    "id": "Bnak9kqWcFmX"
   },
   "source": [
    "## with문과 함께 사용하기\n",
    "\n",
    "    지금까지 살펴본 예제를 보면 항상 다음과 같은 방식으로 파일을 열고 닫아 왔다.\n",
    "    \n",
    "\n",
    "    f = open(\"foo.txt\", 'w')\n",
    "    f.write(\"Life is too short, you need python\")\n",
    "    f.close()\n",
    "    \n",
    "\n",
    "    파일을 열면 위와 같이 항상 close해 주는 것이 좋다. \n",
    "    \n",
    "    하지만 이렇게 파일을 열고 닫는 것을 자동으로 처리할 수 있다면 편리하지 않을까? \n",
    "    \n",
    "    \n",
    "\n",
    "    파이썬의 with문이 바로 이런 역할을 해준다. \n",
    "    \n",
    "    다음 예는 with문을 사용해서 위 예제를 다시 작성한 모습이다.\n",
    "    \n",
    "\n",
    "    with open(\"foo.txt\", \"w\") as f:\n",
    "        f.write(\"Life is too short, you need python\")\n",
    "        \n",
    "\n",
    "    위와 같이 with문을 사용하면 with 블록을 벗어나는 순간 열린 파일 객체 f가 자동으로 close되어 편리하다.\n",
    "\n"
   ]
  },
  {
   "cell_type": "code",
   "execution_count": null,
   "metadata": {
    "colab": {},
    "colab_type": "code",
    "id": "r_Z8Als9cJMl"
   },
   "outputs": [],
   "source": [
    "#위의 코드를 실행해봐요~\n",
    "#foo.txt가 생기고 알아서 close 됩니다!\n",
    "\n",
    "\n",
    "\n"
   ]
  },
  {
   "cell_type": "markdown",
   "metadata": {
    "colab_type": "text",
    "id": "_JskVPoagBHY"
   },
   "source": [
    "### sys 모듈로 매개변수 주기\n",
    "\n",
    "    명령 프롬프트(DOS)를 사용해 본 분들은 다음과 같은 명령어를 사용해 봤을 것이다.\n",
    "    \n",
    "\n",
    "        type a.txt\n",
    "        \n",
    "\n",
    "    위 type 명령어는 바로 뒤에 적힌 파일 이름을 인수로 받아 그 내용을 출력해 주는 명령 프롬프트 명령어이다.\n",
    "    \n",
    "\n",
    "    대부분의 명령 프롬프트 명령어는 다음과 같이 명령행(명령 프롬프트 창)에서 매개변수를 직접 주어 프로그램을 실행하는 방식을 따른다. \n",
    "    \n"
   ]
  },
  {
   "cell_type": "code",
   "execution_count": null,
   "metadata": {
    "colab": {},
    "colab_type": "code",
    "id": "qpZSwMOJgDKI"
   },
   "outputs": [],
   "source": [
    "#colaboratory에서는 명령어 앞에 '!'를 써주면 실행되요~\n",
    "#type 새파일.txt 를 해봅시다!\n",
    "\n",
    "\n"
   ]
  },
  {
   "cell_type": "markdown",
   "metadata": {
    "colab_type": "text",
    "id": "2FU8vGz3ZNfe"
   },
   "source": [
    "    이러한 기능을 파이썬 프로그램에도 적용할 수가 있다.\n",
    "\n",
    "   > 명령 프롬프트 명령어 [인수1 인수2 ...]\n",
    "\n",
    "    \n",
    "    \n",
    "    파이썬에서는 sys 모듈을 사용하여 매개변수를 직접 줄 수있다. \n",
    "    \n",
    "    sys 모듈을 사용하려면 아래 예의 import sys처럼 import 명령어를 사용해야 한다.\n",
    "\n",
    "     \n",
    "        import sys\n",
    "        \n",
    "        args = sys.argv[1:]\n",
    "        for i in args:\n",
    "            print(i)\n",
    "            \n",
    "\n",
    "    위 예는 입력받은 인수를 for문을 사용해 차례대로 하나씩 출력하는 예이다. \n",
    "    \n",
    "    sys 모듈의 argv는 명령 창에서 입력한 인수를 의미한다. \n",
    "\n",
    "    즉, 다음과 같이 입력했다면 argv[0]은 파일 이름 sys1.py가 되고 argv[1]부터는 뒤에 따라오는 인수가 차례로 argv의 요소가 된다.\n",
    "    \n",
    "![대체 텍스트](https://wikidocs.net/images/page/26/04_005.png)\n",
    "    \n",
    "    \n",
    "    1. 위의 코드를 메모장을 열어 작성하고 \"sys1.py\"로 저장\n",
    "    \n",
    "    2. 콜렙에서 왼쪽 상단 > 버튼을 누르고 파일로 들어감\n",
    "    \n",
    "    3. 업로드 버튼 누르고 \"sys1.py\"파일 업로드 \n",
    "    \n",
    "    4. 명령어 cd .. 을 통해 상위 폴더로 이동\n",
    "    \n",
    "    3. 명령어 !python sys1.py aaa bbb ccc 실행\n",
    "    \n",
    "\n",
    "        !python sys1.py aaa bbb ccc\n",
    "        \n",
    "        \n",
    "        #output\n",
    "        aaa\n",
    "        bbb\n",
    "        ccc\n",
    "\n"
   ]
  },
  {
   "cell_type": "code",
   "execution_count": null,
   "metadata": {
    "colab": {},
    "colab_type": "code",
    "id": "zemsrR26ZPIq"
   },
   "outputs": [],
   "source": [
    "#지금 content 안에 있기 때문에 상위 폴더로 나가는 명령어예요~\n",
    "cd .."
   ]
  },
  {
   "cell_type": "code",
   "execution_count": null,
   "metadata": {
    "colab": {},
    "colab_type": "code",
    "id": "5UXokQiRaE8D"
   },
   "outputs": [],
   "source": [
    "#위의 코드를 똑같이 써봅시다~\n",
    "\n",
    "\n",
    "\n",
    "\n"
   ]
  },
  {
   "cell_type": "markdown",
   "metadata": {
    "colab_type": "text",
    "id": "n0vpXkrjY25c"
   },
   "source": [
    "    위 예를 사용해서 간단한 스크립트를 하나 만들어 보자.\n",
    "\n",
    "        import sys\n",
    "        args = sys.argv[1:]\n",
    "        for i in args:\n",
    "            print(i.upper(), end=' ')\n",
    "\n",
    "    문자열 관련 함수인 upper()를 사용하여 명령 행에 입력된 소문자를 대문자로 바꾸어 주는 간단한 프로그램이다. \n",
    "    \n",
    "    \n",
    "    \n",
    "    1. 위의 코드를 메모장을 열어 작성하고 \"sys2.py\"로 저장\n",
    "\n",
    "    2. 콜렙에서 왼쪽 상단 > 버튼을 누르고 파일로 들어감\n",
    "\n",
    "    3. 업로드 버튼 누르고 \"sys2.py\"파일 업로드 \n",
    "\n",
    "    4. 명령어 cd .. 을 통해 상위 폴더로 이동\n",
    "\n",
    "    3. 명령어 !python sys2.py aaa bbb ccc 실행\n",
    "\n",
    "\n",
    "    결과는 다음과 같다.\n",
    "\n",
    "        AAA BBB CCC"
   ]
  },
  {
   "cell_type": "code",
   "execution_count": null,
   "metadata": {
    "colab": {},
    "colab_type": "code",
    "id": "bCPvbX3AYWPj"
   },
   "outputs": [],
   "source": [
    "#위의 방법대로 따라하고 명령어를 써보세요~\n",
    "#4번은 위의 예제를 해보고 연달아 하고 있다면 생략해도 됩니다!\n",
    "\n",
    "\n",
    "\n"
   ]
  },
  {
   "cell_type": "markdown",
   "metadata": {
    "colab_type": "text",
    "id": "h7eAV_rurvhc"
   },
   "source": [
    "## 정말 수고하셨습니다!! 추가 코드이니 안보내셔도 돼요~\n",
    "![대체 텍스트](https://media.giphy.com/media/xT9DPCU60mRbtGw7Ys/giphy.gif)"
   ]
  }
 ],
 "metadata": {
  "colab": {
   "collapsed_sections": [],
   "name": "lecture_code4_plus.ipynb",
   "provenance": [],
   "version": "0.3.2"
  },
  "kernelspec": {
   "display_name": "Python 3",
   "language": "python",
   "name": "python3"
  },
  "language_info": {
   "codemirror_mode": {
    "name": "ipython",
    "version": 3
   },
   "file_extension": ".py",
   "mimetype": "text/x-python",
   "name": "python",
   "nbconvert_exporter": "python",
   "pygments_lexer": "ipython3",
   "version": "3.8.1"
  }
 },
 "nbformat": 4,
 "nbformat_minor": 4
}
