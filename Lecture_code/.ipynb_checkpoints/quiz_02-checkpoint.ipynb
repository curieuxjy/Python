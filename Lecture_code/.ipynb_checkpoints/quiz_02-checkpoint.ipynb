{
 "cells": [
  {
   "cell_type": "markdown",
   "metadata": {},
   "source": [
    "# 1\n",
    "[1, 3, 5, 4, 2]라는 리스트를 [5, 4, 3, 2, 1]로 만들어 보자."
   ]
  },
  {
   "cell_type": "code",
   "execution_count": null,
   "metadata": {},
   "outputs": [],
   "source": []
  },
  {
   "cell_type": "markdown",
   "metadata": {},
   "source": [
    "# 2\n",
    "['Life', 'is', 'too', 'short']라는 리스트를 Life is too short라는 문자열로 만들어 출력해 보자."
   ]
  },
  {
   "cell_type": "code",
   "execution_count": null,
   "metadata": {},
   "outputs": [],
   "source": []
  },
  {
   "cell_type": "markdown",
   "metadata": {},
   "source": [
    "# 3\n",
    "(1, 2, 3)이라는 튜플에 4라는 값을 추가하여 (1, 2, 3, 4)처럼 만들어 출력해 보자."
   ]
  },
  {
   "cell_type": "code",
   "execution_count": null,
   "metadata": {},
   "outputs": [],
   "source": []
  },
  {
   "cell_type": "markdown",
   "metadata": {},
   "source": [
    "# 4\n",
    "\n",
    "딕셔너리 a에서 'B'에 해당되는 값을 (1)추출하고 (2)삭제해보자.\n",
    "\n",
    "`a = {'A':90, 'B':80, 'C':70}`"
   ]
  },
  {
   "cell_type": "code",
   "execution_count": null,
   "metadata": {},
   "outputs": [],
   "source": [
    "\n",
    "\n",
    "result = \n",
    "print() #B를 추출한 후 딕셔너리\n",
    "print() #B에 해당되는 값"
   ]
  },
  {
   "cell_type": "markdown",
   "metadata": {},
   "source": [
    "# 5\n",
    "\n",
    "다음 딕셔너리에서 2.5의 값을 추출해보자.\n",
    "```\n",
    "demo = {2:['a', 'b'], (2, 4): 27, 'x':{1:2.5, 'a':500}}\n",
    "```\n",
    "output으로 `2.5`가 출력될 수 있도록 코드를 작성해주세요."
   ]
  },
  {
   "cell_type": "code",
   "execution_count": null,
   "metadata": {},
   "outputs": [],
   "source": []
  },
  {
   "cell_type": "markdown",
   "metadata": {},
   "source": [
    "# 6\n",
    "\n",
    "a 리스트에서 중복된 숫자들을 제거해 보자.\n",
    "\n",
    "`a = [1, 1, 1, 2, 2, 3, 3, 3, 4, 4, 5]`"
   ]
  },
  {
   "cell_type": "code",
   "execution_count": null,
   "metadata": {},
   "outputs": [],
   "source": [
    "\n",
    "\n",
    "\n"
   ]
  },
  {
   "cell_type": "markdown",
   "metadata": {},
   "source": [
    "# 7\n",
    "파이썬은 다음처럼 동일한 값에 여러 개의 변수를 선언할 수 있다. \n",
    "\n",
    "아래와 같이 a, b 변수를 선언한 후 a의 첫 번째 요소값을 변경하면 b의 값은 어떻게 될까? \n",
    "\n",
    "그리고 이런 결과가 나오는 이유에 대해서 생각해보자."
   ]
  },
  {
   "cell_type": "code",
   "execution_count": null,
   "metadata": {},
   "outputs": [],
   "source": [
    "a = b = [1, 2, 3]\n",
    "a[1] = 4\n",
    "# line by line으로 먼저 생각해보시고!\n",
    "# print로 찍어서 확인해보세요.\n",
    "# 생각하신 a,b 값이 나왔나요?\n",
    "\n",
    "\n"
   ]
  },
  {
   "cell_type": "markdown",
   "metadata": {},
   "source": [
    "# 8\n",
    "윤년을 판단해주는 코드를 작성해봅시다.\n",
    "\n",
    "판단하는 알고리즘은 다음과 같습니다.\n",
    "1. /4 해서 나누어 떨어지는 해인지 여부(나누어 떨어지면 일단 윤년 O)\n",
    "2. 1번에 해당하는 해 중에 년도/100이 또 나누어 떨어지면 윤년 x\n",
    "3. 2번에 해당하면서 년도/400이면 윤년 O"
   ]
  },
  {
   "cell_type": "code",
   "execution_count": 3,
   "metadata": {},
   "outputs": [
    {
     "name": "stdin",
     "output_type": "stream",
     "text": [
      " 444\n"
     ]
    },
    {
     "name": "stdout",
     "output_type": "stream",
     "text": [
      "윤년\n"
     ]
    }
   ],
   "source": [
    "# control을 복습할 수 있는 매우 좋은 예제입니다!\n",
    "# 끝까지 도전해보세요~ :)\n",
    "year = int(input())\n",
    "if year%4==0:\n",
    "    result = \"윤년\"\n",
    "    if year%100==0:\n",
    "        result = \"평년\"\n",
    "        if year%400==0:\n",
    "            result = \"윤년\"\n",
    "print(result)"
   ]
  },
  {
   "cell_type": "code",
   "execution_count": 13,
   "metadata": {},
   "outputs": [
    {
     "name": "stdin",
     "output_type": "stream",
     "text": [
      " 400\n"
     ]
    },
    {
     "name": "stdout",
     "output_type": "stream",
     "text": [
      "평년\n"
     ]
    }
   ],
   "source": [
    "year = int(input())\n",
    "if year%4==0 and year%100==0: result=\"평년\"\n",
    "elif year%4==0 and year%400==0: result=\"윤년\"\n",
    "else: result=\"평년\"\n",
    "print(result)"
   ]
  },
  {
   "cell_type": "code",
   "execution_count": null,
   "metadata": {},
   "outputs": [],
   "source": [
    "#454 평년\n",
    "#400 윤년\n",
    "#100 평년\n",
    "#4 윤년\n",
    "#500 평년\n",
    "#600 평년"
   ]
  }
 ],
 "metadata": {
  "kernelspec": {
   "display_name": "Python 3",
   "language": "python",
   "name": "python3"
  },
  "language_info": {
   "codemirror_mode": {
    "name": "ipython",
    "version": 3
   },
   "file_extension": ".py",
   "mimetype": "text/x-python",
   "name": "python",
   "nbconvert_exporter": "python",
   "pygments_lexer": "ipython3",
   "version": "3.7.4"
  }
 },
 "nbformat": 4,
 "nbformat_minor": 4
}
