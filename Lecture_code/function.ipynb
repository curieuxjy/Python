{
 "cells": [
  {
   "cell_type": "markdown",
   "metadata": {
    "colab_type": "text",
    "id": "3VU8Um60sbg8"
   },
   "source": [
    "# 함수 Function"
   ]
  },
  {
   "cell_type": "markdown",
   "metadata": {
    "colab_type": "text",
    "id": "FG8IrUj3sgIJ"
   },
   "source": [
    "여기서부터는 용어도 잘 봐야하므로 눈을 크게 뜨고 고고!\n",
    "\n",
    "![대체 텍스트](https://media1.tenor.com/images/5cb729557b8dd5817f516026b21c4301/tenor.gif?itemid=12456262)\n",
    "\n",
    "\n",
    "\n",
    "프로그래머는 프로그램을 만들기 전에 어떤 식으로 동작하게 할 것인지 설계 부터 하게 되는데 그때 가장 중요한 부분이 바로 입출력의 설계이다. \n",
    "\n",
    "(특정 프로그램만이 사용하는 함수를 만들 것인지 아니면 모든 프로그램이 공통으로 사용하는 함수를 만들 것인지, \n",
    "\n",
    "더 나아가 오픈 API로 공개하여 외부 프로그램들도 사용할 수 있게 만들 것인지 그 모든 것이 입출력과 관련이 있다.)\n",
    "\n",
    "\n",
    "\n",
    "함수를 설명하기 전에 믹서를 생각해 보자. 우리는 믹서에 과일을 넣는다. \n",
    "\n",
    "그리고 믹서를 사용해서 과일을 갈아 과일 주스를 만든다. \n",
    "\n",
    "우리가 믹서에 넣는 과일은 \"입력\"이 되고 과일 주스는 \"출력(결괏값)\"이 된다.\n",
    "\n",
    "그렇다면 믹서는 무엇인가?\n",
    "\n",
    "![대체 텍스트](https://wikidocs.net/images/page/24/mixer.png)\n",
    "(믹서는 과일을 입력받아 주스를 출력하는 함수와 같다.)\n",
    "\n",
    "\n",
    "우리가 배우려는 함수가 바로 믹서와 비슷하다. 입력값을 가지고 어떤 일을 수행한 다음에 그 결과물을 내어놓는 것, \n",
    "\n",
    "이것이 바로 함수가 하는 일이다. \n"
   ]
  },
  {
   "cell_type": "markdown",
   "metadata": {
    "colab_type": "text",
    "id": "g7-LfLzqZYA7"
   },
   "source": [
    "## 함수를 사용하는 이유는 무엇일까?\n",
    "\n",
    "1. 프로그래밍을 하다 보면 `똑같은 내용을 반복`해서 작성할 때가 종종 있다. \n",
    "\n",
    "    이때가 바로 함수가 필요한 때이다!\n",
    "    \n",
    "    즉 반복되는 부분이 있을 경우 \n",
    "    \n",
    "   \"반복적으로 사용되는 가치 있는 부분\"을 한 뭉치로 묶어서 \n",
    "    \n",
    "   \"어떤 입력값을 주었을 때 어떤 결괏값을 돌려준다\"라는 식의 함수로 작성하는 것이 현명하다.\n",
    "\n",
    "\n",
    "2. `프로그램 흐름`을 일목요연하게 볼 수 있기 때문이다. \n",
    "\n",
    "    마치 공장에서 원재료가 여러 공정을 거쳐 하나의 상품이 되는 것처럼 \n",
    "    \n",
    "    프로그램에서도 입력한 값이 여러 함수를 거치면서 원하는 결괏값을 내는 것을 볼 수 있다. \n",
    "    \n",
    "    이렇게 되면 프로그램 흐름도 잘 파악할 수 있고 오류가 어디에서 나는지도 바로 알아차릴 수 있다. \n",
    "    \n",
    "--- \n",
    "## Python 함수의 구조\n",
    "\n",
    "파이썬 함수의 구조는 다음과 같다.\n",
    "```\n",
    "def 함수명(매개변수):\n",
    "    <수행할 문장1>\n",
    "    <수행할 문장2>\n",
    "    ...\n",
    "```    \n",
    "        \n",
    "\n",
    "* `def`는 함수를 만들 때 사용하는 예약어이며, \n",
    "* 함수 이름은 함수를 만드는 사람이 임의로 만들 수 있다. \n",
    "* 함수 이름 뒤 괄호 안의 매개변수는 이 함수에 입력될 값이라는 뜻이다. \n",
    "\n",
    "\n",
    "이렇게 함수를 정의한 다음 `if`, `while`, `for`문 등과 마찬가지로 함수에서 수행할 문장을 입력한다.\n",
    "\n",
    "```\n",
    "def sum(a, b): \n",
    "    return a + b\n",
    "```\n",
    "\n",
    "위 함수는 다음과 같이 풀이된다.\n",
    "\n",
    "> \"이 함수의 이름(함수 이름)은 add이고 입력으로 2개의 값을 받으며 결괏값은 2개의 입력값을 더한 값이다.\"\n",
    "\n",
    "여기에서 `return`은 함수의 결괏값을 돌려주는 명령어이다. \n",
    "\n",
    "\n",
    "먼저 다음과 같이 `sum` 함수를 만들자.\n",
    "```\n",
    "def sum(a, b): \n",
    "    return a + b\n",
    "```\n",
    "\n",
    "이제 직접 sum 함수를 사용해 보자.\n",
    "```\n",
    "a = 3\n",
    "b = 4\n",
    "c = sum(a, b)\n",
    "print(c)\n",
    "``` \n",
    "output `7`\n",
    "\n",
    "변수 `a`에 `3`, `b`에 `4`를 대입한 다음 앞에서 만든 sum함수에 a와 b를 입력값으로 넣어 준다. \n",
    "\n",
    "그리고 변수 c에 add 함수의 결괏값을 대입하면 `print(c)`로 c의 값을 확인할 수 있다."
   ]
  },
  {
   "cell_type": "code",
   "execution_count": null,
   "metadata": {
    "colab": {},
    "colab_type": "code",
    "id": "ZWYAQC5Jrqmk"
   },
   "outputs": [],
   "source": [
    "#위에 글이 너무 많았죠ㅠㅠ 드디어 실습!!\n",
    "#위와 같이 sum 함수를 만들어보자\n",
    "\n",
    "\n",
    "\n"
   ]
  },
  {
   "cell_type": "markdown",
   "metadata": {
    "colab_type": "text",
    "id": "-iTX82G4aHJ9"
   },
   "source": [
    "## 입력값과 결과값에 따른 함수의 형태 4가지\n",
    "\n",
    "함수는 들어온 입력값을 받아 어떤 처리를 하여 적절한 결괏값을 돌려준다.\n",
    "\n",
    "![대체 텍스트](https://upload.wikimedia.org/wikipedia/commons/b/b8/Apple_slicing_function.png)\n",
    "\n",
    "### 함수의 형태\n",
    "\n",
    "함수의 형태는 입력값과 결괏값의 존재 유무에 따라 4가지 유형으로 나뉜다. \n",
    "\n",
    "\n",
    "1. `일반적`인 함수\n",
    "\n",
    "    입력값이 있고 결괏값이 있는 함수가 일반적인 함수이다. 앞으로 여러분이 프로그래밍을 할 때 만들 함수는 대부분 다음과 비슷한 형태일 것이다.\n",
    "\n",
    "    ```\n",
    "    def 함수이름(매개변수):\n",
    "        <수행할 문장>\n",
    "        ...\n",
    "        return 결과값\n",
    "    ```\n",
    "\n",
    "    다음은 일반 함수의 전형적인 예이다.\n",
    "\n",
    "    ```\n",
    "    def sum(a, b): \n",
    "        result = a + b \n",
    "        return result\n",
    "    ```\n",
    "\n",
    "    sum 함수는 2개의 입력값을 받아서 서로 더한 결괏값을 돌려준다.\n",
    "\n",
    "    이 함수를 사용하는 방법은 다음과 같다. 입력값으로 3과 4를 주고 결괏값을 돌려받아 보자.\n",
    "\n",
    "    ```\n",
    "    a = sum(3, 4)\n",
    "    print(a)\n",
    "    ```\n",
    "    output `7`\n",
    "    \n",
    "    이처럼 입력값과 결괏값이 있는 함수의 사용법을 정리하면 다음과 같다.\n",
    "\n",
    "> `결괏값을 받을 변수 = 함수명(입력 인수 1, 입력 인수 2, ...)`"
   ]
  },
  {
   "cell_type": "code",
   "execution_count": null,
   "metadata": {
    "colab": {},
    "colab_type": "code",
    "id": "MTbeb6vktyyR"
   },
   "outputs": [],
   "source": [
    "# 기본적인 함수를 연습해봐요~ 이제 앞으로 조금씩 변형될거예요ㅎㅎ\n",
    "\n",
    "\n",
    "\n"
   ]
  },
  {
   "cell_type": "markdown",
   "metadata": {
    "colab_type": "text",
    "id": "NyzfG01ed7UC"
   },
   "source": [
    " 2. `입력값이 없는` 함수\n",
    "    \n",
    "    입력값이 없는 함수가 존재할까?\n",
    "```\n",
    "def say(): \n",
    "    return 'Hi'\n",
    "```\n",
    "    say라는 이름의 함수를 만들었다. 그런데 매개변수 부분을 나타내는 함수 이름 뒤의 괄호 안이 비어 있다. \n",
    "\n",
    "    이 함수는 어떻게 사용하는 걸까?\n",
    "```\n",
    "a = say()\n",
    "print(a)\n",
    "```\n",
    "    output `Hi`\n",
    "\n",
    "    위 함수를 쓰기 위해서는 `say()`처럼 괄호 안에 아무 값도 넣지 않아야 한다. \n",
    "\n",
    "    이 함수는 입력값은 없지만 결괏값으로 Hi라는 문자열을 돌려준다. \n",
    "\n",
    "    `a = say()`처럼 작성하면 a에 Hi 문자열이 대입되는 것이다.\n",
    "\n",
    "    이처럼 입력값이 없고 결괏값만 있는 함수는 다음과 같이 사용된다.\n",
    "\n",
    "    > `결괏값을 받을 변수 = 함수 이름()`"
   ]
  },
  {
   "cell_type": "code",
   "execution_count": null,
   "metadata": {
    "colab": {},
    "colab_type": "code",
    "id": "eydTwLiqd7qa"
   },
   "outputs": [],
   "source": [
    "# 입력값이 없다니?! 입력없이 부르기만 하면 무엇인가를 하는 함수를 연습해봐요~\n",
    "\n",
    "\n",
    "\n"
   ]
  },
  {
   "cell_type": "markdown",
   "metadata": {
    "colab_type": "text",
    "id": "vfCgUQzad8DJ"
   },
   "source": [
    "3. `결괏값이 없는` 함수\n",
    "\n",
    "    결괏값이 없는 함수 역시 존재한다. \n",
    "    ```\n",
    "    def sum(a, b): \n",
    "        print(\"%d, %d의 합은 %d입니다.\" % (a, b, a+b))\n",
    "    ```\n",
    "    결괏값이 없는 함수는 호출해도 돌려주는 값이 없기 때문에 다음과 같이 사용한다.\n",
    "    \n",
    "    `sum(3, 4)`\n",
    "    \n",
    "    output `3, 4의 합은 7입니다.`\n",
    "\n",
    "    즉 결괏값이 없는 함수는 다음과 같이 사용한다.\n",
    "    \n",
    "    > `함수 이름(매개변수1, 매개변수2, ...)`\n",
    "\n",
    "    결괏값이 진짜 없는지 확인해 보자.\n",
    "\n",
    "    `a = sum(3, 4)`\n",
    "\n",
    "    output `3, 4의 합은 7입니다.`\n",
    "\n",
    "    ‘3, 4의 합은 7입니다.’라는 문장을 출력해 주었는데 왜 결괏값이 없다는 것인지 의아하게 생각할 것이다. \n",
    "\n",
    "    print문은 함수의 구성 요소 중 하나인 <수행할 문장>에 해당하는 부분일 뿐이다. \n",
    "\n",
    "    결괏값은 당연히 없다. \n",
    "\n",
    "    결괏값은 오직 return 명령어로만 돌려받을 수 있다.\n",
    "\n",
    "    확인해 보자! 돌려받을 값을 a 변수에 대입하여 출력해 보면 결괏값이 있는지 없는지 알 수 있다.\n",
    "    ```\n",
    "    a = sum(3, 4)\n",
    "    print(a)\n",
    "    ```\n",
    "    output `None`\n",
    "\n",
    "    `a` 값은 `None`이다. \n",
    "\n",
    "    `None`이란 거짓을 나타내는 자료형이라고 언급한 적이 있다. \n",
    "\n",
    "    sum 함수처럼 결괏값이 없을 때 `a = sum(3, 4)`처럼 쓰면 함수 sum는 반환 값으로 a 변수에 `None`을 돌려준다. \n",
    "\n",
    "    이것을 가지고 결괏값이 있다고 생각하면 안된다."
   ]
  },
  {
   "cell_type": "code",
   "execution_count": null,
   "metadata": {
    "colab": {},
    "colab_type": "code",
    "id": "-YoY28N6d8a8"
   },
   "outputs": [],
   "source": [
    "# 결과가 없는 함수도 있어요! 이게 은근 가끔씩 프로그래밍 할 때 어려움을 만들어요...ㅜ\n",
    "# 위의 예를 따라해볼까요~?\n",
    "\n",
    "\n",
    "\n"
   ]
  },
  {
   "cell_type": "markdown",
   "metadata": {
    "colab_type": "text",
    "id": "Wi28Cj3AeQMd"
   },
   "source": [
    "4. 입력값도 결괏값도 없는 함수\n",
    "\n",
    "    입력값도 결괏값도 없는 함수 역시 존재한다.\n",
    "    ```\n",
    "    def say(): \n",
    "        print('Hi')\n",
    "    ```\n",
    "\n",
    "    입력 인수를 받는 매개변수도 없고 return문도 없으니 입력값도 결괏값도 없는 함수이다.\n",
    "\n",
    "    이 함수를 사용하는 방법은 단 한 가지이다.\n",
    "\n",
    "    ```\n",
    "    say()\n",
    "    ```\n",
    "    output `Hi`\n",
    "    즉 입력값도 결괏값도 없는 함수는 다음과 같이 사용한다.\n",
    "\n",
    "    > `함수 이름()`"
   ]
  },
  {
   "cell_type": "code",
   "execution_count": null,
   "metadata": {
    "colab": {},
    "colab_type": "code",
    "id": "CRuwfCDpeQj5"
   },
   "outputs": [],
   "source": [
    "#빼다빼다 이제 다 빼버려요ㅎㅎ\n",
    "#연습해봐요~\n",
    "\n",
    "\n",
    "\n"
   ]
  },
  {
   "cell_type": "markdown",
   "metadata": {
    "colab_type": "text",
    "id": "wY9ZNl5KahOm"
   },
   "source": [
    "## 매개변수 지정하여 호출하기\n",
    "\n",
    "함수를 호출할 때 매개변수를 지정할 수도 있다. \n",
    "```\n",
    "def sum(a, b):\n",
    "    return a+b\n",
    "```       \n",
    "이 함수를 다음과 같이 매개변수를 지정하여 사용할 수 있다.\n",
    "```\n",
    "result = sum(a=3, b=7)  # a에 3, b에 7을 전달\n",
    "print(result)\n",
    "```    \n",
    "output `10`\n",
    "\n",
    "매개변수를 지정하면 다음과 같이 순서에 상관없이 사용할 수 있다는 장점이 있다!!\n",
    "```\n",
    "result = add(b=5, a=3)  # b에 5, a에 3을 전달\n",
    "print(result)\n",
    "```   \n",
    "output `8`"
   ]
  },
  {
   "cell_type": "code",
   "execution_count": null,
   "metadata": {
    "colab": {},
    "colab_type": "code",
    "id": "QJYVQRnAanLR"
   },
   "outputs": [],
   "source": [
    "#매개변수에 뭐가 있는지는 앞으로 딥러닝 공부하실때는 Docs를 보면 알수 있어요!\n",
    "#매개변수 이름을 알고 있다면 입력값에 신경 끌 수 있어서 좋아요!ㅎㅎ\n",
    "\n",
    "\n",
    "\n",
    "\n",
    "\n"
   ]
  },
  {
   "cell_type": "markdown",
   "metadata": {
    "colab_type": "text",
    "id": "dnz4enNNanlO"
   },
   "source": [
    "## 입력값이 몇 개가 될지 모를 때는 어떻게 해야 할까?\n",
    "입력값이 여러 개일 때 그 입력값을 모두 더해 주는 함수를 생각해 보자. \n",
    "\n",
    "하지만 몇 개가 입력될지 모를 때는 어떻게 해야 할까? \n",
    "```python\n",
    "def 함수이름(*매개변수): \n",
    "    <수행할 문장>\n",
    "    ...\n",
    "```\n",
    "일반적으로 볼 수 있는 함수 형태에서 괄호 안의 매개변수 부분이 `*매개변수`로 바뀌었다.\n",
    "\n",
    "### 여러 개의 입력값을 받는 함수 만들기\n",
    "\n",
    "예를 들어 \n",
    "```\n",
    "sum_many(1, 2) -> 3\n",
    "sum_many(1,2,3) -> 6\n",
    "sum_many(1, 2, 3, 4, 5, 6, 7, 8, 9, 10) -> 55\n",
    "```\n",
    "를 돌려주는 함수를 만들어 보자~\n",
    "\n",
    "```python\n",
    "def sum_many(*args): \n",
    "    result = 0 \n",
    "    for i in args: \n",
    "        result = result + i \n",
    "    return result\n",
    "```\n",
    "\n",
    "입력값이 몇 개이든 상관이 없다!\n",
    "\n",
    "`*args`처럼 매개변수 이름 앞에 `*`을 붙이면 입력값을 전부 모아서 튜플로 만들어 주기 때문이다. \n",
    "\n",
    "`sum_many(1, 2, 3)`처럼 이 함수를 쓰면 `args`는 `1, 2, 3`이 되고, \n",
    "\n",
    "`sum_many(1, 2, 3, 4, 5, 6, 7, 8, 9, 10)`처럼 쓰면 `args`는 `1, 2, 3, 4, 5, 6, 7, 8, 9, 10`이 된다. \n",
    "\n",
    "\n",
    "여기에서 `*args`는 임의로 정한 변수 이름이다. `*pey`, `*python`처럼 아무 이름이나 써도 된다!\n",
    "\n",
    "※ args는 매개변수를 뜻하는 영어 단어 arguments의 약자이며 관례적으로 자주 사용한다.\n",
    "\n",
    "\n",
    "실제로 이 함수를 직접 실행해 보자.\n",
    "```\n",
    "result = add_many(1,2,3)\n",
    "print(result)\n",
    "```\n",
    "output `6`\n",
    "```\n",
    "result = add_many(1,2,3,4,5,6,7,8,9,10)\n",
    "print(result)\n",
    "```\n",
    "output `55`"
   ]
  },
  {
   "cell_type": "code",
   "execution_count": null,
   "metadata": {
    "colab": {},
    "colab_type": "code",
    "id": "pJ28os2LavRR"
   },
   "outputs": [],
   "source": [
    "#아무리 많이 넣어줘도 파워 소화력을 자랑하는 함수를 만들어 보아요~\n",
    "\n",
    "\n",
    "\n",
    "\n"
   ]
  },
  {
   "cell_type": "markdown",
   "metadata": {
    "colab_type": "text",
    "id": "e2F-LsgvesIj"
   },
   "source": [
    "### 키워드 파라미터 kwargs\n",
    "\n",
    "키워드 파라미터를 사용할 때는 매개변수 앞에 별 두 개(**)를 붙인다. \n",
    "\n",
    "```\n",
    "def print_kwargs(**kwargs):\n",
    "    print(kwargs)\n",
    "```\n",
    "print_kwargs 함수는 매개변수 kwargs를 출력하는 함수이다.\n",
    "\n",
    "`print_kwargs(a=1)`\n",
    "output `{'a': 1}`\n",
    "\n",
    "`print_kwargs(name='foo', age=3)`\n",
    "output `{'age': 3, 'name': 'foo'}`\n",
    "\n",
    "입력값 a=1 또는 name='foo', age=3이 모두 딕셔너리로 만들어져서 출력된다는 것을 확인할 수 있다.\n",
    "\n",
    "\n",
    "`**kwargs`처럼 매개변수 이름 앞에 `**`을 붙이면 \n",
    "\n",
    "매개변수 `kwargs`는 딕셔너리가 되고 모든 key=value 형태의 결괏값이 그 딕셔너리에 저장된다."
   ]
  },
  {
   "cell_type": "code",
   "execution_count": null,
   "metadata": {
    "colab": {},
    "colab_type": "code",
    "id": "hR95uPQResgE"
   },
   "outputs": [],
   "source": [
    "#kwargs도 연습해봐요~ 이건 저도 이번에 잘 배웠네요!ㅎㅎ\n",
    "\n",
    "\n",
    "\n"
   ]
  },
  {
   "cell_type": "markdown",
   "metadata": {
    "colab_type": "text",
    "id": "WUCMqEeWi8H1"
   },
   "source": [
    "여러 개의 입력을 처리할 때 `def sum_many(*args)`처럼 함수의 매개변수로 `*args`만 사용할 수 있는 것은 아니다.\n",
    "```\n",
    "def sum_mul(choice, *args): \n",
    "\n",
    "    if choice == \"sum\": #입력 변수 choice에 'sum'을 입력받았을 때\n",
    "        result = 0 \n",
    "        for i in args: \n",
    "            result = result + i #arg에 입력받은 모든 값을 더한다.\n",
    "\n",
    "    elif choice == \"mul\": #입력 변수 choice에 'mul'을 입력받았을 때\n",
    "        result = 1 \n",
    "        for i in args: \n",
    "            result = result * i #*args에 입력받은 모든 값을 곱한다.\n",
    "        return result\n",
    "```\n",
    "위의 예는 입력 변수로 `choice`와 `*args`를 받는다.\n",
    "\n",
    "`sum_mul('sum', 1, 2, 3, 4)` 또는 `sum_mul('mul', 1,2,3,4,5)`처럼 \n",
    "\n",
    "* `choice` 부분에 `\"sum\"`이나 `\"mul\"`이라는 문자열을 입력값\n",
    "\n",
    "* 그 뒤에는 개수에 상관없이 여러 개의 숫자를 입력값\n",
    "\n",
    "```\n",
    "result = sum_mul('add', 1,2,3,4,5)\n",
    "print(result)\n",
    "```\n",
    "output `15`\n",
    "```\n",
    "result = sum_mul('mul', 1,2,3,4,5)\n",
    "print(result)\n",
    "```\n",
    "output `120`\n",
    "\n",
    "`choice`에 `'sum'`이 입력된 경우 -> `*args`에 입력되는 모든 값을 더해서 15\n",
    "\n",
    "`'mul'`이 입력된 경우 -> `*args`에 입력되는 모든 값을 곱해서 120"
   ]
  },
  {
   "cell_type": "code",
   "execution_count": null,
   "metadata": {
    "colab": {},
    "colab_type": "code",
    "id": "sPNEx755jULu"
   },
   "outputs": [],
   "source": [
    "#입력값들을 이제 정말 여러가지 방식대로 받을 수 있네요!\n",
    "#위의 예를 같이 써보면서 연습해봐요~\n",
    "\n",
    "\n",
    "\n",
    "\n"
   ]
  },
  {
   "cell_type": "markdown",
   "metadata": {
    "colab_type": "text",
    "id": "bhXp8HdUaxUt"
   },
   "source": [
    "## 함수의 결과값은 언제나 하나이다\n",
    "```\n",
    "def add_and_mul(a,b): \n",
    "    return a+b, a*b\n",
    "```\n",
    "\n",
    "> 이 함수를 다음과 같이 호출하면 어떻게 될까?\n",
    "\n",
    "`result = add_and_mul(3,4)`\n",
    "\n",
    "결괏값은 `a+b`와 `a*b` 2개인데 결괏값을 받아들이는 변수는 `result` 하나만 쓰였으니 오류가 발생하지 않을까? \n",
    "\n",
    "하지만 오류는 발생하지 않는다. \n",
    "\n",
    "그 이유는 함수의 결괏값은 2개가 아니라 `언제나 1개`라는 데 있다. \n",
    "\n",
    "`sum_and_mul` 함수의 결괏값 `a+b`와 `a*b`는 튜플값 하나인 `(a+b, a*b)`로 돌려준다.\n",
    "\n",
    "따라서 `result` 변수는 다음과 같은 값을 갖게 된다.\n",
    "\n",
    "`result = (7, 12)`\n",
    "\n",
    "즉 결괏값으로 `(7, 12)`라는 튜플 값을 갖게 되는 것이다."
   ]
  },
  {
   "cell_type": "code",
   "execution_count": null,
   "metadata": {
    "colab": {},
    "colab_type": "code",
    "id": "ZYOScQ7Wa0-c"
   },
   "outputs": [],
   "source": [
    "#결과값이 2개인 함수에서\n",
    "#튜플로 1개의 결과값으로 받아보기도 하고!\n",
    "\n",
    "\n",
    "\n"
   ]
  },
  {
   "cell_type": "markdown",
   "metadata": {},
   "source": [
    "만약 이 하나의 튜플 값을 2개의 결괏값처럼 받고 싶다면 다음과 같이 함수를 호출하면 된다.\n",
    "\n",
    "`add, mul = add_and_mul(3, 4)`\n",
    "\n",
    "이렇게 호출하면 `add, mul = (7, 12)`가 되어 `add`은 `7`이 되고 `mul`는 `12`가 된다."
   ]
  },
  {
   "cell_type": "code",
   "execution_count": null,
   "metadata": {
    "colab": {},
    "colab_type": "code",
    "id": "aLWiY3f5pCMz"
   },
   "outputs": [],
   "source": [
    "#결과값이 2개인 함수에서\n",
    "#','로 2개의 결과값으로 받아보기도 하고!\n",
    "\n",
    "\n",
    "\n"
   ]
  },
  {
   "cell_type": "markdown",
   "metadata": {
    "colab_type": "text",
    "id": "-5LFeshGkAzF"
   },
   "source": [
    "또 다음과 같은 의문이 생길 수도 있다.\n",
    "```\n",
    "def add_and_mul(a,b): \n",
    "    return a+b \n",
    "    return a*b\n",
    "```\n",
    "위와 같이 `return`문을 2번 사용하면 2개의 결괏값을 돌려주지 않을까? \n",
    "```\n",
    "result = add_and_mul(2, 3)\n",
    "print(result)\n",
    "```\n",
    "output `5`\n",
    "\n",
    "`add_and_mul(2, 3)`의 결괏값은 `5` 하나뿐이다. 두 번째 `return`문인 `return a*b`는 실행되지 않았다는 뜻이다.\n",
    "\n",
    "따라서 이 함수는 다음과 완전히 동일하다.\n",
    "```\n",
    "def add_and_mul(a,b): \n",
    "    return a+b\n",
    "```\n",
    "즉 함수는 return문을 만나는 순간 결괏값을 돌려준 다음 함수를 빠져나가게 된다!"
   ]
  },
  {
   "cell_type": "code",
   "execution_count": null,
   "metadata": {
    "colab": {},
    "colab_type": "code",
    "id": "xFCGONEmkBMg"
   },
   "outputs": [],
   "source": [
    "#그냥 안된다고 하고 넘어가고 싶지만 그냥 바보같은 함수도 한번 만들어봅시다~\n",
    "#사실 이런 실수는 함수의 내용이 길어질때 인덴트 실수로 나오는 것 같아요ㅎㅎ\n",
    "\n",
    "\n",
    "\n",
    "\n"
   ]
  },
  {
   "cell_type": "markdown",
   "metadata": {
    "colab_type": "text",
    "id": "rmZDTyWCe5ZV"
   },
   "source": [
    "### return의 또 다른 쓰임새\n",
    "특별한 상황일 때 함수를 빠져나가고 싶다면 return을 단독으로 써서 함수를 즉시 빠져나갈 수 있다.\n",
    "```\n",
    "def say_nick(nick): \n",
    "    if nick == \"바보\": \n",
    "        return \n",
    "    print(\"나의 별명은 %s 입니다.\" % nick)\n",
    "```\n",
    "output\n",
    "\n",
    "'별명'을 입력으로 전달받아 출력하는 함수이다. \n",
    "\n",
    "이 함수 역시 반환 값(결괏값)은 없다.\n",
    "\n",
    "(문자열을 출력한다는 것과 반환 값이 있다는 것은 전혀 다른 말이다. 함수의 반환 값은 오로지 return문에 의해서만 생성된다).\n",
    "\n",
    "만약에 입력값으로 '바보'라는 값이 들어오면 문자열을 출력하지 않고 함수를 즉시 빠져나간다.\n",
    "\n",
    "`say_nick('야호')`\n",
    "output `나의 별명은 야호입니다.`\n",
    "\n",
    "`say_nick('바보')`\n",
    "output\n",
    "\n",
    "이처럼 `return`으로 함수를 빠져나가는 방법은 실제 프로그래밍에서 자주 사용한다."
   ]
  },
  {
   "cell_type": "code",
   "execution_count": null,
   "metadata": {
    "colab": {},
    "colab_type": "code",
    "id": "SyJhGc3Ve5wA"
   },
   "outputs": [],
   "source": [
    "#return에 아무것도 없으면 바로 빠져나오는 함수도 연습해봐요~\n",
    "\n",
    "\n",
    "\n",
    "\n"
   ]
  },
  {
   "cell_type": "markdown",
   "metadata": {
    "colab_type": "text",
    "id": "BKCI1WOUa1qS"
   },
   "source": [
    "## 매개변수에 초깃값 미리 설정하기\n",
    "\n",
    "이번에는 조금 다른 형태로 함수의 인수를 전달하는 방법에 대해서 알아보자. \n",
    "\n",
    "매개변수에 초깃값을 `미리 설정`해 주는 경우이다.\n",
    "```\n",
    "def say_myself(name, old, man=True): \n",
    "    print(\"나의 이름은 %s 입니다.\" % name) \n",
    "    print(\"나이는 %d살입니다.\" % old) \n",
    "    if man: \n",
    "        print(\"남자입니다.\")\n",
    "    else: \n",
    "        print(\"여자입니다.\")\n",
    "```\n",
    "※ say_myself 함수는 3개의 매개변수를 받아서 마지막 인수인 man이 True이면 \"남자입니다.\", False이면 \"여자입니다.\"를 출력한다.\n",
    "\n",
    "위 함수를 보면 매개변수가 `name, old, man=True` 이렇게 3개다. \n",
    "\n",
    "그런데 낯선 것이 나왔다. `man=True`처럼 매개변수에 미리 값을 넣어 준 것이다.\n",
    "\n",
    "![대체 텍스트](https://encrypted-tbn0.gstatic.com/images?q=tbn:ANd9GcRmyJMqd_YfKHDOzSxraMhrFU5TqmxKoD6dzOXYlfdj_nyl01zh)\n",
    "\n",
    "이것이 바로 함수의 매개변수 초깃값을 설정하는 방법이다!\n",
    "\n",
    "함수의 매개변수에 들어갈 값이 항상 변하는 것이 아닐 경우에는 이렇게 함수의 초깃값을 미리 설정해 두면 유용하다.\n",
    "\n",
    "`say_myself` 함수는 다음처럼 사용할 수 있다.\n",
    "\n",
    "```\n",
    "say_myself(\"이정현\", 23)\n",
    "say_myself(\"이정현\", 23, True)\n",
    "```\n",
    "입력값으로 `\"이정현\", 23`처럼 2개를 주면 `name`에는 `\"이정현\"`이 `old`에는 `23`이 대입된다. \n",
    "\n",
    "그리고 `man`이라는 변수에는 입력값을 주지 않았지만 초깃값 `True`를 갖게 된다.\n",
    "\n",
    "따라서 위 예에서 함수를 사용한 2가지 방법은 모두 동일한 결과를 출력한다.\n",
    "\n",
    "output\n",
    "```\n",
    "나의 이름은 이정현입니다.\n",
    "나이는 23살입니다.\n",
    "남자입니다.\n",
    "```\n",
    "이제 초깃값이 설정된 부분을 `False`로 바꿔 보자.\n",
    "\n",
    "`say_myself(\"이정연\", 23, False)`\n",
    "\n",
    "`man` 변수에 `False` 값이 대입되어 다음과 같은 결과가 출력된다.\n",
    "\n",
    "output\n",
    "```\n",
    "나의 이름은 이정연입니다.\n",
    "나이는 23살입니다.\n",
    "여자입니다.\n",
    "```"
   ]
  },
  {
   "cell_type": "code",
   "execution_count": null,
   "metadata": {
    "colab": {},
    "colab_type": "code",
    "id": "VcAqxHJ0a2Jm"
   },
   "outputs": [],
   "source": [
    "#매개변수에 초기값을 미리 설정할 수도 있군요!\n",
    "#이것도 나중에 딥러닝 하실때는 Docs에서 보면 알 수 있어요~\n",
    "\n",
    "\n",
    "\n",
    "\n"
   ]
  },
  {
   "cell_type": "markdown",
   "metadata": {
    "colab_type": "text",
    "id": "DyHT_lYlfDNO"
   },
   "source": [
    "### 함수 매개변수에 초깃값을 설정할 때 주의할 사항!\n",
    "![대체 텍스트](https://us.123rf.com/450wm/fredex8/fredex81505/fredex8150500099/39505824-%EB%85%B8%EB%9E%80%EC%83%89%EA%B3%BC-%EA%B2%80%EC%9D%80-%EC%83%89%EC%A3%BC%EC%9D%98-%ED%85%8C%EC%9D%B4%ED%94%84-%ED%81%AC%EB%A1%9C%EC%8A%A4.jpg?ver=6)\n",
    "\n",
    "만약 위에서 본 say_myself 함수를 다음과 같이 만들면 어떻게 될까?\n",
    "\n",
    "```\n",
    "def say_myself(name, man=True, old):                ###man=True의 위치가 달라졌다!\n",
    "    print(\"나의 이름은 %s 입니다.\" % name) \n",
    "    print(\"나이는 %d살입니다.\" % old) \n",
    "    if man: \n",
    "        print(\"남자입니다.\") \n",
    "    else: \n",
    "        print(\"여자입니다.\")\n",
    "```\n",
    "\n",
    "이전 함수와 바뀐 부분은 초깃값을 설정한 매개변수의 위치이다. "
   ]
  },
  {
   "cell_type": "code",
   "execution_count": null,
   "metadata": {
    "colab": {},
    "colab_type": "code",
    "id": "tJj_bDCdfHIs"
   },
   "outputs": [],
   "source": [
    "#한번 써보자!\n",
    "\n",
    "\n",
    "\n",
    "\n",
    "\n"
   ]
  },
  {
   "cell_type": "markdown",
   "metadata": {},
   "source": [
    "오류 메시지를 보면 다음과 같다.\n",
    "\n",
    "`SyntaxError: non-default argument follows default argument`\n",
    "\n",
    "위 오류 메시지는 초깃값을 설정해 놓은 매개변수 뒤에 초깃값을 설정해 놓지 않은 매개변수는 사용할 수 없다는 뜻이다. \n",
    "\n",
    "얼핏 생각하기에 위 함수를 호출하려면 다음과 같이 하면 될 것 같다.\n",
    "\n",
    "`say_myself(\"이정현\", 23)`\n",
    "\n",
    "위와 같이 함수를 호출한다면 `name` 변수에는 `\"이정현\"`이 들어갈 것이다. \n",
    "\n",
    "하지만 파이썬 인터프리터는 `23`을 `man` 변수와 `old` 변수 중 어느 곳에 대입해야 할지 알 수 없게 된다.\n",
    "\n",
    "즉 , 매개변수로 `(name, old, man=True)`는 되지만 `(name, man=True, old)`는 안 된다는 것이다. \n",
    "\n",
    "> 초기값 설정을 시키고 싶은 매개변수를 항상 뒤쪽에 놓는 것을 잊지 말자!"
   ]
  },
  {
   "cell_type": "code",
   "execution_count": null,
   "metadata": {},
   "outputs": [],
   "source": [
    "# 제대로 바꿔보자\n",
    "\n",
    "\n",
    "\n",
    "\n",
    "\n"
   ]
  },
  {
   "cell_type": "markdown",
   "metadata": {
    "colab_type": "text",
    "id": "z30uNmXPa9ux"
   },
   "source": [
    "## 함수 안에서 선언한 변수의 효력 범위\n",
    "\n",
    "> 함수 안에서 사용할 변수의 이름을 함수 밖에서도 동일하게 사용한다면 어떻게 될까? \n",
    "```python\n",
    "a = 1\n",
    "def vartest(a):\n",
    "    a = a +1\n",
    "\n",
    "vartest(a)\n",
    "print(a)\n",
    "```\n",
    "1. 먼저 `a`라는 변수를 생성하고 `1`을 대입한다. \n",
    "2. 입력으로 들어온 값에 `1`을 더해 주고 결괏값은 돌려주지 않는 `vartest` 함수를 선언한다. \n",
    "3. 그리고 `vartest` 함수에 입력값으로 `a`를 주었다. \n",
    "4. 마지막으로 `a`의 값을 출력하는 `print(a)`를 입력한다. \n",
    "\n",
    "과연 결괏값은 무엇이 나올까?\n",
    "\n",
    "당연히 `vartest` 함수에서 매개변수 `a`의 값에 `1`을 더했으니까 `2`가 출력될 것 같지만 \n",
    "\n",
    "프로그램 소스를 작성해서 실행해 보면 결괏값은 `1`이 나온다. \n",
    "\n",
    "그 이유는 함수 안에서 새로 만든 매개변수는 함수 안에서만 사용하는 **\"함수만의 변수\"**이기 때문이다. \n",
    "\n",
    "즉 `def vartest(a)`에서 입력값을 전달받는 매개변수 `a`는 함수 **안에서만** 사용하는 변수이지 함수 밖의 변수 `a`가 아니라는 뜻이다.\n",
    "\n",
    "따라서 `vartest` 함수는 다음처럼 변수 이름을 `hello`로 한 `vartest` 함수와 완전히 동일하다.\n",
    "\n",
    "```\n",
    "def vartest(hello):\n",
    "    hello = hello + 1\n",
    "```\n",
    "\n",
    "즉 , 함수 안에서 사용하는 매개변수는 함수 밖의 변수 이름과는 전혀 상관이 없다는 뜻이다.\n",
    "```\n",
    "def vartest(a):\n",
    "    a = a + 1\n",
    "\n",
    "vartest(3)\n",
    "print(a)\n",
    "```\n",
    "위 프로그램 소스를 에디터로 작성해서 실행하면 어떻게 될까? "
   ]
  },
  {
   "cell_type": "code",
   "execution_count": null,
   "metadata": {
    "colab": {},
    "colab_type": "code",
    "id": "-wVDGY7cbBhM"
   },
   "outputs": [],
   "source": [
    "#이 세상엔 '이정연'이 많잖아요\n",
    "#동명이인은 많지만 같진 않죠~\n",
    "#변수의 이름이 같으면 조금 까다롭긴 하지만 연습하면 실력이 좋아질거예요ㅎㅎ\n",
    "\n",
    "\n",
    "\n",
    "\n"
   ]
  },
  {
   "cell_type": "markdown",
   "metadata": {},
   "source": [
    "`vartest(3)`을 수행하면 `vartest` 함수 안에서 `a`는 `4`가 되지만,  \n",
    "\n",
    "함수를 호출하고 난 뒤에 `print(a)` 문장은 오류가 발생하게 된다. \n",
    "\n",
    "그 이유는 `print(a)`에서 입력받아야 하는 `a`변수를 어디에서도 찾을 수가 없기 때문이다. \n",
    "\n",
    "다시 말하지만 함수 안에서 선언한 매개변수는 함수 안에서만 사용될 뿐 함수 밖에서는 사용되지 않는다!"
   ]
  },
  {
   "cell_type": "code",
   "execution_count": null,
   "metadata": {},
   "outputs": [],
   "source": [
    "\n",
    "\n"
   ]
  },
  {
   "cell_type": "markdown",
   "metadata": {
    "colab_type": "text",
    "id": "hvLjvFA2fOf2"
   },
   "source": [
    "### 함수 안에서 함수 밖의 변수를 변경하는 방법\n",
    "\n",
    "> 그렇다면 `vartest`라는 함수를 이용해서 함수 밖의 변수 `a`를 `1`만큼 증가시킬 수 있는 방법은 없을까? \n",
    "\n",
    "2가지 해결방법이 있다.\n",
    "1. `return` 사용하기\n",
    "    ```\n",
    "    a = 1 \n",
    "    def vartest(a): \n",
    "        a = a +1 \n",
    "        return a\n",
    "\n",
    "    a = vartest(a) \n",
    "    print(a)\n",
    "    ```\n",
    "    첫 번째 방법은 `return`을 사용하는 방법이다. \n",
    "\n",
    "    `vartest` 함수는 입력으로 들어온 값에 `1`을 더한값을 돌려준다. \n",
    "    \n",
    "    따라서 `a = vartest(a)`라고 대입하면 `a`가 `vartest`함수의 결괏값으로 바뀐다. \n",
    "\n",
    "    여기에서도 물론 `vartest` 함수 **안**의 `a` 매개변수는 함수 **밖**의 `a`와는 다른 것이다."
   ]
  },
  {
   "cell_type": "code",
   "execution_count": null,
   "metadata": {
    "colab": {},
    "colab_type": "code",
    "id": "70b5Hfl1fO2o"
   },
   "outputs": [],
   "source": [
    "#return을 사용해서 함수 밖의 변수 변경하기!\n",
    "\n",
    "\n",
    "\n",
    "\n"
   ]
  },
  {
   "cell_type": "markdown",
   "metadata": {
    "colab_type": "text",
    "id": "HOVqdXpxfUqx"
   },
   "source": [
    "2. `global` 명령어 사용하기\n",
    "    ```\n",
    "    a = 1 \n",
    "    def vartest(): \n",
    "        global a \n",
    "        a = a+1\n",
    "\n",
    "    vartest() \n",
    "    print(a)\n",
    "    ```\n",
    "    두 번째 방법은 `global`명령어를 사용하는 방법이다. \n",
    "\n",
    "    `vartest` 함수 안의 `global a`문장은 **함수 안**에서 **함수 밖의** `a` 변수를 직접 사용하겠다는 뜻이다. \n",
    "\n",
    "    하지만 프로그래밍을 할 때 global 명령어는 사용하지 않는 것이 좋다. \n",
    "    \n",
    "    왜냐하면 함수는 **독립적으로 존재하는 것**이 좋기 때문이다. \n",
    "    \n",
    "    외부 변수에 종속적인 함수는 그다지 좋은 함수가 아니다. \n",
    "    \n",
    "    그러므로 가급적 `global` 명령어를 사용하는 이 방법은 피하고 첫 번째 방법을 사용하기를 권한다."
   ]
  },
  {
   "cell_type": "code",
   "execution_count": null,
   "metadata": {
    "colab": {},
    "colab_type": "code",
    "id": "GE7KNi1RfVmZ"
   },
   "outputs": [],
   "source": [
    "#global을 사용해서 함수 밖의 변수 변경하기!\n",
    "\n",
    "\n",
    "\n",
    "\n"
   ]
  },
  {
   "cell_type": "markdown",
   "metadata": {
    "colab_type": "text",
    "id": "toOfyW3dbCBT"
   },
   "source": [
    "## lambda\n",
    "\n",
    "`lambda`는 함수를 생성할 때 사용하는 예약어로 `def`와 동일한 역할을 한다. \n",
    "\n",
    "보통 함수를 한줄로 간결하게 만들 때 사용한다. \n",
    "\n",
    "우리말로는 \"람다\"라고 읽고 **def를 사용해야 할 정도로 복잡하지 않거나** **def를 사용할 수 없는 곳**에 주로 쓰인다.\n",
    "\n",
    "`lambda 매개변수1, 매개변수2, ... : 매개변수를 이용한 표현식`\n",
    "\n",
    "한번 직접 만들어 보자.\n",
    "```\n",
    "add = lambda a, b: a+b\n",
    "result = add(3, 4)\n",
    "print(result)\n",
    "```\n",
    "output `7`\n",
    "\n",
    "`add`는 두 개의 인수를 받아 서로 더한 값을 돌려주는 lambda 함수이다. \n",
    "\n",
    "위 예제는 def를 사용한 다음 함수와 하는 일이 완전히 동일하다.\n",
    "```\n",
    "def add(a, b):\n",
    "    return a+b\n",
    "\n",
    "result = add(3, 4)\n",
    "print(result)\n",
    "```  \n",
    "output `7`\n",
    "\n",
    "※ lamda 예약어로 만든 함수는 **`return` 명령어가 없어도** 결괏값을 돌려준다."
   ]
  },
  {
   "cell_type": "code",
   "execution_count": 13,
   "metadata": {
    "colab": {},
    "colab_type": "code",
    "id": "B-QgsfwebCYb"
   },
   "outputs": [],
   "source": [
    "#나중에 딥러닝에서 간단하게 층을 쌓을때 이용해요!\n",
    "#저도 처음에 봤을땐 정말 신기했어요ㅎㅎ\n",
    "\n",
    "\n",
    "\n"
   ]
  },
  {
   "cell_type": "markdown",
   "metadata": {
    "colab_type": "text",
    "id": "h7eAV_rurvhc"
   },
   "source": [
    "## 정말 수고하셨습니다!! \n",
    "![대체 텍스트](https://media.giphy.com/media/xT9DPCU60mRbtGw7Ys/giphy.gif)"
   ]
  },
  {
   "cell_type": "code",
   "execution_count": null,
   "metadata": {},
   "outputs": [],
   "source": []
  }
 ],
 "metadata": {
  "colab": {
   "collapsed_sections": [],
   "name": "lecture_code4.ipynb",
   "provenance": [],
   "version": "0.3.2"
  },
  "kernelspec": {
   "display_name": "Python 3",
   "language": "python",
   "name": "python3"
  },
  "language_info": {
   "codemirror_mode": {
    "name": "ipython",
    "version": 3
   },
   "file_extension": ".py",
   "mimetype": "text/x-python",
   "name": "python",
   "nbconvert_exporter": "python",
   "pygments_lexer": "ipython3",
   "version": "3.6.10"
  }
 },
 "nbformat": 4,
 "nbformat_minor": 4
}
