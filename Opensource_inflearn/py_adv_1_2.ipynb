{
 "cells": [
  {
   "cell_type": "markdown",
   "id": "acoustic-flashing",
   "metadata": {},
   "source": [
    "# Chapter 1\n",
    "> Python Advanced 2 - lambda, reduce, map, filter functions\n",
    "- Keyword - lambda, reduce, map, filter"
   ]
  },
  {
   "cell_type": "markdown",
   "id": "authentic-gentleman",
   "metadata": {},
   "source": [
    "- lambda\n",
    "    - 익명 사용\n",
    "    - 힙 영역 사용 즉시 소멸\n",
    "    - pythonic\n",
    "    - 파이썬 가비지 컬렉션(Count=0)\n",
    "- 일반함수는 재사용성을 위해 메모리에 저장\n",
    "\n",
    "- 시퀀스형 전처리에 Reduce, Map, Filter 주로 사용"
   ]
  },
  {
   "cell_type": "code",
   "execution_count": 1,
   "id": "legislative-termination",
   "metadata": {},
   "outputs": [
    {
     "name": "stdout",
     "output_type": "stream",
     "text": [
      "result:  170\n"
     ]
    }
   ],
   "source": [
    "cul = lambda a, b, c: a*b+c\n",
    "print(\"result: \", cul(10, 15, 20))"
   ]
  },
  {
   "cell_type": "code",
   "execution_count": null,
   "id": "frozen-parallel",
   "metadata": {},
   "outputs": [],
   "source": []
  }
 ],
 "metadata": {
  "kernelspec": {
   "display_name": "Python 3",
   "language": "python",
   "name": "python3"
  },
  "language_info": {
   "codemirror_mode": {
    "name": "ipython",
    "version": 3
   },
   "file_extension": ".py",
   "mimetype": "text/x-python",
   "name": "python",
   "nbconvert_exporter": "python",
   "pygments_lexer": "ipython3",
   "version": "3.7.4"
  }
 },
 "nbformat": 4,
 "nbformat_minor": 5
}
