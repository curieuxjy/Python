{
 "cells": [
  {
   "cell_type": "markdown",
   "id": "terminal-friendly",
   "metadata": {},
   "source": [
    "# Chapter 1\n",
    "> Python Advanced 1 - Python Variables Scope\n",
    "- Keyword - scope, global, nonlocal, locals, globals"
   ]
  },
  {
   "cell_type": "markdown",
   "id": "accessory-parker",
   "metadata": {},
   "source": [
    "## 전역변수, 지역변수"
   ]
  },
  {
   "cell_type": "code",
   "execution_count": 3,
   "id": "exotic-convertible",
   "metadata": {},
   "outputs": [
    {
     "name": "stdout",
     "output_type": "stream",
     "text": [
      "read global in fn:  10\n"
     ]
    }
   ],
   "source": [
    "a = 10\n",
    "\n",
    "def foo():\n",
    "    print(\"read global in fn: \", a)\n",
    "    \n",
    "foo()"
   ]
  },
  {
   "cell_type": "code",
   "execution_count": 4,
   "id": "moved-encyclopedia",
   "metadata": {},
   "outputs": [
    {
     "name": "stdout",
     "output_type": "stream",
     "text": [
      "read global:  10\n"
     ]
    }
   ],
   "source": [
    "print(\"read global: \", a)"
   ]
  },
  {
   "cell_type": "markdown",
   "id": "alternative-antigua",
   "metadata": {},
   "source": [
    "> global var은 함수 안과 밖에서 모두 읽을 수 있다"
   ]
  },
  {
   "cell_type": "code",
   "execution_count": 6,
   "id": "prostate-policy",
   "metadata": {},
   "outputs": [
    {
     "name": "stdout",
     "output_type": "stream",
     "text": [
      "b:  30\n",
      "b':  20\n"
     ]
    }
   ],
   "source": [
    "b = 20\n",
    "\n",
    "def bar():\n",
    "    b = 30 # local var\n",
    "    print(\"b: \", b) # read local var\n",
    "    \n",
    "bar()\n",
    "print(\"b': \", b) # global var"
   ]
  },
  {
   "cell_type": "markdown",
   "id": "german-writing",
   "metadata": {},
   "source": [
    "> LEGB(local > enclosed > global > built-in) 순으로 변수를 찾아간다"
   ]
  },
  {
   "cell_type": "code",
   "execution_count": 9,
   "id": "technical-psychiatry",
   "metadata": {},
   "outputs": [
    {
     "ename": "UnboundLocalError",
     "evalue": "local variable 'c' referenced before assignment",
     "output_type": "error",
     "traceback": [
      "\u001b[1;31m---------------------------------------------------------------------------\u001b[0m",
      "\u001b[1;31mUnboundLocalError\u001b[0m                         Traceback (most recent call last)",
      "\u001b[1;32m<ipython-input-9-a01c4483fd63>\u001b[0m in \u001b[0;36m<module>\u001b[1;34m\u001b[0m\n\u001b[0;32m      9\u001b[0m     \u001b[0mprint\u001b[0m\u001b[1;33m(\u001b[0m\u001b[1;34m\"c: \"\u001b[0m\u001b[1;33m,\u001b[0m \u001b[0mc\u001b[0m\u001b[1;33m)\u001b[0m\u001b[1;33m\u001b[0m\u001b[1;33m\u001b[0m\u001b[0m\n\u001b[0;32m     10\u001b[0m \u001b[1;33m\u001b[0m\u001b[0m\n\u001b[1;32m---> 11\u001b[1;33m \u001b[0mfoobar\u001b[0m\u001b[1;33m(\u001b[0m\u001b[1;33m)\u001b[0m\u001b[1;33m\u001b[0m\u001b[1;33m\u001b[0m\u001b[0m\n\u001b[0m",
      "\u001b[1;32m<ipython-input-9-a01c4483fd63>\u001b[0m in \u001b[0;36mfoobar\u001b[1;34m()\u001b[0m\n\u001b[0;32m      5\u001b[0m     \u001b[1;31m# c = c + 10\u001b[0m\u001b[1;33m\u001b[0m\u001b[1;33m\u001b[0m\u001b[1;33m\u001b[0m\u001b[0m\n\u001b[0;32m      6\u001b[0m     \u001b[1;31m# c = 10\u001b[0m\u001b[1;33m\u001b[0m\u001b[1;33m\u001b[0m\u001b[1;33m\u001b[0m\u001b[0m\n\u001b[1;32m----> 7\u001b[1;33m     \u001b[0mc\u001b[0m \u001b[1;33m+=\u001b[0m \u001b[1;36m100\u001b[0m\u001b[1;33m\u001b[0m\u001b[1;33m\u001b[0m\u001b[0m\n\u001b[0m\u001b[0;32m      8\u001b[0m \u001b[1;33m\u001b[0m\u001b[0m\n\u001b[0;32m      9\u001b[0m     \u001b[0mprint\u001b[0m\u001b[1;33m(\u001b[0m\u001b[1;34m\"c: \"\u001b[0m\u001b[1;33m,\u001b[0m \u001b[0mc\u001b[0m\u001b[1;33m)\u001b[0m\u001b[1;33m\u001b[0m\u001b[1;33m\u001b[0m\u001b[0m\n",
      "\u001b[1;31mUnboundLocalError\u001b[0m: local variable 'c' referenced before assignment"
     ]
    }
   ],
   "source": [
    "c = 40\n",
    "\n",
    "def foobar():\n",
    "    # 안되는 경우 아래 UnboundLovalError\n",
    "    # c = c + 10\n",
    "    # c = 10\n",
    "    c += 100\n",
    "    \n",
    "    print(\"c: \", c)\n",
    "    \n",
    "foobar()"
   ]
  },
  {
   "cell_type": "code",
   "execution_count": 11,
   "id": "private-director",
   "metadata": {},
   "outputs": [
    {
     "name": "stdout",
     "output_type": "stream",
     "text": [
      "d:  80\n",
      "d':  80\n"
     ]
    }
   ],
   "source": [
    "d = 50\n",
    "def barfoo():\n",
    "    global d\n",
    "    d = 70\n",
    "    d += 10\n",
    "    print(\"d: \", d)\n",
    "barfoo()\n",
    "print(\"d': \", d)"
   ]
  },
  {
   "cell_type": "markdown",
   "id": "gorgeous-techno",
   "metadata": {},
   "source": [
    "### 중요\n",
    "- closer"
   ]
  },
  {
   "cell_type": "code",
   "execution_count": 12,
   "id": "proved-quarterly",
   "metadata": {},
   "outputs": [],
   "source": [
    "def outer():\n",
    "    e=70 # local\n",
    "    def inner():\n",
    "        e += 10\n",
    "        print(\"e: \", e)\n",
    "    return inner"
   ]
  },
  {
   "cell_type": "code",
   "execution_count": 13,
   "id": "described-brief",
   "metadata": {},
   "outputs": [],
   "source": [
    "in_test = outer() # Closure"
   ]
  },
  {
   "cell_type": "code",
   "execution_count": 14,
   "id": "north-garden",
   "metadata": {},
   "outputs": [
    {
     "ename": "UnboundLocalError",
     "evalue": "local variable 'e' referenced before assignment",
     "output_type": "error",
     "traceback": [
      "\u001b[1;31m---------------------------------------------------------------------------\u001b[0m",
      "\u001b[1;31mUnboundLocalError\u001b[0m                         Traceback (most recent call last)",
      "\u001b[1;32m<ipython-input-14-e10ef453efa6>\u001b[0m in \u001b[0;36m<module>\u001b[1;34m\u001b[0m\n\u001b[1;32m----> 1\u001b[1;33m \u001b[0min_test\u001b[0m\u001b[1;33m(\u001b[0m\u001b[1;33m)\u001b[0m\u001b[1;33m\u001b[0m\u001b[1;33m\u001b[0m\u001b[0m\n\u001b[0m",
      "\u001b[1;32m<ipython-input-12-5a5766aa8ffc>\u001b[0m in \u001b[0;36minner\u001b[1;34m()\u001b[0m\n\u001b[0;32m      2\u001b[0m     \u001b[0me\u001b[0m\u001b[1;33m=\u001b[0m\u001b[1;36m70\u001b[0m \u001b[1;31m# local\u001b[0m\u001b[1;33m\u001b[0m\u001b[1;33m\u001b[0m\u001b[0m\n\u001b[0;32m      3\u001b[0m     \u001b[1;32mdef\u001b[0m \u001b[0minner\u001b[0m\u001b[1;33m(\u001b[0m\u001b[1;33m)\u001b[0m\u001b[1;33m:\u001b[0m\u001b[1;33m\u001b[0m\u001b[1;33m\u001b[0m\u001b[0m\n\u001b[1;32m----> 4\u001b[1;33m         \u001b[0me\u001b[0m \u001b[1;33m+=\u001b[0m \u001b[1;36m10\u001b[0m\u001b[1;33m\u001b[0m\u001b[1;33m\u001b[0m\u001b[0m\n\u001b[0m\u001b[0;32m      5\u001b[0m         \u001b[0mprint\u001b[0m\u001b[1;33m(\u001b[0m\u001b[1;34m\"e: \"\u001b[0m\u001b[1;33m,\u001b[0m \u001b[0me\u001b[0m\u001b[1;33m)\u001b[0m\u001b[1;33m\u001b[0m\u001b[1;33m\u001b[0m\u001b[0m\n\u001b[0;32m      6\u001b[0m     \u001b[1;32mreturn\u001b[0m \u001b[0minner\u001b[0m\u001b[1;33m\u001b[0m\u001b[1;33m\u001b[0m\u001b[0m\n",
      "\u001b[1;31mUnboundLocalError\u001b[0m: local variable 'e' referenced before assignment"
     ]
    }
   ],
   "source": [
    "in_test() # UnboundLocalError"
   ]
  },
  {
   "cell_type": "markdown",
   "id": "alpha-danger",
   "metadata": {},
   "source": [
    "## nonlocal"
   ]
  },
  {
   "cell_type": "code",
   "execution_count": 15,
   "id": "czech-publication",
   "metadata": {},
   "outputs": [],
   "source": [
    "def outer():\n",
    "    e=70 # local\n",
    "    def inner():\n",
    "        nonlocal e\n",
    "        e += 10\n",
    "        print(\"e: \", e)\n",
    "    return inner"
   ]
  },
  {
   "cell_type": "code",
   "execution_count": 16,
   "id": "previous-documentary",
   "metadata": {},
   "outputs": [
    {
     "name": "stdout",
     "output_type": "stream",
     "text": [
      "e:  80\n"
     ]
    }
   ],
   "source": [
    "in_test = outer()\n",
    "in_test()"
   ]
  },
  {
   "cell_type": "code",
   "execution_count": 17,
   "id": "proper-family",
   "metadata": {},
   "outputs": [
    {
     "name": "stdout",
     "output_type": "stream",
     "text": [
      "e:  90\n"
     ]
    }
   ],
   "source": [
    "in_test()"
   ]
  },
  {
   "cell_type": "code",
   "execution_count": 18,
   "id": "prescription-vault",
   "metadata": {},
   "outputs": [
    {
     "name": "stdout",
     "output_type": "stream",
     "text": [
      "e:  100\n"
     ]
    }
   ],
   "source": [
    "in_test()"
   ]
  },
  {
   "cell_type": "code",
   "execution_count": 19,
   "id": "public-schema",
   "metadata": {},
   "outputs": [
    {
     "name": "stdout",
     "output_type": "stream",
     "text": [
      "e:  110\n"
     ]
    }
   ],
   "source": [
    "in_test() # 호출할 때마다 값이 증가"
   ]
  },
  {
   "cell_type": "markdown",
   "id": "specified-development",
   "metadata": {},
   "source": [
    "# locals()\n",
    "해당 범위에서 어떤 로컬 변수들이 있는지 확인할 수 있다"
   ]
  },
  {
   "cell_type": "code",
   "execution_count": 21,
   "id": "announced-profile",
   "metadata": {},
   "outputs": [
    {
     "name": "stdout",
     "output_type": "stream",
     "text": [
      "Func Inner {'var': 'Hi', 'x': 10, 'printer': <function func.<locals>.printer at 0x000002645E7A2168>}\n"
     ]
    }
   ],
   "source": [
    "def func(var):\n",
    "    x=10\n",
    "    def printer():\n",
    "        print(\"Printer Func Inner\")\n",
    "    print(\"Func Inner\", locals())\n",
    "func(\"Hi\")"
   ]
  },
  {
   "cell_type": "markdown",
   "id": "thermal-smooth",
   "metadata": {},
   "source": [
    "## globals()"
   ]
  },
  {
   "cell_type": "code",
   "execution_count": 22,
   "id": "liberal-canon",
   "metadata": {},
   "outputs": [
    {
     "name": "stdout",
     "output_type": "stream",
     "text": [
      "{'__name__': '__main__', '__doc__': 'Automatically created module for IPython interactive environment', '__package__': None, '__loader__': None, '__spec__': None, '__builtin__': <module 'builtins' (built-in)>, '__builtins__': <module 'builtins' (built-in)>, '_ih': ['', 'a = 10\\n\\ndef foo():\\n    print(\"read global: \", a)\\n    \\nfoo()', 'print(\"read global: \", a)', 'a = 10\\n\\ndef foo():\\n    print(\"read global in fn: \", a)\\n    \\nfoo()', 'print(\"read global: \", a)', 'b = 20\\n\\ndef bar():\\n    b = 30\\n    print(\"b: \", b)\\n    \\nbar()', 'b = 20\\n\\ndef bar():\\n    b = 30 # local var\\n    print(\"b: \", b) # read local var\\n    \\nbar()\\nprint(\"b\\': \", b) # global var', 'c = 40\\n\\ndef foobar():\\n    c = c+10\\n    print(\"c: \", c)\\n    \\nfoobar()', 'c = 40\\n\\ndef foobar():\\n    # c = c + 10\\n    # c = 10\\n    # c += 100\\n    print(\"c: \", c)\\n    \\nfoobar()', 'c = 40\\n\\ndef foobar():\\n    # 안되는 경우 아래\\n    # c = c + 10\\n    # c = 10\\n    c += 100\\n    \\n    print(\"c: \", c)\\n    \\nfoobar()', 'd = 50\\ndef barfoo():\\n    global d\\n    d = 70\\n    d += 10\\n    print(\"d: \", d)\\nbarfoo()', 'd = 50\\ndef barfoo():\\n    global d\\n    d = 70\\n    d += 10\\n    print(\"d: \", d)\\nbarfoo()\\nprint(\"d\\': \", d)', 'def outer():\\n    e=70 # local\\n    def inner():\\n        e += 10\\n        print(\"e: \", e)\\n    return inner', 'in_test = outer() # Closure', 'in_test()', 'def outer():\\n    e=70 # local\\n    def inner():\\n        nonlocal e\\n        e += 10\\n        print(\"e: \", e)\\n    return inner', 'in_test = outer()\\nin_test()', 'in_test()', 'in_test()', 'in_test()', 'def func(var):\\n    x=10\\n    def printer():\\n        print(\"Printer Func Inner\")\\n    print(\"Func Inner\", locals())\\nfunc(\"Hi\")', 'def func(var):\\n    x=10\\n    def printer():\\n        print(\"Printer Func Inner\")\\n    print(\"Func Inner\", locals())\\nfunc(\"Hi\")', 'print(globals())'], '_oh': {}, '_dh': ['D:\\\\GitHub\\\\Python\\\\Opensource_inflearn'], 'In': ['', 'a = 10\\n\\ndef foo():\\n    print(\"read global: \", a)\\n    \\nfoo()', 'print(\"read global: \", a)', 'a = 10\\n\\ndef foo():\\n    print(\"read global in fn: \", a)\\n    \\nfoo()', 'print(\"read global: \", a)', 'b = 20\\n\\ndef bar():\\n    b = 30\\n    print(\"b: \", b)\\n    \\nbar()', 'b = 20\\n\\ndef bar():\\n    b = 30 # local var\\n    print(\"b: \", b) # read local var\\n    \\nbar()\\nprint(\"b\\': \", b) # global var', 'c = 40\\n\\ndef foobar():\\n    c = c+10\\n    print(\"c: \", c)\\n    \\nfoobar()', 'c = 40\\n\\ndef foobar():\\n    # c = c + 10\\n    # c = 10\\n    # c += 100\\n    print(\"c: \", c)\\n    \\nfoobar()', 'c = 40\\n\\ndef foobar():\\n    # 안되는 경우 아래\\n    # c = c + 10\\n    # c = 10\\n    c += 100\\n    \\n    print(\"c: \", c)\\n    \\nfoobar()', 'd = 50\\ndef barfoo():\\n    global d\\n    d = 70\\n    d += 10\\n    print(\"d: \", d)\\nbarfoo()', 'd = 50\\ndef barfoo():\\n    global d\\n    d = 70\\n    d += 10\\n    print(\"d: \", d)\\nbarfoo()\\nprint(\"d\\': \", d)', 'def outer():\\n    e=70 # local\\n    def inner():\\n        e += 10\\n        print(\"e: \", e)\\n    return inner', 'in_test = outer() # Closure', 'in_test()', 'def outer():\\n    e=70 # local\\n    def inner():\\n        nonlocal e\\n        e += 10\\n        print(\"e: \", e)\\n    return inner', 'in_test = outer()\\nin_test()', 'in_test()', 'in_test()', 'in_test()', 'def func(var):\\n    x=10\\n    def printer():\\n        print(\"Printer Func Inner\")\\n    print(\"Func Inner\", locals())\\nfunc(\"Hi\")', 'def func(var):\\n    x=10\\n    def printer():\\n        print(\"Printer Func Inner\")\\n    print(\"Func Inner\", locals())\\nfunc(\"Hi\")', 'print(globals())'], 'Out': {}, 'get_ipython': <bound method InteractiveShell.get_ipython of <ipykernel.zmqshell.ZMQInteractiveShell object at 0x000002645D6894C8>>, 'exit': <IPython.core.autocall.ZMQExitAutocall object at 0x000002645D7091C8>, 'quit': <IPython.core.autocall.ZMQExitAutocall object at 0x000002645D7091C8>, '_': '', '__': '', '___': '', '_i': 'def func(var):\\n    x=10\\n    def printer():\\n        print(\"Printer Func Inner\")\\n    print(\"Func Inner\", locals())\\nfunc(\"Hi\")', '_ii': 'def func(var):\\n    x=10\\n    def printer():\\n        print(\"Printer Func Inner\")\\n    print(\"Func Inner\", locals())\\nfunc(\"Hi\")', '_iii': 'in_test()', '_i1': 'a = 10\\n\\ndef foo():\\n    print(\"read global: \", a)\\n    \\nfoo()', 'a': 10, 'foo': <function foo at 0x000002645D790048>, '_i2': 'print(\"read global: \", a)', '_i3': 'a = 10\\n\\ndef foo():\\n    print(\"read global in fn: \", a)\\n    \\nfoo()', '_i4': 'print(\"read global: \", a)', '_i5': 'b = 20\\n\\ndef bar():\\n    b = 30\\n    print(\"b: \", b)\\n    \\nbar()', 'b': 20, 'bar': <function bar at 0x000002645D75ADC8>, '_i6': 'b = 20\\n\\ndef bar():\\n    b = 30 # local var\\n    print(\"b: \", b) # read local var\\n    \\nbar()\\nprint(\"b\\': \", b) # global var', '_i7': 'c = 40\\n\\ndef foobar():\\n    c = c+10\\n    print(\"c: \", c)\\n    \\nfoobar()', 'c': 40, 'foobar': <function foobar at 0x000002645E7A2558>, '_i8': 'c = 40\\n\\ndef foobar():\\n    # c = c + 10\\n    # c = 10\\n    # c += 100\\n    print(\"c: \", c)\\n    \\nfoobar()', '_i9': 'c = 40\\n\\ndef foobar():\\n    # 안되는 경우 아래\\n    # c = c + 10\\n    # c = 10\\n    c += 100\\n    \\n    print(\"c: \", c)\\n    \\nfoobar()', '_i10': 'd = 50\\ndef barfoo():\\n    global d\\n    d = 70\\n    d += 10\\n    print(\"d: \", d)\\nbarfoo()', 'd': 80, 'barfoo': <function barfoo at 0x000002645E7A20D8>, '_i11': 'd = 50\\ndef barfoo():\\n    global d\\n    d = 70\\n    d += 10\\n    print(\"d: \", d)\\nbarfoo()\\nprint(\"d\\': \", d)', '_i12': 'def outer():\\n    e=70 # local\\n    def inner():\\n        e += 10\\n        print(\"e: \", e)\\n    return inner', 'outer': <function outer at 0x000002645E7A2CA8>, '_i13': 'in_test = outer() # Closure', 'in_test': <function outer.<locals>.inner at 0x000002645E7A2C18>, '_i14': 'in_test()', '_i15': 'def outer():\\n    e=70 # local\\n    def inner():\\n        nonlocal e\\n        e += 10\\n        print(\"e: \", e)\\n    return inner', '_i16': 'in_test = outer()\\nin_test()', '_i17': 'in_test()', '_i18': 'in_test()', '_i19': 'in_test()', '_i20': 'def func(var):\\n    x=10\\n    def printer():\\n        print(\"Printer Func Inner\")\\n    print(\"Func Inner\", locals())\\nfunc(\"Hi\")', 'func': <function func at 0x000002645E7A2798>, '_i21': 'def func(var):\\n    x=10\\n    def printer():\\n        print(\"Printer Func Inner\")\\n    print(\"Func Inner\", locals())\\nfunc(\"Hi\")', '_i22': 'print(globals())'}\n"
     ]
    }
   ],
   "source": [
    "print(globals())"
   ]
  },
  {
   "cell_type": "markdown",
   "id": "blind-shepherd",
   "metadata": {},
   "source": [
    "## local -> global var 생성"
   ]
  },
  {
   "cell_type": "code",
   "execution_count": 24,
   "id": "rocky-spirituality",
   "metadata": {},
   "outputs": [
    {
     "name": "stdout",
     "output_type": "stream",
     "text": [
      "<built-in function globals>\n",
      "{'__name__': '__main__', '__doc__': 'Automatically created module for IPython interactive environment', '__package__': None, '__loader__': None, '__spec__': None, '__builtin__': <module 'builtins' (built-in)>, '__builtins__': <module 'builtins' (built-in)>, '_ih': ['', 'a = 10\\n\\ndef foo():\\n    print(\"read global: \", a)\\n    \\nfoo()', 'print(\"read global: \", a)', 'a = 10\\n\\ndef foo():\\n    print(\"read global in fn: \", a)\\n    \\nfoo()', 'print(\"read global: \", a)', 'b = 20\\n\\ndef bar():\\n    b = 30\\n    print(\"b: \", b)\\n    \\nbar()', 'b = 20\\n\\ndef bar():\\n    b = 30 # local var\\n    print(\"b: \", b) # read local var\\n    \\nbar()\\nprint(\"b\\': \", b) # global var', 'c = 40\\n\\ndef foobar():\\n    c = c+10\\n    print(\"c: \", c)\\n    \\nfoobar()', 'c = 40\\n\\ndef foobar():\\n    # c = c + 10\\n    # c = 10\\n    # c += 100\\n    print(\"c: \", c)\\n    \\nfoobar()', 'c = 40\\n\\ndef foobar():\\n    # 안되는 경우 아래\\n    # c = c + 10\\n    # c = 10\\n    c += 100\\n    \\n    print(\"c: \", c)\\n    \\nfoobar()', 'd = 50\\ndef barfoo():\\n    global d\\n    d = 70\\n    d += 10\\n    print(\"d: \", d)\\nbarfoo()', 'd = 50\\ndef barfoo():\\n    global d\\n    d = 70\\n    d += 10\\n    print(\"d: \", d)\\nbarfoo()\\nprint(\"d\\': \", d)', 'def outer():\\n    e=70 # local\\n    def inner():\\n        e += 10\\n        print(\"e: \", e)\\n    return inner', 'in_test = outer() # Closure', 'in_test()', 'def outer():\\n    e=70 # local\\n    def inner():\\n        nonlocal e\\n        e += 10\\n        print(\"e: \", e)\\n    return inner', 'in_test = outer()\\nin_test()', 'in_test()', 'in_test()', 'in_test()', 'def func(var):\\n    x=10\\n    def printer():\\n        print(\"Printer Func Inner\")\\n    print(\"Func Inner\", locals())\\nfunc(\"Hi\")', 'def func(var):\\n    x=10\\n    def printer():\\n        print(\"Printer Func Inner\")\\n    print(\"Func Inner\", locals())\\nfunc(\"Hi\")', 'print(globals())', 'for i in range(1, 10):\\n    for k in range(1, 10):\\n        globals()[\"plus_{}_{}\".format(i, k)] = i + k\\nprint(globals)', 'for i in range(1, 10):\\n    for k in range(1, 10):\\n        globals()[\"plus_{}_{}\".format(i, k)] = i + k\\nprint(globals)\\nprint(globals())'], '_oh': {}, '_dh': ['D:\\\\GitHub\\\\Python\\\\Opensource_inflearn'], 'In': ['', 'a = 10\\n\\ndef foo():\\n    print(\"read global: \", a)\\n    \\nfoo()', 'print(\"read global: \", a)', 'a = 10\\n\\ndef foo():\\n    print(\"read global in fn: \", a)\\n    \\nfoo()', 'print(\"read global: \", a)', 'b = 20\\n\\ndef bar():\\n    b = 30\\n    print(\"b: \", b)\\n    \\nbar()', 'b = 20\\n\\ndef bar():\\n    b = 30 # local var\\n    print(\"b: \", b) # read local var\\n    \\nbar()\\nprint(\"b\\': \", b) # global var', 'c = 40\\n\\ndef foobar():\\n    c = c+10\\n    print(\"c: \", c)\\n    \\nfoobar()', 'c = 40\\n\\ndef foobar():\\n    # c = c + 10\\n    # c = 10\\n    # c += 100\\n    print(\"c: \", c)\\n    \\nfoobar()', 'c = 40\\n\\ndef foobar():\\n    # 안되는 경우 아래\\n    # c = c + 10\\n    # c = 10\\n    c += 100\\n    \\n    print(\"c: \", c)\\n    \\nfoobar()', 'd = 50\\ndef barfoo():\\n    global d\\n    d = 70\\n    d += 10\\n    print(\"d: \", d)\\nbarfoo()', 'd = 50\\ndef barfoo():\\n    global d\\n    d = 70\\n    d += 10\\n    print(\"d: \", d)\\nbarfoo()\\nprint(\"d\\': \", d)', 'def outer():\\n    e=70 # local\\n    def inner():\\n        e += 10\\n        print(\"e: \", e)\\n    return inner', 'in_test = outer() # Closure', 'in_test()', 'def outer():\\n    e=70 # local\\n    def inner():\\n        nonlocal e\\n        e += 10\\n        print(\"e: \", e)\\n    return inner', 'in_test = outer()\\nin_test()', 'in_test()', 'in_test()', 'in_test()', 'def func(var):\\n    x=10\\n    def printer():\\n        print(\"Printer Func Inner\")\\n    print(\"Func Inner\", locals())\\nfunc(\"Hi\")', 'def func(var):\\n    x=10\\n    def printer():\\n        print(\"Printer Func Inner\")\\n    print(\"Func Inner\", locals())\\nfunc(\"Hi\")', 'print(globals())', 'for i in range(1, 10):\\n    for k in range(1, 10):\\n        globals()[\"plus_{}_{}\".format(i, k)] = i + k\\nprint(globals)', 'for i in range(1, 10):\\n    for k in range(1, 10):\\n        globals()[\"plus_{}_{}\".format(i, k)] = i + k\\nprint(globals)\\nprint(globals())'], 'Out': {}, 'get_ipython': <bound method InteractiveShell.get_ipython of <ipykernel.zmqshell.ZMQInteractiveShell object at 0x000002645D6894C8>>, 'exit': <IPython.core.autocall.ZMQExitAutocall object at 0x000002645D7091C8>, 'quit': <IPython.core.autocall.ZMQExitAutocall object at 0x000002645D7091C8>, '_': '', '__': '', '___': '', '_i': 'for i in range(1, 10):\\n    for k in range(1, 10):\\n        globals()[\"plus_{}_{}\".format(i, k)] = i + k\\nprint(globals)', '_ii': 'print(globals())', '_iii': 'def func(var):\\n    x=10\\n    def printer():\\n        print(\"Printer Func Inner\")\\n    print(\"Func Inner\", locals())\\nfunc(\"Hi\")', '_i1': 'a = 10\\n\\ndef foo():\\n    print(\"read global: \", a)\\n    \\nfoo()', 'a': 10, 'foo': <function foo at 0x000002645D790048>, '_i2': 'print(\"read global: \", a)', '_i3': 'a = 10\\n\\ndef foo():\\n    print(\"read global in fn: \", a)\\n    \\nfoo()', '_i4': 'print(\"read global: \", a)', '_i5': 'b = 20\\n\\ndef bar():\\n    b = 30\\n    print(\"b: \", b)\\n    \\nbar()', 'b': 20, 'bar': <function bar at 0x000002645D75ADC8>, '_i6': 'b = 20\\n\\ndef bar():\\n    b = 30 # local var\\n    print(\"b: \", b) # read local var\\n    \\nbar()\\nprint(\"b\\': \", b) # global var', '_i7': 'c = 40\\n\\ndef foobar():\\n    c = c+10\\n    print(\"c: \", c)\\n    \\nfoobar()', 'c': 40, 'foobar': <function foobar at 0x000002645E7A2558>, '_i8': 'c = 40\\n\\ndef foobar():\\n    # c = c + 10\\n    # c = 10\\n    # c += 100\\n    print(\"c: \", c)\\n    \\nfoobar()', '_i9': 'c = 40\\n\\ndef foobar():\\n    # 안되는 경우 아래\\n    # c = c + 10\\n    # c = 10\\n    c += 100\\n    \\n    print(\"c: \", c)\\n    \\nfoobar()', '_i10': 'd = 50\\ndef barfoo():\\n    global d\\n    d = 70\\n    d += 10\\n    print(\"d: \", d)\\nbarfoo()', 'd': 80, 'barfoo': <function barfoo at 0x000002645E7A20D8>, '_i11': 'd = 50\\ndef barfoo():\\n    global d\\n    d = 70\\n    d += 10\\n    print(\"d: \", d)\\nbarfoo()\\nprint(\"d\\': \", d)', '_i12': 'def outer():\\n    e=70 # local\\n    def inner():\\n        e += 10\\n        print(\"e: \", e)\\n    return inner', 'outer': <function outer at 0x000002645E7A2CA8>, '_i13': 'in_test = outer() # Closure', 'in_test': <function outer.<locals>.inner at 0x000002645E7A2C18>, '_i14': 'in_test()', '_i15': 'def outer():\\n    e=70 # local\\n    def inner():\\n        nonlocal e\\n        e += 10\\n        print(\"e: \", e)\\n    return inner', '_i16': 'in_test = outer()\\nin_test()', '_i17': 'in_test()', '_i18': 'in_test()', '_i19': 'in_test()', '_i20': 'def func(var):\\n    x=10\\n    def printer():\\n        print(\"Printer Func Inner\")\\n    print(\"Func Inner\", locals())\\nfunc(\"Hi\")', 'func': <function func at 0x000002645E7A2798>, '_i21': 'def func(var):\\n    x=10\\n    def printer():\\n        print(\"Printer Func Inner\")\\n    print(\"Func Inner\", locals())\\nfunc(\"Hi\")', '_i22': 'print(globals())', '_i23': 'for i in range(1, 10):\\n    for k in range(1, 10):\\n        globals()[\"plus_{}_{}\".format(i, k)] = i + k\\nprint(globals)', 'i': 9, 'k': 9, 'plus_1_1': 2, 'plus_1_2': 3, 'plus_1_3': 4, 'plus_1_4': 5, 'plus_1_5': 6, 'plus_1_6': 7, 'plus_1_7': 8, 'plus_1_8': 9, 'plus_1_9': 10, 'plus_2_1': 3, 'plus_2_2': 4, 'plus_2_3': 5, 'plus_2_4': 6, 'plus_2_5': 7, 'plus_2_6': 8, 'plus_2_7': 9, 'plus_2_8': 10, 'plus_2_9': 11, 'plus_3_1': 4, 'plus_3_2': 5, 'plus_3_3': 6, 'plus_3_4': 7, 'plus_3_5': 8, 'plus_3_6': 9, 'plus_3_7': 10, 'plus_3_8': 11, 'plus_3_9': 12, 'plus_4_1': 5, 'plus_4_2': 6, 'plus_4_3': 7, 'plus_4_4': 8, 'plus_4_5': 9, 'plus_4_6': 10, 'plus_4_7': 11, 'plus_4_8': 12, 'plus_4_9': 13, 'plus_5_1': 6, 'plus_5_2': 7, 'plus_5_3': 8, 'plus_5_4': 9, 'plus_5_5': 10, 'plus_5_6': 11, 'plus_5_7': 12, 'plus_5_8': 13, 'plus_5_9': 14, 'plus_6_1': 7, 'plus_6_2': 8, 'plus_6_3': 9, 'plus_6_4': 10, 'plus_6_5': 11, 'plus_6_6': 12, 'plus_6_7': 13, 'plus_6_8': 14, 'plus_6_9': 15, 'plus_7_1': 8, 'plus_7_2': 9, 'plus_7_3': 10, 'plus_7_4': 11, 'plus_7_5': 12, 'plus_7_6': 13, 'plus_7_7': 14, 'plus_7_8': 15, 'plus_7_9': 16, 'plus_8_1': 9, 'plus_8_2': 10, 'plus_8_3': 11, 'plus_8_4': 12, 'plus_8_5': 13, 'plus_8_6': 14, 'plus_8_7': 15, 'plus_8_8': 16, 'plus_8_9': 17, 'plus_9_1': 10, 'plus_9_2': 11, 'plus_9_3': 12, 'plus_9_4': 13, 'plus_9_5': 14, 'plus_9_6': 15, 'plus_9_7': 16, 'plus_9_8': 17, 'plus_9_9': 18, '_i24': 'for i in range(1, 10):\\n    for k in range(1, 10):\\n        globals()[\"plus_{}_{}\".format(i, k)] = i + k\\nprint(globals)\\nprint(globals())'}\n"
     ]
    }
   ],
   "source": [
    "for i in range(1, 10):\n",
    "    for k in range(1, 10):\n",
    "        globals()[\"plus_{}_{}\".format(i, k)] = i + k\n",
    "print(globals)\n",
    "print(globals())"
   ]
  },
  {
   "cell_type": "code",
   "execution_count": 25,
   "id": "deluxe-sphere",
   "metadata": {},
   "outputs": [
    {
     "name": "stdout",
     "output_type": "stream",
     "text": [
      "10\n"
     ]
    }
   ],
   "source": [
    "print(plus_5_5)"
   ]
  },
  {
   "cell_type": "code",
   "execution_count": 26,
   "id": "bigger-template",
   "metadata": {},
   "outputs": [
    {
     "name": "stdout",
     "output_type": "stream",
     "text": [
      "17\n"
     ]
    }
   ],
   "source": [
    "print(plus_9_8)"
   ]
  },
  {
   "cell_type": "markdown",
   "id": "extra-passport",
   "metadata": {},
   "source": [
    "- 전역변수는 주로 변하지 않는 고정 값에 사용\n",
    "- 지역변수 사용 이유: 지역변수는 함수 내에 로직 해결에 국한, 소멸주기: 함수 실행 해제 시\n",
    "- 전역변수를 지역내에서 수정되는 것은 권장하지 않는다"
   ]
  }
 ],
 "metadata": {
  "kernelspec": {
   "display_name": "Python 3",
   "language": "python",
   "name": "python3"
  },
  "language_info": {
   "codemirror_mode": {
    "name": "ipython",
    "version": 3
   },
   "file_extension": ".py",
   "mimetype": "text/x-python",
   "name": "python",
   "nbconvert_exporter": "python",
   "pygments_lexer": "ipython3",
   "version": "3.7.4"
  }
 },
 "nbformat": 4,
 "nbformat_minor": 5
}
