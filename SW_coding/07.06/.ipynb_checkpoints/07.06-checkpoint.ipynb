{
 "cells": [
  {
   "cell_type": "code",
   "execution_count": 1,
   "metadata": {},
   "outputs": [],
   "source": [
    "#map(func, list(sequence))->return\n",
    "#filter(func, list(sequence))-> boolean\n",
    "def power(item):\n",
    "    return item*item\n"
   ]
  },
  {
   "cell_type": "code",
   "execution_count": 2,
   "metadata": {},
   "outputs": [],
   "source": [
    "arr = [1,2,3,4,5]"
   ]
  },
  {
   "cell_type": "code",
   "execution_count": 3,
   "metadata": {},
   "outputs": [],
   "source": [
    "output1 = map(power, arr) # arr의 요소들을 하나씩 제곱\n",
    "#lazy evaluation이라서 주소만 있음\n",
    "output1 = list(output1)"
   ]
  },
  {
   "cell_type": "code",
   "execution_count": 4,
   "metadata": {},
   "outputs": [
    {
     "data": {
      "text/plain": [
       "[1, 4, 9, 16, 25]"
      ]
     },
     "execution_count": 4,
     "metadata": {},
     "output_type": "execute_result"
    }
   ],
   "source": [
    "output1"
   ]
  },
  {
   "cell_type": "code",
   "execution_count": 5,
   "metadata": {},
   "outputs": [
    {
     "data": {
      "text/plain": [
       "[1, 4, 9, 16, 25]"
      ]
     },
     "execution_count": 5,
     "metadata": {},
     "output_type": "execute_result"
    }
   ],
   "source": [
    "#power을 lambda로 한줄 표현\n",
    "list(map(lambda i:i*i, arr))"
   ]
  },
  {
   "cell_type": "code",
   "execution_count": 6,
   "metadata": {},
   "outputs": [],
   "source": [
    "def under_3(item):\n",
    "    return item<3"
   ]
  },
  {
   "cell_type": "code",
   "execution_count": 8,
   "metadata": {},
   "outputs": [],
   "source": [
    "output2 = filter(under_3, arr) #arr을 under_3 함수를 사용하여 걸러낸다\n",
    "#laxy evaluation\n",
    "output2 = list(output2)"
   ]
  },
  {
   "cell_type": "code",
   "execution_count": 9,
   "metadata": {},
   "outputs": [
    {
     "data": {
      "text/plain": [
       "[1, 2]"
      ]
     },
     "execution_count": 9,
     "metadata": {},
     "output_type": "execute_result"
    }
   ],
   "source": [
    "output2"
   ]
  },
  {
   "cell_type": "code",
   "execution_count": 10,
   "metadata": {},
   "outputs": [
    {
     "data": {
      "text/plain": [
       "[1, 2]"
      ]
     },
     "execution_count": 10,
     "metadata": {},
     "output_type": "execute_result"
    }
   ],
   "source": [
    "list(filter(lambda i:i<3, arr))"
   ]
  },
  {
   "cell_type": "code",
   "execution_count": 11,
   "metadata": {},
   "outputs": [
    {
     "data": {
      "text/plain": [
       "[17, 35, 42, 38, 43, 37]"
      ]
     },
     "execution_count": 11,
     "metadata": {},
     "output_type": "execute_result"
    }
   ],
   "source": [
    "# reduce\n",
    "import random #random.py\n",
    "random.sample(range(1,45+1), 6)"
   ]
  },
  {
   "cell_type": "code",
   "execution_count": 12,
   "metadata": {},
   "outputs": [
    {
     "data": {
      "text/plain": [
       "[31, 6, 22, 28, 42, 9]"
      ]
     },
     "execution_count": 12,
     "metadata": {},
     "output_type": "execute_result"
    }
   ],
   "source": [
    "from random import sample\n",
    "sample(range(1,45+1), 6)"
   ]
  },
  {
   "cell_type": "code",
   "execution_count": 13,
   "metadata": {},
   "outputs": [
    {
     "name": "stdout",
     "output_type": "stream",
     "text": [
      "Variable   Type        Data/Info\n",
      "--------------------------------\n",
      "arr        list        n=5\n",
      "ouput2     filter      <filter object at 0x0000013D91D85348>\n",
      "output1    list        n=5\n",
      "output2    list        n=2\n",
      "power      function    <function power at 0x0000013D91D59708>\n",
      "random     module      <module 'random' from 'D:<...>aconda3\\\\lib\\\\random.py'>\n",
      "sample     method      <bound method Random.samp<...>t at 0x0000013D8F93A8B8>>\n",
      "under_3    function    <function under_3 at 0x0000013D91D599D8>\n"
     ]
    }
   ],
   "source": [
    "whos"
   ]
  },
  {
   "cell_type": "code",
   "execution_count": 14,
   "metadata": {},
   "outputs": [],
   "source": [
    "from functools import reduce "
   ]
  },
  {
   "cell_type": "code",
   "execution_count": 18,
   "metadata": {},
   "outputs": [],
   "source": [
    "#map/filter와는 다르게 reduce는 호출해야함"
   ]
  },
  {
   "cell_type": "code",
   "execution_count": 19,
   "metadata": {},
   "outputs": [
    {
     "name": "stdout",
     "output_type": "stream",
     "text": [
      "Variable   Type                          Data/Info\n",
      "--------------------------------------------------\n",
      "arr        list                          n=5\n",
      "ouput2     filter                        <filter object at 0x0000013D91D85348>\n",
      "output1    list                          n=5\n",
      "output2    list                          n=2\n",
      "power      function                      <function power at 0x0000013D91D59708>\n",
      "random     module                        <module 'random' from 'D:<...>aconda3\\\\lib\\\\random.py'>\n",
      "reduce     builtin_function_or_method    <built-in function reduce>\n",
      "sample     method                        <bound method Random.samp<...>t at 0x0000013D8F93A8B8>>\n",
      "under_3    function                      <function under_3 at 0x0000013D91D599D8>\n"
     ]
    }
   ],
   "source": [
    "whos"
   ]
  },
  {
   "cell_type": "code",
   "execution_count": 20,
   "metadata": {},
   "outputs": [],
   "source": [
    "arr = list(range(1,100+1))"
   ]
  },
  {
   "cell_type": "code",
   "execution_count": 21,
   "metadata": {},
   "outputs": [],
   "source": [
    "#reduce는 두개씩 처리함\n",
    "#합계를 구할 함수 정의\n",
    "def add(a,b):\n",
    "    return a+b"
   ]
  },
  {
   "cell_type": "code",
   "execution_count": 22,
   "metadata": {},
   "outputs": [],
   "source": [
    "sumnum = reduce(add, arr) #arr의 요소들을 모두 더함"
   ]
  },
  {
   "cell_type": "code",
   "execution_count": 24,
   "metadata": {},
   "outputs": [
    {
     "data": {
      "text/plain": [
       "5050"
      ]
     },
     "execution_count": 24,
     "metadata": {},
     "output_type": "execute_result"
    }
   ],
   "source": [
    "sumnum"
   ]
  },
  {
   "cell_type": "code",
   "execution_count": 25,
   "metadata": {},
   "outputs": [
    {
     "data": {
      "text/plain": [
       "5050"
      ]
     },
     "execution_count": 25,
     "metadata": {},
     "output_type": "execute_result"
    }
   ],
   "source": [
    "# reduce는 앞에서부터 차례로 함수에 적용\n",
    "# reduce(할일, 데이터)\n",
    "sumnum = reduce(lambda a,b:a+b, range(1,100+1))\n",
    "sumnum"
   ]
  },
  {
   "cell_type": "code",
   "execution_count": 27,
   "metadata": {},
   "outputs": [],
   "source": [
    "multi = reduce(lambda a,b:a*b, range(1,10+1))\n",
    "#1~10까지 곱하기\n",
    "#reduce(동사, 명사(목적어))"
   ]
  },
  {
   "cell_type": "code",
   "execution_count": 28,
   "metadata": {},
   "outputs": [
    {
     "data": {
      "text/plain": [
       "3628800"
      ]
     },
     "execution_count": 28,
     "metadata": {},
     "output_type": "execute_result"
    }
   ],
   "source": [
    "multi"
   ]
  },
  {
   "cell_type": "code",
   "execution_count": 30,
   "metadata": {},
   "outputs": [
    {
     "name": "stdout",
     "output_type": "stream",
     "text": [
      "['1', '2', '3']\n"
     ]
    }
   ],
   "source": [
    "s1 = \"123\"\n",
    "arr = list(s1) #['1', '2', '3']\n",
    "print(arr)"
   ]
  },
  {
   "cell_type": "code",
   "execution_count": 31,
   "metadata": {},
   "outputs": [
    {
     "name": "stdout",
     "output_type": "stream",
     "text": [
      "[1, 2, 3]\n"
     ]
    }
   ],
   "source": [
    "arr2 = map(int, arr) #int로 바꿔줌\n",
    "print(list(arr2)) #list로 한번 둘러싸야함"
   ]
  },
  {
   "cell_type": "code",
   "execution_count": 32,
   "metadata": {},
   "outputs": [
    {
     "name": "stdout",
     "output_type": "stream",
     "text": [
      "[1, 2, 3]\n"
     ]
    }
   ],
   "source": [
    "#same\n",
    "emp=[]\n",
    "for s in arr:\n",
    "    emp.append(int(s)) #int('1')\n",
    "print(emp)"
   ]
  },
  {
   "cell_type": "code",
   "execution_count": 33,
   "metadata": {},
   "outputs": [
    {
     "name": "stdout",
     "output_type": "stream",
     "text": [
      "['1', '2', '3']\n"
     ]
    }
   ],
   "source": [
    "arr = [1,2,3] #원하는 결과 = ['1', '2', '3']\n",
    "#list안의 요소를 string으로\n",
    "arr2 = map(str, arr)\n",
    "print(list(arr2))"
   ]
  },
  {
   "cell_type": "code",
   "execution_count": 34,
   "metadata": {},
   "outputs": [
    {
     "name": "stdout",
     "output_type": "stream",
     "text": [
      "[1, 2, 3]\n"
     ]
    }
   ],
   "source": [
    "#string ['1', '2', '3']을 int [1, 2, 3]으로\n",
    "arr = ['1', '2', '3']\n",
    "arr2 = map(int, arr)\n",
    "print(list(arr2)) "
   ]
  },
  {
   "cell_type": "code",
   "execution_count": 35,
   "metadata": {},
   "outputs": [],
   "source": [
    "# 파일 처리\n",
    "#open()\n",
    "#file object = open(strinf:file directory, string:read mode)\n",
    "#w mode 새로쓰기\n",
    "#a mode 더하기\n",
    "#r mode 읽기\n",
    "#close() 자원을 닫는다.->왜? 자원해제할 떄 애러의 순간 3가지\n",
    "#1. 파일 입출력\n",
    "#2. 네트워크(e.g. 채팅)\n",
    "#3. 데이터베이스\n",
    "#file_object.close()\n",
    "#closed()는 닫혔는지 확인"
   ]
  },
  {
   "cell_type": "code",
   "execution_count": 39,
   "metadata": {},
   "outputs": [],
   "source": [
    "file = open(\"basic.txt\", \"w\") #ipynb이랑 같은 위치에\n",
    "file.write(\"Hello Python Programming!\")\n",
    "file.close()"
   ]
  },
  {
   "cell_type": "code",
   "execution_count": 37,
   "metadata": {},
   "outputs": [],
   "source": [
    "# with\n",
    "#자동으로 close가 됨\n",
    "# with open(string:경로, string:mode) as file_name:\n",
    "#     문장\n",
    "with open(\"test.txt\", \"w\") as file:\n",
    "    file.write(\"Hi Python Programming!\")\n",
    "    #file.close()를 생략가능!"
   ]
  },
  {
   "cell_type": "code",
   "execution_count": 40,
   "metadata": {},
   "outputs": [
    {
     "name": "stdout",
     "output_type": "stream",
     "text": [
      "Hello Python Programming!\n"
     ]
    }
   ],
   "source": [
    "# 파일 읽기\n",
    "with open(\"basic.txt\", \"r\") as file: #read\n",
    "    contents = file.read()\n",
    "    #close 생략\n",
    "print(contents) #HelloWorld"
   ]
  },
  {
   "cell_type": "code",
   "execution_count": 51,
   "metadata": {},
   "outputs": [],
   "source": [
    "# -*- coding: utf-8 -*-\n",
    "# UTF-8 encoding when using korean\n",
    "#한줄씩 읽기\n",
    "#cSV, XML, JSON\n",
    "#랜덤하게 1000명의 키와 몸무게 만들기\n",
    "import random\n",
    "last_names = list(\"김이박최홍성강서신안\")\n",
    "first_names = [\"길동\", \"꺽정\", \"지매\", \"철수\", \"영희\"]\n",
    "\n",
    "\n",
    "with open(\"info.txt\", \"w\", encoding='utf8') as file: #encoding 추가\n",
    "    \n",
    "    for i in range(1000):\n",
    "        name = random.choice(last_names) + random.choice(first_names)\n",
    "        weight = random.randrange(40,100) #shit+tap으로 설명 보기!\n",
    "        height = random.randrange(140, 200)\n",
    "        file.write(\"{},{},{}\\n\".format(name, weight, height)) #csv는 쉼표로 구분\n",
    "        "
   ]
  },
  {
   "cell_type": "code",
   "execution_count": null,
   "metadata": {},
   "outputs": [],
   "source": [
    "#키와 몸무게로 비만도 계산\n",
    "#join으로\n",
    "with open(\"info.txt\", \"r\") as file:\n",
    "    for line in file:\n",
    "        name, weight, height = line.split(\",\")\n",
    "        #키를 m로\n",
    "        m_height = int(height)/100\n",
    "        bmi = int(weight)/(m_height*m_height)\n",
    "        result = \"\"\n",
    "        if 25<= bmi:\n",
    "            result = \"과체중\"\n",
    "        elif 18.5<= bmi:\n",
    "            result = \"정상체중\"\n",
    "        else:\n",
    "            result = \"저체중\"\n",
    "        print('\\n'.join([\"이름:{}, 몸무게:{}, 키:{},BMI:{}, 결과:{}\".format(name, weight, height, bmi, result)]))\n",
    "        "
   ]
  },
  {
   "cell_type": "code",
   "execution_count": 47,
   "metadata": {},
   "outputs": [],
   "source": [
    "# -*- coding: utf-8 -*-"
   ]
  },
  {
   "cell_type": "code",
   "execution_count": 52,
   "metadata": {},
   "outputs": [
    {
     "name": "stdin",
     "output_type": "stream",
     "text": [
      " asdfg\n"
     ]
    },
    {
     "name": "stdout",
     "output_type": "stream",
     "text": [
      "agsfd\n"
     ]
    }
   ],
   "source": [
    "user_input = input()\n",
    "alist = list(user_input)\n",
    "res=[]\n",
    "for i in range(len(alist)):\n",
    "\tif i%2==1:\n",
    "\t\tres.append(alist.pop(-1))\n",
    "\telse:\n",
    "\t\tres.append(alist.pop(0))\n",
    "res = \"\".join(res)\n",
    "print(res)\n"
   ]
  },
  {
   "cell_type": "code",
   "execution_count": 53,
   "metadata": {},
   "outputs": [
    {
     "name": "stdout",
     "output_type": "stream",
     "text": [
      "[]\n"
     ]
    }
   ],
   "source": [
    "print(alist)"
   ]
  },
  {
   "cell_type": "code",
   "execution_count": 54,
   "metadata": {},
   "outputs": [
    {
     "name": "stdin",
     "output_type": "stream",
     "text": [
      " asdfg\n"
     ]
    },
    {
     "name": "stdout",
     "output_type": "stream",
     "text": [
      "agsfd\n"
     ]
    }
   ],
   "source": [
    "#아예 문자열을 뒤집어도 됨\n",
    "s1 = input()\n",
    "arr1 = list(s1)\n",
    "arr2 = list(reversed(s1))\n",
    "\n",
    "length = len(s1) \n",
    "size = length//2\n",
    "result = \"\"\n",
    "for i in range(size+1):\n",
    "    result += arr1[i] + arr2[i]\n",
    "print(result[:length])"
   ]
  },
  {
   "cell_type": "code",
   "execution_count": 59,
   "metadata": {},
   "outputs": [],
   "source": [
    "# beautifulsoup\n",
    "# 로또 당첨번호 확인하기\n",
    "#스크래핑 한페이지/크롤링 여러페이지\n",
    "#url: https://dhlottery.co.kr/gameResult.do?method=byWin\n",
    "from bs4 import BeautifulSoup #version 4\n",
    "# D:\\Installation\\Anaconda3\\Lib\\site-packages\\bs4\n",
    "import urllib.request\n",
    "url = \"https://dhlottery.co.kr/gameResult.do?method=byWin\"\n",
    "html = urllib.request.urlopen(url)\n",
    "soup = BeautifulSoup(html, \"lxml\") #OOB 대문자로 시작-> 생성자\n",
    "#anaconda가 아니면 \"html.parser\"\n",
    "#soup\n",
    "#1. 회\n",
    "#2. 당첨번호\n",
    "#3. 보너스\n",
    "#chrome 오른쪽 마우스 검사 선택자ㅏ\n",
    "#html -> id/class/tag\n",
    "# id 한개만 존재(front engineer)\n",
    "#class 여러개(web designer)\n",
    "#tag"
   ]
  },
  {
   "cell_type": "code",
   "execution_count": 64,
   "metadata": {},
   "outputs": [
    {
     "name": "stdout",
     "output_type": "stream",
     "text": [
      "<strong>918회</strong>\n",
      "918회\n"
     ]
    }
   ],
   "source": [
    "hoi = soup.select_one(\".win_result h4 strong\") #div생략 가능\n",
    "print(hoi)\n",
    "print(hoi.string)"
   ]
  },
  {
   "cell_type": "code",
   "execution_count": 65,
   "metadata": {},
   "outputs": [
    {
     "data": {
      "text/plain": [
       "[<span class=\"ball_645 lrg ball1\">7</span>,\n",
       " <span class=\"ball_645 lrg ball2\">11</span>,\n",
       " <span class=\"ball_645 lrg ball2\">12</span>,\n",
       " <span class=\"ball_645 lrg ball4\">31</span>,\n",
       " <span class=\"ball_645 lrg ball4\">33</span>,\n",
       " <span class=\"ball_645 lrg ball4\">38</span>]"
      ]
     },
     "execution_count": 65,
     "metadata": {},
     "output_type": "execute_result"
    }
   ],
   "source": [
    "spans = soup.select(\"div.num.win span\") #<div class=\"num win\" ...\n",
    "spans"
   ]
  },
  {
   "cell_type": "code",
   "execution_count": 66,
   "metadata": {},
   "outputs": [],
   "source": [
    "lottos = [int(span.string) for span in spans]"
   ]
  },
  {
   "cell_type": "code",
   "execution_count": 67,
   "metadata": {},
   "outputs": [
    {
     "data": {
      "text/plain": [
       "[7, 11, 12, 31, 33, 38]"
      ]
     },
     "execution_count": 67,
     "metadata": {},
     "output_type": "execute_result"
    }
   ],
   "source": [
    "lottos"
   ]
  },
  {
   "cell_type": "code",
   "execution_count": 70,
   "metadata": {},
   "outputs": [],
   "source": [
    "lottos2 = [span.string for span in spans]"
   ]
  },
  {
   "cell_type": "code",
   "execution_count": 72,
   "metadata": {},
   "outputs": [
    {
     "name": "stdout",
     "output_type": "stream",
     "text": [
      "7 11 12 31 33 38\n"
     ]
    }
   ],
   "source": [
    "print(\" \".join(lottos2))"
   ]
  },
  {
   "cell_type": "code",
   "execution_count": 74,
   "metadata": {},
   "outputs": [
    {
     "name": "stdout",
     "output_type": "stream",
     "text": [
      "bonus= 5\n"
     ]
    }
   ],
   "source": [
    "# <div class=\"num bonus\" ...\n",
    "bonus_span = soup.select_one(\"div.num.bonus span\")\n",
    "#print(bonus_span)\n",
    "print(\"bonus=\", bonus_span.string)"
   ]
  },
  {
   "cell_type": "code",
   "execution_count": 75,
   "metadata": {},
   "outputs": [],
   "source": [
    "#css selecter #아이이 .클래스"
   ]
  },
  {
   "cell_type": "code",
   "execution_count": 1,
   "metadata": {},
   "outputs": [],
   "source": [
    "#generator: yeild\n",
    "#range\n",
    "#메모리 효율\n",
    "def test():\n",
    "    print(\"A\")\n",
    "    yield 1\n",
    "    print(\"B\")\n",
    "    yield 2\n",
    "    print(\"C\")"
   ]
  },
  {
   "cell_type": "code",
   "execution_count": 2,
   "metadata": {},
   "outputs": [],
   "source": [
    "output = test()"
   ]
  },
  {
   "cell_type": "code",
   "execution_count": 3,
   "metadata": {},
   "outputs": [
    {
     "data": {
      "text/plain": [
       "<generator object test at 0x0000018CD8384248>"
      ]
     },
     "execution_count": 3,
     "metadata": {},
     "output_type": "execute_result"
    }
   ],
   "source": [
    "output"
   ]
  },
  {
   "cell_type": "code",
   "execution_count": 4,
   "metadata": {},
   "outputs": [
    {
     "name": "stdout",
     "output_type": "stream",
     "text": [
      "DDD\n",
      "A\n",
      "1\n"
     ]
    }
   ],
   "source": [
    "print(\"DDD\")\n",
    "a = next(output)\n",
    "print(a)"
   ]
  },
  {
   "cell_type": "code",
   "execution_count": 5,
   "metadata": {},
   "outputs": [
    {
     "name": "stdout",
     "output_type": "stream",
     "text": [
      "EE\n",
      "B\n",
      "2\n"
     ]
    }
   ],
   "source": [
    "print(\"EE\")\n",
    "b = next(output)\n",
    "print(b)"
   ]
  },
  {
   "cell_type": "code",
   "execution_count": 7,
   "metadata": {},
   "outputs": [
    {
     "name": "stdout",
     "output_type": "stream",
     "text": [
      "FFF\n"
     ]
    },
    {
     "ename": "StopIteration",
     "evalue": "",
     "output_type": "error",
     "traceback": [
      "\u001b[1;31m---------------------------------------------------------------------------\u001b[0m",
      "\u001b[1;31mStopIteration\u001b[0m                             Traceback (most recent call last)",
      "\u001b[1;32m<ipython-input-7-e6c3117620d9>\u001b[0m in \u001b[0;36m<module>\u001b[1;34m\u001b[0m\n\u001b[0;32m      1\u001b[0m \u001b[0mprint\u001b[0m\u001b[1;33m(\u001b[0m\u001b[1;34m\"FFF\"\u001b[0m\u001b[1;33m)\u001b[0m\u001b[1;33m\u001b[0m\u001b[1;33m\u001b[0m\u001b[0m\n\u001b[1;32m----> 2\u001b[1;33m \u001b[0mc\u001b[0m \u001b[1;33m=\u001b[0m \u001b[0mnext\u001b[0m\u001b[1;33m(\u001b[0m\u001b[0moutput\u001b[0m\u001b[1;33m)\u001b[0m \u001b[1;31m# StopIteration #return이 없기 때문에 error\u001b[0m\u001b[1;33m\u001b[0m\u001b[1;33m\u001b[0m\u001b[0m\n\u001b[0m\u001b[0;32m      3\u001b[0m \u001b[0mprint\u001b[0m\u001b[1;33m(\u001b[0m\u001b[0mc\u001b[0m\u001b[1;33m)\u001b[0m\u001b[1;33m\u001b[0m\u001b[1;33m\u001b[0m\u001b[0m\n",
      "\u001b[1;31mStopIteration\u001b[0m: "
     ]
    }
   ],
   "source": [
    "print(\"FFF\")\n",
    "c = next(output) # StopIteration #return이 없기 때문에 error\n",
    "print(c) \n",
    "# 블록 잡고 ctrl+/ 주석"
   ]
  },
  {
   "cell_type": "code",
   "execution_count": 12,
   "metadata": {},
   "outputs": [
    {
     "name": "stdin",
     "output_type": "stream",
     "text": [
      "정수를 입력하세요:  kdl\n"
     ]
    },
    {
     "name": "stdout",
     "output_type": "stream",
     "text": [
      "정수를 입력하세요!\n"
     ]
    }
   ],
   "source": [
    "#error와 예외\n",
    "# 오류는 1. 구문오류, 2. 런타임 오류/예외(프로그램 실행중)\n",
    "# 예외 처리 try 개발자가 처할 수 있는 여러 상황, 방어운전, 에러에 대비하는 코드를 작성\n",
    "\n",
    "#if문을 이용한 예외처리 케이스\n",
    "user_input_a = input(\"정수를 입력하세요: \")\n",
    "if user_input_a.isdigit():\n",
    "    number_input_a = int(user_input_a)\n",
    "    print(\"원의 반지름 = \", number_input_a)\n",
    "    print(\"원의 둘레 = \", 2*3.14*number_input_a)\n",
    "    print(\"원의 넓이 = \", 3.14*number_input_a*number_input_a)\n",
    "else:\n",
    "    print(\"정수를 입력하세요!\")"
   ]
  },
  {
   "cell_type": "code",
   "execution_count": 15,
   "metadata": {},
   "outputs": [
    {
     "name": "stdin",
     "output_type": "stream",
     "text": [
      "정수 입력 ㅈㄱ\n"
     ]
    },
    {
     "name": "stdout",
     "output_type": "stream",
     "text": [
      "예외 발생\n"
     ]
    }
   ],
   "source": [
    "# try/except\n",
    "try:\n",
    "    number_input_a = int(input(\"정수 입력\"))\n",
    "    \n",
    "    print(\"원의 반지름 = \", number_input_a)\n",
    "    print(\"원의 둘레 = \", 2*3.14*number_input_a)\n",
    "    print(\"원의 넓이 = \", 3.14*number_input_a*number_input_a)\n",
    "except:\n",
    "    print(\"예외 발생\")"
   ]
  },
  {
   "cell_type": "code",
   "execution_count": 18,
   "metadata": {},
   "outputs": [
    {
     "name": "stdout",
     "output_type": "stream",
     "text": [
      "['52', '273', '32', 'spy', '10']\n",
      "['52', '273', '32', '10']\n"
     ]
    }
   ],
   "source": [
    "# except + pass\n",
    "# 프로그램을 멈추게 하지 않고 계속 작동하게 할 수 있도록\n",
    "list_input_a = [\"52\", \"273\", \"32\", \"spy\", \"10\"]\n",
    "list_number = []\n",
    "for i in list_input_a:\n",
    "    try:\n",
    "        float(i)\n",
    "        list_number.append(i)\n",
    "    except:\n",
    "        pass\n",
    "\n",
    "print(list_input_a)\n",
    "print(list_number)"
   ]
  },
  {
   "cell_type": "code",
   "execution_count": 20,
   "metadata": {},
   "outputs": [
    {
     "name": "stdin",
     "output_type": "stream",
     "text": [
      "정수 입력:  hello\n"
     ]
    },
    {
     "name": "stdout",
     "output_type": "stream",
     "text": [
      "정수를 입력하셔야 합니다.\n"
     ]
    }
   ],
   "source": [
    "# 예외 발생/안발생\n",
    "# try/except/else\n",
    "try:\n",
    "    number_input_a = int(input(\"정수 입력: \"))\n",
    "except:\n",
    "    print(\"정수를 입력하셔야 합니다.\")\n",
    "    # 예외 발생\n",
    "else:\n",
    "    print(\"원의 반지름 = \", number_input_a)\n",
    "    print(\"원의 둘레 = \", 2*3.14*number_input_a)\n",
    "    print(\"원의 넓이 = \", 3.14*number_input_a*number_input_a)\n",
    "    #예외 발생 안함"
   ]
  },
  {
   "cell_type": "code",
   "execution_count": 21,
   "metadata": {},
   "outputs": [],
   "source": [
    "# finally\n",
    "#try: 예외 발생할 가능성 있는 code\n",
    "#except: 예외 발생\n",
    "#else: 예외 발생 안함\n",
    "#finally: 무조건 실행 -> close를 써주면 리소스 관리가 된다"
   ]
  },
  {
   "cell_type": "code",
   "execution_count": 23,
   "metadata": {},
   "outputs": [
    {
     "name": "stdout",
     "output_type": "stream",
     "text": [
      "division by zero\n",
      "file.closed:  True\n"
     ]
    }
   ],
   "source": [
    "# finally에서 close 하기\n",
    "file = open(\"info2.txt\", \"w\")\n",
    "try:\n",
    "    file.write(\"hi world\")\n",
    "    #1/0 예외발생\n",
    "except Exception as e:\n",
    "    # Exception 모든 예외의 상위 개념\n",
    "    print(e) #division by zero(예외 발생을 출력해줌)\n",
    "finally:\n",
    "    file.close() #여기서 클로즈 해주는게 정석\n",
    "print(\"file.closed: \", file.closed)"
   ]
  },
  {
   "cell_type": "code",
   "execution_count": 28,
   "metadata": {},
   "outputs": [
    {
     "name": "stderr",
     "output_type": "stream",
     "text": [
      "D:\\Installation\\Anaconda3\\lib\\importlib\\_bootstrap.py:219: RuntimeWarning: numpy.ufunc size changed, may indicate binary incompatibility. Expected 192 from C header, got 216 from PyObject\n",
      "  return f(*args, **kwds)\n",
      "D:\\Installation\\Anaconda3\\lib\\importlib\\_bootstrap.py:219: RuntimeWarning: numpy.ufunc size changed, may indicate binary incompatibility. Expected 192 from C header, got 216 from PyObject\n",
      "  return f(*args, **kwds)\n",
      "D:\\Installation\\Anaconda3\\lib\\importlib\\_bootstrap.py:219: RuntimeWarning: numpy.ufunc size changed, may indicate binary incompatibility. Expected 192 from C header, got 216 from PyObject\n",
      "  return f(*args, **kwds)\n"
     ]
    }
   ],
   "source": [
    "# 응용\n",
    "# 데이터 분석 실습: 성적 관리\n",
    "%matplotlib inline\n",
    "import numpy as np\n",
    "import pandas as pd\n",
    "import matplotlib.pyplot as plt\n",
    "import scipy.stats as stats"
   ]
  },
  {
   "cell_type": "code",
   "execution_count": null,
   "metadata": {},
   "outputs": [],
   "source": [
    "# !pip install pandas"
   ]
  },
  {
   "cell_type": "code",
   "execution_count": 29,
   "metadata": {},
   "outputs": [],
   "source": [
    "df = pd.read_csv(\"score.csv\")"
   ]
  },
  {
   "cell_type": "code",
   "execution_count": 30,
   "metadata": {},
   "outputs": [
    {
     "data": {
      "text/html": [
       "<div>\n",
       "<style scoped>\n",
       "    .dataframe tbody tr th:only-of-type {\n",
       "        vertical-align: middle;\n",
       "    }\n",
       "\n",
       "    .dataframe tbody tr th {\n",
       "        vertical-align: top;\n",
       "    }\n",
       "\n",
       "    .dataframe thead th {\n",
       "        text-align: right;\n",
       "    }\n",
       "</style>\n",
       "<table border=\"1\" class=\"dataframe\">\n",
       "  <thead>\n",
       "    <tr style=\"text-align: right;\">\n",
       "      <th></th>\n",
       "      <th>반</th>\n",
       "      <th>이름</th>\n",
       "      <th>국어</th>\n",
       "      <th>영어</th>\n",
       "      <th>수학</th>\n",
       "      <th>과학</th>\n",
       "    </tr>\n",
       "  </thead>\n",
       "  <tbody>\n",
       "    <tr>\n",
       "      <th>0</th>\n",
       "      <td>1</td>\n",
       "      <td>성춘향</td>\n",
       "      <td>67</td>\n",
       "      <td>87</td>\n",
       "      <td>90</td>\n",
       "      <td>98</td>\n",
       "    </tr>\n",
       "    <tr>\n",
       "      <th>1</th>\n",
       "      <td>1</td>\n",
       "      <td>이몽룡</td>\n",
       "      <td>45</td>\n",
       "      <td>45</td>\n",
       "      <td>56</td>\n",
       "      <td>98</td>\n",
       "    </tr>\n",
       "    <tr>\n",
       "      <th>2</th>\n",
       "      <td>1</td>\n",
       "      <td>향단이</td>\n",
       "      <td>95</td>\n",
       "      <td>59</td>\n",
       "      <td>96</td>\n",
       "      <td>88</td>\n",
       "    </tr>\n",
       "    <tr>\n",
       "      <th>3</th>\n",
       "      <td>1</td>\n",
       "      <td>방자</td>\n",
       "      <td>65</td>\n",
       "      <td>94</td>\n",
       "      <td>89</td>\n",
       "      <td>98</td>\n",
       "    </tr>\n",
       "    <tr>\n",
       "      <th>4</th>\n",
       "      <td>1</td>\n",
       "      <td>월매</td>\n",
       "      <td>45</td>\n",
       "      <td>65</td>\n",
       "      <td>78</td>\n",
       "      <td>98</td>\n",
       "    </tr>\n",
       "    <tr>\n",
       "      <th>5</th>\n",
       "      <td>1</td>\n",
       "      <td>변학도</td>\n",
       "      <td>78</td>\n",
       "      <td>76</td>\n",
       "      <td>98</td>\n",
       "      <td>89</td>\n",
       "    </tr>\n",
       "    <tr>\n",
       "      <th>6</th>\n",
       "      <td>2</td>\n",
       "      <td>홍길동</td>\n",
       "      <td>87</td>\n",
       "      <td>67</td>\n",
       "      <td>65</td>\n",
       "      <td>56</td>\n",
       "    </tr>\n",
       "    <tr>\n",
       "      <th>7</th>\n",
       "      <td>2</td>\n",
       "      <td>임꺽정</td>\n",
       "      <td>89</td>\n",
       "      <td>98</td>\n",
       "      <td>78</td>\n",
       "      <td>78</td>\n",
       "    </tr>\n",
       "    <tr>\n",
       "      <th>8</th>\n",
       "      <td>2</td>\n",
       "      <td>전우치</td>\n",
       "      <td>100</td>\n",
       "      <td>78</td>\n",
       "      <td>56</td>\n",
       "      <td>65</td>\n",
       "    </tr>\n",
       "    <tr>\n",
       "      <th>9</th>\n",
       "      <td>2</td>\n",
       "      <td>일지매</td>\n",
       "      <td>99</td>\n",
       "      <td>89</td>\n",
       "      <td>87</td>\n",
       "      <td>87</td>\n",
       "    </tr>\n",
       "    <tr>\n",
       "      <th>10</th>\n",
       "      <td>2</td>\n",
       "      <td>심청</td>\n",
       "      <td>98</td>\n",
       "      <td>45</td>\n",
       "      <td>56</td>\n",
       "      <td>54</td>\n",
       "    </tr>\n",
       "    <tr>\n",
       "      <th>11</th>\n",
       "      <td>2</td>\n",
       "      <td>콩쥐</td>\n",
       "      <td>65</td>\n",
       "      <td>89</td>\n",
       "      <td>87</td>\n",
       "      <td>78</td>\n",
       "    </tr>\n",
       "  </tbody>\n",
       "</table>\n",
       "</div>"
      ],
      "text/plain": [
       "    반   이름   국어  영어  수학  과학\n",
       "0   1  성춘향   67  87  90  98\n",
       "1   1  이몽룡   45  45  56  98\n",
       "2   1  향단이   95  59  96  88\n",
       "3   1   방자   65  94  89  98\n",
       "4   1   월매   45  65  78  98\n",
       "5   1  변학도   78  76  98  89\n",
       "6   2  홍길동   87  67  65  56\n",
       "7   2  임꺽정   89  98  78  78\n",
       "8   2  전우치  100  78  56  65\n",
       "9   2  일지매   99  89  87  87\n",
       "10  2   심청   98  45  56  54\n",
       "11  2   콩쥐   65  89  87  78"
      ]
     },
     "execution_count": 30,
     "metadata": {},
     "output_type": "execute_result"
    }
   ],
   "source": [
    "df"
   ]
  },
  {
   "cell_type": "code",
   "execution_count": 31,
   "metadata": {},
   "outputs": [],
   "source": [
    "subjects = ['국어', '영어', '수학', '과학']"
   ]
  },
  {
   "cell_type": "code",
   "execution_count": 34,
   "metadata": {},
   "outputs": [],
   "source": [
    "# 총점 colunm\n",
    "df['총점'] = df[subjects].sum(axis=1)\n",
    "# default axis = 0 (위에서 아래로 총점-국어총점/영어총점)\n",
    "# axis = 1은 (왼쪽에서 오른쪽으로 사람별)"
   ]
  },
  {
   "cell_type": "code",
   "execution_count": 35,
   "metadata": {},
   "outputs": [
    {
     "data": {
      "text/html": [
       "<div>\n",
       "<style scoped>\n",
       "    .dataframe tbody tr th:only-of-type {\n",
       "        vertical-align: middle;\n",
       "    }\n",
       "\n",
       "    .dataframe tbody tr th {\n",
       "        vertical-align: top;\n",
       "    }\n",
       "\n",
       "    .dataframe thead th {\n",
       "        text-align: right;\n",
       "    }\n",
       "</style>\n",
       "<table border=\"1\" class=\"dataframe\">\n",
       "  <thead>\n",
       "    <tr style=\"text-align: right;\">\n",
       "      <th></th>\n",
       "      <th>반</th>\n",
       "      <th>이름</th>\n",
       "      <th>국어</th>\n",
       "      <th>영어</th>\n",
       "      <th>수학</th>\n",
       "      <th>과학</th>\n",
       "      <th>총점</th>\n",
       "    </tr>\n",
       "  </thead>\n",
       "  <tbody>\n",
       "    <tr>\n",
       "      <th>0</th>\n",
       "      <td>1</td>\n",
       "      <td>성춘향</td>\n",
       "      <td>67</td>\n",
       "      <td>87</td>\n",
       "      <td>90</td>\n",
       "      <td>98</td>\n",
       "      <td>342</td>\n",
       "    </tr>\n",
       "    <tr>\n",
       "      <th>1</th>\n",
       "      <td>1</td>\n",
       "      <td>이몽룡</td>\n",
       "      <td>45</td>\n",
       "      <td>45</td>\n",
       "      <td>56</td>\n",
       "      <td>98</td>\n",
       "      <td>244</td>\n",
       "    </tr>\n",
       "    <tr>\n",
       "      <th>2</th>\n",
       "      <td>1</td>\n",
       "      <td>향단이</td>\n",
       "      <td>95</td>\n",
       "      <td>59</td>\n",
       "      <td>96</td>\n",
       "      <td>88</td>\n",
       "      <td>338</td>\n",
       "    </tr>\n",
       "    <tr>\n",
       "      <th>3</th>\n",
       "      <td>1</td>\n",
       "      <td>방자</td>\n",
       "      <td>65</td>\n",
       "      <td>94</td>\n",
       "      <td>89</td>\n",
       "      <td>98</td>\n",
       "      <td>346</td>\n",
       "    </tr>\n",
       "    <tr>\n",
       "      <th>4</th>\n",
       "      <td>1</td>\n",
       "      <td>월매</td>\n",
       "      <td>45</td>\n",
       "      <td>65</td>\n",
       "      <td>78</td>\n",
       "      <td>98</td>\n",
       "      <td>286</td>\n",
       "    </tr>\n",
       "    <tr>\n",
       "      <th>5</th>\n",
       "      <td>1</td>\n",
       "      <td>변학도</td>\n",
       "      <td>78</td>\n",
       "      <td>76</td>\n",
       "      <td>98</td>\n",
       "      <td>89</td>\n",
       "      <td>341</td>\n",
       "    </tr>\n",
       "    <tr>\n",
       "      <th>6</th>\n",
       "      <td>2</td>\n",
       "      <td>홍길동</td>\n",
       "      <td>87</td>\n",
       "      <td>67</td>\n",
       "      <td>65</td>\n",
       "      <td>56</td>\n",
       "      <td>275</td>\n",
       "    </tr>\n",
       "    <tr>\n",
       "      <th>7</th>\n",
       "      <td>2</td>\n",
       "      <td>임꺽정</td>\n",
       "      <td>89</td>\n",
       "      <td>98</td>\n",
       "      <td>78</td>\n",
       "      <td>78</td>\n",
       "      <td>343</td>\n",
       "    </tr>\n",
       "    <tr>\n",
       "      <th>8</th>\n",
       "      <td>2</td>\n",
       "      <td>전우치</td>\n",
       "      <td>100</td>\n",
       "      <td>78</td>\n",
       "      <td>56</td>\n",
       "      <td>65</td>\n",
       "      <td>299</td>\n",
       "    </tr>\n",
       "    <tr>\n",
       "      <th>9</th>\n",
       "      <td>2</td>\n",
       "      <td>일지매</td>\n",
       "      <td>99</td>\n",
       "      <td>89</td>\n",
       "      <td>87</td>\n",
       "      <td>87</td>\n",
       "      <td>362</td>\n",
       "    </tr>\n",
       "    <tr>\n",
       "      <th>10</th>\n",
       "      <td>2</td>\n",
       "      <td>심청</td>\n",
       "      <td>98</td>\n",
       "      <td>45</td>\n",
       "      <td>56</td>\n",
       "      <td>54</td>\n",
       "      <td>253</td>\n",
       "    </tr>\n",
       "    <tr>\n",
       "      <th>11</th>\n",
       "      <td>2</td>\n",
       "      <td>콩쥐</td>\n",
       "      <td>65</td>\n",
       "      <td>89</td>\n",
       "      <td>87</td>\n",
       "      <td>78</td>\n",
       "      <td>319</td>\n",
       "    </tr>\n",
       "  </tbody>\n",
       "</table>\n",
       "</div>"
      ],
      "text/plain": [
       "    반   이름   국어  영어  수학  과학   총점\n",
       "0   1  성춘향   67  87  90  98  342\n",
       "1   1  이몽룡   45  45  56  98  244\n",
       "2   1  향단이   95  59  96  88  338\n",
       "3   1   방자   65  94  89  98  346\n",
       "4   1   월매   45  65  78  98  286\n",
       "5   1  변학도   78  76  98  89  341\n",
       "6   2  홍길동   87  67  65  56  275\n",
       "7   2  임꺽정   89  98  78  78  343\n",
       "8   2  전우치  100  78  56  65  299\n",
       "9   2  일지매   99  89  87  87  362\n",
       "10  2   심청   98  45  56  54  253\n",
       "11  2   콩쥐   65  89  87  78  319"
      ]
     },
     "execution_count": 35,
     "metadata": {},
     "output_type": "execute_result"
    }
   ],
   "source": [
    "df"
   ]
  },
  {
   "cell_type": "code",
   "execution_count": 36,
   "metadata": {},
   "outputs": [],
   "source": [
    "df['평균'] = df['총점']/len(subjects)"
   ]
  },
  {
   "cell_type": "code",
   "execution_count": 37,
   "metadata": {},
   "outputs": [
    {
     "data": {
      "text/html": [
       "<div>\n",
       "<style scoped>\n",
       "    .dataframe tbody tr th:only-of-type {\n",
       "        vertical-align: middle;\n",
       "    }\n",
       "\n",
       "    .dataframe tbody tr th {\n",
       "        vertical-align: top;\n",
       "    }\n",
       "\n",
       "    .dataframe thead th {\n",
       "        text-align: right;\n",
       "    }\n",
       "</style>\n",
       "<table border=\"1\" class=\"dataframe\">\n",
       "  <thead>\n",
       "    <tr style=\"text-align: right;\">\n",
       "      <th></th>\n",
       "      <th>반</th>\n",
       "      <th>이름</th>\n",
       "      <th>국어</th>\n",
       "      <th>영어</th>\n",
       "      <th>수학</th>\n",
       "      <th>과학</th>\n",
       "      <th>총점</th>\n",
       "      <th>평균</th>\n",
       "    </tr>\n",
       "  </thead>\n",
       "  <tbody>\n",
       "    <tr>\n",
       "      <th>0</th>\n",
       "      <td>1</td>\n",
       "      <td>성춘향</td>\n",
       "      <td>67</td>\n",
       "      <td>87</td>\n",
       "      <td>90</td>\n",
       "      <td>98</td>\n",
       "      <td>342</td>\n",
       "      <td>85.50</td>\n",
       "    </tr>\n",
       "    <tr>\n",
       "      <th>1</th>\n",
       "      <td>1</td>\n",
       "      <td>이몽룡</td>\n",
       "      <td>45</td>\n",
       "      <td>45</td>\n",
       "      <td>56</td>\n",
       "      <td>98</td>\n",
       "      <td>244</td>\n",
       "      <td>61.00</td>\n",
       "    </tr>\n",
       "    <tr>\n",
       "      <th>2</th>\n",
       "      <td>1</td>\n",
       "      <td>향단이</td>\n",
       "      <td>95</td>\n",
       "      <td>59</td>\n",
       "      <td>96</td>\n",
       "      <td>88</td>\n",
       "      <td>338</td>\n",
       "      <td>84.50</td>\n",
       "    </tr>\n",
       "    <tr>\n",
       "      <th>3</th>\n",
       "      <td>1</td>\n",
       "      <td>방자</td>\n",
       "      <td>65</td>\n",
       "      <td>94</td>\n",
       "      <td>89</td>\n",
       "      <td>98</td>\n",
       "      <td>346</td>\n",
       "      <td>86.50</td>\n",
       "    </tr>\n",
       "    <tr>\n",
       "      <th>4</th>\n",
       "      <td>1</td>\n",
       "      <td>월매</td>\n",
       "      <td>45</td>\n",
       "      <td>65</td>\n",
       "      <td>78</td>\n",
       "      <td>98</td>\n",
       "      <td>286</td>\n",
       "      <td>71.50</td>\n",
       "    </tr>\n",
       "    <tr>\n",
       "      <th>5</th>\n",
       "      <td>1</td>\n",
       "      <td>변학도</td>\n",
       "      <td>78</td>\n",
       "      <td>76</td>\n",
       "      <td>98</td>\n",
       "      <td>89</td>\n",
       "      <td>341</td>\n",
       "      <td>85.25</td>\n",
       "    </tr>\n",
       "    <tr>\n",
       "      <th>6</th>\n",
       "      <td>2</td>\n",
       "      <td>홍길동</td>\n",
       "      <td>87</td>\n",
       "      <td>67</td>\n",
       "      <td>65</td>\n",
       "      <td>56</td>\n",
       "      <td>275</td>\n",
       "      <td>68.75</td>\n",
       "    </tr>\n",
       "    <tr>\n",
       "      <th>7</th>\n",
       "      <td>2</td>\n",
       "      <td>임꺽정</td>\n",
       "      <td>89</td>\n",
       "      <td>98</td>\n",
       "      <td>78</td>\n",
       "      <td>78</td>\n",
       "      <td>343</td>\n",
       "      <td>85.75</td>\n",
       "    </tr>\n",
       "    <tr>\n",
       "      <th>8</th>\n",
       "      <td>2</td>\n",
       "      <td>전우치</td>\n",
       "      <td>100</td>\n",
       "      <td>78</td>\n",
       "      <td>56</td>\n",
       "      <td>65</td>\n",
       "      <td>299</td>\n",
       "      <td>74.75</td>\n",
       "    </tr>\n",
       "    <tr>\n",
       "      <th>9</th>\n",
       "      <td>2</td>\n",
       "      <td>일지매</td>\n",
       "      <td>99</td>\n",
       "      <td>89</td>\n",
       "      <td>87</td>\n",
       "      <td>87</td>\n",
       "      <td>362</td>\n",
       "      <td>90.50</td>\n",
       "    </tr>\n",
       "    <tr>\n",
       "      <th>10</th>\n",
       "      <td>2</td>\n",
       "      <td>심청</td>\n",
       "      <td>98</td>\n",
       "      <td>45</td>\n",
       "      <td>56</td>\n",
       "      <td>54</td>\n",
       "      <td>253</td>\n",
       "      <td>63.25</td>\n",
       "    </tr>\n",
       "    <tr>\n",
       "      <th>11</th>\n",
       "      <td>2</td>\n",
       "      <td>콩쥐</td>\n",
       "      <td>65</td>\n",
       "      <td>89</td>\n",
       "      <td>87</td>\n",
       "      <td>78</td>\n",
       "      <td>319</td>\n",
       "      <td>79.75</td>\n",
       "    </tr>\n",
       "  </tbody>\n",
       "</table>\n",
       "</div>"
      ],
      "text/plain": [
       "    반   이름   국어  영어  수학  과학   총점     평균\n",
       "0   1  성춘향   67  87  90  98  342  85.50\n",
       "1   1  이몽룡   45  45  56  98  244  61.00\n",
       "2   1  향단이   95  59  96  88  338  84.50\n",
       "3   1   방자   65  94  89  98  346  86.50\n",
       "4   1   월매   45  65  78  98  286  71.50\n",
       "5   1  변학도   78  76  98  89  341  85.25\n",
       "6   2  홍길동   87  67  65  56  275  68.75\n",
       "7   2  임꺽정   89  98  78  78  343  85.75\n",
       "8   2  전우치  100  78  56  65  299  74.75\n",
       "9   2  일지매   99  89  87  87  362  90.50\n",
       "10  2   심청   98  45  56  54  253  63.25\n",
       "11  2   콩쥐   65  89  87  78  319  79.75"
      ]
     },
     "execution_count": 37,
     "metadata": {},
     "output_type": "execute_result"
    }
   ],
   "source": [
    "df"
   ]
  },
  {
   "cell_type": "code",
   "execution_count": 39,
   "metadata": {},
   "outputs": [],
   "source": [
    "import matplotlib\n",
    "matplotlib.rc('font', family = \"Malgun Gothic\") #msc = AplleGothic\n",
    "plt.rcParams['axes.unicode_minus'] = False"
   ]
  },
  {
   "cell_type": "code",
   "execution_count": 40,
   "metadata": {},
   "outputs": [
    {
     "data": {
      "text/plain": [
       "<matplotlib.axes._subplots.AxesSubplot at 0x18cec6fae88>"
      ]
     },
     "execution_count": 40,
     "metadata": {},
     "output_type": "execute_result"
    },
    {
     "data": {
      "image/png": "[encoded data removed]",
      "text/plain": [
       "<Figure size 576x288 with 1 Axes>"
      ]
     },
     "metadata": {
      "needs_background": "light"
     },
     "output_type": "display_data"
    }
   ],
   "source": [
    "sorted_df = df.sort_values(['평균'], ascending=[False])\n",
    "sorted_df.index = sorted_df['이름']\n",
    "sorted_df['평균'].plot(kind='bar', figsize=(8,4))"
   ]
  },
  {
   "cell_type": "code",
   "execution_count": 41,
   "metadata": {},
   "outputs": [],
   "source": [
    "# 통계 코드\n",
    "일반 = df[df['반']==1]"
   ]
  },
  {
   "cell_type": "code",
   "execution_count": 42,
   "metadata": {},
   "outputs": [],
   "source": [
    "이반 = df[df['반']==2]"
   ]
  },
  {
   "cell_type": "code",
   "execution_count": 43,
   "metadata": {},
   "outputs": [
    {
     "data": {
      "text/html": [
       "<div>\n",
       "<style scoped>\n",
       "    .dataframe tbody tr th:only-of-type {\n",
       "        vertical-align: middle;\n",
       "    }\n",
       "\n",
       "    .dataframe tbody tr th {\n",
       "        vertical-align: top;\n",
       "    }\n",
       "\n",
       "    .dataframe thead th {\n",
       "        text-align: right;\n",
       "    }\n",
       "</style>\n",
       "<table border=\"1\" class=\"dataframe\">\n",
       "  <thead>\n",
       "    <tr style=\"text-align: right;\">\n",
       "      <th></th>\n",
       "      <th>반</th>\n",
       "      <th>이름</th>\n",
       "      <th>국어</th>\n",
       "      <th>영어</th>\n",
       "      <th>수학</th>\n",
       "      <th>과학</th>\n",
       "      <th>총점</th>\n",
       "      <th>평균</th>\n",
       "    </tr>\n",
       "  </thead>\n",
       "  <tbody>\n",
       "    <tr>\n",
       "      <th>0</th>\n",
       "      <td>1</td>\n",
       "      <td>성춘향</td>\n",
       "      <td>67</td>\n",
       "      <td>87</td>\n",
       "      <td>90</td>\n",
       "      <td>98</td>\n",
       "      <td>342</td>\n",
       "      <td>85.50</td>\n",
       "    </tr>\n",
       "    <tr>\n",
       "      <th>1</th>\n",
       "      <td>1</td>\n",
       "      <td>이몽룡</td>\n",
       "      <td>45</td>\n",
       "      <td>45</td>\n",
       "      <td>56</td>\n",
       "      <td>98</td>\n",
       "      <td>244</td>\n",
       "      <td>61.00</td>\n",
       "    </tr>\n",
       "    <tr>\n",
       "      <th>2</th>\n",
       "      <td>1</td>\n",
       "      <td>향단이</td>\n",
       "      <td>95</td>\n",
       "      <td>59</td>\n",
       "      <td>96</td>\n",
       "      <td>88</td>\n",
       "      <td>338</td>\n",
       "      <td>84.50</td>\n",
       "    </tr>\n",
       "    <tr>\n",
       "      <th>3</th>\n",
       "      <td>1</td>\n",
       "      <td>방자</td>\n",
       "      <td>65</td>\n",
       "      <td>94</td>\n",
       "      <td>89</td>\n",
       "      <td>98</td>\n",
       "      <td>346</td>\n",
       "      <td>86.50</td>\n",
       "    </tr>\n",
       "    <tr>\n",
       "      <th>4</th>\n",
       "      <td>1</td>\n",
       "      <td>월매</td>\n",
       "      <td>45</td>\n",
       "      <td>65</td>\n",
       "      <td>78</td>\n",
       "      <td>98</td>\n",
       "      <td>286</td>\n",
       "      <td>71.50</td>\n",
       "    </tr>\n",
       "    <tr>\n",
       "      <th>5</th>\n",
       "      <td>1</td>\n",
       "      <td>변학도</td>\n",
       "      <td>78</td>\n",
       "      <td>76</td>\n",
       "      <td>98</td>\n",
       "      <td>89</td>\n",
       "      <td>341</td>\n",
       "      <td>85.25</td>\n",
       "    </tr>\n",
       "  </tbody>\n",
       "</table>\n",
       "</div>"
      ],
      "text/plain": [
       "   반   이름  국어  영어  수학  과학   총점     평균\n",
       "0  1  성춘향  67  87  90  98  342  85.50\n",
       "1  1  이몽룡  45  45  56  98  244  61.00\n",
       "2  1  향단이  95  59  96  88  338  84.50\n",
       "3  1   방자  65  94  89  98  346  86.50\n",
       "4  1   월매  45  65  78  98  286  71.50\n",
       "5  1  변학도  78  76  98  89  341  85.25"
      ]
     },
     "execution_count": 43,
     "metadata": {},
     "output_type": "execute_result"
    }
   ],
   "source": [
    "일반"
   ]
  },
  {
   "cell_type": "code",
   "execution_count": 44,
   "metadata": {},
   "outputs": [
    {
     "data": {
      "text/html": [
       "<div>\n",
       "<style scoped>\n",
       "    .dataframe tbody tr th:only-of-type {\n",
       "        vertical-align: middle;\n",
       "    }\n",
       "\n",
       "    .dataframe tbody tr th {\n",
       "        vertical-align: top;\n",
       "    }\n",
       "\n",
       "    .dataframe thead th {\n",
       "        text-align: right;\n",
       "    }\n",
       "</style>\n",
       "<table border=\"1\" class=\"dataframe\">\n",
       "  <thead>\n",
       "    <tr style=\"text-align: right;\">\n",
       "      <th></th>\n",
       "      <th>반</th>\n",
       "      <th>이름</th>\n",
       "      <th>국어</th>\n",
       "      <th>영어</th>\n",
       "      <th>수학</th>\n",
       "      <th>과학</th>\n",
       "      <th>총점</th>\n",
       "      <th>평균</th>\n",
       "    </tr>\n",
       "  </thead>\n",
       "  <tbody>\n",
       "    <tr>\n",
       "      <th>6</th>\n",
       "      <td>2</td>\n",
       "      <td>홍길동</td>\n",
       "      <td>87</td>\n",
       "      <td>67</td>\n",
       "      <td>65</td>\n",
       "      <td>56</td>\n",
       "      <td>275</td>\n",
       "      <td>68.75</td>\n",
       "    </tr>\n",
       "    <tr>\n",
       "      <th>7</th>\n",
       "      <td>2</td>\n",
       "      <td>임꺽정</td>\n",
       "      <td>89</td>\n",
       "      <td>98</td>\n",
       "      <td>78</td>\n",
       "      <td>78</td>\n",
       "      <td>343</td>\n",
       "      <td>85.75</td>\n",
       "    </tr>\n",
       "    <tr>\n",
       "      <th>8</th>\n",
       "      <td>2</td>\n",
       "      <td>전우치</td>\n",
       "      <td>100</td>\n",
       "      <td>78</td>\n",
       "      <td>56</td>\n",
       "      <td>65</td>\n",
       "      <td>299</td>\n",
       "      <td>74.75</td>\n",
       "    </tr>\n",
       "    <tr>\n",
       "      <th>9</th>\n",
       "      <td>2</td>\n",
       "      <td>일지매</td>\n",
       "      <td>99</td>\n",
       "      <td>89</td>\n",
       "      <td>87</td>\n",
       "      <td>87</td>\n",
       "      <td>362</td>\n",
       "      <td>90.50</td>\n",
       "    </tr>\n",
       "    <tr>\n",
       "      <th>10</th>\n",
       "      <td>2</td>\n",
       "      <td>심청</td>\n",
       "      <td>98</td>\n",
       "      <td>45</td>\n",
       "      <td>56</td>\n",
       "      <td>54</td>\n",
       "      <td>253</td>\n",
       "      <td>63.25</td>\n",
       "    </tr>\n",
       "    <tr>\n",
       "      <th>11</th>\n",
       "      <td>2</td>\n",
       "      <td>콩쥐</td>\n",
       "      <td>65</td>\n",
       "      <td>89</td>\n",
       "      <td>87</td>\n",
       "      <td>78</td>\n",
       "      <td>319</td>\n",
       "      <td>79.75</td>\n",
       "    </tr>\n",
       "  </tbody>\n",
       "</table>\n",
       "</div>"
      ],
      "text/plain": [
       "    반   이름   국어  영어  수학  과학   총점     평균\n",
       "6   2  홍길동   87  67  65  56  275  68.75\n",
       "7   2  임꺽정   89  98  78  78  343  85.75\n",
       "8   2  전우치  100  78  56  65  299  74.75\n",
       "9   2  일지매   99  89  87  87  362  90.50\n",
       "10  2   심청   98  45  56  54  253  63.25\n",
       "11  2   콩쥐   65  89  87  78  319  79.75"
      ]
     },
     "execution_count": 44,
     "metadata": {},
     "output_type": "execute_result"
    }
   ],
   "source": [
    "이반"
   ]
  },
  {
   "cell_type": "code",
   "execution_count": 48,
   "metadata": {},
   "outputs": [],
   "source": [
    "일반평균 = 일반['평균'].sum()/6"
   ]
  },
  {
   "cell_type": "code",
   "execution_count": 49,
   "metadata": {},
   "outputs": [],
   "source": [
    "이반평균 = 이반['평균'].sum()/6"
   ]
  },
  {
   "cell_type": "code",
   "execution_count": 50,
   "metadata": {},
   "outputs": [
    {
     "data": {
      "text/plain": [
       "(79.04166666666667, 77.125)"
      ]
     },
     "execution_count": 50,
     "metadata": {},
     "output_type": "execute_result"
    }
   ],
   "source": [
    "일반평균, 이반평균"
   ]
  },
  {
   "cell_type": "code",
   "execution_count": 51,
   "metadata": {},
   "outputs": [
    {
     "data": {
      "text/plain": [
       "Ttest_indResult(statistic=0.319960228209846, pvalue=0.755583336185639)"
      ]
     },
     "execution_count": 51,
     "metadata": {},
     "output_type": "execute_result"
    }
   ],
   "source": [
    "stats.ttest_ind(일반['평균'], 이반['평균'])\n",
    "# ttest로 다르다는 걸 증명하고 싶음\n",
    "# 기본적으로 두반은 거의 같음\n",
    "# independent 두개의 집단의 연관성? (1/2반이 나누어져 있으므로 ind)\n",
    "# pvalue: 기준 0.05/기준보다 작으면 다르다고 판단 가능\n",
    "# 영가설(상식)/대립가설(연구가설)"
   ]
  },
  {
   "cell_type": "code",
   "execution_count": 54,
   "metadata": {},
   "outputs": [
    {
     "name": "stdout",
     "output_type": "stream",
     "text": [
      "국어 Ttest_indResult(statistic=-2.490140665442242, pvalue=0.031982494983816424)\n",
      "영어 Ttest_indResult(statistic=-0.6156907152631581, pvalue=0.5518533781528807)\n",
      "수학 Ttest_indResult(statistic=1.4961318778859336, pvalue=0.1654958420079056)\n",
      "과학 Ttest_indResult(statistic=4.328442555331755, pvalue=0.0014931977711732465)\n"
     ]
    }
   ],
   "source": [
    "# 과목별로 차이가 있는지 확인\n",
    "for sub in subjects:\n",
    "    print(sub,stats.ttest_ind(일반[sub], 이반[sub]))"
   ]
  },
  {
   "cell_type": "code",
   "execution_count": 55,
   "metadata": {},
   "outputs": [
    {
     "data": {
      "text/plain": [
       "(94.83333333333333, 69.66666666666667)"
      ]
     },
     "execution_count": 55,
     "metadata": {},
     "output_type": "execute_result"
    }
   ],
   "source": [
    "일반['과학'].sum()/6, 이반['과학'].sum()/6"
   ]
  },
  {
   "cell_type": "code",
   "execution_count": 56,
   "metadata": {},
   "outputs": [
    {
     "data": {
      "text/plain": [
       "<matplotlib.axes._subplots.AxesSubplot at 0x18ced03f6c8>"
      ]
     },
     "execution_count": 56,
     "metadata": {},
     "output_type": "execute_result"
    },
    {
     "data": {
      "image/png": "[encoded data removed]",
      "text/plain": [
       "<Figure size 720x432 with 1 Axes>"
      ]
     },
     "metadata": {
      "needs_background": "light"
     },
     "output_type": "display_data"
    }
   ],
   "source": [
    "sorted_df[subjects].plot(kind='bar', figsize=(10,6))"
   ]
  },
  {
   "cell_type": "code",
   "execution_count": 57,
   "metadata": {},
   "outputs": [
    {
     "data": {
      "text/plain": [
       "<matplotlib.axes._subplots.AxesSubplot at 0x18ced1318c8>"
      ]
     },
     "execution_count": 57,
     "metadata": {},
     "output_type": "execute_result"
    },
    {
     "data": {
      "image/png": "[encoded data removed]",
      "text/plain": [
       "<Figure size 432x288 with 1 Axes>"
      ]
     },
     "metadata": {
      "needs_background": "light"
     },
     "output_type": "display_data"
    }
   ],
   "source": [
    "df[subjects].boxplot()"
   ]
  },
  {
   "cell_type": "code",
   "execution_count": 58,
   "metadata": {},
   "outputs": [
    {
     "data": {
      "text/plain": [
       "<matplotlib.axes._subplots.AxesSubplot at 0x18ced1ff1c8>"
      ]
     },
     "execution_count": 58,
     "metadata": {},
     "output_type": "execute_result"
    },
    {
     "data": {
      "image/png": "[encoded data removed]",
      "text/plain": [
       "<Figure size 432x288 with 1 Axes>"
      ]
     },
     "metadata": {
      "needs_background": "light"
     },
     "output_type": "display_data"
    }
   ],
   "source": [
    "일반[subjects].boxplot() #이과..?"
   ]
  },
  {
   "cell_type": "code",
   "execution_count": 59,
   "metadata": {},
   "outputs": [
    {
     "data": {
      "text/plain": [
       "<matplotlib.axes._subplots.AxesSubplot at 0x18ced5f7188>"
      ]
     },
     "execution_count": 59,
     "metadata": {},
     "output_type": "execute_result"
    },
    {
     "data": {
      "image/png": "[encoded data removed]",
      "text/plain": [
       "<Figure size 432x288 with 1 Axes>"
      ]
     },
     "metadata": {
      "needs_background": "light"
     },
     "output_type": "display_data"
    }
   ],
   "source": [
    "이반[subjects].boxplot() #문과..?"
   ]
  },
  {
   "cell_type": "code",
   "execution_count": 69,
   "metadata": {},
   "outputs": [],
   "source": [
    "#programmers\n",
    "def solution(arr, divisor):\n",
    "    answer = []\n",
    "    for i in  arr:\n",
    "        if i%divisor == 0:\n",
    "            answer.append(i)\n",
    "    if answer == []:\n",
    "        answer.append(-1)\n",
    "    print(answer)\n",
    "    answer.sort() #answer2 = answer.sort()는 어떨까요? answer2 = 소트 되기전 answer\n",
    "    return answer"
   ]
  },
  {
   "cell_type": "code",
   "execution_count": 70,
   "metadata": {},
   "outputs": [
    {
     "name": "stdout",
     "output_type": "stream",
     "text": [
      "[15, 5, 10]\n"
     ]
    },
    {
     "data": {
      "text/plain": [
       "[5, 10, 15]"
      ]
     },
     "execution_count": 70,
     "metadata": {},
     "output_type": "execute_result"
    }
   ],
   "source": [
    "solution([1,15, 5, 32, 6, 10], 5)"
   ]
  },
  {
   "cell_type": "code",
   "execution_count": 65,
   "metadata": {},
   "outputs": [],
   "source": [
    "def teacher_solution(arr, divisior):\n",
    "    answer=[]\n",
    "    for elem in arr:\n",
    "        if elem%divisor==0:\n",
    "            answer.append(elem)\n",
    "    # answer = [ n for n in arr if n%divisor==0]\n",
    "    # 한줄로 줄일 수 있음(위)\n",
    "    answer.sort() #original이 변함 #sorted는 안변함\n",
    "    if len(answer) == 0: #[]\n",
    "        answer =[-1]\n",
    "    return answer"
   ]
  },
  {
   "cell_type": "code",
   "execution_count": 66,
   "metadata": {},
   "outputs": [
    {
     "name": "stdout",
     "output_type": "stream",
     "text": [
      "[5, 9, 2, 8]\n",
      "[2, 5, 8, 9]\n"
     ]
    }
   ],
   "source": [
    "li = [5,9,2,8]\n",
    "li2 = sorted(li)\n",
    "print(li)\n",
    "print(li2) #자기 파괴적이지 않음\n",
    "#새로운 값을 반환"
   ]
  },
  {
   "cell_type": "code",
   "execution_count": 68,
   "metadata": {},
   "outputs": [
    {
     "name": "stdout",
     "output_type": "stream",
     "text": [
      "[5, 9, 2, 8]\n",
      "[2, 5, 8, 9]\n"
     ]
    }
   ],
   "source": [
    "li = [5,9,2,8]\n",
    "print(li)\n",
    "li.sort() #변함\n",
    "print(li)"
   ]
  },
  {
   "cell_type": "code",
   "execution_count": 71,
   "metadata": {},
   "outputs": [],
   "source": [
    "#한줄 답안\n",
    "def solution(arr, divisor): return sorted([n for n in arr if n%divisor == 0]) or [-1]"
   ]
  },
  {
   "cell_type": "code",
   "execution_count": 72,
   "metadata": {},
   "outputs": [
    {
     "data": {
      "text/plain": [
       "[5, 7, 9, 10]"
      ]
     },
     "execution_count": 72,
     "metadata": {},
     "output_type": "execute_result"
    }
   ],
   "source": [
    "lili = [5,9,7,10]\n",
    "lili.sort() #shift+tab으로도 확인해봅시다\n",
    "lili"
   ]
  },
  {
   "cell_type": "markdown",
   "metadata": {},
   "source": [
    "배열 array의 i번째 숫자부터 j번째 숫자까지 자르고 정렬했을 때, k번째에 있는 수를 구하려 합니다.\n",
    "\n",
    "> 예를 들어 array가 [1, 5, 2, 6, 3, 7, 4], i = 2, j = 5, k = 3이라면\n",
    "\n",
    "* array의 2번째부터 5번째까지 자르면 [5, 2, 6, 3]입니다.\n",
    "* 1에서 나온 배열을 정렬하면 [2, 3, 5, 6]입니다.\n",
    "* 2에서 나온 배열의 3번째 숫자는 5입니다.\n",
    "* 배열 array, [i, j, k]를 원소로 가진 2차원 배열 commands가 매개변수로 주어질 때, commands의 모든 원소에 대해 앞서 설명한 연산을 적용했을 때 나온 결과를 배열에 담아 return 하도록 solution 함수를 작성해주세요.\n",
    "\n",
    "제한사항\n",
    "* array의 길이는 1 이상 100 이하입니다.\n",
    "* array의 각 원소는 1 이상 100 이하입니다.\n",
    "* commands의 길이는 1 이상 50 이하입니다.\n",
    "* commands의 각 원소는 길이가 3입니다.\n",
    "\n",
    "|array|commands|return|\n",
    "|-|-|-|\n",
    "|[1, 5, 2, 6, 3, 7, 4]|[[2, 5, 3], [4, 4, 1], [1, 7, 3]]|[5, 6, 3]|"
   ]
  },
  {
   "cell_type": "code",
   "execution_count": 91,
   "metadata": {},
   "outputs": [],
   "source": [
    "#k번째 수\n",
    "def solution(array, commands):\n",
    "    answer = []\n",
    "    for n in commands:\n",
    "        i = n[0]\n",
    "        j = n[1]\n",
    "        k = n[2]\n",
    "        #print(i,j,k)\n",
    "        temp = array[i-1:j]\n",
    "        temp.sort()\n",
    "        print(temp)\n",
    "        answer.append(temp[k-1]) #index 주의\n",
    "    \n",
    "    return answer"
   ]
  },
  {
   "cell_type": "code",
   "execution_count": 92,
   "metadata": {},
   "outputs": [
    {
     "name": "stdout",
     "output_type": "stream",
     "text": [
      "[2, 3, 5, 6]\n",
      "[6]\n",
      "[1, 2, 3, 4, 5, 6, 7]\n"
     ]
    },
    {
     "data": {
      "text/plain": [
       "[5, 6, 3]"
      ]
     },
     "execution_count": 92,
     "metadata": {},
     "output_type": "execute_result"
    }
   ],
   "source": [
    "solution([1, 5, 2, 6, 3, 7, 4], [[2, 5, 3], [4, 4, 1], [1, 7, 3]])"
   ]
  },
  {
   "cell_type": "code",
   "execution_count": 93,
   "metadata": {},
   "outputs": [],
   "source": [
    "def solution(array, commands):\n",
    "    return list(map(lambda x:sorted(array[x[0]-1:x[1]])[x[2]-1], commands))"
   ]
  },
  {
   "cell_type": "code",
   "execution_count": 94,
   "metadata": {},
   "outputs": [],
   "source": [
    "def solution(array, commands):\n",
    "    answer = []\n",
    "    for command in commands:\n",
    "        i,j,k = command\n",
    "        answer.append(list(sorted(array[i-1:j]))[k-1])\n",
    "    return answer"
   ]
  },
  {
   "cell_type": "code",
   "execution_count": 95,
   "metadata": {},
   "outputs": [],
   "source": [
    "#continue 부분\n",
    "def solution(array, commands):\n",
    "    answer = []\n",
    "\n",
    "    for command in commands:\n",
    "        i = command[0]\n",
    "        j = command[1]\n",
    "        k = command[2]\n",
    "\n",
    "        if i == j:\n",
    "            answer.append(array[i-1])\n",
    "            continue\n",
    "\n",
    "        n = array[i-1:j]\n",
    "        n.sort()\n",
    "\n",
    "        result = n[k-1]\n",
    "        answer.append(result)\n",
    "\n",
    "    return answer"
   ]
  },
  {
   "cell_type": "code",
   "execution_count": null,
   "metadata": {},
   "outputs": [],
   "source": []
  }
 ],
 "metadata": {
  "kernelspec": {
   "display_name": "Python 3",
   "language": "python",
   "name": "python3"
  },
  "language_info": {
   "codemirror_mode": {
    "name": "ipython",
    "version": 3
   },
   "file_extension": ".py",
   "mimetype": "text/x-python",
   "name": "python",
   "nbconvert_exporter": "python",
   "pygments_lexer": "ipython3",
   "version": "3.7.4"
  }
 },
 "nbformat": 4,
 "nbformat_minor": 4
}
