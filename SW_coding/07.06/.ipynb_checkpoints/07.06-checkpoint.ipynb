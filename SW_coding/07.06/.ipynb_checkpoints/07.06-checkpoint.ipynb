{
 "cells": [
  {
   "cell_type": "code",
   "execution_count": 1,
   "metadata": {},
   "outputs": [],
   "source": [
    "#map(func, list(sequence))->return\n",
    "#filter(func, list(sequence))-> boolean\n",
    "def power(item):\n",
    "    return item*item\n"
   ]
  },
  {
   "cell_type": "code",
   "execution_count": 2,
   "metadata": {},
   "outputs": [],
   "source": [
    "arr = [1,2,3,4,5]"
   ]
  },
  {
   "cell_type": "code",
   "execution_count": 3,
   "metadata": {},
   "outputs": [],
   "source": [
    "output1 = map(power, arr) # arr의 요소들을 하나씩 제곱\n",
    "#lazy evaluation이라서 주소만 있음\n",
    "output1 = list(output1)"
   ]
  },
  {
   "cell_type": "code",
   "execution_count": 4,
   "metadata": {},
   "outputs": [
    {
     "data": {
      "text/plain": [
       "[1, 4, 9, 16, 25]"
      ]
     },
     "execution_count": 4,
     "metadata": {},
     "output_type": "execute_result"
    }
   ],
   "source": [
    "output1"
   ]
  },
  {
   "cell_type": "code",
   "execution_count": 5,
   "metadata": {},
   "outputs": [
    {
     "data": {
      "text/plain": [
       "[1, 4, 9, 16, 25]"
      ]
     },
     "execution_count": 5,
     "metadata": {},
     "output_type": "execute_result"
    }
   ],
   "source": [
    "#power을 lambda로 한줄 표현\n",
    "list(map(lambda i:i*i, arr))"
   ]
  },
  {
   "cell_type": "code",
   "execution_count": 6,
   "metadata": {},
   "outputs": [],
   "source": [
    "def under_3(item):\n",
    "    return item<3"
   ]
  },
  {
   "cell_type": "code",
   "execution_count": 8,
   "metadata": {},
   "outputs": [],
   "source": [
    "output2 = filter(under_3, arr) #arr을 under_3 함수를 사용하여 걸러낸다\n",
    "#laxy evaluation\n",
    "output2 = list(output2)"
   ]
  },
  {
   "cell_type": "code",
   "execution_count": 9,
   "metadata": {},
   "outputs": [
    {
     "data": {
      "text/plain": [
       "[1, 2]"
      ]
     },
     "execution_count": 9,
     "metadata": {},
     "output_type": "execute_result"
    }
   ],
   "source": [
    "output2"
   ]
  },
  {
   "cell_type": "code",
   "execution_count": 10,
   "metadata": {},
   "outputs": [
    {
     "data": {
      "text/plain": [
       "[1, 2]"
      ]
     },
     "execution_count": 10,
     "metadata": {},
     "output_type": "execute_result"
    }
   ],
   "source": [
    "list(filter(lambda i:i<3, arr))"
   ]
  },
  {
   "cell_type": "code",
   "execution_count": 11,
   "metadata": {},
   "outputs": [
    {
     "data": {
      "text/plain": [
       "[17, 35, 42, 38, 43, 37]"
      ]
     },
     "execution_count": 11,
     "metadata": {},
     "output_type": "execute_result"
    }
   ],
   "source": [
    "# reduce\n",
    "import random #random.py\n",
    "random.sample(range(1,45+1), 6)"
   ]
  },
  {
   "cell_type": "code",
   "execution_count": 12,
   "metadata": {},
   "outputs": [
    {
     "data": {
      "text/plain": [
       "[31, 6, 22, 28, 42, 9]"
      ]
     },
     "execution_count": 12,
     "metadata": {},
     "output_type": "execute_result"
    }
   ],
   "source": [
    "from random import sample\n",
    "sample(range(1,45+1), 6)"
   ]
  },
  {
   "cell_type": "code",
   "execution_count": 13,
   "metadata": {},
   "outputs": [
    {
     "name": "stdout",
     "output_type": "stream",
     "text": [
      "Variable   Type        Data/Info\n",
      "--------------------------------\n",
      "arr        list        n=5\n",
      "ouput2     filter      <filter object at 0x0000013D91D85348>\n",
      "output1    list        n=5\n",
      "output2    list        n=2\n",
      "power      function    <function power at 0x0000013D91D59708>\n",
      "random     module      <module 'random' from 'D:<...>aconda3\\\\lib\\\\random.py'>\n",
      "sample     method      <bound method Random.samp<...>t at 0x0000013D8F93A8B8>>\n",
      "under_3    function    <function under_3 at 0x0000013D91D599D8>\n"
     ]
    }
   ],
   "source": [
    "whos"
   ]
  },
  {
   "cell_type": "code",
   "execution_count": 14,
   "metadata": {},
   "outputs": [],
   "source": [
    "from functools import reduce "
   ]
  },
  {
   "cell_type": "code",
   "execution_count": 18,
   "metadata": {},
   "outputs": [],
   "source": [
    "#map/filter와는 다르게 reduce는 호출해야함"
   ]
  },
  {
   "cell_type": "code",
   "execution_count": 19,
   "metadata": {},
   "outputs": [
    {
     "name": "stdout",
     "output_type": "stream",
     "text": [
      "Variable   Type                          Data/Info\n",
      "--------------------------------------------------\n",
      "arr        list                          n=5\n",
      "ouput2     filter                        <filter object at 0x0000013D91D85348>\n",
      "output1    list                          n=5\n",
      "output2    list                          n=2\n",
      "power      function                      <function power at 0x0000013D91D59708>\n",
      "random     module                        <module 'random' from 'D:<...>aconda3\\\\lib\\\\random.py'>\n",
      "reduce     builtin_function_or_method    <built-in function reduce>\n",
      "sample     method                        <bound method Random.samp<...>t at 0x0000013D8F93A8B8>>\n",
      "under_3    function                      <function under_3 at 0x0000013D91D599D8>\n"
     ]
    }
   ],
   "source": [
    "whos"
   ]
  },
  {
   "cell_type": "code",
   "execution_count": 20,
   "metadata": {},
   "outputs": [],
   "source": [
    "arr = list(range(1,100+1))"
   ]
  },
  {
   "cell_type": "code",
   "execution_count": 21,
   "metadata": {},
   "outputs": [],
   "source": [
    "#reduce는 두개씩 처리함\n",
    "#합계를 구할 함수 정의\n",
    "def add(a,b):\n",
    "    return a+b"
   ]
  },
  {
   "cell_type": "code",
   "execution_count": 22,
   "metadata": {},
   "outputs": [],
   "source": [
    "sumnum = reduce(add, arr) #arr의 요소들을 모두 더함"
   ]
  },
  {
   "cell_type": "code",
   "execution_count": 24,
   "metadata": {},
   "outputs": [
    {
     "data": {
      "text/plain": [
       "5050"
      ]
     },
     "execution_count": 24,
     "metadata": {},
     "output_type": "execute_result"
    }
   ],
   "source": [
    "sumnum"
   ]
  },
  {
   "cell_type": "code",
   "execution_count": 25,
   "metadata": {},
   "outputs": [
    {
     "data": {
      "text/plain": [
       "5050"
      ]
     },
     "execution_count": 25,
     "metadata": {},
     "output_type": "execute_result"
    }
   ],
   "source": [
    "# reduce는 앞에서부터 차례로 함수에 적용\n",
    "# reduce(할일, 데이터)\n",
    "sumnum = reduce(lambda a,b:a+b, range(1,100+1))\n",
    "sumnum"
   ]
  },
  {
   "cell_type": "code",
   "execution_count": 27,
   "metadata": {},
   "outputs": [],
   "source": [
    "multi = reduce(lambda a,b:a*b, range(1,10+1))\n",
    "#1~10까지 곱하기\n",
    "#reduce(동사, 명사(목적어))"
   ]
  },
  {
   "cell_type": "code",
   "execution_count": 28,
   "metadata": {},
   "outputs": [
    {
     "data": {
      "text/plain": [
       "3628800"
      ]
     },
     "execution_count": 28,
     "metadata": {},
     "output_type": "execute_result"
    }
   ],
   "source": [
    "multi"
   ]
  },
  {
   "cell_type": "code",
   "execution_count": 30,
   "metadata": {},
   "outputs": [
    {
     "name": "stdout",
     "output_type": "stream",
     "text": [
      "['1', '2', '3']\n"
     ]
    }
   ],
   "source": [
    "s1 = \"123\"\n",
    "arr = list(s1) #['1', '2', '3']\n",
    "print(arr)"
   ]
  },
  {
   "cell_type": "code",
   "execution_count": 31,
   "metadata": {},
   "outputs": [
    {
     "name": "stdout",
     "output_type": "stream",
     "text": [
      "[1, 2, 3]\n"
     ]
    }
   ],
   "source": [
    "arr2 = map(int, arr) #int로 바꿔줌\n",
    "print(list(arr2)) #list로 한번 둘러싸야함"
   ]
  },
  {
   "cell_type": "code",
   "execution_count": 32,
   "metadata": {},
   "outputs": [
    {
     "name": "stdout",
     "output_type": "stream",
     "text": [
      "[1, 2, 3]\n"
     ]
    }
   ],
   "source": [
    "#same\n",
    "emp=[]\n",
    "for s in arr:\n",
    "    emp.append(int(s)) #int('1')\n",
    "print(emp)"
   ]
  },
  {
   "cell_type": "code",
   "execution_count": 33,
   "metadata": {},
   "outputs": [
    {
     "name": "stdout",
     "output_type": "stream",
     "text": [
      "['1', '2', '3']\n"
     ]
    }
   ],
   "source": [
    "arr = [1,2,3] #원하는 결과 = ['1', '2', '3']\n",
    "#list안의 요소를 string으로\n",
    "arr2 = map(str, arr)\n",
    "print(list(arr2))"
   ]
  },
  {
   "cell_type": "code",
   "execution_count": 34,
   "metadata": {},
   "outputs": [
    {
     "name": "stdout",
     "output_type": "stream",
     "text": [
      "[1, 2, 3]\n"
     ]
    }
   ],
   "source": [
    "#string ['1', '2', '3']을 int [1, 2, 3]으로\n",
    "arr = ['1', '2', '3']\n",
    "arr2 = map(int, arr)\n",
    "print(list(arr2)) "
   ]
  },
  {
   "cell_type": "code",
   "execution_count": 35,
   "metadata": {},
   "outputs": [],
   "source": [
    "# 파일 처리\n",
    "#open()\n",
    "#file object = open(strinf:file directory, string:read mode)\n",
    "#w mode 새로쓰기\n",
    "#a mode 더하기\n",
    "#r mode 읽기\n",
    "#close() 자원을 닫는다.->왜? 자원해제할 떄 애러의 순간 3가지\n",
    "#1. 파일 입출력\n",
    "#2. 네트워크(e.g. 채팅)\n",
    "#3. 데이터베이스\n",
    "#file_object.close()\n",
    "#closed()는 닫혔는지 확인"
   ]
  },
  {
   "cell_type": "code",
   "execution_count": 39,
   "metadata": {},
   "outputs": [],
   "source": [
    "file = open(\"basic.txt\", \"w\") #ipynb이랑 같은 위치에\n",
    "file.write(\"Hello Python Programming!\")\n",
    "file.close()"
   ]
  },
  {
   "cell_type": "code",
   "execution_count": 37,
   "metadata": {},
   "outputs": [],
   "source": [
    "# with\n",
    "#자동으로 close가 됨\n",
    "# with open(string:경로, string:mode) as file_name:\n",
    "#     문장\n",
    "with open(\"test.txt\", \"w\") as file:\n",
    "    file.write(\"Hi Python Programming!\")\n",
    "    #file.close()를 생략가능!"
   ]
  },
  {
   "cell_type": "code",
   "execution_count": 40,
   "metadata": {},
   "outputs": [
    {
     "name": "stdout",
     "output_type": "stream",
     "text": [
      "Hello Python Programming!\n"
     ]
    }
   ],
   "source": [
    "# 파일 읽기\n",
    "with open(\"basic.txt\", \"r\") as file: #read\n",
    "    contents = file.read()\n",
    "    #close 생략\n",
    "print(contents) #HelloWorld"
   ]
  },
  {
   "cell_type": "code",
   "execution_count": 51,
   "metadata": {},
   "outputs": [],
   "source": [
    "# -*- coding: utf-8 -*-\n",
    "# UTF-8 encoding when using korean\n",
    "#한줄씩 읽기\n",
    "#cSV, XML, JSON\n",
    "#랜덤하게 1000명의 키와 몸무게 만들기\n",
    "import random\n",
    "last_names = list(\"김이박최홍성강서신안\")\n",
    "first_names = [\"길동\", \"꺽정\", \"지매\", \"철수\", \"영희\"]\n",
    "\n",
    "\n",
    "with open(\"info.txt\", \"w\", encoding='utf8') as file: #encoding 추가\n",
    "    \n",
    "    for i in range(1000):\n",
    "        name = random.choice(last_names) + random.choice(first_names)\n",
    "        weight = random.randrange(40,100) #shit+tap으로 설명 보기!\n",
    "        height = random.randrange(140, 200)\n",
    "        file.write(\"{},{},{}\\n\".format(name, weight, height)) #csv는 쉼표로 구분\n",
    "        "
   ]
  },
  {
   "cell_type": "code",
   "execution_count": null,
   "metadata": {},
   "outputs": [],
   "source": [
    "#키와 몸무게로 비만도 계산\n",
    "#join으로\n",
    "with open(\"info.txt\", \"r\") as file:\n",
    "    for line in file:\n",
    "        name, weight, height = line.split(\",\")\n",
    "        #키를 m로\n",
    "        m_height = int(height)/100\n",
    "        bmi = int(weight)/(m_height*m_height)\n",
    "        result = \"\"\n",
    "        if 25<= bmi:\n",
    "            result = \"과체중\"\n",
    "        elif 18.5<= bmi:\n",
    "            result = \"정상체중\"\n",
    "        else:\n",
    "            result = \"저체중\"\n",
    "        print('\\n'.join([\"이름:{}, 몸무게:{}, 키:{},BMI:{}, 결과:{}\".format(name, weight, height, bmi, result)]))\n",
    "        "
   ]
  },
  {
   "cell_type": "code",
   "execution_count": 47,
   "metadata": {},
   "outputs": [],
   "source": [
    "# -*- coding: utf-8 -*-"
   ]
  },
  {
   "cell_type": "code",
   "execution_count": 52,
   "metadata": {},
   "outputs": [
    {
     "name": "stdin",
     "output_type": "stream",
     "text": [
      " asdfg\n"
     ]
    },
    {
     "name": "stdout",
     "output_type": "stream",
     "text": [
      "agsfd\n"
     ]
    }
   ],
   "source": [
    "user_input = input()\n",
    "alist = list(user_input)\n",
    "res=[]\n",
    "for i in range(len(alist)):\n",
    "\tif i%2==1:\n",
    "\t\tres.append(alist.pop(-1))\n",
    "\telse:\n",
    "\t\tres.append(alist.pop(0))\n",
    "res = \"\".join(res)\n",
    "print(res)\n"
   ]
  },
  {
   "cell_type": "code",
   "execution_count": 53,
   "metadata": {},
   "outputs": [
    {
     "name": "stdout",
     "output_type": "stream",
     "text": [
      "[]\n"
     ]
    }
   ],
   "source": [
    "print(alist)"
   ]
  },
  {
   "cell_type": "code",
   "execution_count": 54,
   "metadata": {},
   "outputs": [
    {
     "name": "stdin",
     "output_type": "stream",
     "text": [
      " asdfg\n"
     ]
    },
    {
     "name": "stdout",
     "output_type": "stream",
     "text": [
      "agsfd\n"
     ]
    }
   ],
   "source": [
    "#아예 문자열을 뒤집어도 됨\n",
    "s1 = input()\n",
    "arr1 = list(s1)\n",
    "arr2 = list(reversed(s1))\n",
    "\n",
    "length = len(s1) \n",
    "size = length//2\n",
    "result = \"\"\n",
    "for i in range(size+1):\n",
    "    result += arr1[i] + arr2[i]\n",
    "print(result[:length])"
   ]
  },
  {
   "cell_type": "code",
   "execution_count": 59,
   "metadata": {},
   "outputs": [],
   "source": [
    "# beautifulsoup\n",
    "# 로또 당첨번호 확인하기\n",
    "#스크래핑 한페이지/크롤링 여러페이지\n",
    "#url: https://dhlottery.co.kr/gameResult.do?method=byWin\n",
    "from bs4 import BeautifulSoup #version 4\n",
    "# D:\\Installation\\Anaconda3\\Lib\\site-packages\\bs4\n",
    "import urllib.request\n",
    "url = \"https://dhlottery.co.kr/gameResult.do?method=byWin\"\n",
    "html = urllib.request.urlopen(url)\n",
    "soup = BeautifulSoup(html, \"lxml\") #OOB 대문자로 시작-> 생성자\n",
    "#anaconda가 아니면 \"html.parser\"\n",
    "#soup\n",
    "#1. 회\n",
    "#2. 당첨번호\n",
    "#3. 보너스\n",
    "#chrome 오른쪽 마우스 검사 선택자ㅏ\n",
    "#html -> id/class/tag\n",
    "# id 한개만 존재(front engineer)\n",
    "#class 여러개(web designer)\n",
    "#tag"
   ]
  },
  {
   "cell_type": "code",
   "execution_count": 64,
   "metadata": {},
   "outputs": [
    {
     "name": "stdout",
     "output_type": "stream",
     "text": [
      "<strong>918회</strong>\n",
      "918회\n"
     ]
    }
   ],
   "source": [
    "hoi = soup.select_one(\".win_result h4 strong\") #div생략 가능\n",
    "print(hoi)\n",
    "print(hoi.string)"
   ]
  },
  {
   "cell_type": "code",
   "execution_count": 65,
   "metadata": {},
   "outputs": [
    {
     "data": {
      "text/plain": [
       "[<span class=\"ball_645 lrg ball1\">7</span>,\n",
       " <span class=\"ball_645 lrg ball2\">11</span>,\n",
       " <span class=\"ball_645 lrg ball2\">12</span>,\n",
       " <span class=\"ball_645 lrg ball4\">31</span>,\n",
       " <span class=\"ball_645 lrg ball4\">33</span>,\n",
       " <span class=\"ball_645 lrg ball4\">38</span>]"
      ]
     },
     "execution_count": 65,
     "metadata": {},
     "output_type": "execute_result"
    }
   ],
   "source": [
    "spans = soup.select(\"div.num.win span\") #<div class=\"num win\" ...\n",
    "spans"
   ]
  },
  {
   "cell_type": "code",
   "execution_count": 66,
   "metadata": {},
   "outputs": [],
   "source": [
    "lottos = [int(span.string) for span in spans]"
   ]
  },
  {
   "cell_type": "code",
   "execution_count": 67,
   "metadata": {},
   "outputs": [
    {
     "data": {
      "text/plain": [
       "[7, 11, 12, 31, 33, 38]"
      ]
     },
     "execution_count": 67,
     "metadata": {},
     "output_type": "execute_result"
    }
   ],
   "source": [
    "lottos"
   ]
  },
  {
   "cell_type": "code",
   "execution_count": 70,
   "metadata": {},
   "outputs": [],
   "source": [
    "lottos2 = [span.string for span in spans]"
   ]
  },
  {
   "cell_type": "code",
   "execution_count": 72,
   "metadata": {},
   "outputs": [
    {
     "name": "stdout",
     "output_type": "stream",
     "text": [
      "7 11 12 31 33 38\n"
     ]
    }
   ],
   "source": [
    "print(\" \".join(lottos2))"
   ]
  },
  {
   "cell_type": "code",
   "execution_count": 74,
   "metadata": {},
   "outputs": [
    {
     "name": "stdout",
     "output_type": "stream",
     "text": [
      "bonus= 5\n"
     ]
    }
   ],
   "source": [
    "# <div class=\"num bonus\" ...\n",
    "bonus_span = soup.select_one(\"div.num.bonus span\")\n",
    "#print(bonus_span)\n",
    "print(\"bonus=\", bonus_span.string)"
   ]
  },
  {
   "cell_type": "code",
   "execution_count": 75,
   "metadata": {},
   "outputs": [],
   "source": [
    "#css selecter #아이이 .클래스"
   ]
  },
  {
   "cell_type": "code",
   "execution_count": 1,
   "metadata": {},
   "outputs": [],
   "source": [
    "#generator: yeild\n",
    "#range\n",
    "#메모리 효율\n",
    "def test():\n",
    "    print(\"A\")\n",
    "    yield 1\n",
    "    print(\"B\")\n",
    "    yield 2\n",
    "    print(\"C\")"
   ]
  },
  {
   "cell_type": "code",
   "execution_count": 2,
   "metadata": {},
   "outputs": [],
   "source": [
    "output = test()"
   ]
  },
  {
   "cell_type": "code",
   "execution_count": 3,
   "metadata": {},
   "outputs": [
    {
     "data": {
      "text/plain": [
       "<generator object test at 0x0000018CD8384248>"
      ]
     },
     "execution_count": 3,
     "metadata": {},
     "output_type": "execute_result"
    }
   ],
   "source": [
    "output"
   ]
  },
  {
   "cell_type": "code",
   "execution_count": 4,
   "metadata": {},
   "outputs": [
    {
     "name": "stdout",
     "output_type": "stream",
     "text": [
      "DDD\n",
      "A\n",
      "1\n"
     ]
    }
   ],
   "source": [
    "print(\"DDD\")\n",
    "a = next(output)\n",
    "print(a)"
   ]
  },
  {
   "cell_type": "code",
   "execution_count": 5,
   "metadata": {},
   "outputs": [
    {
     "name": "stdout",
     "output_type": "stream",
     "text": [
      "EE\n",
      "B\n",
      "2\n"
     ]
    }
   ],
   "source": [
    "print(\"EE\")\n",
    "b = next(output)\n",
    "print(b)"
   ]
  },
  {
   "cell_type": "code",
   "execution_count": 7,
   "metadata": {},
   "outputs": [
    {
     "name": "stdout",
     "output_type": "stream",
     "text": [
      "FFF\n"
     ]
    },
    {
     "ename": "StopIteration",
     "evalue": "",
     "output_type": "error",
     "traceback": [
      "\u001b[1;31m---------------------------------------------------------------------------\u001b[0m",
      "\u001b[1;31mStopIteration\u001b[0m                             Traceback (most recent call last)",
      "\u001b[1;32m<ipython-input-7-e6c3117620d9>\u001b[0m in \u001b[0;36m<module>\u001b[1;34m\u001b[0m\n\u001b[0;32m      1\u001b[0m \u001b[0mprint\u001b[0m\u001b[1;33m(\u001b[0m\u001b[1;34m\"FFF\"\u001b[0m\u001b[1;33m)\u001b[0m\u001b[1;33m\u001b[0m\u001b[1;33m\u001b[0m\u001b[0m\n\u001b[1;32m----> 2\u001b[1;33m \u001b[0mc\u001b[0m \u001b[1;33m=\u001b[0m \u001b[0mnext\u001b[0m\u001b[1;33m(\u001b[0m\u001b[0moutput\u001b[0m\u001b[1;33m)\u001b[0m \u001b[1;31m# StopIteration #return이 없기 때문에 error\u001b[0m\u001b[1;33m\u001b[0m\u001b[1;33m\u001b[0m\u001b[0m\n\u001b[0m\u001b[0;32m      3\u001b[0m \u001b[0mprint\u001b[0m\u001b[1;33m(\u001b[0m\u001b[0mc\u001b[0m\u001b[1;33m)\u001b[0m\u001b[1;33m\u001b[0m\u001b[1;33m\u001b[0m\u001b[0m\n",
      "\u001b[1;31mStopIteration\u001b[0m: "
     ]
    }
   ],
   "source": [
    "print(\"FFF\")\n",
    "c = next(output) # StopIteration #return이 없기 때문에 error\n",
    "print(c) \n",
    "# 블록 잡고 ctrl+/ 주석"
   ]
  },
  {
   "cell_type": "code",
   "execution_count": 12,
   "metadata": {},
   "outputs": [
    {
     "name": "stdin",
     "output_type": "stream",
     "text": [
      "정수를 입력하세요:  kdl\n"
     ]
    },
    {
     "name": "stdout",
     "output_type": "stream",
     "text": [
      "정수를 입력하세요!\n"
     ]
    }
   ],
   "source": [
    "#error와 예외\n",
    "# 오류는 1. 구문오류, 2. 런타임 오류/예외(프로그램 실행중)\n",
    "# 예외 처리 try 개발자가 처할 수 있는 여러 상황, 방어운전, 에러에 대비하는 코드를 작성\n",
    "\n",
    "#if문을 이용한 예외처리 케이스\n",
    "user_input_a = input(\"정수를 입력하세요: \")\n",
    "if user_input_a.isdigit():\n",
    "    number_input_a = int(user_input_a)\n",
    "    print(\"원의 반지름 = \", number_input_a)\n",
    "    print(\"원의 둘레 = \", 2*3.14*number_input_a)\n",
    "    print(\"원의 넓이 = \", 3.14*number_input_a*number_input_a)\n",
    "else:\n",
    "    print(\"정수를 입력하세요!\")"
   ]
  },
  {
   "cell_type": "code",
   "execution_count": 15,
   "metadata": {},
   "outputs": [
    {
     "name": "stdin",
     "output_type": "stream",
     "text": [
      "정수 입력 ㅈㄱ\n"
     ]
    },
    {
     "name": "stdout",
     "output_type": "stream",
     "text": [
      "예외 발생\n"
     ]
    }
   ],
   "source": [
    "# try/except\n",
    "try:\n",
    "    number_input_a = int(input(\"정수 입력\"))\n",
    "    \n",
    "    print(\"원의 반지름 = \", number_input_a)\n",
    "    print(\"원의 둘레 = \", 2*3.14*number_input_a)\n",
    "    print(\"원의 넓이 = \", 3.14*number_input_a*number_input_a)\n",
    "except:\n",
    "    print(\"예외 발생\")"
   ]
  },
  {
   "cell_type": "code",
   "execution_count": 18,
   "metadata": {},
   "outputs": [
    {
     "name": "stdout",
     "output_type": "stream",
     "text": [
      "['52', '273', '32', 'spy', '10']\n",
      "['52', '273', '32', '10']\n"
     ]
    }
   ],
   "source": [
    "# except + pass\n",
    "# 프로그램을 멈추게 하지 않고 계속 작동하게 할 수 있도록\n",
    "list_input_a = [\"52\", \"273\", \"32\", \"spy\", \"10\"]\n",
    "list_number = []\n",
    "for i in list_input_a:\n",
    "    try:\n",
    "        float(i)\n",
    "        list_number.append(i)\n",
    "    except:\n",
    "        pass\n",
    "\n",
    "print(list_input_a)\n",
    "print(list_number)"
   ]
  },
  {
   "cell_type": "code",
   "execution_count": 20,
   "metadata": {},
   "outputs": [
    {
     "name": "stdin",
     "output_type": "stream",
     "text": [
      "정수 입력:  hello\n"
     ]
    },
    {
     "name": "stdout",
     "output_type": "stream",
     "text": [
      "정수를 입력하셔야 합니다.\n"
     ]
    }
   ],
   "source": [
    "# 예외 발생/안발생\n",
    "# try/except/else\n",
    "try:\n",
    "    number_input_a = int(input(\"정수 입력: \"))\n",
    "except:\n",
    "    print(\"정수를 입력하셔야 합니다.\")\n",
    "    # 예외 발생\n",
    "else:\n",
    "    print(\"원의 반지름 = \", number_input_a)\n",
    "    print(\"원의 둘레 = \", 2*3.14*number_input_a)\n",
    "    print(\"원의 넓이 = \", 3.14*number_input_a*number_input_a)\n",
    "    #예외 발생 안함"
   ]
  },
  {
   "cell_type": "code",
   "execution_count": 21,
   "metadata": {},
   "outputs": [],
   "source": [
    "# finally\n",
    "#try: 예외 발생할 가능성 있는 code\n",
    "#except: 예외 발생\n",
    "#else: 예외 발생 안함\n",
    "#finally: 무조건 실행 -> close를 써주면 리소스 관리가 된다"
   ]
  },
  {
   "cell_type": "code",
   "execution_count": 23,
   "metadata": {},
   "outputs": [
    {
     "name": "stdout",
     "output_type": "stream",
     "text": [
      "division by zero\n",
      "file.closed:  True\n"
     ]
    }
   ],
   "source": [
    "# finally에서 close 하기\n",
    "file = open(\"info2.txt\", \"w\")\n",
    "try:\n",
    "    file.write(\"hi world\")\n",
    "    #1/0 예외발생\n",
    "except Exception as e:\n",
    "    # Exception 모든 예외의 상위 개념\n",
    "    print(e) #division by zero(예외 발생을 출력해줌)\n",
    "finally:\n",
    "    file.close() #여기서 클로즈 해주는게 정석\n",
    "print(\"file.closed: \", file.closed)"
   ]
  },
  {
   "cell_type": "code",
   "execution_count": null,
   "metadata": {},
   "outputs": [],
   "source": []
  }
 ],
 "metadata": {
  "kernelspec": {
   "display_name": "Python 3",
   "language": "python",
   "name": "python3"
  },
  "language_info": {
   "codemirror_mode": {
    "name": "ipython",
    "version": 3
   },
   "file_extension": ".py",
   "mimetype": "text/x-python",
   "name": "python",
   "nbconvert_exporter": "python",
   "pygments_lexer": "ipython3",
   "version": "3.7.4"
  }
 },
 "nbformat": 4,
 "nbformat_minor": 4
}
