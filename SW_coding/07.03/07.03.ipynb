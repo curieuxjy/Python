{
 "cells": [
  {
   "cell_type": "code",
   "execution_count": 7,
   "metadata": {},
   "outputs": [
    {
     "name": "stdin",
     "output_type": "stream",
     "text": [
      "처음 숫자 5\n",
      "끝 숫자 15\n"
     ]
    },
    {
     "name": "stdout",
     "output_type": "stream",
     "text": [
      "[5, 6, 7, 8, 9, 10, 11, 12, 13, 14, 15]\n",
      "110\n",
      "110\n"
     ]
    }
   ],
   "source": [
    "# mission\n",
    "# 처음 숫자부터 끝 숫자까지의 합계를 출력하는 프로그램\n",
    "# 사용자로부터 숫자 2개를 입력 받는다\n",
    "start = int(input(\"처음 숫자\"))\n",
    "end = int(input(\"끝 숫자\"))\n",
    "alist = [x for x in range(start, end+1)]\n",
    "print(alist)\n",
    "sumnum = sum(alist)\n",
    "print(sumnum)\n",
    "#-------method2-------\n",
    "hap = 0\n",
    "for i in range(start, end+1):\n",
    "    hap += i\n",
    "print(hap)"
   ]
  },
  {
   "cell_type": "code",
   "execution_count": null,
   "metadata": {},
   "outputs": [],
   "source": [
    "#programmers #다른사람 문제풀이를 볼 수 있음\n",
    "def sumDivisor(num):\n",
    "    # num / 2 의 수들만 검사하면 성능 약 2배 향상잼\n",
    "    return num + sum([i for i in range(1, (num // 2) + 1) if num % i == 0])\n",
    "#--------------------------------------------------------------------------\n",
    "def sumDivisor(num):\n",
    "    return sum([i for i in range(1,num+1) if num%i==0])\n",
    "\n",
    "# 아래는 테스트로 출력해 보기 위한 코드입니다.\n",
    "print(sumDivisor(12))\n",
    "#--------------------------------------------------------------------------\n",
    "def sumDivisor(num):\n",
    "    return sum(filter(lambda x: num % x == 0, range(1, num + 1)))\n",
    "\n",
    "# 아래는 테스트로 출력해 보기 위한 코드입니다.\n",
    "print(sumDivisor(12))\n",
    "#---------------------------------------------------------------------------\n",
    "from math import sqrt\n",
    "\n",
    "def sumDivisor(num):\n",
    "    answer = 0\n",
    "    for d in range(1, int(sqrt(num))+1):\n",
    "        if num%d == 0:\n",
    "            answer += d\n",
    "            answer += int(num/d)\n",
    "\n",
    "    return answer\n",
    "\n",
    "# 아래는 테스트로 출력해 보기 위한 코드입니다.\n",
    "print(sumDivisor(12))"
   ]
  },
  {
   "cell_type": "code",
   "execution_count": 8,
   "metadata": {},
   "outputs": [
    {
     "name": "stdout",
     "output_type": "stream",
     "text": [
      "0\n",
      "1\n",
      "2\n",
      "3\n",
      "4\n"
     ]
    }
   ],
   "source": [
    "for i in range(5): #0~4\n",
    "    print(i)"
   ]
  },
  {
   "cell_type": "code",
   "execution_count": 9,
   "metadata": {},
   "outputs": [
    {
     "name": "stdout",
     "output_type": "stream",
     "text": [
      "5\n",
      "6\n",
      "7\n",
      "8\n",
      "9\n"
     ]
    }
   ],
   "source": [
    "for i in range(5, 10): #5~9\n",
    "    print(i)"
   ]
  },
  {
   "cell_type": "code",
   "execution_count": 10,
   "metadata": {},
   "outputs": [
    {
     "name": "stdout",
     "output_type": "stream",
     "text": [
      "0\n",
      "3\n",
      "6\n",
      "9\n"
     ]
    }
   ],
   "source": [
    "for i in range(0, 10, 3): #0, 3, 6, 9\n",
    "    print(i)"
   ]
  },
  {
   "cell_type": "code",
   "execution_count": 11,
   "metadata": {},
   "outputs": [],
   "source": [
    "arr = [273,32,103,57,52]"
   ]
  },
  {
   "cell_type": "code",
   "execution_count": 12,
   "metadata": {},
   "outputs": [
    {
     "name": "stdout",
     "output_type": "stream",
     "text": [
      "273\n",
      "32\n",
      "103\n",
      "57\n",
      "52\n"
     ]
    }
   ],
   "source": [
    "for elem in arr:\n",
    "    print(elem)"
   ]
  },
  {
   "cell_type": "code",
   "execution_count": 13,
   "metadata": {},
   "outputs": [
    {
     "name": "stdout",
     "output_type": "stream",
     "text": [
      "0번째 값:273\n",
      "1번째 값:32\n",
      "2번째 값:103\n",
      "3번째 값:57\n",
      "4번째 값:52\n"
     ]
    }
   ],
   "source": [
    "for i in range(len(arr)): #0~4\n",
    "    print(\"{}번째 값:{}\".format(i, arr[i]))\n",
    "    "
   ]
  },
  {
   "cell_type": "code",
   "execution_count": 15,
   "metadata": {},
   "outputs": [
    {
     "name": "stdout",
     "output_type": "stream",
     "text": [
      "현재 반복 변수:4\n",
      "현재 반복 변수:3\n",
      "현재 반복 변수:2\n",
      "현재 반복 변수:1\n",
      "현재 반복 변수:0\n"
     ]
    }
   ],
   "source": [
    "#역 반복문 - 내림차순\n",
    "for i in range(4, 0-1, -1):\n",
    "    print(\"현재 반복 변수:{}\".format(i, arr[i]))"
   ]
  },
  {
   "cell_type": "code",
   "execution_count": 16,
   "metadata": {},
   "outputs": [
    {
     "data": {
      "text/plain": [
       "[4, 3, 2, 1, 0]"
      ]
     },
     "execution_count": 16,
     "metadata": {},
     "output_type": "execute_result"
    }
   ],
   "source": [
    "#reversed() 함수 - 늦은 실행\n",
    "list(reversed(range(5)))"
   ]
  },
  {
   "cell_type": "code",
   "execution_count": 17,
   "metadata": {},
   "outputs": [
    {
     "name": "stdout",
     "output_type": "stream",
     "text": [
      "4\n",
      "3\n",
      "2\n",
      "1\n",
      "0\n"
     ]
    }
   ],
   "source": [
    "for i in reversed(range(5)):\n",
    "    print(i)"
   ]
  },
  {
   "cell_type": "code",
   "execution_count": 19,
   "metadata": {},
   "outputs": [
    {
     "data": {
      "text/plain": [
       "1593738244.3736618"
      ]
     },
     "execution_count": 19,
     "metadata": {},
     "output_type": "execute_result"
    }
   ],
   "source": [
    "# while True: 무한 루프\n",
    "# while을 for처럼 사용 가능\n",
    "import time\n",
    "time.time() \n",
    "#1970년 1월 1일 0시0분0초(컴퓨터 애니악 생일)를 기준으로 흘러간 밀리sec"
   ]
  },
  {
   "cell_type": "code",
   "execution_count": 21,
   "metadata": {},
   "outputs": [
    {
     "name": "stdout",
     "output_type": "stream",
     "text": [
      "10\n",
      "90\n",
      "46\n",
      "80\n"
     ]
    }
   ],
   "source": [
    "# break/continue\n",
    "# continue 다시 올라감\n",
    "# break 중단\n",
    "numbers = [10, 5, 6, 90, 46, 80, 4, 3, 1]\n",
    "for i in numbers:\n",
    "    if i <10:\n",
    "        continue\n",
    "    print(i)"
   ]
  },
  {
   "cell_type": "code",
   "execution_count": 22,
   "metadata": {},
   "outputs": [],
   "source": [
    "# list 기본함수\n",
    "#min(), max(), sum()\n",
    "#reversed()\n",
    "#enumerate()\n",
    "arr = [\"A\", \"B\", \"C\"]"
   ]
  },
  {
   "cell_type": "code",
   "execution_count": 25,
   "metadata": {},
   "outputs": [
    {
     "name": "stdout",
     "output_type": "stream",
     "text": [
      "0번째 요소는 A\n",
      "1번째 요소는 B\n",
      "2번째 요소는 C\n"
     ]
    }
   ],
   "source": [
    "for i,v in enumerate(arr):\n",
    "    print(\"{}번째 요소는 {}\".format(i, v))"
   ]
  },
  {
   "cell_type": "code",
   "execution_count": 27,
   "metadata": {},
   "outputs": [
    {
     "name": "stdout",
     "output_type": "stream",
     "text": [
      "1번째로 좋아하는 맛은 choco이다.\n",
      "2번째로 좋아하는 맛은 strawberry이다.\n",
      "3번째로 좋아하는 맛은 vanila이다.\n"
     ]
    }
   ],
   "source": [
    "icecream = ['choco', 'strawberry', 'vanila']\n",
    "for i,v in enumerate(icecream, 1): #1부터 시작\n",
    "    print(\"{}번째로 좋아하는 맛은 {}이다.\".format(i,v))"
   ]
  },
  {
   "cell_type": "code",
   "execution_count": 28,
   "metadata": {},
   "outputs": [],
   "source": [
    "#dictionary items()\n",
    "dic = {\"key A\":\"val A\",\"key B\":\"val B\",\"key C\":\"val C\"}"
   ]
  },
  {
   "cell_type": "code",
   "execution_count": 29,
   "metadata": {},
   "outputs": [
    {
     "data": {
      "text/plain": [
       "{'key A': 'val A', 'key B': 'val B', 'key C': 'val C'}"
      ]
     },
     "execution_count": 29,
     "metadata": {},
     "output_type": "execute_result"
    }
   ],
   "source": [
    "dic"
   ]
  },
  {
   "cell_type": "code",
   "execution_count": 30,
   "metadata": {},
   "outputs": [
    {
     "data": {
      "text/plain": [
       "dict_items([('key A', 'val A'), ('key B', 'val B'), ('key C', 'val C')])"
      ]
     },
     "execution_count": 30,
     "metadata": {},
     "output_type": "execute_result"
    }
   ],
   "source": [
    "dic.items()\n",
    "#[('key A', 'val A'), ('key B', 'val B'), ('key C', 'val C')]\n",
    "#list안에 tuple이 있음. tuple이 키와 값의 쌍으로 이루어져 있음"
   ]
  },
  {
   "cell_type": "code",
   "execution_count": 31,
   "metadata": {},
   "outputs": [
    {
     "name": "stdout",
     "output_type": "stream",
     "text": [
      "dic[key A]=val A\n",
      "dic[key B]=val B\n",
      "dic[key C]=val C\n"
     ]
    }
   ],
   "source": [
    "for k, v in dic.items():\n",
    "    print(\"dic[{}]={}\".format(k,v))"
   ]
  },
  {
   "cell_type": "code",
   "execution_count": 34,
   "metadata": {},
   "outputs": [
    {
     "name": "stdout",
     "output_type": "stream",
     "text": [
      "[0, 2, 4, 6, 8, 10, 12, 14, 16, 18]\n",
      "[0, 4, 16, 36, 64, 100, 144, 196, 256, 324]\n"
     ]
    }
   ],
   "source": [
    "# 0~19 중의 짝수들의 제곱한 리스트\n",
    "arr = []\n",
    "for i in range(0,20,2):\n",
    "    res = i*i\n",
    "    arr.append(res) #또는 i**2\n",
    "print(list(range(0,20,2)))\n",
    "print(arr)"
   ]
  },
  {
   "cell_type": "code",
   "execution_count": 35,
   "metadata": {},
   "outputs": [
    {
     "name": "stdout",
     "output_type": "stream",
     "text": [
      "[0, 4, 16, 36, 64, 100, 144, 196, 256, 324]\n"
     ]
    }
   ],
   "source": [
    "# list 표현식\n",
    "arr = [i**2 for i in range(0,20,2)]\n",
    "print(arr)"
   ]
  },
  {
   "cell_type": "code",
   "execution_count": null,
   "metadata": {},
   "outputs": [],
   "source": []
  }
 ],
 "metadata": {
  "kernelspec": {
   "display_name": "Python 3",
   "language": "python",
   "name": "python3"
  },
  "language_info": {
   "codemirror_mode": {
    "name": "ipython",
    "version": 3
   },
   "file_extension": ".py",
   "mimetype": "text/x-python",
   "name": "python",
   "nbconvert_exporter": "python",
   "pygments_lexer": "ipython3",
   "version": "3.7.7"
  }
 },
 "nbformat": 4,
 "nbformat_minor": 4
}
