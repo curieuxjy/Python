{
 "cells": [
  {
   "cell_type": "code",
   "execution_count": 2,
   "metadata": {},
   "outputs": [
    {
     "name": "stdout",
     "output_type": "stream",
     "text": [
      "3\n",
      "2\n"
     ]
    }
   ],
   "source": [
    "#module\n",
    "#math module\n",
    "import math\n",
    "print(math.ceil(2.5))\n",
    "print(math.floor(2.5))"
   ]
  },
  {
   "cell_type": "code",
   "execution_count": 12,
   "metadata": {},
   "outputs": [],
   "source": [
    "#from (module) import (var/func)\n",
    "from math import sin, cos, tan, floor, ceil, pi"
   ]
  },
  {
   "cell_type": "code",
   "execution_count": 7,
   "metadata": {},
   "outputs": [
    {
     "data": {
      "text/plain": [
       "1"
      ]
     },
     "execution_count": 7,
     "metadata": {},
     "output_type": "execute_result"
    }
   ],
   "source": [
    "floor(1.5)"
   ]
  },
  {
   "cell_type": "code",
   "execution_count": 8,
   "metadata": {},
   "outputs": [
    {
     "data": {
      "text/plain": [
       "-0.9880316240928618"
      ]
     },
     "execution_count": 8,
     "metadata": {},
     "output_type": "execute_result"
    }
   ],
   "source": [
    "sin(30)"
   ]
  },
  {
   "cell_type": "code",
   "execution_count": 10,
   "metadata": {},
   "outputs": [
    {
     "data": {
      "text/plain": [
       "-1.0"
      ]
     },
     "execution_count": 10,
     "metadata": {},
     "output_type": "execute_result"
    }
   ],
   "source": [
    "cos(pi)"
   ]
  },
  {
   "cell_type": "code",
   "execution_count": 11,
   "metadata": {},
   "outputs": [
    {
     "name": "stdout",
     "output_type": "stream",
     "text": [
      "hello\n"
     ]
    }
   ],
   "source": [
    "def floor(a):\n",
    "    return \"hello\"\n",
    "print(floor(1.5))\n",
    "#선언 순서에 따라 함수가 의도한 대로 실행되지 않을 수 있음\n",
    "# 그냥 이름을 겹치게 선언하지 말자"
   ]
  },
  {
   "cell_type": "code",
   "execution_count": 13,
   "metadata": {},
   "outputs": [
    {
     "name": "stdout",
     "output_type": "stream",
     "text": [
      "1\n"
     ]
    }
   ],
   "source": [
    "print(floor(1.5))"
   ]
  },
  {
   "cell_type": "code",
   "execution_count": 14,
   "metadata": {},
   "outputs": [
    {
     "data": {
      "text/plain": [
       "1.5574077246549023"
      ]
     },
     "execution_count": 14,
     "metadata": {},
     "output_type": "execute_result"
    }
   ],
   "source": [
    "# as\n",
    "#import (module) as (사용하고 싶은 식별자)\n",
    "#python이 수치계산이 느려서 numpy를 이용\n",
    "#numpy가 c++로 구성되어 있음\n",
    "import math as m\n",
    "m.tan(1)"
   ]
  },
  {
   "cell_type": "code",
   "execution_count": 15,
   "metadata": {},
   "outputs": [],
   "source": [
    "import pandas as pd\n",
    "import numpy as np"
   ]
  },
  {
   "cell_type": "code",
   "execution_count": 16,
   "metadata": {},
   "outputs": [],
   "source": [
    "#random 모듈\n",
    "import random"
   ]
  },
  {
   "cell_type": "code",
   "execution_count": 23,
   "metadata": {},
   "outputs": [
    {
     "name": "stdout",
     "output_type": "stream",
     "text": [
      "14.783658950526988\n",
      "1\n",
      "1\n",
      "0.6580169777091379\n"
     ]
    }
   ],
   "source": [
    "#whos\n",
    "#application program interface API\n",
    "print(random.uniform(10,20)) #균일하게 난수를 발생시킨다\n",
    "print(random.randrange(5)) #int\n",
    "print(random.randrange(0,5)) #int\n",
    "#정규분포로 발생시킬 수도 있음\n",
    "print(random.gauss(0,1))\n",
    "# choice 여러개 중에 하나 선택\n",
    "# seed, shuffle\n",
    "# 시험볼 때 numpy 못씀..?!"
   ]
  },
  {
   "cell_type": "code",
   "execution_count": 28,
   "metadata": {},
   "outputs": [
    {
     "data": {
      "text/plain": [
       "0.5311191268851756"
      ]
     },
     "execution_count": 28,
     "metadata": {},
     "output_type": "execute_result"
    }
   ],
   "source": [
    "random.random()"
   ]
  },
  {
   "cell_type": "code",
   "execution_count": 31,
   "metadata": {},
   "outputs": [
    {
     "data": {
      "text/plain": [
       "0.5311191268851756"
      ]
     },
     "execution_count": 31,
     "metadata": {},
     "output_type": "execute_result"
    }
   ],
   "source": [
    "random.seed(1021)\n",
    "random.random() #같은 값이 계속 나옴\n",
    "# ctrl+enter 현재 셀 실행 이동 안함\n",
    "#shift + enter 실행 후 다음셀로"
   ]
  },
  {
   "cell_type": "code",
   "execution_count": 33,
   "metadata": {},
   "outputs": [
    {
     "data": {
      "text/plain": [
       "12.455878177193258"
      ]
     },
     "execution_count": 33,
     "metadata": {},
     "output_type": "execute_result"
    }
   ],
   "source": [
    "random.uniform(10,20)"
   ]
  },
  {
   "cell_type": "code",
   "execution_count": 34,
   "metadata": {},
   "outputs": [
    {
     "data": {
      "text/plain": [
       "4"
      ]
     },
     "execution_count": 34,
     "metadata": {},
     "output_type": "execute_result"
    }
   ],
   "source": [
    "random.randrange(10)"
   ]
  },
  {
   "cell_type": "code",
   "execution_count": 35,
   "metadata": {},
   "outputs": [],
   "source": [
    "#random.sample을 하지 않고 랜덤 생성\n",
    "#set\n",
    "#중복 없고 순서 (애매)\n",
    "s1 = set()"
   ]
  },
  {
   "cell_type": "code",
   "execution_count": 36,
   "metadata": {},
   "outputs": [
    {
     "data": {
      "text/plain": [
       "set()"
      ]
     },
     "execution_count": 36,
     "metadata": {},
     "output_type": "execute_result"
    }
   ],
   "source": [
    "s1"
   ]
  },
  {
   "cell_type": "code",
   "execution_count": 37,
   "metadata": {},
   "outputs": [
    {
     "data": {
      "text/plain": [
       "set"
      ]
     },
     "execution_count": 37,
     "metadata": {},
     "output_type": "execute_result"
    }
   ],
   "source": [
    "type(s1)"
   ]
  },
  {
   "cell_type": "code",
   "execution_count": 40,
   "metadata": {},
   "outputs": [],
   "source": [
    "s2 = set([6,1,2,3,1,2,5])"
   ]
  },
  {
   "cell_type": "code",
   "execution_count": 41,
   "metadata": {},
   "outputs": [
    {
     "data": {
      "text/plain": [
       "{1, 2, 3, 5, 6}"
      ]
     },
     "execution_count": 41,
     "metadata": {},
     "output_type": "execute_result"
    }
   ],
   "source": [
    "s2"
   ]
  },
  {
   "cell_type": "code",
   "execution_count": 42,
   "metadata": {},
   "outputs": [
    {
     "data": {
      "text/plain": [
       "{22, 27, 28, 35, 39, 44}"
      ]
     },
     "execution_count": 42,
     "metadata": {},
     "output_type": "execute_result"
    }
   ],
   "source": [
    "s3 = set() #비어있는 set을 만듦\n",
    "while len(s3)<6: #6개를 채우면 loop 빠져나옴\n",
    "    s3.add(random.randrange(1, 45)) #1~45사이의 난수 발생\n",
    "s3 #3.7에서는 정렬까지 해줌"
   ]
  },
  {
   "cell_type": "code",
   "execution_count": 43,
   "metadata": {},
   "outputs": [
    {
     "data": {
      "text/plain": [
       "1"
      ]
     },
     "execution_count": 43,
     "metadata": {},
     "output_type": "execute_result"
    }
   ],
   "source": [
    "arr = [1,2,3,4,5]\n",
    "random.choice(arr)"
   ]
  },
  {
   "cell_type": "code",
   "execution_count": 44,
   "metadata": {},
   "outputs": [],
   "source": [
    "random.shuffle(arr) #arr자체가 변경됨"
   ]
  },
  {
   "cell_type": "code",
   "execution_count": 45,
   "metadata": {},
   "outputs": [
    {
     "data": {
      "text/plain": [
       "[3, 5, 2, 4, 1]"
      ]
     },
     "execution_count": 45,
     "metadata": {},
     "output_type": "execute_result"
    }
   ],
   "source": [
    "arr"
   ]
  },
  {
   "cell_type": "code",
   "execution_count": 46,
   "metadata": {},
   "outputs": [
    {
     "data": {
      "text/plain": [
       "[28, 43, 38, 2, 21, 1]"
      ]
     },
     "execution_count": 46,
     "metadata": {},
     "output_type": "execute_result"
    }
   ],
   "source": [
    "random.sample(range(1,45+1), 6)"
   ]
  },
  {
   "cell_type": "code",
   "execution_count": 47,
   "metadata": {},
   "outputs": [],
   "source": [
    "from random import random,randrange, choice"
   ]
  },
  {
   "cell_type": "code",
   "execution_count": 48,
   "metadata": {},
   "outputs": [
    {
     "data": {
      "text/plain": [
       "'D:\\\\GitHub\\\\python_study\\\\SW_coding\\\\07.07'"
      ]
     },
     "execution_count": 48,
     "metadata": {},
     "output_type": "execute_result"
    }
   ],
   "source": [
    "#os\n",
    "import os\n",
    "os.getcwd()"
   ]
  },
  {
   "cell_type": "code",
   "execution_count": 49,
   "metadata": {},
   "outputs": [
    {
     "data": {
      "text/plain": [
       "['.ipynb_checkpoints', '07.07.ipynb']"
      ]
     },
     "execution_count": 49,
     "metadata": {},
     "output_type": "execute_result"
    }
   ],
   "source": [
    "os.listdir()"
   ]
  },
  {
   "cell_type": "code",
   "execution_count": 50,
   "metadata": {},
   "outputs": [],
   "source": [
    "os.mkdir(\"hello\")"
   ]
  },
  {
   "cell_type": "code",
   "execution_count": 52,
   "metadata": {},
   "outputs": [],
   "source": [
    "os.rmdir(\"hello\")"
   ]
  },
  {
   "cell_type": "code",
   "execution_count": 55,
   "metadata": {},
   "outputs": [
    {
     "name": "stdout",
     "output_type": "stream",
     "text": [
      "win32\n",
      "윈도우즈\n"
     ]
    }
   ],
   "source": [
    "import sys\n",
    "print(sys.platform)\n",
    "if sys.platform == 'win32':\n",
    "    print(\"윈도우즈\") #matplotlib 글꼴 설정\n",
    "elif sys.platform == 'Darwin':\n",
    "    print(\"Mac\")\n",
    "else:\n",
    "    print(\"Linux\")"
   ]
  },
  {
   "cell_type": "code",
   "execution_count": 56,
   "metadata": {},
   "outputs": [
    {
     "data": {
      "text/plain": [
       "'nt'"
      ]
     },
     "execution_count": 56,
     "metadata": {},
     "output_type": "execute_result"
    }
   ],
   "source": [
    "import os\n",
    "os.name #nt = new technology"
   ]
  },
  {
   "cell_type": "code",
   "execution_count": 57,
   "metadata": {},
   "outputs": [],
   "source": [
    "#datatime module\n",
    "import datetime\n",
    "now = datetime.datetime.now()"
   ]
  },
  {
   "cell_type": "code",
   "execution_count": 58,
   "metadata": {},
   "outputs": [
    {
     "data": {
      "text/plain": [
       "datetime.datetime(2020, 7, 7, 10, 13, 33, 182609)"
      ]
     },
     "execution_count": 58,
     "metadata": {},
     "output_type": "execute_result"
    }
   ],
   "source": [
    "now"
   ]
  },
  {
   "cell_type": "code",
   "execution_count": 59,
   "metadata": {},
   "outputs": [],
   "source": [
    "output = now.replace(year=(now.year+1))"
   ]
  },
  {
   "cell_type": "code",
   "execution_count": 60,
   "metadata": {},
   "outputs": [
    {
     "data": {
      "text/plain": [
       "datetime.datetime(2021, 7, 7, 10, 13, 33, 182609)"
      ]
     },
     "execution_count": 60,
     "metadata": {},
     "output_type": "execute_result"
    }
   ],
   "source": [
    "output"
   ]
  },
  {
   "cell_type": "code",
   "execution_count": 62,
   "metadata": {},
   "outputs": [
    {
     "name": "stdout",
     "output_type": "stream",
     "text": [
      "start\n",
      "end\n"
     ]
    }
   ],
   "source": [
    "#time module\n",
    "# web site를 크롤링할때 request가 너무 많이 들어오게되면 무리가 될 수 있음\n",
    "# thread 동시에 여러작업 하는 것\n",
    "# 쓰레드 별 sleep를 해서 여유를 줘야 다음 쓰레드가 작동할 수 있음\n",
    "#cpu는 멀티쓰레드가 좋음/cpu는 시분할로 작업을 하기 때문에\n",
    "#io base는 멀티 쓰레드가 안좋음\n",
    "import time\n",
    "print(\"start\")\n",
    "time.sleep(2) #2sec delay\n",
    "print(\"end\")"
   ]
  },
  {
   "cell_type": "code",
   "execution_count": 63,
   "metadata": {},
   "outputs": [],
   "source": [
    "#urllib module"
   ]
  },
  {
   "cell_type": "code",
   "execution_count": 64,
   "metadata": {},
   "outputs": [],
   "source": [
    "#외부 모듈\n",
    "#internet에 연결되어야 함\n",
    "#cmd에서 실행\n",
    "#pip install (module)\n",
    "# pip install BeautifulSoup4\n",
    "import bs4"
   ]
  },
  {
   "cell_type": "code",
   "execution_count": 68,
   "metadata": {},
   "outputs": [],
   "source": [
    "# website\n",
    "#django(다양한 기능 제공)/flask(micro management)\n",
    "#flask 추천(빨리 익힐 수 있음)"
   ]
  },
  {
   "cell_type": "code",
   "execution_count": null,
   "metadata": {},
   "outputs": [],
   "source": [
    "# pip install flask"
   ]
  },
  {
   "cell_type": "code",
   "execution_count": null,
   "metadata": {},
   "outputs": [],
   "source": [
    "from flask import Flask\n",
    "app = Flask(__name__)\n",
    "\n",
    "#decorator\n",
    "@app.route(\"/\")\n",
    "def hello():\n",
    "    return \"<h1>Hello World!</h1>\""
   ]
  },
  {
   "cell_type": "code",
   "execution_count": 70,
   "metadata": {},
   "outputs": [],
   "source": [
    "#라이브러리 -> 공구상자\n",
    "#프레임워크 -> 포크레인\n",
    "#제어 역전"
   ]
  },
  {
   "cell_type": "code",
   "execution_count": 71,
   "metadata": {},
   "outputs": [],
   "source": [
    "#모듈 만들기\n",
    "os.mkdir(\"module_basic\")"
   ]
  },
  {
   "cell_type": "code",
   "execution_count": 72,
   "metadata": {},
   "outputs": [],
   "source": [
    "# __init__.py 패키지의 처음 파일이라는 약속\n",
    "#package pass"
   ]
  },
  {
   "cell_type": "code",
   "execution_count": 73,
   "metadata": {},
   "outputs": [],
   "source": [
    "#텍스트 데이터\n",
    "# 바이너리 데이터"
   ]
  },
  {
   "cell_type": "code",
   "execution_count": null,
   "metadata": {},
   "outputs": [],
   "source": [
    "# 소수 찾기\n",
    "def solution(n):\n",
    "    # 에라토스테네스의 체\n",
    "    nums = set(range(2,n+1)) #input 이하의 숫자들의 set\n",
    "    for i in range(2,n+1): #소수 판단 loop\n",
    "        if i in nums:\n",
    "            nums -= set(range(2*i, n+1, i)) #step으로 배수 제거 \n",
    "            #range(start, end, step) \n",
    "    answer = len(nums)\n",
    "    return answer"
   ]
  },
  {
   "cell_type": "code",
   "execution_count": null,
   "metadata": {},
   "outputs": [],
   "source": [
    "def isPrime(n):\n",
    "    if n <= 1:\n",
    "        return False\n",
    "    for x in range(2,n):\n",
    "        if n % x == 0:\n",
    "            return False\n",
    "    return True\n",
    "\n",
    "def numberOfPrime(n):\n",
    "    # 1부터 n사이의 소수는 몇 개인가요?\n",
    "    if n == 1:\n",
    "        return 0\n",
    "    elif n == 2:\n",
    "        return 1\n",
    "    else:\n",
    "        return isPrime(n) + numberOfPrime(n-1)\n",
    "    \n",
    "print(numberOfPrime(5))"
   ]
  },
  {
   "cell_type": "code",
   "execution_count": null,
   "metadata": {},
   "outputs": [],
   "source": [
    "def numberOfPrime(n):\n",
    "    sum = 0 #정답 default\n",
    "    s = 0 #\n",
    "    for i in range(2,n+1): #소수 loop\n",
    "        for j in range(2,i):\n",
    "            if i % j == 0:\n",
    "                s += 1\n",
    "        if s == 0:\n",
    "            sum += 1\n",
    "        s = 0\n",
    "    return sum"
   ]
  },
  {
   "cell_type": "code",
   "execution_count": null,
   "metadata": {},
   "outputs": [],
   "source": [
    "def numberOfPrime(n):\n",
    "    '''https://stackoverflow.com/questions/3939660/sieve-of-eratosthenes-finding-primes-python'''\n",
    "    sieve = [True]*(n+1)\n",
    "    sieve[0] = sieve[1] = False\n",
    "    num = 0\n",
    "    \n",
    "    for i, isprime in enumerate(sieve):\n",
    "        if isprime:\n",
    "            num += 1\n",
    "            for j in range(i*i, n+1, i):\n",
    "                sieve[j] = False\n",
    "                \n",
    "    return num"
   ]
  },
  {
   "cell_type": "code",
   "execution_count": null,
   "metadata": {},
   "outputs": [],
   "source": [
    "def numberOfPrime(n):\n",
    "    return len([i for i in range(2, n + 1) if len([True for j in range(1, i) if i % j == 0]) == 1])"
   ]
  },
  {
   "cell_type": "code",
   "execution_count": 74,
   "metadata": {},
   "outputs": [],
   "source": [
    "#Class - oop object oriented programming\n",
    "#object는 속성과 행동으로 이루어져 있음\n",
    "#속성->명사, 행동->동사\n",
    "#클래스는 변수와 메소드로 이루어짐\n",
    "# 객체\n",
    "class Student:\n",
    "    pass"
   ]
  },
  {
   "cell_type": "code",
   "execution_count": 75,
   "metadata": {},
   "outputs": [],
   "source": [
    "Student = Student()"
   ]
  },
  {
   "cell_type": "code",
   "execution_count": 78,
   "metadata": {},
   "outputs": [],
   "source": [
    "students = [\n",
    "    Student,\n",
    "    Student,\n",
    "    Student,\n",
    "    Student,\n",
    "    Student,\n",
    "    Student\n",
    "]"
   ]
  },
  {
   "cell_type": "code",
   "execution_count": 79,
   "metadata": {},
   "outputs": [
    {
     "data": {
      "text/plain": [
       "[<__main__.Student at 0x2116c297188>,\n",
       " <__main__.Student at 0x2116c297188>,\n",
       " <__main__.Student at 0x2116c297188>,\n",
       " <__main__.Student at 0x2116c297188>,\n",
       " <__main__.Student at 0x2116c297188>,\n",
       " <__main__.Student at 0x2116c297188>]"
      ]
     },
     "execution_count": 79,
     "metadata": {},
     "output_type": "execute_result"
    }
   ],
   "source": [
    "students"
   ]
  },
  {
   "cell_type": "code",
   "execution_count": 80,
   "metadata": {},
   "outputs": [],
   "source": [
    "# 생성자\n",
    "# class Name:\n",
    "#     def __init__(self, args):\n",
    "#         pass\n",
    "#self가 항상 먼저 들어가야함\n",
    "#자기자신을 나타내는 딕셔너리\n",
    "#self.식별자로 접근\n",
    "class Student: \n",
    "    #생성자(생성하는 함수) 선언\n",
    "    def __init__(self, name, korean, math, english, science): \n",
    "        self.name = name\n",
    "        self.korean = korean\n",
    "        self.math = math\n",
    "        self.english = english\n",
    "        self.science = science\n",
    "        "
   ]
  },
  {
   "cell_type": "code",
   "execution_count": 85,
   "metadata": {},
   "outputs": [],
   "source": [
    "# 사용하는 코드: 생성자는 클래스와 이름이 같은 형태로 사용\n",
    "students = [\n",
    "    Student(\"홍길동\", 87, 98, 88, 95),\n",
    "    Student(\"홍길순\", 87, 10, 88, 95),\n",
    "    Student(\"홍길자\", 87, 98, 88, 95),\n",
    "    Student(\"홍길철\", 87, 98, 88, 95),\n",
    "    Student(\"홍길민\", 87, 98, 88, 95),\n",
    "    Student(\"홍길연\", 87, 98, 88, 95)\n",
    "]"
   ]
  },
  {
   "cell_type": "code",
   "execution_count": 86,
   "metadata": {},
   "outputs": [
    {
     "data": {
      "text/plain": [
       "<__main__.Student at 0x2116c26bc88>"
      ]
     },
     "execution_count": 86,
     "metadata": {},
     "output_type": "execute_result"
    }
   ],
   "source": [
    "students[0]"
   ]
  },
  {
   "cell_type": "code",
   "execution_count": 87,
   "metadata": {},
   "outputs": [
    {
     "data": {
      "text/plain": [
       "'홍길동'"
      ]
     },
     "execution_count": 87,
     "metadata": {},
     "output_type": "execute_result"
    }
   ],
   "source": [
    "students[0].name"
   ]
  },
  {
   "cell_type": "code",
   "execution_count": 88,
   "metadata": {},
   "outputs": [
    {
     "data": {
      "text/plain": [
       "10"
      ]
     },
     "execution_count": 88,
     "metadata": {},
     "output_type": "execute_result"
    }
   ],
   "source": [
    "students[1].math"
   ]
  },
  {
   "cell_type": "code",
   "execution_count": 93,
   "metadata": {},
   "outputs": [],
   "source": [
    "#method\n",
    "#class안의 def\n",
    "class Student: \n",
    "    #생성자(생성하는 함수) 선언 #객체를 생성하는 특별한 메소드\n",
    "    def __init__(self, name, korean, math, english, science): \n",
    "        self.name = name\n",
    "        self.korean = korean\n",
    "        self.math = math\n",
    "        self.english = english\n",
    "        self.science = science\n",
    "    def get_sum(self):\n",
    "        return self.korean + self.math + self.english + self.science\n",
    "    def get_average(self):\n",
    "        #self가 있으면 method\n",
    "        #self가 없으면 function\n",
    "        #파이썬은 함수형/객체지향형을 다 지원하고 있음\n",
    "        return self.get_sum()/4\n",
    "    def to_string(self):\n",
    "        return \"{}\\t{}\\t{}\".format(self.name, self.get_sum(), self.get_average()) #함수()"
   ]
  },
  {
   "cell_type": "code",
   "execution_count": 94,
   "metadata": {},
   "outputs": [],
   "source": [
    "students = [\n",
    "    Student(\"홍길동\", 87, 98, 20, 95),\n",
    "    Student(\"홍길순\", 77, 10, 88, 95),\n",
    "    Student(\"홍길자\", 87, 98, 88, 95),\n",
    "    Student(\"홍길철\", 87, 98, 85, 66),\n",
    "    Student(\"홍길민\", 87, 98, 88, 95),\n",
    "    Student(\"홍길연\", 33, 98, 44, 95)\n",
    "]"
   ]
  },
  {
   "cell_type": "code",
   "execution_count": 95,
   "metadata": {},
   "outputs": [
    {
     "name": "stdout",
     "output_type": "stream",
     "text": [
      "이름\t0총점\t0평균\n"
     ]
    }
   ],
   "source": [
    "print(\"이름\", \"총점\", '평균', sep=\"\\t0\")"
   ]
  },
  {
   "cell_type": "code",
   "execution_count": 96,
   "metadata": {},
   "outputs": [
    {
     "name": "stdout",
     "output_type": "stream",
     "text": [
      "홍길동\t300\t75.0\n",
      "홍길순\t270\t67.5\n",
      "홍길자\t368\t92.0\n",
      "홍길철\t336\t84.0\n",
      "홍길민\t368\t92.0\n",
      "홍길연\t270\t67.5\n"
     ]
    }
   ],
   "source": [
    "for s in students:\n",
    "    print(s.to_string())"
   ]
  },
  {
   "cell_type": "code",
   "execution_count": 97,
   "metadata": {},
   "outputs": [],
   "source": [
    "#객체지향 3요소\n",
    "#1. 상속\n",
    "#2. 캡슐화: class\n",
    "#3. 다형성"
   ]
  },
  {
   "cell_type": "code",
   "execution_count": 100,
   "metadata": {},
   "outputs": [],
   "source": [
    "#혼합형 자료구조\n",
    "wordlist = [\"city\", \"beauty\", \"acquire\", \"before\", \"better\", \"acknowledge\",\n",
    "           \"character\", \"adapt\", \"admission\", \"chemical\", \"background\", \"change\", \"choice\"]\n",
    "first_letters = []\n",
    "answer = {}\n",
    "for i in wordlist:\n",
    "    first = i[0]\n",
    "    if not(first in first_letters):\n",
    "        first_letters.append(first)\n",
    "        answer[first] = []\n",
    "    answer[first].append(i)"
   ]
  },
  {
   "cell_type": "code",
   "execution_count": 98,
   "metadata": {},
   "outputs": [],
   "source": [
    "# s1 =\"test\"\n",
    "# s1[0] #'t'"
   ]
  },
  {
   "cell_type": "code",
   "execution_count": 101,
   "metadata": {},
   "outputs": [
    {
     "data": {
      "text/plain": [
       "{'c': ['city', 'character', 'chemical', 'change', 'choice'],\n",
       " 'b': ['beauty', 'before', 'better', 'background'],\n",
       " 'a': ['acquire', 'acknowledge', 'adapt', 'admission']}"
      ]
     },
     "execution_count": 101,
     "metadata": {},
     "output_type": "execute_result"
    }
   ],
   "source": [
    "answer"
   ]
  },
  {
   "cell_type": "code",
   "execution_count": 107,
   "metadata": {},
   "outputs": [],
   "source": [
    "word_dict = {}\n",
    "for word in wordlist:\n",
    "    if word[0] in word_dict.keys():\n",
    "        word_dict[word[0]].append(word)\n",
    "    else:\n",
    "        word_dict[word[0]] = [word]"
   ]
  },
  {
   "cell_type": "code",
   "execution_count": 108,
   "metadata": {},
   "outputs": [
    {
     "data": {
      "text/plain": [
       "{'c': ['city', 'character', 'chemical', 'change', 'choice'],\n",
       " 'b': ['beauty', 'before', 'better', 'background'],\n",
       " 'a': ['acquire', 'acknowledge', 'adapt', 'admission']}"
      ]
     },
     "execution_count": 108,
     "metadata": {},
     "output_type": "execute_result"
    }
   ],
   "source": [
    "word_dict"
   ]
  },
  {
   "cell_type": "code",
   "execution_count": 109,
   "metadata": {},
   "outputs": [
    {
     "data": {
      "text/plain": [
       "True"
      ]
     },
     "execution_count": 109,
     "metadata": {},
     "output_type": "execute_result"
    }
   ],
   "source": [
    "answer == word_dict"
   ]
  },
  {
   "cell_type": "code",
   "execution_count": 111,
   "metadata": {},
   "outputs": [
    {
     "data": {
      "text/plain": [
       "dict_keys(['c', 'b', 'a'])"
      ]
     },
     "execution_count": 111,
     "metadata": {},
     "output_type": "execute_result"
    }
   ],
   "source": [
    "answer.keys()"
   ]
  },
  {
   "cell_type": "code",
   "execution_count": 115,
   "metadata": {},
   "outputs": [
    {
     "name": "stdout",
     "output_type": "stream",
     "text": [
      "a로 시작하는 단어 \n",
      " acquire acknowledge adapt admission\n",
      "b로 시작하는 단어 \n",
      " beauty before better background\n",
      "c로 시작하는 단어 \n",
      " city character chemical change choice\n"
     ]
    }
   ],
   "source": [
    "for k,v in sorted(answer.items()):\n",
    "    print(\"{}로 시작하는 단어\".format(k), \"\\n\", \" \".join(v))"
   ]
  },
  {
   "cell_type": "code",
   "execution_count": null,
   "metadata": {},
   "outputs": [],
   "source": []
  }
 ],
 "metadata": {
  "kernelspec": {
   "display_name": "Python 3",
   "language": "python",
   "name": "python3"
  },
  "language_info": {
   "codemirror_mode": {
    "name": "ipython",
    "version": 3
   },
   "file_extension": ".py",
   "mimetype": "text/x-python",
   "name": "python",
   "nbconvert_exporter": "python",
   "pygments_lexer": "ipython3",
   "version": "3.7.4"
  }
 },
 "nbformat": 4,
 "nbformat_minor": 4
}
