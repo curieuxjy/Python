{
 "cells": [
  {
   "cell_type": "code",
   "execution_count": null,
   "id": "convenient-allergy",
   "metadata": {},
   "outputs": [],
   "source": [
    "# PROBLEM 1\n",
    "#\n",
    "# Modify the orbit function below to model\n",
    "# one revolution of the moon around the earth,\n",
    "# assuming that the orbit is circular.\n",
    "#\n",
    "# Use the math.cos(angle) and math.sin(angle) \n",
    "# functions in order to accomplish this.\n",
    "\n",
    "import math\n",
    "from udacityplots import *\n",
    "\n",
    "moon_distance = 384e6 # m\n",
    "\n",
    "def orbit():\n",
    "    num_steps = 50\n",
    "    x = numpy.zeros([num_steps + 1, 2])\n",
    "    \n",
    "    ###Your code here.\n",
    "\n",
    "    return x\n",
    "\n",
    "x = orbit()\n",
    "\n",
    "@show_plot\n",
    "def plot_me():\n",
    "    matplotlib.pyplot.axis('equal')\n",
    "    matplotlib.pyplot.plot(x[:, 0], x[:, 1])\n",
    "    axes = matplotlib.pyplot.gca()\n",
    "    axes.set_xlabel('Longitudinal position in m')\n",
    "    axes.set_ylabel('Lateral position in m')\n",
    "plot_me()\n",
    "\n"
   ]
  }
 ],
 "metadata": {
  "kernelspec": {
   "display_name": "Python 3",
   "language": "python",
   "name": "python3"
  },
  "language_info": {
   "codemirror_mode": {
    "name": "ipython",
    "version": 3
   },
   "file_extension": ".py",
   "mimetype": "text/x-python",
   "name": "python",
   "nbconvert_exporter": "python",
   "pygments_lexer": "ipython3",
   "version": "3.8.8"
  }
 },
 "nbformat": 4,
 "nbformat_minor": 5
}
